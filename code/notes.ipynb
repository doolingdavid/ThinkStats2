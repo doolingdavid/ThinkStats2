{
 "cells": [
  {
   "cell_type": "code",
   "execution_count": 1,
   "metadata": {
    "collapsed": false
   },
   "outputs": [],
   "source": [
    "import matplotlib.pyplot as plt\n",
    "import numpy as np\n",
    "import pandas as pd\n",
    "import matplotlib\n",
    "%matplotlib inline\n",
    "matplotlib.style.use('ggplot')"
   ]
  },
  {
   "cell_type": "code",
   "execution_count": 2,
   "metadata": {
    "collapsed": false
   },
   "outputs": [
    {
     "name": "stdout",
     "output_type": "stream",
     "text": [
      "(13593, 244)\n",
      "nsfg.py: All tests passed.\n"
     ]
    }
   ],
   "source": [
    "%run nsfg.py\n"
   ]
  },
  {
   "cell_type": "markdown",
   "metadata": {},
   "source": [
    "When working with this kind of data, it is imporatant to be famliar with the **codebook**, which document the design of the study, the survey questions, and the encoding of the responses. The codebook and user's guide for the NSFG data are available from http://www.cdc.gov/nchs/nsfg/nsfg_cycle6.htm"
   ]
  },
  {
   "cell_type": "code",
   "execution_count": null,
   "metadata": {
    "collapsed": false
   },
   "outputs": [],
   "source": [
    "# %load nsfg.py\n",
    "\"\"\"This file contains code for use with \"Think Stats\",\n",
    "by Allen B. Downey, available from greenteapress.com\n",
    "\n",
    "Copyright 2010 Allen B. Downey\n",
    "License: GNU GPLv3 http://www.gnu.org/licenses/gpl.html\n",
    "\"\"\"\n",
    "\n",
    "from __future__ import print_function\n",
    "\n",
    "from collections import defaultdict\n",
    "import numpy as np\n",
    "import sys\n",
    "\n",
    "import thinkstats2\n",
    "\n",
    "\n",
    "def ReadFemPreg(dct_file='2002FemPreg.dct',\n",
    "                dat_file='2002FemPreg.dat.gz'):\n",
    "    \"\"\"Reads the NSFG pregnancy data.\n",
    "\n",
    "    dct_file: string file name\n",
    "    dat_file: string file name\n",
    "\n",
    "    returns: DataFrame\n",
    "    \"\"\"\n",
    "    dct = thinkstats2.ReadStataDct(dct_file)\n",
    "    df = dct.ReadFixedWidth(dat_file, compression='gzip')\n",
    "    CleanFemPreg(df)\n",
    "    return df\n",
    "\n",
    "\n",
    "def CleanFemPreg(df):\n",
    "    \"\"\"Recodes variables from the pregnancy frame.\n",
    "\n",
    "    df: DataFrame\n",
    "    \"\"\"\n",
    "    # mother's age is encoded in centiyears; convert to years\n",
    "    df.agepreg /= 100.0\n",
    "\n",
    "    # birthwgt_lb contains at least one bogus value (51 lbs)\n",
    "    # replace with NaN\n",
    "    df.loc[df.birthwgt_lb > 20, 'birthwgt_lb'] = np.nan\n",
    "    \n",
    "    # replace 'not ascertained', 'refused', 'don't know' with NaN\n",
    "    na_vals = [97, 98, 99]\n",
    "    df.birthwgt_lb.replace(na_vals, np.nan, inplace=True)\n",
    "    df.birthwgt_oz.replace(na_vals, np.nan, inplace=True)\n",
    "    df.hpagelb.replace(na_vals, np.nan, inplace=True)\n",
    "\n",
    "    df.babysex.replace([7, 9], np.nan, inplace=True)\n",
    "    df.nbrnaliv.replace([9], np.nan, inplace=True)\n",
    "\n",
    "    # birthweight is stored in two columns, lbs and oz.\n",
    "    # convert to a single column in lb\n",
    "    # NOTE: creating a new column requires dictionary syntax,\n",
    "    # not attribute assignment (like df.totalwgt_lb)\n",
    "    df['totalwgt_lb'] = df.birthwgt_lb + df.birthwgt_oz / 16.0    \n",
    "\n",
    "    # due to a bug in ReadStataDct, the last variable gets clipped;\n",
    "    # so for now set it to NaN\n",
    "    df.cmintvw = np.nan\n",
    "\n",
    "\n",
    "def MakePregMap(df):\n",
    "    \"\"\"Make a map from caseid to list of preg indices.\n",
    "\n",
    "    df: DataFrame\n",
    "\n",
    "    returns: dict that maps from caseid to list of indices into preg df\n",
    "    \"\"\"\n",
    "    d = defaultdict(list)\n",
    "    for index, caseid in df.caseid.iteritems():\n",
    "        d[caseid].append(index)\n",
    "    return d\n",
    "\n",
    "\n",
    "def main(script):\n",
    "    \"\"\"Tests the functions in this module.\n",
    "\n",
    "    script: string script name\n",
    "    \"\"\"\n",
    "    df = ReadFemPreg()\n",
    "    print(df.shape)\n",
    "\n",
    "    assert len(df) == 13593\n",
    "\n",
    "    assert df.caseid[13592] == 12571\n",
    "    assert df.pregordr.value_counts()[1] == 5033\n",
    "    assert df.nbrnaliv.value_counts()[1] == 8981\n",
    "    assert df.babysex.value_counts()[1] == 4641\n",
    "    assert df.birthwgt_lb.value_counts()[7] == 3049\n",
    "    assert df.birthwgt_oz.value_counts()[0] == 1037\n",
    "    assert df.prglngth.value_counts()[39] == 4744\n",
    "    assert df.outcome.value_counts()[1] == 9148\n",
    "    assert df.birthord.value_counts()[1] == 4413\n",
    "    assert df.agepreg.value_counts()[22.75] == 100\n",
    "    assert df.totalwgt_lb.value_counts()[7.5] == 302\n",
    "\n",
    "    weights = df.finalwgt.value_counts()\n",
    "    key = max(weights.keys())\n",
    "    assert df.finalwgt.value_counts()[key] == 6\n",
    "\n",
    "    print('%s: All tests passed.' % script)\n",
    "\n",
    "if __name__ == '__main__':\n",
    "    main(*sys.argv)\n"
   ]
  },
  {
   "cell_type": "code",
   "execution_count": 5,
   "metadata": {
    "collapsed": true
   },
   "outputs": [],
   "source": [
    "import nsfg"
   ]
  },
  {
   "cell_type": "code",
   "execution_count": 6,
   "metadata": {
    "collapsed": true
   },
   "outputs": [],
   "source": [
    "df = nsfg.ReadFemPreg()"
   ]
  },
  {
   "cell_type": "code",
   "execution_count": 7,
   "metadata": {
    "collapsed": false
   },
   "outputs": [
    {
     "data": {
      "text/html": [
       "<div style=\"max-height:1000px;max-width:1500px;overflow:auto;\">\n",
       "<table border=\"1\" class=\"dataframe\">\n",
       "  <thead>\n",
       "    <tr style=\"text-align: right;\">\n",
       "      <th></th>\n",
       "      <th>caseid</th>\n",
       "      <th>pregordr</th>\n",
       "      <th>howpreg_n</th>\n",
       "      <th>howpreg_p</th>\n",
       "      <th>moscurrp</th>\n",
       "      <th>nowprgdk</th>\n",
       "      <th>pregend1</th>\n",
       "      <th>pregend2</th>\n",
       "      <th>nbrnaliv</th>\n",
       "      <th>multbrth</th>\n",
       "      <th>...</th>\n",
       "      <th>laborfor_i</th>\n",
       "      <th>religion_i</th>\n",
       "      <th>metro_i</th>\n",
       "      <th>basewgt</th>\n",
       "      <th>adj_mod_basewgt</th>\n",
       "      <th>finalwgt</th>\n",
       "      <th>secu_p</th>\n",
       "      <th>sest</th>\n",
       "      <th>cmintvw</th>\n",
       "      <th>totalwgt_lb</th>\n",
       "    </tr>\n",
       "  </thead>\n",
       "  <tbody>\n",
       "    <tr>\n",
       "      <th>0    </th>\n",
       "      <td>     1</td>\n",
       "      <td> 1</td>\n",
       "      <td>NaN</td>\n",
       "      <td>NaN</td>\n",
       "      <td>NaN</td>\n",
       "      <td>NaN</td>\n",
       "      <td>  6</td>\n",
       "      <td>NaN</td>\n",
       "      <td>  1</td>\n",
       "      <td>NaN</td>\n",
       "      <td>...</td>\n",
       "      <td> 0</td>\n",
       "      <td> 0</td>\n",
       "      <td> 0</td>\n",
       "      <td> 3410.389399</td>\n",
       "      <td> 3869.349602</td>\n",
       "      <td>  6448.271112</td>\n",
       "      <td> 2</td>\n",
       "      <td>  9</td>\n",
       "      <td>NaN</td>\n",
       "      <td> 8.8125</td>\n",
       "    </tr>\n",
       "    <tr>\n",
       "      <th>1    </th>\n",
       "      <td>     1</td>\n",
       "      <td> 2</td>\n",
       "      <td>NaN</td>\n",
       "      <td>NaN</td>\n",
       "      <td>NaN</td>\n",
       "      <td>NaN</td>\n",
       "      <td>  6</td>\n",
       "      <td>NaN</td>\n",
       "      <td>  1</td>\n",
       "      <td>NaN</td>\n",
       "      <td>...</td>\n",
       "      <td> 0</td>\n",
       "      <td> 0</td>\n",
       "      <td> 0</td>\n",
       "      <td> 3410.389399</td>\n",
       "      <td> 3869.349602</td>\n",
       "      <td>  6448.271112</td>\n",
       "      <td> 2</td>\n",
       "      <td>  9</td>\n",
       "      <td>NaN</td>\n",
       "      <td> 7.8750</td>\n",
       "    </tr>\n",
       "    <tr>\n",
       "      <th>2    </th>\n",
       "      <td>     2</td>\n",
       "      <td> 1</td>\n",
       "      <td>NaN</td>\n",
       "      <td>NaN</td>\n",
       "      <td>NaN</td>\n",
       "      <td>NaN</td>\n",
       "      <td>  5</td>\n",
       "      <td>NaN</td>\n",
       "      <td>  3</td>\n",
       "      <td>  5</td>\n",
       "      <td>...</td>\n",
       "      <td> 0</td>\n",
       "      <td> 0</td>\n",
       "      <td> 0</td>\n",
       "      <td> 7226.301740</td>\n",
       "      <td> 8567.549110</td>\n",
       "      <td> 12999.542264</td>\n",
       "      <td> 2</td>\n",
       "      <td> 12</td>\n",
       "      <td>NaN</td>\n",
       "      <td> 9.1250</td>\n",
       "    </tr>\n",
       "    <tr>\n",
       "      <th>3    </th>\n",
       "      <td>     2</td>\n",
       "      <td> 2</td>\n",
       "      <td>NaN</td>\n",
       "      <td>NaN</td>\n",
       "      <td>NaN</td>\n",
       "      <td>NaN</td>\n",
       "      <td>  6</td>\n",
       "      <td>NaN</td>\n",
       "      <td>  1</td>\n",
       "      <td>NaN</td>\n",
       "      <td>...</td>\n",
       "      <td> 0</td>\n",
       "      <td> 0</td>\n",
       "      <td> 0</td>\n",
       "      <td> 7226.301740</td>\n",
       "      <td> 8567.549110</td>\n",
       "      <td> 12999.542264</td>\n",
       "      <td> 2</td>\n",
       "      <td> 12</td>\n",
       "      <td>NaN</td>\n",
       "      <td> 7.0000</td>\n",
       "    </tr>\n",
       "    <tr>\n",
       "      <th>4    </th>\n",
       "      <td>     2</td>\n",
       "      <td> 3</td>\n",
       "      <td>NaN</td>\n",
       "      <td>NaN</td>\n",
       "      <td>NaN</td>\n",
       "      <td>NaN</td>\n",
       "      <td>  6</td>\n",
       "      <td>NaN</td>\n",
       "      <td>  1</td>\n",
       "      <td>NaN</td>\n",
       "      <td>...</td>\n",
       "      <td> 0</td>\n",
       "      <td> 0</td>\n",
       "      <td> 0</td>\n",
       "      <td> 7226.301740</td>\n",
       "      <td> 8567.549110</td>\n",
       "      <td> 12999.542264</td>\n",
       "      <td> 2</td>\n",
       "      <td> 12</td>\n",
       "      <td>NaN</td>\n",
       "      <td> 6.1875</td>\n",
       "    </tr>\n",
       "    <tr>\n",
       "      <th>5    </th>\n",
       "      <td>     6</td>\n",
       "      <td> 1</td>\n",
       "      <td>NaN</td>\n",
       "      <td>NaN</td>\n",
       "      <td>NaN</td>\n",
       "      <td>NaN</td>\n",
       "      <td>  6</td>\n",
       "      <td>NaN</td>\n",
       "      <td>  1</td>\n",
       "      <td>NaN</td>\n",
       "      <td>...</td>\n",
       "      <td> 0</td>\n",
       "      <td> 0</td>\n",
       "      <td> 0</td>\n",
       "      <td> 4870.926435</td>\n",
       "      <td> 5325.196999</td>\n",
       "      <td>  8874.440799</td>\n",
       "      <td> 1</td>\n",
       "      <td> 23</td>\n",
       "      <td>NaN</td>\n",
       "      <td> 8.5625</td>\n",
       "    </tr>\n",
       "    <tr>\n",
       "      <th>6    </th>\n",
       "      <td>     6</td>\n",
       "      <td> 2</td>\n",
       "      <td>NaN</td>\n",
       "      <td>NaN</td>\n",
       "      <td>NaN</td>\n",
       "      <td>NaN</td>\n",
       "      <td>  6</td>\n",
       "      <td>NaN</td>\n",
       "      <td>  1</td>\n",
       "      <td>NaN</td>\n",
       "      <td>...</td>\n",
       "      <td> 0</td>\n",
       "      <td> 0</td>\n",
       "      <td> 0</td>\n",
       "      <td> 4870.926435</td>\n",
       "      <td> 5325.196999</td>\n",
       "      <td>  8874.440799</td>\n",
       "      <td> 1</td>\n",
       "      <td> 23</td>\n",
       "      <td>NaN</td>\n",
       "      <td> 9.5625</td>\n",
       "    </tr>\n",
       "    <tr>\n",
       "      <th>7    </th>\n",
       "      <td>     6</td>\n",
       "      <td> 3</td>\n",
       "      <td>NaN</td>\n",
       "      <td>NaN</td>\n",
       "      <td>NaN</td>\n",
       "      <td>NaN</td>\n",
       "      <td>  6</td>\n",
       "      <td>NaN</td>\n",
       "      <td>  1</td>\n",
       "      <td>NaN</td>\n",
       "      <td>...</td>\n",
       "      <td> 0</td>\n",
       "      <td> 0</td>\n",
       "      <td> 0</td>\n",
       "      <td> 4870.926435</td>\n",
       "      <td> 5325.196999</td>\n",
       "      <td>  8874.440799</td>\n",
       "      <td> 1</td>\n",
       "      <td> 23</td>\n",
       "      <td>NaN</td>\n",
       "      <td> 8.3750</td>\n",
       "    </tr>\n",
       "    <tr>\n",
       "      <th>8    </th>\n",
       "      <td>     7</td>\n",
       "      <td> 1</td>\n",
       "      <td>NaN</td>\n",
       "      <td>NaN</td>\n",
       "      <td>NaN</td>\n",
       "      <td>NaN</td>\n",
       "      <td>  5</td>\n",
       "      <td>NaN</td>\n",
       "      <td>  1</td>\n",
       "      <td>NaN</td>\n",
       "      <td>...</td>\n",
       "      <td> 0</td>\n",
       "      <td> 0</td>\n",
       "      <td> 0</td>\n",
       "      <td> 3409.579565</td>\n",
       "      <td> 3787.539000</td>\n",
       "      <td>  6911.879921</td>\n",
       "      <td> 2</td>\n",
       "      <td> 14</td>\n",
       "      <td>NaN</td>\n",
       "      <td> 7.5625</td>\n",
       "    </tr>\n",
       "    <tr>\n",
       "      <th>9    </th>\n",
       "      <td>     7</td>\n",
       "      <td> 2</td>\n",
       "      <td>NaN</td>\n",
       "      <td>NaN</td>\n",
       "      <td>NaN</td>\n",
       "      <td>NaN</td>\n",
       "      <td>  5</td>\n",
       "      <td>NaN</td>\n",
       "      <td>  1</td>\n",
       "      <td>NaN</td>\n",
       "      <td>...</td>\n",
       "      <td> 0</td>\n",
       "      <td> 0</td>\n",
       "      <td> 0</td>\n",
       "      <td> 3409.579565</td>\n",
       "      <td> 3787.539000</td>\n",
       "      <td>  6911.879921</td>\n",
       "      <td> 2</td>\n",
       "      <td> 14</td>\n",
       "      <td>NaN</td>\n",
       "      <td> 6.6250</td>\n",
       "    </tr>\n",
       "    <tr>\n",
       "      <th>10   </th>\n",
       "      <td>    12</td>\n",
       "      <td> 1</td>\n",
       "      <td>NaN</td>\n",
       "      <td>NaN</td>\n",
       "      <td>NaN</td>\n",
       "      <td>NaN</td>\n",
       "      <td>  5</td>\n",
       "      <td>NaN</td>\n",
       "      <td>  1</td>\n",
       "      <td>NaN</td>\n",
       "      <td>...</td>\n",
       "      <td> 0</td>\n",
       "      <td> 0</td>\n",
       "      <td> 0</td>\n",
       "      <td> 3612.781968</td>\n",
       "      <td> 4146.013572</td>\n",
       "      <td>  6909.331618</td>\n",
       "      <td> 1</td>\n",
       "      <td> 31</td>\n",
       "      <td>NaN</td>\n",
       "      <td> 7.8125</td>\n",
       "    </tr>\n",
       "    <tr>\n",
       "      <th>11   </th>\n",
       "      <td>    14</td>\n",
       "      <td> 1</td>\n",
       "      <td>NaN</td>\n",
       "      <td>NaN</td>\n",
       "      <td>NaN</td>\n",
       "      <td>NaN</td>\n",
       "      <td>  6</td>\n",
       "      <td>NaN</td>\n",
       "      <td>  1</td>\n",
       "      <td>NaN</td>\n",
       "      <td>...</td>\n",
       "      <td> 0</td>\n",
       "      <td> 0</td>\n",
       "      <td> 0</td>\n",
       "      <td> 2418.069494</td>\n",
       "      <td> 2810.302771</td>\n",
       "      <td>  3039.904507</td>\n",
       "      <td> 2</td>\n",
       "      <td> 56</td>\n",
       "      <td>NaN</td>\n",
       "      <td> 7.0000</td>\n",
       "    </tr>\n",
       "    <tr>\n",
       "      <th>12   </th>\n",
       "      <td>    14</td>\n",
       "      <td> 2</td>\n",
       "      <td>NaN</td>\n",
       "      <td>NaN</td>\n",
       "      <td>NaN</td>\n",
       "      <td>NaN</td>\n",
       "      <td>  6</td>\n",
       "      <td>NaN</td>\n",
       "      <td>  1</td>\n",
       "      <td>NaN</td>\n",
       "      <td>...</td>\n",
       "      <td> 0</td>\n",
       "      <td> 0</td>\n",
       "      <td> 0</td>\n",
       "      <td> 2418.069494</td>\n",
       "      <td> 2810.302771</td>\n",
       "      <td>  3039.904507</td>\n",
       "      <td> 2</td>\n",
       "      <td> 56</td>\n",
       "      <td>NaN</td>\n",
       "      <td> 4.0000</td>\n",
       "    </tr>\n",
       "    <tr>\n",
       "      <th>13   </th>\n",
       "      <td>    14</td>\n",
       "      <td> 3</td>\n",
       "      <td>NaN</td>\n",
       "      <td>NaN</td>\n",
       "      <td>NaN</td>\n",
       "      <td>NaN</td>\n",
       "      <td>  3</td>\n",
       "      <td>NaN</td>\n",
       "      <td>NaN</td>\n",
       "      <td>NaN</td>\n",
       "      <td>...</td>\n",
       "      <td> 0</td>\n",
       "      <td> 0</td>\n",
       "      <td> 0</td>\n",
       "      <td> 2418.069494</td>\n",
       "      <td> 2810.302771</td>\n",
       "      <td>  3039.904507</td>\n",
       "      <td> 2</td>\n",
       "      <td> 56</td>\n",
       "      <td>NaN</td>\n",
       "      <td>    NaN</td>\n",
       "    </tr>\n",
       "    <tr>\n",
       "      <th>14   </th>\n",
       "      <td>    15</td>\n",
       "      <td> 1</td>\n",
       "      <td>NaN</td>\n",
       "      <td>NaN</td>\n",
       "      <td>NaN</td>\n",
       "      <td>NaN</td>\n",
       "      <td>  1</td>\n",
       "      <td>NaN</td>\n",
       "      <td>NaN</td>\n",
       "      <td>NaN</td>\n",
       "      <td>...</td>\n",
       "      <td> 0</td>\n",
       "      <td> 0</td>\n",
       "      <td> 0</td>\n",
       "      <td> 1667.816099</td>\n",
       "      <td> 3200.862017</td>\n",
       "      <td>  5553.495599</td>\n",
       "      <td> 1</td>\n",
       "      <td> 33</td>\n",
       "      <td>NaN</td>\n",
       "      <td>    NaN</td>\n",
       "    </tr>\n",
       "    <tr>\n",
       "      <th>15   </th>\n",
       "      <td>    15</td>\n",
       "      <td> 2</td>\n",
       "      <td>NaN</td>\n",
       "      <td>NaN</td>\n",
       "      <td>NaN</td>\n",
       "      <td>NaN</td>\n",
       "      <td>  6</td>\n",
       "      <td>NaN</td>\n",
       "      <td>  1</td>\n",
       "      <td>NaN</td>\n",
       "      <td>...</td>\n",
       "      <td> 0</td>\n",
       "      <td> 0</td>\n",
       "      <td> 0</td>\n",
       "      <td> 1667.816099</td>\n",
       "      <td> 3200.862017</td>\n",
       "      <td>  5553.495599</td>\n",
       "      <td> 1</td>\n",
       "      <td> 33</td>\n",
       "      <td>NaN</td>\n",
       "      <td> 7.6875</td>\n",
       "    </tr>\n",
       "    <tr>\n",
       "      <th>16   </th>\n",
       "      <td>    15</td>\n",
       "      <td> 3</td>\n",
       "      <td>NaN</td>\n",
       "      <td>NaN</td>\n",
       "      <td>NaN</td>\n",
       "      <td>NaN</td>\n",
       "      <td>  6</td>\n",
       "      <td>NaN</td>\n",
       "      <td>  1</td>\n",
       "      <td>NaN</td>\n",
       "      <td>...</td>\n",
       "      <td> 0</td>\n",
       "      <td> 0</td>\n",
       "      <td> 0</td>\n",
       "      <td> 1667.816099</td>\n",
       "      <td> 3200.862017</td>\n",
       "      <td>  5553.495599</td>\n",
       "      <td> 1</td>\n",
       "      <td> 33</td>\n",
       "      <td>NaN</td>\n",
       "      <td> 7.5000</td>\n",
       "    </tr>\n",
       "    <tr>\n",
       "      <th>17   </th>\n",
       "      <td>    18</td>\n",
       "      <td> 1</td>\n",
       "      <td>NaN</td>\n",
       "      <td>NaN</td>\n",
       "      <td>NaN</td>\n",
       "      <td>NaN</td>\n",
       "      <td>  5</td>\n",
       "      <td>NaN</td>\n",
       "      <td>  1</td>\n",
       "      <td>NaN</td>\n",
       "      <td>...</td>\n",
       "      <td> 0</td>\n",
       "      <td> 0</td>\n",
       "      <td> 0</td>\n",
       "      <td> 2957.257457</td>\n",
       "      <td> 3404.403067</td>\n",
       "      <td>  4153.371741</td>\n",
       "      <td> 2</td>\n",
       "      <td> 14</td>\n",
       "      <td>NaN</td>\n",
       "      <td> 6.3125</td>\n",
       "    </tr>\n",
       "    <tr>\n",
       "      <th>18   </th>\n",
       "      <td>    18</td>\n",
       "      <td> 2</td>\n",
       "      <td>NaN</td>\n",
       "      <td>NaN</td>\n",
       "      <td>NaN</td>\n",
       "      <td>NaN</td>\n",
       "      <td>  1</td>\n",
       "      <td>NaN</td>\n",
       "      <td>NaN</td>\n",
       "      <td>NaN</td>\n",
       "      <td>...</td>\n",
       "      <td> 0</td>\n",
       "      <td> 0</td>\n",
       "      <td> 0</td>\n",
       "      <td> 2957.257457</td>\n",
       "      <td> 3404.403067</td>\n",
       "      <td>  4153.371741</td>\n",
       "      <td> 2</td>\n",
       "      <td> 14</td>\n",
       "      <td>NaN</td>\n",
       "      <td>    NaN</td>\n",
       "    </tr>\n",
       "    <tr>\n",
       "      <th>19   </th>\n",
       "      <td>    21</td>\n",
       "      <td> 1</td>\n",
       "      <td>NaN</td>\n",
       "      <td>NaN</td>\n",
       "      <td>NaN</td>\n",
       "      <td>NaN</td>\n",
       "      <td>  6</td>\n",
       "      <td>NaN</td>\n",
       "      <td>  1</td>\n",
       "      <td>NaN</td>\n",
       "      <td>...</td>\n",
       "      <td> 0</td>\n",
       "      <td> 0</td>\n",
       "      <td> 0</td>\n",
       "      <td> 3408.342437</td>\n",
       "      <td> 3965.763949</td>\n",
       "      <td>  7237.122630</td>\n",
       "      <td> 1</td>\n",
       "      <td> 48</td>\n",
       "      <td>NaN</td>\n",
       "      <td> 8.7500</td>\n",
       "    </tr>\n",
       "    <tr>\n",
       "      <th>20   </th>\n",
       "      <td>    21</td>\n",
       "      <td> 2</td>\n",
       "      <td>NaN</td>\n",
       "      <td>NaN</td>\n",
       "      <td>NaN</td>\n",
       "      <td>NaN</td>\n",
       "      <td>  6</td>\n",
       "      <td>NaN</td>\n",
       "      <td>  1</td>\n",
       "      <td>NaN</td>\n",
       "      <td>...</td>\n",
       "      <td> 0</td>\n",
       "      <td> 0</td>\n",
       "      <td> 0</td>\n",
       "      <td> 3408.342437</td>\n",
       "      <td> 3965.763949</td>\n",
       "      <td>  7237.122630</td>\n",
       "      <td> 1</td>\n",
       "      <td> 48</td>\n",
       "      <td>NaN</td>\n",
       "      <td> 8.1875</td>\n",
       "    </tr>\n",
       "    <tr>\n",
       "      <th>21   </th>\n",
       "      <td>    23</td>\n",
       "      <td> 1</td>\n",
       "      <td>NaN</td>\n",
       "      <td>NaN</td>\n",
       "      <td>NaN</td>\n",
       "      <td>NaN</td>\n",
       "      <td>  6</td>\n",
       "      <td>NaN</td>\n",
       "      <td>  1</td>\n",
       "      <td>NaN</td>\n",
       "      <td>...</td>\n",
       "      <td> 0</td>\n",
       "      <td> 0</td>\n",
       "      <td> 0</td>\n",
       "      <td> 6210.373020</td>\n",
       "      <td> 8120.841310</td>\n",
       "      <td> 13533.382043</td>\n",
       "      <td> 2</td>\n",
       "      <td> 64</td>\n",
       "      <td>NaN</td>\n",
       "      <td> 5.5625</td>\n",
       "    </tr>\n",
       "    <tr>\n",
       "      <th>22   </th>\n",
       "      <td>    23</td>\n",
       "      <td> 2</td>\n",
       "      <td>NaN</td>\n",
       "      <td>NaN</td>\n",
       "      <td>NaN</td>\n",
       "      <td>NaN</td>\n",
       "      <td>  1</td>\n",
       "      <td>NaN</td>\n",
       "      <td>NaN</td>\n",
       "      <td>NaN</td>\n",
       "      <td>...</td>\n",
       "      <td> 0</td>\n",
       "      <td> 0</td>\n",
       "      <td> 0</td>\n",
       "      <td> 6210.373020</td>\n",
       "      <td> 8120.841310</td>\n",
       "      <td> 13533.382043</td>\n",
       "      <td> 2</td>\n",
       "      <td> 64</td>\n",
       "      <td>NaN</td>\n",
       "      <td>    NaN</td>\n",
       "    </tr>\n",
       "    <tr>\n",
       "      <th>23   </th>\n",
       "      <td>    24</td>\n",
       "      <td> 1</td>\n",
       "      <td>NaN</td>\n",
       "      <td>NaN</td>\n",
       "      <td>NaN</td>\n",
       "      <td>NaN</td>\n",
       "      <td>  6</td>\n",
       "      <td>NaN</td>\n",
       "      <td>  1</td>\n",
       "      <td>NaN</td>\n",
       "      <td>...</td>\n",
       "      <td> 0</td>\n",
       "      <td> 0</td>\n",
       "      <td> 0</td>\n",
       "      <td> 3409.573258</td>\n",
       "      <td> 4068.628645</td>\n",
       "      <td>  7424.840414</td>\n",
       "      <td> 1</td>\n",
       "      <td> 27</td>\n",
       "      <td>NaN</td>\n",
       "      <td> 6.7500</td>\n",
       "    </tr>\n",
       "    <tr>\n",
       "      <th>24   </th>\n",
       "      <td>    24</td>\n",
       "      <td> 2</td>\n",
       "      <td>NaN</td>\n",
       "      <td>NaN</td>\n",
       "      <td>NaN</td>\n",
       "      <td>NaN</td>\n",
       "      <td>  6</td>\n",
       "      <td>NaN</td>\n",
       "      <td>  1</td>\n",
       "      <td>NaN</td>\n",
       "      <td>...</td>\n",
       "      <td> 0</td>\n",
       "      <td> 0</td>\n",
       "      <td> 0</td>\n",
       "      <td> 3409.573258</td>\n",
       "      <td> 4068.628645</td>\n",
       "      <td>  7424.840414</td>\n",
       "      <td> 1</td>\n",
       "      <td> 27</td>\n",
       "      <td>NaN</td>\n",
       "      <td> 7.3750</td>\n",
       "    </tr>\n",
       "    <tr>\n",
       "      <th>25   </th>\n",
       "      <td>    24</td>\n",
       "      <td> 3</td>\n",
       "      <td>NaN</td>\n",
       "      <td>NaN</td>\n",
       "      <td>NaN</td>\n",
       "      <td>NaN</td>\n",
       "      <td>  6</td>\n",
       "      <td>NaN</td>\n",
       "      <td>  1</td>\n",
       "      <td>NaN</td>\n",
       "      <td>...</td>\n",
       "      <td> 0</td>\n",
       "      <td> 0</td>\n",
       "      <td> 0</td>\n",
       "      <td> 3409.573258</td>\n",
       "      <td> 4068.628645</td>\n",
       "      <td>  7424.840414</td>\n",
       "      <td> 1</td>\n",
       "      <td> 27</td>\n",
       "      <td>NaN</td>\n",
       "      <td> 6.8125</td>\n",
       "    </tr>\n",
       "    <tr>\n",
       "      <th>26   </th>\n",
       "      <td>    28</td>\n",
       "      <td> 1</td>\n",
       "      <td>NaN</td>\n",
       "      <td>NaN</td>\n",
       "      <td>NaN</td>\n",
       "      <td>NaN</td>\n",
       "      <td>  6</td>\n",
       "      <td>NaN</td>\n",
       "      <td>  1</td>\n",
       "      <td>NaN</td>\n",
       "      <td>...</td>\n",
       "      <td> 0</td>\n",
       "      <td> 0</td>\n",
       "      <td> 0</td>\n",
       "      <td> 3407.794208</td>\n",
       "      <td> 3808.343516</td>\n",
       "      <td>  6949.846082</td>\n",
       "      <td> 2</td>\n",
       "      <td> 57</td>\n",
       "      <td>NaN</td>\n",
       "      <td> 8.1250</td>\n",
       "    </tr>\n",
       "    <tr>\n",
       "      <th>27   </th>\n",
       "      <td>    31</td>\n",
       "      <td> 1</td>\n",
       "      <td>NaN</td>\n",
       "      <td>NaN</td>\n",
       "      <td>NaN</td>\n",
       "      <td>NaN</td>\n",
       "      <td>  6</td>\n",
       "      <td>NaN</td>\n",
       "      <td>  1</td>\n",
       "      <td>NaN</td>\n",
       "      <td>...</td>\n",
       "      <td> 0</td>\n",
       "      <td> 0</td>\n",
       "      <td> 0</td>\n",
       "      <td> 3405.679025</td>\n",
       "      <td> 4272.084519</td>\n",
       "      <td>  5211.943113</td>\n",
       "      <td> 1</td>\n",
       "      <td>  2</td>\n",
       "      <td>NaN</td>\n",
       "      <td> 7.1250</td>\n",
       "    </tr>\n",
       "    <tr>\n",
       "      <th>28   </th>\n",
       "      <td>    31</td>\n",
       "      <td> 2</td>\n",
       "      <td>NaN</td>\n",
       "      <td>NaN</td>\n",
       "      <td>NaN</td>\n",
       "      <td>NaN</td>\n",
       "      <td>  6</td>\n",
       "      <td>NaN</td>\n",
       "      <td>  1</td>\n",
       "      <td>NaN</td>\n",
       "      <td>...</td>\n",
       "      <td> 0</td>\n",
       "      <td> 0</td>\n",
       "      <td> 0</td>\n",
       "      <td> 3405.679025</td>\n",
       "      <td> 4272.084519</td>\n",
       "      <td>  5211.943113</td>\n",
       "      <td> 1</td>\n",
       "      <td>  2</td>\n",
       "      <td>NaN</td>\n",
       "      <td> 6.0625</td>\n",
       "    </tr>\n",
       "    <tr>\n",
       "      <th>29   </th>\n",
       "      <td>    31</td>\n",
       "      <td> 3</td>\n",
       "      <td>NaN</td>\n",
       "      <td>NaN</td>\n",
       "      <td>NaN</td>\n",
       "      <td>NaN</td>\n",
       "      <td>  6</td>\n",
       "      <td>NaN</td>\n",
       "      <td>  1</td>\n",
       "      <td>NaN</td>\n",
       "      <td>...</td>\n",
       "      <td> 0</td>\n",
       "      <td> 0</td>\n",
       "      <td> 0</td>\n",
       "      <td> 3405.679025</td>\n",
       "      <td> 4272.084519</td>\n",
       "      <td>  5211.943113</td>\n",
       "      <td> 1</td>\n",
       "      <td>  2</td>\n",
       "      <td>NaN</td>\n",
       "      <td> 7.4375</td>\n",
       "    </tr>\n",
       "    <tr>\n",
       "      <th>...</th>\n",
       "      <td>...</td>\n",
       "      <td>...</td>\n",
       "      <td>...</td>\n",
       "      <td>...</td>\n",
       "      <td>...</td>\n",
       "      <td>...</td>\n",
       "      <td>...</td>\n",
       "      <td>...</td>\n",
       "      <td>...</td>\n",
       "      <td>...</td>\n",
       "      <td>...</td>\n",
       "      <td>...</td>\n",
       "      <td>...</td>\n",
       "      <td>...</td>\n",
       "      <td>...</td>\n",
       "      <td>...</td>\n",
       "      <td>...</td>\n",
       "      <td>...</td>\n",
       "      <td>...</td>\n",
       "      <td>...</td>\n",
       "      <td>...</td>\n",
       "    </tr>\n",
       "    <tr>\n",
       "      <th>13563</th>\n",
       "      <td> 12547</td>\n",
       "      <td> 2</td>\n",
       "      <td>NaN</td>\n",
       "      <td>NaN</td>\n",
       "      <td>NaN</td>\n",
       "      <td>NaN</td>\n",
       "      <td>  6</td>\n",
       "      <td>NaN</td>\n",
       "      <td>  1</td>\n",
       "      <td>NaN</td>\n",
       "      <td>...</td>\n",
       "      <td> 0</td>\n",
       "      <td> 0</td>\n",
       "      <td> 0</td>\n",
       "      <td> 3453.545517</td>\n",
       "      <td> 6628.022524</td>\n",
       "      <td> 11499.619080</td>\n",
       "      <td> 1</td>\n",
       "      <td> 52</td>\n",
       "      <td>NaN</td>\n",
       "      <td> 7.6875</td>\n",
       "    </tr>\n",
       "    <tr>\n",
       "      <th>13564</th>\n",
       "      <td> 12547</td>\n",
       "      <td> 3</td>\n",
       "      <td>NaN</td>\n",
       "      <td>NaN</td>\n",
       "      <td>NaN</td>\n",
       "      <td>NaN</td>\n",
       "      <td>  6</td>\n",
       "      <td>NaN</td>\n",
       "      <td>  1</td>\n",
       "      <td>NaN</td>\n",
       "      <td>...</td>\n",
       "      <td> 0</td>\n",
       "      <td> 0</td>\n",
       "      <td> 0</td>\n",
       "      <td> 3453.545517</td>\n",
       "      <td> 6628.022524</td>\n",
       "      <td> 11499.619080</td>\n",
       "      <td> 1</td>\n",
       "      <td> 52</td>\n",
       "      <td>NaN</td>\n",
       "      <td> 7.6250</td>\n",
       "    </tr>\n",
       "    <tr>\n",
       "      <th>13565</th>\n",
       "      <td> 12550</td>\n",
       "      <td> 1</td>\n",
       "      <td>NaN</td>\n",
       "      <td>NaN</td>\n",
       "      <td>NaN</td>\n",
       "      <td>NaN</td>\n",
       "      <td>  6</td>\n",
       "      <td>NaN</td>\n",
       "      <td>  1</td>\n",
       "      <td>NaN</td>\n",
       "      <td>...</td>\n",
       "      <td> 0</td>\n",
       "      <td> 0</td>\n",
       "      <td> 0</td>\n",
       "      <td> 3080.452699</td>\n",
       "      <td> 3745.326058</td>\n",
       "      <td>  5268.550165</td>\n",
       "      <td> 1</td>\n",
       "      <td> 79</td>\n",
       "      <td>NaN</td>\n",
       "      <td> 8.1250</td>\n",
       "    </tr>\n",
       "    <tr>\n",
       "      <th>13566</th>\n",
       "      <td> 12551</td>\n",
       "      <td> 1</td>\n",
       "      <td>NaN</td>\n",
       "      <td>NaN</td>\n",
       "      <td>NaN</td>\n",
       "      <td>NaN</td>\n",
       "      <td>  5</td>\n",
       "      <td>NaN</td>\n",
       "      <td>  1</td>\n",
       "      <td>NaN</td>\n",
       "      <td>...</td>\n",
       "      <td> 0</td>\n",
       "      <td> 0</td>\n",
       "      <td> 0</td>\n",
       "      <td> 2418.538866</td>\n",
       "      <td> 3653.453268</td>\n",
       "      <td>  3951.940400</td>\n",
       "      <td> 2</td>\n",
       "      <td> 75</td>\n",
       "      <td>NaN</td>\n",
       "      <td> 7.5000</td>\n",
       "    </tr>\n",
       "    <tr>\n",
       "      <th>13567</th>\n",
       "      <td> 12554</td>\n",
       "      <td> 1</td>\n",
       "      <td>NaN</td>\n",
       "      <td>NaN</td>\n",
       "      <td>NaN</td>\n",
       "      <td>NaN</td>\n",
       "      <td>  3</td>\n",
       "      <td>NaN</td>\n",
       "      <td>NaN</td>\n",
       "      <td>NaN</td>\n",
       "      <td>...</td>\n",
       "      <td> 0</td>\n",
       "      <td> 0</td>\n",
       "      <td> 0</td>\n",
       "      <td> 1914.676604</td>\n",
       "      <td> 2177.957240</td>\n",
       "      <td>  2764.045534</td>\n",
       "      <td> 2</td>\n",
       "      <td> 75</td>\n",
       "      <td>NaN</td>\n",
       "      <td>    NaN</td>\n",
       "    </tr>\n",
       "    <tr>\n",
       "      <th>13568</th>\n",
       "      <td> 12554</td>\n",
       "      <td> 2</td>\n",
       "      <td>NaN</td>\n",
       "      <td>NaN</td>\n",
       "      <td>NaN</td>\n",
       "      <td>NaN</td>\n",
       "      <td>  4</td>\n",
       "      <td>NaN</td>\n",
       "      <td>NaN</td>\n",
       "      <td>NaN</td>\n",
       "      <td>...</td>\n",
       "      <td> 0</td>\n",
       "      <td> 0</td>\n",
       "      <td> 0</td>\n",
       "      <td> 1914.676604</td>\n",
       "      <td> 2177.957240</td>\n",
       "      <td>  2764.045534</td>\n",
       "      <td> 2</td>\n",
       "      <td> 75</td>\n",
       "      <td>NaN</td>\n",
       "      <td>    NaN</td>\n",
       "    </tr>\n",
       "    <tr>\n",
       "      <th>13569</th>\n",
       "      <td> 12556</td>\n",
       "      <td> 1</td>\n",
       "      <td>NaN</td>\n",
       "      <td>NaN</td>\n",
       "      <td>NaN</td>\n",
       "      <td>NaN</td>\n",
       "      <td>  6</td>\n",
       "      <td>NaN</td>\n",
       "      <td>  1</td>\n",
       "      <td>NaN</td>\n",
       "      <td>...</td>\n",
       "      <td> 0</td>\n",
       "      <td> 0</td>\n",
       "      <td> 0</td>\n",
       "      <td> 2474.619764</td>\n",
       "      <td> 3250.573384</td>\n",
       "      <td>  3965.699528</td>\n",
       "      <td> 1</td>\n",
       "      <td> 44</td>\n",
       "      <td>NaN</td>\n",
       "      <td> 5.8125</td>\n",
       "    </tr>\n",
       "    <tr>\n",
       "      <th>13570</th>\n",
       "      <td> 12556</td>\n",
       "      <td> 2</td>\n",
       "      <td>NaN</td>\n",
       "      <td>NaN</td>\n",
       "      <td>NaN</td>\n",
       "      <td>NaN</td>\n",
       "      <td>  6</td>\n",
       "      <td>NaN</td>\n",
       "      <td>  1</td>\n",
       "      <td>NaN</td>\n",
       "      <td>...</td>\n",
       "      <td> 0</td>\n",
       "      <td> 0</td>\n",
       "      <td> 0</td>\n",
       "      <td> 2474.619764</td>\n",
       "      <td> 3250.573384</td>\n",
       "      <td>  3965.699528</td>\n",
       "      <td> 1</td>\n",
       "      <td> 44</td>\n",
       "      <td>NaN</td>\n",
       "      <td> 6.6875</td>\n",
       "    </tr>\n",
       "    <tr>\n",
       "      <th>13571</th>\n",
       "      <td> 12556</td>\n",
       "      <td> 3</td>\n",
       "      <td>NaN</td>\n",
       "      <td>NaN</td>\n",
       "      <td>NaN</td>\n",
       "      <td>NaN</td>\n",
       "      <td>  6</td>\n",
       "      <td>NaN</td>\n",
       "      <td>  1</td>\n",
       "      <td>NaN</td>\n",
       "      <td>...</td>\n",
       "      <td> 0</td>\n",
       "      <td> 0</td>\n",
       "      <td> 0</td>\n",
       "      <td> 2474.619764</td>\n",
       "      <td> 3250.573384</td>\n",
       "      <td>  3965.699528</td>\n",
       "      <td> 1</td>\n",
       "      <td> 44</td>\n",
       "      <td>NaN</td>\n",
       "      <td> 6.0000</td>\n",
       "    </tr>\n",
       "    <tr>\n",
       "      <th>13572</th>\n",
       "      <td> 12556</td>\n",
       "      <td> 4</td>\n",
       "      <td>NaN</td>\n",
       "      <td>NaN</td>\n",
       "      <td>NaN</td>\n",
       "      <td>NaN</td>\n",
       "      <td>  6</td>\n",
       "      <td>NaN</td>\n",
       "      <td>  1</td>\n",
       "      <td>NaN</td>\n",
       "      <td>...</td>\n",
       "      <td> 0</td>\n",
       "      <td> 0</td>\n",
       "      <td> 0</td>\n",
       "      <td> 2474.619764</td>\n",
       "      <td> 3250.573384</td>\n",
       "      <td>  3965.699528</td>\n",
       "      <td> 1</td>\n",
       "      <td> 44</td>\n",
       "      <td>NaN</td>\n",
       "      <td> 5.8125</td>\n",
       "    </tr>\n",
       "    <tr>\n",
       "      <th>13573</th>\n",
       "      <td> 12561</td>\n",
       "      <td> 1</td>\n",
       "      <td>NaN</td>\n",
       "      <td>NaN</td>\n",
       "      <td>NaN</td>\n",
       "      <td>NaN</td>\n",
       "      <td>  6</td>\n",
       "      <td>NaN</td>\n",
       "      <td>  1</td>\n",
       "      <td>NaN</td>\n",
       "      <td>...</td>\n",
       "      <td> 0</td>\n",
       "      <td> 0</td>\n",
       "      <td> 0</td>\n",
       "      <td> 2418.089703</td>\n",
       "      <td> 2698.650781</td>\n",
       "      <td>  4497.301527</td>\n",
       "      <td> 1</td>\n",
       "      <td> 10</td>\n",
       "      <td>NaN</td>\n",
       "      <td> 6.5625</td>\n",
       "    </tr>\n",
       "    <tr>\n",
       "      <th>13574</th>\n",
       "      <td> 12561</td>\n",
       "      <td> 2</td>\n",
       "      <td>NaN</td>\n",
       "      <td>NaN</td>\n",
       "      <td>NaN</td>\n",
       "      <td>NaN</td>\n",
       "      <td>  6</td>\n",
       "      <td>NaN</td>\n",
       "      <td>  1</td>\n",
       "      <td>NaN</td>\n",
       "      <td>...</td>\n",
       "      <td> 0</td>\n",
       "      <td> 0</td>\n",
       "      <td> 0</td>\n",
       "      <td> 2418.089703</td>\n",
       "      <td> 2698.650781</td>\n",
       "      <td>  4497.301527</td>\n",
       "      <td> 1</td>\n",
       "      <td> 10</td>\n",
       "      <td>NaN</td>\n",
       "      <td> 6.1250</td>\n",
       "    </tr>\n",
       "    <tr>\n",
       "      <th>13575</th>\n",
       "      <td> 12564</td>\n",
       "      <td> 1</td>\n",
       "      <td>NaN</td>\n",
       "      <td>NaN</td>\n",
       "      <td>NaN</td>\n",
       "      <td>NaN</td>\n",
       "      <td>  3</td>\n",
       "      <td>NaN</td>\n",
       "      <td>NaN</td>\n",
       "      <td>NaN</td>\n",
       "      <td>...</td>\n",
       "      <td> 0</td>\n",
       "      <td> 0</td>\n",
       "      <td> 0</td>\n",
       "      <td> 1820.850938</td>\n",
       "      <td> 2129.214067</td>\n",
       "      <td>  2768.191208</td>\n",
       "      <td> 2</td>\n",
       "      <td> 44</td>\n",
       "      <td>NaN</td>\n",
       "      <td>    NaN</td>\n",
       "    </tr>\n",
       "    <tr>\n",
       "      <th>13576</th>\n",
       "      <td> 12565</td>\n",
       "      <td> 1</td>\n",
       "      <td>NaN</td>\n",
       "      <td>NaN</td>\n",
       "      <td>NaN</td>\n",
       "      <td>NaN</td>\n",
       "      <td>  6</td>\n",
       "      <td>NaN</td>\n",
       "      <td>  1</td>\n",
       "      <td>NaN</td>\n",
       "      <td>...</td>\n",
       "      <td> 0</td>\n",
       "      <td> 0</td>\n",
       "      <td> 0</td>\n",
       "      <td> 3195.641221</td>\n",
       "      <td> 3834.241709</td>\n",
       "      <td>  6652.409365</td>\n",
       "      <td> 1</td>\n",
       "      <td> 78</td>\n",
       "      <td>NaN</td>\n",
       "      <td> 6.4375</td>\n",
       "    </tr>\n",
       "    <tr>\n",
       "      <th>13577</th>\n",
       "      <td> 12565</td>\n",
       "      <td> 2</td>\n",
       "      <td> 35</td>\n",
       "      <td>  1</td>\n",
       "      <td>  8</td>\n",
       "      <td>NaN</td>\n",
       "      <td>NaN</td>\n",
       "      <td>NaN</td>\n",
       "      <td>NaN</td>\n",
       "      <td>NaN</td>\n",
       "      <td>...</td>\n",
       "      <td> 0</td>\n",
       "      <td> 0</td>\n",
       "      <td> 0</td>\n",
       "      <td> 3195.641221</td>\n",
       "      <td> 3834.241709</td>\n",
       "      <td>  6652.409365</td>\n",
       "      <td> 1</td>\n",
       "      <td> 78</td>\n",
       "      <td>NaN</td>\n",
       "      <td>    NaN</td>\n",
       "    </tr>\n",
       "    <tr>\n",
       "      <th>13578</th>\n",
       "      <td> 12566</td>\n",
       "      <td> 1</td>\n",
       "      <td>NaN</td>\n",
       "      <td>NaN</td>\n",
       "      <td>NaN</td>\n",
       "      <td>NaN</td>\n",
       "      <td>  6</td>\n",
       "      <td>NaN</td>\n",
       "      <td>  1</td>\n",
       "      <td>NaN</td>\n",
       "      <td>...</td>\n",
       "      <td> 0</td>\n",
       "      <td> 0</td>\n",
       "      <td> 0</td>\n",
       "      <td> 2080.317155</td>\n",
       "      <td> 2422.820274</td>\n",
       "      <td>  2627.548587</td>\n",
       "      <td> 2</td>\n",
       "      <td>  2</td>\n",
       "      <td>NaN</td>\n",
       "      <td> 6.0000</td>\n",
       "    </tr>\n",
       "    <tr>\n",
       "      <th>13579</th>\n",
       "      <td> 12566</td>\n",
       "      <td> 2</td>\n",
       "      <td>NaN</td>\n",
       "      <td>NaN</td>\n",
       "      <td>NaN</td>\n",
       "      <td>NaN</td>\n",
       "      <td>  6</td>\n",
       "      <td>NaN</td>\n",
       "      <td>  1</td>\n",
       "      <td>NaN</td>\n",
       "      <td>...</td>\n",
       "      <td> 0</td>\n",
       "      <td> 0</td>\n",
       "      <td> 0</td>\n",
       "      <td> 2080.317155</td>\n",
       "      <td> 2422.820274</td>\n",
       "      <td>  2627.548587</td>\n",
       "      <td> 2</td>\n",
       "      <td>  2</td>\n",
       "      <td>NaN</td>\n",
       "      <td> 7.0000</td>\n",
       "    </tr>\n",
       "    <tr>\n",
       "      <th>13580</th>\n",
       "      <td> 12568</td>\n",
       "      <td> 1</td>\n",
       "      <td>NaN</td>\n",
       "      <td>NaN</td>\n",
       "      <td>NaN</td>\n",
       "      <td>NaN</td>\n",
       "      <td>  1</td>\n",
       "      <td>NaN</td>\n",
       "      <td>NaN</td>\n",
       "      <td>NaN</td>\n",
       "      <td>...</td>\n",
       "      <td> 0</td>\n",
       "      <td> 0</td>\n",
       "      <td> 0</td>\n",
       "      <td> 2734.687353</td>\n",
       "      <td> 4258.980140</td>\n",
       "      <td>  7772.212858</td>\n",
       "      <td> 2</td>\n",
       "      <td> 28</td>\n",
       "      <td>NaN</td>\n",
       "      <td>    NaN</td>\n",
       "    </tr>\n",
       "    <tr>\n",
       "      <th>13581</th>\n",
       "      <td> 12568</td>\n",
       "      <td> 2</td>\n",
       "      <td>NaN</td>\n",
       "      <td>NaN</td>\n",
       "      <td>NaN</td>\n",
       "      <td>NaN</td>\n",
       "      <td>  5</td>\n",
       "      <td>NaN</td>\n",
       "      <td>  1</td>\n",
       "      <td>NaN</td>\n",
       "      <td>...</td>\n",
       "      <td> 0</td>\n",
       "      <td> 0</td>\n",
       "      <td> 0</td>\n",
       "      <td> 2734.687353</td>\n",
       "      <td> 4258.980140</td>\n",
       "      <td>  7772.212858</td>\n",
       "      <td> 2</td>\n",
       "      <td> 28</td>\n",
       "      <td>NaN</td>\n",
       "      <td> 6.3750</td>\n",
       "    </tr>\n",
       "    <tr>\n",
       "      <th>13582</th>\n",
       "      <td> 12568</td>\n",
       "      <td> 3</td>\n",
       "      <td>NaN</td>\n",
       "      <td>NaN</td>\n",
       "      <td>NaN</td>\n",
       "      <td>NaN</td>\n",
       "      <td>  4</td>\n",
       "      <td>NaN</td>\n",
       "      <td>NaN</td>\n",
       "      <td>NaN</td>\n",
       "      <td>...</td>\n",
       "      <td> 0</td>\n",
       "      <td> 0</td>\n",
       "      <td> 0</td>\n",
       "      <td> 2734.687353</td>\n",
       "      <td> 4258.980140</td>\n",
       "      <td>  7772.212858</td>\n",
       "      <td> 2</td>\n",
       "      <td> 28</td>\n",
       "      <td>NaN</td>\n",
       "      <td>    NaN</td>\n",
       "    </tr>\n",
       "    <tr>\n",
       "      <th>13583</th>\n",
       "      <td> 12569</td>\n",
       "      <td> 1</td>\n",
       "      <td>NaN</td>\n",
       "      <td>NaN</td>\n",
       "      <td>NaN</td>\n",
       "      <td>NaN</td>\n",
       "      <td>  3</td>\n",
       "      <td>NaN</td>\n",
       "      <td>NaN</td>\n",
       "      <td>NaN</td>\n",
       "      <td>...</td>\n",
       "      <td> 0</td>\n",
       "      <td> 0</td>\n",
       "      <td> 0</td>\n",
       "      <td> 2580.967613</td>\n",
       "      <td> 2925.167116</td>\n",
       "      <td>  5075.164946</td>\n",
       "      <td> 2</td>\n",
       "      <td> 61</td>\n",
       "      <td>NaN</td>\n",
       "      <td>    NaN</td>\n",
       "    </tr>\n",
       "    <tr>\n",
       "      <th>13584</th>\n",
       "      <td> 12569</td>\n",
       "      <td> 2</td>\n",
       "      <td>NaN</td>\n",
       "      <td>NaN</td>\n",
       "      <td>NaN</td>\n",
       "      <td>NaN</td>\n",
       "      <td>  6</td>\n",
       "      <td>NaN</td>\n",
       "      <td>  1</td>\n",
       "      <td>NaN</td>\n",
       "      <td>...</td>\n",
       "      <td> 0</td>\n",
       "      <td> 0</td>\n",
       "      <td> 0</td>\n",
       "      <td> 2580.967613</td>\n",
       "      <td> 2925.167116</td>\n",
       "      <td>  5075.164946</td>\n",
       "      <td> 2</td>\n",
       "      <td> 61</td>\n",
       "      <td>NaN</td>\n",
       "      <td> 6.3750</td>\n",
       "    </tr>\n",
       "    <tr>\n",
       "      <th>13585</th>\n",
       "      <td> 12570</td>\n",
       "      <td> 1</td>\n",
       "      <td>NaN</td>\n",
       "      <td>NaN</td>\n",
       "      <td>NaN</td>\n",
       "      <td>NaN</td>\n",
       "      <td>  3</td>\n",
       "      <td>NaN</td>\n",
       "      <td>NaN</td>\n",
       "      <td>NaN</td>\n",
       "      <td>...</td>\n",
       "      <td> 0</td>\n",
       "      <td> 0</td>\n",
       "      <td> 0</td>\n",
       "      <td> 5181.311509</td>\n",
       "      <td> 6205.829154</td>\n",
       "      <td> 11325.017623</td>\n",
       "      <td> 2</td>\n",
       "      <td> 40</td>\n",
       "      <td>NaN</td>\n",
       "      <td>    NaN</td>\n",
       "    </tr>\n",
       "    <tr>\n",
       "      <th>13586</th>\n",
       "      <td> 12570</td>\n",
       "      <td> 2</td>\n",
       "      <td>NaN</td>\n",
       "      <td>NaN</td>\n",
       "      <td>NaN</td>\n",
       "      <td>NaN</td>\n",
       "      <td>  3</td>\n",
       "      <td>NaN</td>\n",
       "      <td>NaN</td>\n",
       "      <td>NaN</td>\n",
       "      <td>...</td>\n",
       "      <td> 0</td>\n",
       "      <td> 0</td>\n",
       "      <td> 0</td>\n",
       "      <td> 5181.311509</td>\n",
       "      <td> 6205.829154</td>\n",
       "      <td> 11325.017623</td>\n",
       "      <td> 2</td>\n",
       "      <td> 40</td>\n",
       "      <td>NaN</td>\n",
       "      <td>    NaN</td>\n",
       "    </tr>\n",
       "    <tr>\n",
       "      <th>13587</th>\n",
       "      <td> 12570</td>\n",
       "      <td> 3</td>\n",
       "      <td>NaN</td>\n",
       "      <td>NaN</td>\n",
       "      <td>NaN</td>\n",
       "      <td>NaN</td>\n",
       "      <td>  3</td>\n",
       "      <td>NaN</td>\n",
       "      <td>NaN</td>\n",
       "      <td>NaN</td>\n",
       "      <td>...</td>\n",
       "      <td> 0</td>\n",
       "      <td> 0</td>\n",
       "      <td> 0</td>\n",
       "      <td> 5181.311509</td>\n",
       "      <td> 6205.829154</td>\n",
       "      <td> 11325.017623</td>\n",
       "      <td> 2</td>\n",
       "      <td> 40</td>\n",
       "      <td>NaN</td>\n",
       "      <td>    NaN</td>\n",
       "    </tr>\n",
       "    <tr>\n",
       "      <th>13588</th>\n",
       "      <td> 12571</td>\n",
       "      <td> 1</td>\n",
       "      <td>NaN</td>\n",
       "      <td>NaN</td>\n",
       "      <td>NaN</td>\n",
       "      <td>NaN</td>\n",
       "      <td>  6</td>\n",
       "      <td>NaN</td>\n",
       "      <td>  1</td>\n",
       "      <td>NaN</td>\n",
       "      <td>...</td>\n",
       "      <td> 0</td>\n",
       "      <td> 0</td>\n",
       "      <td> 0</td>\n",
       "      <td> 4670.540953</td>\n",
       "      <td> 5795.692880</td>\n",
       "      <td>  6269.200989</td>\n",
       "      <td> 1</td>\n",
       "      <td> 78</td>\n",
       "      <td>NaN</td>\n",
       "      <td> 6.1875</td>\n",
       "    </tr>\n",
       "    <tr>\n",
       "      <th>13589</th>\n",
       "      <td> 12571</td>\n",
       "      <td> 2</td>\n",
       "      <td>NaN</td>\n",
       "      <td>NaN</td>\n",
       "      <td>NaN</td>\n",
       "      <td>NaN</td>\n",
       "      <td>  3</td>\n",
       "      <td>NaN</td>\n",
       "      <td>NaN</td>\n",
       "      <td>NaN</td>\n",
       "      <td>...</td>\n",
       "      <td> 0</td>\n",
       "      <td> 0</td>\n",
       "      <td> 0</td>\n",
       "      <td> 4670.540953</td>\n",
       "      <td> 5795.692880</td>\n",
       "      <td>  6269.200989</td>\n",
       "      <td> 1</td>\n",
       "      <td> 78</td>\n",
       "      <td>NaN</td>\n",
       "      <td>    NaN</td>\n",
       "    </tr>\n",
       "    <tr>\n",
       "      <th>13590</th>\n",
       "      <td> 12571</td>\n",
       "      <td> 3</td>\n",
       "      <td>NaN</td>\n",
       "      <td>NaN</td>\n",
       "      <td>NaN</td>\n",
       "      <td>NaN</td>\n",
       "      <td>  3</td>\n",
       "      <td>NaN</td>\n",
       "      <td>NaN</td>\n",
       "      <td>NaN</td>\n",
       "      <td>...</td>\n",
       "      <td> 0</td>\n",
       "      <td> 0</td>\n",
       "      <td> 0</td>\n",
       "      <td> 4670.540953</td>\n",
       "      <td> 5795.692880</td>\n",
       "      <td>  6269.200989</td>\n",
       "      <td> 1</td>\n",
       "      <td> 78</td>\n",
       "      <td>NaN</td>\n",
       "      <td>    NaN</td>\n",
       "    </tr>\n",
       "    <tr>\n",
       "      <th>13591</th>\n",
       "      <td> 12571</td>\n",
       "      <td> 4</td>\n",
       "      <td>NaN</td>\n",
       "      <td>NaN</td>\n",
       "      <td>NaN</td>\n",
       "      <td>NaN</td>\n",
       "      <td>  6</td>\n",
       "      <td>NaN</td>\n",
       "      <td>  1</td>\n",
       "      <td>NaN</td>\n",
       "      <td>...</td>\n",
       "      <td> 0</td>\n",
       "      <td> 0</td>\n",
       "      <td> 0</td>\n",
       "      <td> 4670.540953</td>\n",
       "      <td> 5795.692880</td>\n",
       "      <td>  6269.200989</td>\n",
       "      <td> 1</td>\n",
       "      <td> 78</td>\n",
       "      <td>NaN</td>\n",
       "      <td> 7.5000</td>\n",
       "    </tr>\n",
       "    <tr>\n",
       "      <th>13592</th>\n",
       "      <td> 12571</td>\n",
       "      <td> 5</td>\n",
       "      <td>NaN</td>\n",
       "      <td>NaN</td>\n",
       "      <td>NaN</td>\n",
       "      <td>NaN</td>\n",
       "      <td>  6</td>\n",
       "      <td>NaN</td>\n",
       "      <td>  1</td>\n",
       "      <td>NaN</td>\n",
       "      <td>...</td>\n",
       "      <td> 0</td>\n",
       "      <td> 0</td>\n",
       "      <td> 0</td>\n",
       "      <td> 4670.540953</td>\n",
       "      <td> 5795.692880</td>\n",
       "      <td>  6269.200989</td>\n",
       "      <td> 1</td>\n",
       "      <td> 78</td>\n",
       "      <td>NaN</td>\n",
       "      <td> 7.5000</td>\n",
       "    </tr>\n",
       "  </tbody>\n",
       "</table>\n",
       "<p>13593 rows × 244 columns</p>\n",
       "</div>"
      ],
      "text/plain": [
       "       caseid  pregordr  howpreg_n  howpreg_p  moscurrp  nowprgdk  pregend1  \\\n",
       "0           1         1        NaN        NaN       NaN       NaN         6   \n",
       "1           1         2        NaN        NaN       NaN       NaN         6   \n",
       "2           2         1        NaN        NaN       NaN       NaN         5   \n",
       "3           2         2        NaN        NaN       NaN       NaN         6   \n",
       "4           2         3        NaN        NaN       NaN       NaN         6   \n",
       "5           6         1        NaN        NaN       NaN       NaN         6   \n",
       "6           6         2        NaN        NaN       NaN       NaN         6   \n",
       "7           6         3        NaN        NaN       NaN       NaN         6   \n",
       "8           7         1        NaN        NaN       NaN       NaN         5   \n",
       "9           7         2        NaN        NaN       NaN       NaN         5   \n",
       "10         12         1        NaN        NaN       NaN       NaN         5   \n",
       "11         14         1        NaN        NaN       NaN       NaN         6   \n",
       "12         14         2        NaN        NaN       NaN       NaN         6   \n",
       "13         14         3        NaN        NaN       NaN       NaN         3   \n",
       "14         15         1        NaN        NaN       NaN       NaN         1   \n",
       "15         15         2        NaN        NaN       NaN       NaN         6   \n",
       "16         15         3        NaN        NaN       NaN       NaN         6   \n",
       "17         18         1        NaN        NaN       NaN       NaN         5   \n",
       "18         18         2        NaN        NaN       NaN       NaN         1   \n",
       "19         21         1        NaN        NaN       NaN       NaN         6   \n",
       "20         21         2        NaN        NaN       NaN       NaN         6   \n",
       "21         23         1        NaN        NaN       NaN       NaN         6   \n",
       "22         23         2        NaN        NaN       NaN       NaN         1   \n",
       "23         24         1        NaN        NaN       NaN       NaN         6   \n",
       "24         24         2        NaN        NaN       NaN       NaN         6   \n",
       "25         24         3        NaN        NaN       NaN       NaN         6   \n",
       "26         28         1        NaN        NaN       NaN       NaN         6   \n",
       "27         31         1        NaN        NaN       NaN       NaN         6   \n",
       "28         31         2        NaN        NaN       NaN       NaN         6   \n",
       "29         31         3        NaN        NaN       NaN       NaN         6   \n",
       "...       ...       ...        ...        ...       ...       ...       ...   \n",
       "13563   12547         2        NaN        NaN       NaN       NaN         6   \n",
       "13564   12547         3        NaN        NaN       NaN       NaN         6   \n",
       "13565   12550         1        NaN        NaN       NaN       NaN         6   \n",
       "13566   12551         1        NaN        NaN       NaN       NaN         5   \n",
       "13567   12554         1        NaN        NaN       NaN       NaN         3   \n",
       "13568   12554         2        NaN        NaN       NaN       NaN         4   \n",
       "13569   12556         1        NaN        NaN       NaN       NaN         6   \n",
       "13570   12556         2        NaN        NaN       NaN       NaN         6   \n",
       "13571   12556         3        NaN        NaN       NaN       NaN         6   \n",
       "13572   12556         4        NaN        NaN       NaN       NaN         6   \n",
       "13573   12561         1        NaN        NaN       NaN       NaN         6   \n",
       "13574   12561         2        NaN        NaN       NaN       NaN         6   \n",
       "13575   12564         1        NaN        NaN       NaN       NaN         3   \n",
       "13576   12565         1        NaN        NaN       NaN       NaN         6   \n",
       "13577   12565         2         35          1         8       NaN       NaN   \n",
       "13578   12566         1        NaN        NaN       NaN       NaN         6   \n",
       "13579   12566         2        NaN        NaN       NaN       NaN         6   \n",
       "13580   12568         1        NaN        NaN       NaN       NaN         1   \n",
       "13581   12568         2        NaN        NaN       NaN       NaN         5   \n",
       "13582   12568         3        NaN        NaN       NaN       NaN         4   \n",
       "13583   12569         1        NaN        NaN       NaN       NaN         3   \n",
       "13584   12569         2        NaN        NaN       NaN       NaN         6   \n",
       "13585   12570         1        NaN        NaN       NaN       NaN         3   \n",
       "13586   12570         2        NaN        NaN       NaN       NaN         3   \n",
       "13587   12570         3        NaN        NaN       NaN       NaN         3   \n",
       "13588   12571         1        NaN        NaN       NaN       NaN         6   \n",
       "13589   12571         2        NaN        NaN       NaN       NaN         3   \n",
       "13590   12571         3        NaN        NaN       NaN       NaN         3   \n",
       "13591   12571         4        NaN        NaN       NaN       NaN         6   \n",
       "13592   12571         5        NaN        NaN       NaN       NaN         6   \n",
       "\n",
       "       pregend2  nbrnaliv  multbrth     ...       laborfor_i  religion_i  \\\n",
       "0           NaN         1       NaN     ...                0           0   \n",
       "1           NaN         1       NaN     ...                0           0   \n",
       "2           NaN         3         5     ...                0           0   \n",
       "3           NaN         1       NaN     ...                0           0   \n",
       "4           NaN         1       NaN     ...                0           0   \n",
       "5           NaN         1       NaN     ...                0           0   \n",
       "6           NaN         1       NaN     ...                0           0   \n",
       "7           NaN         1       NaN     ...                0           0   \n",
       "8           NaN         1       NaN     ...                0           0   \n",
       "9           NaN         1       NaN     ...                0           0   \n",
       "10          NaN         1       NaN     ...                0           0   \n",
       "11          NaN         1       NaN     ...                0           0   \n",
       "12          NaN         1       NaN     ...                0           0   \n",
       "13          NaN       NaN       NaN     ...                0           0   \n",
       "14          NaN       NaN       NaN     ...                0           0   \n",
       "15          NaN         1       NaN     ...                0           0   \n",
       "16          NaN         1       NaN     ...                0           0   \n",
       "17          NaN         1       NaN     ...                0           0   \n",
       "18          NaN       NaN       NaN     ...                0           0   \n",
       "19          NaN         1       NaN     ...                0           0   \n",
       "20          NaN         1       NaN     ...                0           0   \n",
       "21          NaN         1       NaN     ...                0           0   \n",
       "22          NaN       NaN       NaN     ...                0           0   \n",
       "23          NaN         1       NaN     ...                0           0   \n",
       "24          NaN         1       NaN     ...                0           0   \n",
       "25          NaN         1       NaN     ...                0           0   \n",
       "26          NaN         1       NaN     ...                0           0   \n",
       "27          NaN         1       NaN     ...                0           0   \n",
       "28          NaN         1       NaN     ...                0           0   \n",
       "29          NaN         1       NaN     ...                0           0   \n",
       "...         ...       ...       ...     ...              ...         ...   \n",
       "13563       NaN         1       NaN     ...                0           0   \n",
       "13564       NaN         1       NaN     ...                0           0   \n",
       "13565       NaN         1       NaN     ...                0           0   \n",
       "13566       NaN         1       NaN     ...                0           0   \n",
       "13567       NaN       NaN       NaN     ...                0           0   \n",
       "13568       NaN       NaN       NaN     ...                0           0   \n",
       "13569       NaN         1       NaN     ...                0           0   \n",
       "13570       NaN         1       NaN     ...                0           0   \n",
       "13571       NaN         1       NaN     ...                0           0   \n",
       "13572       NaN         1       NaN     ...                0           0   \n",
       "13573       NaN         1       NaN     ...                0           0   \n",
       "13574       NaN         1       NaN     ...                0           0   \n",
       "13575       NaN       NaN       NaN     ...                0           0   \n",
       "13576       NaN         1       NaN     ...                0           0   \n",
       "13577       NaN       NaN       NaN     ...                0           0   \n",
       "13578       NaN         1       NaN     ...                0           0   \n",
       "13579       NaN         1       NaN     ...                0           0   \n",
       "13580       NaN       NaN       NaN     ...                0           0   \n",
       "13581       NaN         1       NaN     ...                0           0   \n",
       "13582       NaN       NaN       NaN     ...                0           0   \n",
       "13583       NaN       NaN       NaN     ...                0           0   \n",
       "13584       NaN         1       NaN     ...                0           0   \n",
       "13585       NaN       NaN       NaN     ...                0           0   \n",
       "13586       NaN       NaN       NaN     ...                0           0   \n",
       "13587       NaN       NaN       NaN     ...                0           0   \n",
       "13588       NaN         1       NaN     ...                0           0   \n",
       "13589       NaN       NaN       NaN     ...                0           0   \n",
       "13590       NaN       NaN       NaN     ...                0           0   \n",
       "13591       NaN         1       NaN     ...                0           0   \n",
       "13592       NaN         1       NaN     ...                0           0   \n",
       "\n",
       "       metro_i      basewgt  adj_mod_basewgt      finalwgt  secu_p  sest  \\\n",
       "0            0  3410.389399      3869.349602   6448.271112       2     9   \n",
       "1            0  3410.389399      3869.349602   6448.271112       2     9   \n",
       "2            0  7226.301740      8567.549110  12999.542264       2    12   \n",
       "3            0  7226.301740      8567.549110  12999.542264       2    12   \n",
       "4            0  7226.301740      8567.549110  12999.542264       2    12   \n",
       "5            0  4870.926435      5325.196999   8874.440799       1    23   \n",
       "6            0  4870.926435      5325.196999   8874.440799       1    23   \n",
       "7            0  4870.926435      5325.196999   8874.440799       1    23   \n",
       "8            0  3409.579565      3787.539000   6911.879921       2    14   \n",
       "9            0  3409.579565      3787.539000   6911.879921       2    14   \n",
       "10           0  3612.781968      4146.013572   6909.331618       1    31   \n",
       "11           0  2418.069494      2810.302771   3039.904507       2    56   \n",
       "12           0  2418.069494      2810.302771   3039.904507       2    56   \n",
       "13           0  2418.069494      2810.302771   3039.904507       2    56   \n",
       "14           0  1667.816099      3200.862017   5553.495599       1    33   \n",
       "15           0  1667.816099      3200.862017   5553.495599       1    33   \n",
       "16           0  1667.816099      3200.862017   5553.495599       1    33   \n",
       "17           0  2957.257457      3404.403067   4153.371741       2    14   \n",
       "18           0  2957.257457      3404.403067   4153.371741       2    14   \n",
       "19           0  3408.342437      3965.763949   7237.122630       1    48   \n",
       "20           0  3408.342437      3965.763949   7237.122630       1    48   \n",
       "21           0  6210.373020      8120.841310  13533.382043       2    64   \n",
       "22           0  6210.373020      8120.841310  13533.382043       2    64   \n",
       "23           0  3409.573258      4068.628645   7424.840414       1    27   \n",
       "24           0  3409.573258      4068.628645   7424.840414       1    27   \n",
       "25           0  3409.573258      4068.628645   7424.840414       1    27   \n",
       "26           0  3407.794208      3808.343516   6949.846082       2    57   \n",
       "27           0  3405.679025      4272.084519   5211.943113       1     2   \n",
       "28           0  3405.679025      4272.084519   5211.943113       1     2   \n",
       "29           0  3405.679025      4272.084519   5211.943113       1     2   \n",
       "...        ...          ...              ...           ...     ...   ...   \n",
       "13563        0  3453.545517      6628.022524  11499.619080       1    52   \n",
       "13564        0  3453.545517      6628.022524  11499.619080       1    52   \n",
       "13565        0  3080.452699      3745.326058   5268.550165       1    79   \n",
       "13566        0  2418.538866      3653.453268   3951.940400       2    75   \n",
       "13567        0  1914.676604      2177.957240   2764.045534       2    75   \n",
       "13568        0  1914.676604      2177.957240   2764.045534       2    75   \n",
       "13569        0  2474.619764      3250.573384   3965.699528       1    44   \n",
       "13570        0  2474.619764      3250.573384   3965.699528       1    44   \n",
       "13571        0  2474.619764      3250.573384   3965.699528       1    44   \n",
       "13572        0  2474.619764      3250.573384   3965.699528       1    44   \n",
       "13573        0  2418.089703      2698.650781   4497.301527       1    10   \n",
       "13574        0  2418.089703      2698.650781   4497.301527       1    10   \n",
       "13575        0  1820.850938      2129.214067   2768.191208       2    44   \n",
       "13576        0  3195.641221      3834.241709   6652.409365       1    78   \n",
       "13577        0  3195.641221      3834.241709   6652.409365       1    78   \n",
       "13578        0  2080.317155      2422.820274   2627.548587       2     2   \n",
       "13579        0  2080.317155      2422.820274   2627.548587       2     2   \n",
       "13580        0  2734.687353      4258.980140   7772.212858       2    28   \n",
       "13581        0  2734.687353      4258.980140   7772.212858       2    28   \n",
       "13582        0  2734.687353      4258.980140   7772.212858       2    28   \n",
       "13583        0  2580.967613      2925.167116   5075.164946       2    61   \n",
       "13584        0  2580.967613      2925.167116   5075.164946       2    61   \n",
       "13585        0  5181.311509      6205.829154  11325.017623       2    40   \n",
       "13586        0  5181.311509      6205.829154  11325.017623       2    40   \n",
       "13587        0  5181.311509      6205.829154  11325.017623       2    40   \n",
       "13588        0  4670.540953      5795.692880   6269.200989       1    78   \n",
       "13589        0  4670.540953      5795.692880   6269.200989       1    78   \n",
       "13590        0  4670.540953      5795.692880   6269.200989       1    78   \n",
       "13591        0  4670.540953      5795.692880   6269.200989       1    78   \n",
       "13592        0  4670.540953      5795.692880   6269.200989       1    78   \n",
       "\n",
       "       cmintvw  totalwgt_lb  \n",
       "0          NaN       8.8125  \n",
       "1          NaN       7.8750  \n",
       "2          NaN       9.1250  \n",
       "3          NaN       7.0000  \n",
       "4          NaN       6.1875  \n",
       "5          NaN       8.5625  \n",
       "6          NaN       9.5625  \n",
       "7          NaN       8.3750  \n",
       "8          NaN       7.5625  \n",
       "9          NaN       6.6250  \n",
       "10         NaN       7.8125  \n",
       "11         NaN       7.0000  \n",
       "12         NaN       4.0000  \n",
       "13         NaN          NaN  \n",
       "14         NaN          NaN  \n",
       "15         NaN       7.6875  \n",
       "16         NaN       7.5000  \n",
       "17         NaN       6.3125  \n",
       "18         NaN          NaN  \n",
       "19         NaN       8.7500  \n",
       "20         NaN       8.1875  \n",
       "21         NaN       5.5625  \n",
       "22         NaN          NaN  \n",
       "23         NaN       6.7500  \n",
       "24         NaN       7.3750  \n",
       "25         NaN       6.8125  \n",
       "26         NaN       8.1250  \n",
       "27         NaN       7.1250  \n",
       "28         NaN       6.0625  \n",
       "29         NaN       7.4375  \n",
       "...        ...          ...  \n",
       "13563      NaN       7.6875  \n",
       "13564      NaN       7.6250  \n",
       "13565      NaN       8.1250  \n",
       "13566      NaN       7.5000  \n",
       "13567      NaN          NaN  \n",
       "13568      NaN          NaN  \n",
       "13569      NaN       5.8125  \n",
       "13570      NaN       6.6875  \n",
       "13571      NaN       6.0000  \n",
       "13572      NaN       5.8125  \n",
       "13573      NaN       6.5625  \n",
       "13574      NaN       6.1250  \n",
       "13575      NaN          NaN  \n",
       "13576      NaN       6.4375  \n",
       "13577      NaN          NaN  \n",
       "13578      NaN       6.0000  \n",
       "13579      NaN       7.0000  \n",
       "13580      NaN          NaN  \n",
       "13581      NaN       6.3750  \n",
       "13582      NaN          NaN  \n",
       "13583      NaN          NaN  \n",
       "13584      NaN       6.3750  \n",
       "13585      NaN          NaN  \n",
       "13586      NaN          NaN  \n",
       "13587      NaN          NaN  \n",
       "13588      NaN       6.1875  \n",
       "13589      NaN          NaN  \n",
       "13590      NaN          NaN  \n",
       "13591      NaN       7.5000  \n",
       "13592      NaN       7.5000  \n",
       "\n",
       "[13593 rows x 244 columns]"
      ]
     },
     "execution_count": 7,
     "metadata": {},
     "output_type": "execute_result"
    }
   ],
   "source": [
    "df"
   ]
  },
  {
   "cell_type": "code",
   "execution_count": 8,
   "metadata": {
    "collapsed": false
   },
   "outputs": [
    {
     "data": {
      "text/plain": [
       "Index([u'caseid', u'pregordr', u'howpreg_n', u'howpreg_p', u'moscurrp', u'nowprgdk', u'pregend1', u'pregend2', u'nbrnaliv', u'multbrth', u'cmotpreg', u'prgoutcome', u'cmprgend', u'flgdkmo1', u'cmprgbeg', u'ageatend', u'hpageend', u'gestasun_m', u'gestasun_w', u'wksgest', u'mosgest', u'dk1gest', u'dk2gest', u'dk3gest', u'bpa_bdscheck1', u'bpa_bdscheck2', u'bpa_bdscheck3', u'babysex', u'birthwgt_lb', u'birthwgt_oz', u'lobthwgt', u'babysex2', u'birthwgt_lb2', u'birthwgt_oz2', u'lobthwgt2', u'babysex3', u'birthwgt_lb3', u'birthwgt_oz3', u'lobthwgt3', u'cmbabdob', u'kidage', u'hpagelb', u'birthplc', u'paybirth1', u'paybirth2', u'paybirth3', u'knewpreg', u'trimestr', u'ltrimest', u'priorsmk', u'postsmks', u'npostsmk', u'getprena', u'bgnprena', u'pnctrim', u'lpnctri', u'workpreg', u'workborn', u'didwork', u'matweeks', u'weeksdk', u'matleave', u'matchfound', u'livehere', u'alivenow', u'cmkidied', u'cmkidlft', u'lastage', u'wherenow', u'legagree', u'parenend', u'anynurse', u'fedsolid', u'frsteatd_n', u'frsteatd_p', u'frsteatd', u'quitnurs', u'ageqtnur_n', u'ageqtnur_p', u'ageqtnur', u'matchfound2', u'livehere2', u'alivenow2', u'cmkidied2', u'cmkidlft2', u'lastage2', u'wherenow2', u'legagree2', u'parenend2', u'anynurse2', u'fedsolid2', u'frsteatd_n2', u'frsteatd_p2', u'frsteatd2', u'quitnurs2', u'ageqtnur_n2', u'ageqtnur_p2', u'ageqtnur2', u'matchfound3', u'livehere3', ...], dtype='object')"
      ]
     },
     "execution_count": 8,
     "metadata": {},
     "output_type": "execute_result"
    }
   ],
   "source": [
    "df.columns"
   ]
  },
  {
   "cell_type": "code",
   "execution_count": 9,
   "metadata": {
    "collapsed": false
   },
   "outputs": [
    {
     "data": {
      "text/plain": [
       "u'pregordr'"
      ]
     },
     "execution_count": 9,
     "metadata": {},
     "output_type": "execute_result"
    }
   ],
   "source": [
    "df.columns[1]"
   ]
  },
  {
   "cell_type": "code",
   "execution_count": 10,
   "metadata": {
    "collapsed": true
   },
   "outputs": [],
   "source": [
    "pregordr = df['pregordr']"
   ]
  },
  {
   "cell_type": "code",
   "execution_count": 11,
   "metadata": {
    "collapsed": false
   },
   "outputs": [
    {
     "data": {
      "text/plain": [
       "0     1\n",
       "1     2\n",
       "2     1\n",
       "3     2\n",
       "4     3\n",
       "5     1\n",
       "6     2\n",
       "7     3\n",
       "8     1\n",
       "9     2\n",
       "10    1\n",
       "11    1\n",
       "12    2\n",
       "13    3\n",
       "14    1\n",
       "...\n",
       "13578    1\n",
       "13579    2\n",
       "13580    1\n",
       "13581    2\n",
       "13582    3\n",
       "13583    1\n",
       "13584    2\n",
       "13585    1\n",
       "13586    2\n",
       "13587    3\n",
       "13588    1\n",
       "13589    2\n",
       "13590    3\n",
       "13591    4\n",
       "13592    5\n",
       "Name: pregordr, Length: 13593, dtype: int64"
      ]
     },
     "execution_count": 11,
     "metadata": {},
     "output_type": "execute_result"
    }
   ],
   "source": [
    "pregordr"
   ]
  },
  {
   "cell_type": "code",
   "execution_count": 12,
   "metadata": {
    "collapsed": false
   },
   "outputs": [
    {
     "data": {
      "text/plain": [
       "1"
      ]
     },
     "execution_count": 12,
     "metadata": {},
     "output_type": "execute_result"
    }
   ],
   "source": [
    "pregordr[0]"
   ]
  },
  {
   "cell_type": "code",
   "execution_count": 13,
   "metadata": {
    "collapsed": false
   },
   "outputs": [
    {
     "data": {
      "text/plain": [
       "0    1\n",
       "1    2\n",
       "2    1\n",
       "3    2\n",
       "4    3\n",
       "5    1\n",
       "6    2\n",
       "7    3\n",
       "8    1\n",
       "9    2\n",
       "Name: pregordr, dtype: int64"
      ]
     },
     "execution_count": 13,
     "metadata": {},
     "output_type": "execute_result"
    }
   ],
   "source": [
    "pregordr.head(10)"
   ]
  },
  {
   "cell_type": "code",
   "execution_count": 14,
   "metadata": {
    "collapsed": false
   },
   "outputs": [
    {
     "data": {
      "text/plain": [
       "2    1\n",
       "3    2\n",
       "4    3\n",
       "Name: pregordr, dtype: int64"
      ]
     },
     "execution_count": 14,
     "metadata": {},
     "output_type": "execute_result"
    }
   ],
   "source": [
    "pregordr[2:5]"
   ]
  },
  {
   "cell_type": "code",
   "execution_count": 15,
   "metadata": {
    "collapsed": true
   },
   "outputs": [],
   "source": [
    "pregordr = df.pregordr"
   ]
  },
  {
   "cell_type": "markdown",
   "metadata": {},
   "source": [
    "## Variables\n",
    "\n",
    "We have already seen two variables in the NSFG dataset, ```caseid``` and ```pregordr```, and we have seen that there are 244 variables in total.\n",
    "For the explorations in this book, I use the following variables:\n",
    "\n",
    "* ```caseid``` is the integer ID of the respondent\n",
    "* ```prglngth``` is the integer duration of the pregnancy in weeks\n",
    "* ```outcome``` is an integer code for the outcome of the pregnancy. The code 1 indicates a live birth\n",
    "* ```pregordr``` is a pregnancy serial number; for example, the code for a respondent's first child is 1, and so on.\n",
    "* ```birthord``` is a serial number for live births; the code for a resopndent's first child is 1, and so on. For outcomes other than live birth, this field is blank.\n",
    "* ```birthwgt_lb``` and ```birthwgt_oz``` contain the pounds and ounces parts of the birth weight of the baby\n",
    "* ```agepreg``` is the mother's age at the end of the pregnancy\n",
    "* ```finalwgt``` is the statistical weight associated with the respondent. It is a floating-point value that indicates the number of people in the U.S. population this respondent represents.\n"
   ]
  },
  {
   "cell_type": "code",
   "execution_count": 16,
   "metadata": {
    "collapsed": false
   },
   "outputs": [
    {
     "data": {
      "text/plain": [
       "1    9148\n",
       "2    1862\n",
       "3     120\n",
       "4    1921\n",
       "5     190\n",
       "6     352\n",
       "dtype: int64"
      ]
     },
     "execution_count": 16,
     "metadata": {},
     "output_type": "execute_result"
    }
   ],
   "source": [
    "df.outcome.value_counts().sort_index()"
   ]
  },
  {
   "cell_type": "code",
   "execution_count": 17,
   "metadata": {
    "collapsed": false
   },
   "outputs": [
    {
     "data": {
      "text/plain": [
       "0        8\n",
       "1       40\n",
       "2       53\n",
       "3       98\n",
       "4      229\n",
       "5      697\n",
       "6     2223\n",
       "7     3049\n",
       "8     1889\n",
       "9      623\n",
       "10     132\n",
       "11      26\n",
       "12      10\n",
       "13       3\n",
       "14       3\n",
       "15       1\n",
       "dtype: int64"
      ]
     },
     "execution_count": 17,
     "metadata": {},
     "output_type": "execute_result"
    }
   ],
   "source": [
    "df.birthwgt_lb.value_counts().sort_index()"
   ]
  },
  {
   "cell_type": "code",
   "execution_count": 18,
   "metadata": {
    "collapsed": false
   },
   "outputs": [
    {
     "data": {
      "text/plain": [
       "1125"
      ]
     },
     "execution_count": 18,
     "metadata": {},
     "output_type": "execute_result"
    }
   ],
   "source": [
    "df.birthwgt_lb[df.birthwgt_lb < 6].value_counts().sum()"
   ]
  },
  {
   "cell_type": "code",
   "execution_count": 19,
   "metadata": {
    "collapsed": false
   },
   "outputs": [
    {
     "data": {
      "text/plain": [
       "2223"
      ]
     },
     "execution_count": 19,
     "metadata": {},
     "output_type": "execute_result"
    }
   ],
   "source": [
    "df.birthwgt_lb[df.birthwgt_lb == 6].value_counts().sum()"
   ]
  },
  {
   "cell_type": "code",
   "execution_count": 20,
   "metadata": {
    "collapsed": false
   },
   "outputs": [
    {
     "data": {
      "text/plain": [
       "3049"
      ]
     },
     "execution_count": 20,
     "metadata": {},
     "output_type": "execute_result"
    }
   ],
   "source": [
    "df.birthwgt_lb[df.birthwgt_lb == 7].value_counts().sum()"
   ]
  },
  {
   "cell_type": "code",
   "execution_count": 21,
   "metadata": {
    "collapsed": false
   },
   "outputs": [
    {
     "data": {
      "text/plain": [
       "1889"
      ]
     },
     "execution_count": 21,
     "metadata": {},
     "output_type": "execute_result"
    }
   ],
   "source": [
    "df.birthwgt_lb[df.birthwgt_lb == 8].value_counts().sum()"
   ]
  },
  {
   "cell_type": "code",
   "execution_count": 22,
   "metadata": {
    "collapsed": false
   },
   "outputs": [
    {
     "data": {
      "text/plain": [
       "798"
      ]
     },
     "execution_count": 22,
     "metadata": {},
     "output_type": "execute_result"
    }
   ],
   "source": [
    "df.birthwgt_lb[df.birthwgt_lb >= 9].value_counts().sum()"
   ]
  },
  {
   "cell_type": "code",
   "execution_count": 23,
   "metadata": {
    "collapsed": true
   },
   "outputs": [],
   "source": [
    "caseid = 10229"
   ]
  },
  {
   "cell_type": "code",
   "execution_count": 24,
   "metadata": {
    "collapsed": false
   },
   "outputs": [
    {
     "data": {
      "text/html": [
       "<div style=\"max-height:1000px;max-width:1500px;overflow:auto;\">\n",
       "<table border=\"1\" class=\"dataframe\">\n",
       "  <thead>\n",
       "    <tr style=\"text-align: right;\">\n",
       "      <th></th>\n",
       "      <th>outcome</th>\n",
       "      <th>caseid</th>\n",
       "    </tr>\n",
       "  </thead>\n",
       "  <tbody>\n",
       "    <tr>\n",
       "      <th>11093</th>\n",
       "      <td> 4</td>\n",
       "      <td> 10229</td>\n",
       "    </tr>\n",
       "    <tr>\n",
       "      <th>11094</th>\n",
       "      <td> 4</td>\n",
       "      <td> 10229</td>\n",
       "    </tr>\n",
       "    <tr>\n",
       "      <th>11095</th>\n",
       "      <td> 4</td>\n",
       "      <td> 10229</td>\n",
       "    </tr>\n",
       "    <tr>\n",
       "      <th>11096</th>\n",
       "      <td> 4</td>\n",
       "      <td> 10229</td>\n",
       "    </tr>\n",
       "    <tr>\n",
       "      <th>11097</th>\n",
       "      <td> 4</td>\n",
       "      <td> 10229</td>\n",
       "    </tr>\n",
       "    <tr>\n",
       "      <th>11098</th>\n",
       "      <td> 4</td>\n",
       "      <td> 10229</td>\n",
       "    </tr>\n",
       "    <tr>\n",
       "      <th>11099</th>\n",
       "      <td> 1</td>\n",
       "      <td> 10229</td>\n",
       "    </tr>\n",
       "  </tbody>\n",
       "</table>\n",
       "</div>"
      ],
      "text/plain": [
       "       outcome  caseid\n",
       "11093        4   10229\n",
       "11094        4   10229\n",
       "11095        4   10229\n",
       "11096        4   10229\n",
       "11097        4   10229\n",
       "11098        4   10229\n",
       "11099        1   10229"
      ]
     },
     "execution_count": 24,
     "metadata": {},
     "output_type": "execute_result"
    }
   ],
   "source": [
    "df[['outcome','caseid']][df['caseid'] == 10229]"
   ]
  },
  {
   "cell_type": "markdown",
   "metadata": {},
   "source": [
    "## Exercises\n",
    "\n",
    "### Exercise 1\n",
    "In the repository you downloaded, you should find a file named ```chap01ex.ipynb```, which is an IPython notebook. You can launch IPython notebook from the command line like this:\n",
    "\n",
    "```\n",
    "> ipython notebook \n",
    "```\n",
    "\n",
    "If IPython is installed, it should launch a server that runs in the background and open a browser to view the notebook. If you are not familiar with IPython, I suggest you start at \n",
    "http://ipython.org/ipython-doc/stable/notebook/notebook.html.\n",
    "\n",
    "To launch the IPython notebook server, run:\n",
    "\n",
    "```\n",
    "> ipython notebook &\n",
    "```\n",
    "\n",
    "It should open a new browser window, but if not, the startup message provides a URL you can load in a browser, usually http://localhost:8888 . The new window should list the notebooks in the repository.\n",
    "\n",
    "Open ```chap01.ex.ipynb```. Some cells are already filled in, and you should execute them. Other cells give you instructions for exercises you should try. A solution to this exercise is in ```chap01soln.ipynb```."
   ]
  },
  {
   "cell_type": "markdown",
   "metadata": {},
   "source": [
    "## Exercise 2\n",
    "\n",
    "In the repository you downloaded, you should find a file named ```chap01ex.py```; using this file as a starting place, write a function that reads the respondent file, ```2002FemResp.dat.gz```.\n",
    "The variable ```pregnum``` is a recode that indicates how many times each respondent has been pregnant. Print the value counts for this variable and compare them to the published results in the NSFG codebook. You can also cross-validate the respondent and pregnancy files by comparing ```pregnum``` for each respondent with the number of records in the pregnancy file.\n",
    "\n",
    "You can use ```nsf.MakePregMap``` to make a dictionary that maps from each ```caseid``` to a list of indices into the pregnancy dataframe. A solution to this exercise is in ```chap01soln.py```"
   ]
  },
  {
   "cell_type": "code",
   "execution_count": null,
   "metadata": {
    "collapsed": false
   },
   "outputs": [],
   "source": [
    "# %load chap01ex.py\n",
    "\"\"\"This file contains code for use with \"Think Stats\",\n",
    "by Allen B. Downey, available from greenteapress.com\n",
    "\n",
    "Copyright 2014 Allen B. Downey\n",
    "License: GNU GPLv3 http://www.gnu.org/licenses/gpl.html\n",
    "\"\"\"\n",
    "\n",
    "from __future__ import print_function\n",
    "\n",
    "import numpy as np\n",
    "import sys\n",
    "\n",
    "import nsfg\n",
    "import thinkstats2\n",
    "\n",
    "\n",
    "def main(script):\n",
    "    \"\"\"Tests the functions in this module.\n",
    "\n",
    "    script: string script name\n",
    "    \"\"\"\n",
    "    print('%s: All tests passed.' % script)\n",
    "\n",
    "\n",
    "if __name__ == '__main__':\n",
    "    main(*sys.argv)\n"
   ]
  },
  {
   "cell_type": "code",
   "execution_count": 27,
   "metadata": {
    "collapsed": true
   },
   "outputs": [],
   "source": [
    "def ReadFemResp(dct_file='2002FemResp.dct',\n",
    "                dat_file='2002FemResp.dat.gz'):\n",
    "    \"\"\"Reads the NSFG pregnancy data.\n",
    "\n",
    "    dct_file: string file name\n",
    "    dat_file: string file name\n",
    "\n",
    "    returns: DataFrame\n",
    "    \"\"\"\n",
    "    dct = thinkstats2.ReadStataDct(dct_file)\n",
    "    df = dct.ReadFixedWidth(dat_file, compression='gzip')\n",
    "    #CleanFemPreg(df)\n",
    "    return df\n"
   ]
  },
  {
   "cell_type": "code",
   "execution_count": 28,
   "metadata": {
    "collapsed": true
   },
   "outputs": [],
   "source": [
    "dfresp = ReadFemResp()"
   ]
  },
  {
   "cell_type": "code",
   "execution_count": 29,
   "metadata": {
    "collapsed": false
   },
   "outputs": [
    {
     "data": {
      "text/plain": [
       "(7643, 3087)"
      ]
     },
     "execution_count": 29,
     "metadata": {},
     "output_type": "execute_result"
    }
   ],
   "source": [
    "dfresp.shape"
   ]
  },
  {
   "cell_type": "code",
   "execution_count": 30,
   "metadata": {
    "collapsed": false
   },
   "outputs": [
    {
     "data": {
      "text/plain": [
       "count    7643.000000\n",
       "mean        1.778490\n",
       "std         1.847921\n",
       "min         0.000000\n",
       "25%         0.000000\n",
       "50%         1.000000\n",
       "75%         3.000000\n",
       "max        19.000000\n",
       "Name: pregnum, dtype: float64"
      ]
     },
     "execution_count": 30,
     "metadata": {},
     "output_type": "execute_result"
    }
   ],
   "source": [
    "dfresp.pregnum.describe()"
   ]
  },
  {
   "cell_type": "code",
   "execution_count": 31,
   "metadata": {
    "collapsed": false
   },
   "outputs": [
    {
     "data": {
      "text/plain": [
       "0     2610\n",
       "1     1267\n",
       "2     1432\n",
       "3     1110\n",
       "4      611\n",
       "5      305\n",
       "6      150\n",
       "7       80\n",
       "8       40\n",
       "9       21\n",
       "10       9\n",
       "11       3\n",
       "12       2\n",
       "14       2\n",
       "19       1\n",
       "dtype: int64"
      ]
     },
     "execution_count": 31,
     "metadata": {},
     "output_type": "execute_result"
    }
   ],
   "source": [
    "dfresp.pregnum.value_counts().sort_index()"
   ]
  },
  {
   "cell_type": "code",
   "execution_count": 32,
   "metadata": {
    "collapsed": false
   },
   "outputs": [
    {
     "data": {
      "text/plain": [
       "158"
      ]
     },
     "execution_count": 32,
     "metadata": {},
     "output_type": "execute_result"
    }
   ],
   "source": [
    "dfresp.pregnum[dfresp.pregnum >= 7].value_counts().sum()"
   ]
  },
  {
   "cell_type": "code",
   "execution_count": 33,
   "metadata": {
    "collapsed": false
   },
   "outputs": [
    {
     "data": {
      "text/plain": [
       "13593"
      ]
     },
     "execution_count": 33,
     "metadata": {},
     "output_type": "execute_result"
    }
   ],
   "source": [
    "dfresp.pregnum.sum()"
   ]
  },
  {
   "cell_type": "code",
   "execution_count": 34,
   "metadata": {
    "collapsed": false
   },
   "outputs": [
    {
     "data": {
      "text/plain": [
       "(13593, 244)"
      ]
     },
     "execution_count": 34,
     "metadata": {},
     "output_type": "execute_result"
    }
   ],
   "source": [
    "df.shape"
   ]
  },
  {
   "cell_type": "code",
   "execution_count": 35,
   "metadata": {
    "collapsed": false
   },
   "outputs": [
    {
     "data": {
      "text/plain": [
       "0      2298\n",
       "1      5012\n",
       "2     11586\n",
       "3      6794\n",
       "4       616\n",
       "5       845\n",
       "6     10333\n",
       "7       855\n",
       "8      8656\n",
       "9      3566\n",
       "10     5917\n",
       "11     9200\n",
       "12     6320\n",
       "13    11700\n",
       "14     7354\n",
       "...\n",
       "7628     6365\n",
       "7629     3537\n",
       "7630     1515\n",
       "7631     9174\n",
       "7632     4213\n",
       "7633     6804\n",
       "7634     1282\n",
       "7635     2954\n",
       "7636     4964\n",
       "7637      143\n",
       "7638    11018\n",
       "7639     6075\n",
       "7640     5649\n",
       "7641      501\n",
       "7642    10252\n",
       "Name: caseid, Length: 7643, dtype: int64"
      ]
     },
     "execution_count": 35,
     "metadata": {},
     "output_type": "execute_result"
    }
   ],
   "source": [
    "dfresp.caseid"
   ]
  },
  {
   "cell_type": "markdown",
   "metadata": {},
   "source": [
    "### <font color=\"teal\">Chapter 2 Distributions</font>"
   ]
  },
  {
   "cell_type": "code",
   "execution_count": 36,
   "metadata": {
    "collapsed": false
   },
   "outputs": [
    {
     "data": {
      "text/plain": [
       "<matplotlib.axes._subplots.AxesSubplot at 0x10aca5ad0>"
      ]
     },
     "execution_count": 36,
     "metadata": {},
     "output_type": "execute_result"
    },
    {
     "data": {
      "image/png": "[encoded data removed]",
      "text/plain": [
       "<matplotlib.figure.Figure at 0x10aca53d0>"
      ]
     },
     "metadata": {},
     "output_type": "display_data"
    }
   ],
   "source": [
    "df.birthwgt_lb.value_counts().sort_index().plot()"
   ]
  },
  {
   "cell_type": "code",
   "execution_count": 37,
   "metadata": {
    "collapsed": false
   },
   "outputs": [
    {
     "data": {
      "text/plain": [
       "<matplotlib.axes._subplots.AxesSubplot at 0x10aa77110>"
      ]
     },
     "execution_count": 37,
     "metadata": {},
     "output_type": "execute_result"
    },
    {
     "data": {
      "image/png": "[encoded data removed]",
      "text/plain": [
       "<matplotlib.figure.Figure at 0x10aa65fd0>"
      ]
     },
     "metadata": {},
     "output_type": "display_data"
    }
   ],
   "source": [
    "df.birthwgt_lb.value_counts().sort_index().plot(kind='bar')"
   ]
  },
  {
   "cell_type": "code",
   "execution_count": 38,
   "metadata": {
    "collapsed": false
   },
   "outputs": [
    {
     "data": {
      "text/plain": [
       "<matplotlib.axes._subplots.AxesSubplot at 0x10aa3aad0>"
      ]
     },
     "execution_count": 38,
     "metadata": {},
     "output_type": "execute_result"
    },
    {
     "data": {
      "image/png": "[encoded data removed]",
      "text/plain": [
       "<matplotlib.figure.Figure at 0x1092eced0>"
      ]
     },
     "metadata": {},
     "output_type": "display_data"
    }
   ],
   "source": [
    "df.birthwgt_oz.value_counts().sort_index().plot(kind='bar')"
   ]
  },
  {
   "cell_type": "markdown",
   "metadata": {},
   "source": [
    "When you start working with a new dataset, I suggest you explore the variables you are planning to use one at a time, and a good way to start is by looking at histograms."
   ]
  },
  {
   "cell_type": "code",
   "execution_count": 39,
   "metadata": {
    "collapsed": false
   },
   "outputs": [
    {
     "data": {
      "text/plain": [
       "0    33.16\n",
       "1    39.25\n",
       "2    14.33\n",
       "3    17.83\n",
       "4    18.33\n",
       "Name: agepreg, dtype: float64"
      ]
     },
     "execution_count": 39,
     "metadata": {},
     "output_type": "execute_result"
    }
   ],
   "source": [
    "df.agepreg.head()"
   ]
  },
  {
   "cell_type": "code",
   "execution_count": 40,
   "metadata": {
    "collapsed": false
   },
   "outputs": [
    {
     "data": {
      "text/plain": [
       "0    33\n",
       "1    39\n",
       "2    14\n",
       "3    18\n",
       "4    18\n",
       "Name: agepreg, dtype: float64"
      ]
     },
     "execution_count": 40,
     "metadata": {},
     "output_type": "execute_result"
    }
   ],
   "source": [
    "df.agepreg.round().head()"
   ]
  },
  {
   "cell_type": "code",
   "execution_count": 41,
   "metadata": {
    "collapsed": false
   },
   "outputs": [
    {
     "data": {
      "text/plain": [
       "<matplotlib.axes._subplots.AxesSubplot at 0x10d798810>"
      ]
     },
     "execution_count": 41,
     "metadata": {},
     "output_type": "execute_result"
    },
    {
     "data": {
      "image/png": "[encoded data removed]",
      "text/plain": [
       "<matplotlib.figure.Figure at 0x10aa49050>"
      ]
     },
     "metadata": {},
     "output_type": "display_data"
    }
   ],
   "source": [
    "df.agepreg.round().value_counts().sort_index().plot(kind='bar')"
   ]
  },
  {
   "cell_type": "code",
   "execution_count": 42,
   "metadata": {
    "collapsed": true
   },
   "outputs": [],
   "source": [
    "import nsfg"
   ]
  },
  {
   "cell_type": "code",
   "execution_count": 43,
   "metadata": {
    "collapsed": true
   },
   "outputs": [],
   "source": [
    "preg = nsfg.ReadFemPreg()"
   ]
  },
  {
   "cell_type": "code",
   "execution_count": 44,
   "metadata": {
    "collapsed": true
   },
   "outputs": [],
   "source": [
    "live = preg[preg.outcome == 1]"
   ]
  },
  {
   "cell_type": "code",
   "execution_count": 45,
   "metadata": {
    "collapsed": false
   },
   "outputs": [
    {
     "data": {
      "text/plain": [
       "<matplotlib.axes._subplots.AxesSubplot at 0x10d4f1890>"
      ]
     },
     "execution_count": 45,
     "metadata": {},
     "output_type": "execute_result"
    },
    {
     "data": {
      "image/png": "[encoded data removed]",
      "text/plain": [
       "<matplotlib.figure.Figure at 0x10d7df5d0>"
      ]
     },
     "metadata": {},
     "output_type": "display_data"
    }
   ],
   "source": [
    "live.birthwgt_lb.value_counts(). \\\n",
    "sort_index().plot(kind='bar', title='birthwgt_lb')"
   ]
  },
  {
   "cell_type": "code",
   "execution_count": 46,
   "metadata": {
    "collapsed": false
   },
   "outputs": [
    {
     "data": {
      "text/plain": [
       "<matplotlib.axes._subplots.AxesSubplot at 0x10aad6810>"
      ]
     },
     "execution_count": 46,
     "metadata": {},
     "output_type": "execute_result"
    },
    {
     "data": {
      "image/png": "[encoded data removed]",
      "text/plain": [
       "<matplotlib.figure.Figure at 0x10aae4110>"
      ]
     },
     "metadata": {},
     "output_type": "display_data"
    }
   ],
   "source": [
    "live.prglngth.value_counts(). \\\n",
    "sort_index().plot(kind='bar', title='prglngth')"
   ]
  },
  {
   "cell_type": "markdown",
   "metadata": {},
   "source": [
    "Before going on, it is a good idea to check for **outliers**, which are extreme values that might be errors in measurement and recording, or might be accurate reports of rare events."
   ]
  },
  {
   "cell_type": "code",
   "execution_count": 47,
   "metadata": {
    "collapsed": false
   },
   "outputs": [
    {
     "data": {
      "text/plain": [
       "0       1\n",
       "4       1\n",
       "9       1\n",
       "13      1\n",
       "17      2\n",
       "18      1\n",
       "19      1\n",
       "20      1\n",
       "21      2\n",
       "22      7\n",
       "23      1\n",
       "24     13\n",
       "25      3\n",
       "26     35\n",
       "27      3\n",
       "28     32\n",
       "29     21\n",
       "30    138\n",
       "31     27\n",
       "32    115\n",
       "dtype: int64"
      ]
     },
     "execution_count": 47,
     "metadata": {},
     "output_type": "execute_result"
    }
   ],
   "source": [
    "live.prglngth.value_counts().sort_index().head(20)"
   ]
  },
  {
   "cell_type": "code",
   "execution_count": 48,
   "metadata": {
    "collapsed": false
   },
   "outputs": [
    {
     "data": {
      "text/plain": [
       "30     138\n",
       "31      27\n",
       "32     115\n",
       "33      49\n",
       "34      60\n",
       "35     311\n",
       "36     321\n",
       "37     455\n",
       "38     607\n",
       "39    4693\n",
       "40    1116\n",
       "41     587\n",
       "42     328\n",
       "43     148\n",
       "44      46\n",
       "45      10\n",
       "46       1\n",
       "47       1\n",
       "48       7\n",
       "50       2\n",
       "dtype: int64"
      ]
     },
     "execution_count": 48,
     "metadata": {},
     "output_type": "execute_result"
    }
   ],
   "source": [
    "live.prglngth.value_counts().sort_index().tail(20)"
   ]
  },
  {
   "cell_type": "markdown",
   "metadata": {},
   "source": [
    "The best way to handle outliers depends on \"domain knowledge\": that is, information about where the data come from and what they mean. And it depends on what analysis you are planning to perform."
   ]
  },
  {
   "cell_type": "code",
   "execution_count": 49,
   "metadata": {
    "collapsed": true
   },
   "outputs": [],
   "source": [
    "firsts = live[live.birthord == 1]\n",
    "others = live[live.birthord != 1]"
   ]
  },
  {
   "cell_type": "code",
   "execution_count": 50,
   "metadata": {
    "collapsed": false
   },
   "outputs": [
    {
     "data": {
      "text/plain": [
       "<matplotlib.axes._subplots.AxesSubplot at 0x109281210>"
      ]
     },
     "execution_count": 50,
     "metadata": {},
     "output_type": "execute_result"
    },
    {
     "data": {
      "image/png": "[encoded data removed]",
      "text/plain": [
       "<matplotlib.figure.Figure at 0x10d4cd3d0>"
      ]
     },
     "metadata": {},
     "output_type": "display_data"
    }
   ],
   "source": [
    "firsts.prglngth.value_counts(). \\\n",
    "sort_index().plot(kind='bar',label='firsts')\n",
    "others.prglngth.value_counts(). \\\n",
    "sort_index().plot(kind='bar', label='others',color='blue')"
   ]
  },
  {
   "cell_type": "code",
   "execution_count": 51,
   "metadata": {
    "collapsed": true
   },
   "outputs": [],
   "source": [
    "firstbabies = firsts.prglngth.value_counts(). \\\n",
    "sort_index()"
   ]
  },
  {
   "cell_type": "code",
   "execution_count": 52,
   "metadata": {
    "collapsed": true
   },
   "outputs": [],
   "source": [
    "otherbabies = others.prglngth.value_counts().sort_index()"
   ]
  },
  {
   "cell_type": "code",
   "execution_count": 53,
   "metadata": {
    "collapsed": true
   },
   "outputs": [],
   "source": [
    "dfcf = pd.DataFrame({'first_babies': firstbabies,\n",
    "                    'other_babies': otherbabies})"
   ]
  },
  {
   "cell_type": "code",
   "execution_count": 54,
   "metadata": {
    "collapsed": false
   },
   "outputs": [
    {
     "data": {
      "text/plain": [
       "first_babies    1\n",
       "other_babies    1\n",
       "Name: 17, dtype: float64"
      ]
     },
     "execution_count": 54,
     "metadata": {},
     "output_type": "execute_result"
    }
   ],
   "source": [
    "dfcf.loc[17]"
   ]
  },
  {
   "cell_type": "code",
   "execution_count": 55,
   "metadata": {
    "collapsed": false
   },
   "outputs": [
    {
     "data": {
      "text/plain": [
       "<matplotlib.axes._subplots.AxesSubplot at 0x10ad68a10>"
      ]
     },
     "execution_count": 55,
     "metadata": {},
     "output_type": "execute_result"
    },
    {
     "data": {
      "image/png": "[encoded data removed]",
      "text/plain": [
       "<matplotlib.figure.Figure at 0x10d4cd5d0>"
      ]
     },
     "metadata": {},
     "output_type": "display_data"
    }
   ],
   "source": [
    "dfcf.loc[27:47].plot(kind='bar')\n"
   ]
  },
  {
   "cell_type": "markdown",
   "metadata": {},
   "source": [
    "Histograms are useful because they make the most frequent values immediately apparent. But they are not the best choice for comparing two distributions. In this example, there are fewer \"first babies\" than \"others,\" so some of the apparent differences in the histograms are due to sample sizes. In the next chapter we address this problem using probability mass functions."
   ]
  },
  {
   "cell_type": "code",
   "execution_count": 56,
   "metadata": {
    "collapsed": true
   },
   "outputs": [],
   "source": [
    "mean = live.prglngth.mean()"
   ]
  },
  {
   "cell_type": "code",
   "execution_count": 58,
   "metadata": {
    "collapsed": false
   },
   "outputs": [
    {
     "name": "stdout",
     "output_type": "stream",
     "text": [
      "38.5605596852\n"
     ]
    }
   ],
   "source": [
    "print(mean)"
   ]
  },
  {
   "cell_type": "code",
   "execution_count": 59,
   "metadata": {
    "collapsed": false
   },
   "outputs": [
    {
     "name": "stdout",
     "output_type": "stream",
     "text": [
      "7.30266206783\n",
      "2.70234381007\n"
     ]
    }
   ],
   "source": [
    "var = live.prglngth.var()\n",
    "print(var)\n",
    "std = live.prglngth.std()\n",
    "print(std)"
   ]
  },
  {
   "cell_type": "markdown",
   "metadata": {},
   "source": [
    "An **effect size** is a summary statistic intended to describe (wait for it) the size of an effect. For example, to describe the difference between two groups, one obvious choice is the difference in the means."
   ]
  },
  {
   "cell_type": "code",
   "execution_count": 60,
   "metadata": {
    "collapsed": false
   },
   "outputs": [
    {
     "name": "stdout",
     "output_type": "stream",
     "text": [
      "38.5229144667 38.6009517335\n"
     ]
    }
   ],
   "source": [
    "meanothers = others.prglngth.mean()\n",
    "meanfirsts = firsts.prglngth.mean()\n",
    "varothers = others.prglngth.var()\n",
    "varfirsts = firsts.prglngth.var()\n",
    "stdothers = others.prglngth.std()\n",
    "stdfirsts = firsts.prglngth.std()\n",
    "\n",
    "print(meanothers,meanfirsts)"
   ]
  },
  {
   "cell_type": "markdown",
   "metadata": {},
   "source": [
    "Mean pregnancy length for first babies is 38.601; for other babies it is 38.523. The difference is 0.078 weeks, which works out to 13 hours. As a fraction of the typical pregnancy length, this difference is about 0.2%.\n",
    "\n",
    "If we assume this estimate is accurate, such a difference would have no practical consequences. In fact, without observing a large number of pregnancies, it is unlikely that anyone would notice this difference at all."
   ]
  },
  {
   "cell_type": "code",
   "execution_count": 61,
   "metadata": {
    "collapsed": true
   },
   "outputs": [],
   "source": [
    "def CohenEffectSize(group1, group2):\n",
    "    import math\n",
    "    diff = group1.mean() - group2.mean()\n",
    "    \n",
    "    var1 = group1.var()\n",
    "    var2 = group2.var()\n",
    "    n1, n2 = len(group1), len(group2)\n",
    "    \n",
    "    pooled_var = (n1*var1 + n2*var2) / (n1 + n2)\n",
    "    d = diff / math.sqrt(pooled_var)\n",
    "    return d"
   ]
  },
  {
   "cell_type": "code",
   "execution_count": 62,
   "metadata": {
    "collapsed": true
   },
   "outputs": [],
   "source": [
    "huh = CohenEffectSize(firsts.prglngth, others.prglngth)"
   ]
  },
  {
   "cell_type": "code",
   "execution_count": 63,
   "metadata": {
    "collapsed": false
   },
   "outputs": [
    {
     "data": {
      "text/plain": [
       "0.028879044654449841"
      ]
     },
     "execution_count": 63,
     "metadata": {},
     "output_type": "execute_result"
    }
   ],
   "source": [
    "huh"
   ]
  },
  {
   "cell_type": "markdown",
   "metadata": {},
   "source": [
    "### Exercise 2\n",
    "In the repository you downloaded, you should find a file named ```chap02ex.ipynb```; open it. Some cells are already filled in, and you should execute them. Other cells give you instructions for exercises. Follow the instructions and fill in the answers. A solution to this exercise is in ```chap02soln.ipynb```.\n",
    "\n"
   ]
  },
  {
   "cell_type": "markdown",
   "metadata": {},
   "source": [
    "### Exercise 3\n",
    "The mode of a distribution is the most frequent value. Write a function called ```Mode``` that takes a Hist and reutrns the most frequent value."
   ]
  },
  {
   "cell_type": "code",
   "execution_count": 64,
   "metadata": {
    "collapsed": false
   },
   "outputs": [
    {
     "data": {
      "text/plain": [
       "0    39\n",
       "dtype: int64"
      ]
     },
     "execution_count": 64,
     "metadata": {},
     "output_type": "execute_result"
    }
   ],
   "source": [
    "firsts.prglngth.mode()"
   ]
  },
  {
   "cell_type": "code",
   "execution_count": 65,
   "metadata": {
    "collapsed": false
   },
   "outputs": [
    {
     "data": {
      "text/plain": [
       "0    39\n",
       "dtype: int64"
      ]
     },
     "execution_count": 65,
     "metadata": {},
     "output_type": "execute_result"
    }
   ],
   "source": [
    "others.prglngth.mode()"
   ]
  },
  {
   "cell_type": "code",
   "execution_count": 66,
   "metadata": {
    "collapsed": false
   },
   "outputs": [
    {
     "data": {
      "text/plain": [
       "39    2114\n",
       "40     536\n",
       "41     360\n",
       "38     272\n",
       "37     208\n",
       "42     205\n",
       "36     172\n",
       "35     159\n",
       "43      87\n",
       "30      73\n",
       "32      55\n",
       "34      29\n",
       "33      28\n",
       "28      24\n",
       "44      23\n",
       "26      16\n",
       "31      15\n",
       "29       9\n",
       "24       7\n",
       "45       6\n",
       "22       3\n",
       "48       3\n",
       "20       1\n",
       "47       1\n",
       "17       1\n",
       "21       1\n",
       "25       1\n",
       "46       1\n",
       "23       1\n",
       "27       1\n",
       "0        1\n",
       "dtype: int64"
      ]
     },
     "execution_count": 66,
     "metadata": {},
     "output_type": "execute_result"
    }
   ],
   "source": [
    "firsts.prglngth.value_counts()"
   ]
  },
  {
   "cell_type": "markdown",
   "metadata": {},
   "source": [
    "### Exercise 4\n",
    "Using the variable ```totalwgt_lb```, investigate whether first babies are lighter or heavier than others. Compute Cohen's d to quantity the difference between the two groups. How does it compare to the difference in pregnancy lengths?"
   ]
  },
  {
   "cell_type": "code",
   "execution_count": 68,
   "metadata": {
    "collapsed": false
   },
   "outputs": [
    {
     "name": "stdout",
     "output_type": "stream",
     "text": [
      "7.20109443044\n"
     ]
    }
   ],
   "source": [
    "print(firsts.totalwgt_lb.mean())"
   ]
  },
  {
   "cell_type": "code",
   "execution_count": 69,
   "metadata": {
    "collapsed": false
   },
   "outputs": [
    {
     "name": "stdout",
     "output_type": "stream",
     "text": [
      "7.32585561497\n"
     ]
    }
   ],
   "source": [
    "print(others.totalwgt_lb.mean())"
   ]
  },
  {
   "cell_type": "code",
   "execution_count": 70,
   "metadata": {
    "collapsed": true
   },
   "outputs": [],
   "source": [
    "check = CohenEffectSize(firsts.totalwgt_lb,\n",
    "                       others.totalwgt_lb)"
   ]
  },
  {
   "cell_type": "code",
   "execution_count": 71,
   "metadata": {
    "collapsed": false
   },
   "outputs": [
    {
     "data": {
      "text/plain": [
       "-0.088672927072601701"
      ]
     },
     "execution_count": 71,
     "metadata": {},
     "output_type": "execute_result"
    }
   ],
   "source": [
    "check"
   ]
  },
  {
   "cell_type": "markdown",
   "metadata": {},
   "source": [
    "Its a bigger effect than pregnancy length!"
   ]
  },
  {
   "cell_type": "code",
   "execution_count": null,
   "metadata": {
    "collapsed": false
   },
   "outputs": [],
   "source": [
    "# %load chap02soln.py\n",
    "\"\"\"This file contains code for use with \"Think Stats\",\n",
    "by Allen B. Downey, available from greenteapress.com\n",
    "\n",
    "Copyright 2014 Allen B. Downey\n",
    "License: GNU GPLv3 http://www.gnu.org/licenses/gpl.html\n",
    "\"\"\"\n",
    "\n",
    "from __future__ import print_function\n",
    "\n",
    "import sys\n",
    "from operator import itemgetter\n",
    "\n",
    "import first\n",
    "import thinkstats2\n",
    "\n",
    "\n",
    "def Mode(hist):\n",
    "    \"\"\"Returns the value with the highest frequency.\n",
    "\n",
    "    hist: Hist object\n",
    "\n",
    "    returns: value from Hist\n",
    "    \"\"\"\n",
    "    p, x = max([(p, x) for x, p in hist.Items()])\n",
    "    return x\n",
    "\n",
    "\n",
    "def AllModes(hist):\n",
    "    \"\"\"Returns value-freq pairs in decreasing order of frequency.\n",
    "\n",
    "    hist: Hist object\n",
    "\n",
    "    returns: iterator of value-freq pairs\n",
    "    \"\"\"\n",
    "    return sorted(hist.Items(), key=itemgetter(1), reverse=True)\n",
    "\n",
    "\n",
    "def WeightDifference(live, firsts, others):\n",
    "    \"\"\"Explore the difference in weight between first babies and others.\n",
    "\n",
    "    live: DataFrame of all live births\n",
    "    firsts: DataFrame of first babies\n",
    "    others: DataFrame of others\n",
    "    \"\"\"\n",
    "    mean0 = live.totalwgt_lb.mean()\n",
    "    mean1 = firsts.totalwgt_lb.mean()\n",
    "    mean2 = others.totalwgt_lb.mean()\n",
    "\n",
    "    var1 = firsts.totalwgt_lb.var()\n",
    "    var2 = others.totalwgt_lb.var()\n",
    "\n",
    "    print('Mean')\n",
    "    print('First babies', mean1)\n",
    "    print('Others', mean2)\n",
    "\n",
    "    print('Variance')\n",
    "    print('First babies', var1)\n",
    "    print('Others', var2)\n",
    "\n",
    "    print('Difference in lbs', mean1 - mean2)\n",
    "    print('Difference in oz', (mean1 - mean2) * 16)\n",
    "\n",
    "    print('Difference relative to mean (%age points)', \n",
    "          (mean1 - mean2) / mean0 * 100)\n",
    "\n",
    "    d = thinkstats2.CohenEffectSize(firsts.totalwgt_lb, others.totalwgt_lb)\n",
    "    print('Cohen d', d)\n",
    "\n",
    "\n",
    "def main(script):\n",
    "    \"\"\"Tests the functions in this module.\n",
    "\n",
    "    script: string script name\n",
    "    \"\"\"\n",
    "    live, firsts, others = first.MakeFrames()\n",
    "    hist = thinkstats2.Hist(live.prglngth)\n",
    "\n",
    "    # explore the weight difference between first babies and others\n",
    "    WeightDifference(live, firsts, others)\n",
    "\n",
    "    # test Mode    \n",
    "    mode = Mode(hist)\n",
    "    print('Mode of preg length', mode)\n",
    "    assert(mode == 39)\n",
    "\n",
    "    # test AllModes\n",
    "    modes = AllModes(hist)\n",
    "    assert(modes[0][1] == 4693)\n",
    "\n",
    "    for value, freq in modes[:5]:\n",
    "        print(value, freq)\n",
    "\n",
    "    print('%s: All tests passed.' % script)\n",
    "\n",
    "\n",
    "if __name__ == '__main__':\n",
    "    main(*sys.argv)\n"
   ]
  },
  {
   "cell_type": "markdown",
   "metadata": {},
   "source": [
    "## Chapter 3 Probability mass functions"
   ]
  },
  {
   "cell_type": "code",
   "execution_count": 73,
   "metadata": {
    "collapsed": false
   },
   "outputs": [
    {
     "data": {
      "image/png": "[encoded data removed]",
      "text/plain": [
       "<matplotlib.figure.Figure at 0x10ac333d0>"
      ]
     },
     "metadata": {},
     "output_type": "display_data"
    }
   ],
   "source": [
    "huh = firsts.prglngth.value_counts(normalize=True).\\\n",
    "sort_index().plot(kind='bar')"
   ]
  },
  {
   "cell_type": "code",
   "execution_count": 74,
   "metadata": {
    "collapsed": true
   },
   "outputs": [],
   "source": [
    "huh = firsts.prglngth.value_counts(normalize=True).\\\n",
    "sort_index()\n",
    "\n",
    "duh = others.prglngth.value_counts(normalize=True).\\\n",
    "sort_index()\n",
    "\n",
    "dfcf = pd.DataFrame({'first': huh,\n",
    "                     'other': duh})"
   ]
  },
  {
   "cell_type": "code",
   "execution_count": 75,
   "metadata": {
    "collapsed": false
   },
   "outputs": [
    {
     "data": {
      "text/html": [
       "<div style=\"max-height:1000px;max-width:1500px;overflow:auto;\">\n",
       "<table border=\"1\" class=\"dataframe\">\n",
       "  <thead>\n",
       "    <tr style=\"text-align: right;\">\n",
       "      <th></th>\n",
       "      <th>first</th>\n",
       "      <th>other</th>\n",
       "    </tr>\n",
       "  </thead>\n",
       "  <tbody>\n",
       "    <tr>\n",
       "      <th>45</th>\n",
       "      <td> 0.001360</td>\n",
       "      <td> 0.000845</td>\n",
       "    </tr>\n",
       "    <tr>\n",
       "      <th>46</th>\n",
       "      <td> 0.000227</td>\n",
       "      <td>      NaN</td>\n",
       "    </tr>\n",
       "    <tr>\n",
       "      <th>47</th>\n",
       "      <td> 0.000227</td>\n",
       "      <td>      NaN</td>\n",
       "    </tr>\n",
       "    <tr>\n",
       "      <th>48</th>\n",
       "      <td> 0.000680</td>\n",
       "      <td> 0.000845</td>\n",
       "    </tr>\n",
       "    <tr>\n",
       "      <th>50</th>\n",
       "      <td>      NaN</td>\n",
       "      <td> 0.000422</td>\n",
       "    </tr>\n",
       "  </tbody>\n",
       "</table>\n",
       "</div>"
      ],
      "text/plain": [
       "       first     other\n",
       "45  0.001360  0.000845\n",
       "46  0.000227       NaN\n",
       "47  0.000227       NaN\n",
       "48  0.000680  0.000845\n",
       "50       NaN  0.000422"
      ]
     },
     "execution_count": 75,
     "metadata": {},
     "output_type": "execute_result"
    }
   ],
   "source": [
    "dfcf.tail(5)"
   ]
  },
  {
   "cell_type": "code",
   "execution_count": 76,
   "metadata": {
    "collapsed": false
   },
   "outputs": [
    {
     "data": {
      "text/plain": [
       "<matplotlib.axes._subplots.AxesSubplot at 0x11a801710>"
      ]
     },
     "execution_count": 76,
     "metadata": {},
     "output_type": "execute_result"
    },
    {
     "data": {
      "image/png": "[encoded data removed]",
      "text/plain": [
       "<matplotlib.figure.Figure at 0x10d48c450>"
      ]
     },
     "metadata": {},
     "output_type": "display_data"
    }
   ],
   "source": [
    "dfcf.loc[28:45].plot(kind='bar')\n"
   ]
  },
  {
   "cell_type": "code",
   "execution_count": 77,
   "metadata": {
    "collapsed": false
   },
   "outputs": [
    {
     "data": {
      "text/plain": [
       "<matplotlib.axes._subplots.AxesSubplot at 0x112e88050>"
      ]
     },
     "execution_count": 77,
     "metadata": {},
     "output_type": "execute_result"
    },
    {
     "data": {
      "image/png": "[encoded data removed]",
      "text/plain": [
       "<matplotlib.figure.Figure at 0x112e933d0>"
      ]
     },
     "metadata": {},
     "output_type": "display_data"
    }
   ],
   "source": [
    "dfcf.loc[28:45].plot(drawstyle='steps')"
   ]
  },
  {
   "cell_type": "markdown",
   "metadata": {},
   "source": [
    "By plotting the PMF instead of the histogram, we can compare the two distributions without being mislead by the difference in sample size. Based on this figure, first babies seem to be less likely than others to arrive on time (week 39) and more likely to be a late (weeks 41 and 42).\n",
    "\n",
    "Histograms and PMFs are useful while you are exploring data and trying to identify patterns and relationships. Once you have an idea what is going on, a good next step is to design a visualization that makes the patterns you have identified as clear as possible."
   ]
  },
  {
   "cell_type": "code",
   "execution_count": 78,
   "metadata": {
    "collapsed": false
   },
   "outputs": [
    {
     "data": {
      "text/plain": [
       "<matplotlib.axes._subplots.AxesSubplot at 0x112eabb10>"
      ]
     },
     "execution_count": 78,
     "metadata": {},
     "output_type": "execute_result"
    },
    {
     "data": {
      "image/png": "[encoded data removed]",
      "text/plain": [
       "<matplotlib.figure.Figure at 0x1152de9d0>"
      ]
     },
     "metadata": {},
     "output_type": "display_data"
    }
   ],
   "source": [
    "dfcf.loc[35:45].plot(drawstyle='steps')"
   ]
  },
  {
   "cell_type": "code",
   "execution_count": 79,
   "metadata": {
    "collapsed": false
   },
   "outputs": [
    {
     "data": {
      "text/html": [
       "<div style=\"max-height:1000px;max-width:1500px;overflow:auto;\">\n",
       "<table border=\"1\" class=\"dataframe\">\n",
       "  <thead>\n",
       "    <tr style=\"text-align: right;\">\n",
       "      <th></th>\n",
       "      <th>first</th>\n",
       "      <th>other</th>\n",
       "    </tr>\n",
       "  </thead>\n",
       "  <tbody>\n",
       "    <tr>\n",
       "      <th>0 </th>\n",
       "      <td> 0.000227</td>\n",
       "      <td>      NaN</td>\n",
       "    </tr>\n",
       "    <tr>\n",
       "      <th>4 </th>\n",
       "      <td>      NaN</td>\n",
       "      <td> 0.000211</td>\n",
       "    </tr>\n",
       "    <tr>\n",
       "      <th>9 </th>\n",
       "      <td>      NaN</td>\n",
       "      <td> 0.000211</td>\n",
       "    </tr>\n",
       "    <tr>\n",
       "      <th>13</th>\n",
       "      <td>      NaN</td>\n",
       "      <td> 0.000211</td>\n",
       "    </tr>\n",
       "    <tr>\n",
       "      <th>17</th>\n",
       "      <td> 0.000227</td>\n",
       "      <td> 0.000211</td>\n",
       "    </tr>\n",
       "  </tbody>\n",
       "</table>\n",
       "</div>"
      ],
      "text/plain": [
       "       first     other\n",
       "0   0.000227       NaN\n",
       "4        NaN  0.000211\n",
       "9        NaN  0.000211\n",
       "13       NaN  0.000211\n",
       "17  0.000227  0.000211"
      ]
     },
     "execution_count": 79,
     "metadata": {},
     "output_type": "execute_result"
    }
   ],
   "source": [
    "dfcf.head()"
   ]
  },
  {
   "cell_type": "code",
   "execution_count": 80,
   "metadata": {
    "collapsed": false
   },
   "outputs": [],
   "source": [
    "dfcf['delta'] = dfcf['first'] - dfcf['other']"
   ]
  },
  {
   "cell_type": "code",
   "execution_count": 81,
   "metadata": {
    "collapsed": false
   },
   "outputs": [
    {
     "data": {
      "text/plain": [
       "<matplotlib.axes._subplots.AxesSubplot at 0x1155a2f90>"
      ]
     },
     "execution_count": 81,
     "metadata": {},
     "output_type": "execute_result"
    },
    {
     "data": {
      "image/png": "[encoded data removed]",
      "text/plain": [
       "<matplotlib.figure.Figure at 0x115621c50>"
      ]
     },
     "metadata": {},
     "output_type": "display_data"
    }
   ],
   "source": [
    "dfcf[['delta']].loc[35:45].plot(kind='bar')"
   ]
  },
  {
   "cell_type": "markdown",
   "metadata": {},
   "source": [
    "This figure makes the pattern clearer: first babies are less likely to be born in week 39, and somewhat more likely to be born in weeks 41 and 42.\n",
    "\n",
    "For now we should hold this conclusion only tentatively. We used the same dataset to identify an apparent different and then chose a visualization that makes the difference apparent. We can't be sure this effect is real; it might be due to random variation. We'll address this concern later."
   ]
  },
  {
   "cell_type": "markdown",
   "metadata": {},
   "source": [
    "### The class size paradox\n",
    "\n",
    "Before we go on, I want to demonstrate one kind of computation you can do with Pmf objects; I call this example the \"class size paradox.\"\n",
    "\n",
    "At many American colleges and universities, the student-to-faculty ratio is about 10:1. But students are often surprised to discover that their average class size is bigger than 10. There are two reasons for this discrepancy:\n",
    "\n",
    "* Students typically take 4-5 classes per semester, but professors often teach 1 or 2\n",
    "* The number of students who enjoy a small class is small, but the number of students in a large class is (ahem!) large\n",
    "\n",
    "The first effect is obvious, at least once it is pointed out; the second is more subtle. Let's look at an example. Suppose that a college offers 65 classes in a given semester, with the following distribution of sizes:\n",
    "\n",
    "```\n",
    " size      count\n",
    " 5- 9          8\n",
    "10-14          8\n",
    "15-19         14\n",
    "20-24          4\n",
    "25-29          6\n",
    "30-34         12\n",
    "35-39          8\n",
    "40-44          3\n",
    "45-49          2\n",
    "```"
   ]
  },
  {
   "cell_type": "code",
   "execution_count": 82,
   "metadata": {
    "collapsed": true
   },
   "outputs": [],
   "source": [
    "classcount = [8,8,14,4,6,12,8,3,2]\n",
    "classsize = [7,12,17,22,27,32,37,42,47]\n",
    "\n",
    "dfstoopid = pd.DataFrame({'kount': classcount,\n",
    "                         'size': classsize},\n",
    "                        index=classsize)"
   ]
  },
  {
   "cell_type": "code",
   "execution_count": 83,
   "metadata": {
    "collapsed": false
   },
   "outputs": [
    {
     "data": {
      "text/html": [
       "<div style=\"max-height:1000px;max-width:1500px;overflow:auto;\">\n",
       "<table border=\"1\" class=\"dataframe\">\n",
       "  <thead>\n",
       "    <tr style=\"text-align: right;\">\n",
       "      <th></th>\n",
       "      <th>kount</th>\n",
       "      <th>size</th>\n",
       "    </tr>\n",
       "  </thead>\n",
       "  <tbody>\n",
       "    <tr>\n",
       "      <th>7 </th>\n",
       "      <td>  8</td>\n",
       "      <td>  7</td>\n",
       "    </tr>\n",
       "    <tr>\n",
       "      <th>12</th>\n",
       "      <td>  8</td>\n",
       "      <td> 12</td>\n",
       "    </tr>\n",
       "    <tr>\n",
       "      <th>17</th>\n",
       "      <td> 14</td>\n",
       "      <td> 17</td>\n",
       "    </tr>\n",
       "    <tr>\n",
       "      <th>22</th>\n",
       "      <td>  4</td>\n",
       "      <td> 22</td>\n",
       "    </tr>\n",
       "    <tr>\n",
       "      <th>27</th>\n",
       "      <td>  6</td>\n",
       "      <td> 27</td>\n",
       "    </tr>\n",
       "    <tr>\n",
       "      <th>32</th>\n",
       "      <td> 12</td>\n",
       "      <td> 32</td>\n",
       "    </tr>\n",
       "    <tr>\n",
       "      <th>37</th>\n",
       "      <td>  8</td>\n",
       "      <td> 37</td>\n",
       "    </tr>\n",
       "    <tr>\n",
       "      <th>42</th>\n",
       "      <td>  3</td>\n",
       "      <td> 42</td>\n",
       "    </tr>\n",
       "    <tr>\n",
       "      <th>47</th>\n",
       "      <td>  2</td>\n",
       "      <td> 47</td>\n",
       "    </tr>\n",
       "  </tbody>\n",
       "</table>\n",
       "</div>"
      ],
      "text/plain": [
       "    kount  size\n",
       "7       8     7\n",
       "12      8    12\n",
       "17     14    17\n",
       "22      4    22\n",
       "27      6    27\n",
       "32     12    32\n",
       "37      8    37\n",
       "42      3    42\n",
       "47      2    47"
      ]
     },
     "execution_count": 83,
     "metadata": {},
     "output_type": "execute_result"
    }
   ],
   "source": [
    "dfstoopid"
   ]
  },
  {
   "cell_type": "code",
   "execution_count": 84,
   "metadata": {
    "collapsed": false
   },
   "outputs": [],
   "source": [
    "dfstoopid['huh'] = dfstoopid['kount']*dfstoopid['size']/ \\\n",
    "dfstoopid['kount'].sum()"
   ]
  },
  {
   "cell_type": "code",
   "execution_count": 85,
   "metadata": {
    "collapsed": false
   },
   "outputs": [
    {
     "data": {
      "text/html": [
       "<div style=\"max-height:1000px;max-width:1500px;overflow:auto;\">\n",
       "<table border=\"1\" class=\"dataframe\">\n",
       "  <thead>\n",
       "    <tr style=\"text-align: right;\">\n",
       "      <th></th>\n",
       "      <th>kount</th>\n",
       "      <th>size</th>\n",
       "      <th>huh</th>\n",
       "    </tr>\n",
       "  </thead>\n",
       "  <tbody>\n",
       "    <tr>\n",
       "      <th>7 </th>\n",
       "      <td>  8</td>\n",
       "      <td>  7</td>\n",
       "      <td> 0.861538</td>\n",
       "    </tr>\n",
       "    <tr>\n",
       "      <th>12</th>\n",
       "      <td>  8</td>\n",
       "      <td> 12</td>\n",
       "      <td> 1.476923</td>\n",
       "    </tr>\n",
       "    <tr>\n",
       "      <th>17</th>\n",
       "      <td> 14</td>\n",
       "      <td> 17</td>\n",
       "      <td> 3.661538</td>\n",
       "    </tr>\n",
       "    <tr>\n",
       "      <th>22</th>\n",
       "      <td>  4</td>\n",
       "      <td> 22</td>\n",
       "      <td> 1.353846</td>\n",
       "    </tr>\n",
       "    <tr>\n",
       "      <th>27</th>\n",
       "      <td>  6</td>\n",
       "      <td> 27</td>\n",
       "      <td> 2.492308</td>\n",
       "    </tr>\n",
       "    <tr>\n",
       "      <th>32</th>\n",
       "      <td> 12</td>\n",
       "      <td> 32</td>\n",
       "      <td> 5.907692</td>\n",
       "    </tr>\n",
       "    <tr>\n",
       "      <th>37</th>\n",
       "      <td>  8</td>\n",
       "      <td> 37</td>\n",
       "      <td> 4.553846</td>\n",
       "    </tr>\n",
       "    <tr>\n",
       "      <th>42</th>\n",
       "      <td>  3</td>\n",
       "      <td> 42</td>\n",
       "      <td> 1.938462</td>\n",
       "    </tr>\n",
       "    <tr>\n",
       "      <th>47</th>\n",
       "      <td>  2</td>\n",
       "      <td> 47</td>\n",
       "      <td> 1.446154</td>\n",
       "    </tr>\n",
       "  </tbody>\n",
       "</table>\n",
       "</div>"
      ],
      "text/plain": [
       "    kount  size       huh\n",
       "7       8     7  0.861538\n",
       "12      8    12  1.476923\n",
       "17     14    17  3.661538\n",
       "22      4    22  1.353846\n",
       "27      6    27  2.492308\n",
       "32     12    32  5.907692\n",
       "37      8    37  4.553846\n",
       "42      3    42  1.938462\n",
       "47      2    47  1.446154"
      ]
     },
     "execution_count": 85,
     "metadata": {},
     "output_type": "execute_result"
    }
   ],
   "source": [
    "dfstoopid"
   ]
  },
  {
   "cell_type": "code",
   "execution_count": 86,
   "metadata": {
    "collapsed": false
   },
   "outputs": [],
   "source": [
    "dfstoopid['wow'] = dfstoopid['kount']/dfstoopid['kount'].sum()"
   ]
  },
  {
   "cell_type": "code",
   "execution_count": 87,
   "metadata": {
    "collapsed": false
   },
   "outputs": [
    {
     "data": {
      "text/html": [
       "<div style=\"max-height:1000px;max-width:1500px;overflow:auto;\">\n",
       "<table border=\"1\" class=\"dataframe\">\n",
       "  <thead>\n",
       "    <tr style=\"text-align: right;\">\n",
       "      <th></th>\n",
       "      <th>kount</th>\n",
       "      <th>size</th>\n",
       "      <th>huh</th>\n",
       "      <th>wow</th>\n",
       "    </tr>\n",
       "  </thead>\n",
       "  <tbody>\n",
       "    <tr>\n",
       "      <th>7 </th>\n",
       "      <td>  8</td>\n",
       "      <td>  7</td>\n",
       "      <td> 0.861538</td>\n",
       "      <td> 0.123077</td>\n",
       "    </tr>\n",
       "    <tr>\n",
       "      <th>12</th>\n",
       "      <td>  8</td>\n",
       "      <td> 12</td>\n",
       "      <td> 1.476923</td>\n",
       "      <td> 0.123077</td>\n",
       "    </tr>\n",
       "    <tr>\n",
       "      <th>17</th>\n",
       "      <td> 14</td>\n",
       "      <td> 17</td>\n",
       "      <td> 3.661538</td>\n",
       "      <td> 0.215385</td>\n",
       "    </tr>\n",
       "    <tr>\n",
       "      <th>22</th>\n",
       "      <td>  4</td>\n",
       "      <td> 22</td>\n",
       "      <td> 1.353846</td>\n",
       "      <td> 0.061538</td>\n",
       "    </tr>\n",
       "    <tr>\n",
       "      <th>27</th>\n",
       "      <td>  6</td>\n",
       "      <td> 27</td>\n",
       "      <td> 2.492308</td>\n",
       "      <td> 0.092308</td>\n",
       "    </tr>\n",
       "    <tr>\n",
       "      <th>32</th>\n",
       "      <td> 12</td>\n",
       "      <td> 32</td>\n",
       "      <td> 5.907692</td>\n",
       "      <td> 0.184615</td>\n",
       "    </tr>\n",
       "    <tr>\n",
       "      <th>37</th>\n",
       "      <td>  8</td>\n",
       "      <td> 37</td>\n",
       "      <td> 4.553846</td>\n",
       "      <td> 0.123077</td>\n",
       "    </tr>\n",
       "    <tr>\n",
       "      <th>42</th>\n",
       "      <td>  3</td>\n",
       "      <td> 42</td>\n",
       "      <td> 1.938462</td>\n",
       "      <td> 0.046154</td>\n",
       "    </tr>\n",
       "    <tr>\n",
       "      <th>47</th>\n",
       "      <td>  2</td>\n",
       "      <td> 47</td>\n",
       "      <td> 1.446154</td>\n",
       "      <td> 0.030769</td>\n",
       "    </tr>\n",
       "  </tbody>\n",
       "</table>\n",
       "</div>"
      ],
      "text/plain": [
       "    kount  size       huh       wow\n",
       "7       8     7  0.861538  0.123077\n",
       "12      8    12  1.476923  0.123077\n",
       "17     14    17  3.661538  0.215385\n",
       "22      4    22  1.353846  0.061538\n",
       "27      6    27  2.492308  0.092308\n",
       "32     12    32  5.907692  0.184615\n",
       "37      8    37  4.553846  0.123077\n",
       "42      3    42  1.938462  0.046154\n",
       "47      2    47  1.446154  0.030769"
      ]
     },
     "execution_count": 87,
     "metadata": {},
     "output_type": "execute_result"
    }
   ],
   "source": [
    "dfstoopid"
   ]
  },
  {
   "cell_type": "code",
   "execution_count": 88,
   "metadata": {
    "collapsed": false
   },
   "outputs": [],
   "source": [
    "bow = (dfstoopid['wow']*dfstoopid['size']).sum()"
   ]
  },
  {
   "cell_type": "code",
   "execution_count": 89,
   "metadata": {
    "collapsed": false
   },
   "outputs": [
    {
     "data": {
      "text/plain": [
       "23.692307692307693"
      ]
     },
     "execution_count": 89,
     "metadata": {},
     "output_type": "execute_result"
    }
   ],
   "source": [
    "bow"
   ]
  },
  {
   "cell_type": "code",
   "execution_count": 90,
   "metadata": {
    "collapsed": false
   },
   "outputs": [
    {
     "data": {
      "text/plain": [
       "7      8\n",
       "12     8\n",
       "17    14\n",
       "22     4\n",
       "27     6\n",
       "32    12\n",
       "37     8\n",
       "42     3\n",
       "47     2\n",
       "Name: kount, dtype: int64"
      ]
     },
     "execution_count": 90,
     "metadata": {},
     "output_type": "execute_result"
    }
   ],
   "source": [
    "dfstoopid.kount"
   ]
  },
  {
   "cell_type": "code",
   "execution_count": 91,
   "metadata": {
    "collapsed": true
   },
   "outputs": [],
   "source": [
    "  d = { 7: 8, 12: 8, 17: 14, 22: 4, \n",
    "          27: 6, 32: 12, 37: 8, 42: 3, 47: 2 }\n"
   ]
  },
  {
   "cell_type": "code",
   "execution_count": 92,
   "metadata": {
    "collapsed": true
   },
   "outputs": [],
   "source": [
    "pmf = thinkstats2.Pmf(d, label='actual')"
   ]
  },
  {
   "cell_type": "code",
   "execution_count": 93,
   "metadata": {
    "collapsed": false
   },
   "outputs": [
    {
     "data": {
      "text/plain": [
       "23.692307692307693"
      ]
     },
     "execution_count": 93,
     "metadata": {},
     "output_type": "execute_result"
    }
   ],
   "source": [
    "pmf.Mean()"
   ]
  },
  {
   "cell_type": "markdown",
   "metadata": {},
   "source": [
    "But if you survey a group of students, ask them how many students are in their classes, and compute the mean, you would think the average class was much bigger. Let's see how much bigger.\n",
    "\n"
   ]
  },
  {
   "cell_type": "code",
   "execution_count": 94,
   "metadata": {
    "collapsed": true
   },
   "outputs": [],
   "source": [
    "del dfstoopid['huh']"
   ]
  },
  {
   "cell_type": "code",
   "execution_count": 95,
   "metadata": {
    "collapsed": false
   },
   "outputs": [
    {
     "data": {
      "text/html": [
       "<div style=\"max-height:1000px;max-width:1500px;overflow:auto;\">\n",
       "<table border=\"1\" class=\"dataframe\">\n",
       "  <thead>\n",
       "    <tr style=\"text-align: right;\">\n",
       "      <th></th>\n",
       "      <th>kount</th>\n",
       "      <th>size</th>\n",
       "      <th>wow</th>\n",
       "    </tr>\n",
       "  </thead>\n",
       "  <tbody>\n",
       "    <tr>\n",
       "      <th>7 </th>\n",
       "      <td>  8</td>\n",
       "      <td>  7</td>\n",
       "      <td> 0.123077</td>\n",
       "    </tr>\n",
       "    <tr>\n",
       "      <th>12</th>\n",
       "      <td>  8</td>\n",
       "      <td> 12</td>\n",
       "      <td> 0.123077</td>\n",
       "    </tr>\n",
       "    <tr>\n",
       "      <th>17</th>\n",
       "      <td> 14</td>\n",
       "      <td> 17</td>\n",
       "      <td> 0.215385</td>\n",
       "    </tr>\n",
       "    <tr>\n",
       "      <th>22</th>\n",
       "      <td>  4</td>\n",
       "      <td> 22</td>\n",
       "      <td> 0.061538</td>\n",
       "    </tr>\n",
       "    <tr>\n",
       "      <th>27</th>\n",
       "      <td>  6</td>\n",
       "      <td> 27</td>\n",
       "      <td> 0.092308</td>\n",
       "    </tr>\n",
       "    <tr>\n",
       "      <th>32</th>\n",
       "      <td> 12</td>\n",
       "      <td> 32</td>\n",
       "      <td> 0.184615</td>\n",
       "    </tr>\n",
       "    <tr>\n",
       "      <th>37</th>\n",
       "      <td>  8</td>\n",
       "      <td> 37</td>\n",
       "      <td> 0.123077</td>\n",
       "    </tr>\n",
       "    <tr>\n",
       "      <th>42</th>\n",
       "      <td>  3</td>\n",
       "      <td> 42</td>\n",
       "      <td> 0.046154</td>\n",
       "    </tr>\n",
       "    <tr>\n",
       "      <th>47</th>\n",
       "      <td>  2</td>\n",
       "      <td> 47</td>\n",
       "      <td> 0.030769</td>\n",
       "    </tr>\n",
       "  </tbody>\n",
       "</table>\n",
       "</div>"
      ],
      "text/plain": [
       "    kount  size       wow\n",
       "7       8     7  0.123077\n",
       "12      8    12  0.123077\n",
       "17     14    17  0.215385\n",
       "22      4    22  0.061538\n",
       "27      6    27  0.092308\n",
       "32     12    32  0.184615\n",
       "37      8    37  0.123077\n",
       "42      3    42  0.046154\n",
       "47      2    47  0.030769"
      ]
     },
     "execution_count": 95,
     "metadata": {},
     "output_type": "execute_result"
    }
   ],
   "source": [
    "dfstoopid"
   ]
  },
  {
   "cell_type": "code",
   "execution_count": 96,
   "metadata": {
    "collapsed": true
   },
   "outputs": [],
   "source": [
    "dfstoopid['studentpov'] = (dfstoopid['size']*\\\n",
    "dfstoopid['wow'])"
   ]
  },
  {
   "cell_type": "code",
   "execution_count": 97,
   "metadata": {
    "collapsed": false
   },
   "outputs": [],
   "source": [
    "dfstoopid['studentpov'] = dfstoopid['studentpov']/\\\n",
    "dfstoopid['studentpov'].sum()"
   ]
  },
  {
   "cell_type": "code",
   "execution_count": 98,
   "metadata": {
    "collapsed": false
   },
   "outputs": [
    {
     "data": {
      "text/html": [
       "<div style=\"max-height:1000px;max-width:1500px;overflow:auto;\">\n",
       "<table border=\"1\" class=\"dataframe\">\n",
       "  <thead>\n",
       "    <tr style=\"text-align: right;\">\n",
       "      <th></th>\n",
       "      <th>kount</th>\n",
       "      <th>size</th>\n",
       "      <th>wow</th>\n",
       "      <th>studentpov</th>\n",
       "    </tr>\n",
       "  </thead>\n",
       "  <tbody>\n",
       "    <tr>\n",
       "      <th>7 </th>\n",
       "      <td>  8</td>\n",
       "      <td>  7</td>\n",
       "      <td> 0.123077</td>\n",
       "      <td> 0.036364</td>\n",
       "    </tr>\n",
       "    <tr>\n",
       "      <th>12</th>\n",
       "      <td>  8</td>\n",
       "      <td> 12</td>\n",
       "      <td> 0.123077</td>\n",
       "      <td> 0.062338</td>\n",
       "    </tr>\n",
       "    <tr>\n",
       "      <th>17</th>\n",
       "      <td> 14</td>\n",
       "      <td> 17</td>\n",
       "      <td> 0.215385</td>\n",
       "      <td> 0.154545</td>\n",
       "    </tr>\n",
       "    <tr>\n",
       "      <th>22</th>\n",
       "      <td>  4</td>\n",
       "      <td> 22</td>\n",
       "      <td> 0.061538</td>\n",
       "      <td> 0.057143</td>\n",
       "    </tr>\n",
       "    <tr>\n",
       "      <th>27</th>\n",
       "      <td>  6</td>\n",
       "      <td> 27</td>\n",
       "      <td> 0.092308</td>\n",
       "      <td> 0.105195</td>\n",
       "    </tr>\n",
       "    <tr>\n",
       "      <th>32</th>\n",
       "      <td> 12</td>\n",
       "      <td> 32</td>\n",
       "      <td> 0.184615</td>\n",
       "      <td> 0.249351</td>\n",
       "    </tr>\n",
       "    <tr>\n",
       "      <th>37</th>\n",
       "      <td>  8</td>\n",
       "      <td> 37</td>\n",
       "      <td> 0.123077</td>\n",
       "      <td> 0.192208</td>\n",
       "    </tr>\n",
       "    <tr>\n",
       "      <th>42</th>\n",
       "      <td>  3</td>\n",
       "      <td> 42</td>\n",
       "      <td> 0.046154</td>\n",
       "      <td> 0.081818</td>\n",
       "    </tr>\n",
       "    <tr>\n",
       "      <th>47</th>\n",
       "      <td>  2</td>\n",
       "      <td> 47</td>\n",
       "      <td> 0.030769</td>\n",
       "      <td> 0.061039</td>\n",
       "    </tr>\n",
       "  </tbody>\n",
       "</table>\n",
       "</div>"
      ],
      "text/plain": [
       "    kount  size       wow  studentpov\n",
       "7       8     7  0.123077    0.036364\n",
       "12      8    12  0.123077    0.062338\n",
       "17     14    17  0.215385    0.154545\n",
       "22      4    22  0.061538    0.057143\n",
       "27      6    27  0.092308    0.105195\n",
       "32     12    32  0.184615    0.249351\n",
       "37      8    37  0.123077    0.192208\n",
       "42      3    42  0.046154    0.081818\n",
       "47      2    47  0.030769    0.061039"
      ]
     },
     "execution_count": 98,
     "metadata": {},
     "output_type": "execute_result"
    }
   ],
   "source": [
    "dfstoopid"
   ]
  },
  {
   "cell_type": "code",
   "execution_count": 99,
   "metadata": {
    "collapsed": false
   },
   "outputs": [
    {
     "data": {
      "text/plain": [
       "1.0"
      ]
     },
     "execution_count": 99,
     "metadata": {},
     "output_type": "execute_result"
    }
   ],
   "source": [
    "dfstoopid.studentpov.sum()"
   ]
  },
  {
   "cell_type": "code",
   "execution_count": 100,
   "metadata": {
    "collapsed": true
   },
   "outputs": [],
   "source": [
    "bowdean = (dfstoopid['wow']*dfstoopid['size']).sum()"
   ]
  },
  {
   "cell_type": "code",
   "execution_count": 101,
   "metadata": {
    "collapsed": false
   },
   "outputs": [
    {
     "data": {
      "text/plain": [
       "23.692307692307693"
      ]
     },
     "execution_count": 101,
     "metadata": {},
     "output_type": "execute_result"
    }
   ],
   "source": [
    "bowdean"
   ]
  },
  {
   "cell_type": "code",
   "execution_count": 102,
   "metadata": {
    "collapsed": true
   },
   "outputs": [],
   "source": [
    "bowstudent = (dfstoopid['studentpov']*dfstoopid['size']).sum()"
   ]
  },
  {
   "cell_type": "code",
   "execution_count": 103,
   "metadata": {
    "collapsed": false
   },
   "outputs": [
    {
     "data": {
      "text/plain": [
       "29.123376623376622"
      ]
     },
     "execution_count": 103,
     "metadata": {},
     "output_type": "execute_result"
    }
   ],
   "source": [
    "bowstudent"
   ]
  },
  {
   "cell_type": "code",
   "execution_count": 104,
   "metadata": {
    "collapsed": false
   },
   "outputs": [
    {
     "data": {
      "text/plain": [
       "<matplotlib.axes._subplots.AxesSubplot at 0x115671110>"
      ]
     },
     "execution_count": 104,
     "metadata": {},
     "output_type": "execute_result"
    },
    {
     "data": {
      "image/png": "[encoded data removed]",
      "text/plain": [
       "<matplotlib.figure.Figure at 0x115671450>"
      ]
     },
     "metadata": {},
     "output_type": "display_data"
    }
   ],
   "source": [
    "dfstoopid[['wow','studentpov']].plot(drawstyle='steps')"
   ]
  },
  {
   "cell_type": "markdown",
   "metadata": {},
   "source": [
    "It is also possible to invert this operation. Suppose you want to find the distribution of class sizes at a college, but you can't get reliable data from the Dean. An alternative is to choose a random sample of students and ask how many students are in their classes. The result would be biased for the reasons we've just seen, but you can use it to estimate the actual distribution. "
   ]
  },
  {
   "cell_type": "code",
   "execution_count": 105,
   "metadata": {
    "collapsed": true
   },
   "outputs": [],
   "source": [
    "import numpy as np\n",
    "import pandas\n",
    "array = np.random.randn(4,2)"
   ]
  },
  {
   "cell_type": "code",
   "execution_count": 106,
   "metadata": {
    "collapsed": true
   },
   "outputs": [],
   "source": [
    "df = pd.DataFrame(array)"
   ]
  },
  {
   "cell_type": "code",
   "execution_count": 107,
   "metadata": {
    "collapsed": false
   },
   "outputs": [
    {
     "data": {
      "text/html": [
       "<div style=\"max-height:1000px;max-width:1500px;overflow:auto;\">\n",
       "<table border=\"1\" class=\"dataframe\">\n",
       "  <thead>\n",
       "    <tr style=\"text-align: right;\">\n",
       "      <th></th>\n",
       "      <th>0</th>\n",
       "      <th>1</th>\n",
       "    </tr>\n",
       "  </thead>\n",
       "  <tbody>\n",
       "    <tr>\n",
       "      <th>0</th>\n",
       "      <td> 0.835728</td>\n",
       "      <td> 1.266686</td>\n",
       "    </tr>\n",
       "    <tr>\n",
       "      <th>1</th>\n",
       "      <td>-1.612803</td>\n",
       "      <td>-0.369152</td>\n",
       "    </tr>\n",
       "    <tr>\n",
       "      <th>2</th>\n",
       "      <td> 0.249752</td>\n",
       "      <td>-0.764082</td>\n",
       "    </tr>\n",
       "    <tr>\n",
       "      <th>3</th>\n",
       "      <td> 0.524737</td>\n",
       "      <td>-0.654682</td>\n",
       "    </tr>\n",
       "  </tbody>\n",
       "</table>\n",
       "</div>"
      ],
      "text/plain": [
       "          0         1\n",
       "0  0.835728  1.266686\n",
       "1 -1.612803 -0.369152\n",
       "2  0.249752 -0.764082\n",
       "3  0.524737 -0.654682"
      ]
     },
     "execution_count": 107,
     "metadata": {},
     "output_type": "execute_result"
    }
   ],
   "source": [
    "df"
   ]
  },
  {
   "cell_type": "markdown",
   "metadata": {},
   "source": [
    "By default, the rows and columns are numbered starting at zero, but you can provide column names"
   ]
  },
  {
   "cell_type": "code",
   "execution_count": 108,
   "metadata": {
    "collapsed": true
   },
   "outputs": [],
   "source": [
    "columns = ['A', 'B']"
   ]
  },
  {
   "cell_type": "code",
   "execution_count": 109,
   "metadata": {
    "collapsed": true
   },
   "outputs": [],
   "source": [
    "df = pd.DataFrame(array, columns=columns)"
   ]
  },
  {
   "cell_type": "code",
   "execution_count": 110,
   "metadata": {
    "collapsed": false
   },
   "outputs": [
    {
     "data": {
      "text/html": [
       "<div style=\"max-height:1000px;max-width:1500px;overflow:auto;\">\n",
       "<table border=\"1\" class=\"dataframe\">\n",
       "  <thead>\n",
       "    <tr style=\"text-align: right;\">\n",
       "      <th></th>\n",
       "      <th>A</th>\n",
       "      <th>B</th>\n",
       "    </tr>\n",
       "  </thead>\n",
       "  <tbody>\n",
       "    <tr>\n",
       "      <th>0</th>\n",
       "      <td> 0.835728</td>\n",
       "      <td> 1.266686</td>\n",
       "    </tr>\n",
       "    <tr>\n",
       "      <th>1</th>\n",
       "      <td>-1.612803</td>\n",
       "      <td>-0.369152</td>\n",
       "    </tr>\n",
       "    <tr>\n",
       "      <th>2</th>\n",
       "      <td> 0.249752</td>\n",
       "      <td>-0.764082</td>\n",
       "    </tr>\n",
       "    <tr>\n",
       "      <th>3</th>\n",
       "      <td> 0.524737</td>\n",
       "      <td>-0.654682</td>\n",
       "    </tr>\n",
       "  </tbody>\n",
       "</table>\n",
       "</div>"
      ],
      "text/plain": [
       "          A         B\n",
       "0  0.835728  1.266686\n",
       "1 -1.612803 -0.369152\n",
       "2  0.249752 -0.764082\n",
       "3  0.524737 -0.654682"
      ]
     },
     "execution_count": 110,
     "metadata": {},
     "output_type": "execute_result"
    }
   ],
   "source": [
    "df"
   ]
  },
  {
   "cell_type": "markdown",
   "metadata": {},
   "source": [
    "You can also provide row names. The set of row names is called the **index**; the row names themselves are called **labels**."
   ]
  },
  {
   "cell_type": "code",
   "execution_count": 111,
   "metadata": {
    "collapsed": true
   },
   "outputs": [],
   "source": [
    "index = ['a', 'b', 'c', 'd']"
   ]
  },
  {
   "cell_type": "code",
   "execution_count": 112,
   "metadata": {
    "collapsed": true
   },
   "outputs": [],
   "source": [
    "df = pd.DataFrame(array, columns=columns,\n",
    "                 index=index)"
   ]
  },
  {
   "cell_type": "code",
   "execution_count": 113,
   "metadata": {
    "collapsed": false
   },
   "outputs": [
    {
     "data": {
      "text/html": [
       "<div style=\"max-height:1000px;max-width:1500px;overflow:auto;\">\n",
       "<table border=\"1\" class=\"dataframe\">\n",
       "  <thead>\n",
       "    <tr style=\"text-align: right;\">\n",
       "      <th></th>\n",
       "      <th>A</th>\n",
       "      <th>B</th>\n",
       "    </tr>\n",
       "  </thead>\n",
       "  <tbody>\n",
       "    <tr>\n",
       "      <th>a</th>\n",
       "      <td> 0.835728</td>\n",
       "      <td> 1.266686</td>\n",
       "    </tr>\n",
       "    <tr>\n",
       "      <th>b</th>\n",
       "      <td>-1.612803</td>\n",
       "      <td>-0.369152</td>\n",
       "    </tr>\n",
       "    <tr>\n",
       "      <th>c</th>\n",
       "      <td> 0.249752</td>\n",
       "      <td>-0.764082</td>\n",
       "    </tr>\n",
       "    <tr>\n",
       "      <th>d</th>\n",
       "      <td> 0.524737</td>\n",
       "      <td>-0.654682</td>\n",
       "    </tr>\n",
       "  </tbody>\n",
       "</table>\n",
       "</div>"
      ],
      "text/plain": [
       "          A         B\n",
       "a  0.835728  1.266686\n",
       "b -1.612803 -0.369152\n",
       "c  0.249752 -0.764082\n",
       "d  0.524737 -0.654682"
      ]
     },
     "execution_count": 113,
     "metadata": {},
     "output_type": "execute_result"
    }
   ],
   "source": [
    "df"
   ]
  },
  {
   "cell_type": "code",
   "execution_count": 114,
   "metadata": {
    "collapsed": false
   },
   "outputs": [
    {
     "data": {
      "text/plain": [
       "a    0.835728\n",
       "b   -1.612803\n",
       "c    0.249752\n",
       "d    0.524737\n",
       "Name: A, dtype: float64"
      ]
     },
     "execution_count": 114,
     "metadata": {},
     "output_type": "execute_result"
    }
   ],
   "source": [
    "df['A']"
   ]
  },
  {
   "cell_type": "code",
   "execution_count": 115,
   "metadata": {
    "collapsed": false
   },
   "outputs": [
    {
     "data": {
      "text/plain": [
       "A    0.835728\n",
       "B    1.266686\n",
       "Name: a, dtype: float64"
      ]
     },
     "execution_count": 115,
     "metadata": {},
     "output_type": "execute_result"
    }
   ],
   "source": [
    "df.loc['a']"
   ]
  },
  {
   "cell_type": "code",
   "execution_count": 116,
   "metadata": {
    "collapsed": false
   },
   "outputs": [
    {
     "data": {
      "text/html": [
       "<div style=\"max-height:1000px;max-width:1500px;overflow:auto;\">\n",
       "<table border=\"1\" class=\"dataframe\">\n",
       "  <thead>\n",
       "    <tr style=\"text-align: right;\">\n",
       "      <th></th>\n",
       "      <th>A</th>\n",
       "      <th>B</th>\n",
       "    </tr>\n",
       "  </thead>\n",
       "  <tbody>\n",
       "    <tr>\n",
       "      <th>a</th>\n",
       "      <td> 0.835728</td>\n",
       "      <td> 1.266686</td>\n",
       "    </tr>\n",
       "    <tr>\n",
       "      <th>b</th>\n",
       "      <td>-1.612803</td>\n",
       "      <td>-0.369152</td>\n",
       "    </tr>\n",
       "    <tr>\n",
       "      <th>c</th>\n",
       "      <td> 0.249752</td>\n",
       "      <td>-0.764082</td>\n",
       "    </tr>\n",
       "    <tr>\n",
       "      <th>d</th>\n",
       "      <td> 0.524737</td>\n",
       "      <td>-0.654682</td>\n",
       "    </tr>\n",
       "  </tbody>\n",
       "</table>\n",
       "</div>"
      ],
      "text/plain": [
       "          A         B\n",
       "a  0.835728  1.266686\n",
       "b -1.612803 -0.369152\n",
       "c  0.249752 -0.764082\n",
       "d  0.524737 -0.654682"
      ]
     },
     "execution_count": 116,
     "metadata": {},
     "output_type": "execute_result"
    }
   ],
   "source": [
    "df"
   ]
  },
  {
   "cell_type": "code",
   "execution_count": 117,
   "metadata": {
    "collapsed": false
   },
   "outputs": [
    {
     "data": {
      "text/plain": [
       "A    0.835728\n",
       "B    1.266686\n",
       "Name: a, dtype: float64"
      ]
     },
     "execution_count": 117,
     "metadata": {},
     "output_type": "execute_result"
    }
   ],
   "source": [
    "df.iloc[0]"
   ]
  },
  {
   "cell_type": "code",
   "execution_count": 118,
   "metadata": {
    "collapsed": true
   },
   "outputs": [],
   "source": [
    "indices = ['a', 'c']"
   ]
  },
  {
   "cell_type": "code",
   "execution_count": 119,
   "metadata": {
    "collapsed": false
   },
   "outputs": [
    {
     "data": {
      "text/html": [
       "<div style=\"max-height:1000px;max-width:1500px;overflow:auto;\">\n",
       "<table border=\"1\" class=\"dataframe\">\n",
       "  <thead>\n",
       "    <tr style=\"text-align: right;\">\n",
       "      <th></th>\n",
       "      <th>A</th>\n",
       "      <th>B</th>\n",
       "    </tr>\n",
       "  </thead>\n",
       "  <tbody>\n",
       "    <tr>\n",
       "      <th>a</th>\n",
       "      <td> 0.835728</td>\n",
       "      <td> 1.266686</td>\n",
       "    </tr>\n",
       "    <tr>\n",
       "      <th>c</th>\n",
       "      <td> 0.249752</td>\n",
       "      <td>-0.764082</td>\n",
       "    </tr>\n",
       "  </tbody>\n",
       "</table>\n",
       "</div>"
      ],
      "text/plain": [
       "          A         B\n",
       "a  0.835728  1.266686\n",
       "c  0.249752 -0.764082"
      ]
     },
     "execution_count": 119,
     "metadata": {},
     "output_type": "execute_result"
    }
   ],
   "source": [
    "df.loc[indices]"
   ]
  },
  {
   "cell_type": "code",
   "execution_count": 120,
   "metadata": {
    "collapsed": false
   },
   "outputs": [
    {
     "data": {
      "text/html": [
       "<div style=\"max-height:1000px;max-width:1500px;overflow:auto;\">\n",
       "<table border=\"1\" class=\"dataframe\">\n",
       "  <thead>\n",
       "    <tr style=\"text-align: right;\">\n",
       "      <th></th>\n",
       "      <th>A</th>\n",
       "      <th>B</th>\n",
       "    </tr>\n",
       "  </thead>\n",
       "  <tbody>\n",
       "    <tr>\n",
       "      <th>a</th>\n",
       "      <td> 0.835728</td>\n",
       "      <td> 1.266686</td>\n",
       "    </tr>\n",
       "    <tr>\n",
       "      <th>b</th>\n",
       "      <td>-1.612803</td>\n",
       "      <td>-0.369152</td>\n",
       "    </tr>\n",
       "    <tr>\n",
       "      <th>c</th>\n",
       "      <td> 0.249752</td>\n",
       "      <td>-0.764082</td>\n",
       "    </tr>\n",
       "  </tbody>\n",
       "</table>\n",
       "</div>"
      ],
      "text/plain": [
       "          A         B\n",
       "a  0.835728  1.266686\n",
       "b -1.612803 -0.369152\n",
       "c  0.249752 -0.764082"
      ]
     },
     "execution_count": 120,
     "metadata": {},
     "output_type": "execute_result"
    }
   ],
   "source": [
    "df['a':'c']"
   ]
  },
  {
   "cell_type": "code",
   "execution_count": 121,
   "metadata": {
    "collapsed": false
   },
   "outputs": [
    {
     "data": {
      "text/html": [
       "<div style=\"max-height:1000px;max-width:1500px;overflow:auto;\">\n",
       "<table border=\"1\" class=\"dataframe\">\n",
       "  <thead>\n",
       "    <tr style=\"text-align: right;\">\n",
       "      <th></th>\n",
       "      <th>A</th>\n",
       "      <th>B</th>\n",
       "    </tr>\n",
       "  </thead>\n",
       "  <tbody>\n",
       "    <tr>\n",
       "      <th>a</th>\n",
       "      <td> 0.835728</td>\n",
       "      <td> 1.266686</td>\n",
       "    </tr>\n",
       "    <tr>\n",
       "      <th>b</th>\n",
       "      <td>-1.612803</td>\n",
       "      <td>-0.369152</td>\n",
       "    </tr>\n",
       "  </tbody>\n",
       "</table>\n",
       "</div>"
      ],
      "text/plain": [
       "          A         B\n",
       "a  0.835728  1.266686\n",
       "b -1.612803 -0.369152"
      ]
     },
     "execution_count": 121,
     "metadata": {},
     "output_type": "execute_result"
    }
   ],
   "source": [
    "df[0:2]"
   ]
  },
  {
   "cell_type": "markdown",
   "metadata": {},
   "source": [
    "## Exercises  3.6\n",
    "\n",
    "Solutions to these exercises are in ```chap03soln.ipynb``` and ```chap03soln.py```\n",
    "\n",
    "### Exercise 1\n",
    "Something like the class size paradox appears if you survey children and ask how many children are in their family. Families with many children are more likely to appear in your sample, and families with no children have no chance to be in the sample. Use the NSFG respondent variable ```NUMKDHH``` to construct the actual distribution for the number of children under 18 in the household.\n",
    "\n",
    "Now compute the biased distribution we would see if we surveyed the children and asked them how many children under 18 (including themselves) are in their household.\n",
    "\n",
    "Plot the actual and biased distribution, and compute their means."
   ]
  },
  {
   "cell_type": "code",
   "execution_count": 122,
   "metadata": {
    "collapsed": true
   },
   "outputs": [],
   "source": [
    "%matplotlib inline\n",
    "\n",
    "import chap01soln\n",
    "resp = chap01soln.ReadFemResp()"
   ]
  },
  {
   "cell_type": "code",
   "execution_count": 123,
   "metadata": {
    "collapsed": false
   },
   "outputs": [],
   "source": [
    "yo = resp['numkdhh'].value_counts().sort_index()"
   ]
  },
  {
   "cell_type": "code",
   "execution_count": 124,
   "metadata": {
    "collapsed": false
   },
   "outputs": [],
   "source": [
    "newresp = pd.DataFrame({'actualhist': yo,\n",
    "                       'number': yo.index})"
   ]
  },
  {
   "cell_type": "code",
   "execution_count": 125,
   "metadata": {
    "collapsed": false
   },
   "outputs": [
    {
     "data": {
      "text/html": [
       "<div style=\"max-height:1000px;max-width:1500px;overflow:auto;\">\n",
       "<table border=\"1\" class=\"dataframe\">\n",
       "  <thead>\n",
       "    <tr style=\"text-align: right;\">\n",
       "      <th></th>\n",
       "      <th>actualhist</th>\n",
       "      <th>number</th>\n",
       "    </tr>\n",
       "  </thead>\n",
       "  <tbody>\n",
       "    <tr>\n",
       "      <th>0</th>\n",
       "      <td> 3563</td>\n",
       "      <td> 0</td>\n",
       "    </tr>\n",
       "    <tr>\n",
       "      <th>1</th>\n",
       "      <td> 1636</td>\n",
       "      <td> 1</td>\n",
       "    </tr>\n",
       "    <tr>\n",
       "      <th>2</th>\n",
       "      <td> 1500</td>\n",
       "      <td> 2</td>\n",
       "    </tr>\n",
       "    <tr>\n",
       "      <th>3</th>\n",
       "      <td>  666</td>\n",
       "      <td> 3</td>\n",
       "    </tr>\n",
       "    <tr>\n",
       "      <th>4</th>\n",
       "      <td>  196</td>\n",
       "      <td> 4</td>\n",
       "    </tr>\n",
       "    <tr>\n",
       "      <th>5</th>\n",
       "      <td>   82</td>\n",
       "      <td> 5</td>\n",
       "    </tr>\n",
       "  </tbody>\n",
       "</table>\n",
       "</div>"
      ],
      "text/plain": [
       "   actualhist  number\n",
       "0        3563       0\n",
       "1        1636       1\n",
       "2        1500       2\n",
       "3         666       3\n",
       "4         196       4\n",
       "5          82       5"
      ]
     },
     "execution_count": 125,
     "metadata": {},
     "output_type": "execute_result"
    }
   ],
   "source": [
    "newresp"
   ]
  },
  {
   "cell_type": "code",
   "execution_count": 126,
   "metadata": {
    "collapsed": false
   },
   "outputs": [],
   "source": [
    "newresp['actualpmf'] = newresp['actualhist']/newresp['actualhist'].sum()"
   ]
  },
  {
   "cell_type": "code",
   "execution_count": 127,
   "metadata": {
    "collapsed": false
   },
   "outputs": [
    {
     "data": {
      "text/html": [
       "<div style=\"max-height:1000px;max-width:1500px;overflow:auto;\">\n",
       "<table border=\"1\" class=\"dataframe\">\n",
       "  <thead>\n",
       "    <tr style=\"text-align: right;\">\n",
       "      <th></th>\n",
       "      <th>actualhist</th>\n",
       "      <th>number</th>\n",
       "      <th>actualpmf</th>\n",
       "    </tr>\n",
       "  </thead>\n",
       "  <tbody>\n",
       "    <tr>\n",
       "      <th>0</th>\n",
       "      <td> 3563</td>\n",
       "      <td> 0</td>\n",
       "      <td> 0.466178</td>\n",
       "    </tr>\n",
       "    <tr>\n",
       "      <th>1</th>\n",
       "      <td> 1636</td>\n",
       "      <td> 1</td>\n",
       "      <td> 0.214052</td>\n",
       "    </tr>\n",
       "    <tr>\n",
       "      <th>2</th>\n",
       "      <td> 1500</td>\n",
       "      <td> 2</td>\n",
       "      <td> 0.196258</td>\n",
       "    </tr>\n",
       "    <tr>\n",
       "      <th>3</th>\n",
       "      <td>  666</td>\n",
       "      <td> 3</td>\n",
       "      <td> 0.087139</td>\n",
       "    </tr>\n",
       "    <tr>\n",
       "      <th>4</th>\n",
       "      <td>  196</td>\n",
       "      <td> 4</td>\n",
       "      <td> 0.025644</td>\n",
       "    </tr>\n",
       "    <tr>\n",
       "      <th>5</th>\n",
       "      <td>   82</td>\n",
       "      <td> 5</td>\n",
       "      <td> 0.010729</td>\n",
       "    </tr>\n",
       "  </tbody>\n",
       "</table>\n",
       "</div>"
      ],
      "text/plain": [
       "   actualhist  number  actualpmf\n",
       "0        3563       0   0.466178\n",
       "1        1636       1   0.214052\n",
       "2        1500       2   0.196258\n",
       "3         666       3   0.087139\n",
       "4         196       4   0.025644\n",
       "5          82       5   0.010729"
      ]
     },
     "execution_count": 127,
     "metadata": {},
     "output_type": "execute_result"
    }
   ],
   "source": [
    "newresp"
   ]
  },
  {
   "cell_type": "code",
   "execution_count": 128,
   "metadata": {
    "collapsed": false
   },
   "outputs": [],
   "source": [
    "newresp['actualwow'] = newresp['number']*newresp['actualpmf']"
   ]
  },
  {
   "cell_type": "code",
   "execution_count": 129,
   "metadata": {
    "collapsed": false
   },
   "outputs": [
    {
     "data": {
      "text/plain": [
       "1.0242051550438309"
      ]
     },
     "execution_count": 129,
     "metadata": {},
     "output_type": "execute_result"
    }
   ],
   "source": [
    "newresp['actualwow'].sum()"
   ]
  },
  {
   "cell_type": "markdown",
   "metadata": {},
   "source": [
    "So the actual mean is 1.024205155.  "
   ]
  },
  {
   "cell_type": "code",
   "execution_count": 130,
   "metadata": {
    "collapsed": false
   },
   "outputs": [],
   "source": [
    "newresp['biased'] = newresp['number']*newresp['actualpmf']"
   ]
  },
  {
   "cell_type": "code",
   "execution_count": 131,
   "metadata": {
    "collapsed": false
   },
   "outputs": [],
   "source": [
    "newresp['biasedpmf'] = newresp['biased']/newresp['biased'].sum()"
   ]
  },
  {
   "cell_type": "code",
   "execution_count": 132,
   "metadata": {
    "collapsed": false
   },
   "outputs": [],
   "source": [
    "newresp['biasedwow'] = newresp['number']*newresp['biasedpmf']"
   ]
  },
  {
   "cell_type": "code",
   "execution_count": 133,
   "metadata": {
    "collapsed": false
   },
   "outputs": [
    {
     "data": {
      "text/plain": [
       "2.4036791006642821"
      ]
     },
     "execution_count": 133,
     "metadata": {},
     "output_type": "execute_result"
    }
   ],
   "source": [
    "newresp['biasedwow'].sum()"
   ]
  },
  {
   "cell_type": "markdown",
   "metadata": {},
   "source": [
    "So the biased mean is 2.403!"
   ]
  },
  {
   "cell_type": "code",
   "execution_count": 134,
   "metadata": {
    "collapsed": false
   },
   "outputs": [
    {
     "data": {
      "text/html": [
       "<div style=\"max-height:1000px;max-width:1500px;overflow:auto;\">\n",
       "<table border=\"1\" class=\"dataframe\">\n",
       "  <thead>\n",
       "    <tr style=\"text-align: right;\">\n",
       "      <th></th>\n",
       "      <th>actualhist</th>\n",
       "      <th>number</th>\n",
       "      <th>actualpmf</th>\n",
       "      <th>actualwow</th>\n",
       "      <th>biased</th>\n",
       "      <th>biasedpmf</th>\n",
       "      <th>biasedwow</th>\n",
       "    </tr>\n",
       "  </thead>\n",
       "  <tbody>\n",
       "    <tr>\n",
       "      <th>0</th>\n",
       "      <td> 3563</td>\n",
       "      <td> 0</td>\n",
       "      <td> 0.466178</td>\n",
       "      <td> 0.000000</td>\n",
       "      <td> 0.000000</td>\n",
       "      <td> 0.000000</td>\n",
       "      <td> 0.000000</td>\n",
       "    </tr>\n",
       "    <tr>\n",
       "      <th>1</th>\n",
       "      <td> 1636</td>\n",
       "      <td> 1</td>\n",
       "      <td> 0.214052</td>\n",
       "      <td> 0.214052</td>\n",
       "      <td> 0.214052</td>\n",
       "      <td> 0.208993</td>\n",
       "      <td> 0.208993</td>\n",
       "    </tr>\n",
       "    <tr>\n",
       "      <th>2</th>\n",
       "      <td> 1500</td>\n",
       "      <td> 2</td>\n",
       "      <td> 0.196258</td>\n",
       "      <td> 0.392516</td>\n",
       "      <td> 0.392516</td>\n",
       "      <td> 0.383240</td>\n",
       "      <td> 0.766479</td>\n",
       "    </tr>\n",
       "    <tr>\n",
       "      <th>3</th>\n",
       "      <td>  666</td>\n",
       "      <td> 3</td>\n",
       "      <td> 0.087139</td>\n",
       "      <td> 0.261416</td>\n",
       "      <td> 0.261416</td>\n",
       "      <td> 0.255238</td>\n",
       "      <td> 0.765713</td>\n",
       "    </tr>\n",
       "    <tr>\n",
       "      <th>4</th>\n",
       "      <td>  196</td>\n",
       "      <td> 4</td>\n",
       "      <td> 0.025644</td>\n",
       "      <td> 0.102578</td>\n",
       "      <td> 0.102578</td>\n",
       "      <td> 0.100153</td>\n",
       "      <td> 0.400613</td>\n",
       "    </tr>\n",
       "    <tr>\n",
       "      <th>5</th>\n",
       "      <td>   82</td>\n",
       "      <td> 5</td>\n",
       "      <td> 0.010729</td>\n",
       "      <td> 0.053644</td>\n",
       "      <td> 0.053644</td>\n",
       "      <td> 0.052376</td>\n",
       "      <td> 0.261880</td>\n",
       "    </tr>\n",
       "  </tbody>\n",
       "</table>\n",
       "</div>"
      ],
      "text/plain": [
       "   actualhist  number  actualpmf  actualwow    biased  biasedpmf  biasedwow\n",
       "0        3563       0   0.466178   0.000000  0.000000   0.000000   0.000000\n",
       "1        1636       1   0.214052   0.214052  0.214052   0.208993   0.208993\n",
       "2        1500       2   0.196258   0.392516  0.392516   0.383240   0.766479\n",
       "3         666       3   0.087139   0.261416  0.261416   0.255238   0.765713\n",
       "4         196       4   0.025644   0.102578  0.102578   0.100153   0.400613\n",
       "5          82       5   0.010729   0.053644  0.053644   0.052376   0.261880"
      ]
     },
     "execution_count": 134,
     "metadata": {},
     "output_type": "execute_result"
    }
   ],
   "source": [
    "newresp"
   ]
  },
  {
   "cell_type": "code",
   "execution_count": 135,
   "metadata": {
    "collapsed": false
   },
   "outputs": [
    {
     "data": {
      "text/plain": [
       "<matplotlib.axes._subplots.AxesSubplot at 0x115656a10>"
      ]
     },
     "execution_count": 135,
     "metadata": {},
     "output_type": "execute_result"
    },
    {
     "data": {
      "image/png": "[encoded data removed]",
      "text/plain": [
       "<matplotlib.figure.Figure at 0x1125bc1d0>"
      ]
     },
     "metadata": {},
     "output_type": "display_data"
    }
   ],
   "source": [
    "newresp[['actualpmf','biasedpmf']].plot(kind='bar')"
   ]
  },
  {
   "cell_type": "markdown",
   "metadata": {},
   "source": [
    "### Exercise 3\n",
    "I started with the question, \"Are first babies more likely to be late?\" To address it, I computed the difference in means between groups of babies, but I ignored the possibility that there might be a different between first babies and others for the same woman. To address this version of the question, select respondents who have at least two babies and compute pairwise differences. Does this formulation of the question yield a different result??"
   ]
  },
  {
   "cell_type": "code",
   "execution_count": 136,
   "metadata": {
    "collapsed": false
   },
   "outputs": [
    {
     "data": {
      "text/html": [
       "<div style=\"max-height:1000px;max-width:1500px;overflow:auto;\">\n",
       "<table border=\"1\" class=\"dataframe\">\n",
       "  <thead>\n",
       "    <tr style=\"text-align: right;\">\n",
       "      <th></th>\n",
       "      <th>caseid</th>\n",
       "      <th>pregordr</th>\n",
       "      <th>howpreg_n</th>\n",
       "      <th>howpreg_p</th>\n",
       "      <th>moscurrp</th>\n",
       "      <th>nowprgdk</th>\n",
       "      <th>pregend1</th>\n",
       "      <th>pregend2</th>\n",
       "      <th>nbrnaliv</th>\n",
       "      <th>multbrth</th>\n",
       "      <th>...</th>\n",
       "      <th>laborfor_i</th>\n",
       "      <th>religion_i</th>\n",
       "      <th>metro_i</th>\n",
       "      <th>basewgt</th>\n",
       "      <th>adj_mod_basewgt</th>\n",
       "      <th>finalwgt</th>\n",
       "      <th>secu_p</th>\n",
       "      <th>sest</th>\n",
       "      <th>cmintvw</th>\n",
       "      <th>totalwgt_lb</th>\n",
       "    </tr>\n",
       "  </thead>\n",
       "  <tbody>\n",
       "    <tr>\n",
       "      <th>0    </th>\n",
       "      <td>     1</td>\n",
       "      <td> 1</td>\n",
       "      <td>NaN</td>\n",
       "      <td>NaN</td>\n",
       "      <td>NaN</td>\n",
       "      <td>NaN</td>\n",
       "      <td> 6</td>\n",
       "      <td>NaN</td>\n",
       "      <td> 1</td>\n",
       "      <td>NaN</td>\n",
       "      <td>...</td>\n",
       "      <td> 0</td>\n",
       "      <td> 0</td>\n",
       "      <td> 0</td>\n",
       "      <td>  3410.389399</td>\n",
       "      <td>  3869.349602</td>\n",
       "      <td>  6448.271112</td>\n",
       "      <td> 2</td>\n",
       "      <td>  9</td>\n",
       "      <td>NaN</td>\n",
       "      <td>  8.8125</td>\n",
       "    </tr>\n",
       "    <tr>\n",
       "      <th>2    </th>\n",
       "      <td>     2</td>\n",
       "      <td> 1</td>\n",
       "      <td>NaN</td>\n",
       "      <td>NaN</td>\n",
       "      <td>NaN</td>\n",
       "      <td>NaN</td>\n",
       "      <td> 5</td>\n",
       "      <td>NaN</td>\n",
       "      <td> 3</td>\n",
       "      <td>  5</td>\n",
       "      <td>...</td>\n",
       "      <td> 0</td>\n",
       "      <td> 0</td>\n",
       "      <td> 0</td>\n",
       "      <td>  7226.301740</td>\n",
       "      <td>  8567.549110</td>\n",
       "      <td> 12999.542264</td>\n",
       "      <td> 2</td>\n",
       "      <td> 12</td>\n",
       "      <td>NaN</td>\n",
       "      <td>  9.1250</td>\n",
       "    </tr>\n",
       "    <tr>\n",
       "      <th>5    </th>\n",
       "      <td>     6</td>\n",
       "      <td> 1</td>\n",
       "      <td>NaN</td>\n",
       "      <td>NaN</td>\n",
       "      <td>NaN</td>\n",
       "      <td>NaN</td>\n",
       "      <td> 6</td>\n",
       "      <td>NaN</td>\n",
       "      <td> 1</td>\n",
       "      <td>NaN</td>\n",
       "      <td>...</td>\n",
       "      <td> 0</td>\n",
       "      <td> 0</td>\n",
       "      <td> 0</td>\n",
       "      <td>  4870.926435</td>\n",
       "      <td>  5325.196999</td>\n",
       "      <td>  8874.440799</td>\n",
       "      <td> 1</td>\n",
       "      <td> 23</td>\n",
       "      <td>NaN</td>\n",
       "      <td>  8.5625</td>\n",
       "    </tr>\n",
       "    <tr>\n",
       "      <th>8    </th>\n",
       "      <td>     7</td>\n",
       "      <td> 1</td>\n",
       "      <td>NaN</td>\n",
       "      <td>NaN</td>\n",
       "      <td>NaN</td>\n",
       "      <td>NaN</td>\n",
       "      <td> 5</td>\n",
       "      <td>NaN</td>\n",
       "      <td> 1</td>\n",
       "      <td>NaN</td>\n",
       "      <td>...</td>\n",
       "      <td> 0</td>\n",
       "      <td> 0</td>\n",
       "      <td> 0</td>\n",
       "      <td>  3409.579565</td>\n",
       "      <td>  3787.539000</td>\n",
       "      <td>  6911.879921</td>\n",
       "      <td> 2</td>\n",
       "      <td> 14</td>\n",
       "      <td>NaN</td>\n",
       "      <td>  7.5625</td>\n",
       "    </tr>\n",
       "    <tr>\n",
       "      <th>10   </th>\n",
       "      <td>    12</td>\n",
       "      <td> 1</td>\n",
       "      <td>NaN</td>\n",
       "      <td>NaN</td>\n",
       "      <td>NaN</td>\n",
       "      <td>NaN</td>\n",
       "      <td> 5</td>\n",
       "      <td>NaN</td>\n",
       "      <td> 1</td>\n",
       "      <td>NaN</td>\n",
       "      <td>...</td>\n",
       "      <td> 0</td>\n",
       "      <td> 0</td>\n",
       "      <td> 0</td>\n",
       "      <td>  3612.781968</td>\n",
       "      <td>  4146.013572</td>\n",
       "      <td>  6909.331618</td>\n",
       "      <td> 1</td>\n",
       "      <td> 31</td>\n",
       "      <td>NaN</td>\n",
       "      <td>  7.8125</td>\n",
       "    </tr>\n",
       "    <tr>\n",
       "      <th>11   </th>\n",
       "      <td>    14</td>\n",
       "      <td> 1</td>\n",
       "      <td>NaN</td>\n",
       "      <td>NaN</td>\n",
       "      <td>NaN</td>\n",
       "      <td>NaN</td>\n",
       "      <td> 6</td>\n",
       "      <td>NaN</td>\n",
       "      <td> 1</td>\n",
       "      <td>NaN</td>\n",
       "      <td>...</td>\n",
       "      <td> 0</td>\n",
       "      <td> 0</td>\n",
       "      <td> 0</td>\n",
       "      <td>  2418.069494</td>\n",
       "      <td>  2810.302771</td>\n",
       "      <td>  3039.904507</td>\n",
       "      <td> 2</td>\n",
       "      <td> 56</td>\n",
       "      <td>NaN</td>\n",
       "      <td>  7.0000</td>\n",
       "    </tr>\n",
       "    <tr>\n",
       "      <th>15   </th>\n",
       "      <td>    15</td>\n",
       "      <td> 2</td>\n",
       "      <td>NaN</td>\n",
       "      <td>NaN</td>\n",
       "      <td>NaN</td>\n",
       "      <td>NaN</td>\n",
       "      <td> 6</td>\n",
       "      <td>NaN</td>\n",
       "      <td> 1</td>\n",
       "      <td>NaN</td>\n",
       "      <td>...</td>\n",
       "      <td> 0</td>\n",
       "      <td> 0</td>\n",
       "      <td> 0</td>\n",
       "      <td>  1667.816099</td>\n",
       "      <td>  3200.862017</td>\n",
       "      <td>  5553.495599</td>\n",
       "      <td> 1</td>\n",
       "      <td> 33</td>\n",
       "      <td>NaN</td>\n",
       "      <td>  7.6875</td>\n",
       "    </tr>\n",
       "    <tr>\n",
       "      <th>17   </th>\n",
       "      <td>    18</td>\n",
       "      <td> 1</td>\n",
       "      <td>NaN</td>\n",
       "      <td>NaN</td>\n",
       "      <td>NaN</td>\n",
       "      <td>NaN</td>\n",
       "      <td> 5</td>\n",
       "      <td>NaN</td>\n",
       "      <td> 1</td>\n",
       "      <td>NaN</td>\n",
       "      <td>...</td>\n",
       "      <td> 0</td>\n",
       "      <td> 0</td>\n",
       "      <td> 0</td>\n",
       "      <td>  2957.257457</td>\n",
       "      <td>  3404.403067</td>\n",
       "      <td>  4153.371741</td>\n",
       "      <td> 2</td>\n",
       "      <td> 14</td>\n",
       "      <td>NaN</td>\n",
       "      <td>  6.3125</td>\n",
       "    </tr>\n",
       "    <tr>\n",
       "      <th>19   </th>\n",
       "      <td>    21</td>\n",
       "      <td> 1</td>\n",
       "      <td>NaN</td>\n",
       "      <td>NaN</td>\n",
       "      <td>NaN</td>\n",
       "      <td>NaN</td>\n",
       "      <td> 6</td>\n",
       "      <td>NaN</td>\n",
       "      <td> 1</td>\n",
       "      <td>NaN</td>\n",
       "      <td>...</td>\n",
       "      <td> 0</td>\n",
       "      <td> 0</td>\n",
       "      <td> 0</td>\n",
       "      <td>  3408.342437</td>\n",
       "      <td>  3965.763949</td>\n",
       "      <td>  7237.122630</td>\n",
       "      <td> 1</td>\n",
       "      <td> 48</td>\n",
       "      <td>NaN</td>\n",
       "      <td>  8.7500</td>\n",
       "    </tr>\n",
       "    <tr>\n",
       "      <th>21   </th>\n",
       "      <td>    23</td>\n",
       "      <td> 1</td>\n",
       "      <td>NaN</td>\n",
       "      <td>NaN</td>\n",
       "      <td>NaN</td>\n",
       "      <td>NaN</td>\n",
       "      <td> 6</td>\n",
       "      <td>NaN</td>\n",
       "      <td> 1</td>\n",
       "      <td>NaN</td>\n",
       "      <td>...</td>\n",
       "      <td> 0</td>\n",
       "      <td> 0</td>\n",
       "      <td> 0</td>\n",
       "      <td>  6210.373020</td>\n",
       "      <td>  8120.841310</td>\n",
       "      <td> 13533.382043</td>\n",
       "      <td> 2</td>\n",
       "      <td> 64</td>\n",
       "      <td>NaN</td>\n",
       "      <td>  5.5625</td>\n",
       "    </tr>\n",
       "    <tr>\n",
       "      <th>23   </th>\n",
       "      <td>    24</td>\n",
       "      <td> 1</td>\n",
       "      <td>NaN</td>\n",
       "      <td>NaN</td>\n",
       "      <td>NaN</td>\n",
       "      <td>NaN</td>\n",
       "      <td> 6</td>\n",
       "      <td>NaN</td>\n",
       "      <td> 1</td>\n",
       "      <td>NaN</td>\n",
       "      <td>...</td>\n",
       "      <td> 0</td>\n",
       "      <td> 0</td>\n",
       "      <td> 0</td>\n",
       "      <td>  3409.573258</td>\n",
       "      <td>  4068.628645</td>\n",
       "      <td>  7424.840414</td>\n",
       "      <td> 1</td>\n",
       "      <td> 27</td>\n",
       "      <td>NaN</td>\n",
       "      <td>  6.7500</td>\n",
       "    </tr>\n",
       "    <tr>\n",
       "      <th>26   </th>\n",
       "      <td>    28</td>\n",
       "      <td> 1</td>\n",
       "      <td>NaN</td>\n",
       "      <td>NaN</td>\n",
       "      <td>NaN</td>\n",
       "      <td>NaN</td>\n",
       "      <td> 6</td>\n",
       "      <td>NaN</td>\n",
       "      <td> 1</td>\n",
       "      <td>NaN</td>\n",
       "      <td>...</td>\n",
       "      <td> 0</td>\n",
       "      <td> 0</td>\n",
       "      <td> 0</td>\n",
       "      <td>  3407.794208</td>\n",
       "      <td>  3808.343516</td>\n",
       "      <td>  6949.846082</td>\n",
       "      <td> 2</td>\n",
       "      <td> 57</td>\n",
       "      <td>NaN</td>\n",
       "      <td>  8.1250</td>\n",
       "    </tr>\n",
       "    <tr>\n",
       "      <th>27   </th>\n",
       "      <td>    31</td>\n",
       "      <td> 1</td>\n",
       "      <td>NaN</td>\n",
       "      <td>NaN</td>\n",
       "      <td>NaN</td>\n",
       "      <td>NaN</td>\n",
       "      <td> 6</td>\n",
       "      <td>NaN</td>\n",
       "      <td> 1</td>\n",
       "      <td>NaN</td>\n",
       "      <td>...</td>\n",
       "      <td> 0</td>\n",
       "      <td> 0</td>\n",
       "      <td> 0</td>\n",
       "      <td>  3405.679025</td>\n",
       "      <td>  4272.084519</td>\n",
       "      <td>  5211.943113</td>\n",
       "      <td> 1</td>\n",
       "      <td>  2</td>\n",
       "      <td>NaN</td>\n",
       "      <td>  7.1250</td>\n",
       "    </tr>\n",
       "    <tr>\n",
       "      <th>31   </th>\n",
       "      <td>    36</td>\n",
       "      <td> 2</td>\n",
       "      <td>NaN</td>\n",
       "      <td>NaN</td>\n",
       "      <td>NaN</td>\n",
       "      <td>NaN</td>\n",
       "      <td> 6</td>\n",
       "      <td>NaN</td>\n",
       "      <td> 1</td>\n",
       "      <td>NaN</td>\n",
       "      <td>...</td>\n",
       "      <td> 0</td>\n",
       "      <td> 0</td>\n",
       "      <td> 0</td>\n",
       "      <td>  1668.415087</td>\n",
       "      <td>  1969.717778</td>\n",
       "      <td>  3594.537973</td>\n",
       "      <td> 1</td>\n",
       "      <td> 69</td>\n",
       "      <td>NaN</td>\n",
       "      <td>  8.0000</td>\n",
       "    </tr>\n",
       "    <tr>\n",
       "      <th>32   </th>\n",
       "      <td>    38</td>\n",
       "      <td> 1</td>\n",
       "      <td>NaN</td>\n",
       "      <td>NaN</td>\n",
       "      <td>NaN</td>\n",
       "      <td>NaN</td>\n",
       "      <td> 5</td>\n",
       "      <td>NaN</td>\n",
       "      <td> 1</td>\n",
       "      <td>NaN</td>\n",
       "      <td>...</td>\n",
       "      <td> 0</td>\n",
       "      <td> 0</td>\n",
       "      <td> 0</td>\n",
       "      <td>  4780.758522</td>\n",
       "      <td>  5555.002527</td>\n",
       "      <td> 10137.324111</td>\n",
       "      <td> 2</td>\n",
       "      <td> 36</td>\n",
       "      <td>NaN</td>\n",
       "      <td>  7.5000</td>\n",
       "    </tr>\n",
       "    <tr>\n",
       "      <th>35   </th>\n",
       "      <td>    39</td>\n",
       "      <td> 1</td>\n",
       "      <td>NaN</td>\n",
       "      <td>NaN</td>\n",
       "      <td>NaN</td>\n",
       "      <td>NaN</td>\n",
       "      <td> 5</td>\n",
       "      <td>NaN</td>\n",
       "      <td> 2</td>\n",
       "      <td>  1</td>\n",
       "      <td>...</td>\n",
       "      <td> 0</td>\n",
       "      <td> 0</td>\n",
       "      <td> 0</td>\n",
       "      <td>  1167.715478</td>\n",
       "      <td>  1425.542080</td>\n",
       "      <td>  1853.347258</td>\n",
       "      <td> 1</td>\n",
       "      <td> 28</td>\n",
       "      <td>NaN</td>\n",
       "      <td>  4.9375</td>\n",
       "    </tr>\n",
       "    <tr>\n",
       "      <th>39   </th>\n",
       "      <td>    44</td>\n",
       "      <td> 3</td>\n",
       "      <td>NaN</td>\n",
       "      <td>NaN</td>\n",
       "      <td>NaN</td>\n",
       "      <td>NaN</td>\n",
       "      <td> 6</td>\n",
       "      <td>NaN</td>\n",
       "      <td> 1</td>\n",
       "      <td>NaN</td>\n",
       "      <td>...</td>\n",
       "      <td> 0</td>\n",
       "      <td> 0</td>\n",
       "      <td> 0</td>\n",
       "      <td>  3879.663879</td>\n",
       "      <td>  4304.346246</td>\n",
       "      <td>  4656.011334</td>\n",
       "      <td> 2</td>\n",
       "      <td> 48</td>\n",
       "      <td>NaN</td>\n",
       "      <td>  7.1250</td>\n",
       "    </tr>\n",
       "    <tr>\n",
       "      <th>42   </th>\n",
       "      <td>    46</td>\n",
       "      <td> 1</td>\n",
       "      <td>NaN</td>\n",
       "      <td>NaN</td>\n",
       "      <td>NaN</td>\n",
       "      <td>NaN</td>\n",
       "      <td> 5</td>\n",
       "      <td>NaN</td>\n",
       "      <td> 1</td>\n",
       "      <td>NaN</td>\n",
       "      <td>...</td>\n",
       "      <td> 0</td>\n",
       "      <td> 0</td>\n",
       "      <td> 0</td>\n",
       "      <td> 15100.708977</td>\n",
       "      <td> 17331.441183</td>\n",
       "      <td> 28882.846732</td>\n",
       "      <td> 1</td>\n",
       "      <td> 24</td>\n",
       "      <td>NaN</td>\n",
       "      <td>  6.0000</td>\n",
       "    </tr>\n",
       "    <tr>\n",
       "      <th>44   </th>\n",
       "      <td>    49</td>\n",
       "      <td> 1</td>\n",
       "      <td>NaN</td>\n",
       "      <td>NaN</td>\n",
       "      <td>NaN</td>\n",
       "      <td>NaN</td>\n",
       "      <td> 6</td>\n",
       "      <td>NaN</td>\n",
       "      <td> 1</td>\n",
       "      <td>NaN</td>\n",
       "      <td>...</td>\n",
       "      <td> 0</td>\n",
       "      <td> 0</td>\n",
       "      <td> 0</td>\n",
       "      <td>  1805.998152</td>\n",
       "      <td>  2030.238242</td>\n",
       "      <td>  2737.370222</td>\n",
       "      <td> 1</td>\n",
       "      <td> 46</td>\n",
       "      <td>NaN</td>\n",
       "      <td>  7.9375</td>\n",
       "    </tr>\n",
       "    <tr>\n",
       "      <th>48   </th>\n",
       "      <td>    51</td>\n",
       "      <td> 1</td>\n",
       "      <td>NaN</td>\n",
       "      <td>NaN</td>\n",
       "      <td>NaN</td>\n",
       "      <td>NaN</td>\n",
       "      <td> 6</td>\n",
       "      <td>NaN</td>\n",
       "      <td> 1</td>\n",
       "      <td>NaN</td>\n",
       "      <td>...</td>\n",
       "      <td> 0</td>\n",
       "      <td> 0</td>\n",
       "      <td> 0</td>\n",
       "      <td>  4602.966038</td>\n",
       "      <td>  8739.312970</td>\n",
       "      <td> 11361.980792</td>\n",
       "      <td> 1</td>\n",
       "      <td> 20</td>\n",
       "      <td>NaN</td>\n",
       "      <td>  6.1875</td>\n",
       "    </tr>\n",
       "    <tr>\n",
       "      <th>52   </th>\n",
       "      <td>    57</td>\n",
       "      <td> 1</td>\n",
       "      <td>NaN</td>\n",
       "      <td>NaN</td>\n",
       "      <td>NaN</td>\n",
       "      <td>NaN</td>\n",
       "      <td> 5</td>\n",
       "      <td>NaN</td>\n",
       "      <td> 1</td>\n",
       "      <td>NaN</td>\n",
       "      <td>...</td>\n",
       "      <td> 0</td>\n",
       "      <td> 0</td>\n",
       "      <td> 0</td>\n",
       "      <td>  2417.557699</td>\n",
       "      <td>  3640.181849</td>\n",
       "      <td>  4619.754785</td>\n",
       "      <td> 1</td>\n",
       "      <td> 62</td>\n",
       "      <td>NaN</td>\n",
       "      <td> 10.5000</td>\n",
       "    </tr>\n",
       "    <tr>\n",
       "      <th>55   </th>\n",
       "      <td>    60</td>\n",
       "      <td> 1</td>\n",
       "      <td>NaN</td>\n",
       "      <td>NaN</td>\n",
       "      <td>NaN</td>\n",
       "      <td>NaN</td>\n",
       "      <td> 6</td>\n",
       "      <td>NaN</td>\n",
       "      <td> 1</td>\n",
       "      <td>NaN</td>\n",
       "      <td>...</td>\n",
       "      <td> 0</td>\n",
       "      <td> 0</td>\n",
       "      <td> 0</td>\n",
       "      <td>  3409.452810</td>\n",
       "      <td>  3874.928670</td>\n",
       "      <td>  7071.357329</td>\n",
       "      <td> 1</td>\n",
       "      <td>  5</td>\n",
       "      <td>NaN</td>\n",
       "      <td>  9.6250</td>\n",
       "    </tr>\n",
       "    <tr>\n",
       "      <th>58   </th>\n",
       "      <td>    63</td>\n",
       "      <td> 2</td>\n",
       "      <td>NaN</td>\n",
       "      <td>NaN</td>\n",
       "      <td>NaN</td>\n",
       "      <td>NaN</td>\n",
       "      <td> 6</td>\n",
       "      <td>NaN</td>\n",
       "      <td> 1</td>\n",
       "      <td>NaN</td>\n",
       "      <td>...</td>\n",
       "      <td> 0</td>\n",
       "      <td> 0</td>\n",
       "      <td> 0</td>\n",
       "      <td>  3410.208760</td>\n",
       "      <td>  4065.874139</td>\n",
       "      <td>  7419.813716</td>\n",
       "      <td> 1</td>\n",
       "      <td>  3</td>\n",
       "      <td>NaN</td>\n",
       "      <td>  6.1250</td>\n",
       "    </tr>\n",
       "    <tr>\n",
       "      <th>60   </th>\n",
       "      <td>    69</td>\n",
       "      <td> 1</td>\n",
       "      <td>NaN</td>\n",
       "      <td>NaN</td>\n",
       "      <td>NaN</td>\n",
       "      <td>NaN</td>\n",
       "      <td> 6</td>\n",
       "      <td>NaN</td>\n",
       "      <td> 1</td>\n",
       "      <td>NaN</td>\n",
       "      <td>...</td>\n",
       "      <td> 0</td>\n",
       "      <td> 0</td>\n",
       "      <td> 0</td>\n",
       "      <td>  3613.613534</td>\n",
       "      <td>  4139.484352</td>\n",
       "      <td>  6280.839607</td>\n",
       "      <td> 2</td>\n",
       "      <td> 29</td>\n",
       "      <td>NaN</td>\n",
       "      <td>  5.6250</td>\n",
       "    </tr>\n",
       "    <tr>\n",
       "      <th>62   </th>\n",
       "      <td>    70</td>\n",
       "      <td> 2</td>\n",
       "      <td>NaN</td>\n",
       "      <td>NaN</td>\n",
       "      <td>NaN</td>\n",
       "      <td>NaN</td>\n",
       "      <td> 6</td>\n",
       "      <td>NaN</td>\n",
       "      <td> 1</td>\n",
       "      <td>NaN</td>\n",
       "      <td>...</td>\n",
       "      <td> 0</td>\n",
       "      <td> 0</td>\n",
       "      <td> 0</td>\n",
       "      <td>  3455.254195</td>\n",
       "      <td>  4190.349732</td>\n",
       "      <td>  7646.969226</td>\n",
       "      <td> 2</td>\n",
       "      <td> 77</td>\n",
       "      <td>NaN</td>\n",
       "      <td>  6.8750</td>\n",
       "    </tr>\n",
       "    <tr>\n",
       "      <th>65   </th>\n",
       "      <td>    71</td>\n",
       "      <td> 1</td>\n",
       "      <td>NaN</td>\n",
       "      <td>NaN</td>\n",
       "      <td>NaN</td>\n",
       "      <td>NaN</td>\n",
       "      <td> 6</td>\n",
       "      <td>NaN</td>\n",
       "      <td> 1</td>\n",
       "      <td>NaN</td>\n",
       "      <td>...</td>\n",
       "      <td> 0</td>\n",
       "      <td> 0</td>\n",
       "      <td> 0</td>\n",
       "      <td>  4343.075296</td>\n",
       "      <td>  4981.333373</td>\n",
       "      <td>  7007.241656</td>\n",
       "      <td> 2</td>\n",
       "      <td> 43</td>\n",
       "      <td>NaN</td>\n",
       "      <td>  5.8125</td>\n",
       "    </tr>\n",
       "    <tr>\n",
       "      <th>67   </th>\n",
       "      <td>    72</td>\n",
       "      <td> 2</td>\n",
       "      <td>NaN</td>\n",
       "      <td>NaN</td>\n",
       "      <td>NaN</td>\n",
       "      <td>NaN</td>\n",
       "      <td> 6</td>\n",
       "      <td>NaN</td>\n",
       "      <td> 1</td>\n",
       "      <td>NaN</td>\n",
       "      <td>...</td>\n",
       "      <td> 0</td>\n",
       "      <td> 0</td>\n",
       "      <td> 0</td>\n",
       "      <td>  2335.596182</td>\n",
       "      <td>  2547.349832</td>\n",
       "      <td>  3391.286832</td>\n",
       "      <td> 1</td>\n",
       "      <td> 44</td>\n",
       "      <td>NaN</td>\n",
       "      <td>  7.1250</td>\n",
       "    </tr>\n",
       "    <tr>\n",
       "      <th>68   </th>\n",
       "      <td>    73</td>\n",
       "      <td> 1</td>\n",
       "      <td>NaN</td>\n",
       "      <td>NaN</td>\n",
       "      <td>NaN</td>\n",
       "      <td>NaN</td>\n",
       "      <td> 6</td>\n",
       "      <td>NaN</td>\n",
       "      <td> 1</td>\n",
       "      <td>NaN</td>\n",
       "      <td>...</td>\n",
       "      <td> 0</td>\n",
       "      <td> 0</td>\n",
       "      <td> 0</td>\n",
       "      <td>  5634.639492</td>\n",
       "      <td>  6532.865516</td>\n",
       "      <td>  7970.095929</td>\n",
       "      <td> 2</td>\n",
       "      <td> 22</td>\n",
       "      <td>NaN</td>\n",
       "      <td>  6.8125</td>\n",
       "    </tr>\n",
       "    <tr>\n",
       "      <th>70   </th>\n",
       "      <td>    77</td>\n",
       "      <td> 1</td>\n",
       "      <td>NaN</td>\n",
       "      <td>NaN</td>\n",
       "      <td>NaN</td>\n",
       "      <td>NaN</td>\n",
       "      <td> 6</td>\n",
       "      <td>NaN</td>\n",
       "      <td> 1</td>\n",
       "      <td>NaN</td>\n",
       "      <td>...</td>\n",
       "      <td> 0</td>\n",
       "      <td> 0</td>\n",
       "      <td> 0</td>\n",
       "      <td>  3217.799925</td>\n",
       "      <td>  3808.312243</td>\n",
       "      <td>  4833.129067</td>\n",
       "      <td> 2</td>\n",
       "      <td>  8</td>\n",
       "      <td>NaN</td>\n",
       "      <td>  6.3125</td>\n",
       "    </tr>\n",
       "    <tr>\n",
       "      <th>72   </th>\n",
       "      <td>    80</td>\n",
       "      <td> 1</td>\n",
       "      <td>NaN</td>\n",
       "      <td>NaN</td>\n",
       "      <td>NaN</td>\n",
       "      <td>NaN</td>\n",
       "      <td> 6</td>\n",
       "      <td>NaN</td>\n",
       "      <td> 1</td>\n",
       "      <td>NaN</td>\n",
       "      <td>...</td>\n",
       "      <td> 0</td>\n",
       "      <td> 0</td>\n",
       "      <td> 0</td>\n",
       "      <td>  3612.971757</td>\n",
       "      <td>  4261.719088</td>\n",
       "      <td>  6522.561064</td>\n",
       "      <td> 1</td>\n",
       "      <td> 43</td>\n",
       "      <td>NaN</td>\n",
       "      <td>  7.7500</td>\n",
       "    </tr>\n",
       "    <tr>\n",
       "      <th>...</th>\n",
       "      <td>...</td>\n",
       "      <td>...</td>\n",
       "      <td>...</td>\n",
       "      <td>...</td>\n",
       "      <td>...</td>\n",
       "      <td>...</td>\n",
       "      <td>...</td>\n",
       "      <td>...</td>\n",
       "      <td>...</td>\n",
       "      <td>...</td>\n",
       "      <td>...</td>\n",
       "      <td>...</td>\n",
       "      <td>...</td>\n",
       "      <td>...</td>\n",
       "      <td>...</td>\n",
       "      <td>...</td>\n",
       "      <td>...</td>\n",
       "      <td>...</td>\n",
       "      <td>...</td>\n",
       "      <td>...</td>\n",
       "      <td>...</td>\n",
       "    </tr>\n",
       "    <tr>\n",
       "      <th>13502</th>\n",
       "      <td> 12488</td>\n",
       "      <td> 1</td>\n",
       "      <td>NaN</td>\n",
       "      <td>NaN</td>\n",
       "      <td>NaN</td>\n",
       "      <td>NaN</td>\n",
       "      <td> 6</td>\n",
       "      <td>NaN</td>\n",
       "      <td> 1</td>\n",
       "      <td>NaN</td>\n",
       "      <td>...</td>\n",
       "      <td> 0</td>\n",
       "      <td> 0</td>\n",
       "      <td> 0</td>\n",
       "      <td>  1914.655756</td>\n",
       "      <td>  2032.811459</td>\n",
       "      <td>  2579.841023</td>\n",
       "      <td> 2</td>\n",
       "      <td> 65</td>\n",
       "      <td>NaN</td>\n",
       "      <td>  6.0000</td>\n",
       "    </tr>\n",
       "    <tr>\n",
       "      <th>13506</th>\n",
       "      <td> 12490</td>\n",
       "      <td> 1</td>\n",
       "      <td>NaN</td>\n",
       "      <td>NaN</td>\n",
       "      <td>NaN</td>\n",
       "      <td>NaN</td>\n",
       "      <td> 6</td>\n",
       "      <td>NaN</td>\n",
       "      <td> 1</td>\n",
       "      <td>NaN</td>\n",
       "      <td>...</td>\n",
       "      <td> 0</td>\n",
       "      <td> 0</td>\n",
       "      <td> 0</td>\n",
       "      <td>  8000.265025</td>\n",
       "      <td>  8557.158828</td>\n",
       "      <td> 15615.959146</td>\n",
       "      <td> 2</td>\n",
       "      <td> 17</td>\n",
       "      <td>NaN</td>\n",
       "      <td>  7.7500</td>\n",
       "    </tr>\n",
       "    <tr>\n",
       "      <th>13509</th>\n",
       "      <td> 12494</td>\n",
       "      <td> 1</td>\n",
       "      <td>NaN</td>\n",
       "      <td>NaN</td>\n",
       "      <td>NaN</td>\n",
       "      <td>NaN</td>\n",
       "      <td> 6</td>\n",
       "      <td>NaN</td>\n",
       "      <td> 1</td>\n",
       "      <td>NaN</td>\n",
       "      <td>...</td>\n",
       "      <td> 0</td>\n",
       "      <td> 0</td>\n",
       "      <td> 0</td>\n",
       "      <td>  2418.379375</td>\n",
       "      <td>  2753.388256</td>\n",
       "      <td>  4777.128625</td>\n",
       "      <td> 2</td>\n",
       "      <td> 81</td>\n",
       "      <td>NaN</td>\n",
       "      <td>  5.5625</td>\n",
       "    </tr>\n",
       "    <tr>\n",
       "      <th>13511</th>\n",
       "      <td> 12497</td>\n",
       "      <td> 1</td>\n",
       "      <td>NaN</td>\n",
       "      <td>NaN</td>\n",
       "      <td>NaN</td>\n",
       "      <td>NaN</td>\n",
       "      <td> 6</td>\n",
       "      <td>NaN</td>\n",
       "      <td> 1</td>\n",
       "      <td>NaN</td>\n",
       "      <td>...</td>\n",
       "      <td> 0</td>\n",
       "      <td> 0</td>\n",
       "      <td> 0</td>\n",
       "      <td>  1167.677859</td>\n",
       "      <td>  1354.211024</td>\n",
       "      <td>  1718.629211</td>\n",
       "      <td> 1</td>\n",
       "      <td> 75</td>\n",
       "      <td>NaN</td>\n",
       "      <td>  6.1875</td>\n",
       "    </tr>\n",
       "    <tr>\n",
       "      <th>13516</th>\n",
       "      <td> 12499</td>\n",
       "      <td> 4</td>\n",
       "      <td>NaN</td>\n",
       "      <td>NaN</td>\n",
       "      <td>NaN</td>\n",
       "      <td>NaN</td>\n",
       "      <td> 6</td>\n",
       "      <td>NaN</td>\n",
       "      <td> 1</td>\n",
       "      <td>NaN</td>\n",
       "      <td>...</td>\n",
       "      <td> 0</td>\n",
       "      <td> 0</td>\n",
       "      <td> 0</td>\n",
       "      <td>  5025.106273</td>\n",
       "      <td>  6183.537472</td>\n",
       "      <td>  6688.732484</td>\n",
       "      <td> 2</td>\n",
       "      <td> 19</td>\n",
       "      <td>NaN</td>\n",
       "      <td>  7.0000</td>\n",
       "    </tr>\n",
       "    <tr>\n",
       "      <th>13518</th>\n",
       "      <td> 12501</td>\n",
       "      <td> 1</td>\n",
       "      <td>NaN</td>\n",
       "      <td>NaN</td>\n",
       "      <td>NaN</td>\n",
       "      <td>NaN</td>\n",
       "      <td> 5</td>\n",
       "      <td>NaN</td>\n",
       "      <td> 1</td>\n",
       "      <td>NaN</td>\n",
       "      <td>...</td>\n",
       "      <td> 0</td>\n",
       "      <td> 0</td>\n",
       "      <td> 0</td>\n",
       "      <td>  3410.555993</td>\n",
       "      <td>  5214.445430</td>\n",
       "      <td>  9047.062822</td>\n",
       "      <td> 1</td>\n",
       "      <td> 65</td>\n",
       "      <td>NaN</td>\n",
       "      <td>  8.8750</td>\n",
       "    </tr>\n",
       "    <tr>\n",
       "      <th>13519</th>\n",
       "      <td> 12507</td>\n",
       "      <td> 1</td>\n",
       "      <td>NaN</td>\n",
       "      <td>NaN</td>\n",
       "      <td>NaN</td>\n",
       "      <td>NaN</td>\n",
       "      <td> 6</td>\n",
       "      <td>NaN</td>\n",
       "      <td> 1</td>\n",
       "      <td>NaN</td>\n",
       "      <td>...</td>\n",
       "      <td> 0</td>\n",
       "      <td> 0</td>\n",
       "      <td> 0</td>\n",
       "      <td>  3410.638276</td>\n",
       "      <td>  5269.197652</td>\n",
       "      <td>  5699.691101</td>\n",
       "      <td> 1</td>\n",
       "      <td> 44</td>\n",
       "      <td>NaN</td>\n",
       "      <td>     NaN</td>\n",
       "    </tr>\n",
       "    <tr>\n",
       "      <th>13520</th>\n",
       "      <td> 12508</td>\n",
       "      <td> 1</td>\n",
       "      <td>NaN</td>\n",
       "      <td>NaN</td>\n",
       "      <td>NaN</td>\n",
       "      <td>NaN</td>\n",
       "      <td> 6</td>\n",
       "      <td>NaN</td>\n",
       "      <td> 1</td>\n",
       "      <td>NaN</td>\n",
       "      <td>...</td>\n",
       "      <td> 0</td>\n",
       "      <td> 0</td>\n",
       "      <td> 0</td>\n",
       "      <td>  1806.511457</td>\n",
       "      <td>  2225.544850</td>\n",
       "      <td>  3000.702121</td>\n",
       "      <td> 2</td>\n",
       "      <td> 17</td>\n",
       "      <td>NaN</td>\n",
       "      <td>  5.5000</td>\n",
       "    </tr>\n",
       "    <tr>\n",
       "      <th>13522</th>\n",
       "      <td> 12510</td>\n",
       "      <td> 2</td>\n",
       "      <td>NaN</td>\n",
       "      <td>NaN</td>\n",
       "      <td>NaN</td>\n",
       "      <td>NaN</td>\n",
       "      <td> 6</td>\n",
       "      <td>NaN</td>\n",
       "      <td> 1</td>\n",
       "      <td>NaN</td>\n",
       "      <td>...</td>\n",
       "      <td> 0</td>\n",
       "      <td> 0</td>\n",
       "      <td> 0</td>\n",
       "      <td>  2418.069494</td>\n",
       "      <td>  2761.550870</td>\n",
       "      <td>  4791.290760</td>\n",
       "      <td> 2</td>\n",
       "      <td> 56</td>\n",
       "      <td>NaN</td>\n",
       "      <td>  6.1250</td>\n",
       "    </tr>\n",
       "    <tr>\n",
       "      <th>13525</th>\n",
       "      <td> 12511</td>\n",
       "      <td> 1</td>\n",
       "      <td>NaN</td>\n",
       "      <td>NaN</td>\n",
       "      <td>NaN</td>\n",
       "      <td>NaN</td>\n",
       "      <td> 5</td>\n",
       "      <td>NaN</td>\n",
       "      <td> 1</td>\n",
       "      <td>NaN</td>\n",
       "      <td>...</td>\n",
       "      <td> 0</td>\n",
       "      <td> 0</td>\n",
       "      <td> 0</td>\n",
       "      <td>  4870.237192</td>\n",
       "      <td>  5332.679814</td>\n",
       "      <td>  8886.910910</td>\n",
       "      <td> 1</td>\n",
       "      <td> 29</td>\n",
       "      <td>NaN</td>\n",
       "      <td>  8.3750</td>\n",
       "    </tr>\n",
       "    <tr>\n",
       "      <th>13528</th>\n",
       "      <td> 12514</td>\n",
       "      <td> 1</td>\n",
       "      <td>NaN</td>\n",
       "      <td>NaN</td>\n",
       "      <td>NaN</td>\n",
       "      <td>NaN</td>\n",
       "      <td> 5</td>\n",
       "      <td>NaN</td>\n",
       "      <td> 1</td>\n",
       "      <td>NaN</td>\n",
       "      <td>...</td>\n",
       "      <td> 0</td>\n",
       "      <td> 0</td>\n",
       "      <td> 0</td>\n",
       "      <td>  1806.325870</td>\n",
       "      <td>  2302.206739</td>\n",
       "      <td>  2993.098981</td>\n",
       "      <td> 1</td>\n",
       "      <td> 54</td>\n",
       "      <td>NaN</td>\n",
       "      <td>  8.8750</td>\n",
       "    </tr>\n",
       "    <tr>\n",
       "      <th>13531</th>\n",
       "      <td> 12518</td>\n",
       "      <td> 1</td>\n",
       "      <td>NaN</td>\n",
       "      <td>NaN</td>\n",
       "      <td>NaN</td>\n",
       "      <td>NaN</td>\n",
       "      <td> 5</td>\n",
       "      <td>NaN</td>\n",
       "      <td> 1</td>\n",
       "      <td>NaN</td>\n",
       "      <td>...</td>\n",
       "      <td> 0</td>\n",
       "      <td> 0</td>\n",
       "      <td> 0</td>\n",
       "      <td>  4308.730685</td>\n",
       "      <td>  6557.903716</td>\n",
       "      <td>  8322.635605</td>\n",
       "      <td> 1</td>\n",
       "      <td> 78</td>\n",
       "      <td>NaN</td>\n",
       "      <td>  6.9375</td>\n",
       "    </tr>\n",
       "    <tr>\n",
       "      <th>13537</th>\n",
       "      <td> 12525</td>\n",
       "      <td> 1</td>\n",
       "      <td>NaN</td>\n",
       "      <td>NaN</td>\n",
       "      <td>NaN</td>\n",
       "      <td>NaN</td>\n",
       "      <td> 5</td>\n",
       "      <td>NaN</td>\n",
       "      <td> 1</td>\n",
       "      <td>NaN</td>\n",
       "      <td>...</td>\n",
       "      <td> 0</td>\n",
       "      <td> 0</td>\n",
       "      <td> 0</td>\n",
       "      <td>  7768.205050</td>\n",
       "      <td> 11737.299570</td>\n",
       "      <td> 19740.964148</td>\n",
       "      <td> 2</td>\n",
       "      <td> 74</td>\n",
       "      <td>NaN</td>\n",
       "      <td>  8.3125</td>\n",
       "    </tr>\n",
       "    <tr>\n",
       "      <th>13538</th>\n",
       "      <td> 12528</td>\n",
       "      <td> 1</td>\n",
       "      <td>NaN</td>\n",
       "      <td>NaN</td>\n",
       "      <td>NaN</td>\n",
       "      <td>NaN</td>\n",
       "      <td> 6</td>\n",
       "      <td>NaN</td>\n",
       "      <td> 1</td>\n",
       "      <td>NaN</td>\n",
       "      <td>...</td>\n",
       "      <td> 0</td>\n",
       "      <td> 0</td>\n",
       "      <td> 0</td>\n",
       "      <td>  3410.699028</td>\n",
       "      <td>  3801.513533</td>\n",
       "      <td>  6937.382047</td>\n",
       "      <td> 2</td>\n",
       "      <td> 38</td>\n",
       "      <td>NaN</td>\n",
       "      <td>  7.6250</td>\n",
       "    </tr>\n",
       "    <tr>\n",
       "      <th>13544</th>\n",
       "      <td> 12535</td>\n",
       "      <td> 1</td>\n",
       "      <td>NaN</td>\n",
       "      <td>NaN</td>\n",
       "      <td>NaN</td>\n",
       "      <td>NaN</td>\n",
       "      <td> 6</td>\n",
       "      <td>NaN</td>\n",
       "      <td> 1</td>\n",
       "      <td>NaN</td>\n",
       "      <td>...</td>\n",
       "      <td> 0</td>\n",
       "      <td> 0</td>\n",
       "      <td> 0</td>\n",
       "      <td>  3612.891741</td>\n",
       "      <td>  3860.578307</td>\n",
       "      <td>  7045.169353</td>\n",
       "      <td> 2</td>\n",
       "      <td> 73</td>\n",
       "      <td>NaN</td>\n",
       "      <td>  5.8125</td>\n",
       "    </tr>\n",
       "    <tr>\n",
       "      <th>13547</th>\n",
       "      <td> 12539</td>\n",
       "      <td> 1</td>\n",
       "      <td>NaN</td>\n",
       "      <td>NaN</td>\n",
       "      <td>NaN</td>\n",
       "      <td>NaN</td>\n",
       "      <td> 5</td>\n",
       "      <td>NaN</td>\n",
       "      <td> 2</td>\n",
       "      <td>  1</td>\n",
       "      <td>...</td>\n",
       "      <td> 0</td>\n",
       "      <td> 0</td>\n",
       "      <td> 0</td>\n",
       "      <td>  2580.696230</td>\n",
       "      <td>  3021.661943</td>\n",
       "      <td>  5514.230879</td>\n",
       "      <td> 1</td>\n",
       "      <td> 14</td>\n",
       "      <td>NaN</td>\n",
       "      <td>  4.1250</td>\n",
       "    </tr>\n",
       "    <tr>\n",
       "      <th>13551</th>\n",
       "      <td> 12541</td>\n",
       "      <td> 1</td>\n",
       "      <td>NaN</td>\n",
       "      <td>NaN</td>\n",
       "      <td>NaN</td>\n",
       "      <td>NaN</td>\n",
       "      <td> 6</td>\n",
       "      <td>NaN</td>\n",
       "      <td> 1</td>\n",
       "      <td>NaN</td>\n",
       "      <td>...</td>\n",
       "      <td> 0</td>\n",
       "      <td> 0</td>\n",
       "      <td> 0</td>\n",
       "      <td>  3248.105346</td>\n",
       "      <td>  4194.073923</td>\n",
       "      <td>  5322.699216</td>\n",
       "      <td> 2</td>\n",
       "      <td> 45</td>\n",
       "      <td>NaN</td>\n",
       "      <td>  5.3750</td>\n",
       "    </tr>\n",
       "    <tr>\n",
       "      <th>13555</th>\n",
       "      <td> 12544</td>\n",
       "      <td> 1</td>\n",
       "      <td>NaN</td>\n",
       "      <td>NaN</td>\n",
       "      <td>NaN</td>\n",
       "      <td>NaN</td>\n",
       "      <td> 5</td>\n",
       "      <td>NaN</td>\n",
       "      <td> 1</td>\n",
       "      <td>NaN</td>\n",
       "      <td>...</td>\n",
       "      <td> 0</td>\n",
       "      <td> 0</td>\n",
       "      <td> 0</td>\n",
       "      <td>  5197.958762</td>\n",
       "      <td>  5779.040455</td>\n",
       "      <td>  7334.180241</td>\n",
       "      <td> 1</td>\n",
       "      <td> 17</td>\n",
       "      <td>NaN</td>\n",
       "      <td>  6.1250</td>\n",
       "    </tr>\n",
       "    <tr>\n",
       "      <th>13559</th>\n",
       "      <td> 12545</td>\n",
       "      <td> 2</td>\n",
       "      <td>NaN</td>\n",
       "      <td>NaN</td>\n",
       "      <td>NaN</td>\n",
       "      <td>NaN</td>\n",
       "      <td> 6</td>\n",
       "      <td>NaN</td>\n",
       "      <td> 1</td>\n",
       "      <td>NaN</td>\n",
       "      <td>...</td>\n",
       "      <td> 0</td>\n",
       "      <td> 0</td>\n",
       "      <td> 0</td>\n",
       "      <td>  6704.586080</td>\n",
       "      <td>  8349.765651</td>\n",
       "      <td> 13914.884458</td>\n",
       "      <td> 2</td>\n",
       "      <td> 53</td>\n",
       "      <td>NaN</td>\n",
       "      <td>  7.8750</td>\n",
       "    </tr>\n",
       "    <tr>\n",
       "      <th>13560</th>\n",
       "      <td> 12546</td>\n",
       "      <td> 1</td>\n",
       "      <td>NaN</td>\n",
       "      <td>NaN</td>\n",
       "      <td>NaN</td>\n",
       "      <td>NaN</td>\n",
       "      <td> 6</td>\n",
       "      <td>NaN</td>\n",
       "      <td> 1</td>\n",
       "      <td>NaN</td>\n",
       "      <td>...</td>\n",
       "      <td> 0</td>\n",
       "      <td> 0</td>\n",
       "      <td> 0</td>\n",
       "      <td>  4602.798759</td>\n",
       "      <td>  7717.382897</td>\n",
       "      <td>  9415.207134</td>\n",
       "      <td> 1</td>\n",
       "      <td> 29</td>\n",
       "      <td>NaN</td>\n",
       "      <td>  7.8750</td>\n",
       "    </tr>\n",
       "    <tr>\n",
       "      <th>13562</th>\n",
       "      <td> 12547</td>\n",
       "      <td> 1</td>\n",
       "      <td>NaN</td>\n",
       "      <td>NaN</td>\n",
       "      <td>NaN</td>\n",
       "      <td>NaN</td>\n",
       "      <td> 6</td>\n",
       "      <td>NaN</td>\n",
       "      <td> 1</td>\n",
       "      <td>NaN</td>\n",
       "      <td>...</td>\n",
       "      <td> 0</td>\n",
       "      <td> 0</td>\n",
       "      <td> 0</td>\n",
       "      <td>  3453.545517</td>\n",
       "      <td>  6628.022524</td>\n",
       "      <td> 11499.619080</td>\n",
       "      <td> 1</td>\n",
       "      <td> 52</td>\n",
       "      <td>NaN</td>\n",
       "      <td>  8.1250</td>\n",
       "    </tr>\n",
       "    <tr>\n",
       "      <th>13565</th>\n",
       "      <td> 12550</td>\n",
       "      <td> 1</td>\n",
       "      <td>NaN</td>\n",
       "      <td>NaN</td>\n",
       "      <td>NaN</td>\n",
       "      <td>NaN</td>\n",
       "      <td> 6</td>\n",
       "      <td>NaN</td>\n",
       "      <td> 1</td>\n",
       "      <td>NaN</td>\n",
       "      <td>...</td>\n",
       "      <td> 0</td>\n",
       "      <td> 0</td>\n",
       "      <td> 0</td>\n",
       "      <td>  3080.452699</td>\n",
       "      <td>  3745.326058</td>\n",
       "      <td>  5268.550165</td>\n",
       "      <td> 1</td>\n",
       "      <td> 79</td>\n",
       "      <td>NaN</td>\n",
       "      <td>  8.1250</td>\n",
       "    </tr>\n",
       "    <tr>\n",
       "      <th>13566</th>\n",
       "      <td> 12551</td>\n",
       "      <td> 1</td>\n",
       "      <td>NaN</td>\n",
       "      <td>NaN</td>\n",
       "      <td>NaN</td>\n",
       "      <td>NaN</td>\n",
       "      <td> 5</td>\n",
       "      <td>NaN</td>\n",
       "      <td> 1</td>\n",
       "      <td>NaN</td>\n",
       "      <td>...</td>\n",
       "      <td> 0</td>\n",
       "      <td> 0</td>\n",
       "      <td> 0</td>\n",
       "      <td>  2418.538866</td>\n",
       "      <td>  3653.453268</td>\n",
       "      <td>  3951.940400</td>\n",
       "      <td> 2</td>\n",
       "      <td> 75</td>\n",
       "      <td>NaN</td>\n",
       "      <td>  7.5000</td>\n",
       "    </tr>\n",
       "    <tr>\n",
       "      <th>13569</th>\n",
       "      <td> 12556</td>\n",
       "      <td> 1</td>\n",
       "      <td>NaN</td>\n",
       "      <td>NaN</td>\n",
       "      <td>NaN</td>\n",
       "      <td>NaN</td>\n",
       "      <td> 6</td>\n",
       "      <td>NaN</td>\n",
       "      <td> 1</td>\n",
       "      <td>NaN</td>\n",
       "      <td>...</td>\n",
       "      <td> 0</td>\n",
       "      <td> 0</td>\n",
       "      <td> 0</td>\n",
       "      <td>  2474.619764</td>\n",
       "      <td>  3250.573384</td>\n",
       "      <td>  3965.699528</td>\n",
       "      <td> 1</td>\n",
       "      <td> 44</td>\n",
       "      <td>NaN</td>\n",
       "      <td>  5.8125</td>\n",
       "    </tr>\n",
       "    <tr>\n",
       "      <th>13573</th>\n",
       "      <td> 12561</td>\n",
       "      <td> 1</td>\n",
       "      <td>NaN</td>\n",
       "      <td>NaN</td>\n",
       "      <td>NaN</td>\n",
       "      <td>NaN</td>\n",
       "      <td> 6</td>\n",
       "      <td>NaN</td>\n",
       "      <td> 1</td>\n",
       "      <td>NaN</td>\n",
       "      <td>...</td>\n",
       "      <td> 0</td>\n",
       "      <td> 0</td>\n",
       "      <td> 0</td>\n",
       "      <td>  2418.089703</td>\n",
       "      <td>  2698.650781</td>\n",
       "      <td>  4497.301527</td>\n",
       "      <td> 1</td>\n",
       "      <td> 10</td>\n",
       "      <td>NaN</td>\n",
       "      <td>  6.5625</td>\n",
       "    </tr>\n",
       "    <tr>\n",
       "      <th>13576</th>\n",
       "      <td> 12565</td>\n",
       "      <td> 1</td>\n",
       "      <td>NaN</td>\n",
       "      <td>NaN</td>\n",
       "      <td>NaN</td>\n",
       "      <td>NaN</td>\n",
       "      <td> 6</td>\n",
       "      <td>NaN</td>\n",
       "      <td> 1</td>\n",
       "      <td>NaN</td>\n",
       "      <td>...</td>\n",
       "      <td> 0</td>\n",
       "      <td> 0</td>\n",
       "      <td> 0</td>\n",
       "      <td>  3195.641221</td>\n",
       "      <td>  3834.241709</td>\n",
       "      <td>  6652.409365</td>\n",
       "      <td> 1</td>\n",
       "      <td> 78</td>\n",
       "      <td>NaN</td>\n",
       "      <td>  6.4375</td>\n",
       "    </tr>\n",
       "    <tr>\n",
       "      <th>13578</th>\n",
       "      <td> 12566</td>\n",
       "      <td> 1</td>\n",
       "      <td>NaN</td>\n",
       "      <td>NaN</td>\n",
       "      <td>NaN</td>\n",
       "      <td>NaN</td>\n",
       "      <td> 6</td>\n",
       "      <td>NaN</td>\n",
       "      <td> 1</td>\n",
       "      <td>NaN</td>\n",
       "      <td>...</td>\n",
       "      <td> 0</td>\n",
       "      <td> 0</td>\n",
       "      <td> 0</td>\n",
       "      <td>  2080.317155</td>\n",
       "      <td>  2422.820274</td>\n",
       "      <td>  2627.548587</td>\n",
       "      <td> 2</td>\n",
       "      <td>  2</td>\n",
       "      <td>NaN</td>\n",
       "      <td>  6.0000</td>\n",
       "    </tr>\n",
       "    <tr>\n",
       "      <th>13581</th>\n",
       "      <td> 12568</td>\n",
       "      <td> 2</td>\n",
       "      <td>NaN</td>\n",
       "      <td>NaN</td>\n",
       "      <td>NaN</td>\n",
       "      <td>NaN</td>\n",
       "      <td> 5</td>\n",
       "      <td>NaN</td>\n",
       "      <td> 1</td>\n",
       "      <td>NaN</td>\n",
       "      <td>...</td>\n",
       "      <td> 0</td>\n",
       "      <td> 0</td>\n",
       "      <td> 0</td>\n",
       "      <td>  2734.687353</td>\n",
       "      <td>  4258.980140</td>\n",
       "      <td>  7772.212858</td>\n",
       "      <td> 2</td>\n",
       "      <td> 28</td>\n",
       "      <td>NaN</td>\n",
       "      <td>  6.3750</td>\n",
       "    </tr>\n",
       "    <tr>\n",
       "      <th>13584</th>\n",
       "      <td> 12569</td>\n",
       "      <td> 2</td>\n",
       "      <td>NaN</td>\n",
       "      <td>NaN</td>\n",
       "      <td>NaN</td>\n",
       "      <td>NaN</td>\n",
       "      <td> 6</td>\n",
       "      <td>NaN</td>\n",
       "      <td> 1</td>\n",
       "      <td>NaN</td>\n",
       "      <td>...</td>\n",
       "      <td> 0</td>\n",
       "      <td> 0</td>\n",
       "      <td> 0</td>\n",
       "      <td>  2580.967613</td>\n",
       "      <td>  2925.167116</td>\n",
       "      <td>  5075.164946</td>\n",
       "      <td> 2</td>\n",
       "      <td> 61</td>\n",
       "      <td>NaN</td>\n",
       "      <td>  6.3750</td>\n",
       "    </tr>\n",
       "    <tr>\n",
       "      <th>13588</th>\n",
       "      <td> 12571</td>\n",
       "      <td> 1</td>\n",
       "      <td>NaN</td>\n",
       "      <td>NaN</td>\n",
       "      <td>NaN</td>\n",
       "      <td>NaN</td>\n",
       "      <td> 6</td>\n",
       "      <td>NaN</td>\n",
       "      <td> 1</td>\n",
       "      <td>NaN</td>\n",
       "      <td>...</td>\n",
       "      <td> 0</td>\n",
       "      <td> 0</td>\n",
       "      <td> 0</td>\n",
       "      <td>  4670.540953</td>\n",
       "      <td>  5795.692880</td>\n",
       "      <td>  6269.200989</td>\n",
       "      <td> 1</td>\n",
       "      <td> 78</td>\n",
       "      <td>NaN</td>\n",
       "      <td>  6.1875</td>\n",
       "    </tr>\n",
       "  </tbody>\n",
       "</table>\n",
       "<p>4413 rows × 244 columns</p>\n",
       "</div>"
      ],
      "text/plain": [
       "       caseid  pregordr  howpreg_n  howpreg_p  moscurrp  nowprgdk  pregend1  \\\n",
       "0           1         1        NaN        NaN       NaN       NaN         6   \n",
       "2           2         1        NaN        NaN       NaN       NaN         5   \n",
       "5           6         1        NaN        NaN       NaN       NaN         6   \n",
       "8           7         1        NaN        NaN       NaN       NaN         5   \n",
       "10         12         1        NaN        NaN       NaN       NaN         5   \n",
       "11         14         1        NaN        NaN       NaN       NaN         6   \n",
       "15         15         2        NaN        NaN       NaN       NaN         6   \n",
       "17         18         1        NaN        NaN       NaN       NaN         5   \n",
       "19         21         1        NaN        NaN       NaN       NaN         6   \n",
       "21         23         1        NaN        NaN       NaN       NaN         6   \n",
       "23         24         1        NaN        NaN       NaN       NaN         6   \n",
       "26         28         1        NaN        NaN       NaN       NaN         6   \n",
       "27         31         1        NaN        NaN       NaN       NaN         6   \n",
       "31         36         2        NaN        NaN       NaN       NaN         6   \n",
       "32         38         1        NaN        NaN       NaN       NaN         5   \n",
       "35         39         1        NaN        NaN       NaN       NaN         5   \n",
       "39         44         3        NaN        NaN       NaN       NaN         6   \n",
       "42         46         1        NaN        NaN       NaN       NaN         5   \n",
       "44         49         1        NaN        NaN       NaN       NaN         6   \n",
       "48         51         1        NaN        NaN       NaN       NaN         6   \n",
       "52         57         1        NaN        NaN       NaN       NaN         5   \n",
       "55         60         1        NaN        NaN       NaN       NaN         6   \n",
       "58         63         2        NaN        NaN       NaN       NaN         6   \n",
       "60         69         1        NaN        NaN       NaN       NaN         6   \n",
       "62         70         2        NaN        NaN       NaN       NaN         6   \n",
       "65         71         1        NaN        NaN       NaN       NaN         6   \n",
       "67         72         2        NaN        NaN       NaN       NaN         6   \n",
       "68         73         1        NaN        NaN       NaN       NaN         6   \n",
       "70         77         1        NaN        NaN       NaN       NaN         6   \n",
       "72         80         1        NaN        NaN       NaN       NaN         6   \n",
       "...       ...       ...        ...        ...       ...       ...       ...   \n",
       "13502   12488         1        NaN        NaN       NaN       NaN         6   \n",
       "13506   12490         1        NaN        NaN       NaN       NaN         6   \n",
       "13509   12494         1        NaN        NaN       NaN       NaN         6   \n",
       "13511   12497         1        NaN        NaN       NaN       NaN         6   \n",
       "13516   12499         4        NaN        NaN       NaN       NaN         6   \n",
       "13518   12501         1        NaN        NaN       NaN       NaN         5   \n",
       "13519   12507         1        NaN        NaN       NaN       NaN         6   \n",
       "13520   12508         1        NaN        NaN       NaN       NaN         6   \n",
       "13522   12510         2        NaN        NaN       NaN       NaN         6   \n",
       "13525   12511         1        NaN        NaN       NaN       NaN         5   \n",
       "13528   12514         1        NaN        NaN       NaN       NaN         5   \n",
       "13531   12518         1        NaN        NaN       NaN       NaN         5   \n",
       "13537   12525         1        NaN        NaN       NaN       NaN         5   \n",
       "13538   12528         1        NaN        NaN       NaN       NaN         6   \n",
       "13544   12535         1        NaN        NaN       NaN       NaN         6   \n",
       "13547   12539         1        NaN        NaN       NaN       NaN         5   \n",
       "13551   12541         1        NaN        NaN       NaN       NaN         6   \n",
       "13555   12544         1        NaN        NaN       NaN       NaN         5   \n",
       "13559   12545         2        NaN        NaN       NaN       NaN         6   \n",
       "13560   12546         1        NaN        NaN       NaN       NaN         6   \n",
       "13562   12547         1        NaN        NaN       NaN       NaN         6   \n",
       "13565   12550         1        NaN        NaN       NaN       NaN         6   \n",
       "13566   12551         1        NaN        NaN       NaN       NaN         5   \n",
       "13569   12556         1        NaN        NaN       NaN       NaN         6   \n",
       "13573   12561         1        NaN        NaN       NaN       NaN         6   \n",
       "13576   12565         1        NaN        NaN       NaN       NaN         6   \n",
       "13578   12566         1        NaN        NaN       NaN       NaN         6   \n",
       "13581   12568         2        NaN        NaN       NaN       NaN         5   \n",
       "13584   12569         2        NaN        NaN       NaN       NaN         6   \n",
       "13588   12571         1        NaN        NaN       NaN       NaN         6   \n",
       "\n",
       "       pregend2  nbrnaliv  multbrth     ...       laborfor_i  religion_i  \\\n",
       "0           NaN         1       NaN     ...                0           0   \n",
       "2           NaN         3         5     ...                0           0   \n",
       "5           NaN         1       NaN     ...                0           0   \n",
       "8           NaN         1       NaN     ...                0           0   \n",
       "10          NaN         1       NaN     ...                0           0   \n",
       "11          NaN         1       NaN     ...                0           0   \n",
       "15          NaN         1       NaN     ...                0           0   \n",
       "17          NaN         1       NaN     ...                0           0   \n",
       "19          NaN         1       NaN     ...                0           0   \n",
       "21          NaN         1       NaN     ...                0           0   \n",
       "23          NaN         1       NaN     ...                0           0   \n",
       "26          NaN         1       NaN     ...                0           0   \n",
       "27          NaN         1       NaN     ...                0           0   \n",
       "31          NaN         1       NaN     ...                0           0   \n",
       "32          NaN         1       NaN     ...                0           0   \n",
       "35          NaN         2         1     ...                0           0   \n",
       "39          NaN         1       NaN     ...                0           0   \n",
       "42          NaN         1       NaN     ...                0           0   \n",
       "44          NaN         1       NaN     ...                0           0   \n",
       "48          NaN         1       NaN     ...                0           0   \n",
       "52          NaN         1       NaN     ...                0           0   \n",
       "55          NaN         1       NaN     ...                0           0   \n",
       "58          NaN         1       NaN     ...                0           0   \n",
       "60          NaN         1       NaN     ...                0           0   \n",
       "62          NaN         1       NaN     ...                0           0   \n",
       "65          NaN         1       NaN     ...                0           0   \n",
       "67          NaN         1       NaN     ...                0           0   \n",
       "68          NaN         1       NaN     ...                0           0   \n",
       "70          NaN         1       NaN     ...                0           0   \n",
       "72          NaN         1       NaN     ...                0           0   \n",
       "...         ...       ...       ...     ...              ...         ...   \n",
       "13502       NaN         1       NaN     ...                0           0   \n",
       "13506       NaN         1       NaN     ...                0           0   \n",
       "13509       NaN         1       NaN     ...                0           0   \n",
       "13511       NaN         1       NaN     ...                0           0   \n",
       "13516       NaN         1       NaN     ...                0           0   \n",
       "13518       NaN         1       NaN     ...                0           0   \n",
       "13519       NaN         1       NaN     ...                0           0   \n",
       "13520       NaN         1       NaN     ...                0           0   \n",
       "13522       NaN         1       NaN     ...                0           0   \n",
       "13525       NaN         1       NaN     ...                0           0   \n",
       "13528       NaN         1       NaN     ...                0           0   \n",
       "13531       NaN         1       NaN     ...                0           0   \n",
       "13537       NaN         1       NaN     ...                0           0   \n",
       "13538       NaN         1       NaN     ...                0           0   \n",
       "13544       NaN         1       NaN     ...                0           0   \n",
       "13547       NaN         2         1     ...                0           0   \n",
       "13551       NaN         1       NaN     ...                0           0   \n",
       "13555       NaN         1       NaN     ...                0           0   \n",
       "13559       NaN         1       NaN     ...                0           0   \n",
       "13560       NaN         1       NaN     ...                0           0   \n",
       "13562       NaN         1       NaN     ...                0           0   \n",
       "13565       NaN         1       NaN     ...                0           0   \n",
       "13566       NaN         1       NaN     ...                0           0   \n",
       "13569       NaN         1       NaN     ...                0           0   \n",
       "13573       NaN         1       NaN     ...                0           0   \n",
       "13576       NaN         1       NaN     ...                0           0   \n",
       "13578       NaN         1       NaN     ...                0           0   \n",
       "13581       NaN         1       NaN     ...                0           0   \n",
       "13584       NaN         1       NaN     ...                0           0   \n",
       "13588       NaN         1       NaN     ...                0           0   \n",
       "\n",
       "       metro_i       basewgt  adj_mod_basewgt      finalwgt  secu_p  sest  \\\n",
       "0            0   3410.389399      3869.349602   6448.271112       2     9   \n",
       "2            0   7226.301740      8567.549110  12999.542264       2    12   \n",
       "5            0   4870.926435      5325.196999   8874.440799       1    23   \n",
       "8            0   3409.579565      3787.539000   6911.879921       2    14   \n",
       "10           0   3612.781968      4146.013572   6909.331618       1    31   \n",
       "11           0   2418.069494      2810.302771   3039.904507       2    56   \n",
       "15           0   1667.816099      3200.862017   5553.495599       1    33   \n",
       "17           0   2957.257457      3404.403067   4153.371741       2    14   \n",
       "19           0   3408.342437      3965.763949   7237.122630       1    48   \n",
       "21           0   6210.373020      8120.841310  13533.382043       2    64   \n",
       "23           0   3409.573258      4068.628645   7424.840414       1    27   \n",
       "26           0   3407.794208      3808.343516   6949.846082       2    57   \n",
       "27           0   3405.679025      4272.084519   5211.943113       1     2   \n",
       "31           0   1668.415087      1969.717778   3594.537973       1    69   \n",
       "32           0   4780.758522      5555.002527  10137.324111       2    36   \n",
       "35           0   1167.715478      1425.542080   1853.347258       1    28   \n",
       "39           0   3879.663879      4304.346246   4656.011334       2    48   \n",
       "42           0  15100.708977     17331.441183  28882.846732       1    24   \n",
       "44           0   1805.998152      2030.238242   2737.370222       1    46   \n",
       "48           0   4602.966038      8739.312970  11361.980792       1    20   \n",
       "52           0   2417.557699      3640.181849   4619.754785       1    62   \n",
       "55           0   3409.452810      3874.928670   7071.357329       1     5   \n",
       "58           0   3410.208760      4065.874139   7419.813716       1     3   \n",
       "60           0   3613.613534      4139.484352   6280.839607       2    29   \n",
       "62           0   3455.254195      4190.349732   7646.969226       2    77   \n",
       "65           0   4343.075296      4981.333373   7007.241656       2    43   \n",
       "67           0   2335.596182      2547.349832   3391.286832       1    44   \n",
       "68           0   5634.639492      6532.865516   7970.095929       2    22   \n",
       "70           0   3217.799925      3808.312243   4833.129067       2     8   \n",
       "72           0   3612.971757      4261.719088   6522.561064       1    43   \n",
       "...        ...           ...              ...           ...     ...   ...   \n",
       "13502        0   1914.655756      2032.811459   2579.841023       2    65   \n",
       "13506        0   8000.265025      8557.158828  15615.959146       2    17   \n",
       "13509        0   2418.379375      2753.388256   4777.128625       2    81   \n",
       "13511        0   1167.677859      1354.211024   1718.629211       1    75   \n",
       "13516        0   5025.106273      6183.537472   6688.732484       2    19   \n",
       "13518        0   3410.555993      5214.445430   9047.062822       1    65   \n",
       "13519        0   3410.638276      5269.197652   5699.691101       1    44   \n",
       "13520        0   1806.511457      2225.544850   3000.702121       2    17   \n",
       "13522        0   2418.069494      2761.550870   4791.290760       2    56   \n",
       "13525        0   4870.237192      5332.679814   8886.910910       1    29   \n",
       "13528        0   1806.325870      2302.206739   2993.098981       1    54   \n",
       "13531        0   4308.730685      6557.903716   8322.635605       1    78   \n",
       "13537        0   7768.205050     11737.299570  19740.964148       2    74   \n",
       "13538        0   3410.699028      3801.513533   6937.382047       2    38   \n",
       "13544        0   3612.891741      3860.578307   7045.169353       2    73   \n",
       "13547        0   2580.696230      3021.661943   5514.230879       1    14   \n",
       "13551        0   3248.105346      4194.073923   5322.699216       2    45   \n",
       "13555        0   5197.958762      5779.040455   7334.180241       1    17   \n",
       "13559        0   6704.586080      8349.765651  13914.884458       2    53   \n",
       "13560        0   4602.798759      7717.382897   9415.207134       1    29   \n",
       "13562        0   3453.545517      6628.022524  11499.619080       1    52   \n",
       "13565        0   3080.452699      3745.326058   5268.550165       1    79   \n",
       "13566        0   2418.538866      3653.453268   3951.940400       2    75   \n",
       "13569        0   2474.619764      3250.573384   3965.699528       1    44   \n",
       "13573        0   2418.089703      2698.650781   4497.301527       1    10   \n",
       "13576        0   3195.641221      3834.241709   6652.409365       1    78   \n",
       "13578        0   2080.317155      2422.820274   2627.548587       2     2   \n",
       "13581        0   2734.687353      4258.980140   7772.212858       2    28   \n",
       "13584        0   2580.967613      2925.167116   5075.164946       2    61   \n",
       "13588        0   4670.540953      5795.692880   6269.200989       1    78   \n",
       "\n",
       "       cmintvw  totalwgt_lb  \n",
       "0          NaN       8.8125  \n",
       "2          NaN       9.1250  \n",
       "5          NaN       8.5625  \n",
       "8          NaN       7.5625  \n",
       "10         NaN       7.8125  \n",
       "11         NaN       7.0000  \n",
       "15         NaN       7.6875  \n",
       "17         NaN       6.3125  \n",
       "19         NaN       8.7500  \n",
       "21         NaN       5.5625  \n",
       "23         NaN       6.7500  \n",
       "26         NaN       8.1250  \n",
       "27         NaN       7.1250  \n",
       "31         NaN       8.0000  \n",
       "32         NaN       7.5000  \n",
       "35         NaN       4.9375  \n",
       "39         NaN       7.1250  \n",
       "42         NaN       6.0000  \n",
       "44         NaN       7.9375  \n",
       "48         NaN       6.1875  \n",
       "52         NaN      10.5000  \n",
       "55         NaN       9.6250  \n",
       "58         NaN       6.1250  \n",
       "60         NaN       5.6250  \n",
       "62         NaN       6.8750  \n",
       "65         NaN       5.8125  \n",
       "67         NaN       7.1250  \n",
       "68         NaN       6.8125  \n",
       "70         NaN       6.3125  \n",
       "72         NaN       7.7500  \n",
       "...        ...          ...  \n",
       "13502      NaN       6.0000  \n",
       "13506      NaN       7.7500  \n",
       "13509      NaN       5.5625  \n",
       "13511      NaN       6.1875  \n",
       "13516      NaN       7.0000  \n",
       "13518      NaN       8.8750  \n",
       "13519      NaN          NaN  \n",
       "13520      NaN       5.5000  \n",
       "13522      NaN       6.1250  \n",
       "13525      NaN       8.3750  \n",
       "13528      NaN       8.8750  \n",
       "13531      NaN       6.9375  \n",
       "13537      NaN       8.3125  \n",
       "13538      NaN       7.6250  \n",
       "13544      NaN       5.8125  \n",
       "13547      NaN       4.1250  \n",
       "13551      NaN       5.3750  \n",
       "13555      NaN       6.1250  \n",
       "13559      NaN       7.8750  \n",
       "13560      NaN       7.8750  \n",
       "13562      NaN       8.1250  \n",
       "13565      NaN       8.1250  \n",
       "13566      NaN       7.5000  \n",
       "13569      NaN       5.8125  \n",
       "13573      NaN       6.5625  \n",
       "13576      NaN       6.4375  \n",
       "13578      NaN       6.0000  \n",
       "13581      NaN       6.3750  \n",
       "13584      NaN       6.3750  \n",
       "13588      NaN       6.1875  \n",
       "\n",
       "[4413 rows x 244 columns]"
      ]
     },
     "execution_count": 136,
     "metadata": {},
     "output_type": "execute_result"
    }
   ],
   "source": [
    "firsts"
   ]
  },
  {
   "cell_type": "code",
   "execution_count": 137,
   "metadata": {
    "collapsed": false
   },
   "outputs": [
    {
     "data": {
      "text/html": [
       "<div style=\"max-height:1000px;max-width:1500px;overflow:auto;\">\n",
       "<table border=\"1\" class=\"dataframe\">\n",
       "  <thead>\n",
       "    <tr style=\"text-align: right;\">\n",
       "      <th></th>\n",
       "      <th>caseid</th>\n",
       "      <th>pregordr</th>\n",
       "      <th>howpreg_n</th>\n",
       "      <th>howpreg_p</th>\n",
       "      <th>moscurrp</th>\n",
       "      <th>nowprgdk</th>\n",
       "      <th>pregend1</th>\n",
       "      <th>pregend2</th>\n",
       "      <th>nbrnaliv</th>\n",
       "      <th>multbrth</th>\n",
       "      <th>...</th>\n",
       "      <th>laborfor_i</th>\n",
       "      <th>religion_i</th>\n",
       "      <th>metro_i</th>\n",
       "      <th>basewgt</th>\n",
       "      <th>adj_mod_basewgt</th>\n",
       "      <th>finalwgt</th>\n",
       "      <th>secu_p</th>\n",
       "      <th>sest</th>\n",
       "      <th>cmintvw</th>\n",
       "      <th>totalwgt_lb</th>\n",
       "    </tr>\n",
       "  </thead>\n",
       "  <tbody>\n",
       "    <tr>\n",
       "      <th>1    </th>\n",
       "      <td>     1</td>\n",
       "      <td> 2</td>\n",
       "      <td>NaN</td>\n",
       "      <td>NaN</td>\n",
       "      <td>NaN</td>\n",
       "      <td>NaN</td>\n",
       "      <td> 6</td>\n",
       "      <td>NaN</td>\n",
       "      <td> 1</td>\n",
       "      <td>NaN</td>\n",
       "      <td>...</td>\n",
       "      <td> 0</td>\n",
       "      <td> 0</td>\n",
       "      <td> 0</td>\n",
       "      <td>  3410.389399</td>\n",
       "      <td>  3869.349602</td>\n",
       "      <td>  6448.271112</td>\n",
       "      <td> 2</td>\n",
       "      <td>  9</td>\n",
       "      <td>NaN</td>\n",
       "      <td>  7.8750</td>\n",
       "    </tr>\n",
       "    <tr>\n",
       "      <th>3    </th>\n",
       "      <td>     2</td>\n",
       "      <td> 2</td>\n",
       "      <td>NaN</td>\n",
       "      <td>NaN</td>\n",
       "      <td>NaN</td>\n",
       "      <td>NaN</td>\n",
       "      <td> 6</td>\n",
       "      <td>NaN</td>\n",
       "      <td> 1</td>\n",
       "      <td>NaN</td>\n",
       "      <td>...</td>\n",
       "      <td> 0</td>\n",
       "      <td> 0</td>\n",
       "      <td> 0</td>\n",
       "      <td>  7226.301740</td>\n",
       "      <td>  8567.549110</td>\n",
       "      <td> 12999.542264</td>\n",
       "      <td> 2</td>\n",
       "      <td> 12</td>\n",
       "      <td>NaN</td>\n",
       "      <td>  7.0000</td>\n",
       "    </tr>\n",
       "    <tr>\n",
       "      <th>4    </th>\n",
       "      <td>     2</td>\n",
       "      <td> 3</td>\n",
       "      <td>NaN</td>\n",
       "      <td>NaN</td>\n",
       "      <td>NaN</td>\n",
       "      <td>NaN</td>\n",
       "      <td> 6</td>\n",
       "      <td>NaN</td>\n",
       "      <td> 1</td>\n",
       "      <td>NaN</td>\n",
       "      <td>...</td>\n",
       "      <td> 0</td>\n",
       "      <td> 0</td>\n",
       "      <td> 0</td>\n",
       "      <td>  7226.301740</td>\n",
       "      <td>  8567.549110</td>\n",
       "      <td> 12999.542264</td>\n",
       "      <td> 2</td>\n",
       "      <td> 12</td>\n",
       "      <td>NaN</td>\n",
       "      <td>  6.1875</td>\n",
       "    </tr>\n",
       "    <tr>\n",
       "      <th>6    </th>\n",
       "      <td>     6</td>\n",
       "      <td> 2</td>\n",
       "      <td>NaN</td>\n",
       "      <td>NaN</td>\n",
       "      <td>NaN</td>\n",
       "      <td>NaN</td>\n",
       "      <td> 6</td>\n",
       "      <td>NaN</td>\n",
       "      <td> 1</td>\n",
       "      <td>NaN</td>\n",
       "      <td>...</td>\n",
       "      <td> 0</td>\n",
       "      <td> 0</td>\n",
       "      <td> 0</td>\n",
       "      <td>  4870.926435</td>\n",
       "      <td>  5325.196999</td>\n",
       "      <td>  8874.440799</td>\n",
       "      <td> 1</td>\n",
       "      <td> 23</td>\n",
       "      <td>NaN</td>\n",
       "      <td>  9.5625</td>\n",
       "    </tr>\n",
       "    <tr>\n",
       "      <th>7    </th>\n",
       "      <td>     6</td>\n",
       "      <td> 3</td>\n",
       "      <td>NaN</td>\n",
       "      <td>NaN</td>\n",
       "      <td>NaN</td>\n",
       "      <td>NaN</td>\n",
       "      <td> 6</td>\n",
       "      <td>NaN</td>\n",
       "      <td> 1</td>\n",
       "      <td>NaN</td>\n",
       "      <td>...</td>\n",
       "      <td> 0</td>\n",
       "      <td> 0</td>\n",
       "      <td> 0</td>\n",
       "      <td>  4870.926435</td>\n",
       "      <td>  5325.196999</td>\n",
       "      <td>  8874.440799</td>\n",
       "      <td> 1</td>\n",
       "      <td> 23</td>\n",
       "      <td>NaN</td>\n",
       "      <td>  8.3750</td>\n",
       "    </tr>\n",
       "    <tr>\n",
       "      <th>9    </th>\n",
       "      <td>     7</td>\n",
       "      <td> 2</td>\n",
       "      <td>NaN</td>\n",
       "      <td>NaN</td>\n",
       "      <td>NaN</td>\n",
       "      <td>NaN</td>\n",
       "      <td> 5</td>\n",
       "      <td>NaN</td>\n",
       "      <td> 1</td>\n",
       "      <td>NaN</td>\n",
       "      <td>...</td>\n",
       "      <td> 0</td>\n",
       "      <td> 0</td>\n",
       "      <td> 0</td>\n",
       "      <td>  3409.579565</td>\n",
       "      <td>  3787.539000</td>\n",
       "      <td>  6911.879921</td>\n",
       "      <td> 2</td>\n",
       "      <td> 14</td>\n",
       "      <td>NaN</td>\n",
       "      <td>  6.6250</td>\n",
       "    </tr>\n",
       "    <tr>\n",
       "      <th>12   </th>\n",
       "      <td>    14</td>\n",
       "      <td> 2</td>\n",
       "      <td>NaN</td>\n",
       "      <td>NaN</td>\n",
       "      <td>NaN</td>\n",
       "      <td>NaN</td>\n",
       "      <td> 6</td>\n",
       "      <td>NaN</td>\n",
       "      <td> 1</td>\n",
       "      <td>NaN</td>\n",
       "      <td>...</td>\n",
       "      <td> 0</td>\n",
       "      <td> 0</td>\n",
       "      <td> 0</td>\n",
       "      <td>  2418.069494</td>\n",
       "      <td>  2810.302771</td>\n",
       "      <td>  3039.904507</td>\n",
       "      <td> 2</td>\n",
       "      <td> 56</td>\n",
       "      <td>NaN</td>\n",
       "      <td>  4.0000</td>\n",
       "    </tr>\n",
       "    <tr>\n",
       "      <th>16   </th>\n",
       "      <td>    15</td>\n",
       "      <td> 3</td>\n",
       "      <td>NaN</td>\n",
       "      <td>NaN</td>\n",
       "      <td>NaN</td>\n",
       "      <td>NaN</td>\n",
       "      <td> 6</td>\n",
       "      <td>NaN</td>\n",
       "      <td> 1</td>\n",
       "      <td>NaN</td>\n",
       "      <td>...</td>\n",
       "      <td> 0</td>\n",
       "      <td> 0</td>\n",
       "      <td> 0</td>\n",
       "      <td>  1667.816099</td>\n",
       "      <td>  3200.862017</td>\n",
       "      <td>  5553.495599</td>\n",
       "      <td> 1</td>\n",
       "      <td> 33</td>\n",
       "      <td>NaN</td>\n",
       "      <td>  7.5000</td>\n",
       "    </tr>\n",
       "    <tr>\n",
       "      <th>20   </th>\n",
       "      <td>    21</td>\n",
       "      <td> 2</td>\n",
       "      <td>NaN</td>\n",
       "      <td>NaN</td>\n",
       "      <td>NaN</td>\n",
       "      <td>NaN</td>\n",
       "      <td> 6</td>\n",
       "      <td>NaN</td>\n",
       "      <td> 1</td>\n",
       "      <td>NaN</td>\n",
       "      <td>...</td>\n",
       "      <td> 0</td>\n",
       "      <td> 0</td>\n",
       "      <td> 0</td>\n",
       "      <td>  3408.342437</td>\n",
       "      <td>  3965.763949</td>\n",
       "      <td>  7237.122630</td>\n",
       "      <td> 1</td>\n",
       "      <td> 48</td>\n",
       "      <td>NaN</td>\n",
       "      <td>  8.1875</td>\n",
       "    </tr>\n",
       "    <tr>\n",
       "      <th>24   </th>\n",
       "      <td>    24</td>\n",
       "      <td> 2</td>\n",
       "      <td>NaN</td>\n",
       "      <td>NaN</td>\n",
       "      <td>NaN</td>\n",
       "      <td>NaN</td>\n",
       "      <td> 6</td>\n",
       "      <td>NaN</td>\n",
       "      <td> 1</td>\n",
       "      <td>NaN</td>\n",
       "      <td>...</td>\n",
       "      <td> 0</td>\n",
       "      <td> 0</td>\n",
       "      <td> 0</td>\n",
       "      <td>  3409.573258</td>\n",
       "      <td>  4068.628645</td>\n",
       "      <td>  7424.840414</td>\n",
       "      <td> 1</td>\n",
       "      <td> 27</td>\n",
       "      <td>NaN</td>\n",
       "      <td>  7.3750</td>\n",
       "    </tr>\n",
       "    <tr>\n",
       "      <th>25   </th>\n",
       "      <td>    24</td>\n",
       "      <td> 3</td>\n",
       "      <td>NaN</td>\n",
       "      <td>NaN</td>\n",
       "      <td>NaN</td>\n",
       "      <td>NaN</td>\n",
       "      <td> 6</td>\n",
       "      <td>NaN</td>\n",
       "      <td> 1</td>\n",
       "      <td>NaN</td>\n",
       "      <td>...</td>\n",
       "      <td> 0</td>\n",
       "      <td> 0</td>\n",
       "      <td> 0</td>\n",
       "      <td>  3409.573258</td>\n",
       "      <td>  4068.628645</td>\n",
       "      <td>  7424.840414</td>\n",
       "      <td> 1</td>\n",
       "      <td> 27</td>\n",
       "      <td>NaN</td>\n",
       "      <td>  6.8125</td>\n",
       "    </tr>\n",
       "    <tr>\n",
       "      <th>28   </th>\n",
       "      <td>    31</td>\n",
       "      <td> 2</td>\n",
       "      <td>NaN</td>\n",
       "      <td>NaN</td>\n",
       "      <td>NaN</td>\n",
       "      <td>NaN</td>\n",
       "      <td> 6</td>\n",
       "      <td>NaN</td>\n",
       "      <td> 1</td>\n",
       "      <td>NaN</td>\n",
       "      <td>...</td>\n",
       "      <td> 0</td>\n",
       "      <td> 0</td>\n",
       "      <td> 0</td>\n",
       "      <td>  3405.679025</td>\n",
       "      <td>  4272.084519</td>\n",
       "      <td>  5211.943113</td>\n",
       "      <td> 1</td>\n",
       "      <td>  2</td>\n",
       "      <td>NaN</td>\n",
       "      <td>  6.0625</td>\n",
       "    </tr>\n",
       "    <tr>\n",
       "      <th>29   </th>\n",
       "      <td>    31</td>\n",
       "      <td> 3</td>\n",
       "      <td>NaN</td>\n",
       "      <td>NaN</td>\n",
       "      <td>NaN</td>\n",
       "      <td>NaN</td>\n",
       "      <td> 6</td>\n",
       "      <td>NaN</td>\n",
       "      <td> 1</td>\n",
       "      <td>NaN</td>\n",
       "      <td>...</td>\n",
       "      <td> 0</td>\n",
       "      <td> 0</td>\n",
       "      <td> 0</td>\n",
       "      <td>  3405.679025</td>\n",
       "      <td>  4272.084519</td>\n",
       "      <td>  5211.943113</td>\n",
       "      <td> 1</td>\n",
       "      <td>  2</td>\n",
       "      <td>NaN</td>\n",
       "      <td>  7.4375</td>\n",
       "    </tr>\n",
       "    <tr>\n",
       "      <th>33   </th>\n",
       "      <td>    38</td>\n",
       "      <td> 2</td>\n",
       "      <td>NaN</td>\n",
       "      <td>NaN</td>\n",
       "      <td>NaN</td>\n",
       "      <td>NaN</td>\n",
       "      <td> 6</td>\n",
       "      <td>NaN</td>\n",
       "      <td> 1</td>\n",
       "      <td>NaN</td>\n",
       "      <td>...</td>\n",
       "      <td> 0</td>\n",
       "      <td> 0</td>\n",
       "      <td> 0</td>\n",
       "      <td>  4780.758522</td>\n",
       "      <td>  5555.002527</td>\n",
       "      <td> 10137.324111</td>\n",
       "      <td> 2</td>\n",
       "      <td> 36</td>\n",
       "      <td>NaN</td>\n",
       "      <td>  7.2500</td>\n",
       "    </tr>\n",
       "    <tr>\n",
       "      <th>34   </th>\n",
       "      <td>    38</td>\n",
       "      <td> 3</td>\n",
       "      <td>NaN</td>\n",
       "      <td>NaN</td>\n",
       "      <td>NaN</td>\n",
       "      <td>NaN</td>\n",
       "      <td> 6</td>\n",
       "      <td>NaN</td>\n",
       "      <td> 1</td>\n",
       "      <td>NaN</td>\n",
       "      <td>...</td>\n",
       "      <td> 0</td>\n",
       "      <td> 0</td>\n",
       "      <td> 0</td>\n",
       "      <td>  4780.758522</td>\n",
       "      <td>  5555.002527</td>\n",
       "      <td> 10137.324111</td>\n",
       "      <td> 2</td>\n",
       "      <td> 36</td>\n",
       "      <td>NaN</td>\n",
       "      <td>  7.1250</td>\n",
       "    </tr>\n",
       "    <tr>\n",
       "      <th>40   </th>\n",
       "      <td>    44</td>\n",
       "      <td> 4</td>\n",
       "      <td>NaN</td>\n",
       "      <td>NaN</td>\n",
       "      <td>NaN</td>\n",
       "      <td>NaN</td>\n",
       "      <td> 6</td>\n",
       "      <td>NaN</td>\n",
       "      <td> 1</td>\n",
       "      <td>NaN</td>\n",
       "      <td>...</td>\n",
       "      <td> 0</td>\n",
       "      <td> 0</td>\n",
       "      <td> 0</td>\n",
       "      <td>  3879.663879</td>\n",
       "      <td>  4304.346246</td>\n",
       "      <td>  4656.011334</td>\n",
       "      <td> 2</td>\n",
       "      <td> 48</td>\n",
       "      <td>NaN</td>\n",
       "      <td>  7.2500</td>\n",
       "    </tr>\n",
       "    <tr>\n",
       "      <th>43   </th>\n",
       "      <td>    46</td>\n",
       "      <td> 2</td>\n",
       "      <td>NaN</td>\n",
       "      <td>NaN</td>\n",
       "      <td>NaN</td>\n",
       "      <td>NaN</td>\n",
       "      <td> 5</td>\n",
       "      <td>NaN</td>\n",
       "      <td> 1</td>\n",
       "      <td>NaN</td>\n",
       "      <td>...</td>\n",
       "      <td> 0</td>\n",
       "      <td> 0</td>\n",
       "      <td> 0</td>\n",
       "      <td> 15100.708977</td>\n",
       "      <td> 17331.441183</td>\n",
       "      <td> 28882.846732</td>\n",
       "      <td> 1</td>\n",
       "      <td> 24</td>\n",
       "      <td>NaN</td>\n",
       "      <td>  8.9375</td>\n",
       "    </tr>\n",
       "    <tr>\n",
       "      <th>47   </th>\n",
       "      <td>    49</td>\n",
       "      <td> 4</td>\n",
       "      <td>NaN</td>\n",
       "      <td>NaN</td>\n",
       "      <td>NaN</td>\n",
       "      <td>NaN</td>\n",
       "      <td> 6</td>\n",
       "      <td>NaN</td>\n",
       "      <td> 1</td>\n",
       "      <td>NaN</td>\n",
       "      <td>...</td>\n",
       "      <td> 0</td>\n",
       "      <td> 0</td>\n",
       "      <td> 0</td>\n",
       "      <td>  1805.998152</td>\n",
       "      <td>  2030.238242</td>\n",
       "      <td>  2737.370222</td>\n",
       "      <td> 1</td>\n",
       "      <td> 46</td>\n",
       "      <td>NaN</td>\n",
       "      <td>  8.3750</td>\n",
       "    </tr>\n",
       "    <tr>\n",
       "      <th>49   </th>\n",
       "      <td>    51</td>\n",
       "      <td> 2</td>\n",
       "      <td>NaN</td>\n",
       "      <td>NaN</td>\n",
       "      <td>NaN</td>\n",
       "      <td>NaN</td>\n",
       "      <td> 6</td>\n",
       "      <td>NaN</td>\n",
       "      <td> 1</td>\n",
       "      <td>NaN</td>\n",
       "      <td>...</td>\n",
       "      <td> 0</td>\n",
       "      <td> 0</td>\n",
       "      <td> 0</td>\n",
       "      <td>  4602.966038</td>\n",
       "      <td>  8739.312970</td>\n",
       "      <td> 11361.980792</td>\n",
       "      <td> 1</td>\n",
       "      <td> 20</td>\n",
       "      <td>NaN</td>\n",
       "      <td>  6.3125</td>\n",
       "    </tr>\n",
       "    <tr>\n",
       "      <th>53   </th>\n",
       "      <td>    57</td>\n",
       "      <td> 2</td>\n",
       "      <td>NaN</td>\n",
       "      <td>NaN</td>\n",
       "      <td>NaN</td>\n",
       "      <td>NaN</td>\n",
       "      <td> 5</td>\n",
       "      <td>NaN</td>\n",
       "      <td> 1</td>\n",
       "      <td>NaN</td>\n",
       "      <td>...</td>\n",
       "      <td> 0</td>\n",
       "      <td> 0</td>\n",
       "      <td> 0</td>\n",
       "      <td>  2417.557699</td>\n",
       "      <td>  3640.181849</td>\n",
       "      <td>  4619.754785</td>\n",
       "      <td> 1</td>\n",
       "      <td> 62</td>\n",
       "      <td>NaN</td>\n",
       "      <td> 10.1250</td>\n",
       "    </tr>\n",
       "    <tr>\n",
       "      <th>54   </th>\n",
       "      <td>    57</td>\n",
       "      <td> 3</td>\n",
       "      <td>NaN</td>\n",
       "      <td>NaN</td>\n",
       "      <td>NaN</td>\n",
       "      <td>NaN</td>\n",
       "      <td> 5</td>\n",
       "      <td>NaN</td>\n",
       "      <td> 1</td>\n",
       "      <td>NaN</td>\n",
       "      <td>...</td>\n",
       "      <td> 0</td>\n",
       "      <td> 0</td>\n",
       "      <td> 0</td>\n",
       "      <td>  2417.557699</td>\n",
       "      <td>  3640.181849</td>\n",
       "      <td>  4619.754785</td>\n",
       "      <td> 1</td>\n",
       "      <td> 62</td>\n",
       "      <td>NaN</td>\n",
       "      <td> 10.5000</td>\n",
       "    </tr>\n",
       "    <tr>\n",
       "      <th>56   </th>\n",
       "      <td>    60</td>\n",
       "      <td> 2</td>\n",
       "      <td>NaN</td>\n",
       "      <td>NaN</td>\n",
       "      <td>NaN</td>\n",
       "      <td>NaN</td>\n",
       "      <td> 6</td>\n",
       "      <td>NaN</td>\n",
       "      <td> 1</td>\n",
       "      <td>NaN</td>\n",
       "      <td>...</td>\n",
       "      <td> 0</td>\n",
       "      <td> 0</td>\n",
       "      <td> 0</td>\n",
       "      <td>  3409.452810</td>\n",
       "      <td>  3874.928670</td>\n",
       "      <td>  7071.357329</td>\n",
       "      <td> 1</td>\n",
       "      <td>  5</td>\n",
       "      <td>NaN</td>\n",
       "      <td> 10.5625</td>\n",
       "    </tr>\n",
       "    <tr>\n",
       "      <th>59   </th>\n",
       "      <td>    63</td>\n",
       "      <td> 3</td>\n",
       "      <td>NaN</td>\n",
       "      <td>NaN</td>\n",
       "      <td>NaN</td>\n",
       "      <td>NaN</td>\n",
       "      <td> 6</td>\n",
       "      <td>NaN</td>\n",
       "      <td> 1</td>\n",
       "      <td>NaN</td>\n",
       "      <td>...</td>\n",
       "      <td> 0</td>\n",
       "      <td> 0</td>\n",
       "      <td> 0</td>\n",
       "      <td>  3410.208760</td>\n",
       "      <td>  4065.874139</td>\n",
       "      <td>  7419.813716</td>\n",
       "      <td> 1</td>\n",
       "      <td>  3</td>\n",
       "      <td>NaN</td>\n",
       "      <td>  6.3125</td>\n",
       "    </tr>\n",
       "    <tr>\n",
       "      <th>64   </th>\n",
       "      <td>    70</td>\n",
       "      <td> 4</td>\n",
       "      <td>NaN</td>\n",
       "      <td>NaN</td>\n",
       "      <td>NaN</td>\n",
       "      <td>NaN</td>\n",
       "      <td> 6</td>\n",
       "      <td>NaN</td>\n",
       "      <td> 1</td>\n",
       "      <td>NaN</td>\n",
       "      <td>...</td>\n",
       "      <td> 0</td>\n",
       "      <td> 0</td>\n",
       "      <td> 0</td>\n",
       "      <td>  3455.254195</td>\n",
       "      <td>  4190.349732</td>\n",
       "      <td>  7646.969226</td>\n",
       "      <td> 2</td>\n",
       "      <td> 77</td>\n",
       "      <td>NaN</td>\n",
       "      <td>  7.3125</td>\n",
       "    </tr>\n",
       "    <tr>\n",
       "      <th>69   </th>\n",
       "      <td>    73</td>\n",
       "      <td> 2</td>\n",
       "      <td>NaN</td>\n",
       "      <td>NaN</td>\n",
       "      <td>NaN</td>\n",
       "      <td>NaN</td>\n",
       "      <td> 6</td>\n",
       "      <td>NaN</td>\n",
       "      <td> 1</td>\n",
       "      <td>NaN</td>\n",
       "      <td>...</td>\n",
       "      <td> 0</td>\n",
       "      <td> 0</td>\n",
       "      <td> 0</td>\n",
       "      <td>  5634.639492</td>\n",
       "      <td>  6532.865516</td>\n",
       "      <td>  7970.095929</td>\n",
       "      <td> 2</td>\n",
       "      <td> 22</td>\n",
       "      <td>NaN</td>\n",
       "      <td>  5.6250</td>\n",
       "    </tr>\n",
       "    <tr>\n",
       "      <th>71   </th>\n",
       "      <td>    77</td>\n",
       "      <td> 2</td>\n",
       "      <td>NaN</td>\n",
       "      <td>NaN</td>\n",
       "      <td>NaN</td>\n",
       "      <td>NaN</td>\n",
       "      <td> 5</td>\n",
       "      <td>NaN</td>\n",
       "      <td> 1</td>\n",
       "      <td>NaN</td>\n",
       "      <td>...</td>\n",
       "      <td> 0</td>\n",
       "      <td> 0</td>\n",
       "      <td> 0</td>\n",
       "      <td>  3217.799925</td>\n",
       "      <td>  3808.312243</td>\n",
       "      <td>  4833.129067</td>\n",
       "      <td> 2</td>\n",
       "      <td>  8</td>\n",
       "      <td>NaN</td>\n",
       "      <td>  9.7500</td>\n",
       "    </tr>\n",
       "    <tr>\n",
       "      <th>74   </th>\n",
       "      <td>    80</td>\n",
       "      <td> 3</td>\n",
       "      <td>NaN</td>\n",
       "      <td>NaN</td>\n",
       "      <td>NaN</td>\n",
       "      <td>NaN</td>\n",
       "      <td> 6</td>\n",
       "      <td>NaN</td>\n",
       "      <td> 1</td>\n",
       "      <td>NaN</td>\n",
       "      <td>...</td>\n",
       "      <td> 0</td>\n",
       "      <td> 0</td>\n",
       "      <td> 0</td>\n",
       "      <td>  3612.971757</td>\n",
       "      <td>  4261.719088</td>\n",
       "      <td>  6522.561064</td>\n",
       "      <td> 1</td>\n",
       "      <td> 43</td>\n",
       "      <td>NaN</td>\n",
       "      <td>  7.5000</td>\n",
       "    </tr>\n",
       "    <tr>\n",
       "      <th>75   </th>\n",
       "      <td>    80</td>\n",
       "      <td> 4</td>\n",
       "      <td>NaN</td>\n",
       "      <td>NaN</td>\n",
       "      <td>NaN</td>\n",
       "      <td>NaN</td>\n",
       "      <td> 6</td>\n",
       "      <td>NaN</td>\n",
       "      <td> 1</td>\n",
       "      <td>NaN</td>\n",
       "      <td>...</td>\n",
       "      <td> 0</td>\n",
       "      <td> 0</td>\n",
       "      <td> 0</td>\n",
       "      <td>  3612.971757</td>\n",
       "      <td>  4261.719088</td>\n",
       "      <td>  6522.561064</td>\n",
       "      <td> 1</td>\n",
       "      <td> 43</td>\n",
       "      <td>NaN</td>\n",
       "      <td>  7.3750</td>\n",
       "    </tr>\n",
       "    <tr>\n",
       "      <th>76   </th>\n",
       "      <td>    80</td>\n",
       "      <td> 5</td>\n",
       "      <td>NaN</td>\n",
       "      <td>NaN</td>\n",
       "      <td>NaN</td>\n",
       "      <td>NaN</td>\n",
       "      <td> 6</td>\n",
       "      <td>NaN</td>\n",
       "      <td> 1</td>\n",
       "      <td>NaN</td>\n",
       "      <td>...</td>\n",
       "      <td> 0</td>\n",
       "      <td> 0</td>\n",
       "      <td> 0</td>\n",
       "      <td>  3612.971757</td>\n",
       "      <td>  4261.719088</td>\n",
       "      <td>  6522.561064</td>\n",
       "      <td> 1</td>\n",
       "      <td> 43</td>\n",
       "      <td>NaN</td>\n",
       "      <td>  6.1250</td>\n",
       "    </tr>\n",
       "    <tr>\n",
       "      <th>79   </th>\n",
       "      <td>    86</td>\n",
       "      <td> 2</td>\n",
       "      <td>NaN</td>\n",
       "      <td>NaN</td>\n",
       "      <td>NaN</td>\n",
       "      <td>NaN</td>\n",
       "      <td> 5</td>\n",
       "      <td>NaN</td>\n",
       "      <td> 1</td>\n",
       "      <td>NaN</td>\n",
       "      <td>...</td>\n",
       "      <td> 0</td>\n",
       "      <td> 0</td>\n",
       "      <td> 0</td>\n",
       "      <td>  5317.210198</td>\n",
       "      <td>  6196.773364</td>\n",
       "      <td>  8717.001091</td>\n",
       "      <td> 2</td>\n",
       "      <td> 12</td>\n",
       "      <td>NaN</td>\n",
       "      <td>  6.6250</td>\n",
       "    </tr>\n",
       "    <tr>\n",
       "      <th>...</th>\n",
       "      <td>...</td>\n",
       "      <td>...</td>\n",
       "      <td>...</td>\n",
       "      <td>...</td>\n",
       "      <td>...</td>\n",
       "      <td>...</td>\n",
       "      <td>...</td>\n",
       "      <td>...</td>\n",
       "      <td>...</td>\n",
       "      <td>...</td>\n",
       "      <td>...</td>\n",
       "      <td>...</td>\n",
       "      <td>...</td>\n",
       "      <td>...</td>\n",
       "      <td>...</td>\n",
       "      <td>...</td>\n",
       "      <td>...</td>\n",
       "      <td>...</td>\n",
       "      <td>...</td>\n",
       "      <td>...</td>\n",
       "      <td>...</td>\n",
       "    </tr>\n",
       "    <tr>\n",
       "      <th>13499</th>\n",
       "      <td> 12483</td>\n",
       "      <td> 4</td>\n",
       "      <td>NaN</td>\n",
       "      <td>NaN</td>\n",
       "      <td>NaN</td>\n",
       "      <td>NaN</td>\n",
       "      <td> 6</td>\n",
       "      <td>NaN</td>\n",
       "      <td> 1</td>\n",
       "      <td>NaN</td>\n",
       "      <td>...</td>\n",
       "      <td> 0</td>\n",
       "      <td> 0</td>\n",
       "      <td> 0</td>\n",
       "      <td>  1167.679202</td>\n",
       "      <td>  1262.302945</td>\n",
       "      <td>  1601.988667</td>\n",
       "      <td> 1</td>\n",
       "      <td> 45</td>\n",
       "      <td>NaN</td>\n",
       "      <td>  6.8750</td>\n",
       "    </tr>\n",
       "    <tr>\n",
       "      <th>13500</th>\n",
       "      <td> 12483</td>\n",
       "      <td> 5</td>\n",
       "      <td>NaN</td>\n",
       "      <td>NaN</td>\n",
       "      <td>NaN</td>\n",
       "      <td>NaN</td>\n",
       "      <td> 6</td>\n",
       "      <td>NaN</td>\n",
       "      <td> 1</td>\n",
       "      <td>NaN</td>\n",
       "      <td>...</td>\n",
       "      <td> 0</td>\n",
       "      <td> 0</td>\n",
       "      <td> 0</td>\n",
       "      <td>  1167.679202</td>\n",
       "      <td>  1262.302945</td>\n",
       "      <td>  1601.988667</td>\n",
       "      <td> 1</td>\n",
       "      <td> 45</td>\n",
       "      <td>NaN</td>\n",
       "      <td>  6.9375</td>\n",
       "    </tr>\n",
       "    <tr>\n",
       "      <th>13507</th>\n",
       "      <td> 12490</td>\n",
       "      <td> 2</td>\n",
       "      <td>NaN</td>\n",
       "      <td>NaN</td>\n",
       "      <td>NaN</td>\n",
       "      <td>NaN</td>\n",
       "      <td> 6</td>\n",
       "      <td>NaN</td>\n",
       "      <td> 1</td>\n",
       "      <td>NaN</td>\n",
       "      <td>...</td>\n",
       "      <td> 0</td>\n",
       "      <td> 0</td>\n",
       "      <td> 0</td>\n",
       "      <td>  8000.265025</td>\n",
       "      <td>  8557.158828</td>\n",
       "      <td> 15615.959146</td>\n",
       "      <td> 2</td>\n",
       "      <td> 17</td>\n",
       "      <td>NaN</td>\n",
       "      <td>  7.8125</td>\n",
       "    </tr>\n",
       "    <tr>\n",
       "      <th>13508</th>\n",
       "      <td> 12490</td>\n",
       "      <td> 3</td>\n",
       "      <td>NaN</td>\n",
       "      <td>NaN</td>\n",
       "      <td>NaN</td>\n",
       "      <td>NaN</td>\n",
       "      <td> 6</td>\n",
       "      <td>NaN</td>\n",
       "      <td> 2</td>\n",
       "      <td>  1</td>\n",
       "      <td>...</td>\n",
       "      <td> 0</td>\n",
       "      <td> 0</td>\n",
       "      <td> 0</td>\n",
       "      <td>  8000.265025</td>\n",
       "      <td>  8557.158828</td>\n",
       "      <td> 15615.959146</td>\n",
       "      <td> 2</td>\n",
       "      <td> 17</td>\n",
       "      <td>NaN</td>\n",
       "      <td>  7.2500</td>\n",
       "    </tr>\n",
       "    <tr>\n",
       "      <th>13512</th>\n",
       "      <td> 12497</td>\n",
       "      <td> 2</td>\n",
       "      <td>NaN</td>\n",
       "      <td>NaN</td>\n",
       "      <td>NaN</td>\n",
       "      <td>NaN</td>\n",
       "      <td> 6</td>\n",
       "      <td>NaN</td>\n",
       "      <td> 1</td>\n",
       "      <td>NaN</td>\n",
       "      <td>...</td>\n",
       "      <td> 0</td>\n",
       "      <td> 0</td>\n",
       "      <td> 0</td>\n",
       "      <td>  1167.677859</td>\n",
       "      <td>  1354.211024</td>\n",
       "      <td>  1718.629211</td>\n",
       "      <td> 1</td>\n",
       "      <td> 75</td>\n",
       "      <td>NaN</td>\n",
       "      <td>  7.7500</td>\n",
       "    </tr>\n",
       "    <tr>\n",
       "      <th>13517</th>\n",
       "      <td> 12499</td>\n",
       "      <td> 5</td>\n",
       "      <td>NaN</td>\n",
       "      <td>NaN</td>\n",
       "      <td>NaN</td>\n",
       "      <td>NaN</td>\n",
       "      <td> 6</td>\n",
       "      <td>NaN</td>\n",
       "      <td> 1</td>\n",
       "      <td>NaN</td>\n",
       "      <td>...</td>\n",
       "      <td> 0</td>\n",
       "      <td> 0</td>\n",
       "      <td> 0</td>\n",
       "      <td>  5025.106273</td>\n",
       "      <td>  6183.537472</td>\n",
       "      <td>  6688.732484</td>\n",
       "      <td> 2</td>\n",
       "      <td> 19</td>\n",
       "      <td>NaN</td>\n",
       "      <td>  8.8750</td>\n",
       "    </tr>\n",
       "    <tr>\n",
       "      <th>13523</th>\n",
       "      <td> 12510</td>\n",
       "      <td> 3</td>\n",
       "      <td>NaN</td>\n",
       "      <td>NaN</td>\n",
       "      <td>NaN</td>\n",
       "      <td>NaN</td>\n",
       "      <td> 6</td>\n",
       "      <td>NaN</td>\n",
       "      <td> 1</td>\n",
       "      <td>NaN</td>\n",
       "      <td>...</td>\n",
       "      <td> 0</td>\n",
       "      <td> 0</td>\n",
       "      <td> 0</td>\n",
       "      <td>  2418.069494</td>\n",
       "      <td>  2761.550870</td>\n",
       "      <td>  4791.290760</td>\n",
       "      <td> 2</td>\n",
       "      <td> 56</td>\n",
       "      <td>NaN</td>\n",
       "      <td>  7.3750</td>\n",
       "    </tr>\n",
       "    <tr>\n",
       "      <th>13524</th>\n",
       "      <td> 12510</td>\n",
       "      <td> 4</td>\n",
       "      <td>NaN</td>\n",
       "      <td>NaN</td>\n",
       "      <td>NaN</td>\n",
       "      <td>NaN</td>\n",
       "      <td> 6</td>\n",
       "      <td>NaN</td>\n",
       "      <td> 1</td>\n",
       "      <td>NaN</td>\n",
       "      <td>...</td>\n",
       "      <td> 0</td>\n",
       "      <td> 0</td>\n",
       "      <td> 0</td>\n",
       "      <td>  2418.069494</td>\n",
       "      <td>  2761.550870</td>\n",
       "      <td>  4791.290760</td>\n",
       "      <td> 2</td>\n",
       "      <td> 56</td>\n",
       "      <td>NaN</td>\n",
       "      <td>  6.5000</td>\n",
       "    </tr>\n",
       "    <tr>\n",
       "      <th>13527</th>\n",
       "      <td> 12511</td>\n",
       "      <td> 3</td>\n",
       "      <td>NaN</td>\n",
       "      <td>NaN</td>\n",
       "      <td>NaN</td>\n",
       "      <td>NaN</td>\n",
       "      <td> 5</td>\n",
       "      <td>NaN</td>\n",
       "      <td> 1</td>\n",
       "      <td>NaN</td>\n",
       "      <td>...</td>\n",
       "      <td> 0</td>\n",
       "      <td> 0</td>\n",
       "      <td> 0</td>\n",
       "      <td>  4870.237192</td>\n",
       "      <td>  5332.679814</td>\n",
       "      <td>  8886.910910</td>\n",
       "      <td> 1</td>\n",
       "      <td> 29</td>\n",
       "      <td>NaN</td>\n",
       "      <td>  7.3750</td>\n",
       "    </tr>\n",
       "    <tr>\n",
       "      <th>13529</th>\n",
       "      <td> 12514</td>\n",
       "      <td> 2</td>\n",
       "      <td>NaN</td>\n",
       "      <td>NaN</td>\n",
       "      <td>NaN</td>\n",
       "      <td>NaN</td>\n",
       "      <td> 5</td>\n",
       "      <td>NaN</td>\n",
       "      <td> 1</td>\n",
       "      <td>NaN</td>\n",
       "      <td>...</td>\n",
       "      <td> 0</td>\n",
       "      <td> 0</td>\n",
       "      <td> 0</td>\n",
       "      <td>  1806.325870</td>\n",
       "      <td>  2302.206739</td>\n",
       "      <td>  2993.098981</td>\n",
       "      <td> 1</td>\n",
       "      <td> 54</td>\n",
       "      <td>NaN</td>\n",
       "      <td>  6.0000</td>\n",
       "    </tr>\n",
       "    <tr>\n",
       "      <th>13539</th>\n",
       "      <td> 12528</td>\n",
       "      <td> 2</td>\n",
       "      <td>NaN</td>\n",
       "      <td>NaN</td>\n",
       "      <td>NaN</td>\n",
       "      <td>NaN</td>\n",
       "      <td> 6</td>\n",
       "      <td>NaN</td>\n",
       "      <td> 1</td>\n",
       "      <td>NaN</td>\n",
       "      <td>...</td>\n",
       "      <td> 0</td>\n",
       "      <td> 0</td>\n",
       "      <td> 0</td>\n",
       "      <td>  3410.699028</td>\n",
       "      <td>  3801.513533</td>\n",
       "      <td>  6937.382047</td>\n",
       "      <td> 2</td>\n",
       "      <td> 38</td>\n",
       "      <td>NaN</td>\n",
       "      <td>  8.5625</td>\n",
       "    </tr>\n",
       "    <tr>\n",
       "      <th>13540</th>\n",
       "      <td> 12528</td>\n",
       "      <td> 3</td>\n",
       "      <td>NaN</td>\n",
       "      <td>NaN</td>\n",
       "      <td>NaN</td>\n",
       "      <td>NaN</td>\n",
       "      <td> 6</td>\n",
       "      <td>NaN</td>\n",
       "      <td> 1</td>\n",
       "      <td>NaN</td>\n",
       "      <td>...</td>\n",
       "      <td> 0</td>\n",
       "      <td> 0</td>\n",
       "      <td> 0</td>\n",
       "      <td>  3410.699028</td>\n",
       "      <td>  3801.513533</td>\n",
       "      <td>  6937.382047</td>\n",
       "      <td> 2</td>\n",
       "      <td> 38</td>\n",
       "      <td>NaN</td>\n",
       "      <td>  8.8750</td>\n",
       "    </tr>\n",
       "    <tr>\n",
       "      <th>13545</th>\n",
       "      <td> 12535</td>\n",
       "      <td> 2</td>\n",
       "      <td>NaN</td>\n",
       "      <td>NaN</td>\n",
       "      <td>NaN</td>\n",
       "      <td>NaN</td>\n",
       "      <td> 5</td>\n",
       "      <td>NaN</td>\n",
       "      <td> 1</td>\n",
       "      <td>NaN</td>\n",
       "      <td>...</td>\n",
       "      <td> 0</td>\n",
       "      <td> 0</td>\n",
       "      <td> 0</td>\n",
       "      <td>  3612.891741</td>\n",
       "      <td>  3860.578307</td>\n",
       "      <td>  7045.169353</td>\n",
       "      <td> 2</td>\n",
       "      <td> 73</td>\n",
       "      <td>NaN</td>\n",
       "      <td>  2.8125</td>\n",
       "    </tr>\n",
       "    <tr>\n",
       "      <th>13546</th>\n",
       "      <td> 12535</td>\n",
       "      <td> 3</td>\n",
       "      <td>NaN</td>\n",
       "      <td>NaN</td>\n",
       "      <td>NaN</td>\n",
       "      <td>NaN</td>\n",
       "      <td> 5</td>\n",
       "      <td>NaN</td>\n",
       "      <td> 1</td>\n",
       "      <td>NaN</td>\n",
       "      <td>...</td>\n",
       "      <td> 0</td>\n",
       "      <td> 0</td>\n",
       "      <td> 0</td>\n",
       "      <td>  3612.891741</td>\n",
       "      <td>  3860.578307</td>\n",
       "      <td>  7045.169353</td>\n",
       "      <td> 2</td>\n",
       "      <td> 73</td>\n",
       "      <td>NaN</td>\n",
       "      <td>  8.9375</td>\n",
       "    </tr>\n",
       "    <tr>\n",
       "      <th>13548</th>\n",
       "      <td> 12539</td>\n",
       "      <td> 2</td>\n",
       "      <td>NaN</td>\n",
       "      <td>NaN</td>\n",
       "      <td>NaN</td>\n",
       "      <td>NaN</td>\n",
       "      <td> 5</td>\n",
       "      <td>NaN</td>\n",
       "      <td> 1</td>\n",
       "      <td>NaN</td>\n",
       "      <td>...</td>\n",
       "      <td> 0</td>\n",
       "      <td> 0</td>\n",
       "      <td> 0</td>\n",
       "      <td>  2580.696230</td>\n",
       "      <td>  3021.661943</td>\n",
       "      <td>  5514.230879</td>\n",
       "      <td> 1</td>\n",
       "      <td> 14</td>\n",
       "      <td>NaN</td>\n",
       "      <td> 10.0625</td>\n",
       "    </tr>\n",
       "    <tr>\n",
       "      <th>13552</th>\n",
       "      <td> 12541</td>\n",
       "      <td> 2</td>\n",
       "      <td>NaN</td>\n",
       "      <td>NaN</td>\n",
       "      <td>NaN</td>\n",
       "      <td>NaN</td>\n",
       "      <td> 6</td>\n",
       "      <td>NaN</td>\n",
       "      <td> 1</td>\n",
       "      <td>NaN</td>\n",
       "      <td>...</td>\n",
       "      <td> 0</td>\n",
       "      <td> 0</td>\n",
       "      <td> 0</td>\n",
       "      <td>  3248.105346</td>\n",
       "      <td>  4194.073923</td>\n",
       "      <td>  5322.699216</td>\n",
       "      <td> 2</td>\n",
       "      <td> 45</td>\n",
       "      <td>NaN</td>\n",
       "      <td>     NaN</td>\n",
       "    </tr>\n",
       "    <tr>\n",
       "      <th>13553</th>\n",
       "      <td> 12541</td>\n",
       "      <td> 3</td>\n",
       "      <td>NaN</td>\n",
       "      <td>NaN</td>\n",
       "      <td>NaN</td>\n",
       "      <td>NaN</td>\n",
       "      <td> 6</td>\n",
       "      <td>NaN</td>\n",
       "      <td> 1</td>\n",
       "      <td>NaN</td>\n",
       "      <td>...</td>\n",
       "      <td> 0</td>\n",
       "      <td> 0</td>\n",
       "      <td> 0</td>\n",
       "      <td>  3248.105346</td>\n",
       "      <td>  4194.073923</td>\n",
       "      <td>  5322.699216</td>\n",
       "      <td> 2</td>\n",
       "      <td> 45</td>\n",
       "      <td>NaN</td>\n",
       "      <td>  7.5000</td>\n",
       "    </tr>\n",
       "    <tr>\n",
       "      <th>13554</th>\n",
       "      <td> 12541</td>\n",
       "      <td> 4</td>\n",
       "      <td>NaN</td>\n",
       "      <td>NaN</td>\n",
       "      <td>NaN</td>\n",
       "      <td>NaN</td>\n",
       "      <td> 6</td>\n",
       "      <td>NaN</td>\n",
       "      <td> 1</td>\n",
       "      <td>NaN</td>\n",
       "      <td>...</td>\n",
       "      <td> 0</td>\n",
       "      <td> 0</td>\n",
       "      <td> 0</td>\n",
       "      <td>  3248.105346</td>\n",
       "      <td>  4194.073923</td>\n",
       "      <td>  5322.699216</td>\n",
       "      <td> 2</td>\n",
       "      <td> 45</td>\n",
       "      <td>NaN</td>\n",
       "      <td>     NaN</td>\n",
       "    </tr>\n",
       "    <tr>\n",
       "      <th>13556</th>\n",
       "      <td> 12544</td>\n",
       "      <td> 2</td>\n",
       "      <td>NaN</td>\n",
       "      <td>NaN</td>\n",
       "      <td>NaN</td>\n",
       "      <td>NaN</td>\n",
       "      <td> 5</td>\n",
       "      <td>NaN</td>\n",
       "      <td> 1</td>\n",
       "      <td>NaN</td>\n",
       "      <td>...</td>\n",
       "      <td> 0</td>\n",
       "      <td> 0</td>\n",
       "      <td> 0</td>\n",
       "      <td>  5197.958762</td>\n",
       "      <td>  5779.040455</td>\n",
       "      <td>  7334.180241</td>\n",
       "      <td> 1</td>\n",
       "      <td> 17</td>\n",
       "      <td>NaN</td>\n",
       "      <td>  7.1250</td>\n",
       "    </tr>\n",
       "    <tr>\n",
       "      <th>13557</th>\n",
       "      <td> 12544</td>\n",
       "      <td> 3</td>\n",
       "      <td>NaN</td>\n",
       "      <td>NaN</td>\n",
       "      <td>NaN</td>\n",
       "      <td>NaN</td>\n",
       "      <td> 5</td>\n",
       "      <td>NaN</td>\n",
       "      <td> 1</td>\n",
       "      <td>NaN</td>\n",
       "      <td>...</td>\n",
       "      <td> 0</td>\n",
       "      <td> 0</td>\n",
       "      <td> 0</td>\n",
       "      <td>  5197.958762</td>\n",
       "      <td>  5779.040455</td>\n",
       "      <td>  7334.180241</td>\n",
       "      <td> 1</td>\n",
       "      <td> 17</td>\n",
       "      <td>NaN</td>\n",
       "      <td>  6.5000</td>\n",
       "    </tr>\n",
       "    <tr>\n",
       "      <th>13561</th>\n",
       "      <td> 12546</td>\n",
       "      <td> 2</td>\n",
       "      <td>NaN</td>\n",
       "      <td>NaN</td>\n",
       "      <td>NaN</td>\n",
       "      <td>NaN</td>\n",
       "      <td> 6</td>\n",
       "      <td>NaN</td>\n",
       "      <td> 1</td>\n",
       "      <td>NaN</td>\n",
       "      <td>...</td>\n",
       "      <td> 0</td>\n",
       "      <td> 0</td>\n",
       "      <td> 0</td>\n",
       "      <td>  4602.798759</td>\n",
       "      <td>  7717.382897</td>\n",
       "      <td>  9415.207134</td>\n",
       "      <td> 1</td>\n",
       "      <td> 29</td>\n",
       "      <td>NaN</td>\n",
       "      <td>  6.8750</td>\n",
       "    </tr>\n",
       "    <tr>\n",
       "      <th>13563</th>\n",
       "      <td> 12547</td>\n",
       "      <td> 2</td>\n",
       "      <td>NaN</td>\n",
       "      <td>NaN</td>\n",
       "      <td>NaN</td>\n",
       "      <td>NaN</td>\n",
       "      <td> 6</td>\n",
       "      <td>NaN</td>\n",
       "      <td> 1</td>\n",
       "      <td>NaN</td>\n",
       "      <td>...</td>\n",
       "      <td> 0</td>\n",
       "      <td> 0</td>\n",
       "      <td> 0</td>\n",
       "      <td>  3453.545517</td>\n",
       "      <td>  6628.022524</td>\n",
       "      <td> 11499.619080</td>\n",
       "      <td> 1</td>\n",
       "      <td> 52</td>\n",
       "      <td>NaN</td>\n",
       "      <td>  7.6875</td>\n",
       "    </tr>\n",
       "    <tr>\n",
       "      <th>13564</th>\n",
       "      <td> 12547</td>\n",
       "      <td> 3</td>\n",
       "      <td>NaN</td>\n",
       "      <td>NaN</td>\n",
       "      <td>NaN</td>\n",
       "      <td>NaN</td>\n",
       "      <td> 6</td>\n",
       "      <td>NaN</td>\n",
       "      <td> 1</td>\n",
       "      <td>NaN</td>\n",
       "      <td>...</td>\n",
       "      <td> 0</td>\n",
       "      <td> 0</td>\n",
       "      <td> 0</td>\n",
       "      <td>  3453.545517</td>\n",
       "      <td>  6628.022524</td>\n",
       "      <td> 11499.619080</td>\n",
       "      <td> 1</td>\n",
       "      <td> 52</td>\n",
       "      <td>NaN</td>\n",
       "      <td>  7.6250</td>\n",
       "    </tr>\n",
       "    <tr>\n",
       "      <th>13570</th>\n",
       "      <td> 12556</td>\n",
       "      <td> 2</td>\n",
       "      <td>NaN</td>\n",
       "      <td>NaN</td>\n",
       "      <td>NaN</td>\n",
       "      <td>NaN</td>\n",
       "      <td> 6</td>\n",
       "      <td>NaN</td>\n",
       "      <td> 1</td>\n",
       "      <td>NaN</td>\n",
       "      <td>...</td>\n",
       "      <td> 0</td>\n",
       "      <td> 0</td>\n",
       "      <td> 0</td>\n",
       "      <td>  2474.619764</td>\n",
       "      <td>  3250.573384</td>\n",
       "      <td>  3965.699528</td>\n",
       "      <td> 1</td>\n",
       "      <td> 44</td>\n",
       "      <td>NaN</td>\n",
       "      <td>  6.6875</td>\n",
       "    </tr>\n",
       "    <tr>\n",
       "      <th>13571</th>\n",
       "      <td> 12556</td>\n",
       "      <td> 3</td>\n",
       "      <td>NaN</td>\n",
       "      <td>NaN</td>\n",
       "      <td>NaN</td>\n",
       "      <td>NaN</td>\n",
       "      <td> 6</td>\n",
       "      <td>NaN</td>\n",
       "      <td> 1</td>\n",
       "      <td>NaN</td>\n",
       "      <td>...</td>\n",
       "      <td> 0</td>\n",
       "      <td> 0</td>\n",
       "      <td> 0</td>\n",
       "      <td>  2474.619764</td>\n",
       "      <td>  3250.573384</td>\n",
       "      <td>  3965.699528</td>\n",
       "      <td> 1</td>\n",
       "      <td> 44</td>\n",
       "      <td>NaN</td>\n",
       "      <td>  6.0000</td>\n",
       "    </tr>\n",
       "    <tr>\n",
       "      <th>13572</th>\n",
       "      <td> 12556</td>\n",
       "      <td> 4</td>\n",
       "      <td>NaN</td>\n",
       "      <td>NaN</td>\n",
       "      <td>NaN</td>\n",
       "      <td>NaN</td>\n",
       "      <td> 6</td>\n",
       "      <td>NaN</td>\n",
       "      <td> 1</td>\n",
       "      <td>NaN</td>\n",
       "      <td>...</td>\n",
       "      <td> 0</td>\n",
       "      <td> 0</td>\n",
       "      <td> 0</td>\n",
       "      <td>  2474.619764</td>\n",
       "      <td>  3250.573384</td>\n",
       "      <td>  3965.699528</td>\n",
       "      <td> 1</td>\n",
       "      <td> 44</td>\n",
       "      <td>NaN</td>\n",
       "      <td>  5.8125</td>\n",
       "    </tr>\n",
       "    <tr>\n",
       "      <th>13574</th>\n",
       "      <td> 12561</td>\n",
       "      <td> 2</td>\n",
       "      <td>NaN</td>\n",
       "      <td>NaN</td>\n",
       "      <td>NaN</td>\n",
       "      <td>NaN</td>\n",
       "      <td> 6</td>\n",
       "      <td>NaN</td>\n",
       "      <td> 1</td>\n",
       "      <td>NaN</td>\n",
       "      <td>...</td>\n",
       "      <td> 0</td>\n",
       "      <td> 0</td>\n",
       "      <td> 0</td>\n",
       "      <td>  2418.089703</td>\n",
       "      <td>  2698.650781</td>\n",
       "      <td>  4497.301527</td>\n",
       "      <td> 1</td>\n",
       "      <td> 10</td>\n",
       "      <td>NaN</td>\n",
       "      <td>  6.1250</td>\n",
       "    </tr>\n",
       "    <tr>\n",
       "      <th>13579</th>\n",
       "      <td> 12566</td>\n",
       "      <td> 2</td>\n",
       "      <td>NaN</td>\n",
       "      <td>NaN</td>\n",
       "      <td>NaN</td>\n",
       "      <td>NaN</td>\n",
       "      <td> 6</td>\n",
       "      <td>NaN</td>\n",
       "      <td> 1</td>\n",
       "      <td>NaN</td>\n",
       "      <td>...</td>\n",
       "      <td> 0</td>\n",
       "      <td> 0</td>\n",
       "      <td> 0</td>\n",
       "      <td>  2080.317155</td>\n",
       "      <td>  2422.820274</td>\n",
       "      <td>  2627.548587</td>\n",
       "      <td> 2</td>\n",
       "      <td>  2</td>\n",
       "      <td>NaN</td>\n",
       "      <td>  7.0000</td>\n",
       "    </tr>\n",
       "    <tr>\n",
       "      <th>13591</th>\n",
       "      <td> 12571</td>\n",
       "      <td> 4</td>\n",
       "      <td>NaN</td>\n",
       "      <td>NaN</td>\n",
       "      <td>NaN</td>\n",
       "      <td>NaN</td>\n",
       "      <td> 6</td>\n",
       "      <td>NaN</td>\n",
       "      <td> 1</td>\n",
       "      <td>NaN</td>\n",
       "      <td>...</td>\n",
       "      <td> 0</td>\n",
       "      <td> 0</td>\n",
       "      <td> 0</td>\n",
       "      <td>  4670.540953</td>\n",
       "      <td>  5795.692880</td>\n",
       "      <td>  6269.200989</td>\n",
       "      <td> 1</td>\n",
       "      <td> 78</td>\n",
       "      <td>NaN</td>\n",
       "      <td>  7.5000</td>\n",
       "    </tr>\n",
       "    <tr>\n",
       "      <th>13592</th>\n",
       "      <td> 12571</td>\n",
       "      <td> 5</td>\n",
       "      <td>NaN</td>\n",
       "      <td>NaN</td>\n",
       "      <td>NaN</td>\n",
       "      <td>NaN</td>\n",
       "      <td> 6</td>\n",
       "      <td>NaN</td>\n",
       "      <td> 1</td>\n",
       "      <td>NaN</td>\n",
       "      <td>...</td>\n",
       "      <td> 0</td>\n",
       "      <td> 0</td>\n",
       "      <td> 0</td>\n",
       "      <td>  4670.540953</td>\n",
       "      <td>  5795.692880</td>\n",
       "      <td>  6269.200989</td>\n",
       "      <td> 1</td>\n",
       "      <td> 78</td>\n",
       "      <td>NaN</td>\n",
       "      <td>  7.5000</td>\n",
       "    </tr>\n",
       "  </tbody>\n",
       "</table>\n",
       "<p>4735 rows × 244 columns</p>\n",
       "</div>"
      ],
      "text/plain": [
       "       caseid  pregordr  howpreg_n  howpreg_p  moscurrp  nowprgdk  pregend1  \\\n",
       "1           1         2        NaN        NaN       NaN       NaN         6   \n",
       "3           2         2        NaN        NaN       NaN       NaN         6   \n",
       "4           2         3        NaN        NaN       NaN       NaN         6   \n",
       "6           6         2        NaN        NaN       NaN       NaN         6   \n",
       "7           6         3        NaN        NaN       NaN       NaN         6   \n",
       "9           7         2        NaN        NaN       NaN       NaN         5   \n",
       "12         14         2        NaN        NaN       NaN       NaN         6   \n",
       "16         15         3        NaN        NaN       NaN       NaN         6   \n",
       "20         21         2        NaN        NaN       NaN       NaN         6   \n",
       "24         24         2        NaN        NaN       NaN       NaN         6   \n",
       "25         24         3        NaN        NaN       NaN       NaN         6   \n",
       "28         31         2        NaN        NaN       NaN       NaN         6   \n",
       "29         31         3        NaN        NaN       NaN       NaN         6   \n",
       "33         38         2        NaN        NaN       NaN       NaN         6   \n",
       "34         38         3        NaN        NaN       NaN       NaN         6   \n",
       "40         44         4        NaN        NaN       NaN       NaN         6   \n",
       "43         46         2        NaN        NaN       NaN       NaN         5   \n",
       "47         49         4        NaN        NaN       NaN       NaN         6   \n",
       "49         51         2        NaN        NaN       NaN       NaN         6   \n",
       "53         57         2        NaN        NaN       NaN       NaN         5   \n",
       "54         57         3        NaN        NaN       NaN       NaN         5   \n",
       "56         60         2        NaN        NaN       NaN       NaN         6   \n",
       "59         63         3        NaN        NaN       NaN       NaN         6   \n",
       "64         70         4        NaN        NaN       NaN       NaN         6   \n",
       "69         73         2        NaN        NaN       NaN       NaN         6   \n",
       "71         77         2        NaN        NaN       NaN       NaN         5   \n",
       "74         80         3        NaN        NaN       NaN       NaN         6   \n",
       "75         80         4        NaN        NaN       NaN       NaN         6   \n",
       "76         80         5        NaN        NaN       NaN       NaN         6   \n",
       "79         86         2        NaN        NaN       NaN       NaN         5   \n",
       "...       ...       ...        ...        ...       ...       ...       ...   \n",
       "13499   12483         4        NaN        NaN       NaN       NaN         6   \n",
       "13500   12483         5        NaN        NaN       NaN       NaN         6   \n",
       "13507   12490         2        NaN        NaN       NaN       NaN         6   \n",
       "13508   12490         3        NaN        NaN       NaN       NaN         6   \n",
       "13512   12497         2        NaN        NaN       NaN       NaN         6   \n",
       "13517   12499         5        NaN        NaN       NaN       NaN         6   \n",
       "13523   12510         3        NaN        NaN       NaN       NaN         6   \n",
       "13524   12510         4        NaN        NaN       NaN       NaN         6   \n",
       "13527   12511         3        NaN        NaN       NaN       NaN         5   \n",
       "13529   12514         2        NaN        NaN       NaN       NaN         5   \n",
       "13539   12528         2        NaN        NaN       NaN       NaN         6   \n",
       "13540   12528         3        NaN        NaN       NaN       NaN         6   \n",
       "13545   12535         2        NaN        NaN       NaN       NaN         5   \n",
       "13546   12535         3        NaN        NaN       NaN       NaN         5   \n",
       "13548   12539         2        NaN        NaN       NaN       NaN         5   \n",
       "13552   12541         2        NaN        NaN       NaN       NaN         6   \n",
       "13553   12541         3        NaN        NaN       NaN       NaN         6   \n",
       "13554   12541         4        NaN        NaN       NaN       NaN         6   \n",
       "13556   12544         2        NaN        NaN       NaN       NaN         5   \n",
       "13557   12544         3        NaN        NaN       NaN       NaN         5   \n",
       "13561   12546         2        NaN        NaN       NaN       NaN         6   \n",
       "13563   12547         2        NaN        NaN       NaN       NaN         6   \n",
       "13564   12547         3        NaN        NaN       NaN       NaN         6   \n",
       "13570   12556         2        NaN        NaN       NaN       NaN         6   \n",
       "13571   12556         3        NaN        NaN       NaN       NaN         6   \n",
       "13572   12556         4        NaN        NaN       NaN       NaN         6   \n",
       "13574   12561         2        NaN        NaN       NaN       NaN         6   \n",
       "13579   12566         2        NaN        NaN       NaN       NaN         6   \n",
       "13591   12571         4        NaN        NaN       NaN       NaN         6   \n",
       "13592   12571         5        NaN        NaN       NaN       NaN         6   \n",
       "\n",
       "       pregend2  nbrnaliv  multbrth     ...       laborfor_i  religion_i  \\\n",
       "1           NaN         1       NaN     ...                0           0   \n",
       "3           NaN         1       NaN     ...                0           0   \n",
       "4           NaN         1       NaN     ...                0           0   \n",
       "6           NaN         1       NaN     ...                0           0   \n",
       "7           NaN         1       NaN     ...                0           0   \n",
       "9           NaN         1       NaN     ...                0           0   \n",
       "12          NaN         1       NaN     ...                0           0   \n",
       "16          NaN         1       NaN     ...                0           0   \n",
       "20          NaN         1       NaN     ...                0           0   \n",
       "24          NaN         1       NaN     ...                0           0   \n",
       "25          NaN         1       NaN     ...                0           0   \n",
       "28          NaN         1       NaN     ...                0           0   \n",
       "29          NaN         1       NaN     ...                0           0   \n",
       "33          NaN         1       NaN     ...                0           0   \n",
       "34          NaN         1       NaN     ...                0           0   \n",
       "40          NaN         1       NaN     ...                0           0   \n",
       "43          NaN         1       NaN     ...                0           0   \n",
       "47          NaN         1       NaN     ...                0           0   \n",
       "49          NaN         1       NaN     ...                0           0   \n",
       "53          NaN         1       NaN     ...                0           0   \n",
       "54          NaN         1       NaN     ...                0           0   \n",
       "56          NaN         1       NaN     ...                0           0   \n",
       "59          NaN         1       NaN     ...                0           0   \n",
       "64          NaN         1       NaN     ...                0           0   \n",
       "69          NaN         1       NaN     ...                0           0   \n",
       "71          NaN         1       NaN     ...                0           0   \n",
       "74          NaN         1       NaN     ...                0           0   \n",
       "75          NaN         1       NaN     ...                0           0   \n",
       "76          NaN         1       NaN     ...                0           0   \n",
       "79          NaN         1       NaN     ...                0           0   \n",
       "...         ...       ...       ...     ...              ...         ...   \n",
       "13499       NaN         1       NaN     ...                0           0   \n",
       "13500       NaN         1       NaN     ...                0           0   \n",
       "13507       NaN         1       NaN     ...                0           0   \n",
       "13508       NaN         2         1     ...                0           0   \n",
       "13512       NaN         1       NaN     ...                0           0   \n",
       "13517       NaN         1       NaN     ...                0           0   \n",
       "13523       NaN         1       NaN     ...                0           0   \n",
       "13524       NaN         1       NaN     ...                0           0   \n",
       "13527       NaN         1       NaN     ...                0           0   \n",
       "13529       NaN         1       NaN     ...                0           0   \n",
       "13539       NaN         1       NaN     ...                0           0   \n",
       "13540       NaN         1       NaN     ...                0           0   \n",
       "13545       NaN         1       NaN     ...                0           0   \n",
       "13546       NaN         1       NaN     ...                0           0   \n",
       "13548       NaN         1       NaN     ...                0           0   \n",
       "13552       NaN         1       NaN     ...                0           0   \n",
       "13553       NaN         1       NaN     ...                0           0   \n",
       "13554       NaN         1       NaN     ...                0           0   \n",
       "13556       NaN         1       NaN     ...                0           0   \n",
       "13557       NaN         1       NaN     ...                0           0   \n",
       "13561       NaN         1       NaN     ...                0           0   \n",
       "13563       NaN         1       NaN     ...                0           0   \n",
       "13564       NaN         1       NaN     ...                0           0   \n",
       "13570       NaN         1       NaN     ...                0           0   \n",
       "13571       NaN         1       NaN     ...                0           0   \n",
       "13572       NaN         1       NaN     ...                0           0   \n",
       "13574       NaN         1       NaN     ...                0           0   \n",
       "13579       NaN         1       NaN     ...                0           0   \n",
       "13591       NaN         1       NaN     ...                0           0   \n",
       "13592       NaN         1       NaN     ...                0           0   \n",
       "\n",
       "       metro_i       basewgt  adj_mod_basewgt      finalwgt  secu_p  sest  \\\n",
       "1            0   3410.389399      3869.349602   6448.271112       2     9   \n",
       "3            0   7226.301740      8567.549110  12999.542264       2    12   \n",
       "4            0   7226.301740      8567.549110  12999.542264       2    12   \n",
       "6            0   4870.926435      5325.196999   8874.440799       1    23   \n",
       "7            0   4870.926435      5325.196999   8874.440799       1    23   \n",
       "9            0   3409.579565      3787.539000   6911.879921       2    14   \n",
       "12           0   2418.069494      2810.302771   3039.904507       2    56   \n",
       "16           0   1667.816099      3200.862017   5553.495599       1    33   \n",
       "20           0   3408.342437      3965.763949   7237.122630       1    48   \n",
       "24           0   3409.573258      4068.628645   7424.840414       1    27   \n",
       "25           0   3409.573258      4068.628645   7424.840414       1    27   \n",
       "28           0   3405.679025      4272.084519   5211.943113       1     2   \n",
       "29           0   3405.679025      4272.084519   5211.943113       1     2   \n",
       "33           0   4780.758522      5555.002527  10137.324111       2    36   \n",
       "34           0   4780.758522      5555.002527  10137.324111       2    36   \n",
       "40           0   3879.663879      4304.346246   4656.011334       2    48   \n",
       "43           0  15100.708977     17331.441183  28882.846732       1    24   \n",
       "47           0   1805.998152      2030.238242   2737.370222       1    46   \n",
       "49           0   4602.966038      8739.312970  11361.980792       1    20   \n",
       "53           0   2417.557699      3640.181849   4619.754785       1    62   \n",
       "54           0   2417.557699      3640.181849   4619.754785       1    62   \n",
       "56           0   3409.452810      3874.928670   7071.357329       1     5   \n",
       "59           0   3410.208760      4065.874139   7419.813716       1     3   \n",
       "64           0   3455.254195      4190.349732   7646.969226       2    77   \n",
       "69           0   5634.639492      6532.865516   7970.095929       2    22   \n",
       "71           0   3217.799925      3808.312243   4833.129067       2     8   \n",
       "74           0   3612.971757      4261.719088   6522.561064       1    43   \n",
       "75           0   3612.971757      4261.719088   6522.561064       1    43   \n",
       "76           0   3612.971757      4261.719088   6522.561064       1    43   \n",
       "79           0   5317.210198      6196.773364   8717.001091       2    12   \n",
       "...        ...           ...              ...           ...     ...   ...   \n",
       "13499        0   1167.679202      1262.302945   1601.988667       1    45   \n",
       "13500        0   1167.679202      1262.302945   1601.988667       1    45   \n",
       "13507        0   8000.265025      8557.158828  15615.959146       2    17   \n",
       "13508        0   8000.265025      8557.158828  15615.959146       2    17   \n",
       "13512        0   1167.677859      1354.211024   1718.629211       1    75   \n",
       "13517        0   5025.106273      6183.537472   6688.732484       2    19   \n",
       "13523        0   2418.069494      2761.550870   4791.290760       2    56   \n",
       "13524        0   2418.069494      2761.550870   4791.290760       2    56   \n",
       "13527        0   4870.237192      5332.679814   8886.910910       1    29   \n",
       "13529        0   1806.325870      2302.206739   2993.098981       1    54   \n",
       "13539        0   3410.699028      3801.513533   6937.382047       2    38   \n",
       "13540        0   3410.699028      3801.513533   6937.382047       2    38   \n",
       "13545        0   3612.891741      3860.578307   7045.169353       2    73   \n",
       "13546        0   3612.891741      3860.578307   7045.169353       2    73   \n",
       "13548        0   2580.696230      3021.661943   5514.230879       1    14   \n",
       "13552        0   3248.105346      4194.073923   5322.699216       2    45   \n",
       "13553        0   3248.105346      4194.073923   5322.699216       2    45   \n",
       "13554        0   3248.105346      4194.073923   5322.699216       2    45   \n",
       "13556        0   5197.958762      5779.040455   7334.180241       1    17   \n",
       "13557        0   5197.958762      5779.040455   7334.180241       1    17   \n",
       "13561        0   4602.798759      7717.382897   9415.207134       1    29   \n",
       "13563        0   3453.545517      6628.022524  11499.619080       1    52   \n",
       "13564        0   3453.545517      6628.022524  11499.619080       1    52   \n",
       "13570        0   2474.619764      3250.573384   3965.699528       1    44   \n",
       "13571        0   2474.619764      3250.573384   3965.699528       1    44   \n",
       "13572        0   2474.619764      3250.573384   3965.699528       1    44   \n",
       "13574        0   2418.089703      2698.650781   4497.301527       1    10   \n",
       "13579        0   2080.317155      2422.820274   2627.548587       2     2   \n",
       "13591        0   4670.540953      5795.692880   6269.200989       1    78   \n",
       "13592        0   4670.540953      5795.692880   6269.200989       1    78   \n",
       "\n",
       "       cmintvw  totalwgt_lb  \n",
       "1          NaN       7.8750  \n",
       "3          NaN       7.0000  \n",
       "4          NaN       6.1875  \n",
       "6          NaN       9.5625  \n",
       "7          NaN       8.3750  \n",
       "9          NaN       6.6250  \n",
       "12         NaN       4.0000  \n",
       "16         NaN       7.5000  \n",
       "20         NaN       8.1875  \n",
       "24         NaN       7.3750  \n",
       "25         NaN       6.8125  \n",
       "28         NaN       6.0625  \n",
       "29         NaN       7.4375  \n",
       "33         NaN       7.2500  \n",
       "34         NaN       7.1250  \n",
       "40         NaN       7.2500  \n",
       "43         NaN       8.9375  \n",
       "47         NaN       8.3750  \n",
       "49         NaN       6.3125  \n",
       "53         NaN      10.1250  \n",
       "54         NaN      10.5000  \n",
       "56         NaN      10.5625  \n",
       "59         NaN       6.3125  \n",
       "64         NaN       7.3125  \n",
       "69         NaN       5.6250  \n",
       "71         NaN       9.7500  \n",
       "74         NaN       7.5000  \n",
       "75         NaN       7.3750  \n",
       "76         NaN       6.1250  \n",
       "79         NaN       6.6250  \n",
       "...        ...          ...  \n",
       "13499      NaN       6.8750  \n",
       "13500      NaN       6.9375  \n",
       "13507      NaN       7.8125  \n",
       "13508      NaN       7.2500  \n",
       "13512      NaN       7.7500  \n",
       "13517      NaN       8.8750  \n",
       "13523      NaN       7.3750  \n",
       "13524      NaN       6.5000  \n",
       "13527      NaN       7.3750  \n",
       "13529      NaN       6.0000  \n",
       "13539      NaN       8.5625  \n",
       "13540      NaN       8.8750  \n",
       "13545      NaN       2.8125  \n",
       "13546      NaN       8.9375  \n",
       "13548      NaN      10.0625  \n",
       "13552      NaN          NaN  \n",
       "13553      NaN       7.5000  \n",
       "13554      NaN          NaN  \n",
       "13556      NaN       7.1250  \n",
       "13557      NaN       6.5000  \n",
       "13561      NaN       6.8750  \n",
       "13563      NaN       7.6875  \n",
       "13564      NaN       7.6250  \n",
       "13570      NaN       6.6875  \n",
       "13571      NaN       6.0000  \n",
       "13572      NaN       5.8125  \n",
       "13574      NaN       6.1250  \n",
       "13579      NaN       7.0000  \n",
       "13591      NaN       7.5000  \n",
       "13592      NaN       7.5000  \n",
       "\n",
       "[4735 rows x 244 columns]"
      ]
     },
     "execution_count": 137,
     "metadata": {},
     "output_type": "execute_result"
    }
   ],
   "source": [
    "others"
   ]
  },
  {
   "cell_type": "markdown",
   "metadata": {},
   "source": [
    "Just merge ```firsts``` and ```others```"
   ]
  },
  {
   "cell_type": "code",
   "execution_count": 138,
   "metadata": {
    "collapsed": false
   },
   "outputs": [
    {
     "data": {
      "text/html": [
       "<div style=\"max-height:1000px;max-width:1500px;overflow:auto;\">\n",
       "<table border=\"1\" class=\"dataframe\">\n",
       "  <thead>\n",
       "    <tr style=\"text-align: right;\">\n",
       "      <th></th>\n",
       "      <th>caseid</th>\n",
       "      <th>pregordr</th>\n",
       "      <th>howpreg_n</th>\n",
       "      <th>howpreg_p</th>\n",
       "      <th>moscurrp</th>\n",
       "      <th>nowprgdk</th>\n",
       "      <th>pregend1</th>\n",
       "      <th>pregend2</th>\n",
       "      <th>nbrnaliv</th>\n",
       "      <th>multbrth</th>\n",
       "      <th>...</th>\n",
       "      <th>laborfor_i</th>\n",
       "      <th>religion_i</th>\n",
       "      <th>metro_i</th>\n",
       "      <th>basewgt</th>\n",
       "      <th>adj_mod_basewgt</th>\n",
       "      <th>finalwgt</th>\n",
       "      <th>secu_p</th>\n",
       "      <th>sest</th>\n",
       "      <th>cmintvw</th>\n",
       "      <th>totalwgt_lb</th>\n",
       "    </tr>\n",
       "  </thead>\n",
       "  <tbody>\n",
       "    <tr>\n",
       "      <th>11099</th>\n",
       "      <td> 10229</td>\n",
       "      <td> 7</td>\n",
       "      <td>NaN</td>\n",
       "      <td>NaN</td>\n",
       "      <td>NaN</td>\n",
       "      <td>NaN</td>\n",
       "      <td> 6</td>\n",
       "      <td>NaN</td>\n",
       "      <td> 1</td>\n",
       "      <td>NaN</td>\n",
       "      <td>...</td>\n",
       "      <td> 0</td>\n",
       "      <td> 0</td>\n",
       "      <td> 0</td>\n",
       "      <td> 1914.323805</td>\n",
       "      <td> 2021.999794</td>\n",
       "      <td> 3369.662656</td>\n",
       "      <td> 2</td>\n",
       "      <td> 65</td>\n",
       "      <td>NaN</td>\n",
       "      <td> 7.6875</td>\n",
       "    </tr>\n",
       "  </tbody>\n",
       "</table>\n",
       "<p>1 rows × 244 columns</p>\n",
       "</div>"
      ],
      "text/plain": [
       "       caseid  pregordr  howpreg_n  howpreg_p  moscurrp  nowprgdk  pregend1  \\\n",
       "11099   10229         7        NaN        NaN       NaN       NaN         6   \n",
       "\n",
       "       pregend2  nbrnaliv  multbrth     ...       laborfor_i  religion_i  \\\n",
       "11099       NaN         1       NaN     ...                0           0   \n",
       "\n",
       "       metro_i      basewgt  adj_mod_basewgt     finalwgt  secu_p  sest  \\\n",
       "11099        0  1914.323805      2021.999794  3369.662656       2    65   \n",
       "\n",
       "       cmintvw  totalwgt_lb  \n",
       "11099      NaN       7.6875  \n",
       "\n",
       "[1 rows x 244 columns]"
      ]
     },
     "execution_count": 138,
     "metadata": {},
     "output_type": "execute_result"
    }
   ],
   "source": [
    "firsts[firsts['caseid'] == 10229]"
   ]
  },
  {
   "cell_type": "code",
   "execution_count": 139,
   "metadata": {
    "collapsed": false
   },
   "outputs": [
    {
     "data": {
      "text/html": [
       "<div style=\"max-height:1000px;max-width:1500px;overflow:auto;\">\n",
       "<table border=\"1\" class=\"dataframe\">\n",
       "  <thead>\n",
       "    <tr style=\"text-align: right;\">\n",
       "      <th></th>\n",
       "      <th>caseid</th>\n",
       "      <th>pregordr</th>\n",
       "      <th>howpreg_n</th>\n",
       "      <th>howpreg_p</th>\n",
       "      <th>moscurrp</th>\n",
       "      <th>nowprgdk</th>\n",
       "      <th>pregend1</th>\n",
       "      <th>pregend2</th>\n",
       "      <th>nbrnaliv</th>\n",
       "      <th>multbrth</th>\n",
       "      <th>...</th>\n",
       "      <th>laborfor_i</th>\n",
       "      <th>religion_i</th>\n",
       "      <th>metro_i</th>\n",
       "      <th>basewgt</th>\n",
       "      <th>adj_mod_basewgt</th>\n",
       "      <th>finalwgt</th>\n",
       "      <th>secu_p</th>\n",
       "      <th>sest</th>\n",
       "      <th>cmintvw</th>\n",
       "      <th>totalwgt_lb</th>\n",
       "    </tr>\n",
       "  </thead>\n",
       "  <tbody>\n",
       "  </tbody>\n",
       "</table>\n",
       "<p>0 rows × 244 columns</p>\n",
       "</div>"
      ],
      "text/plain": [
       "Empty DataFrame\n",
       "Columns: [caseid, pregordr, howpreg_n, howpreg_p, moscurrp, nowprgdk, pregend1, pregend2, nbrnaliv, multbrth, cmotpreg, prgoutcome, cmprgend, flgdkmo1, cmprgbeg, ageatend, hpageend, gestasun_m, gestasun_w, wksgest, mosgest, dk1gest, dk2gest, dk3gest, bpa_bdscheck1, bpa_bdscheck2, bpa_bdscheck3, babysex, birthwgt_lb, birthwgt_oz, lobthwgt, babysex2, birthwgt_lb2, birthwgt_oz2, lobthwgt2, babysex3, birthwgt_lb3, birthwgt_oz3, lobthwgt3, cmbabdob, kidage, hpagelb, birthplc, paybirth1, paybirth2, paybirth3, knewpreg, trimestr, ltrimest, priorsmk, postsmks, npostsmk, getprena, bgnprena, pnctrim, lpnctri, workpreg, workborn, didwork, matweeks, weeksdk, matleave, matchfound, livehere, alivenow, cmkidied, cmkidlft, lastage, wherenow, legagree, parenend, anynurse, fedsolid, frsteatd_n, frsteatd_p, frsteatd, quitnurs, ageqtnur_n, ageqtnur_p, ageqtnur, matchfound2, livehere2, alivenow2, cmkidied2, cmkidlft2, lastage2, wherenow2, legagree2, parenend2, anynurse2, fedsolid2, frsteatd_n2, frsteatd_p2, frsteatd2, quitnurs2, ageqtnur_n2, ageqtnur_p2, ageqtnur2, matchfound3, livehere3, ...]\n",
       "Index: []\n",
       "\n",
       "[0 rows x 244 columns]"
      ]
     },
     "execution_count": 139,
     "metadata": {},
     "output_type": "execute_result"
    }
   ],
   "source": [
    "others[others['caseid'] == 10229]"
   ]
  },
  {
   "cell_type": "code",
   "execution_count": 140,
   "metadata": {
    "collapsed": false
   },
   "outputs": [
    {
     "name": "stderr",
     "output_type": "stream",
     "text": [
      "/Users/amylopezdooling/anaconda/lib/python2.7/site-packages/IPython/kernel/__main__.py:1: SettingWithCopyWarning: \n",
      "A value is trying to be set on a copy of a slice from a DataFrame.\n",
      "Try using .loc[row_indexer,col_indexer] = value instead\n",
      "\n",
      "See the the caveats in the documentation: http://pandas.pydata.org/pandas-docs/stable/indexing.html#indexing-view-versus-copy\n",
      "  if __name__ == '__main__':\n",
      "/Users/amylopezdooling/anaconda/lib/python2.7/site-packages/IPython/kernel/__main__.py:2: SettingWithCopyWarning: \n",
      "A value is trying to be set on a copy of a slice from a DataFrame.\n",
      "Try using .loc[row_indexer,col_indexer] = value instead\n",
      "\n",
      "See the the caveats in the documentation: http://pandas.pydata.org/pandas-docs/stable/indexing.html#indexing-view-versus-copy\n",
      "  from IPython.kernel.zmq import kernelapp as app\n"
     ]
    }
   ],
   "source": [
    "firsts['ssn'] = firsts['caseid']\n",
    "others['ssn'] = others['caseid']"
   ]
  },
  {
   "cell_type": "code",
   "execution_count": 141,
   "metadata": {
    "collapsed": false
   },
   "outputs": [],
   "source": [
    "together = pd.merge(left=firsts,right=others,\n",
    "                   left_on='caseid', \n",
    "                   right_on='caseid')"
   ]
  },
  {
   "cell_type": "code",
   "execution_count": 142,
   "metadata": {
    "collapsed": false
   },
   "outputs": [
    {
     "data": {
      "text/plain": [
       "(4735, 489)"
      ]
     },
     "execution_count": 142,
     "metadata": {},
     "output_type": "execute_result"
    }
   ],
   "source": [
    "together.shape"
   ]
  },
  {
   "cell_type": "code",
   "execution_count": 143,
   "metadata": {
    "collapsed": false
   },
   "outputs": [
    {
     "data": {
      "text/plain": [
       "(4413, 245)"
      ]
     },
     "execution_count": 143,
     "metadata": {},
     "output_type": "execute_result"
    }
   ],
   "source": [
    "firsts.shape"
   ]
  },
  {
   "cell_type": "code",
   "execution_count": 144,
   "metadata": {
    "collapsed": false
   },
   "outputs": [
    {
     "data": {
      "text/html": [
       "<div style=\"max-height:1000px;max-width:1500px;overflow:auto;\">\n",
       "<table border=\"1\" class=\"dataframe\">\n",
       "  <thead>\n",
       "    <tr style=\"text-align: right;\">\n",
       "      <th></th>\n",
       "      <th>caseid</th>\n",
       "      <th>pregordr_x</th>\n",
       "      <th>prglngth_x</th>\n",
       "      <th>pregordr_y</th>\n",
       "      <th>prglngth_y</th>\n",
       "    </tr>\n",
       "  </thead>\n",
       "  <tbody>\n",
       "    <tr>\n",
       "      <th>0</th>\n",
       "      <td> 1</td>\n",
       "      <td> 1</td>\n",
       "      <td> 39</td>\n",
       "      <td> 2</td>\n",
       "      <td> 39</td>\n",
       "    </tr>\n",
       "    <tr>\n",
       "      <th>1</th>\n",
       "      <td> 2</td>\n",
       "      <td> 1</td>\n",
       "      <td> 39</td>\n",
       "      <td> 2</td>\n",
       "      <td> 39</td>\n",
       "    </tr>\n",
       "    <tr>\n",
       "      <th>2</th>\n",
       "      <td> 2</td>\n",
       "      <td> 1</td>\n",
       "      <td> 39</td>\n",
       "      <td> 3</td>\n",
       "      <td> 39</td>\n",
       "    </tr>\n",
       "    <tr>\n",
       "      <th>3</th>\n",
       "      <td> 6</td>\n",
       "      <td> 1</td>\n",
       "      <td> 38</td>\n",
       "      <td> 2</td>\n",
       "      <td> 40</td>\n",
       "    </tr>\n",
       "    <tr>\n",
       "      <th>4</th>\n",
       "      <td> 6</td>\n",
       "      <td> 1</td>\n",
       "      <td> 38</td>\n",
       "      <td> 3</td>\n",
       "      <td> 42</td>\n",
       "    </tr>\n",
       "  </tbody>\n",
       "</table>\n",
       "</div>"
      ],
      "text/plain": [
       "   caseid  pregordr_x  prglngth_x  pregordr_y  prglngth_y\n",
       "0       1           1          39           2          39\n",
       "1       2           1          39           2          39\n",
       "2       2           1          39           3          39\n",
       "3       6           1          38           2          40\n",
       "4       6           1          38           3          42"
      ]
     },
     "execution_count": 144,
     "metadata": {},
     "output_type": "execute_result"
    }
   ],
   "source": [
    "together[['caseid','pregordr_x','prglngth_x',\n",
    "        'pregordr_y','prglngth_y']].head()"
   ]
  },
  {
   "cell_type": "code",
   "execution_count": 145,
   "metadata": {
    "collapsed": false
   },
   "outputs": [
    {
     "data": {
      "text/plain": [
       "<matplotlib.axes._subplots.AxesSubplot at 0x11265bc10>"
      ]
     },
     "execution_count": 145,
     "metadata": {},
     "output_type": "execute_result"
    },
    {
     "data": {
      "image/png": "[encoded data removed]",
      "text/plain": [
       "<matplotlib.figure.Figure at 0x10965fa50>"
      ]
     },
     "metadata": {},
     "output_type": "display_data"
    }
   ],
   "source": [
    "firsts['totalwgt_lb'].round(1).\\\n",
    "value_counts(normalize=True).sort_index().plot()\n",
    "others['totalwgt_lb'].round(1).\\\n",
    "value_counts(normalize=True).sort_index().plot()"
   ]
  },
  {
   "cell_type": "markdown",
   "metadata": {},
   "source": [
    "The CDF is the function that maps from a value to its percentile rank."
   ]
  },
  {
   "cell_type": "code",
   "execution_count": 146,
   "metadata": {
    "collapsed": true
   },
   "outputs": [],
   "source": [
    "one = [1,2,2,3,5]"
   ]
  },
  {
   "cell_type": "code",
   "execution_count": 147,
   "metadata": {
    "collapsed": true
   },
   "outputs": [],
   "source": [
    "oneseries = pd.Series(one)\n",
    "onepmf = oneseries.value_counts(normalize=True).sort_index()"
   ]
  },
  {
   "cell_type": "code",
   "execution_count": 148,
   "metadata": {
    "collapsed": false
   },
   "outputs": [
    {
     "data": {
      "text/plain": [
       "<matplotlib.axes._subplots.AxesSubplot at 0x116085f10>"
      ]
     },
     "execution_count": 148,
     "metadata": {},
     "output_type": "execute_result"
    },
    {
     "data": {
      "image/png": "[encoded data removed]",
      "text/plain": [
       "<matplotlib.figure.Figure at 0x10d6252d0>"
      ]
     },
     "metadata": {},
     "output_type": "display_data"
    }
   ],
   "source": [
    "onepmf.plot()"
   ]
  },
  {
   "cell_type": "code",
   "execution_count": 149,
   "metadata": {
    "collapsed": true
   },
   "outputs": [],
   "source": [
    "onecdf = onepmf.cumsum()"
   ]
  },
  {
   "cell_type": "code",
   "execution_count": 150,
   "metadata": {
    "collapsed": false
   },
   "outputs": [
    {
     "data": {
      "text/plain": [
       "<matplotlib.axes._subplots.AxesSubplot at 0x11d393690>"
      ]
     },
     "execution_count": 150,
     "metadata": {},
     "output_type": "execute_result"
    },
    {
     "data": {
      "image/png": "[encoded data removed]",
      "text/plain": [
       "<matplotlib.figure.Figure at 0x11d370b90>"
      ]
     },
     "metadata": {},
     "output_type": "display_data"
    }
   ],
   "source": [
    "onecdf.plot(ylim=[0,1],xlim=[0,5])\n",
    "#plt.ylim([0,1])\n"
   ]
  },
  {
   "cell_type": "code",
   "execution_count": 151,
   "metadata": {
    "collapsed": false
   },
   "outputs": [
    {
     "data": {
      "text/plain": [
       "1    0.2\n",
       "2    0.6\n",
       "3    0.8\n",
       "5    1.0\n",
       "dtype: float64"
      ]
     },
     "execution_count": 151,
     "metadata": {},
     "output_type": "execute_result"
    }
   ],
   "source": [
    "onecdf"
   ]
  },
  {
   "cell_type": "code",
   "execution_count": 152,
   "metadata": {
    "collapsed": true
   },
   "outputs": [],
   "source": [
    "onecdf.iloc[0] = 0"
   ]
  },
  {
   "cell_type": "code",
   "execution_count": 153,
   "metadata": {
    "collapsed": false
   },
   "outputs": [
    {
     "data": {
      "text/plain": [
       "1    0.0\n",
       "2    0.6\n",
       "3    0.8\n",
       "5    1.0\n",
       "dtype: float64"
      ]
     },
     "execution_count": 153,
     "metadata": {},
     "output_type": "execute_result"
    }
   ],
   "source": [
    "onecdf"
   ]
  },
  {
   "cell_type": "code",
   "execution_count": 154,
   "metadata": {
    "collapsed": false
   },
   "outputs": [
    {
     "data": {
      "text/plain": [
       "<matplotlib.axes._subplots.AxesSubplot at 0x125d94950>"
      ]
     },
     "execution_count": 154,
     "metadata": {},
     "output_type": "execute_result"
    },
    {
     "data": {
      "image/png": "[encoded data removed]",
      "text/plain": [
       "<matplotlib.figure.Figure at 0x11d370290>"
      ]
     },
     "metadata": {},
     "output_type": "display_data"
    }
   ],
   "source": [
    "onecdf.plot()"
   ]
  },
  {
   "cell_type": "code",
   "execution_count": 155,
   "metadata": {
    "collapsed": false
   },
   "outputs": [],
   "source": [
    "liveprglngth = live.prglngth"
   ]
  },
  {
   "cell_type": "code",
   "execution_count": 156,
   "metadata": {
    "collapsed": true
   },
   "outputs": [],
   "source": [
    "liveprglngthpmf = live.prglngth.value_counts(normalize=\n",
    "                True).sort_index()"
   ]
  },
  {
   "cell_type": "code",
   "execution_count": 157,
   "metadata": {
    "collapsed": true
   },
   "outputs": [],
   "source": [
    "liveprglngthcdf = liveprglngthpmf.cumsum()"
   ]
  },
  {
   "cell_type": "code",
   "execution_count": 158,
   "metadata": {
    "collapsed": false
   },
   "outputs": [
    {
     "data": {
      "text/plain": [
       "<matplotlib.axes._subplots.AxesSubplot at 0x116547510>"
      ]
     },
     "execution_count": 158,
     "metadata": {},
     "output_type": "execute_result"
    },
    {
     "data": {
      "image/png": "[encoded data removed]",
      "text/plain": [
       "<matplotlib.figure.Figure at 0x116535410>"
      ]
     },
     "metadata": {},
     "output_type": "display_data"
    }
   ],
   "source": [
    "liveprglngthcdf.plot()"
   ]
  },
  {
   "cell_type": "code",
   "execution_count": 159,
   "metadata": {
    "collapsed": true
   },
   "outputs": [],
   "source": [
    "a = firsts.totalwgt_lb.value_counts(normalize=\n",
    "            True).sort_index().cumsum()\n",
    "\n",
    "b = others.totalwgt_lb.value_counts(normalize=\n",
    "            True).sort_index().cumsum()"
   ]
  },
  {
   "cell_type": "code",
   "execution_count": 160,
   "metadata": {
    "collapsed": false
   },
   "outputs": [
    {
     "data": {
      "text/plain": [
       "<matplotlib.axes._subplots.AxesSubplot at 0x116793050>"
      ]
     },
     "execution_count": 160,
     "metadata": {},
     "output_type": "execute_result"
    },
    {
     "data": {
      "image/png": "[encoded data removed]",
      "text/plain": [
       "<matplotlib.figure.Figure at 0x1165f9f50>"
      ]
     },
     "metadata": {},
     "output_type": "display_data"
    }
   ],
   "source": [
    "a.plot()\n",
    "b.plot()"
   ]
  },
  {
   "cell_type": "code",
   "execution_count": 161,
   "metadata": {
    "collapsed": false
   },
   "outputs": [
    {
     "data": {
      "text/plain": [
       "7.3125"
      ]
     },
     "execution_count": 161,
     "metadata": {},
     "output_type": "execute_result"
    }
   ],
   "source": [
    "firsts.totalwgt_lb.quantile(.5)"
   ]
  },
  {
   "cell_type": "code",
   "execution_count": 162,
   "metadata": {
    "collapsed": false
   },
   "outputs": [
    {
     "data": {
      "text/plain": [
       "7.3125"
      ]
     },
     "execution_count": 162,
     "metadata": {},
     "output_type": "execute_result"
    }
   ],
   "source": [
    "firsts.totalwgt_lb.median()"
   ]
  },
  {
   "cell_type": "code",
   "execution_count": 163,
   "metadata": {
    "collapsed": false
   },
   "outputs": [
    {
     "data": {
      "text/plain": [
       "7.375"
      ]
     },
     "execution_count": 163,
     "metadata": {},
     "output_type": "execute_result"
    }
   ],
   "source": [
    "others.totalwgt_lb.quantile(.5)"
   ]
  },
  {
   "cell_type": "code",
   "execution_count": 164,
   "metadata": {
    "collapsed": true
   },
   "outputs": [],
   "source": [
    "weights = live.totalwgt_lb\n",
    "weightscdf = weights.value_counts(normalize=\n",
    "        True).sort_index().cumsum()"
   ]
  },
  {
   "cell_type": "code",
   "execution_count": 165,
   "metadata": {
    "collapsed": false
   },
   "outputs": [
    {
     "data": {
      "text/plain": [
       "<matplotlib.axes._subplots.AxesSubplot at 0x11d5e8490>"
      ]
     },
     "execution_count": 165,
     "metadata": {},
     "output_type": "execute_result"
    },
    {
     "data": {
      "image/png": "[encoded data removed]",
      "text/plain": [
       "<matplotlib.figure.Figure at 0x1165f9f10>"
      ]
     },
     "metadata": {},
     "output_type": "display_data"
    }
   ],
   "source": [
    "weightscdf.plot()"
   ]
  },
  {
   "cell_type": "code",
   "execution_count": 166,
   "metadata": {
    "collapsed": false
   },
   "outputs": [],
   "source": [
    "sample = np.random.choice(weights, 100, replace=True)"
   ]
  },
  {
   "cell_type": "code",
   "execution_count": 167,
   "metadata": {
    "collapsed": false
   },
   "outputs": [
    {
     "data": {
      "text/plain": [
       "array([ 10.25  ,   6.125 ,   7.0625,   6.5625,   8.5625,   7.25  ,\n",
       "         8.75  ,   9.125 ,   7.25  ,   6.3125,   6.75  ,   7.9375,\n",
       "         6.0625,   6.1875,   9.3125,   7.4375,   6.4375,   6.4375,\n",
       "         8.75  ,   9.75  ,   7.4375,   8.5625,   6.4375,   5.6875,\n",
       "         6.6875,   7.125 ,   6.875 ,   7.8125,   7.375 ,   8.125 ,\n",
       "         6.6875,   7.9375,   6.    ,   7.9375,   7.75  ,   8.0625,\n",
       "         7.875 ,   7.25  ,   8.25  ,   7.75  ,   8.625 ,   9.5625,\n",
       "         7.3125,   6.75  ,   7.3125,   6.5   ,   7.8125,   7.0625,\n",
       "         6.    ,   7.0625,   8.1875,   9.    ,   7.375 ,   1.75  ,\n",
       "         4.1875,   8.375 ,   8.625 ,   7.9375,   7.125 ,   8.25  ,\n",
       "         8.    ,   8.1875,   6.9375,   8.5625,   8.3125,   7.4375,\n",
       "         8.3125,   9.0625,   7.4375,   6.5   ,   5.4375,   7.6875,\n",
       "         3.625 ,   7.375 ,      nan,   5.    ,   7.125 ,   8.625 ,\n",
       "         6.25  ,   6.125 ,   7.4375,   7.6875,   7.    ,   5.75  ,\n",
       "         7.3125,   7.1875,   7.3125,   7.625 ,   6.4375,   2.25  ,\n",
       "         6.8125,   9.    ,   8.6875,   7.3125,   7.    ,   7.375 ,\n",
       "         6.    ,   6.    ,   7.    ,   5.625 ])"
      ]
     },
     "execution_count": 167,
     "metadata": {},
     "output_type": "execute_result"
    }
   ],
   "source": [
    "sample"
   ]
  },
  {
   "cell_type": "code",
   "execution_count": 168,
   "metadata": {
    "collapsed": true
   },
   "outputs": [],
   "source": [
    "from scipy import stats"
   ]
  },
  {
   "cell_type": "code",
   "execution_count": 169,
   "metadata": {
    "collapsed": false
   },
   "outputs": [
    {
     "data": {
      "text/plain": [
       "97.693484914735464"
      ]
     },
     "execution_count": 169,
     "metadata": {},
     "output_type": "execute_result"
    }
   ],
   "source": [
    "stats.percentileofscore(weights, sample[0])"
   ]
  },
  {
   "cell_type": "code",
   "execution_count": 170,
   "metadata": {
    "collapsed": false
   },
   "outputs": [
    {
     "data": {
      "text/plain": [
       "15.784871010056841"
      ]
     },
     "execution_count": 170,
     "metadata": {},
     "output_type": "execute_result"
    }
   ],
   "source": [
    "stats.percentileofscore(weights, sample[1])"
   ]
  },
  {
   "cell_type": "code",
   "execution_count": 171,
   "metadata": {
    "collapsed": false
   },
   "outputs": [
    {
     "name": "stderr",
     "output_type": "stream",
     "text": [
      "/Users/amylopezdooling/anaconda/lib/python2.7/site-packages/scipy/stats/stats.py:1651: FutureWarning: in the future, boolean array-likes will be handled as a boolean array index\n",
      "  pct = (np.mean(a_len[idx]) / n) * 100.0\n"
     ]
    }
   ],
   "source": [
    "yoyo = stats.percentileofscore(weights, sample)"
   ]
  },
  {
   "cell_type": "code",
   "execution_count": 172,
   "metadata": {
    "collapsed": false
   },
   "outputs": [
    {
     "data": {
      "text/plain": [
       "100"
      ]
     },
     "execution_count": 172,
     "metadata": {},
     "output_type": "execute_result"
    }
   ],
   "source": [
    "len(sample)"
   ]
  },
  {
   "cell_type": "code",
   "execution_count": 173,
   "metadata": {
    "collapsed": false
   },
   "outputs": [
    {
     "name": "stderr",
     "output_type": "stream",
     "text": [
      "/Users/amylopezdooling/anaconda/lib/python2.7/site-packages/numpy/core/_methods.py:59: RuntimeWarning: Mean of empty slice.\n",
      "  warnings.warn(\"Mean of empty slice.\", RuntimeWarning)\n"
     ]
    }
   ],
   "source": [
    "yoyolist = list()\n",
    "for i in range(len(sample)):\n",
    "    yoyolist.append(stats.percentileofscore(weights, \n",
    "                sample[i]))"
   ]
  },
  {
   "cell_type": "code",
   "execution_count": 174,
   "metadata": {
    "collapsed": false
   },
   "outputs": [
    {
     "data": {
      "text/plain": [
       "[97.693484914735464,\n",
       " 15.784871010056841,\n",
       " 40.440533449934414,\n",
       " 26.836466987319636,\n",
       " 83.739615216440754,\n",
       " 46.174027109750767,\n",
       " 86.860515959772627,\n",
       " 92.031045037166592,\n",
       " 46.174027109750767,\n",
       " 19.987975513773502,\n",
       " 31.356580673371226,\n",
       " 68.883909051158724,\n",
       " 14.713598600787057,\n",
       " 17.151289899431571,\n",
       " 93.468517708788795,\n",
       " 52.984258854394405,\n",
       " 23.059685177087889,\n",
       " 23.059685177087889,\n",
       " 86.860515959772627,\n",
       " 96.157630083078274,\n",
       " 52.984258854394405,\n",
       " 83.739615216440754,\n",
       " 23.059685177087889,\n",
       " 9.8983384346305208,\n",
       " 29.744206383909049,\n",
       " 42.342588543944032,\n",
       " 34.603191954525578,\n",
       " 65.577175338871882,\n",
       " 50.644949715784868,\n",
       " 74.404241364232618,\n",
       " 29.744206383909049,\n",
       " 68.883909051158724,\n",
       " 13.254263226934848,\n",
       " 68.883909051158724,\n",
       " 63.664188893747266,\n",
       " 73.054219501530397,\n",
       " 67.277000437254046,\n",
       " 46.174027109750767,\n",
       " 77.093353738522083,\n",
       " 63.664188893747266,\n",
       " 85.007651945780495,\n",
       " 95.069960647135986,\n",
       " 48.13620463489287,\n",
       " 31.356580673371226,\n",
       " 48.13620463489287,\n",
       " 25.005465675557499,\n",
       " 65.577175338871882,\n",
       " 40.440533449934414,\n",
       " 13.254263226934848,\n",
       " 40.440533449934414,\n",
       " 75.792522955837342,\n",
       " 90.746611281154358,\n",
       " 50.644949715784868,\n",
       " 0.45365107127240928,\n",
       " 2.8585483165719285,\n",
       " 79.695015303891552,\n",
       " 85.007651945780495,\n",
       " 68.883909051158724,\n",
       " 42.342588543944032,\n",
       " 77.093353738522083,\n",
       " 70.999125491910803,\n",
       " 75.792522955837342,\n",
       " 35.876694359422821,\n",
       " 83.739615216440754,\n",
       " 78.344993441189331,\n",
       " 52.984258854394405,\n",
       " 78.344993441189331,\n",
       " 91.588325317009179,\n",
       " 52.984258854394405,\n",
       " 25.005465675557499,\n",
       " 8.1165282028858776,\n",
       " 61.308482728465243,\n",
       " 1.869261040664626,\n",
       " 50.644949715784868,\n",
       " nan,\n",
       " 4.990161783996502,\n",
       " 42.342588543944032,\n",
       " 85.007651945780495,\n",
       " 18.512243113248797,\n",
       " 15.784871010056841,\n",
       " 52.984258854394405,\n",
       " 61.308482728465243,\n",
       " 38.062964582422389,\n",
       " 10.423043288150415,\n",
       " 48.13620463489287,\n",
       " 44.337560122431128,\n",
       " 48.13620463489287,\n",
       " 59.340839527765631,\n",
       " 23.059685177087889,\n",
       " 0.73786620026235239,\n",
       " 33.04000874508089,\n",
       " 90.746611281154358,\n",
       " 85.975076519457801,\n",
       " 48.13620463489287,\n",
       " 38.062964582422389,\n",
       " 50.644949715784868,\n",
       " 13.254263226934848,\n",
       " 13.254263226934848,\n",
       " 38.062964582422389,\n",
       " 9.3954962833406199]"
      ]
     },
     "execution_count": 174,
     "metadata": {},
     "output_type": "execute_result"
    }
   ],
   "source": [
    "yoyolist"
   ]
  },
  {
   "cell_type": "code",
   "execution_count": 175,
   "metadata": {
    "collapsed": false
   },
   "outputs": [
    {
     "data": {
      "image/png": "[encoded data removed]",
      "text/plain": [
       "<matplotlib.figure.Figure at 0x11638c910>"
      ]
     },
     "metadata": {},
     "output_type": "display_data"
    }
   ],
   "source": [
    "duh = pd.Series(yoyolist).round().value_counts(normalize=\n",
    "            True).sort_index().cumsum().plot()"
   ]
  },
  {
   "cell_type": "markdown",
   "metadata": {},
   "source": [
    "## 4.9 Exercises\n",
    "\n",
    "### Exercise 1\n",
    "How much did you weigh at birth? If you don't know, call your mother or someone else who knows. Using the NSFG data (all live births), compute the distribution of birth weights and use it to find your percentile rank. If you were a first baby, find your percentile rank in the distribution of first babies. Otherwise use the distribution for others. "
   ]
  },
  {
   "cell_type": "code",
   "execution_count": 176,
   "metadata": {
    "collapsed": false
   },
   "outputs": [
    {
     "data": {
      "text/plain": [
       "0     8.81\n",
       "2     9.12\n",
       "5     8.56\n",
       "8     7.56\n",
       "10    7.81\n",
       "Name: totalwgt_lb, dtype: float64"
      ]
     },
     "execution_count": 176,
     "metadata": {},
     "output_type": "execute_result"
    }
   ],
   "source": [
    "firsts.totalwgt_lb.round(2).head()"
   ]
  },
  {
   "cell_type": "code",
   "execution_count": 177,
   "metadata": {
    "collapsed": false
   },
   "outputs": [
    {
     "data": {
      "text/plain": [
       "57.46657602537956"
      ]
     },
     "execution_count": 177,
     "metadata": {},
     "output_type": "execute_result"
    }
   ],
   "source": [
    "stats.percentileofscore(firsts.totalwgt_lb, 7.5)"
   ]
  },
  {
   "cell_type": "code",
   "execution_count": 178,
   "metadata": {
    "collapsed": false
   },
   "outputs": [
    {
     "data": {
      "text/plain": [
       "53.51636747624076"
      ]
     },
     "execution_count": 178,
     "metadata": {},
     "output_type": "execute_result"
    }
   ],
   "source": [
    "stats.percentileofscore(others.totalwgt_lb, 7.5)"
   ]
  },
  {
   "cell_type": "markdown",
   "metadata": {},
   "source": [
    "### Exercise 2\n",
    "The numbers generated by ```random.random``` are supposed to be uniform between 0 and 1; that is, every value in the range should have the same probability. Generate 1000 numbers from \n",
    "```random.random``` and plot their PMF and CDF. Is the distribution uniform?"
   ]
  },
  {
   "cell_type": "code",
   "execution_count": 179,
   "metadata": {
    "collapsed": true
   },
   "outputs": [],
   "source": [
    "rlist = np.random.random(2000)"
   ]
  },
  {
   "cell_type": "code",
   "execution_count": 180,
   "metadata": {
    "collapsed": false
   },
   "outputs": [],
   "source": [
    "rseries = pd.Series(rlist)"
   ]
  },
  {
   "cell_type": "code",
   "execution_count": 181,
   "metadata": {
    "collapsed": true
   },
   "outputs": [],
   "source": [
    "rpmf = rseries.round(3).value_counts(normalize=\n",
    "            True).sort_index()"
   ]
  },
  {
   "cell_type": "code",
   "execution_count": 182,
   "metadata": {
    "collapsed": true
   },
   "outputs": [],
   "source": [
    "rcdf = rpmf.cumsum()"
   ]
  },
  {
   "cell_type": "code",
   "execution_count": 183,
   "metadata": {
    "collapsed": false
   },
   "outputs": [
    {
     "data": {
      "text/plain": [
       "<matplotlib.axes._subplots.AxesSubplot at 0x11702c050>"
      ]
     },
     "execution_count": 183,
     "metadata": {},
     "output_type": "execute_result"
    },
    {
     "data": {
      "image/png": "[encoded data removed]",
      "text/plain": [
       "<matplotlib.figure.Figure at 0x1163b7390>"
      ]
     },
     "metadata": {},
     "output_type": "display_data"
    }
   ],
   "source": [
    "rpmf.plot()\n",
    "rcdf.plot()"
   ]
  },
  {
   "cell_type": "code",
   "execution_count": 184,
   "metadata": {
    "collapsed": false
   },
   "outputs": [
    {
     "data": {
      "text/plain": [
       "<matplotlib.axes._subplots.AxesSubplot at 0x11640ae10>"
      ]
     },
     "execution_count": 184,
     "metadata": {},
     "output_type": "execute_result"
    },
    {
     "data": {
      "image/png": "[encoded data removed]",
      "text/plain": [
       "<matplotlib.figure.Figure at 0x1163b7110>"
      ]
     },
     "metadata": {},
     "output_type": "display_data"
    }
   ],
   "source": [
    "rpmf.plot()"
   ]
  },
  {
   "cell_type": "markdown",
   "metadata": {},
   "source": [
    "## Chapter 5 Modeling distributions"
   ]
  },
  {
   "cell_type": "code",
   "execution_count": null,
   "metadata": {
    "collapsed": true
   },
   "outputs": [],
   "source": []
  }
 ],
 "metadata": {
  "kernelspec": {
   "display_name": "Python 2",
   "language": "python",
   "name": "python2"
  },
  "language_info": {
   "codemirror_mode": {
    "name": "ipython",
    "version": 2
   },
   "file_extension": ".py",
   "mimetype": "text/x-python",
   "name": "python",
   "nbconvert_exporter": "python",
   "pygments_lexer": "ipython2",
   "version": "2.7.10"
  }
 },
 "nbformat": 4,
 "nbformat_minor": 0
}
