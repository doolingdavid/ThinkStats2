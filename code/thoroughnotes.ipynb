{
 "cells": [
  {
   "cell_type": "code",
   "execution_count": 1,
   "metadata": {
    "collapsed": true,
    "slideshow": {
     "slide_type": "slide"
    }
   },
   "outputs": [],
   "source": [
    "import numpy as np\n",
    "import pandas as pd\n",
    "import matplotlib.pyplot as plt\n",
    "from pandas import Series, DataFrame\n",
    "import pytz\n",
    "from pytz import common_timezones, all_timezones\n",
    "import matplotlib\n",
    "matplotlib.style.use('ggplot')\n",
    "%matplotlib inline\n",
    "from datetime import datetime"
   ]
  },
  {
   "cell_type": "markdown",
   "metadata": {
    "slideshow": {
     "slide_type": "slide"
    }
   },
   "source": [
    "## Chapter 0 Preface\n",
    "\n",
    "This book is an introduction to the practical tools of exploratory data analysis. The organization of the book follows the process I use when I start working with a dataset:\n",
    "\n",
    "* Importing and cleaning: Whatever format the data is in, it usually takes some time and effort to read the data, clean and transform it, and check that everything made it through the translation process intact.\n",
    "* Single variable explorations: I usually start by examining one variable at a time, finding out what the variables mean, looking at distributions of the values, and choosing apprpriate summary statistics\n",
    "* Pair-wise explorations: To identify possible relationships between variables, I look at tables and scatter plots, and compute correlations and linear fits\n",
    "* Multivariate analysis: If there are apparent relationships between variables, I use multiple regression to add control variables and investigate more complex relationships\n",
    "* Estimation and hypothesis testing: When reporting statistical results, it is important to answer three questions: How big is the effect? How much variability should we expect if we run the same measurement again? Is it possible that the apparent effect is due to chance?\n",
    "* Visualization: During exploration, visualization is an important tool for finding possible relationships and effects. Then if an apparent effect holds up to scrutiny, visualization is an effective way to communicate results."
   ]
  },
  {
   "cell_type": "markdown",
   "metadata": {
    "slideshow": {
     "slide_type": "slide"
    }
   },
   "source": [
    "http://nbviewer.jupyter.org/github/barbagroup/AeroPython/blob/master/lessons/01_Lesson01_sourceSink.ipynb"
   ]
  },
  {
   "cell_type": "code",
   "execution_count": 3,
   "metadata": {
    "collapsed": false,
    "slideshow": {
     "slide_type": "skip"
    }
   },
   "outputs": [],
   "source": [
    "#from IPython.core.display import HTML\n",
    "#def css_styling():\n",
    "#    styles = open('../styles/custom.css', 'r').read()\n",
    "#    return HTML(styles)\n",
    "#css_styling()"
   ]
  },
  {
   "cell_type": "markdown",
   "metadata": {
    "collapsed": true,
    "slideshow": {
     "slide_type": "slide"
    }
   },
   "source": [
    "This book takes a comuational approach, which has several advantages over mathematical approaches:\n",
    "\n",
    "* I present most ideas using Python code, rather than mathematical notation. In general, Python code is more readable; also, because it is executable, readers can download it, run it, and modify it.\n",
    "* Each chapter includes exercises readers can do to develop and solidify their learning. When you write programs, you express your understanding in code; while you are debugging the program, you are also correcting your understanding."
   ]
  },
  {
   "cell_type": "markdown",
   "metadata": {
    "slideshow": {
     "slide_type": "slide"
    }
   },
   "source": [
    "* Some exercises involve experiments to test statistical behavior. For example, you can explore the Central Limit Theorem (CLT) by generating random samples and computing their sums. The resulting visiualizations demonstrate why the CLT works and and when it doesn't.\n",
    "* Some ideas that are hard to grasp mathematically are easy to understand by simulation. For example, we approximate p-values by running random simulations, which reinforces the meaning of the p-value.\n",
    "* Because the book is based on a general-purpose programming language (Python), readers can import data from almost any source. They are not limited to datasets that have been cleaned and formatted for a partciular statistics tool."
   ]
  },
  {
   "cell_type": "markdown",
   "metadata": {
    "slideshow": {
     "slide_type": "slide"
    }
   },
   "source": [
    "The book lends itself to a project-based approach. In my class, students work on a semester-long project that requires them to pose a statistical question, find a dataset that can address it, and apply each of the techniques they learn to their own data."
   ]
  },
  {
   "cell_type": "markdown",
   "metadata": {
    "slideshow": {
     "slide_type": "slide"
    }
   },
   "source": [
    "To demonstrate my approach to statistical analysis, the book presents a case study that runs through all of the chapters. It uses data from two sources:\n",
    "\n",
    "* The Natoinal Survey of Family Growth (NSFG), conducted by the U.S. Centers for Disease Control and Prevention (CDC) to gather \"information on family life, marriage and divorce, pregnancy, infertility, use of contraception, and men's and women's health.\" (See http://cdc/gov/nchs/nsfg.html)\n",
    "* The Behavioral Risk Factor Surveillance System (BRFSS), conducted by the National Center for Chronic Disease and Prevention and Health Promotion to \"track conditions and risk behaviors in the United States.\" (See http://cdc.gov/BRFSS/)\n",
    "\n",
    "Other examples use data from the IRS, the U.S. Census, and the Boston Marathon."
   ]
  },
  {
   "cell_type": "markdown",
   "metadata": {
    "slideshow": {
     "slide_type": "slide"
    }
   },
   "source": [
    "This second edition of _Think Stats_ includes the chapters from the first edition, many of them substantially revised, and new chapters on regression, time series analysis, survival analysis, and analytic methods. The previous edition did not use pandas, SciPy, or StatsModels, so all of that material is new."
   ]
  },
  {
   "cell_type": "code",
   "execution_count": 5,
   "metadata": {
    "collapsed": false,
    "slideshow": {
     "slide_type": "skip"
    }
   },
   "outputs": [],
   "source": [
    "#from IPython.core.display import HTML\n",
    "#def css_styling():\n",
    "#    styles = open('theme/serif.css', 'r').read()\n",
    "#    return HTML(styles)\n",
    "#css_styling()"
   ]
  },
  {
   "cell_type": "markdown",
   "metadata": {
    "slideshow": {
     "slide_type": "slide"
    }
   },
   "source": [
    "## <font color='teal'> 0.1 How I wrote this book</font>\n",
    "\n",
    "When people write a new textbook, they usually start by reading a stack of old textbooks. As a result, most books contain the same material in pretty much the same order.\n",
    "\n",
    "I did not do that. In fact, I used almost no printed material while I was writing this book, for several reasons:\n",
    "\n",
    "* My goal was to explore a new approach to this material, so I didn't want much exposure to existing approaches.\n",
    "* Since I am making this book available under a free license, I wanted to make sure that no part of it was encumbered by copyright restrictions.\n",
    "* Many readers of my books don't ahve access to libraries of printed material, so I triedto make references to resources that are freely available on the internet.\n",
    "* Some proponents of old media think that the exclusive use of electronic resources is lazy and unreliable. They might be right about the first part, but I think they are wrong about the second, so I wanted to test my theory."
   ]
  },
  {
   "cell_type": "markdown",
   "metadata": {
    "slideshow": {
     "slide_type": "slide"
    }
   },
   "source": [
    "The resource I used more than any other is Wikipedia. In general, the articles I read on statistical topics were very good (although I made a few small changes along the way). I  include references to Wikipedia pages throughout the book and I encourage you to follow those links; in many cases, the Wikipedia page picks up where my description leaves off. The vocabulary and notation in this book are generally consistent with Wikipedia, unless I had a good reason to deviate. Other resources I found useful were Wolfram MathWorld and the Reddit statistics forum, http://www.reddit.com/r/statistics"
   ]
  },
  {
   "cell_type": "markdown",
   "metadata": {
    "slideshow": {
     "slide_type": "slide"
    }
   },
   "source": [
    "## <font color='teal'>0.2 Using the code</font>\n",
    "\n",
    "The code and data used in this book are available from https://github/com/AllenDowney/ThinkStats2. Git is a veresoin control system that allows you to keep track of the files that make up a project. A Collection of files under Git's control is called a **repository**. GitHub is a hosting service that provides storage for Git repositories and a convenient web interface."
   ]
  },
  {
   "cell_type": "markdown",
   "metadata": {
    "slideshow": {
     "slide_type": "slide"
    }
   },
   "source": [
    "The GitHub homepage for my repository provides several ways to work with the code:\n",
    "\n",
    "* You can create a copy of my repository on GitHub by pressing the Fork button. If you don't already have a GitHub account, you'll need to create one. After forking, you'll have your own repository on GitHub that you can use to keep track of code you write while working on this book. Then you can clone the repo, which means that you make a copy of hte files on your computer.\n",
    "* Or you could clone my reopsitory. You don't need a GitHub account to do this, but you won't be able to write any changes back to GitHub.\n",
    "* If you don't want to use Git at all, you can download the files in a Zip file using the button in the lower-right corner of the GitHub page.\n",
    "\n",
    "All of the code is written to work in both Python 2 and Python 3 with no translation."
   ]
  },
  {
   "cell_type": "markdown",
   "metadata": {
    "slideshow": {
     "slide_type": "slide"
    }
   },
   "source": [
    "I developed this book using Anaconda from Continuum Analytics, which is a free Python distribution tha tincludes all the packages you'll need to run the code (and lots more). I found Anaconda easy to install. By default it does a user-level installaiton, not a system-level, so you don't need administrative privileges. And it supports both Python 2 and Python 3. You can download Anaconda from http://conintuum.io/downloads"
   ]
  },
  {
   "cell_type": "markdown",
   "metadata": {
    "slideshow": {
     "slide_type": "slide"
    }
   },
   "source": [
    "If you don't want to use Anaconda, you will need the following packages:\n",
    "\n",
    "* pandas for representing and analyzing data, http://pandas.pydata.org\n",
    "* NumPy for basic numerical computation, http://www.numpy.org\n",
    "* SciPy for scientific computation including statistics, http://www.scipy.org\n",
    "* StatsModels for regression and other statistical analysis, http://statsmodels.sourceforge.net ; and\n",
    "* matplotlib for visualization, http://matplotlib.org"
   ]
  },
  {
   "cell_type": "markdown",
   "metadata": {
    "slideshow": {
     "slide_type": "slide"
    }
   },
   "source": [
    "Although these are commonly used packages, they are not included with all Python installations, and they can be hard to install in some environments. If you are having trouble installing them, I strongly recommend using Anaconda or one of the other Python distributions that include these packages.\n",
    "\n",
    "After you clone the repository or unzip the zip file, you should have a folder called ```ThinkStats2/code``` with a file called ```nsfg.py```. If you run nsfg.py, it should read a data file, run some tests, and print a message like, \"All tests passed.\" If you get import errors, it probably means there are packages you need to install."
   ]
  },
  {
   "cell_type": "code",
   "execution_count": 6,
   "metadata": {
    "collapsed": false,
    "slideshow": {
     "slide_type": "slide"
    }
   },
   "outputs": [
    {
     "name": "stdout",
     "output_type": "stream",
     "text": [
      "(13593, 244)\n",
      "nsfg.py: All tests passed.\n"
     ]
    }
   ],
   "source": [
    "%run nsfg.py"
   ]
  },
  {
   "cell_type": "markdown",
   "metadata": {
    "slideshow": {
     "slide_type": "slide"
    }
   },
   "source": [
    "Most exercises use Python scripts, but some also use the IPython notebook. If you have not used IPython notebook before, I suggest you start with the documentation at http://ipython.org/ipython-doc/stable/notebook/notebook.html\n",
    "\n",
    "I wrote this book assuming that the reader is familiar with core Python, including object-oriented features, but not pandas, NumPy, and SciPy. If you are already familiar with these modules, you can skip a few sections.\n",
    "\n",
    "I assume that the reader knows basic mathematics, including logarithms, for example, and summations. I refer to calculus concepts in a few places, but you don't have to do any calculus.\n",
    "\n",
    "If you have never studied statistics, I think this book is a good place to start. And if you have taken a traditional statistics class, I hope this book will help repaair the damage."
   ]
  },
  {
   "cell_type": "markdown",
   "metadata": {
    "slideshow": {
     "slide_type": "slide"
    }
   },
   "source": [
    "## <font color='teal'>Chapter 1 Exploratory data Analysis</font>\n",
    "\n",
    "The thesis of this book is that data combined with practical methods can answer questions and guide decisions under uncertainty.\n",
    "\n",
    "As an example, I present a case study motivated by a question I heard when my wife and I were expecting our first child: do first babies tend to arrive late?\n",
    "\n",
    "If you Google this question, you will find plenty of discussion. Some people claim it's true, others say it's a myth, and some people say it's the other way around: first babies come early."
   ]
  },
  {
   "cell_type": "markdown",
   "metadata": {
    "slideshow": {
     "slide_type": "slide"
    }
   },
   "source": [
    "In many of these discussions, people provide data to support their claims. I found many examples like these:\n",
    "\n",
    "* \"My two friends that have given birth recently to their first babies, BOTH went almost 2 weeks overdue before going into labour or being induced.\"\n",
    "* \"My first one came 2 weeks late and now I think the second one is going to come out two weeks early!!\"\n",
    "* \"I don't think that can be true because my sister was my mother's first and she was early, as with many of my cousins.\"\n",
    "\n",
    "\n",
    "Reports like these are called **anecdotal evidence** because they are based on data that is unpublished and usually personal. In casaul conversation, there is nothing wrong with anecdotes, so I don't mean to pick on the people I quoted."
   ]
  },
  {
   "cell_type": "markdown",
   "metadata": {
    "slideshow": {
     "slide_type": "slide"
    }
   },
   "source": [
    "But we might want evidence that is more persuasive and an answer that is more realiable. By those standards, anecdotal evidence usually fails, because:\n",
    "\n",
    "* Small number of observations: If pregnancy length is longer for first babies, the difference is probably small compared to natural variation. In that case, we might have to compare a large number of pregnancies to be sure that a difference exists.\n",
    "* Selection bias: People who join a discussion of this question might be interested because their first babies were late. In that case the process of selecting data would bias the results.\n",
    "* Confirmation bias: People who believe the claim might be more likely to contribute examples that confirm it. People who doubt the claim are more likely to cite counterexamples.\n",
    "* Inaccuracy: Anecdotes are often personal stories, and oftem misremembered, misrepresetned, repeated inaccurately, etc.\n",
    "\n",
    "So how can we do better?"
   ]
  },
  {
   "cell_type": "markdown",
   "metadata": {
    "slideshow": {
     "slide_type": "slide"
    }
   },
   "source": [
    "## <font color='teal'>1.1 A statistical approach</font>\n",
    "\n",
    "To address the limitations of anecdotes, we will use the tools of statistics, which include:\n",
    "\n",
    "* Data collection: We will use data from a large national survey that was designed explicitly with the goal of generating statistically valid inferences about the U.S. population.\n",
    "* Descriptive statistics: We will generate statistics that summarize the data concisely, and evluate different ways to visualize data.\n",
    "* Exploratory data analysis: We will look for patterns, differences, and other features that address the questions we are interested in. At the same time we will check for inconsistencies and identify limitations.\n",
    "* Estimation: We will use data from a sample to estimate characteristics of the general population.\n",
    "* Hypothesis testing: Where we see apparent effects, like a difference between two groups, we will evaluate whether the effect might have happened by chance.\n",
    "\n",
    "By performing these steps with care to avoid pitfalls, we can reach conclusions that are more justifiable and more likely to be correct."
   ]
  },
  {
   "cell_type": "markdown",
   "metadata": {
    "slideshow": {
     "slide_type": "slide"
    }
   },
   "source": [
    "### <font color='teal'>1.2 The National Survey of Family Growth</font>\n",
    "\n",
    "Since 1973 the U.S. Centers for Disease Control and Prevention (CDC) have conducted the National Survey of Family Growth (NSFG), which is intended to gather \"information on family life, marriage and divorce, pregnancy, infertility, use of contraception, and men's and women's health. The survey results are used ... to plan health services and health education programs, and to do statistical studies of families, fertility, and health.\" See http://cdc.gov.nchs/nsfg.htm\n",
    "\n",
    "We will use data collected by this survey to investigate whether first babies tend to come late, and other questions. In order to use this data effectively, we have to understand the design of the study."
   ]
  },
  {
   "cell_type": "markdown",
   "metadata": {
    "slideshow": {
     "slide_type": "slide"
    }
   },
   "source": [
    "The NSFG is a **cross-sectional** study, which means that it captures a snapshot of a group at a point in time. The most common alternative is a **longitudinal** study, which observes a group repeatedly over a period of time.\n",
    "\n",
    "The NSFG has  been conducted seven times; each deployment is called a **cycle**. We will use data from Cycle 6, which was conducted from January 2002 to March 2003."
   ]
  },
  {
   "cell_type": "markdown",
   "metadata": {
    "slideshow": {
     "slide_type": "slide"
    }
   },
   "source": [
    "The goal of the survey is to draw conclusions about a **population**; the target population of the NSFG is people in the United States aged 15-44. Ideally surveys would collect data from every member of the population, but that's seldom possible. Instead we collect data from a subset of the population called a **sample**. The people who particpate in a survey are called **respondents**.\n",
    "\n",
    "In general, cross-sectional studies are meant to be **representative**, which means that every member of the target population has an equal chance of particpating. That ideal is hard to achieve in practice, but people who conduct surveys come as close as they can,"
   ]
  },
  {
   "cell_type": "markdown",
   "metadata": {
    "slideshow": {
     "slide_type": "slide"
    }
   },
   "source": [
    "The NSFG is not representative; instead it is deliberately **oversampled**. The designers of the study recruited through groups - Hispanics, African-Americans and teenagers - at rates higher than their representation in the U.S. population, in order to make sure that the number of reponsdents in each of these groups is large enough to draw valid statistical inferences.\n",
    "\n",
    "Of course, the drawback of oversmapling is that it is not easy to draw conclusions about the general population based on statistics from the survey. We will com eback to this point later.\n",
    "\n",
    "When wroking with this kind of data, it is important to be familiar with the **codebook**, which documents the design of the study, the survey questions, and the encoding of the reponses. The codebook and user's guide for the NSFG data are available from http://www.cdc.nchs/nsfg/nsfg_cycle6.html"
   ]
  },
  {
   "cell_type": "markdown",
   "metadata": {
    "slideshow": {
     "slide_type": "slide"
    }
   },
   "source": [
    "## <font color='teal'>1.3 Importing the data</font>\n",
    "\n",
    "The code and data used in this book are available from https://github/AllenDowney/ThinkStats2 .\n",
    "Once you download the code, you should have a file called ```ThinkStats2/code/nsfg.py``` . If you run it, it should read a \n",
    "data file, run some tests, and print a message like \"All tests passesd.\"\n",
    "\n",
    "Let's see what it does. Pregnancy data from Cycle 6 of the NSFG is in a filed called ```2002FemPreg.dat.gz```; it is a \n",
    "gzip-compressed data file in plain text (ASCII), with fixed width columns. Each line in the file is a **record** that contains data about one pregnancy.\n",
    "\n",
    "The format of the file is documented in ```2002FemPreg.dct```, which is a Stata dictionary file. Stata is a statistical software system; a \"dictionary\" in this context is a list of variable names, types, and indices that identify where in each line fo find each variable."
   ]
  },
  {
   "cell_type": "code",
   "execution_count": null,
   "metadata": {
    "collapsed": true,
    "slideshow": {
     "slide_type": "slide"
    }
   },
   "outputs": [],
   "source": [
    "# %load '2002FemPreg.dct'\n",
    "infile dictionary {\n",
    "    _column(1)      str12                             caseid  %12s  \"RESPONDENT ID NUMBER\"\n",
    "   _column(13)       byte                           pregordr   %2f  \"PREGNANCY ORDER (NUMBER)\"\n",
    "   _column(15)       byte                          howpreg_n   %2f  \"BB-2 # OF WEEKS OR MONTHS CURRENTLY PREGNANT\"\n",
    "   _column(17)       byte                          howpreg_p   %1f  \"BB-2 CURRENT PREGNANCY LENGTH REPORTED IN MONTHS OR WEEKS\"\n",
    "   _column(18)       byte                           moscurrp   %1f  \"NUMBER OF MONTHS CURRENTLY PREGNANT\"\n",
    "   _column(19)       byte                           nowprgdk   %1f  \"BB-3 WHICH TRIMESTER -- CURRENT PREGNANCY\"\n",
    "   _column(20)       byte                           pregend1   %1f  \"BC-1 HOW PREGNANCY ENDED - 1ST MENTION\"\n",
    "   _column(21)       byte                           pregend2   %1f  \"BC-1 HOW PREGNANCY ENDED - 2ND MENTION\"\n",
    "   _column(22)       byte                           nbrnaliv   %1f  \"BC-2 NUMBER OF BABIES BORN ALIVE FROM THIS PREGNANCY\"\n",
    "   _column(23)       byte                           multbrth   %1f  \"BC-3 WAS THIS A MULTIPLE BIRTH\"\n",
    "   _column(24)        int                           cmotpreg   %4f  \"CM FOR PREGNANCY END DATE (IF NONLIVEBIRTH)\"\n",
    "   _column(28)       byte                         prgoutcome   %1f  \"OUTCOME OF PREGNANCY (BASED ON PRIORITY ORDERING)\"\n",
    "   _column(29)        int                           cmprgend   %4f  \"CM FOR PREGNANCY END DATE (REGARDLESS OF OUTCOME)\"\n",
    "   _column(33)       byte                           flgdkmo1   %1f  \"FLAG INDICATING SEASON/DK/RF FOR BC-4A DATPRGEN_M\"\n",
    "   _column(34)        int                           cmprgbeg   %4f  \"CM FOR PREGNANCY START DATE\"\n",
    "   _column(38)       byte                           ageatend   %2f  \"BC-4B R'S AGE AT PREGNANCY'S END DATE\"\n",
    "   _column(40)       byte                           hpageend   %2f  \"BC-4C FATHER'S AGE AT PREGNANCY'S END DATE\"\n",
    "   _column(42)       byte                         gestasun_m   %2f  \"BC-5 GESTATIONAL LENGTH OF PREGNANCY IN MONTHS\"\n",
    "   _column(44)       byte                         gestasun_w   %2f  \"BC-5 GESTATIONAL LENGTH OF PREGNANCY IN WEEKS\"\n",
    "   _column(46)       byte                            wksgest   %2f  \"GESTATIONAL LENGTH OF COMPLETED PREGNANCY (IN WEEKS)\"\n",
    "   _column(48)       byte                            mosgest   %2f  \"GESTATIONAL LENGTH OF COMPLETED PREGNANCY (IN MONTHS)\"\n",
    "   _column(50)       byte                            dk1gest   %1f  \"BC-6 DK FOLLOWUP FOR GESTATIONAL LENGTH OF A STILLBIRTH\"\n",
    "   _column(51)       byte                            dk2gest   %1f  \"BC-7 DK FOLLOWUP FOR GESTATIONAL LENGTH OF A LIVEBIRTH\"\n",
    "   _column(52)       byte                            dk3gest   %1f  \"BC-8 DK FOLLOWUP FOR GESTATIONAL LENGTH OF A MISCARR/ABOR/ECTOP\"\n",
    "   _column(53)       byte                      bpa_bdscheck1   %1f  \"WHETHER 1ST LIVEBORN BABY FROM THIS PREGNANCY WAS BPA OR BDS\"\n",
    "   _column(54)       byte                      bpa_bdscheck2   %1f  \"WHETHER 2ND LIVEBORN BABY FROM THIS PREGNANCY WAS BPA OR BDS\"\n",
    "   _column(55)       byte                      bpa_bdscheck3   %1f  \"WHETHER 3RD LIVEBORN BABY FROM THIS PREGNANCY WAS BPA OR BDS\"\n",
    "   _column(56)       byte                            babysex   %1f  \"BD-2 SEX OF 1ST LIVEBORN BABY FROM THIS PREGNANCY\"\n",
    "   _column(57)       byte                        birthwgt_lb   %2f  \"BD-3 BIRTHWEIGHT IN POUNDS - 1ST BABY FROM THIS PREGNANCY\"\n",
    "   _column(59)       byte                        birthwgt_oz   %2f  \"BD-3 BIRTHWEIGHT IN OUNCES - 1ST BABY FROM THIS PREGNANCY\"\n",
    "   _column(61)       byte                           lobthwgt   %1f  \"BD-4 IS BABY LOW BIRTHWEIGHT- 1ST BABY FROM THIS PREGNANCY\"\n",
    "   _column(62)       byte                           babysex2   %1f  \"BD-2 SEX OF 2ND LIVEBORN BABY FROM THIS PREGNANCY\"\n",
    "   _column(63)       byte                       birthwgt_lb2   %2f  \"BD-3 BIRTHWEIGHT IN POUNDS - 2ND BABY FROM THIS PREGNANCY\"\n",
    "   _column(65)       byte                       birthwgt_oz2   %2f  \"BD-3 BIRTHWEIGHT IN OUNCES - 2ND BABY FROM THIS PREGNANCY\"\n",
    "   _column(67)       byte                          lobthwgt2   %1f  \"BD-4 IS BABY LOW BIRTHWEIGHT- 2ND BABY FROM THIS PREGNANCY\"\n",
    "   _column(68)       byte                           babysex3   %1f  \"BD-2 SEX OF 3RD LIVEBORN BABY FROM THIS PREGNANCY\"\n",
    "   _column(69)       byte                       birthwgt_lb3   %2f  \"BD-3 BIRTHWEIGHT IN POUNDS - 3RD BABY FROM THIS PREGNANCY\"\n",
    "   _column(71)       byte                       birthwgt_oz3   %2f  \"BD-3 BIRTHWEIGHT IN OUNCES - 3RD BABY FROM THIS PREGNANCY\"\n",
    "   _column(73)       byte                          lobthwgt3   %1f  \"BD-4 IS BABY LOW BIRTHWEIGHT- 3RD BABY FROM THIS PREGNANCY\"\n",
    "   _column(74)        int                           cmbabdob   %4f  \"CM FOR BABY'S OR BABIES' DATE OF BIRTH (DELIVERY DATE)\"\n",
    "   _column(78)        int                             kidage   %4f  \"CURRENT AGE (IN MOS) OF R'S CHILD(REN) FROM THIS PREGNANCY\"\n",
    "   _column(82)       byte                            hpagelb   %2f  \"BD-6 FATHER'S AGE AT TIME OF CHILD(REN) S BIRTH\"\n",
    "   _column(84)       byte                           birthplc   %1f  \"BD-7 PLACE WHERE R GAVE BIRTH\"\n",
    "   _column(85)       byte                          paybirth1   %1f  \"BD-8 PAYMENT FOR DELIVERY - 1ST MENTION\"\n",
    "   _column(86)       byte                          paybirth2   %1f  \"BD-8 PAYMENT FOR DELIVERY - 2ND MENTION\"\n",
    "   _column(87)       byte                          paybirth3   %1f  \"BD-8 PAYMENT FOR DELIVERY - 3RD MENTION\"\n",
    "   _column(88)       byte                           knewpreg   %2f  \"BE-1 WEEKS PREGNANT WHEN R LEARNED SHE WAS PREGNANT\"\n",
    "   _column(90)       byte                           trimestr   %1f  \"BE-2A DK FOLLOWUP FOR KNEWPREG WHEN GESTATION >= 6 MOS\"\n",
    "   _column(91)       byte                           ltrimest   %1f  \"BE-2B DK FOLLOWUP FOR KNEWPREG WHEN GESTATION < 6 MOS\"\n",
    "   _column(92)       byte                           priorsmk   %1f  \"BE-3 AMOUNT R'SMOKED IN 6 MOS BEFORE R KNEW SHE WAS PREGNANT\"\n",
    "   _column(93)       byte                           postsmks   %1f  \"BE-4 R'SMOKED AT ALL AFTER R KNEW SHE WAS PREGNANT\"\n",
    "   _column(94)       byte                           npostsmk   %1f  \"BE-5 AMOUNT R'SMOKED DURING PREGNANCY AFTER R KNEW SHE WAS PREG\"\n",
    "   _column(95)       byte                           getprena   %1f  \"BE-6 ANY PRENATAL CARE FOR THIS PREGNANCY\"\n",
    "   _column(96)       byte                           bgnprena   %2f  \"BE-7 WEEKS PREGNANT AT FIRST PRENATAL CARE VISIT\"\n",
    "   _column(98)       byte                            pnctrim   %1f  \"BE-8A DK FOLLOWUP FOR BGNPRENA WHEN GESTATION >= 6 MOS\"\n",
    "   _column(99)       byte                            lpnctri   %1f  \"BE-8B DK FOLLOWUP FOR BGNPRENA WHEN GESTATION < 6 MOS\"\n",
    "  _column(100)       byte                           workpreg   %1f  \"BF-1 R WORKED AT ALL DURING THIS PREGNANCY\"\n",
    "  _column(101)       byte                           workborn   %1f  \"BF-2 MATERNITY LEAVE TAKEN FOR THIS PREGNANCY\"\n",
    "  _column(102)       byte                            didwork   %1f  \"BF-3 WHY NO MATERNITY LEAVE WAS TAKEN FOR THIS PREGNANCY\"\n",
    "  _column(103)       byte                           matweeks   %2f  \"BF-4 WEEKS OF MATERNITY LEAVE TAKEN FOR THIS PREGNANCY\"\n",
    "  _column(105)       byte                            weeksdk   %1f  \"BF-5 DK FOLLOWUP - WAS MATERNITY LEAVE <=4 OR > 4 WEEKS\"\n",
    "  _column(106)       byte                           matleave   %2f  \"BF-6 WEEKS OF PAID MATERNITY LEAVE FOR THIS PREGNANCY\"\n",
    "  _column(108)       byte                         matchfound   %1f  \"CHECK ON WHETHER CHILD MATCHES BIO CHILD IN HH ROSTER - 1ST\"\n",
    "  _column(109)       byte                           livehere   %1f  \"BG-1 WHETHER CHILD LIVES WITH R - 1ST FROM THIS PREGNANCY\"\n",
    "  _column(110)       byte                           alivenow   %1f  \"BG-2 WHETHER CHILD IS STILL ALIVE - 1ST FROM THIS PREGNANCY\"\n",
    "  _column(111)        int                           cmkidied   %4f  \"CM FOR CHLD'S DATE OF DEATH - 1ST FROM THIS PREGNANCY\"\n",
    "  _column(115)        int                           cmkidlft   %4f  \"CM FOR DATE CHILD STOPPED LIVING W/R - 1ST FROM THIS PREGNANCY\"\n",
    "  _column(119)        int                            lastage   %3f  \"AGE (IN MOS) WHEN CHILD LAST LIVED W/R-1ST FROM THIS PREGNANCY\"\n",
    "  _column(122)       byte                           wherenow   %1f  \"BG-5 WHERE CHILD LIVES NOW - 1ST FROM THIS PREGNANCY\"\n",
    "  _column(123)       byte                           legagree   %1f  \"BG-6 LEGAL AGREEMENT FOR WHERE CHILD LIVES - 1ST FROM THIS PREG\"\n",
    "  _column(124)       byte                           parenend   %1f  \"BG-7 IS R STILL LEGAL MOTHER OF CHILD - 1ST FROM THIS PREGNANCY\"\n",
    "  _column(125)       byte                           anynurse   %1f  \"BH-1 WHETHER R BREASTFED THIS CHILD AT ALL - 1ST FROM THIS PREG\"\n",
    "  _column(126)       byte                           fedsolid   %1f  \"BH-2 HAS R BEGUN SUPPLEMENTATION FOR CHILD - 1ST FROM THIS PREG\"\n",
    "  _column(127)        int                         frsteatd_n   %3f  \"BH-3 AGE (MOS/WKS/DAY) WHEN 1ST SUPPLEMENTED - 1ST FROM THIS PREG\"\n",
    "  _column(130)       byte                         frsteatd_p   %1f  \"BH-3 UNITS (MOS/WKS/DAYS) FOR FRSTEATD_N - 1ST FROM THIS PREG\"\n",
    "  _column(131)        int                           frsteatd   %3f  \"AGE (IN MOS) WHEN 1ST SUPPLEMENTED - 1ST FROM THIS PREG\"\n",
    "  _column(134)       byte                           quitnurs   %1f  \"BH-4 HAS R'STOPPED BREASTFEEDING CHILD - 1ST FROM THIS PREG\"\n",
    "  _column(135)        int                         ageqtnur_n   %3f  \"BH-5 AGE (MOS/WKS/DAY) WHEN STOPPED BREASTFEEDING - 1ST FROM THIS PREG\"\n",
    "  _column(138)       byte                         ageqtnur_p   %1f  \"BH-5 UNITS (MOS/WKS/DAYS) FOR AGEQTNUR_N - 1ST FROM THIS PREG\"\n",
    "  _column(139)        int                           ageqtnur   %3f  \"AGE (IN MOS) WHEN R'STOPPED NURSING CHILD - 1ST FROM THIS PREG\"\n",
    "  _column(142)       byte                        matchfound2   %1f  \"CHECK ON WHETHER CHILD MATCHES BIO CHILD IN HH ROSTER - 2ND\"\n",
    "  _column(143)       byte                          livehere2   %1f  \"BG-1 WHETHER CHILD LIVES WITH R - 2ND FROM THIS PREGNANCY\"\n",
    "  _column(144)       byte                          alivenow2   %1f  \"BG-2 WHETHER CHILD IS STILL ALIVE - 2ND FROM THIS PREGNANCY\"\n",
    "  _column(145)        int                          cmkidied2   %4f  \"CM FOR CHLD'S DATE OF DEATH - 2ND FROM THIS PREGNANCY\"\n",
    "  _column(149)        int                          cmkidlft2   %4f  \"CM FOR DATE CHILD STOPPED LIVING W/R - 2ND FROM THIS PREGNANCY\"\n",
    "  _column(153)        int                           lastage2   %3f  \"AGE (IN MOS) WHEN CHILD LAST LIVED W/R - 2ND FROM THIS PREGNANCY\"\n",
    "  _column(156)       byte                          wherenow2   %1f  \"BG-5 WHERE CHILD LIVES NOW - 2ND FROM THIS PREGNANCY\"\n",
    "  _column(157)       byte                          legagree2   %1f  \"BG-6 LEGAL AGREEMENT FOR WHERE CHILD LIVES - 2ND FROM THIS PREG\"\n",
    "  _column(158)       byte                          parenend2   %1f  \"BG-7 IS R STILL LEGAL MOTHER OF CHILD - 2ND FROM THIS PREGNANCY\"\n",
    "  _column(159)       byte                          anynurse2   %1f  \"BH-1 WHETHER R BREASTFED THIS CHILD AT ALL - 2ND FROM THIS PREG\"\n",
    "  _column(160)       byte                          fedsolid2   %1f  \"BH-2 HAS R BEGUN SUPPLEMENTATION FOR CHILD - 2ND FROM THIS PREG\"\n",
    "  _column(161)       byte                        frsteatd_n2   %2f  \"BH-3 AGE (MOS/WKS/DAY) WHEN 1ST SUPPLEMENTED - 2ND FROM THIS PREG\"\n",
    "  _column(163)       byte                        frsteatd_p2   %1f  \"BH-3 UNITS (MOS/WKS/DAYS) FOR FRSTEATD_N - 2ND FROM THIS PREG\"\n",
    "  _column(164)       byte                          frsteatd2   %2f  \"AGE (IN MOS) WHEN 1ST SUPPLEMENTED - 2ND FROM THIS PREG\"\n",
    "  _column(166)       byte                          quitnurs2   %1f  \"BH-4 HAS R'STOPPED BREASTFEEDING CHILD - 2ND FROM THIS PREG\"\n",
    "  _column(167)       byte                        ageqtnur_n2   %2f  \"BH-5 AGE (MOS/WKS/DAY) WHEN STOPPED BREASTFEEDING - 2ND FROM THIS PREG\"\n",
    "  _column(169)       byte                        ageqtnur_p2   %1f  \"BH-5 UNITS (MOS/WKS/DAYS) FOR AGEQTNUR_N - 2ND FROM THIS PREG\"\n",
    "  _column(170)       byte                          ageqtnur2   %2f  \"AGE (IN MOS) WHEN R'STOPPED NURSING CHILD - 2ND FROM THIS PREG\"\n",
    "  _column(172)       byte                        matchfound3   %1f  \"CHECK ON WHETHER CHILD MATCHES BIO CHILD IN HH ROSTER - 3RD\"\n",
    "  _column(173)       byte                          livehere3   %1f  \"BG-1 WHETHER CHILD LIVES WITH R - 3RD FROM THIS PREGNANCY\"\n",
    "  _column(174)       byte                          alivenow3   %1f  \"BG-2 WHETHER CHILD IS STILL ALIVE - 3RD FROM THIS PREGNANCY\"\n",
    "  _column(175)        int                          cmkidied3   %4f  \"CM FOR CHLD'S DATE OF DEATH - 3RD FROM THIS PREGNANCY\"\n",
    "  _column(179)        int                          cmkidlft3   %4f  \"CM FOR DATE CHILD STOPPED LIVING W/R - 3RD FROM THIS PREGNANCY\"\n",
    "  _column(183)        int                           lastage3   %3f  \"AGE (IN MOS) WHEN CHILD LAST LIVED W/R - 3RD FROM THIS PREGNANCY\"\n",
    "  _column(186)       byte                          wherenow3   %1f  \"BG-5 WHERE CHILD LIVES NOW - 3RD FROM THIS PREGNANCY\"\n",
    "  _column(187)       byte                          legagree3   %1f  \"BG-6 LEGAL AGREEMENT FOR WHERE CHILD LIVES - 3RD FROM THIS PREG\"\n",
    "  _column(188)       byte                          parenend3   %1f  \"BG-7 IS R STILL LEGAL MOTHER OF CHILD - 3RD FROM THIS PREGNANCY\"\n",
    "  _column(189)       byte                          anynurse3   %1f  \"BH-1 WHETHER R BREASTFED THIS CHILD AT ALL - 3RD FROM THIS PREG\"\n",
    "  _column(190)       byte                          fedsolid3   %1f  \"BH-2 HAS R BEGUN SUPPLEMENTATION FOR CHILD - 3RD FROM THIS PREG\"\n",
    "  _column(191)       byte                        frsteatd_n3   %1f  \"BH-3 AGE (MOS/WKS/DAY) WHEN 1ST SUPPLEMENTED - 3RD FROM THIS PREG\"\n",
    "  _column(192)       byte                        frsteatd_p3   %1f  \"BH-3 UNITS (MOS/WKS/DAYS) FOR FRSTEATD_N - 3RD FROM THIS PREG\"\n",
    "  _column(193)       byte                          frsteatd3   %1f  \"AGE (IN MOS) WHEN 1ST SUPPLEMENTED - 3RD FROM THIS PREG\"\n",
    "  _column(194)       byte                          quitnurs3   %1f  \"BH-4 HAS R'STOPPED BREASTFEEDING CHILD - 3RD FROM THIS PREG\"\n",
    "  _column(195)       byte                        ageqtnur_n3   %1f  \"BH-5 AGE (MOS/WKS/DAY) WHEN STOPPED BREASTFEEDING - 3RD FROM THIS PREG\"\n",
    "  _column(196)       byte                        ageqtnur_p3   %1f  \"BH-5 UNITS (MOS/WKS/DAYS) FOR AGEQTNUR_N - 3RD FROM THIS PREG\"\n",
    "  _column(197)       byte                          ageqtnur3   %1f  \"AGE (IN MOS) WHEN R'STOPPED NURSING CHILD - 3RD FROM THIS PREG\"\n",
    "  _column(198)        int                           cmlastlb   %4f  \"CM FOR R'S MOST RECENT LIVE BIRTH\"\n",
    "  _column(202)        int                           cmfstprg   %4f  \"CM FOR R'S FIRST COMPLETED PREGNANCY\"\n",
    "  _column(206)        int                           cmlstprg   %4f  \"CM FOR R'S MOST RECENT COMPLETED PREGNANCY\"\n",
    "  _column(210)        int                           cmintstr   %4f  \"CM FOR DATE OF BEGINNING OF PREGNANCY INTERVAL\"\n",
    "  _column(214)        int                           cmintfin   %4f  \"CM FOR DATE OF END OF PREGNANCY INTERVAL\"\n",
    "  _column(218)        int                         cmintstrop   %4f  \"OPEN INTERVAL: CM OF DATE OF BEGINNING\"\n",
    "  _column(222)        int                         cmintfinop   %4f  \"OPEN INTERVAL: CM OF DATE OF END (MON OF INTERVIEW)\"\n",
    "  _column(226)        int                         cmintstrcr   %4f  \"CURRENTLY PREGNANT: CM OF DATE OF BEGINNING OF INTERVAL\"\n",
    "  _column(230)        int                         cmintfincr   %4f  \"CURRENTLY PREGNANT: CM OF DATE OF END OF INTERVAL (MON OF INTERVIEW)\"\n",
    "  _column(234)       byte                           evuseint   %1f  \"EG-1 USE ANY METHOD IN PREGNANCY INTERVAL?\"\n",
    "  _column(235)       byte                           stopduse   %1f  \"EG-2 BEFORE YOU BECAME PREG, STOP USING ALL METHODS?\"\n",
    "  _column(236)       byte                           whystopd   %1f  \"EG-3 STOP USING METHODS BEFORE PREG BECAUSE WANTED PREG?\"\n",
    "  _column(237)       byte                         whatmeth01   %2f  \"EG-4 METHOD(S) USING WHEN BECAME PREG - 1ST MENTION\"\n",
    "  _column(239)       byte                         whatmeth02   %2f  \"EG-4 METHOD(S) USING WHEN BECAME PREG - 2ND MENTION\"\n",
    "  _column(241)       byte                         whatmeth03   %2f  \"EG-4 METHOD(S) USING WHEN BECAME PREG - 3RD MENTION\"\n",
    "  _column(243)       byte                         whatmeth04   %2f  \"EG-4 METHOD(S) USING WHEN BECAME PREG - 4TH MENTION\"\n",
    "  _column(245)       byte                           resnouse   %1f  \"EG-5 REASON NOT USING/HAD STOPPED USING METHOD BEC. WANTED PREG?\"\n",
    "  _column(246)       byte                           wantbold   %1f  \"EG-6 RIGHT BEF PREG, WANT TO HAVE BABY AT ANY TIME IN FUTURE?\"\n",
    "  _column(247)       byte                           probbabe   %1f  \"EG-7 PROBABLY WANT BABY AT ANY TIME OR NOT?\"\n",
    "  _column(248)       byte                            cnfrmno   %1f  \"EG-8 VERIFY DIDN'T WANT BABY AT ANY TIME IN FUTURE\"\n",
    "  _column(249)       byte                           wantbld2   %1f  \"EG-9 RIGHT BEFORE PREG, WANT TO HAVE BABY AT ANY TIME IN FUTURE? (2ND ASKING)\"\n",
    "  _column(250)       byte                           timingok   %1f  \"EG-10 BECOME PREG TOO SOON, RIGHT TIME, OR LATER THAN YOU WANTED?\"\n",
    "  _column(251)        int                          toosoon_n   %3f  \"EG-11 HOW MUCH SOONER THAN WANTED BECAME PREG (MONTHS OR YEARS)\"\n",
    "  _column(254)       byte                          toosoon_p   %1f  \"EG-11 CHOOSE MONS OR YRS FOR HOW MUCH SOONER BECAME PREG THAN WANTED\"\n",
    "  _column(255)       byte                           wthpart1   %1f  \"EG-12A RIGHT BEFORE PREG, WANT TO HAVE BABY WITH THAT PARTNER?\"\n",
    "  _column(256)       byte                           wthpart2   %1f  \"EG-12B RIGHT BEF. PREG, THINK MIGHT EVER WANT TO HAVE BABY W/THAT PARTNER?\"\n",
    "  _column(257)       byte                           feelinpg   %2f  \"EG-13 HAPPINESS TO BE PREG. SCALE (1-10)\"\n",
    "  _column(259)       byte                            hpwnold   %1f  \"EG-16 RIGHT BEF PREG, DID THE FATHER WANT R TO HAVE BABY AT ANY TIME IN FUTURE?\"\n",
    "  _column(260)       byte                            timokhp   %1f  \"EG-17 R BECAME PREG SOONER, RIGHT TIME, OR LATER THAN FATHER OF PREG WANTED\"\n",
    "  _column(261)       byte                            cohpbeg   %1f  \"EG-18A WAS R LIVING W/FATHER OF PREG AT BEGINNING OF PREG\"\n",
    "  _column(262)       byte                            cohpend   %1f  \"EG-18B WAS R LIVING W/FATHER OF PREG WHEN PREG ENDED/BABY WAS BORN\"\n",
    "  _column(263)       byte                           tellfath   %1f  \"EG-19 DID R TELL FATHER OF PREG THAT SHE WAS PREGNANT\"\n",
    "  _column(264)       byte                           whentell   %1f  \"EG-20 WHEN DID R TELL FATHER OF PREG ABOUT PREGNANCY: DURING OR AFTER?\"\n",
    "  _column(265)       byte                           tryscale   %2f  \"EG-21 HOW HARD TRYING TO GET/AVOID PREGNANCY (0-10)\"\n",
    "  _column(267)       byte                           wantscal   %2f  \"EG-22 HOW MUCH WANTED TO GET/AVOID PREGNANCY (0-10)\"\n",
    "  _column(269)       byte                            whyprg1   %1f  \"EG-23 (UNINTENDED PREG): METHOD FAIL OR R WASN T USING PROPERLY-1ST MENTION\"\n",
    "  _column(270)       byte                            whyprg2   %1f  \"EG-23 (UNINTENDED PREG): METHOD FAIL OR R WASN T USING PROPERLY-2ND MENTION\"\n",
    "  _column(271)       byte                          whynouse1   %1f  \"EG-24 (UNINTENDED PREG) REASON DIDN'T USE METHOD - 1ST MENTION\"\n",
    "  _column(272)       byte                          whynouse2   %1f  \"EG-24 (UNINTENDED PREG) REASON DIDN'T USE METHOD - 2ND MENTION\"\n",
    "  _column(273)       byte                          whynouse3   %1f  \"EG-24 (UNINTENDED PREG) REASON DIDN'T USE METHOD - 3RD MENTION\"\n",
    "  _column(274)       byte                           anyusint   %1f  \"ANY METHOD USE IN PREGNANCY INTERVAL\"\n",
    "  _column(275)       byte                           prglngth   %2f  \"DURATION OF COMPLETED PREGNANCY IN WEEKS\"\n",
    "  _column(277)       byte                            outcome   %1f  \"PREGNANCY OUTCOME\"\n",
    "  _column(278)       byte                           birthord   %2f  \"BIRTH ORDER\"\n",
    "  _column(280)        int                             datend   %4f  \"CM DATE PREGNANCY ENDED\"\n",
    "  _column(284)        int                            agepreg   %4f  \"AGE AT PREGNANCY OUTCOME\"\n",
    "  _column(288)        int                            datecon   %4f  \"CM DATE OF CONCEPTION\"\n",
    "  _column(292)        int                             agecon   %4f  \"AGE AT TIME OF CONCEPTION\"\n",
    "  _column(296)       byte                           fmarout5   %1f  \"FORMAL MARITAL STATUS AT PREGNANCY OUTCOME\"\n",
    "  _column(297)       byte                           pmarpreg   %1f  \"WHETHER PREGNANCY ENDED BEFORE R'S 1ST MARRIAGE (PREMARITALLY)\"\n",
    "  _column(298)       byte                           rmarout6   %1f  \"INFORMAL MARITAL STATUS AT PREGNANCY OUTCOME - 6 CATEGORIES\"\n",
    "  _column(299)       byte                           fmarcon5   %1f  \"FORMAL MARITAL STATUS AT CONCEPTION - 5 CATEGORIES\"\n",
    "  _column(300)       byte                           learnprg   %2f  \"NUMBER OF WEEKS PREGNANT WHEN R LEARNED SHE WAS PREGNANT\"\n",
    "  _column(302)       byte                           pncarewk   %2f  \"NUMBER OF WEEKS PREGNANT AT FIRST PRENATAL CARE\"\n",
    "  _column(304)       byte                           paydeliv   %1f  \"PAYMENT FOR DELIVERY\"\n",
    "  _column(305)       byte                               lbw1   %1f  \"LOW BIRTHWEIGHT - BABY 1\"\n",
    "  _column(306)        int                           bfeedwks   %3f  \"DURATION OF BREASTFEEDING IN WEEKS\"\n",
    "  _column(309)       byte                           maternlv   %1f  \"USE OF MATERNITY LEAVE\"\n",
    "  _column(310)       byte                           oldwantr   %1f  \"WANTEDNESS OF PREGNANCY - RESPONDENT - CYCLE 4 VERSION\"\n",
    "  _column(311)       byte                           oldwantp   %1f  \"WANTEDNESS OF PREG - R'S PARTNER (FATHER OF PREGNANCY) - CYCLE 4 VERSION\"\n",
    "  _column(312)       byte                           wantresp   %1f  \"WANTEDNESS OF PREGNANCY - RESPONDENT - CYCLE 5 VERSION\"\n",
    "  _column(313)       byte                           wantpart   %1f  \"WANTEDNESS OF PREG - R'S PARTNER (FATHER OF PREGNANCY) - CYCLE 5 VERSION\"\n",
    "  _column(314)        int                            cmbirth   %4f  \"CENTURY MONTH OF R'S BIRTH\"\n",
    "  _column(318)       byte                               ager   %2f  \"AGE AT INTERVIEW\"\n",
    "  _column(320)       byte                            agescrn   %2f  \"R'S AGE AT SCREENER\"\n",
    "  _column(322)       byte                           fmarital   %1f  \"FORMAL MARITAL STATUS\"\n",
    "  _column(323)       byte                           rmarital   %1f  \"INFORMAL MARITAL STATUS\"\n",
    "  _column(324)       byte                             educat   %2f  \"EDUCATION (COMPLETED YEARS OF SCHOOLING)\"\n",
    "  _column(326)       byte                             hieduc   %2f  \"HIGHEST COMPLETED YEAR OF SCHOOL OR DEGREE\"\n",
    "  _column(328)       byte                               race   %1f  \"RACE\"\n",
    "  _column(329)       byte                           hispanic   %1f  \"HISPANIC ORIGIN\"\n",
    "  _column(330)       byte                           hisprace   %1f  \"RACE AND HISPANIC ORIGIN\"\n",
    "  _column(331)       byte                           rcurpreg   %1f  \"PREGNANT AT TIME OF INTERVIEW\"\n",
    "  _column(332)       byte                            pregnum   %2f  \"CAPI-BASED TOTAL NUMBER OF PREGNANCIES\"\n",
    "  _column(334)       byte                             parity   %2f  \"TOTAL NUMBER OF LIVE BIRTHS\"\n",
    "  _column(336)       byte                           insuranc   %1f  \"HEALTH INSURANCE COVERAGE STATUS\"\n",
    "  _column(337)       byte                           pubassis   %1f  \"WHETHER R RECEIVED PUBLIC ASSISTANCE IN 2001\"\n",
    "  _column(338)        int                            poverty   %3f  \"POVERTY LEVEL INCOME\"\n",
    "  _column(341)       byte                           laborfor   %1f  \"LABOR FORCE STATUS\"\n",
    "  _column(342)       byte                           religion   %1f  \"CURRENT RELIGIOUS AFFILIATION\"\n",
    "  _column(343)       byte                              metro   %1f  \"PLACE OF RESIDENCE (METROPOLITAN / NONMETROPOLITAN)\"\n",
    "  _column(344)       byte                             brnout   %1f  \"IB-8 R BORN OUTSIDE OF US\"\n",
    "  _column(345)        int                            yrstrus   %4f  \"YEAR R CAME TO THE UNITED STATES\"\n",
    "  _column(349)       byte                         prglngth_i   %1f  \"PRGLNGTH IMPUTATION FLAG\"\n",
    "  _column(350)       byte                          outcome_i   %1f  \"OUTCOME IMPUTATION FLAG\"\n",
    "  _column(351)       byte                         birthord_i   %1f  \"BIRTHORD IMPUTATION FLAG\"\n",
    "  _column(352)       byte                           datend_i   %1f  \"DATEND IMPUTATION FLAG\"\n",
    "  _column(353)       byte                          agepreg_i   %1f  \"AGEPREG IMPUTATION FLAG\"\n",
    "  _column(354)       byte                          datecon_i   %1f  \"DATECON IMPUTATION FLAG\"\n",
    "  _column(355)       byte                           agecon_i   %1f  \"AGECON IMPUTATION FLAG\"\n",
    "  _column(356)       byte                         fmarout5_i   %1f  \"FMAROUT5 IMPUTATION FLAG\"\n",
    "  _column(357)       byte                         pmarpreg_i   %1f  \"PMARPREG IMPUTATION FLAG\"\n",
    "  _column(358)       byte                         rmarout6_i   %1f  \"RMAROUT6 IMPUTATION FLAG\"\n",
    "  _column(359)       byte                         fmarcon5_i   %1f  \"FMARCON5 IMPUTATION FLAG\"\n",
    "  _column(360)       byte                         learnprg_i   %1f  \"LEARNPRG IMPUTATION FLAG\"\n",
    "  _column(361)       byte                         pncarewk_i   %1f  \"PNCAREWK IMPUTATION FLAG\"\n",
    "  _column(362)       byte                         paydeliv_i   %1f  \"PAYDELIV IMPUTATION FLAG\"\n",
    "  _column(363)       byte                             lbw1_i   %1f  \"LBW1 IMPUTATION FLAG\"\n",
    "  _column(364)       byte                         bfeedwks_i   %1f  \"BFEEDWKS IMPUTATION FLAG\"\n",
    "  _column(365)       byte                         maternlv_i   %1f  \"MATERNLV IMPUTATION FLAG\"\n",
    "  _column(366)       byte                         oldwantr_i   %1f  \"OLDWANTR IMPUTATION FLAG\"\n",
    "  _column(367)       byte                         oldwantp_i   %1f  \"OLDWANTP IMPUTATION FLAG\"\n",
    "  _column(368)       byte                         wantresp_i   %1f  \"WANTRESP IMPUTATION FLAG\"\n",
    "  _column(369)       byte                         wantpart_i   %1f  \"WANTPART IMPUTATION FLAG\"\n",
    "  _column(370)       byte                             ager_i   %1f  \"AGER IMPUTATION FLAG\"\n",
    "  _column(371)       byte                         fmarital_i   %1f  \"FMARITAL IMPUTATION FLAG\"\n",
    "  _column(372)       byte                         rmarital_i   %1f  \"RMARITAL IMPUTATION FLAG\"\n",
    "  _column(373)       byte                           educat_i   %1f  \"EDUCAT IMPUTATION FLAG\"\n",
    "  _column(374)       byte                           hieduc_i   %1f  \"HIEDUC IMPUTATION FLAG\"\n",
    "  _column(375)       byte                             race_i   %1f  \"RACE IMPUTATION FLAG\"\n",
    "  _column(376)       byte                         hispanic_i   %1f  \"HISPANIC IMPUTATION FLAG\"\n",
    "  _column(377)       byte                         hisprace_i   %1f  \"HISPRACE IMPUTATION FLAG\"\n",
    "  _column(378)       byte                         rcurpreg_i   %1f  \"RCURPREG IMPUTATION FLAG\"\n",
    "  _column(379)       byte                          pregnum_i   %1f  \"PREGNUM IMPUTATION FLAG\"\n",
    "  _column(380)       byte                           parity_i   %1f  \"PARITY IMPUTATION FLAG\"\n",
    "  _column(381)       byte                         insuranc_i   %1f  \"INSURANC IMPUTATION FLAG\"\n",
    "  _column(382)       byte                         pubassis_i   %1f  \"PUBASSIS IMPUTATION FLAG\"\n",
    "  _column(383)       byte                          poverty_i   %1f  \"POVERTY IMPUTATION FLAG\"\n",
    "  _column(384)       byte                         laborfor_i   %1f  \"LABORFOR IMPUTATION FLAG\"\n",
    "  _column(385)       byte                         religion_i   %1f  \"RELIGION IMPUTATION FLAG\"\n",
    "  _column(386)       byte                            metro_i   %1f  \"METRO IMPUTATION FLAG\"\n",
    "  _column(387)      float                            basewgt  %18f  \"BASE WEIGHT\"\n",
    "  _column(405)     double                    adj_mod_basewgt  %18f  \"ADJUSTED MODIFIED BASE WEIGHT\"\n",
    "  _column(423)     double                           finalwgt  %18f  \"FINAL POST-STRATIFIED AND ADJUSTED WEIGHT\"\n",
    "  _column(441)       byte                             secu_p   %1f  \"SCRAMBLED VERSION OF THE SAMPLING ERROR COMPUTATIONAL UNIT\"\n",
    "  _column(442)       byte                               sest   %2f  \"SCRAMBLED VERSION OF THE STRATUM\"\n",
    "  _column(444)        int                            cmintvw   %4f  \"CENTURY MONTH OF INTERVIEW DATE\"\n",
    "\t}\n"
   ]
  },
  {
   "cell_type": "markdown",
   "metadata": {
    "slideshow": {
     "slide_type": "slide"
    }
   },
   "source": [
    "This dictionary describes two variables: ```caseid``` is a 12-character string that represents the resondent ID; ```pregorder``` is a one-byte integer that indicates which pregnancy this record describes for this respondent.\n",
    "\n",
    "The code you downloaded includes ```thinkstats2.py```, which is a Python module that contains many classes and functions used in this book, including functions that read the Stata dictionary and the NSFG data file. "
   ]
  },
  {
   "cell_type": "code",
   "execution_count": null,
   "metadata": {
    "collapsed": true,
    "slideshow": {
     "slide_type": "slide"
    }
   },
   "outputs": [],
   "source": [
    "# %load nsfg.py\n",
    "\"\"\"This file contains code for use with \"Think Stats\",\n",
    "by Allen B. Downey, available from greenteapress.com\n",
    "\n",
    "Copyright 2010 Allen B. Downey\n",
    "License: GNU GPLv3 http://www.gnu.org/licenses/gpl.html\n",
    "\"\"\"\n",
    "\n",
    "from __future__ import print_function\n",
    "\n",
    "from collections import defaultdict\n",
    "import numpy as np\n",
    "import sys\n",
    "\n",
    "import thinkstats2\n",
    "\n",
    "\n",
    "def ReadFemPreg(dct_file='2002FemPreg.dct',\n",
    "                dat_file='2002FemPreg.dat.gz'):\n",
    "    \"\"\"Reads the NSFG pregnancy data.\n",
    "\n",
    "    dct_file: string file name\n",
    "    dat_file: string file name\n",
    "\n",
    "    returns: DataFrame\n",
    "    \"\"\"\n",
    "    dct = thinkstats2.ReadStataDct(dct_file)\n",
    "    df = dct.ReadFixedWidth(dat_file, compression='gzip')\n",
    "    CleanFemPreg(df)\n",
    "    return df\n",
    "\n",
    "\n",
    "def CleanFemPreg(df):\n",
    "    \"\"\"Recodes variables from the pregnancy frame.\n",
    "\n",
    "    df: DataFrame\n",
    "    \"\"\"\n",
    "    # mother's age is encoded in centiyears; convert to years\n",
    "    df.agepreg /= 100.0\n",
    "\n",
    "    # birthwgt_lb contains at least one bogus value (51 lbs)\n",
    "    # replace with NaN\n",
    "    df.loc[df.birthwgt_lb > 20, 'birthwgt_lb'] = np.nan\n",
    "    \n",
    "    # replace 'not ascertained', 'refused', 'don't know' with NaN\n",
    "    na_vals = [97, 98, 99]\n",
    "    df.birthwgt_lb.replace(na_vals, np.nan, inplace=True)\n",
    "    df.birthwgt_oz.replace(na_vals, np.nan, inplace=True)\n",
    "    df.hpagelb.replace(na_vals, np.nan, inplace=True)\n",
    "\n",
    "    df.babysex.replace([7, 9], np.nan, inplace=True)\n",
    "    df.nbrnaliv.replace([9], np.nan, inplace=True)\n",
    "\n",
    "    # birthweight is stored in two columns, lbs and oz.\n",
    "    # convert to a single column in lb\n",
    "    # NOTE: creating a new column requires dictionary syntax,\n",
    "    # not attribute assignment (like df.totalwgt_lb)\n",
    "    df['totalwgt_lb'] = df.birthwgt_lb + df.birthwgt_oz / 16.0    \n",
    "\n",
    "    # due to a bug in ReadStataDct, the last variable gets clipped;\n",
    "    # so for now set it to NaN\n",
    "    df.cmintvw = np.nan\n",
    "\n",
    "\n",
    "def MakePregMap(df):\n",
    "    \"\"\"Make a map from caseid to list of preg indices.\n",
    "\n",
    "    df: DataFrame\n",
    "\n",
    "    returns: dict that maps from caseid to list of indices into preg df\n",
    "    \"\"\"\n",
    "    d = defaultdict(list)\n",
    "    for index, caseid in df.caseid.iteritems():\n",
    "        d[caseid].append(index)\n",
    "    return d\n",
    "\n",
    "\n",
    "def main(script):\n",
    "    \"\"\"Tests the functions in this module.\n",
    "\n",
    "    script: string script name\n",
    "    \"\"\"\n",
    "    df = ReadFemPreg()\n",
    "    print(df.shape)\n",
    "\n",
    "    assert len(df) == 13593\n",
    "\n",
    "    assert df.caseid[13592] == 12571\n",
    "    assert df.pregordr.value_counts()[1] == 5033\n",
    "    assert df.nbrnaliv.value_counts()[1] == 8981\n",
    "    assert df.babysex.value_counts()[1] == 4641\n",
    "    assert df.birthwgt_lb.value_counts()[7] == 3049\n",
    "    assert df.birthwgt_oz.value_counts()[0] == 1037\n",
    "    assert df.prglngth.value_counts()[39] == 4744\n",
    "    assert df.outcome.value_counts()[1] == 9148\n",
    "    assert df.birthord.value_counts()[1] == 4413\n",
    "    assert df.agepreg.value_counts()[22.75] == 100\n",
    "    assert df.totalwgt_lb.value_counts()[7.5] == 302\n",
    "\n",
    "    weights = df.finalwgt.value_counts()\n",
    "    key = max(weights.keys())\n",
    "    assert df.finalwgt.value_counts()[key] == 6\n",
    "\n",
    "    print('%s: All tests passed.' % script)\n",
    "\n",
    "if __name__ == '__main__':\n",
    "    main(*sys.argv)\n"
   ]
  },
  {
   "cell_type": "code",
   "execution_count": null,
   "metadata": {
    "collapsed": true
   },
   "outputs": [],
   "source": []
  }
 ],
 "metadata": {
  "celltoolbar": "Slideshow",
  "kernelspec": {
   "display_name": "Python 3",
   "language": "python",
   "name": "python3"
  },
  "language_info": {
   "codemirror_mode": {
    "name": "ipython",
    "version": 3
   },
   "file_extension": ".py",
   "mimetype": "text/x-python",
   "name": "python",
   "nbconvert_exporter": "python",
   "pygments_lexer": "ipython3",
   "version": "3.5.1"
  },
  "widgets": {
   "state": {},
   "version": "1.1.2"
  }
 },
 "nbformat": 4,
 "nbformat_minor": 0
}
