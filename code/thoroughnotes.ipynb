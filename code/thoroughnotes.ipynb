{
 "cells": [
  {
   "cell_type": "code",
   "execution_count": 1,
   "metadata": {
    "collapsed": true,
    "slideshow": {
     "slide_type": "slide"
    }
   },
   "outputs": [],
   "source": [
    "import numpy as np\n",
    "import pandas as pd\n",
    "import matplotlib.pyplot as plt\n",
    "from pandas import Series, DataFrame\n",
    "import pytz\n",
    "from pytz import common_timezones, all_timezones\n",
    "import matplotlib\n",
    "matplotlib.style.use('ggplot')\n",
    "%matplotlib inline\n",
    "from datetime import datetime"
   ]
  },
  {
   "cell_type": "markdown",
   "metadata": {
    "slideshow": {
     "slide_type": "slide"
    }
   },
   "source": [
    "## Chapter 0 Preface\n",
    "\n",
    "This book is an introduction to the practical tools of exploratory data analysis. The organization of the book follows the process I use when I start working with a dataset:\n",
    "\n",
    "* Importing and cleaning: Whatever format the data is in, it usually takes some time and effort to read the data, clean and transform it, and check that everything made it through the translation process intact.\n",
    "* Single variable explorations: I usually start by examining one variable at a time, finding out what the variables mean, looking at distributions of the values, and choosing apprpriate summary statistics\n",
    "* Pair-wise explorations: To identify possible relationships between variables, I look at tables and scatter plots, and compute correlations and linear fits\n",
    "* Multivariate analysis: If there are apparent relationships between variables, I use multiple regression to add control variables and investigate more complex relationships\n",
    "* Estimation and hypothesis testing: When reporting statistical results, it is important to answer three questions: How big is the effect? How much variability should we expect if we run the same measurement again? Is it possible that the apparent effect is due to chance?\n",
    "* Visualization: During exploration, visualization is an important tool for finding possible relationships and effects. Then if an apparent effect holds up to scrutiny, visualization is an effective way to communicate results."
   ]
  },
  {
   "cell_type": "markdown",
   "metadata": {
    "slideshow": {
     "slide_type": "slide"
    }
   },
   "source": [
    "http://nbviewer.jupyter.org/github/barbagroup/AeroPython/blob/master/lessons/01_Lesson01_sourceSink.ipynb"
   ]
  },
  {
   "cell_type": "code",
   "execution_count": 3,
   "metadata": {
    "collapsed": false,
    "slideshow": {
     "slide_type": "skip"
    }
   },
   "outputs": [],
   "source": [
    "#from IPython.core.display import HTML\n",
    "#def css_styling():\n",
    "#    styles = open('../styles/custom.css', 'r').read()\n",
    "#    return HTML(styles)\n",
    "#css_styling()"
   ]
  },
  {
   "cell_type": "markdown",
   "metadata": {
    "collapsed": true,
    "slideshow": {
     "slide_type": "slide"
    }
   },
   "source": [
    "This book takes a comuational approach, which has several advantages over mathematical approaches:\n",
    "\n",
    "* I present most ideas using Python code, rather than mathematical notation. In general, Python code is more readable; also, because it is executable, readers can download it, run it, and modify it.\n",
    "* Each chapter includes exercises readers can do to develop and solidify their learning. When you write programs, you express your understanding in code; while you are debugging the program, you are also correcting your understanding."
   ]
  },
  {
   "cell_type": "markdown",
   "metadata": {
    "slideshow": {
     "slide_type": "slide"
    }
   },
   "source": [
    "* Some exercises involve experiments to test statistical behavior. For example, you can explore the Central Limit Theorem (CLT) by generating random samples and computing their sums. The resulting visiualizations demonstrate why the CLT works and and when it doesn't.\n",
    "* Some ideas that are hard to grasp mathematically are easy to understand by simulation. For example, we approximate p-values by running random simulations, which reinforces the meaning of the p-value.\n",
    "* Because the book is based on a general-purpose programming language (Python), readers can import data from almost any source. They are not limited to datasets that have been cleaned and formatted for a partciular statistics tool."
   ]
  },
  {
   "cell_type": "markdown",
   "metadata": {
    "slideshow": {
     "slide_type": "slide"
    }
   },
   "source": [
    "The book lends itself to a project-based approach. In my class, students work on a semester-long project that requires them to pose a statistical question, find a dataset that can address it, and apply each of the techniques they learn to their own data."
   ]
  },
  {
   "cell_type": "code",
   "execution_count": 4,
   "metadata": {
    "collapsed": false,
    "slideshow": {
     "slide_type": "slide"
    }
   },
   "outputs": [
    {
     "data": {
      "text/html": [
       "/**\n",
       " * A simple theme for reveal.js presentations, similar\n",
       " * to the default theme. The accent color is brown.\n",
       " *\n",
       " * This theme is Copyright (C) 2012-2013 Owen Versteeg, http://owenversteeg.com - it is MIT licensed.\n",
       " */\n",
       ".reveal a {\n",
       "  line-height: 1.3em; }\n",
       "\n",
       "/*********************************************\n",
       " * GLOBAL STYLES\n",
       " *********************************************/\n",
       "body {\n",
       "  background: #F0F1EB;\n",
       "  background-color: #F0F1EB; }\n",
       "\n",
       ".reveal {\n",
       "  font-family: \"Palatino Linotype\", \"Book Antiqua\", Palatino, FreeSerif, serif;\n",
       "  font-size: 36px;\n",
       "  font-weight: normal;\n",
       "  color: #000; }\n",
       "\n",
       "::selection {\n",
       "  color: #fff;\n",
       "  background: #26351C;\n",
       "  text-shadow: none; }\n",
       "\n",
       ".reveal .slides > section,\n",
       ".reveal .slides > section > section {\n",
       "  line-height: 1.3;\n",
       "  font-weight: inherit; }\n",
       "\n",
       "/*********************************************\n",
       " * HEADERS\n",
       " *********************************************/\n",
       ".reveal h1,\n",
       ".reveal h2,\n",
       ".reveal h3,\n",
       ".reveal h4,\n",
       ".reveal h5,\n",
       ".reveal h6 {\n",
       "  margin: 0 0 20px 0;\n",
       "  color: #383D3D;\n",
       "  font-family: \"Palatino Linotype\", \"Book Antiqua\", Palatino, FreeSerif, serif;\n",
       "  font-weight: normal;\n",
       "  line-height: 1.2;\n",
       "  letter-spacing: normal;\n",
       "  text-transform: none;\n",
       "  text-shadow: none;\n",
       "  word-wrap: break-word; }\n",
       "\n",
       ".reveal h1 {\n",
       "  font-size: 3.77em; }\n",
       "\n",
       ".reveal h2 {\n",
       "  font-size: 2.11em; }\n",
       "\n",
       ".reveal h3 {\n",
       "  font-size: 1.55em; }\n",
       "\n",
       ".reveal h4 {\n",
       "  font-size: 1em; }\n",
       "\n",
       ".reveal h1 {\n",
       "  text-shadow: none; }\n",
       "\n",
       "/*********************************************\n",
       " * OTHER\n",
       " *********************************************/\n",
       ".reveal p {\n",
       "  margin: 20px 0;\n",
       "  line-height: 1.3; }\n",
       "\n",
       "/* Ensure certain elements are never larger than the slide itself */\n",
       ".reveal img,\n",
       ".reveal video,\n",
       ".reveal iframe {\n",
       "  max-width: 95%;\n",
       "  max-height: 95%; }\n",
       "\n",
       ".reveal strong,\n",
       ".reveal b {\n",
       "  font-weight: bold; }\n",
       "\n",
       ".reveal em {\n",
       "  font-style: italic; }\n",
       "\n",
       ".reveal ol,\n",
       ".reveal dl,\n",
       ".reveal ul {\n",
       "  display: inline-block;\n",
       "  text-align: left;\n",
       "  margin: 0 0 0 1em; }\n",
       "\n",
       ".reveal ol {\n",
       "  list-style-type: decimal; }\n",
       "\n",
       ".reveal ul {\n",
       "  list-style-type: disc; }\n",
       "\n",
       ".reveal ul ul {\n",
       "  list-style-type: square; }\n",
       "\n",
       ".reveal ul ul ul {\n",
       "  list-style-type: circle; }\n",
       "\n",
       ".reveal ul ul,\n",
       ".reveal ul ol,\n",
       ".reveal ol ol,\n",
       ".reveal ol ul {\n",
       "  display: block;\n",
       "  margin-left: 40px; }\n",
       "\n",
       ".reveal dt {\n",
       "  font-weight: bold; }\n",
       "\n",
       ".reveal dd {\n",
       "  margin-left: 40px; }\n",
       "\n",
       ".reveal q,\n",
       ".reveal blockquote {\n",
       "  quotes: none; }\n",
       "\n",
       ".reveal blockquote {\n",
       "  display: block;\n",
       "  position: relative;\n",
       "  width: 70%;\n",
       "  margin: 20px auto;\n",
       "  padding: 5px;\n",
       "  font-style: italic;\n",
       "  background: rgba(255, 255, 255, 0.05);\n",
       "  box-shadow: 0px 0px 2px rgba(0, 0, 0, 0.2); }\n",
       "\n",
       ".reveal blockquote p:first-child,\n",
       ".reveal blockquote p:last-child {\n",
       "  display: inline-block; }\n",
       "\n",
       ".reveal q {\n",
       "  font-style: italic; }\n",
       "\n",
       ".reveal pre {\n",
       "  display: block;\n",
       "  position: relative;\n",
       "  width: 90%;\n",
       "  margin: 20px auto;\n",
       "  text-align: left;\n",
       "  font-size: 0.55em;\n",
       "  font-family: monospace;\n",
       "  line-height: 1.2em;\n",
       "  word-wrap: break-word;\n",
       "  box-shadow: 0px 0px 6px rgba(0, 0, 0, 0.3); }\n",
       "\n",
       ".reveal code {\n",
       "  font-family: monospace; }\n",
       "\n",
       ".reveal pre code {\n",
       "  display: block;\n",
       "  padding: 5px;\n",
       "  overflow: auto;\n",
       "  max-height: 400px;\n",
       "  word-wrap: normal; }\n",
       "\n",
       ".reveal table {\n",
       "  margin: auto;\n",
       "  border-collapse: collapse;\n",
       "  border-spacing: 0; }\n",
       "\n",
       ".reveal table th {\n",
       "  font-weight: bold; }\n",
       "\n",
       ".reveal table th,\n",
       ".reveal table td {\n",
       "  text-align: left;\n",
       "  padding: 0.2em 0.5em 0.2em 0.5em;\n",
       "  border-bottom: 1px solid; }\n",
       "\n",
       ".reveal table th[align=\"center\"],\n",
       ".reveal table td[align=\"center\"] {\n",
       "  text-align: center; }\n",
       "\n",
       ".reveal table th[align=\"right\"],\n",
       ".reveal table td[align=\"right\"] {\n",
       "  text-align: right; }\n",
       "\n",
       ".reveal table tr:last-child td {\n",
       "  border-bottom: none; }\n",
       "\n",
       ".reveal sup {\n",
       "  vertical-align: super; }\n",
       "\n",
       ".reveal sub {\n",
       "  vertical-align: sub; }\n",
       "\n",
       ".reveal small {\n",
       "  display: inline-block;\n",
       "  font-size: 0.6em;\n",
       "  line-height: 1.2em;\n",
       "  vertical-align: top; }\n",
       "\n",
       ".reveal small * {\n",
       "  vertical-align: top; }\n",
       "\n",
       "/*********************************************\n",
       " * LINKS\n",
       " *********************************************/\n",
       ".reveal a {\n",
       "  color: #51483D;\n",
       "  text-decoration: none;\n",
       "  -webkit-transition: color 0.15s ease;\n",
       "  -moz-transition: color 0.15s ease;\n",
       "  transition: color 0.15s ease; }\n",
       "\n",
       ".reveal a:hover {\n",
       "  color: #8b7c69;\n",
       "  text-shadow: none;\n",
       "  border: none; }\n",
       "\n",
       ".reveal .roll span:after {\n",
       "  color: #fff;\n",
       "  background: #25211c; }\n",
       "\n",
       "/*********************************************\n",
       " * IMAGES\n",
       " *********************************************/\n",
       ".reveal section img {\n",
       "  margin: 15px 0px;\n",
       "  background: rgba(255, 255, 255, 0.12);\n",
       "  border: 4px solid #000;\n",
       "  box-shadow: 0 0 10px rgba(0, 0, 0, 0.15); }\n",
       "\n",
       ".reveal section img.plain {\n",
       "  border: 0;\n",
       "  box-shadow: none; }\n",
       "\n",
       ".reveal a img {\n",
       "  -webkit-transition: all 0.15s linear;\n",
       "  -moz-transition: all 0.15s linear;\n",
       "  transition: all 0.15s linear; }\n",
       "\n",
       ".reveal a:hover img {\n",
       "  background: rgba(255, 255, 255, 0.2);\n",
       "  border-color: #51483D;\n",
       "  box-shadow: 0 0 20px rgba(0, 0, 0, 0.55); }\n",
       "\n",
       "/*********************************************\n",
       " * NAVIGATION CONTROLS\n",
       " *********************************************/\n",
       ".reveal .controls .navigate-left,\n",
       ".reveal .controls .navigate-left.enabled {\n",
       "  border-right-color: #51483D; }\n",
       "\n",
       ".reveal .controls .navigate-right,\n",
       ".reveal .controls .navigate-right.enabled {\n",
       "  border-left-color: #51483D; }\n",
       "\n",
       ".reveal .controls .navigate-up,\n",
       ".reveal .controls .navigate-up.enabled {\n",
       "  border-bottom-color: #51483D; }\n",
       "\n",
       ".reveal .controls .navigate-down,\n",
       ".reveal .controls .navigate-down.enabled {\n",
       "  border-top-color: #51483D; }\n",
       "\n",
       ".reveal .controls .navigate-left.enabled:hover {\n",
       "  border-right-color: #8b7c69; }\n",
       "\n",
       ".reveal .controls .navigate-right.enabled:hover {\n",
       "  border-left-color: #8b7c69; }\n",
       "\n",
       ".reveal .controls .navigate-up.enabled:hover {\n",
       "  border-bottom-color: #8b7c69; }\n",
       "\n",
       ".reveal .controls .navigate-down.enabled:hover {\n",
       "  border-top-color: #8b7c69; }\n",
       "\n",
       "/*********************************************\n",
       " * PROGRESS BAR\n",
       " *********************************************/\n",
       ".reveal .progress {\n",
       "  background: rgba(0, 0, 0, 0.2); }\n",
       "\n",
       ".reveal .progress span {\n",
       "  background: #51483D;\n",
       "  -webkit-transition: width 800ms cubic-bezier(0.26, 0.86, 0.44, 0.985);\n",
       "  -moz-transition: width 800ms cubic-bezier(0.26, 0.86, 0.44, 0.985);\n",
       "  transition: width 800ms cubic-bezier(0.26, 0.86, 0.44, 0.985); }\n"
      ],
      "text/plain": [
       "<IPython.core.display.HTML object>"
      ]
     },
     "execution_count": 4,
     "metadata": {},
     "output_type": "execute_result"
    }
   ],
   "source": [
    "from IPython.core.display import HTML\n",
    "def css_styling():\n",
    "    styles = open('theme/serif.css', 'r').read()\n",
    "    return HTML(styles)\n",
    "css_styling()"
   ]
  },
  {
   "cell_type": "code",
   "execution_count": null,
   "metadata": {
    "collapsed": true
   },
   "outputs": [],
   "source": []
  }
 ],
 "metadata": {
  "celltoolbar": "Slideshow",
  "kernelspec": {
   "display_name": "Python 3",
   "language": "python",
   "name": "python3"
  },
  "language_info": {
   "codemirror_mode": {
    "name": "ipython",
    "version": 3
   },
   "file_extension": ".py",
   "mimetype": "text/x-python",
   "name": "python",
   "nbconvert_exporter": "python",
   "pygments_lexer": "ipython3",
   "version": "3.5.1"
  },
  "widgets": {
   "state": {},
   "version": "1.1.2"
  }
 },
 "nbformat": 4,
 "nbformat_minor": 0
}
