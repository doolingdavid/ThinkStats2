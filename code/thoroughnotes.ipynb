{
 "cells": [
  {
   "cell_type": "code",
   "execution_count": 1,
   "metadata": {
    "collapsed": false,
    "slideshow": {
     "slide_type": "skip"
    }
   },
   "outputs": [
    {
     "data": {
      "text/html": [
       "<script>\n",
       "code_show=true; \n",
       "function code_toggle() {\n",
       " if (code_show){\n",
       " $('div.input').hide();\n",
       " } else {\n",
       " $('div.input').show();\n",
       " }\n",
       " code_show = !code_show\n",
       "} \n",
       "$( document ).ready(code_toggle);\n",
       "</script>\n",
       "<form action=\"javascript:code_toggle()\"><input type=\"submit\" value=\"Click here to toggle on/off the raw code.\"></form>"
      ],
      "text/plain": [
       "<IPython.core.display.HTML object>"
      ]
     },
     "execution_count": 1,
     "metadata": {},
     "output_type": "execute_result"
    }
   ],
   "source": [
    "from IPython.display import HTML\n",
    "\n",
    "HTML('''<script>\n",
    "code_show=true; \n",
    "function code_toggle() {\n",
    " if (code_show){\n",
    " $('div.input').hide();\n",
    " } else {\n",
    " $('div.input').show();\n",
    " }\n",
    " code_show = !code_show\n",
    "} \n",
    "$( document ).ready(code_toggle);\n",
    "</script>\n",
    "<form action=\"javascript:code_toggle()\"><input type=\"submit\" value=\"Click here to toggle on/off the raw code.\"></form>''')  "
   ]
  },
  {
   "cell_type": "code",
   "execution_count": 2,
   "metadata": {
    "collapsed": true,
    "slideshow": {
     "slide_type": "skip"
    }
   },
   "outputs": [],
   "source": [
    "import numpy as np\n",
    "import pandas as pd\n",
    "import matplotlib.pyplot as plt\n",
    "from pandas import Series, DataFrame\n",
    "import pytz\n",
    "from pytz import common_timezones, all_timezones\n",
    "import matplotlib\n",
    "matplotlib.style.use('ggplot')\n",
    "%matplotlib inline\n",
    "from datetime import datetime\n",
    "\n",
    "matplotlib.style.use('fivethirtyeight')\n",
    "matplotlib.style.use('seaborn-talk')"
   ]
  },
  {
   "cell_type": "code",
   "execution_count": 3,
   "metadata": {
    "collapsed": true,
    "slideshow": {
     "slide_type": "skip"
    }
   },
   "outputs": [],
   "source": [
    "import nsfg\n",
    "df = nsfg.ReadFemPreg()\n"
   ]
  },
  {
   "cell_type": "code",
   "execution_count": 4,
   "metadata": {
    "collapsed": false,
    "slideshow": {
     "slide_type": "slide"
    }
   },
   "outputs": [
    {
     "data": {
      "text/plain": [
       "9148"
      ]
     },
     "execution_count": 4,
     "metadata": {},
     "output_type": "execute_result"
    }
   ],
   "source": [
    "live = df[df.outcome == 1]\n",
    "len(live)"
   ]
  },
  {
   "cell_type": "code",
   "execution_count": 5,
   "metadata": {
    "collapsed": false,
    "slideshow": {
     "slide_type": "slide"
    }
   },
   "outputs": [
    {
     "data": {
      "text/plain": [
       "(4413, 4735)"
      ]
     },
     "execution_count": 5,
     "metadata": {},
     "output_type": "execute_result"
    }
   ],
   "source": [
    "firsts = df[df.birthord==1]\n",
    "others = df[df.birthord>1]\n",
    "len(firsts), len(others)"
   ]
  },
  {
   "cell_type": "code",
   "execution_count": 6,
   "metadata": {
    "collapsed": false,
    "slideshow": {
     "slide_type": "slide"
    }
   },
   "outputs": [
    {
     "name": "stdout",
     "output_type": "stream",
     "text": [
      "Mean pregnancy length for first borns: 38.60095173351461\n",
      "Mean pregnancy length for others: 38.52291446673706\n",
      "Difference between mean first and others pregnancy lengths in hrs: 13.11026081862832\n"
     ]
    }
   ],
   "source": [
    "a = firsts.prglngth.mean()\n",
    "b = others.prglngth.mean()\n",
    "\n",
    "c = (a - b)*168.0\n",
    "\n",
    "print(\"Mean pregnancy length for first borns: {}\".format(a))\n",
    "print(\"Mean pregnancy length for others: {}\".format(b))\n",
    "print(\"Difference between mean first and others pregnancy lengths in hrs: {}\".format(c))"
   ]
  },
  {
   "cell_type": "code",
   "execution_count": 7,
   "metadata": {
    "collapsed": true,
    "slideshow": {
     "slide_type": "slide"
    }
   },
   "outputs": [],
   "source": [
    "def get_value(vals):\n",
    "    import random\n",
    "    pval = random.uniform(0,100)\n",
    "    #print(pval)\n",
    "    return np.percentile(vals,pval)\n",
    "\n",
    "\n",
    "def get_group(vals, numberofsubjects):\n",
    "    \"\"\"Returns a pandas series.\"\"\"\n",
    "    import random\n",
    "    a = list()\n",
    "    for i in range(numberofsubjects):\n",
    "        try:\n",
    "            b = get_value(vals)\n",
    "            a.append(b)\n",
    "        except:\n",
    "            pass\n",
    "    c = pd.Series(a)\n",
    "    return c"
   ]
  },
  {
   "cell_type": "code",
   "execution_count": 8,
   "metadata": {
    "collapsed": false,
    "slideshow": {
     "slide_type": "slide"
    }
   },
   "outputs": [
    {
     "data": {
      "image/png": "[encoded data removed]",
      "text/plain": [
       "<matplotlib.figure.Figure at 0xa9f4048>"
      ]
     },
     "metadata": {},
     "output_type": "display_data"
    }
   ],
   "source": [
    "\n",
    "firsts_data = firsts.prglngth.value_counts(normalize=True).sort_index().cumsum()\n",
    "others_data = others.prglngth.value_counts(normalize=True).sort_index().cumsum()\n",
    "\n",
    "dfdata = pd.DataFrame({'firsts': firsts_data,\n",
    "                     'others': others_data})\n",
    "dfdata = dfdata.fillna(method='ffill')\n",
    "dfdata.plot(figsize=(8,6), title = \"Empirical CDFs of firsts and others \\n\" + \n",
    "           \"prglngth\");"
   ]
  },
  {
   "cell_type": "code",
   "execution_count": 9,
   "metadata": {
    "collapsed": true,
    "slideshow": {
     "slide_type": "slide"
    }
   },
   "outputs": [],
   "source": [
    "firsts_prglngth_vals = firsts.prglngth.values\n",
    "others_prglngth_vals = others.prglngth.values\n",
    "\n",
    "firstssamp = get_group(firsts_prglngth_vals, 150000)\n",
    "otherssamp = get_group(others_prglngth_vals, 150000)"
   ]
  },
  {
   "cell_type": "code",
   "execution_count": 10,
   "metadata": {
    "collapsed": false,
    "slideshow": {
     "slide_type": "slide"
    }
   },
   "outputs": [
    {
     "data": {
      "text/plain": [
       "0.37891333333333332"
      ]
     },
     "execution_count": 10,
     "metadata": {},
     "output_type": "execute_result"
    }
   ],
   "source": [
    "(firstssamp > otherssamp).values.mean()\n"
   ]
  },
  {
   "cell_type": "markdown",
   "metadata": {
    "slideshow": {
     "slide_type": "slide"
    }
   },
   "source": [
    "## <font color='steelblue'>The Estimation Game</font>\n",
    "\n",
    "```\n",
    "Let’s play a game. I think of a distribution, and you have to guess what it is. I’ll give you two hints: it’s a normal distribution, and here’s a random sample drawn from it:\n",
    "[-0.441, 1.774, -0.101, -1.138, 2.975, -2.138]\n",
    "\n",
    "What do you think is the mean parameter, µ, of this distribution?\n",
    "\n",
    "One choice is to use the sample mean, x, as an estimate of µ. In this example, x is 0.155, so it would be reasonable to guess µ = 0.155. This process is called estimation, and the statistic we used (the sample mean) is called an estimator.\n",
    "```"
   ]
  },
  {
   "cell_type": "code",
   "execution_count": 35,
   "metadata": {
    "collapsed": false,
    "slideshow": {
     "slide_type": "slide"
    }
   },
   "outputs": [
    {
     "name": "stdout",
     "output_type": "stream",
     "text": [
      "0.15516666666666667 1.8933573795421366\n"
     ]
    }
   ],
   "source": [
    "nums = [-0.441, 1.774, -0.101, -1.138, 2.975, -2.138]\n",
    "\n",
    "numser = pd.Series(nums)\n",
    "print(numser.mean(),numser.std())\n"
   ]
  },
  {
   "cell_type": "code",
   "execution_count": 13,
   "metadata": {
    "collapsed": false,
    "slideshow": {
     "slide_type": "slide"
    }
   },
   "outputs": [
    {
     "data": {
      "text/plain": [
       "(Mean(statistic=0.15516666666666667, minmax=(-1.4023849490394598, 1.7127182823727924)),\n",
       " Variance(statistic=5.9746702777777765, minmax=(1.6190790450036288, 15.647649794494102)),\n",
       " Std_dev(statistic=2.2519897075579607, minmax=(1.2724303694126562, 3.9557110352620684)))"
      ]
     },
     "execution_count": 13,
     "metadata": {},
     "output_type": "execute_result"
    }
   ],
   "source": [
    "import scipy\n",
    "results = scipy.stats.bayes_mvs(numser.as_matrix())\n",
    "results"
   ]
  },
  {
   "cell_type": "markdown",
   "metadata": {
    "slideshow": {
     "slide_type": "slide"
    }
   },
   "source": [
    "If there are no outliers, the sample mean minimizes the **mean squared error** (MSE). That is, if we play the game many times, and each time compute the error $\\bar{x} - \\mu$, the sample mean minimizes:\n",
    "\n",
    "$\n",
    "MSE = \\frac{1}{m} \\sum (\\bar{x} - \\mu)^{2}\n",
    "$\n",
    "\n",
    "where $m$ is the number of times you play the estimation game, not to be confused with $n$, which is the size of the sample used to compute $\\bar{x}$.\n",
    "\n"
   ]
  },
  {
   "cell_type": "code",
   "execution_count": 14,
   "metadata": {
    "collapsed": true,
    "slideshow": {
     "slide_type": "slide"
    }
   },
   "outputs": [],
   "source": [
    "import math\n",
    "\n",
    "def RMSE(estimates, actual):\n",
    "    e2 = [(estimate-actual)**2 for estimate in estimates]\n",
    "    mse = np.mean(e2)\n",
    "    return math.sqrt(mse)"
   ]
  },
  {
   "cell_type": "code",
   "execution_count": 21,
   "metadata": {
    "collapsed": true,
    "slideshow": {
     "slide_type": "slide"
    }
   },
   "outputs": [],
   "source": [
    "def Estimate1(n=7, m=1000):\n",
    "    import random\n",
    "    mu = 0\n",
    "    sigma = 1\n",
    "\n",
    "    means = []\n",
    "    medians = []\n",
    "    for _ in range(m):\n",
    "        xs = [random.gauss(mu, sigma) for i in range(n)]\n",
    "        xbar = np.mean(xs)\n",
    "        median = np.median(xs)\n",
    "        means.append(xbar)\n",
    "        medians.append(median)\n",
    "\n",
    "    print('rmse xbar', RMSE(means, mu))\n",
    "    print('rmse median', RMSE(medians, mu))"
   ]
  },
  {
   "cell_type": "markdown",
   "metadata": {
    "slideshow": {
     "slide_type": "slide"
    }
   },
   "source": [
    "Again, $n$ is the size of the sample, and $m$ is the number of times we play the game. ```means``` is the list of estimates based on $\\bar{x}$. ```medians``` is the list of medians. \n",
    "\n",
    "In the function ```RMSE```, ```estimates``` is the list of estimates, ```actual``` is the actual thing being estimated. In practice, of course, we don't know ```actual```; if we did, we wouldn't have to estimate it. The purpose of the experiment is to compare the performance of the two estimators."
   ]
  },
  {
   "cell_type": "code",
   "execution_count": 22,
   "metadata": {
    "collapsed": false,
    "slideshow": {
     "slide_type": "slide"
    }
   },
   "outputs": [
    {
     "name": "stdout",
     "output_type": "stream",
     "text": [
      "rmse xbar 0.3837896535522685\n",
      "rmse median 0.4625434945810025\n"
     ]
    }
   ],
   "source": [
    "Estimate1()"
   ]
  },
  {
   "cell_type": "markdown",
   "metadata": {
    "slideshow": {
     "slide_type": "slide"
    }
   },
   "source": [
    "When I ran this code, the RMSE of the sample mean was 0.3837, which means that if we $\\bar{x}$ to estimate the mean of this distribution, based on a sample with $n=7$, we should expect to be off by 0.3837 on average. Using the median to estimate the mean yields RMSE of 0.46254, which confirms that $\\bar{x}$ yields lower RMSE, at least for this example.\n",
    "\n",
    "\n",
    "Minimizing MSE is a nice property, but it's not always the best strategy. For example, suppose we are estimating the distribution of wind speeds at a building site. If the estimate is too high, we might overbuild the structure, increasing its cost. But if it's too low, the building might collapse. Because cost as a function of error is not symmetric, minimizing MSE is not the best strategy.\n",
    "\n",
    "AS another exmaple, suppose I roll three six-sided dice and ask you to predict the total. If you get it exactly right, you get a prize; otherwise you get nothing. In this case the value that minimizes the MSE is 10.5"
   ]
  },
  {
   "cell_type": "code",
   "execution_count": 25,
   "metadata": {
    "collapsed": true,
    "slideshow": {
     "slide_type": "slide"
    }
   },
   "outputs": [],
   "source": [
    "def Dice_3_6(trials = 800000, n=3):\n",
    "    import random\n",
    "    totals = []\n",
    "    dicevalues = range(1,7)\n",
    "    for _ in range(trials):\n",
    "        rolls = [random.choice(dicevalues) for i in range(n)]\n",
    "        total = np.sum(rolls)\n",
    "        totals.append(total)\n",
    "\n",
    "    print('average of the total of rolling three dice', np.mean(totals))\n",
    "    totalsser = pd.Series(totals)\n",
    "    print(totalsser.value_counts(normalize=True))"
   ]
  },
  {
   "cell_type": "code",
   "execution_count": 26,
   "metadata": {
    "collapsed": false,
    "slideshow": {
     "slide_type": "slide"
    }
   },
   "outputs": [
    {
     "name": "stdout",
     "output_type": "stream",
     "text": [
      "average of the total of rolling three dice 10.50150125\n",
      "10    0.125825\n",
      "11    0.125584\n",
      "9     0.115679\n",
      "12    0.115414\n",
      "13    0.097589\n",
      "8     0.096729\n",
      "14    0.069440\n",
      "7     0.069282\n",
      "6     0.046294\n",
      "15    0.046170\n",
      "5     0.027856\n",
      "16    0.027690\n",
      "17    0.013705\n",
      "4     0.013491\n",
      "3     0.004666\n",
      "18    0.004586\n",
      "dtype: float64\n"
     ]
    }
   ],
   "source": [
    "Dice_3_6()"
   ]
  },
  {
   "cell_type": "markdown",
   "metadata": {
    "slideshow": {
     "slide_type": "slide"
    }
   },
   "source": [
    "In this case the value that minimizes the MSE is 10.5, but that would be a bad guess, becauase the total of three dice is never 10.5. For this game, you want an estimator tha thas the highest chance of being right, which is a **maximum likelihood estimator** (MLE). If you pick 10 or 11, your chance of winning is 1 in 8, and that's the best you can do.\n",
    "\n",
    "## <font color='steelblue'>Guess the variance</font>\n",
    "\n",
    "\n",
    "I'm thinking of a distribution. It's a normal distribution, and here's a (familiar) sample:\n",
    "\n",
    "[-0.441, 1.774, -0.101, -1.138, 2.975, -2.138]\n",
    "\n",
    "What do you think is the variance,  $\\sigma^{2}$  of my distribution? Again, the obvious choice is to use the sample variance,  $S^{2}$ , as an estimator:\n",
    "\n",
    "$\n",
    "S^{2} = \\frac{1}{n} \\sum (x_{i} - \\bar{x})^{2} \n",
    "$\n",
    "\n",
    "For large samples,  $S^{2}$  is an adequate estimator, but for small samples it tends to be too low. Because of this unforunate property, it is called a biased estimator. An estimator is unibiased if the expected total (or mean) error, after many iterations of the estimation game, is 0.\n",
    "Fortunately, there is another simple statistic that is an ubiased estimator of  $\\sigma^{2}$ :\n",
    "\n",
    "$\n",
    "S^{2}_{n-1} = \\frac{1}{n-1}\\sum (x_{i} - \\bar{x})^{2}\n",
    "$\n",
    "\n",
    "For an explanation of why  $S^{2}$  is biased, and a proof that $S^{2}_{n-1}$  is unbiased, see http://wikipedia.org/wiki/Bias_of_an_estimator\n",
    "The biggest problem with this estimator is that its name and symbol are used inconsistently. The name \"sample variance\" can refer to either  $S^{2}$  or  $S^{2}_{n-1}$ , and the symbol  $S^{2}$  is used for either or both.\n",
    "Here is a function that simulates the estimation game and tests the performance of  $S^{2}$  and  $S^{2}_{n-1}$ :\n"
   ]
  },
  {
   "cell_type": "code",
   "execution_count": 27,
   "metadata": {
    "collapsed": true,
    "slideshow": {
     "slide_type": "slide"
    }
   },
   "outputs": [],
   "source": [
    "def MeanError(estimates, actual):\n",
    "    errors = [estimate-actual for estimate in estimates]\n",
    "    return np.mean(errors)"
   ]
  },
  {
   "cell_type": "code",
   "execution_count": 30,
   "metadata": {
    "collapsed": true,
    "slideshow": {
     "slide_type": "slide"
    }
   },
   "outputs": [],
   "source": [
    "import random\n",
    "def Estimate2(n=7, m=100000):\n",
    "    mu = 0\n",
    "    sigma = 1\n",
    "\n",
    "    estimates1 = []\n",
    "    estimates2 = []\n",
    "    for _ in range(m):\n",
    "        xs = [random.gauss(mu, sigma) for i in range(n)]\n",
    "        biased = np.var(xs)\n",
    "        unbiased = np.var(xs, ddof=1)\n",
    "        estimates1.append(biased)\n",
    "        estimates2.append(unbiased)\n",
    "\n",
    "    print('mean error biased', MeanError(estimates1, sigma**2))\n",
    "    print('mean error unbiased', MeanError(estimates2, sigma**2))"
   ]
  },
  {
   "cell_type": "markdown",
   "metadata": {
    "slideshow": {
     "slide_type": "slide"
    }
   },
   "source": [
    "Again, $n$ is the sample size and $m$ is the number of times we play the game. ```np.var``` computes $S^{2}$ by default and $S^{2}_{n-1}$ if you provide the argument ```ddof=1```, which stands for delta degrees of freedom. I won't explain that term, but you can read about it at http://en.wikipedia.org/wiki/Degrees_of_freedom .\n",
    "```MeanError``` computes the mean difference between the estimate and the actual value."
   ]
  },
  {
   "cell_type": "code",
   "execution_count": 31,
   "metadata": {
    "collapsed": false,
    "slideshow": {
     "slide_type": "slide"
    }
   },
   "outputs": [
    {
     "name": "stdout",
     "output_type": "stream",
     "text": [
      "mean error biased -0.141332265273\n",
      "mean error unbiased 0.00177902384842\n"
     ]
    }
   ],
   "source": [
    "Estimate2()"
   ]
  },
  {
   "cell_type": "markdown",
   "metadata": {
    "slideshow": {
     "slide_type": "slide"
    }
   },
   "source": [
    "When I ran this code, theb mean error for $S^{2}$ was -0.141. As expected, this biased estimator tends to be too low. For $S_{n-1}^{2}$, the mean error was 0.00177, much much smaller. As ```m``` increases, we expect the mean error for $S_{n-1}^{2}$ to approach 0.\n",
    "\n",
    "Properties like MSE and bias are long-term expectations based on many iterations of the estimation game. By running simulations like the ones in this chapter, we can compare estimators and check whether they have the desired properties.\n",
    "\n",
    "But when you apply an estimator to real data, you just get one estimate. It would not be meaningful to say that the estimate is unbiased; being unbiased is a property of the estimator, not the estimate.\n",
    "\n",
    "After you choose an estimator with appropriate properties, and use it to generate an estimate, the next step is to characterize the uncertainty of the estimate, which is the topic of the next section."
   ]
  },
  {
   "cell_type": "markdown",
   "metadata": {
    "slideshow": {
     "slide_type": "slide"
    }
   },
   "source": [
    "## <font color='steelblue'>Sampling distributions</font>\n",
    "\n",
    "Suppose you are a scientist studying gorillas in a wildlife preserve. You want to know the average weight of the adult female gorillas in the preserve. To weigh them, you have to tranquilize them, which is dangerous, expensive, and possibly harmful to the gorillas. But if it is important to obtain this information, it might be acceptable to weigh a sample of 9 gorillas. Let's assume that hte population of the preserve is well known, so we can choose a representative sample of adult females. We could use the sample mean, $\\bar{x}$, to estimate the unknown populatin mean, $\\mu$."
   ]
  },
  {
   "cell_type": "markdown",
   "metadata": {
    "slideshow": {
     "slide_type": "slide"
    }
   },
   "source": [
    "Having weighed 9 female gorillas, you might find $\\bar{x} = 90$ kg and a sample standard deviation $S = 7.5$ kg. The sample mean is an unbiased estimator of $\\mu$ and in the long run it minimizes MSE. So if you report a single estimate that summarizes the results, you would report 90 kg.\n",
    "\n",
    "But how confident should you be in this estimate? If you only weigh $n = 9$ gorillas out of a much bigger population, you might be unlucky and choose the 9 heaviest gorillas (or the 9 lightest ones) just by chance. Variation in the estimate caused by random selection is called **sampling error**."
   ]
  },
  {
   "cell_type": "markdown",
   "metadata": {
    "slideshow": {
     "slide_type": "slide"
    }
   },
   "source": [
    "To quantify sampling error, we can simulate the sampling process with hypothetical values of $\\mu$ and $\\sigma$ and see how much $\\bar{x}$ varies.\n",
    "\n",
    "Since we don't know the actual values of $\\mu$ and $\\sigma$ in the population, we'll use the estimates $\\bar{x}$ and $S$. So the question we answer is: \"If the actual values of $\\mu$ and $\\sigma$ were 90 kg and 7.5 kg, and we ran the same experiment many times, how much would the estimated mean, $\\bar{x}$, vary?\"\n",
    "\n",
    "The following function answers that question:"
   ]
  },
  {
   "cell_type": "code",
   "execution_count": 87,
   "metadata": {
    "collapsed": false,
    "slideshow": {
     "slide_type": "slide"
    }
   },
   "outputs": [
    {
     "name": "stdout",
     "output_type": "stream",
     "text": [
      "0.15516666666666667 1.8933573795421366\n"
     ]
    }
   ],
   "source": [
    "nums = [-0.441, 1.774, -0.101, -1.138, 2.975, -2.138]\n",
    "\n",
    "numser = pd.Series(nums)\n",
    "print(numser.mean(),numser.std())"
   ]
  },
  {
   "cell_type": "code",
   "execution_count": 88,
   "metadata": {
    "collapsed": false,
    "slideshow": {
     "slide_type": "slide"
    }
   },
   "outputs": [
    {
     "data": {
      "text/plain": [
       "(Mean(statistic=0.15516666666666667, minmax=(-1.4023849490394598, 1.7127182823727924)),\n",
       " Variance(statistic=5.9746702777777765, minmax=(1.6190790450036288, 15.647649794494102)),\n",
       " Std_dev(statistic=2.2519897075579607, minmax=(1.2724303694126562, 3.9557110352620684)))"
      ]
     },
     "execution_count": 88,
     "metadata": {},
     "output_type": "execute_result"
    }
   ],
   "source": [
    "import scipy\n",
    "results = scipy.stats.bayes_mvs(numser.as_matrix(),alpha=.9)\n",
    "results"
   ]
  },
  {
   "cell_type": "code",
   "execution_count": 89,
   "metadata": {
    "collapsed": false,
    "slideshow": {
     "slide_type": "slide"
    }
   },
   "outputs": [],
   "source": [
    "from scipy.stats import t\n",
    "\n",
    "def SimulateSample(mu=numser.mean(), sigma=numser.std(), n = numser.shape[0], m=8000):\n",
    "    means = []\n",
    "    for j in range(m):\n",
    "        #xs = np.random.normal(mu, sigma, n)\n",
    "        #xs = np.random.standard_t(df=n-1,size=n)\n",
    "        xs = t.rvs(df=n-1,loc=mu,scale=sigma,size=n)\n",
    "        xbar = np.mean(xs)\n",
    "        means.append(xbar)\n",
    "\n",
    "    meansser = pd.Series(means)\n",
    "    meanscdf = meansser.value_counts(normalize=True).sort_index().cumsum()\n",
    "    ci = meansser.quantile(.05), meansser.quantile(.95)\n",
    "    print(ci)\n",
    "    stderr = RMSE(means, mu)\n",
    "    print(stderr)\n",
    "    return meansser, meanscdf"
   ]
  },
  {
   "cell_type": "code",
   "execution_count": 90,
   "metadata": {
    "collapsed": false,
    "slideshow": {
     "slide_type": "slide"
    }
   },
   "outputs": [
    {
     "name": "stdout",
     "output_type": "stream",
     "text": [
      "(-1.4838371378653745, 1.7661308449876623)\n",
      "1.0009838529666009\n"
     ]
    }
   ],
   "source": [
    "meansser, meanscdf = SimulateSample()"
   ]
  },
  {
   "cell_type": "markdown",
   "metadata": {
    "slideshow": {
     "slide_type": "slide"
    }
   },
   "source": [
    "In each iteration, we choose $n$ values from a normal distribution with the given parameters, and compute the sample mean, ```xbar```. We run 1000 simulations and then compute the distribution, ```meanscdf``` of the estimates. The result is shown on the next slide: This distribution is called the **sampling distribution** of the estimator. It shows how much the estimates would vary if we ran the experiment over and over."
   ]
  },
  {
   "cell_type": "code",
   "execution_count": 91,
   "metadata": {
    "collapsed": false,
    "slideshow": {
     "slide_type": "slide"
    }
   },
   "outputs": [
    {
     "data": {
      "image/png": "[encoded data removed]",
      "text/plain": [
       "<matplotlib.figure.Figure at 0xcef0278>"
      ]
     },
     "metadata": {},
     "output_type": "display_data"
    }
   ],
   "source": [
    "meanscdf.plot(drawstyle='step',title=\"sampling distribution\");"
   ]
  },
  {
   "cell_type": "markdown",
   "metadata": {
    "slideshow": {
     "slide_type": "slide"
    }
   },
   "source": [
    "The mean of the sampling distribution is pretty close to the hypothetical value of $\\mu$, which means that the experiment yields the right answer, on average. After 1000 tries, the lowest result is -0.2, and the highest is 0.6. This range suggests that the estimate might be off by as much as 4.5.\n",
    "\n",
    "There are two common ways to summarize the sampling distribution:\n",
    "\n",
    "* **Standard error** (SE) is a measure of how far we expect the estimate to be off, on average. For each simulated experiment, we comput the error, $\\bar{X} - \\mu$, and then compute the root mean squared error (RMSE). In this example, it is roughly .14\n",
    "* A **confidence interval** (CI) is a range that includes a given fraction of the sampling distribution. For example, the 90% confidence interval is the range from the 5th to the 95th percentile. In this example, the 90% is (-0.0753, 0.3856)"
   ]
  },
  {
   "cell_type": "markdown",
   "metadata": {
    "slideshow": {
     "slide_type": "slide"
    }
   },
   "source": [
    "standard errors and confidence intervals are the source of much confusion:\n",
    "\n",
    "* People often confuse standard error and standard deviation. Remember that standard deviation describes variability in a measured quantity; in this example, the standard deviation of gorilla weight is 7.5 kg. Standard error describes the variability in an estimate. In this example, the standard error of the mean, based on the sample of 9 measurements, is 2.44 kg. One way to remember the difference is that, as sample size increases, standard error gets smaller; standard deviation does not.\n",
    "* People often think that there is a 90% probability that the actual parameter,  $\\mu$, falls in the 90% confidence interval. Sadly, that is not true. If you want to make a claim like that, you have to use Bayesian methods. The sampling distribution answers a different question: it gives you a sense of how realiable an estimate is by telling you how much it would vary if you ran the experiment again.\n",
    "\n",
    "It is important to remember that confidence intervals and standard errors only quantify sampling error; that is, error due to measuring only part of the population"
   ]
  },
  {
   "cell_type": "code",
   "execution_count": null,
   "metadata": {
    "collapsed": true
   },
   "outputs": [],
   "source": []
  }
 ],
 "metadata": {
  "celltoolbar": "Slideshow",
  "kernelspec": {
   "display_name": "Python 3",
   "language": "python",
   "name": "python3"
  },
  "language_info": {
   "codemirror_mode": {
    "name": "ipython",
    "version": 3
   },
   "file_extension": ".py",
   "mimetype": "text/x-python",
   "name": "python",
   "nbconvert_exporter": "python",
   "pygments_lexer": "ipython3",
   "version": "3.5.1"
  },
  "widgets": {
   "state": {},
   "version": "1.1.2"
  }
 },
 "nbformat": 4,
 "nbformat_minor": 0
}
