{
 "cells": [
  {
   "cell_type": "code",
   "execution_count": 1,
   "metadata": {
    "collapsed": false,
    "slideshow": {
     "slide_type": "skip"
    }
   },
   "outputs": [
    {
     "data": {
      "text/html": [
       "<script>\n",
       "code_show=true; \n",
       "function code_toggle() {\n",
       " if (code_show){\n",
       " $('div.input').hide();\n",
       " } else {\n",
       " $('div.input').show();\n",
       " }\n",
       " code_show = !code_show\n",
       "} \n",
       "$( document ).ready(code_toggle);\n",
       "</script>\n",
       "<form action=\"javascript:code_toggle()\"><input type=\"submit\" value=\"Click here to toggle on/off the raw code.\"></form>"
      ],
      "text/plain": [
       "<IPython.core.display.HTML object>"
      ]
     },
     "execution_count": 1,
     "metadata": {},
     "output_type": "execute_result"
    }
   ],
   "source": [
    "from IPython.display import HTML\n",
    "\n",
    "HTML('''<script>\n",
    "code_show=true; \n",
    "function code_toggle() {\n",
    " if (code_show){\n",
    " $('div.input').hide();\n",
    " } else {\n",
    " $('div.input').show();\n",
    " }\n",
    " code_show = !code_show\n",
    "} \n",
    "$( document ).ready(code_toggle);\n",
    "</script>\n",
    "<form action=\"javascript:code_toggle()\"><input type=\"submit\" value=\"Click here to toggle on/off the raw code.\"></form>''')  "
   ]
  },
  {
   "cell_type": "code",
   "execution_count": 4,
   "metadata": {
    "collapsed": true,
    "slideshow": {
     "slide_type": "slide"
    }
   },
   "outputs": [],
   "source": [
    "import numpy as np\n",
    "import pandas as pd\n",
    "import matplotlib.pyplot as plt\n",
    "from pandas import Series, DataFrame\n",
    "import pytz\n",
    "from pytz import common_timezones, all_timezones\n",
    "import matplotlib\n",
    "matplotlib.style.use('ggplot')\n",
    "%matplotlib inline\n",
    "from datetime import datetime"
   ]
  },
  {
   "cell_type": "code",
   "execution_count": 5,
   "metadata": {
    "collapsed": true,
    "slideshow": {
     "slide_type": "slide"
    }
   },
   "outputs": [],
   "source": [
    "matplotlib.style.use('fivethirtyeight')\n",
    "matplotlib.style.use('seaborn-talk')"
   ]
  },
  {
   "cell_type": "markdown",
   "metadata": {
    "slideshow": {
     "slide_type": "slide"
    }
   },
   "source": [
    "## Chapter 0 Preface\n",
    "\n",
    "This book is an introduction to the practical tools of exploratory data analysis. The organization of the book follows the process I use when I start working with a dataset:\n",
    "\n",
    "* Importing and cleaning: Whatever format the data is in, it usually takes some time and effort to read the data, clean and transform it, and check that everything made it through the translation process intact.\n",
    "* Single variable explorations: I usually start by examining one variable at a time, finding out what the variables mean, looking at distributions of the values, and choosing apprpriate summary statistics\n",
    "* Pair-wise explorations: To identify possible relationships between variables, I look at tables and scatter plots, and compute correlations and linear fits\n",
    "* Multivariate analysis: If there are apparent relationships between variables, I use multiple regression to add control variables and investigate more complex relationships\n",
    "* Estimation and hypothesis testing: When reporting statistical results, it is important to answer three questions: How big is the effect? How much variability should we expect if we run the same measurement again? Is it possible that the apparent effect is due to chance?\n",
    "* Visualization: During exploration, visualization is an important tool for finding possible relationships and effects. Then if an apparent effect holds up to scrutiny, visualization is an effective way to communicate results."
   ]
  },
  {
   "cell_type": "markdown",
   "metadata": {
    "slideshow": {
     "slide_type": "slide"
    }
   },
   "source": [
    "http://nbviewer.jupyter.org/github/barbagroup/AeroPython/blob/master/lessons/01_Lesson01_sourceSink.ipynb"
   ]
  },
  {
   "cell_type": "code",
   "execution_count": 6,
   "metadata": {
    "collapsed": false,
    "slideshow": {
     "slide_type": "skip"
    }
   },
   "outputs": [],
   "source": [
    "#from IPython.core.display import HTML\n",
    "#def css_styling():\n",
    "#    styles = open('../styles/custom.css', 'r').read()\n",
    "#    return HTML(styles)\n",
    "#css_styling()"
   ]
  },
  {
   "cell_type": "markdown",
   "metadata": {
    "collapsed": true,
    "slideshow": {
     "slide_type": "slide"
    }
   },
   "source": [
    "This book takes a comuational approach, which has several advantages over mathematical approaches:\n",
    "\n",
    "* I present most ideas using Python code, rather than mathematical notation. In general, Python code is more readable; also, because it is executable, readers can download it, run it, and modify it.\n",
    "* Each chapter includes exercises readers can do to develop and solidify their learning. When you write programs, you express your understanding in code; while you are debugging the program, you are also correcting your understanding."
   ]
  },
  {
   "cell_type": "markdown",
   "metadata": {
    "slideshow": {
     "slide_type": "slide"
    }
   },
   "source": [
    "* Some exercises involve experiments to test statistical behavior. For example, you can explore the Central Limit Theorem (CLT) by generating random samples and computing their sums. The resulting visiualizations demonstrate why the CLT works and and when it doesn't.\n",
    "* Some ideas that are hard to grasp mathematically are easy to understand by simulation. For example, we approximate p-values by running random simulations, which reinforces the meaning of the p-value.\n",
    "* Because the book is based on a general-purpose programming language (Python), readers can import data from almost any source. They are not limited to datasets that have been cleaned and formatted for a partciular statistics tool."
   ]
  },
  {
   "cell_type": "markdown",
   "metadata": {
    "slideshow": {
     "slide_type": "slide"
    }
   },
   "source": [
    "The book lends itself to a project-based approach. In my class, students work on a semester-long project that requires them to pose a statistical question, find a dataset that can address it, and apply each of the techniques they learn to their own data."
   ]
  },
  {
   "cell_type": "markdown",
   "metadata": {
    "slideshow": {
     "slide_type": "slide"
    }
   },
   "source": [
    "To demonstrate my approach to statistical analysis, the book presents a case study that runs through all of the chapters. It uses data from two sources:\n",
    "\n",
    "* The Natoinal Survey of Family Growth (NSFG), conducted by the U.S. Centers for Disease Control and Prevention (CDC) to gather \"information on family life, marriage and divorce, pregnancy, infertility, use of contraception, and men's and women's health.\" (See http://cdc/gov/nchs/nsfg.html)\n",
    "* The Behavioral Risk Factor Surveillance System (BRFSS), conducted by the National Center for Chronic Disease and Prevention and Health Promotion to \"track conditions and risk behaviors in the United States.\" (See http://cdc.gov/BRFSS/)\n",
    "\n",
    "Other examples use data from the IRS, the U.S. Census, and the Boston Marathon."
   ]
  },
  {
   "cell_type": "markdown",
   "metadata": {
    "slideshow": {
     "slide_type": "slide"
    }
   },
   "source": [
    "This second edition of _Think Stats_ includes the chapters from the first edition, many of them substantially revised, and new chapters on regression, time series analysis, survival analysis, and analytic methods. The previous edition did not use pandas, SciPy, or StatsModels, so all of that material is new."
   ]
  },
  {
   "cell_type": "code",
   "execution_count": 7,
   "metadata": {
    "collapsed": false,
    "slideshow": {
     "slide_type": "skip"
    }
   },
   "outputs": [],
   "source": [
    "#from IPython.core.display import HTML\n",
    "#def css_styling():\n",
    "#    styles = open('theme/serif.css', 'r').read()\n",
    "#    return HTML(styles)\n",
    "#css_styling()"
   ]
  },
  {
   "cell_type": "markdown",
   "metadata": {
    "slideshow": {
     "slide_type": "slide"
    }
   },
   "source": [
    "## <font color='teal'> 0.1 How I wrote this book</font>\n",
    "\n",
    "When people write a new textbook, they usually start by reading a stack of old textbooks. As a result, most books contain the same material in pretty much the same order.\n",
    "\n",
    "I did not do that. In fact, I used almost no printed material while I was writing this book, for several reasons:\n",
    "\n",
    "* My goal was to explore a new approach to this material, so I didn't want much exposure to existing approaches.\n",
    "* Since I am making this book available under a free license, I wanted to make sure that no part of it was encumbered by copyright restrictions.\n",
    "* Many readers of my books don't ahve access to libraries of printed material, so I triedto make references to resources that are freely available on the internet.\n",
    "* Some proponents of old media think that the exclusive use of electronic resources is lazy and unreliable. They might be right about the first part, but I think they are wrong about the second, so I wanted to test my theory."
   ]
  },
  {
   "cell_type": "markdown",
   "metadata": {
    "slideshow": {
     "slide_type": "slide"
    }
   },
   "source": [
    "The resource I used more than any other is Wikipedia. In general, the articles I read on statistical topics were very good (although I made a few small changes along the way). I  include references to Wikipedia pages throughout the book and I encourage you to follow those links; in many cases, the Wikipedia page picks up where my description leaves off. The vocabulary and notation in this book are generally consistent with Wikipedia, unless I had a good reason to deviate. Other resources I found useful were Wolfram MathWorld and the Reddit statistics forum, http://www.reddit.com/r/statistics"
   ]
  },
  {
   "cell_type": "markdown",
   "metadata": {
    "slideshow": {
     "slide_type": "slide"
    }
   },
   "source": [
    "## <font color='teal'>0.2 Using the code</font>\n",
    "\n",
    "The code and data used in this book are available from https://github/com/AllenDowney/ThinkStats2. Git is a veresoin control system that allows you to keep track of the files that make up a project. A Collection of files under Git's control is called a **repository**. GitHub is a hosting service that provides storage for Git repositories and a convenient web interface."
   ]
  },
  {
   "cell_type": "markdown",
   "metadata": {
    "slideshow": {
     "slide_type": "slide"
    }
   },
   "source": [
    "The GitHub homepage for my repository provides several ways to work with the code:\n",
    "\n",
    "* You can create a copy of my repository on GitHub by pressing the Fork button. If you don't already have a GitHub account, you'll need to create one. After forking, you'll have your own repository on GitHub that you can use to keep track of code you write while working on this book. Then you can clone the repo, which means that you make a copy of hte files on your computer.\n",
    "* Or you could clone my reopsitory. You don't need a GitHub account to do this, but you won't be able to write any changes back to GitHub.\n",
    "* If you don't want to use Git at all, you can download the files in a Zip file using the button in the lower-right corner of the GitHub page.\n",
    "\n",
    "All of the code is written to work in both Python 2 and Python 3 with no translation."
   ]
  },
  {
   "cell_type": "markdown",
   "metadata": {
    "slideshow": {
     "slide_type": "slide"
    }
   },
   "source": [
    "I developed this book using Anaconda from Continuum Analytics, which is a free Python distribution tha tincludes all the packages you'll need to run the code (and lots more). I found Anaconda easy to install. By default it does a user-level installaiton, not a system-level, so you don't need administrative privileges. And it supports both Python 2 and Python 3. You can download Anaconda from http://conintuum.io/downloads"
   ]
  },
  {
   "cell_type": "markdown",
   "metadata": {
    "slideshow": {
     "slide_type": "slide"
    }
   },
   "source": [
    "If you don't want to use Anaconda, you will need the following packages:\n",
    "\n",
    "* pandas for representing and analyzing data, http://pandas.pydata.org\n",
    "* NumPy for basic numerical computation, http://www.numpy.org\n",
    "* SciPy for scientific computation including statistics, http://www.scipy.org\n",
    "* StatsModels for regression and other statistical analysis, http://statsmodels.sourceforge.net ; and\n",
    "* matplotlib for visualization, http://matplotlib.org"
   ]
  },
  {
   "cell_type": "markdown",
   "metadata": {
    "slideshow": {
     "slide_type": "slide"
    }
   },
   "source": [
    "Although these are commonly used packages, they are not included with all Python installations, and they can be hard to install in some environments. If you are having trouble installing them, I strongly recommend using Anaconda or one of the other Python distributions that include these packages.\n",
    "\n",
    "After you clone the repository or unzip the zip file, you should have a folder called ```ThinkStats2/code``` with a file called ```nsfg.py```. If you run nsfg.py, it should read a data file, run some tests, and print a message like, \"All tests passed.\" If you get import errors, it probably means there are packages you need to install."
   ]
  },
  {
   "cell_type": "code",
   "execution_count": 8,
   "metadata": {
    "collapsed": false,
    "slideshow": {
     "slide_type": "slide"
    }
   },
   "outputs": [
    {
     "name": "stdout",
     "output_type": "stream",
     "text": [
      "(13593, 244)\n",
      "nsfg.py: All tests passed.\n"
     ]
    }
   ],
   "source": [
    "%run nsfg.py"
   ]
  },
  {
   "cell_type": "markdown",
   "metadata": {
    "slideshow": {
     "slide_type": "slide"
    }
   },
   "source": [
    "Most exercises use Python scripts, but some also use the IPython notebook. If you have not used IPython notebook before, I suggest you start with the documentation at http://ipython.org/ipython-doc/stable/notebook/notebook.html\n",
    "\n",
    "I wrote this book assuming that the reader is familiar with core Python, including object-oriented features, but not pandas, NumPy, and SciPy. If you are already familiar with these modules, you can skip a few sections.\n",
    "\n",
    "I assume that the reader knows basic mathematics, including logarithms, for example, and summations. I refer to calculus concepts in a few places, but you don't have to do any calculus.\n",
    "\n",
    "If you have never studied statistics, I think this book is a good place to start. And if you have taken a traditional statistics class, I hope this book will help repaair the damage."
   ]
  },
  {
   "cell_type": "markdown",
   "metadata": {
    "slideshow": {
     "slide_type": "slide"
    }
   },
   "source": [
    "## <font color='teal'>Chapter 1 Exploratory data Analysis</font>\n",
    "\n",
    "The thesis of this book is that data combined with practical methods can answer questions and guide decisions under uncertainty.\n",
    "\n",
    "As an example, I present a case study motivated by a question I heard when my wife and I were expecting our first child: do first babies tend to arrive late?\n",
    "\n",
    "If you Google this question, you will find plenty of discussion. Some people claim it's true, others say it's a myth, and some people say it's the other way around: first babies come early."
   ]
  },
  {
   "cell_type": "markdown",
   "metadata": {
    "slideshow": {
     "slide_type": "slide"
    }
   },
   "source": [
    "In many of these discussions, people provide data to support their claims. I found many examples like these:\n",
    "\n",
    "* \"My two friends that have given birth recently to their first babies, BOTH went almost 2 weeks overdue before going into labour or being induced.\"\n",
    "* \"My first one came 2 weeks late and now I think the second one is going to come out two weeks early!!\"\n",
    "* \"I don't think that can be true because my sister was my mother's first and she was early, as with many of my cousins.\"\n",
    "\n",
    "\n",
    "Reports like these are called **anecdotal evidence** because they are based on data that is unpublished and usually personal. In casaul conversation, there is nothing wrong with anecdotes, so I don't mean to pick on the people I quoted."
   ]
  },
  {
   "cell_type": "markdown",
   "metadata": {
    "slideshow": {
     "slide_type": "slide"
    }
   },
   "source": [
    "But we might want evidence that is more persuasive and an answer that is more realiable. By those standards, anecdotal evidence usually fails, because:\n",
    "\n",
    "* Small number of observations: If pregnancy length is longer for first babies, the difference is probably small compared to natural variation. In that case, we might have to compare a large number of pregnancies to be sure that a difference exists.\n",
    "* Selection bias: People who join a discussion of this question might be interested because their first babies were late. In that case the process of selecting data would bias the results.\n",
    "* Confirmation bias: People who believe the claim might be more likely to contribute examples that confirm it. People who doubt the claim are more likely to cite counterexamples.\n",
    "* Inaccuracy: Anecdotes are often personal stories, and oftem misremembered, misrepresetned, repeated inaccurately, etc.\n",
    "\n",
    "So how can we do better?"
   ]
  },
  {
   "cell_type": "markdown",
   "metadata": {
    "slideshow": {
     "slide_type": "slide"
    }
   },
   "source": [
    "## <font color='teal'>1.1 A statistical approach</font>\n",
    "\n",
    "To address the limitations of anecdotes, we will use the tools of statistics, which include:\n",
    "\n",
    "* Data collection: We will use data from a large national survey that was designed explicitly with the goal of generating statistically valid inferences about the U.S. population.\n",
    "* Descriptive statistics: We will generate statistics that summarize the data concisely, and evluate different ways to visualize data.\n",
    "* Exploratory data analysis: We will look for patterns, differences, and other features that address the questions we are interested in. At the same time we will check for inconsistencies and identify limitations.\n",
    "* Estimation: We will use data from a sample to estimate characteristics of the general population.\n",
    "* Hypothesis testing: Where we see apparent effects, like a difference between two groups, we will evaluate whether the effect might have happened by chance.\n",
    "\n",
    "By performing these steps with care to avoid pitfalls, we can reach conclusions that are more justifiable and more likely to be correct."
   ]
  },
  {
   "cell_type": "markdown",
   "metadata": {
    "slideshow": {
     "slide_type": "slide"
    }
   },
   "source": [
    "### <font color='teal'>1.2 The National Survey of Family Growth</font>\n",
    "\n",
    "Since 1973 the U.S. Centers for Disease Control and Prevention (CDC) have conducted the National Survey of Family Growth (NSFG), which is intended to gather \"information on family life, marriage and divorce, pregnancy, infertility, use of contraception, and men's and women's health. The survey results are used ... to plan health services and health education programs, and to do statistical studies of families, fertility, and health.\" See http://cdc.gov.nchs/nsfg.htm\n",
    "\n",
    "We will use data collected by this survey to investigate whether first babies tend to come late, and other questions. In order to use this data effectively, we have to understand the design of the study."
   ]
  },
  {
   "cell_type": "markdown",
   "metadata": {
    "slideshow": {
     "slide_type": "slide"
    }
   },
   "source": [
    "The NSFG is a **cross-sectional** study, which means that it captures a snapshot of a group at a point in time. The most common alternative is a **longitudinal** study, which observes a group repeatedly over a period of time.\n",
    "\n",
    "The NSFG has  been conducted seven times; each deployment is called a **cycle**. We will use data from Cycle 6, which was conducted from January 2002 to March 2003."
   ]
  },
  {
   "cell_type": "markdown",
   "metadata": {
    "slideshow": {
     "slide_type": "slide"
    }
   },
   "source": [
    "The goal of the survey is to draw conclusions about a **population**; the target population of the NSFG is people in the United States aged 15-44. Ideally surveys would collect data from every member of the population, but that's seldom possible. Instead we collect data from a subset of the population called a **sample**. The people who particpate in a survey are called **respondents**.\n",
    "\n",
    "In general, cross-sectional studies are meant to be **representative**, which means that every member of the target population has an equal chance of particpating. That ideal is hard to achieve in practice, but people who conduct surveys come as close as they can,"
   ]
  },
  {
   "cell_type": "markdown",
   "metadata": {
    "slideshow": {
     "slide_type": "slide"
    }
   },
   "source": [
    "The NSFG is not representative; instead it is deliberately **oversampled**. The designers of the study recruited through groups - Hispanics, African-Americans and teenagers - at rates higher than their representation in the U.S. population, in order to make sure that the number of reponsdents in each of these groups is large enough to draw valid statistical inferences.\n",
    "\n",
    "Of course, the drawback of oversmapling is that it is not easy to draw conclusions about the general population based on statistics from the survey. We will com eback to this point later.\n",
    "\n",
    "When wroking with this kind of data, it is important to be familiar with the **codebook**, which documents the design of the study, the survey questions, and the encoding of the reponses. The codebook and user's guide for the NSFG data are available from http://www.cdc.nchs/nsfg/nsfg_cycle6.html"
   ]
  },
  {
   "cell_type": "markdown",
   "metadata": {
    "slideshow": {
     "slide_type": "slide"
    }
   },
   "source": [
    "## <font color='teal'>1.3 Importing the data</font>\n",
    "\n",
    "The code and data used in this book are available from https://github/AllenDowney/ThinkStats2 .\n",
    "Once you download the code, you should have a file called ```ThinkStats2/code/nsfg.py``` . If you run it, it should read a \n",
    "data file, run some tests, and print a message like \"All tests passesd.\"\n",
    "\n",
    "Let's see what it does. Pregnancy data from Cycle 6 of the NSFG is in a filed called ```2002FemPreg.dat.gz```; it is a \n",
    "gzip-compressed data file in plain text (ASCII), with fixed width columns. Each line in the file is a **record** that contains data about one pregnancy.\n",
    "\n",
    "The format of the file is documented in ```2002FemPreg.dct```, which is a Stata dictionary file. Stata is a statistical software system; a \"dictionary\" in this context is a list of variable names, types, and indices that identify where in each line fo find each variable."
   ]
  },
  {
   "cell_type": "code",
   "execution_count": null,
   "metadata": {
    "collapsed": false,
    "slideshow": {
     "slide_type": "slide"
    }
   },
   "outputs": [],
   "source": [
    "# %load '2002FemPreg.dct'\n",
    "infile dictionary {\n",
    "    _column(1)      str12                             caseid  %12s  \"RESPONDENT ID NUMBER\"\n",
    "   _column(13)       byte                           pregordr   %2f  \"PREGNANCY ORDER (NUMBER)\"\n",
    "   _column(15)       byte                          howpreg_n   %2f  \"BB-2 # OF WEEKS OR MONTHS CURRENTLY PREGNANT\"\n",
    "   _column(17)       byte                          howpreg_p   %1f  \"BB-2 CURRENT PREGNANCY LENGTH REPORTED IN MONTHS OR WEEKS\"\n",
    "   _column(18)       byte                           moscurrp   %1f  \"NUMBER OF MONTHS CURRENTLY PREGNANT\"\n",
    "   _column(19)       byte                           nowprgdk   %1f  \"BB-3 WHICH TRIMESTER -- CURRENT PREGNANCY\"\n",
    "   _column(20)       byte                           pregend1   %1f  \"BC-1 HOW PREGNANCY ENDED - 1ST MENTION\"\n",
    "   _column(21)       byte                           pregend2   %1f  \"BC-1 HOW PREGNANCY ENDED - 2ND MENTION\"\n",
    "   _column(22)       byte                           nbrnaliv   %1f  \"BC-2 NUMBER OF BABIES BORN ALIVE FROM THIS PREGNANCY\"\n",
    "   _column(23)       byte                           multbrth   %1f  \"BC-3 WAS THIS A MULTIPLE BIRTH\"\n",
    "   _column(24)        int                           cmotpreg   %4f  \"CM FOR PREGNANCY END DATE (IF NONLIVEBIRTH)\"\n",
    "   _column(28)       byte                         prgoutcome   %1f  \"OUTCOME OF PREGNANCY (BASED ON PRIORITY ORDERING)\"\n",
    "   _column(29)        int                           cmprgend   %4f  \"CM FOR PREGNANCY END DATE (REGARDLESS OF OUTCOME)\"\n",
    "   _column(33)       byte                           flgdkmo1   %1f  \"FLAG INDICATING SEASON/DK/RF FOR BC-4A DATPRGEN_M\"\n",
    "   _column(34)        int                           cmprgbeg   %4f  \"CM FOR PREGNANCY START DATE\"\n",
    "   _column(38)       byte                           ageatend   %2f  \"BC-4B R'S AGE AT PREGNANCY'S END DATE\"\n",
    "   _column(40)       byte                           hpageend   %2f  \"BC-4C FATHER'S AGE AT PREGNANCY'S END DATE\"\n",
    "   _column(42)       byte                         gestasun_m   %2f  \"BC-5 GESTATIONAL LENGTH OF PREGNANCY IN MONTHS\"\n",
    "   _column(44)       byte                         gestasun_w   %2f  \"BC-5 GESTATIONAL LENGTH OF PREGNANCY IN WEEKS\"\n",
    "   _column(46)       byte                            wksgest   %2f  \"GESTATIONAL LENGTH OF COMPLETED PREGNANCY (IN WEEKS)\"\n",
    "   _column(48)       byte                            mosgest   %2f  \"GESTATIONAL LENGTH OF COMPLETED PREGNANCY (IN MONTHS)\"\n",
    "   _column(50)       byte                            dk1gest   %1f  \"BC-6 DK FOLLOWUP FOR GESTATIONAL LENGTH OF A STILLBIRTH\"\n",
    "   _column(51)       byte                            dk2gest   %1f  \"BC-7 DK FOLLOWUP FOR GESTATIONAL LENGTH OF A LIVEBIRTH\"\n",
    "   _column(52)       byte                            dk3gest   %1f  \"BC-8 DK FOLLOWUP FOR GESTATIONAL LENGTH OF A MISCARR/ABOR/ECTOP\"\n",
    "   _column(53)       byte                      bpa_bdscheck1   %1f  \"WHETHER 1ST LIVEBORN BABY FROM THIS PREGNANCY WAS BPA OR BDS\"\n",
    "   _column(54)       byte                      bpa_bdscheck2   %1f  \"WHETHER 2ND LIVEBORN BABY FROM THIS PREGNANCY WAS BPA OR BDS\"\n",
    "   _column(55)       byte                      bpa_bdscheck3   %1f  \"WHETHER 3RD LIVEBORN BABY FROM THIS PREGNANCY WAS BPA OR BDS\"\n",
    "   _column(56)       byte                            babysex   %1f  \"BD-2 SEX OF 1ST LIVEBORN BABY FROM THIS PREGNANCY\"\n",
    "   _column(57)       byte                        birthwgt_lb   %2f  \"BD-3 BIRTHWEIGHT IN POUNDS - 1ST BABY FROM THIS PREGNANCY\"\n",
    "   _column(59)       byte                        birthwgt_oz   %2f  \"BD-3 BIRTHWEIGHT IN OUNCES - 1ST BABY FROM THIS PREGNANCY\"\n",
    "   _column(61)       byte                           lobthwgt   %1f  \"BD-4 IS BABY LOW BIRTHWEIGHT- 1ST BABY FROM THIS PREGNANCY\"\n",
    "   _column(62)       byte                           babysex2   %1f  \"BD-2 SEX OF 2ND LIVEBORN BABY FROM THIS PREGNANCY\"\n",
    "   _column(63)       byte                       birthwgt_lb2   %2f  \"BD-3 BIRTHWEIGHT IN POUNDS - 2ND BABY FROM THIS PREGNANCY\"\n",
    "   _column(65)       byte                       birthwgt_oz2   %2f  \"BD-3 BIRTHWEIGHT IN OUNCES - 2ND BABY FROM THIS PREGNANCY\"\n",
    "   _column(67)       byte                          lobthwgt2   %1f  \"BD-4 IS BABY LOW BIRTHWEIGHT- 2ND BABY FROM THIS PREGNANCY\"\n",
    "   _column(68)       byte                           babysex3   %1f  \"BD-2 SEX OF 3RD LIVEBORN BABY FROM THIS PREGNANCY\"\n",
    "   _column(69)       byte                       birthwgt_lb3   %2f  \"BD-3 BIRTHWEIGHT IN POUNDS - 3RD BABY FROM THIS PREGNANCY\"\n",
    "   _column(71)       byte                       birthwgt_oz3   %2f  \"BD-3 BIRTHWEIGHT IN OUNCES - 3RD BABY FROM THIS PREGNANCY\"\n",
    "   _column(73)       byte                          lobthwgt3   %1f  \"BD-4 IS BABY LOW BIRTHWEIGHT- 3RD BABY FROM THIS PREGNANCY\"\n",
    "   _column(74)        int                           cmbabdob   %4f  \"CM FOR BABY'S OR BABIES' DATE OF BIRTH (DELIVERY DATE)\"\n",
    "   _column(78)        int                             kidage   %4f  \"CURRENT AGE (IN MOS) OF R'S CHILD(REN) FROM THIS PREGNANCY\"\n",
    "   _column(82)       byte                            hpagelb   %2f  \"BD-6 FATHER'S AGE AT TIME OF CHILD(REN) S BIRTH\"\n",
    "   _column(84)       byte                           birthplc   %1f  \"BD-7 PLACE WHERE R GAVE BIRTH\"\n",
    "   _column(85)       byte                          paybirth1   %1f  \"BD-8 PAYMENT FOR DELIVERY - 1ST MENTION\"\n",
    "   _column(86)       byte                          paybirth2   %1f  \"BD-8 PAYMENT FOR DELIVERY - 2ND MENTION\"\n",
    "   _column(87)       byte                          paybirth3   %1f  \"BD-8 PAYMENT FOR DELIVERY - 3RD MENTION\"\n",
    "   _column(88)       byte                           knewpreg   %2f  \"BE-1 WEEKS PREGNANT WHEN R LEARNED SHE WAS PREGNANT\"\n",
    "   _column(90)       byte                           trimestr   %1f  \"BE-2A DK FOLLOWUP FOR KNEWPREG WHEN GESTATION >= 6 MOS\"\n",
    "   _column(91)       byte                           ltrimest   %1f  \"BE-2B DK FOLLOWUP FOR KNEWPREG WHEN GESTATION < 6 MOS\"\n",
    "   _column(92)       byte                           priorsmk   %1f  \"BE-3 AMOUNT R'SMOKED IN 6 MOS BEFORE R KNEW SHE WAS PREGNANT\"\n",
    "   _column(93)       byte                           postsmks   %1f  \"BE-4 R'SMOKED AT ALL AFTER R KNEW SHE WAS PREGNANT\"\n",
    "   _column(94)       byte                           npostsmk   %1f  \"BE-5 AMOUNT R'SMOKED DURING PREGNANCY AFTER R KNEW SHE WAS PREG\"\n",
    "   _column(95)       byte                           getprena   %1f  \"BE-6 ANY PRENATAL CARE FOR THIS PREGNANCY\"\n",
    "   _column(96)       byte                           bgnprena   %2f  \"BE-7 WEEKS PREGNANT AT FIRST PRENATAL CARE VISIT\"\n",
    "   _column(98)       byte                            pnctrim   %1f  \"BE-8A DK FOLLOWUP FOR BGNPRENA WHEN GESTATION >= 6 MOS\"\n",
    "   _column(99)       byte                            lpnctri   %1f  \"BE-8B DK FOLLOWUP FOR BGNPRENA WHEN GESTATION < 6 MOS\"\n",
    "  _column(100)       byte                           workpreg   %1f  \"BF-1 R WORKED AT ALL DURING THIS PREGNANCY\"\n",
    "  _column(101)       byte                           workborn   %1f  \"BF-2 MATERNITY LEAVE TAKEN FOR THIS PREGNANCY\"\n",
    "  _column(102)       byte                            didwork   %1f  \"BF-3 WHY NO MATERNITY LEAVE WAS TAKEN FOR THIS PREGNANCY\"\n",
    "  _column(103)       byte                           matweeks   %2f  \"BF-4 WEEKS OF MATERNITY LEAVE TAKEN FOR THIS PREGNANCY\"\n",
    "  _column(105)       byte                            weeksdk   %1f  \"BF-5 DK FOLLOWUP - WAS MATERNITY LEAVE <=4 OR > 4 WEEKS\"\n",
    "  _column(106)       byte                           matleave   %2f  \"BF-6 WEEKS OF PAID MATERNITY LEAVE FOR THIS PREGNANCY\"\n",
    "  _column(108)       byte                         matchfound   %1f  \"CHECK ON WHETHER CHILD MATCHES BIO CHILD IN HH ROSTER - 1ST\"\n",
    "  _column(109)       byte                           livehere   %1f  \"BG-1 WHETHER CHILD LIVES WITH R - 1ST FROM THIS PREGNANCY\"\n",
    "  _column(110)       byte                           alivenow   %1f  \"BG-2 WHETHER CHILD IS STILL ALIVE - 1ST FROM THIS PREGNANCY\"\n",
    "  _column(111)        int                           cmkidied   %4f  \"CM FOR CHLD'S DATE OF DEATH - 1ST FROM THIS PREGNANCY\"\n",
    "  _column(115)        int                           cmkidlft   %4f  \"CM FOR DATE CHILD STOPPED LIVING W/R - 1ST FROM THIS PREGNANCY\"\n",
    "  _column(119)        int                            lastage   %3f  \"AGE (IN MOS) WHEN CHILD LAST LIVED W/R-1ST FROM THIS PREGNANCY\"\n",
    "  _column(122)       byte                           wherenow   %1f  \"BG-5 WHERE CHILD LIVES NOW - 1ST FROM THIS PREGNANCY\"\n",
    "  _column(123)       byte                           legagree   %1f  \"BG-6 LEGAL AGREEMENT FOR WHERE CHILD LIVES - 1ST FROM THIS PREG\"\n",
    "  _column(124)       byte                           parenend   %1f  \"BG-7 IS R STILL LEGAL MOTHER OF CHILD - 1ST FROM THIS PREGNANCY\"\n",
    "  _column(125)       byte                           anynurse   %1f  \"BH-1 WHETHER R BREASTFED THIS CHILD AT ALL - 1ST FROM THIS PREG\"\n",
    "  _column(126)       byte                           fedsolid   %1f  \"BH-2 HAS R BEGUN SUPPLEMENTATION FOR CHILD - 1ST FROM THIS PREG\"\n",
    "  _column(127)        int                         frsteatd_n   %3f  \"BH-3 AGE (MOS/WKS/DAY) WHEN 1ST SUPPLEMENTED - 1ST FROM THIS PREG\"\n",
    "  _column(130)       byte                         frsteatd_p   %1f  \"BH-3 UNITS (MOS/WKS/DAYS) FOR FRSTEATD_N - 1ST FROM THIS PREG\"\n",
    "  _column(131)        int                           frsteatd   %3f  \"AGE (IN MOS) WHEN 1ST SUPPLEMENTED - 1ST FROM THIS PREG\"\n",
    "  _column(134)       byte                           quitnurs   %1f  \"BH-4 HAS R'STOPPED BREASTFEEDING CHILD - 1ST FROM THIS PREG\"\n",
    "  _column(135)        int                         ageqtnur_n   %3f  \"BH-5 AGE (MOS/WKS/DAY) WHEN STOPPED BREASTFEEDING - 1ST FROM THIS PREG\"\n",
    "  _column(138)       byte                         ageqtnur_p   %1f  \"BH-5 UNITS (MOS/WKS/DAYS) FOR AGEQTNUR_N - 1ST FROM THIS PREG\"\n",
    "  _column(139)        int                           ageqtnur   %3f  \"AGE (IN MOS) WHEN R'STOPPED NURSING CHILD - 1ST FROM THIS PREG\"\n",
    "  _column(142)       byte                        matchfound2   %1f  \"CHECK ON WHETHER CHILD MATCHES BIO CHILD IN HH ROSTER - 2ND\"\n",
    "  _column(143)       byte                          livehere2   %1f  \"BG-1 WHETHER CHILD LIVES WITH R - 2ND FROM THIS PREGNANCY\"\n",
    "  _column(144)       byte                          alivenow2   %1f  \"BG-2 WHETHER CHILD IS STILL ALIVE - 2ND FROM THIS PREGNANCY\"\n",
    "  _column(145)        int                          cmkidied2   %4f  \"CM FOR CHLD'S DATE OF DEATH - 2ND FROM THIS PREGNANCY\"\n",
    "  _column(149)        int                          cmkidlft2   %4f  \"CM FOR DATE CHILD STOPPED LIVING W/R - 2ND FROM THIS PREGNANCY\"\n",
    "  _column(153)        int                           lastage2   %3f  \"AGE (IN MOS) WHEN CHILD LAST LIVED W/R - 2ND FROM THIS PREGNANCY\"\n",
    "  _column(156)       byte                          wherenow2   %1f  \"BG-5 WHERE CHILD LIVES NOW - 2ND FROM THIS PREGNANCY\"\n",
    "  _column(157)       byte                          legagree2   %1f  \"BG-6 LEGAL AGREEMENT FOR WHERE CHILD LIVES - 2ND FROM THIS PREG\"\n",
    "  _column(158)       byte                          parenend2   %1f  \"BG-7 IS R STILL LEGAL MOTHER OF CHILD - 2ND FROM THIS PREGNANCY\"\n",
    "  _column(159)       byte                          anynurse2   %1f  \"BH-1 WHETHER R BREASTFED THIS CHILD AT ALL - 2ND FROM THIS PREG\"\n",
    "  _column(160)       byte                          fedsolid2   %1f  \"BH-2 HAS R BEGUN SUPPLEMENTATION FOR CHILD - 2ND FROM THIS PREG\"\n",
    "  _column(161)       byte                        frsteatd_n2   %2f  \"BH-3 AGE (MOS/WKS/DAY) WHEN 1ST SUPPLEMENTED - 2ND FROM THIS PREG\"\n",
    "  _column(163)       byte                        frsteatd_p2   %1f  \"BH-3 UNITS (MOS/WKS/DAYS) FOR FRSTEATD_N - 2ND FROM THIS PREG\"\n",
    "  _column(164)       byte                          frsteatd2   %2f  \"AGE (IN MOS) WHEN 1ST SUPPLEMENTED - 2ND FROM THIS PREG\"\n",
    "  _column(166)       byte                          quitnurs2   %1f  \"BH-4 HAS R'STOPPED BREASTFEEDING CHILD - 2ND FROM THIS PREG\"\n",
    "  _column(167)       byte                        ageqtnur_n2   %2f  \"BH-5 AGE (MOS/WKS/DAY) WHEN STOPPED BREASTFEEDING - 2ND FROM THIS PREG\"\n",
    "  _column(169)       byte                        ageqtnur_p2   %1f  \"BH-5 UNITS (MOS/WKS/DAYS) FOR AGEQTNUR_N - 2ND FROM THIS PREG\"\n",
    "  _column(170)       byte                          ageqtnur2   %2f  \"AGE (IN MOS) WHEN R'STOPPED NURSING CHILD - 2ND FROM THIS PREG\"\n",
    "  _column(172)       byte                        matchfound3   %1f  \"CHECK ON WHETHER CHILD MATCHES BIO CHILD IN HH ROSTER - 3RD\"\n",
    "  _column(173)       byte                          livehere3   %1f  \"BG-1 WHETHER CHILD LIVES WITH R - 3RD FROM THIS PREGNANCY\"\n",
    "  _column(174)       byte                          alivenow3   %1f  \"BG-2 WHETHER CHILD IS STILL ALIVE - 3RD FROM THIS PREGNANCY\"\n",
    "  _column(175)        int                          cmkidied3   %4f  \"CM FOR CHLD'S DATE OF DEATH - 3RD FROM THIS PREGNANCY\"\n",
    "  _column(179)        int                          cmkidlft3   %4f  \"CM FOR DATE CHILD STOPPED LIVING W/R - 3RD FROM THIS PREGNANCY\"\n",
    "  _column(183)        int                           lastage3   %3f  \"AGE (IN MOS) WHEN CHILD LAST LIVED W/R - 3RD FROM THIS PREGNANCY\"\n",
    "  _column(186)       byte                          wherenow3   %1f  \"BG-5 WHERE CHILD LIVES NOW - 3RD FROM THIS PREGNANCY\"\n",
    "  _column(187)       byte                          legagree3   %1f  \"BG-6 LEGAL AGREEMENT FOR WHERE CHILD LIVES - 3RD FROM THIS PREG\"\n",
    "  _column(188)       byte                          parenend3   %1f  \"BG-7 IS R STILL LEGAL MOTHER OF CHILD - 3RD FROM THIS PREGNANCY\"\n",
    "  _column(189)       byte                          anynurse3   %1f  \"BH-1 WHETHER R BREASTFED THIS CHILD AT ALL - 3RD FROM THIS PREG\"\n",
    "  _column(190)       byte                          fedsolid3   %1f  \"BH-2 HAS R BEGUN SUPPLEMENTATION FOR CHILD - 3RD FROM THIS PREG\"\n",
    "  _column(191)       byte                        frsteatd_n3   %1f  \"BH-3 AGE (MOS/WKS/DAY) WHEN 1ST SUPPLEMENTED - 3RD FROM THIS PREG\"\n",
    "  _column(192)       byte                        frsteatd_p3   %1f  \"BH-3 UNITS (MOS/WKS/DAYS) FOR FRSTEATD_N - 3RD FROM THIS PREG\"\n",
    "  _column(193)       byte                          frsteatd3   %1f  \"AGE (IN MOS) WHEN 1ST SUPPLEMENTED - 3RD FROM THIS PREG\"\n",
    "  _column(194)       byte                          quitnurs3   %1f  \"BH-4 HAS R'STOPPED BREASTFEEDING CHILD - 3RD FROM THIS PREG\"\n",
    "  _column(195)       byte                        ageqtnur_n3   %1f  \"BH-5 AGE (MOS/WKS/DAY) WHEN STOPPED BREASTFEEDING - 3RD FROM THIS PREG\"\n",
    "  _column(196)       byte                        ageqtnur_p3   %1f  \"BH-5 UNITS (MOS/WKS/DAYS) FOR AGEQTNUR_N - 3RD FROM THIS PREG\"\n",
    "  _column(197)       byte                          ageqtnur3   %1f  \"AGE (IN MOS) WHEN R'STOPPED NURSING CHILD - 3RD FROM THIS PREG\"\n",
    "  _column(198)        int                           cmlastlb   %4f  \"CM FOR R'S MOST RECENT LIVE BIRTH\"\n",
    "  _column(202)        int                           cmfstprg   %4f  \"CM FOR R'S FIRST COMPLETED PREGNANCY\"\n",
    "  _column(206)        int                           cmlstprg   %4f  \"CM FOR R'S MOST RECENT COMPLETED PREGNANCY\"\n",
    "  _column(210)        int                           cmintstr   %4f  \"CM FOR DATE OF BEGINNING OF PREGNANCY INTERVAL\"\n",
    "  _column(214)        int                           cmintfin   %4f  \"CM FOR DATE OF END OF PREGNANCY INTERVAL\"\n",
    "  _column(218)        int                         cmintstrop   %4f  \"OPEN INTERVAL: CM OF DATE OF BEGINNING\"\n",
    "  _column(222)        int                         cmintfinop   %4f  \"OPEN INTERVAL: CM OF DATE OF END (MON OF INTERVIEW)\"\n",
    "  _column(226)        int                         cmintstrcr   %4f  \"CURRENTLY PREGNANT: CM OF DATE OF BEGINNING OF INTERVAL\"\n",
    "  _column(230)        int                         cmintfincr   %4f  \"CURRENTLY PREGNANT: CM OF DATE OF END OF INTERVAL (MON OF INTERVIEW)\"\n",
    "  _column(234)       byte                           evuseint   %1f  \"EG-1 USE ANY METHOD IN PREGNANCY INTERVAL?\"\n",
    "  _column(235)       byte                           stopduse   %1f  \"EG-2 BEFORE YOU BECAME PREG, STOP USING ALL METHODS?\"\n",
    "  _column(236)       byte                           whystopd   %1f  \"EG-3 STOP USING METHODS BEFORE PREG BECAUSE WANTED PREG?\"\n",
    "  _column(237)       byte                         whatmeth01   %2f  \"EG-4 METHOD(S) USING WHEN BECAME PREG - 1ST MENTION\"\n",
    "  _column(239)       byte                         whatmeth02   %2f  \"EG-4 METHOD(S) USING WHEN BECAME PREG - 2ND MENTION\"\n",
    "  _column(241)       byte                         whatmeth03   %2f  \"EG-4 METHOD(S) USING WHEN BECAME PREG - 3RD MENTION\"\n",
    "  _column(243)       byte                         whatmeth04   %2f  \"EG-4 METHOD(S) USING WHEN BECAME PREG - 4TH MENTION\"\n",
    "  _column(245)       byte                           resnouse   %1f  \"EG-5 REASON NOT USING/HAD STOPPED USING METHOD BEC. WANTED PREG?\"\n",
    "  _column(246)       byte                           wantbold   %1f  \"EG-6 RIGHT BEF PREG, WANT TO HAVE BABY AT ANY TIME IN FUTURE?\"\n",
    "  _column(247)       byte                           probbabe   %1f  \"EG-7 PROBABLY WANT BABY AT ANY TIME OR NOT?\"\n",
    "  _column(248)       byte                            cnfrmno   %1f  \"EG-8 VERIFY DIDN'T WANT BABY AT ANY TIME IN FUTURE\"\n",
    "  _column(249)       byte                           wantbld2   %1f  \"EG-9 RIGHT BEFORE PREG, WANT TO HAVE BABY AT ANY TIME IN FUTURE? (2ND ASKING)\"\n",
    "  _column(250)       byte                           timingok   %1f  \"EG-10 BECOME PREG TOO SOON, RIGHT TIME, OR LATER THAN YOU WANTED?\"\n",
    "  _column(251)        int                          toosoon_n   %3f  \"EG-11 HOW MUCH SOONER THAN WANTED BECAME PREG (MONTHS OR YEARS)\"\n",
    "  _column(254)       byte                          toosoon_p   %1f  \"EG-11 CHOOSE MONS OR YRS FOR HOW MUCH SOONER BECAME PREG THAN WANTED\"\n",
    "  _column(255)       byte                           wthpart1   %1f  \"EG-12A RIGHT BEFORE PREG, WANT TO HAVE BABY WITH THAT PARTNER?\"\n",
    "  _column(256)       byte                           wthpart2   %1f  \"EG-12B RIGHT BEF. PREG, THINK MIGHT EVER WANT TO HAVE BABY W/THAT PARTNER?\"\n",
    "  _column(257)       byte                           feelinpg   %2f  \"EG-13 HAPPINESS TO BE PREG. SCALE (1-10)\"\n",
    "  _column(259)       byte                            hpwnold   %1f  \"EG-16 RIGHT BEF PREG, DID THE FATHER WANT R TO HAVE BABY AT ANY TIME IN FUTURE?\"\n",
    "  _column(260)       byte                            timokhp   %1f  \"EG-17 R BECAME PREG SOONER, RIGHT TIME, OR LATER THAN FATHER OF PREG WANTED\"\n",
    "  _column(261)       byte                            cohpbeg   %1f  \"EG-18A WAS R LIVING W/FATHER OF PREG AT BEGINNING OF PREG\"\n",
    "  _column(262)       byte                            cohpend   %1f  \"EG-18B WAS R LIVING W/FATHER OF PREG WHEN PREG ENDED/BABY WAS BORN\"\n",
    "  _column(263)       byte                           tellfath   %1f  \"EG-19 DID R TELL FATHER OF PREG THAT SHE WAS PREGNANT\"\n",
    "  _column(264)       byte                           whentell   %1f  \"EG-20 WHEN DID R TELL FATHER OF PREG ABOUT PREGNANCY: DURING OR AFTER?\"\n",
    "  _column(265)       byte                           tryscale   %2f  \"EG-21 HOW HARD TRYING TO GET/AVOID PREGNANCY (0-10)\"\n",
    "  _column(267)       byte                           wantscal   %2f  \"EG-22 HOW MUCH WANTED TO GET/AVOID PREGNANCY (0-10)\"\n",
    "  _column(269)       byte                            whyprg1   %1f  \"EG-23 (UNINTENDED PREG): METHOD FAIL OR R WASN T USING PROPERLY-1ST MENTION\"\n",
    "  _column(270)       byte                            whyprg2   %1f  \"EG-23 (UNINTENDED PREG): METHOD FAIL OR R WASN T USING PROPERLY-2ND MENTION\"\n",
    "  _column(271)       byte                          whynouse1   %1f  \"EG-24 (UNINTENDED PREG) REASON DIDN'T USE METHOD - 1ST MENTION\"\n",
    "  _column(272)       byte                          whynouse2   %1f  \"EG-24 (UNINTENDED PREG) REASON DIDN'T USE METHOD - 2ND MENTION\"\n",
    "  _column(273)       byte                          whynouse3   %1f  \"EG-24 (UNINTENDED PREG) REASON DIDN'T USE METHOD - 3RD MENTION\"\n",
    "  _column(274)       byte                           anyusint   %1f  \"ANY METHOD USE IN PREGNANCY INTERVAL\"\n",
    "  _column(275)       byte                           prglngth   %2f  \"DURATION OF COMPLETED PREGNANCY IN WEEKS\"\n",
    "  _column(277)       byte                            outcome   %1f  \"PREGNANCY OUTCOME\"\n",
    "  _column(278)       byte                           birthord   %2f  \"BIRTH ORDER\"\n",
    "  _column(280)        int                             datend   %4f  \"CM DATE PREGNANCY ENDED\"\n",
    "  _column(284)        int                            agepreg   %4f  \"AGE AT PREGNANCY OUTCOME\"\n",
    "  _column(288)        int                            datecon   %4f  \"CM DATE OF CONCEPTION\"\n",
    "  _column(292)        int                             agecon   %4f  \"AGE AT TIME OF CONCEPTION\"\n",
    "  _column(296)       byte                           fmarout5   %1f  \"FORMAL MARITAL STATUS AT PREGNANCY OUTCOME\"\n",
    "  _column(297)       byte                           pmarpreg   %1f  \"WHETHER PREGNANCY ENDED BEFORE R'S 1ST MARRIAGE (PREMARITALLY)\"\n",
    "  _column(298)       byte                           rmarout6   %1f  \"INFORMAL MARITAL STATUS AT PREGNANCY OUTCOME - 6 CATEGORIES\"\n",
    "  _column(299)       byte                           fmarcon5   %1f  \"FORMAL MARITAL STATUS AT CONCEPTION - 5 CATEGORIES\"\n",
    "  _column(300)       byte                           learnprg   %2f  \"NUMBER OF WEEKS PREGNANT WHEN R LEARNED SHE WAS PREGNANT\"\n",
    "  _column(302)       byte                           pncarewk   %2f  \"NUMBER OF WEEKS PREGNANT AT FIRST PRENATAL CARE\"\n",
    "  _column(304)       byte                           paydeliv   %1f  \"PAYMENT FOR DELIVERY\"\n",
    "  _column(305)       byte                               lbw1   %1f  \"LOW BIRTHWEIGHT - BABY 1\"\n",
    "  _column(306)        int                           bfeedwks   %3f  \"DURATION OF BREASTFEEDING IN WEEKS\"\n",
    "  _column(309)       byte                           maternlv   %1f  \"USE OF MATERNITY LEAVE\"\n",
    "  _column(310)       byte                           oldwantr   %1f  \"WANTEDNESS OF PREGNANCY - RESPONDENT - CYCLE 4 VERSION\"\n",
    "  _column(311)       byte                           oldwantp   %1f  \"WANTEDNESS OF PREG - R'S PARTNER (FATHER OF PREGNANCY) - CYCLE 4 VERSION\"\n",
    "  _column(312)       byte                           wantresp   %1f  \"WANTEDNESS OF PREGNANCY - RESPONDENT - CYCLE 5 VERSION\"\n",
    "  _column(313)       byte                           wantpart   %1f  \"WANTEDNESS OF PREG - R'S PARTNER (FATHER OF PREGNANCY) - CYCLE 5 VERSION\"\n",
    "  _column(314)        int                            cmbirth   %4f  \"CENTURY MONTH OF R'S BIRTH\"\n",
    "  _column(318)       byte                               ager   %2f  \"AGE AT INTERVIEW\"\n",
    "  _column(320)       byte                            agescrn   %2f  \"R'S AGE AT SCREENER\"\n",
    "  _column(322)       byte                           fmarital   %1f  \"FORMAL MARITAL STATUS\"\n",
    "  _column(323)       byte                           rmarital   %1f  \"INFORMAL MARITAL STATUS\"\n",
    "  _column(324)       byte                             educat   %2f  \"EDUCATION (COMPLETED YEARS OF SCHOOLING)\"\n",
    "  _column(326)       byte                             hieduc   %2f  \"HIGHEST COMPLETED YEAR OF SCHOOL OR DEGREE\"\n",
    "  _column(328)       byte                               race   %1f  \"RACE\"\n",
    "  _column(329)       byte                           hispanic   %1f  \"HISPANIC ORIGIN\"\n",
    "  _column(330)       byte                           hisprace   %1f  \"RACE AND HISPANIC ORIGIN\"\n",
    "  _column(331)       byte                           rcurpreg   %1f  \"PREGNANT AT TIME OF INTERVIEW\"\n",
    "  _column(332)       byte                            pregnum   %2f  \"CAPI-BASED TOTAL NUMBER OF PREGNANCIES\"\n",
    "  _column(334)       byte                             parity   %2f  \"TOTAL NUMBER OF LIVE BIRTHS\"\n",
    "  _column(336)       byte                           insuranc   %1f  \"HEALTH INSURANCE COVERAGE STATUS\"\n",
    "  _column(337)       byte                           pubassis   %1f  \"WHETHER R RECEIVED PUBLIC ASSISTANCE IN 2001\"\n",
    "  _column(338)        int                            poverty   %3f  \"POVERTY LEVEL INCOME\"\n",
    "  _column(341)       byte                           laborfor   %1f  \"LABOR FORCE STATUS\"\n",
    "  _column(342)       byte                           religion   %1f  \"CURRENT RELIGIOUS AFFILIATION\"\n",
    "  _column(343)       byte                              metro   %1f  \"PLACE OF RESIDENCE (METROPOLITAN / NONMETROPOLITAN)\"\n",
    "  _column(344)       byte                             brnout   %1f  \"IB-8 R BORN OUTSIDE OF US\"\n",
    "  _column(345)        int                            yrstrus   %4f  \"YEAR R CAME TO THE UNITED STATES\"\n",
    "  _column(349)       byte                         prglngth_i   %1f  \"PRGLNGTH IMPUTATION FLAG\"\n",
    "  _column(350)       byte                          outcome_i   %1f  \"OUTCOME IMPUTATION FLAG\"\n",
    "  _column(351)       byte                         birthord_i   %1f  \"BIRTHORD IMPUTATION FLAG\"\n",
    "  _column(352)       byte                           datend_i   %1f  \"DATEND IMPUTATION FLAG\"\n",
    "  _column(353)       byte                          agepreg_i   %1f  \"AGEPREG IMPUTATION FLAG\"\n",
    "  _column(354)       byte                          datecon_i   %1f  \"DATECON IMPUTATION FLAG\"\n",
    "  _column(355)       byte                           agecon_i   %1f  \"AGECON IMPUTATION FLAG\"\n",
    "  _column(356)       byte                         fmarout5_i   %1f  \"FMAROUT5 IMPUTATION FLAG\"\n",
    "  _column(357)       byte                         pmarpreg_i   %1f  \"PMARPREG IMPUTATION FLAG\"\n",
    "  _column(358)       byte                         rmarout6_i   %1f  \"RMAROUT6 IMPUTATION FLAG\"\n",
    "  _column(359)       byte                         fmarcon5_i   %1f  \"FMARCON5 IMPUTATION FLAG\"\n",
    "  _column(360)       byte                         learnprg_i   %1f  \"LEARNPRG IMPUTATION FLAG\"\n",
    "  _column(361)       byte                         pncarewk_i   %1f  \"PNCAREWK IMPUTATION FLAG\"\n",
    "  _column(362)       byte                         paydeliv_i   %1f  \"PAYDELIV IMPUTATION FLAG\"\n",
    "  _column(363)       byte                             lbw1_i   %1f  \"LBW1 IMPUTATION FLAG\"\n",
    "  _column(364)       byte                         bfeedwks_i   %1f  \"BFEEDWKS IMPUTATION FLAG\"\n",
    "  _column(365)       byte                         maternlv_i   %1f  \"MATERNLV IMPUTATION FLAG\"\n",
    "  _column(366)       byte                         oldwantr_i   %1f  \"OLDWANTR IMPUTATION FLAG\"\n",
    "  _column(367)       byte                         oldwantp_i   %1f  \"OLDWANTP IMPUTATION FLAG\"\n",
    "  _column(368)       byte                         wantresp_i   %1f  \"WANTRESP IMPUTATION FLAG\"\n",
    "  _column(369)       byte                         wantpart_i   %1f  \"WANTPART IMPUTATION FLAG\"\n",
    "  _column(370)       byte                             ager_i   %1f  \"AGER IMPUTATION FLAG\"\n",
    "  _column(371)       byte                         fmarital_i   %1f  \"FMARITAL IMPUTATION FLAG\"\n",
    "  _column(372)       byte                         rmarital_i   %1f  \"RMARITAL IMPUTATION FLAG\"\n",
    "  _column(373)       byte                           educat_i   %1f  \"EDUCAT IMPUTATION FLAG\"\n",
    "  _column(374)       byte                           hieduc_i   %1f  \"HIEDUC IMPUTATION FLAG\"\n",
    "  _column(375)       byte                             race_i   %1f  \"RACE IMPUTATION FLAG\"\n",
    "  _column(376)       byte                         hispanic_i   %1f  \"HISPANIC IMPUTATION FLAG\"\n",
    "  _column(377)       byte                         hisprace_i   %1f  \"HISPRACE IMPUTATION FLAG\"\n",
    "  _column(378)       byte                         rcurpreg_i   %1f  \"RCURPREG IMPUTATION FLAG\"\n",
    "  _column(379)       byte                          pregnum_i   %1f  \"PREGNUM IMPUTATION FLAG\"\n",
    "  _column(380)       byte                           parity_i   %1f  \"PARITY IMPUTATION FLAG\"\n",
    "  _column(381)       byte                         insuranc_i   %1f  \"INSURANC IMPUTATION FLAG\"\n",
    "  _column(382)       byte                         pubassis_i   %1f  \"PUBASSIS IMPUTATION FLAG\"\n",
    "  _column(383)       byte                          poverty_i   %1f  \"POVERTY IMPUTATION FLAG\"\n",
    "  _column(384)       byte                         laborfor_i   %1f  \"LABORFOR IMPUTATION FLAG\"\n",
    "  _column(385)       byte                         religion_i   %1f  \"RELIGION IMPUTATION FLAG\"\n",
    "  _column(386)       byte                            metro_i   %1f  \"METRO IMPUTATION FLAG\"\n",
    "  _column(387)      float                            basewgt  %18f  \"BASE WEIGHT\"\n",
    "  _column(405)     double                    adj_mod_basewgt  %18f  \"ADJUSTED MODIFIED BASE WEIGHT\"\n",
    "  _column(423)     double                           finalwgt  %18f  \"FINAL POST-STRATIFIED AND ADJUSTED WEIGHT\"\n",
    "  _column(441)       byte                             secu_p   %1f  \"SCRAMBLED VERSION OF THE SAMPLING ERROR COMPUTATIONAL UNIT\"\n",
    "  _column(442)       byte                               sest   %2f  \"SCRAMBLED VERSION OF THE STRATUM\"\n",
    "  _column(444)        int                            cmintvw   %4f  \"CENTURY MONTH OF INTERVIEW DATE\"\n",
    "\t}\n"
   ]
  },
  {
   "cell_type": "markdown",
   "metadata": {
    "slideshow": {
     "slide_type": "slide"
    }
   },
   "source": [
    "This dictionary describes two variables: ```caseid``` is a 12-character string that represents the resondent ID; ```pregorder``` is a one-byte integer that indicates which pregnancy this record describes for this respondent.\n",
    "\n",
    "The code you downloaded includes ```thinkstats2.py```, which is a Python module that contains many classes and functions used in this book, including functions that read the Stata dictionary and the NSFG data file. "
   ]
  },
  {
   "cell_type": "code",
   "execution_count": 10,
   "metadata": {
    "collapsed": false,
    "slideshow": {
     "slide_type": "slide"
    }
   },
   "outputs": [],
   "source": [
    "# %load nsfg.py\n",
    "\"\"\"This file contains code for use with \"Think Stats\",\n",
    "by Allen B. Downey, available from greenteapress.com\n",
    "\n",
    "Copyright 2010 Allen B. Downey\n",
    "License: GNU GPLv3 http://www.gnu.org/licenses/gpl.html\n",
    "\"\"\"\n",
    "\n",
    "from __future__ import print_function\n",
    "\n",
    "from collections import defaultdict\n",
    "import numpy as np\n",
    "import sys\n",
    "\n",
    "import thinkstats2\n",
    "\n",
    "\n",
    "def ReadFemPreg(dct_file='2002FemPreg.dct',\n",
    "                dat_file='2002FemPreg.dat.gz'):\n",
    "    \"\"\"Reads the NSFG pregnancy data.\n",
    "\n",
    "    dct_file: string file name\n",
    "    dat_file: string file name\n",
    "\n",
    "    returns: DataFrame\n",
    "    \"\"\"\n",
    "    dct = thinkstats2.ReadStataDct(dct_file)\n",
    "    df = dct.ReadFixedWidth(dat_file, compression='gzip')\n",
    "    CleanFemPreg(df)\n",
    "    return df\n",
    "\n",
    "\n",
    "def CleanFemPreg(df):\n",
    "    \"\"\"Recodes variables from the pregnancy frame.\n",
    "\n",
    "    df: DataFrame\n",
    "    \"\"\"\n",
    "    # mother's age is encoded in centiyears; convert to years\n",
    "    df.agepreg /= 100.0\n",
    "\n",
    "    # birthwgt_lb contains at least one bogus value (51 lbs)\n",
    "    # replace with NaN\n",
    "    df.loc[df.birthwgt_lb > 20, 'birthwgt_lb'] = np.nan\n",
    "    \n",
    "    # replace 'not ascertained', 'refused', 'don't know' with NaN\n",
    "    na_vals = [97, 98, 99]\n",
    "    df.birthwgt_lb.replace(na_vals, np.nan, inplace=True)\n",
    "    df.birthwgt_oz.replace(na_vals, np.nan, inplace=True)\n",
    "    df.hpagelb.replace(na_vals, np.nan, inplace=True)\n",
    "\n",
    "    df.babysex.replace([7, 9], np.nan, inplace=True)\n",
    "    df.nbrnaliv.replace([9], np.nan, inplace=True)\n",
    "\n",
    "    # birthweight is stored in two columns, lbs and oz.\n",
    "    # convert to a single column in lb\n",
    "    # NOTE: creating a new column requires dictionary syntax,\n",
    "    # not attribute assignment (like df.totalwgt_lb)\n",
    "    df['totalwgt_lb'] = df.birthwgt_lb + df.birthwgt_oz / 16.0    \n",
    "\n",
    "    # due to a bug in ReadStataDct, the last variable gets clipped;\n",
    "    # so for now set it to NaN\n",
    "    df.cmintvw = np.nan\n",
    "\n",
    "\n",
    "def MakePregMap(df):\n",
    "    \"\"\"Make a map from caseid to list of preg indices.\n",
    "\n",
    "    df: DataFrame\n",
    "\n",
    "    returns: dict that maps from caseid to list of indices into preg df\n",
    "    \"\"\"\n",
    "    d = defaultdict(list)\n",
    "    for index, caseid in df.caseid.iteritems():\n",
    "        d[caseid].append(index)\n",
    "    return d\n",
    "\n",
    "\n",
    "def main(script):\n",
    "    \"\"\"Tests the functions in this module.\n",
    "\n",
    "    script: string script name\n",
    "    \"\"\"\n",
    "    df = ReadFemPreg()\n",
    "    print(df.shape)\n",
    "\n",
    "    assert len(df) == 13593\n",
    "\n",
    "    assert df.caseid[13592] == 12571\n",
    "    assert df.pregordr.value_counts()[1] == 5033\n",
    "    assert df.nbrnaliv.value_counts()[1] == 8981\n",
    "    assert df.babysex.value_counts()[1] == 4641\n",
    "    assert df.birthwgt_lb.value_counts()[7] == 3049\n",
    "    assert df.birthwgt_oz.value_counts()[0] == 1037\n",
    "    assert df.prglngth.value_counts()[39] == 4744\n",
    "    assert df.outcome.value_counts()[1] == 9148\n",
    "    assert df.birthord.value_counts()[1] == 4413\n",
    "    assert df.agepreg.value_counts()[22.75] == 100\n",
    "    assert df.totalwgt_lb.value_counts()[7.5] == 302\n",
    "\n",
    "    weights = df.finalwgt.value_counts()\n",
    "    key = max(weights.keys())\n",
    "    assert df.finalwgt.value_counts()[key] == 6\n",
    "\n",
    "    print('%s: All tests passed.' % script)\n",
    "\n",
    "#if __name__ == '__main__':\n",
    "#    main(*sys.argv)\n"
   ]
  },
  {
   "cell_type": "markdown",
   "metadata": {
    "slideshow": {
     "slide_type": "slide"
    }
   },
   "source": [
    "```ReadStataDct``` takes the name of the dictionary file and returns ```dct```, a ```FixedWidthVariables``` object that contains information from the dictionary file. ```dct``` provides ```ReadFixedWidth```, which reads the data file."
   ]
  },
  {
   "cell_type": "markdown",
   "metadata": {
    "slideshow": {
     "slide_type": "slide"
    }
   },
   "source": [
    "## <font color='teal'>1.4 DataFrames</font>\n",
    "\n",
    "The result of ```ReadFixedWidth``` is a DataFrame, which is the fundamental data structure provided by pandas, which is a Python data and statistics package we'll use throughout this book. A DataFrame contains a row for each record, in this case one row per pregnancy, and a column for each variable.\n",
    "\n",
    "In addition to the data, a DataFrame also contains the variable names and their types, and it provides methods for accessing and modifying the data.\n",
    "\n",
    "If you print ```df``` you get a truncated view of the rows and columns, and the shape of the DataFrame, which is 13593 rows/records and 244 columns/variables:"
   ]
  },
  {
   "cell_type": "code",
   "execution_count": 11,
   "metadata": {
    "collapsed": false,
    "slideshow": {
     "slide_type": "fragment"
    }
   },
   "outputs": [
    {
     "data": {
      "text/html": [
       "<div>\n",
       "<table border=\"1\" class=\"dataframe\">\n",
       "  <thead>\n",
       "    <tr style=\"text-align: right;\">\n",
       "      <th></th>\n",
       "      <th>caseid</th>\n",
       "      <th>pregordr</th>\n",
       "      <th>howpreg_n</th>\n",
       "      <th>howpreg_p</th>\n",
       "      <th>moscurrp</th>\n",
       "      <th>nowprgdk</th>\n",
       "      <th>pregend1</th>\n",
       "      <th>pregend2</th>\n",
       "      <th>nbrnaliv</th>\n",
       "      <th>multbrth</th>\n",
       "      <th>...</th>\n",
       "      <th>laborfor_i</th>\n",
       "      <th>religion_i</th>\n",
       "      <th>metro_i</th>\n",
       "      <th>basewgt</th>\n",
       "      <th>adj_mod_basewgt</th>\n",
       "      <th>finalwgt</th>\n",
       "      <th>secu_p</th>\n",
       "      <th>sest</th>\n",
       "      <th>cmintvw</th>\n",
       "      <th>totalwgt_lb</th>\n",
       "    </tr>\n",
       "  </thead>\n",
       "  <tbody>\n",
       "    <tr>\n",
       "      <th>0</th>\n",
       "      <td>1</td>\n",
       "      <td>1</td>\n",
       "      <td>NaN</td>\n",
       "      <td>NaN</td>\n",
       "      <td>NaN</td>\n",
       "      <td>NaN</td>\n",
       "      <td>6.0</td>\n",
       "      <td>NaN</td>\n",
       "      <td>1.0</td>\n",
       "      <td>NaN</td>\n",
       "      <td>...</td>\n",
       "      <td>0</td>\n",
       "      <td>0</td>\n",
       "      <td>0</td>\n",
       "      <td>3410.389399</td>\n",
       "      <td>3869.349602</td>\n",
       "      <td>6448.271112</td>\n",
       "      <td>2</td>\n",
       "      <td>9</td>\n",
       "      <td>NaN</td>\n",
       "      <td>8.8125</td>\n",
       "    </tr>\n",
       "    <tr>\n",
       "      <th>1</th>\n",
       "      <td>1</td>\n",
       "      <td>2</td>\n",
       "      <td>NaN</td>\n",
       "      <td>NaN</td>\n",
       "      <td>NaN</td>\n",
       "      <td>NaN</td>\n",
       "      <td>6.0</td>\n",
       "      <td>NaN</td>\n",
       "      <td>1.0</td>\n",
       "      <td>NaN</td>\n",
       "      <td>...</td>\n",
       "      <td>0</td>\n",
       "      <td>0</td>\n",
       "      <td>0</td>\n",
       "      <td>3410.389399</td>\n",
       "      <td>3869.349602</td>\n",
       "      <td>6448.271112</td>\n",
       "      <td>2</td>\n",
       "      <td>9</td>\n",
       "      <td>NaN</td>\n",
       "      <td>7.8750</td>\n",
       "    </tr>\n",
       "    <tr>\n",
       "      <th>2</th>\n",
       "      <td>2</td>\n",
       "      <td>1</td>\n",
       "      <td>NaN</td>\n",
       "      <td>NaN</td>\n",
       "      <td>NaN</td>\n",
       "      <td>NaN</td>\n",
       "      <td>5.0</td>\n",
       "      <td>NaN</td>\n",
       "      <td>3.0</td>\n",
       "      <td>5.0</td>\n",
       "      <td>...</td>\n",
       "      <td>0</td>\n",
       "      <td>0</td>\n",
       "      <td>0</td>\n",
       "      <td>7226.301740</td>\n",
       "      <td>8567.549110</td>\n",
       "      <td>12999.542264</td>\n",
       "      <td>2</td>\n",
       "      <td>12</td>\n",
       "      <td>NaN</td>\n",
       "      <td>9.1250</td>\n",
       "    </tr>\n",
       "    <tr>\n",
       "      <th>3</th>\n",
       "      <td>2</td>\n",
       "      <td>2</td>\n",
       "      <td>NaN</td>\n",
       "      <td>NaN</td>\n",
       "      <td>NaN</td>\n",
       "      <td>NaN</td>\n",
       "      <td>6.0</td>\n",
       "      <td>NaN</td>\n",
       "      <td>1.0</td>\n",
       "      <td>NaN</td>\n",
       "      <td>...</td>\n",
       "      <td>0</td>\n",
       "      <td>0</td>\n",
       "      <td>0</td>\n",
       "      <td>7226.301740</td>\n",
       "      <td>8567.549110</td>\n",
       "      <td>12999.542264</td>\n",
       "      <td>2</td>\n",
       "      <td>12</td>\n",
       "      <td>NaN</td>\n",
       "      <td>7.0000</td>\n",
       "    </tr>\n",
       "    <tr>\n",
       "      <th>4</th>\n",
       "      <td>2</td>\n",
       "      <td>3</td>\n",
       "      <td>NaN</td>\n",
       "      <td>NaN</td>\n",
       "      <td>NaN</td>\n",
       "      <td>NaN</td>\n",
       "      <td>6.0</td>\n",
       "      <td>NaN</td>\n",
       "      <td>1.0</td>\n",
       "      <td>NaN</td>\n",
       "      <td>...</td>\n",
       "      <td>0</td>\n",
       "      <td>0</td>\n",
       "      <td>0</td>\n",
       "      <td>7226.301740</td>\n",
       "      <td>8567.549110</td>\n",
       "      <td>12999.542264</td>\n",
       "      <td>2</td>\n",
       "      <td>12</td>\n",
       "      <td>NaN</td>\n",
       "      <td>6.1875</td>\n",
       "    </tr>\n",
       "    <tr>\n",
       "      <th>5</th>\n",
       "      <td>6</td>\n",
       "      <td>1</td>\n",
       "      <td>NaN</td>\n",
       "      <td>NaN</td>\n",
       "      <td>NaN</td>\n",
       "      <td>NaN</td>\n",
       "      <td>6.0</td>\n",
       "      <td>NaN</td>\n",
       "      <td>1.0</td>\n",
       "      <td>NaN</td>\n",
       "      <td>...</td>\n",
       "      <td>0</td>\n",
       "      <td>0</td>\n",
       "      <td>0</td>\n",
       "      <td>4870.926435</td>\n",
       "      <td>5325.196999</td>\n",
       "      <td>8874.440799</td>\n",
       "      <td>1</td>\n",
       "      <td>23</td>\n",
       "      <td>NaN</td>\n",
       "      <td>8.5625</td>\n",
       "    </tr>\n",
       "    <tr>\n",
       "      <th>6</th>\n",
       "      <td>6</td>\n",
       "      <td>2</td>\n",
       "      <td>NaN</td>\n",
       "      <td>NaN</td>\n",
       "      <td>NaN</td>\n",
       "      <td>NaN</td>\n",
       "      <td>6.0</td>\n",
       "      <td>NaN</td>\n",
       "      <td>1.0</td>\n",
       "      <td>NaN</td>\n",
       "      <td>...</td>\n",
       "      <td>0</td>\n",
       "      <td>0</td>\n",
       "      <td>0</td>\n",
       "      <td>4870.926435</td>\n",
       "      <td>5325.196999</td>\n",
       "      <td>8874.440799</td>\n",
       "      <td>1</td>\n",
       "      <td>23</td>\n",
       "      <td>NaN</td>\n",
       "      <td>9.5625</td>\n",
       "    </tr>\n",
       "    <tr>\n",
       "      <th>7</th>\n",
       "      <td>6</td>\n",
       "      <td>3</td>\n",
       "      <td>NaN</td>\n",
       "      <td>NaN</td>\n",
       "      <td>NaN</td>\n",
       "      <td>NaN</td>\n",
       "      <td>6.0</td>\n",
       "      <td>NaN</td>\n",
       "      <td>1.0</td>\n",
       "      <td>NaN</td>\n",
       "      <td>...</td>\n",
       "      <td>0</td>\n",
       "      <td>0</td>\n",
       "      <td>0</td>\n",
       "      <td>4870.926435</td>\n",
       "      <td>5325.196999</td>\n",
       "      <td>8874.440799</td>\n",
       "      <td>1</td>\n",
       "      <td>23</td>\n",
       "      <td>NaN</td>\n",
       "      <td>8.3750</td>\n",
       "    </tr>\n",
       "    <tr>\n",
       "      <th>8</th>\n",
       "      <td>7</td>\n",
       "      <td>1</td>\n",
       "      <td>NaN</td>\n",
       "      <td>NaN</td>\n",
       "      <td>NaN</td>\n",
       "      <td>NaN</td>\n",
       "      <td>5.0</td>\n",
       "      <td>NaN</td>\n",
       "      <td>1.0</td>\n",
       "      <td>NaN</td>\n",
       "      <td>...</td>\n",
       "      <td>0</td>\n",
       "      <td>0</td>\n",
       "      <td>0</td>\n",
       "      <td>3409.579565</td>\n",
       "      <td>3787.539000</td>\n",
       "      <td>6911.879921</td>\n",
       "      <td>2</td>\n",
       "      <td>14</td>\n",
       "      <td>NaN</td>\n",
       "      <td>7.5625</td>\n",
       "    </tr>\n",
       "    <tr>\n",
       "      <th>9</th>\n",
       "      <td>7</td>\n",
       "      <td>2</td>\n",
       "      <td>NaN</td>\n",
       "      <td>NaN</td>\n",
       "      <td>NaN</td>\n",
       "      <td>NaN</td>\n",
       "      <td>5.0</td>\n",
       "      <td>NaN</td>\n",
       "      <td>1.0</td>\n",
       "      <td>NaN</td>\n",
       "      <td>...</td>\n",
       "      <td>0</td>\n",
       "      <td>0</td>\n",
       "      <td>0</td>\n",
       "      <td>3409.579565</td>\n",
       "      <td>3787.539000</td>\n",
       "      <td>6911.879921</td>\n",
       "      <td>2</td>\n",
       "      <td>14</td>\n",
       "      <td>NaN</td>\n",
       "      <td>6.6250</td>\n",
       "    </tr>\n",
       "    <tr>\n",
       "      <th>10</th>\n",
       "      <td>12</td>\n",
       "      <td>1</td>\n",
       "      <td>NaN</td>\n",
       "      <td>NaN</td>\n",
       "      <td>NaN</td>\n",
       "      <td>NaN</td>\n",
       "      <td>5.0</td>\n",
       "      <td>NaN</td>\n",
       "      <td>1.0</td>\n",
       "      <td>NaN</td>\n",
       "      <td>...</td>\n",
       "      <td>0</td>\n",
       "      <td>0</td>\n",
       "      <td>0</td>\n",
       "      <td>3612.781968</td>\n",
       "      <td>4146.013572</td>\n",
       "      <td>6909.331618</td>\n",
       "      <td>1</td>\n",
       "      <td>31</td>\n",
       "      <td>NaN</td>\n",
       "      <td>7.8125</td>\n",
       "    </tr>\n",
       "    <tr>\n",
       "      <th>11</th>\n",
       "      <td>14</td>\n",
       "      <td>1</td>\n",
       "      <td>NaN</td>\n",
       "      <td>NaN</td>\n",
       "      <td>NaN</td>\n",
       "      <td>NaN</td>\n",
       "      <td>6.0</td>\n",
       "      <td>NaN</td>\n",
       "      <td>1.0</td>\n",
       "      <td>NaN</td>\n",
       "      <td>...</td>\n",
       "      <td>0</td>\n",
       "      <td>0</td>\n",
       "      <td>0</td>\n",
       "      <td>2418.069494</td>\n",
       "      <td>2810.302771</td>\n",
       "      <td>3039.904507</td>\n",
       "      <td>2</td>\n",
       "      <td>56</td>\n",
       "      <td>NaN</td>\n",
       "      <td>7.0000</td>\n",
       "    </tr>\n",
       "    <tr>\n",
       "      <th>12</th>\n",
       "      <td>14</td>\n",
       "      <td>2</td>\n",
       "      <td>NaN</td>\n",
       "      <td>NaN</td>\n",
       "      <td>NaN</td>\n",
       "      <td>NaN</td>\n",
       "      <td>6.0</td>\n",
       "      <td>NaN</td>\n",
       "      <td>1.0</td>\n",
       "      <td>NaN</td>\n",
       "      <td>...</td>\n",
       "      <td>0</td>\n",
       "      <td>0</td>\n",
       "      <td>0</td>\n",
       "      <td>2418.069494</td>\n",
       "      <td>2810.302771</td>\n",
       "      <td>3039.904507</td>\n",
       "      <td>2</td>\n",
       "      <td>56</td>\n",
       "      <td>NaN</td>\n",
       "      <td>4.0000</td>\n",
       "    </tr>\n",
       "    <tr>\n",
       "      <th>13</th>\n",
       "      <td>14</td>\n",
       "      <td>3</td>\n",
       "      <td>NaN</td>\n",
       "      <td>NaN</td>\n",
       "      <td>NaN</td>\n",
       "      <td>NaN</td>\n",
       "      <td>3.0</td>\n",
       "      <td>NaN</td>\n",
       "      <td>NaN</td>\n",
       "      <td>NaN</td>\n",
       "      <td>...</td>\n",
       "      <td>0</td>\n",
       "      <td>0</td>\n",
       "      <td>0</td>\n",
       "      <td>2418.069494</td>\n",
       "      <td>2810.302771</td>\n",
       "      <td>3039.904507</td>\n",
       "      <td>2</td>\n",
       "      <td>56</td>\n",
       "      <td>NaN</td>\n",
       "      <td>NaN</td>\n",
       "    </tr>\n",
       "    <tr>\n",
       "      <th>14</th>\n",
       "      <td>15</td>\n",
       "      <td>1</td>\n",
       "      <td>NaN</td>\n",
       "      <td>NaN</td>\n",
       "      <td>NaN</td>\n",
       "      <td>NaN</td>\n",
       "      <td>1.0</td>\n",
       "      <td>NaN</td>\n",
       "      <td>NaN</td>\n",
       "      <td>NaN</td>\n",
       "      <td>...</td>\n",
       "      <td>0</td>\n",
       "      <td>0</td>\n",
       "      <td>0</td>\n",
       "      <td>1667.816099</td>\n",
       "      <td>3200.862017</td>\n",
       "      <td>5553.495599</td>\n",
       "      <td>1</td>\n",
       "      <td>33</td>\n",
       "      <td>NaN</td>\n",
       "      <td>NaN</td>\n",
       "    </tr>\n",
       "    <tr>\n",
       "      <th>15</th>\n",
       "      <td>15</td>\n",
       "      <td>2</td>\n",
       "      <td>NaN</td>\n",
       "      <td>NaN</td>\n",
       "      <td>NaN</td>\n",
       "      <td>NaN</td>\n",
       "      <td>6.0</td>\n",
       "      <td>NaN</td>\n",
       "      <td>1.0</td>\n",
       "      <td>NaN</td>\n",
       "      <td>...</td>\n",
       "      <td>0</td>\n",
       "      <td>0</td>\n",
       "      <td>0</td>\n",
       "      <td>1667.816099</td>\n",
       "      <td>3200.862017</td>\n",
       "      <td>5553.495599</td>\n",
       "      <td>1</td>\n",
       "      <td>33</td>\n",
       "      <td>NaN</td>\n",
       "      <td>7.6875</td>\n",
       "    </tr>\n",
       "    <tr>\n",
       "      <th>16</th>\n",
       "      <td>15</td>\n",
       "      <td>3</td>\n",
       "      <td>NaN</td>\n",
       "      <td>NaN</td>\n",
       "      <td>NaN</td>\n",
       "      <td>NaN</td>\n",
       "      <td>6.0</td>\n",
       "      <td>NaN</td>\n",
       "      <td>1.0</td>\n",
       "      <td>NaN</td>\n",
       "      <td>...</td>\n",
       "      <td>0</td>\n",
       "      <td>0</td>\n",
       "      <td>0</td>\n",
       "      <td>1667.816099</td>\n",
       "      <td>3200.862017</td>\n",
       "      <td>5553.495599</td>\n",
       "      <td>1</td>\n",
       "      <td>33</td>\n",
       "      <td>NaN</td>\n",
       "      <td>7.5000</td>\n",
       "    </tr>\n",
       "    <tr>\n",
       "      <th>17</th>\n",
       "      <td>18</td>\n",
       "      <td>1</td>\n",
       "      <td>NaN</td>\n",
       "      <td>NaN</td>\n",
       "      <td>NaN</td>\n",
       "      <td>NaN</td>\n",
       "      <td>5.0</td>\n",
       "      <td>NaN</td>\n",
       "      <td>1.0</td>\n",
       "      <td>NaN</td>\n",
       "      <td>...</td>\n",
       "      <td>0</td>\n",
       "      <td>0</td>\n",
       "      <td>0</td>\n",
       "      <td>2957.257457</td>\n",
       "      <td>3404.403067</td>\n",
       "      <td>4153.371741</td>\n",
       "      <td>2</td>\n",
       "      <td>14</td>\n",
       "      <td>NaN</td>\n",
       "      <td>6.3125</td>\n",
       "    </tr>\n",
       "    <tr>\n",
       "      <th>18</th>\n",
       "      <td>18</td>\n",
       "      <td>2</td>\n",
       "      <td>NaN</td>\n",
       "      <td>NaN</td>\n",
       "      <td>NaN</td>\n",
       "      <td>NaN</td>\n",
       "      <td>1.0</td>\n",
       "      <td>NaN</td>\n",
       "      <td>NaN</td>\n",
       "      <td>NaN</td>\n",
       "      <td>...</td>\n",
       "      <td>0</td>\n",
       "      <td>0</td>\n",
       "      <td>0</td>\n",
       "      <td>2957.257457</td>\n",
       "      <td>3404.403067</td>\n",
       "      <td>4153.371741</td>\n",
       "      <td>2</td>\n",
       "      <td>14</td>\n",
       "      <td>NaN</td>\n",
       "      <td>NaN</td>\n",
       "    </tr>\n",
       "    <tr>\n",
       "      <th>19</th>\n",
       "      <td>21</td>\n",
       "      <td>1</td>\n",
       "      <td>NaN</td>\n",
       "      <td>NaN</td>\n",
       "      <td>NaN</td>\n",
       "      <td>NaN</td>\n",
       "      <td>6.0</td>\n",
       "      <td>NaN</td>\n",
       "      <td>1.0</td>\n",
       "      <td>NaN</td>\n",
       "      <td>...</td>\n",
       "      <td>0</td>\n",
       "      <td>0</td>\n",
       "      <td>0</td>\n",
       "      <td>3408.342437</td>\n",
       "      <td>3965.763949</td>\n",
       "      <td>7237.122630</td>\n",
       "      <td>1</td>\n",
       "      <td>48</td>\n",
       "      <td>NaN</td>\n",
       "      <td>8.7500</td>\n",
       "    </tr>\n",
       "    <tr>\n",
       "      <th>20</th>\n",
       "      <td>21</td>\n",
       "      <td>2</td>\n",
       "      <td>NaN</td>\n",
       "      <td>NaN</td>\n",
       "      <td>NaN</td>\n",
       "      <td>NaN</td>\n",
       "      <td>6.0</td>\n",
       "      <td>NaN</td>\n",
       "      <td>1.0</td>\n",
       "      <td>NaN</td>\n",
       "      <td>...</td>\n",
       "      <td>0</td>\n",
       "      <td>0</td>\n",
       "      <td>0</td>\n",
       "      <td>3408.342437</td>\n",
       "      <td>3965.763949</td>\n",
       "      <td>7237.122630</td>\n",
       "      <td>1</td>\n",
       "      <td>48</td>\n",
       "      <td>NaN</td>\n",
       "      <td>8.1875</td>\n",
       "    </tr>\n",
       "    <tr>\n",
       "      <th>21</th>\n",
       "      <td>23</td>\n",
       "      <td>1</td>\n",
       "      <td>NaN</td>\n",
       "      <td>NaN</td>\n",
       "      <td>NaN</td>\n",
       "      <td>NaN</td>\n",
       "      <td>6.0</td>\n",
       "      <td>NaN</td>\n",
       "      <td>1.0</td>\n",
       "      <td>NaN</td>\n",
       "      <td>...</td>\n",
       "      <td>0</td>\n",
       "      <td>0</td>\n",
       "      <td>0</td>\n",
       "      <td>6210.373020</td>\n",
       "      <td>8120.841310</td>\n",
       "      <td>13533.382043</td>\n",
       "      <td>2</td>\n",
       "      <td>64</td>\n",
       "      <td>NaN</td>\n",
       "      <td>5.5625</td>\n",
       "    </tr>\n",
       "    <tr>\n",
       "      <th>22</th>\n",
       "      <td>23</td>\n",
       "      <td>2</td>\n",
       "      <td>NaN</td>\n",
       "      <td>NaN</td>\n",
       "      <td>NaN</td>\n",
       "      <td>NaN</td>\n",
       "      <td>1.0</td>\n",
       "      <td>NaN</td>\n",
       "      <td>NaN</td>\n",
       "      <td>NaN</td>\n",
       "      <td>...</td>\n",
       "      <td>0</td>\n",
       "      <td>0</td>\n",
       "      <td>0</td>\n",
       "      <td>6210.373020</td>\n",
       "      <td>8120.841310</td>\n",
       "      <td>13533.382043</td>\n",
       "      <td>2</td>\n",
       "      <td>64</td>\n",
       "      <td>NaN</td>\n",
       "      <td>NaN</td>\n",
       "    </tr>\n",
       "    <tr>\n",
       "      <th>23</th>\n",
       "      <td>24</td>\n",
       "      <td>1</td>\n",
       "      <td>NaN</td>\n",
       "      <td>NaN</td>\n",
       "      <td>NaN</td>\n",
       "      <td>NaN</td>\n",
       "      <td>6.0</td>\n",
       "      <td>NaN</td>\n",
       "      <td>1.0</td>\n",
       "      <td>NaN</td>\n",
       "      <td>...</td>\n",
       "      <td>0</td>\n",
       "      <td>0</td>\n",
       "      <td>0</td>\n",
       "      <td>3409.573258</td>\n",
       "      <td>4068.628645</td>\n",
       "      <td>7424.840414</td>\n",
       "      <td>1</td>\n",
       "      <td>27</td>\n",
       "      <td>NaN</td>\n",
       "      <td>6.7500</td>\n",
       "    </tr>\n",
       "    <tr>\n",
       "      <th>24</th>\n",
       "      <td>24</td>\n",
       "      <td>2</td>\n",
       "      <td>NaN</td>\n",
       "      <td>NaN</td>\n",
       "      <td>NaN</td>\n",
       "      <td>NaN</td>\n",
       "      <td>6.0</td>\n",
       "      <td>NaN</td>\n",
       "      <td>1.0</td>\n",
       "      <td>NaN</td>\n",
       "      <td>...</td>\n",
       "      <td>0</td>\n",
       "      <td>0</td>\n",
       "      <td>0</td>\n",
       "      <td>3409.573258</td>\n",
       "      <td>4068.628645</td>\n",
       "      <td>7424.840414</td>\n",
       "      <td>1</td>\n",
       "      <td>27</td>\n",
       "      <td>NaN</td>\n",
       "      <td>7.3750</td>\n",
       "    </tr>\n",
       "    <tr>\n",
       "      <th>25</th>\n",
       "      <td>24</td>\n",
       "      <td>3</td>\n",
       "      <td>NaN</td>\n",
       "      <td>NaN</td>\n",
       "      <td>NaN</td>\n",
       "      <td>NaN</td>\n",
       "      <td>6.0</td>\n",
       "      <td>NaN</td>\n",
       "      <td>1.0</td>\n",
       "      <td>NaN</td>\n",
       "      <td>...</td>\n",
       "      <td>0</td>\n",
       "      <td>0</td>\n",
       "      <td>0</td>\n",
       "      <td>3409.573258</td>\n",
       "      <td>4068.628645</td>\n",
       "      <td>7424.840414</td>\n",
       "      <td>1</td>\n",
       "      <td>27</td>\n",
       "      <td>NaN</td>\n",
       "      <td>6.8125</td>\n",
       "    </tr>\n",
       "    <tr>\n",
       "      <th>26</th>\n",
       "      <td>28</td>\n",
       "      <td>1</td>\n",
       "      <td>NaN</td>\n",
       "      <td>NaN</td>\n",
       "      <td>NaN</td>\n",
       "      <td>NaN</td>\n",
       "      <td>6.0</td>\n",
       "      <td>NaN</td>\n",
       "      <td>1.0</td>\n",
       "      <td>NaN</td>\n",
       "      <td>...</td>\n",
       "      <td>0</td>\n",
       "      <td>0</td>\n",
       "      <td>0</td>\n",
       "      <td>3407.794208</td>\n",
       "      <td>3808.343516</td>\n",
       "      <td>6949.846082</td>\n",
       "      <td>2</td>\n",
       "      <td>57</td>\n",
       "      <td>NaN</td>\n",
       "      <td>8.1250</td>\n",
       "    </tr>\n",
       "    <tr>\n",
       "      <th>27</th>\n",
       "      <td>31</td>\n",
       "      <td>1</td>\n",
       "      <td>NaN</td>\n",
       "      <td>NaN</td>\n",
       "      <td>NaN</td>\n",
       "      <td>NaN</td>\n",
       "      <td>6.0</td>\n",
       "      <td>NaN</td>\n",
       "      <td>1.0</td>\n",
       "      <td>NaN</td>\n",
       "      <td>...</td>\n",
       "      <td>0</td>\n",
       "      <td>0</td>\n",
       "      <td>0</td>\n",
       "      <td>3405.679025</td>\n",
       "      <td>4272.084519</td>\n",
       "      <td>5211.943113</td>\n",
       "      <td>1</td>\n",
       "      <td>2</td>\n",
       "      <td>NaN</td>\n",
       "      <td>7.1250</td>\n",
       "    </tr>\n",
       "    <tr>\n",
       "      <th>28</th>\n",
       "      <td>31</td>\n",
       "      <td>2</td>\n",
       "      <td>NaN</td>\n",
       "      <td>NaN</td>\n",
       "      <td>NaN</td>\n",
       "      <td>NaN</td>\n",
       "      <td>6.0</td>\n",
       "      <td>NaN</td>\n",
       "      <td>1.0</td>\n",
       "      <td>NaN</td>\n",
       "      <td>...</td>\n",
       "      <td>0</td>\n",
       "      <td>0</td>\n",
       "      <td>0</td>\n",
       "      <td>3405.679025</td>\n",
       "      <td>4272.084519</td>\n",
       "      <td>5211.943113</td>\n",
       "      <td>1</td>\n",
       "      <td>2</td>\n",
       "      <td>NaN</td>\n",
       "      <td>6.0625</td>\n",
       "    </tr>\n",
       "    <tr>\n",
       "      <th>29</th>\n",
       "      <td>31</td>\n",
       "      <td>3</td>\n",
       "      <td>NaN</td>\n",
       "      <td>NaN</td>\n",
       "      <td>NaN</td>\n",
       "      <td>NaN</td>\n",
       "      <td>6.0</td>\n",
       "      <td>NaN</td>\n",
       "      <td>1.0</td>\n",
       "      <td>NaN</td>\n",
       "      <td>...</td>\n",
       "      <td>0</td>\n",
       "      <td>0</td>\n",
       "      <td>0</td>\n",
       "      <td>3405.679025</td>\n",
       "      <td>4272.084519</td>\n",
       "      <td>5211.943113</td>\n",
       "      <td>1</td>\n",
       "      <td>2</td>\n",
       "      <td>NaN</td>\n",
       "      <td>7.4375</td>\n",
       "    </tr>\n",
       "    <tr>\n",
       "      <th>...</th>\n",
       "      <td>...</td>\n",
       "      <td>...</td>\n",
       "      <td>...</td>\n",
       "      <td>...</td>\n",
       "      <td>...</td>\n",
       "      <td>...</td>\n",
       "      <td>...</td>\n",
       "      <td>...</td>\n",
       "      <td>...</td>\n",
       "      <td>...</td>\n",
       "      <td>...</td>\n",
       "      <td>...</td>\n",
       "      <td>...</td>\n",
       "      <td>...</td>\n",
       "      <td>...</td>\n",
       "      <td>...</td>\n",
       "      <td>...</td>\n",
       "      <td>...</td>\n",
       "      <td>...</td>\n",
       "      <td>...</td>\n",
       "      <td>...</td>\n",
       "    </tr>\n",
       "    <tr>\n",
       "      <th>13563</th>\n",
       "      <td>12547</td>\n",
       "      <td>2</td>\n",
       "      <td>NaN</td>\n",
       "      <td>NaN</td>\n",
       "      <td>NaN</td>\n",
       "      <td>NaN</td>\n",
       "      <td>6.0</td>\n",
       "      <td>NaN</td>\n",
       "      <td>1.0</td>\n",
       "      <td>NaN</td>\n",
       "      <td>...</td>\n",
       "      <td>0</td>\n",
       "      <td>0</td>\n",
       "      <td>0</td>\n",
       "      <td>3453.545517</td>\n",
       "      <td>6628.022524</td>\n",
       "      <td>11499.619080</td>\n",
       "      <td>1</td>\n",
       "      <td>52</td>\n",
       "      <td>NaN</td>\n",
       "      <td>7.6875</td>\n",
       "    </tr>\n",
       "    <tr>\n",
       "      <th>13564</th>\n",
       "      <td>12547</td>\n",
       "      <td>3</td>\n",
       "      <td>NaN</td>\n",
       "      <td>NaN</td>\n",
       "      <td>NaN</td>\n",
       "      <td>NaN</td>\n",
       "      <td>6.0</td>\n",
       "      <td>NaN</td>\n",
       "      <td>1.0</td>\n",
       "      <td>NaN</td>\n",
       "      <td>...</td>\n",
       "      <td>0</td>\n",
       "      <td>0</td>\n",
       "      <td>0</td>\n",
       "      <td>3453.545517</td>\n",
       "      <td>6628.022524</td>\n",
       "      <td>11499.619080</td>\n",
       "      <td>1</td>\n",
       "      <td>52</td>\n",
       "      <td>NaN</td>\n",
       "      <td>7.6250</td>\n",
       "    </tr>\n",
       "    <tr>\n",
       "      <th>13565</th>\n",
       "      <td>12550</td>\n",
       "      <td>1</td>\n",
       "      <td>NaN</td>\n",
       "      <td>NaN</td>\n",
       "      <td>NaN</td>\n",
       "      <td>NaN</td>\n",
       "      <td>6.0</td>\n",
       "      <td>NaN</td>\n",
       "      <td>1.0</td>\n",
       "      <td>NaN</td>\n",
       "      <td>...</td>\n",
       "      <td>0</td>\n",
       "      <td>0</td>\n",
       "      <td>0</td>\n",
       "      <td>3080.452699</td>\n",
       "      <td>3745.326058</td>\n",
       "      <td>5268.550165</td>\n",
       "      <td>1</td>\n",
       "      <td>79</td>\n",
       "      <td>NaN</td>\n",
       "      <td>8.1250</td>\n",
       "    </tr>\n",
       "    <tr>\n",
       "      <th>13566</th>\n",
       "      <td>12551</td>\n",
       "      <td>1</td>\n",
       "      <td>NaN</td>\n",
       "      <td>NaN</td>\n",
       "      <td>NaN</td>\n",
       "      <td>NaN</td>\n",
       "      <td>5.0</td>\n",
       "      <td>NaN</td>\n",
       "      <td>1.0</td>\n",
       "      <td>NaN</td>\n",
       "      <td>...</td>\n",
       "      <td>0</td>\n",
       "      <td>0</td>\n",
       "      <td>0</td>\n",
       "      <td>2418.538866</td>\n",
       "      <td>3653.453268</td>\n",
       "      <td>3951.940400</td>\n",
       "      <td>2</td>\n",
       "      <td>75</td>\n",
       "      <td>NaN</td>\n",
       "      <td>7.5000</td>\n",
       "    </tr>\n",
       "    <tr>\n",
       "      <th>13567</th>\n",
       "      <td>12554</td>\n",
       "      <td>1</td>\n",
       "      <td>NaN</td>\n",
       "      <td>NaN</td>\n",
       "      <td>NaN</td>\n",
       "      <td>NaN</td>\n",
       "      <td>3.0</td>\n",
       "      <td>NaN</td>\n",
       "      <td>NaN</td>\n",
       "      <td>NaN</td>\n",
       "      <td>...</td>\n",
       "      <td>0</td>\n",
       "      <td>0</td>\n",
       "      <td>0</td>\n",
       "      <td>1914.676604</td>\n",
       "      <td>2177.957240</td>\n",
       "      <td>2764.045534</td>\n",
       "      <td>2</td>\n",
       "      <td>75</td>\n",
       "      <td>NaN</td>\n",
       "      <td>NaN</td>\n",
       "    </tr>\n",
       "    <tr>\n",
       "      <th>13568</th>\n",
       "      <td>12554</td>\n",
       "      <td>2</td>\n",
       "      <td>NaN</td>\n",
       "      <td>NaN</td>\n",
       "      <td>NaN</td>\n",
       "      <td>NaN</td>\n",
       "      <td>4.0</td>\n",
       "      <td>NaN</td>\n",
       "      <td>NaN</td>\n",
       "      <td>NaN</td>\n",
       "      <td>...</td>\n",
       "      <td>0</td>\n",
       "      <td>0</td>\n",
       "      <td>0</td>\n",
       "      <td>1914.676604</td>\n",
       "      <td>2177.957240</td>\n",
       "      <td>2764.045534</td>\n",
       "      <td>2</td>\n",
       "      <td>75</td>\n",
       "      <td>NaN</td>\n",
       "      <td>NaN</td>\n",
       "    </tr>\n",
       "    <tr>\n",
       "      <th>13569</th>\n",
       "      <td>12556</td>\n",
       "      <td>1</td>\n",
       "      <td>NaN</td>\n",
       "      <td>NaN</td>\n",
       "      <td>NaN</td>\n",
       "      <td>NaN</td>\n",
       "      <td>6.0</td>\n",
       "      <td>NaN</td>\n",
       "      <td>1.0</td>\n",
       "      <td>NaN</td>\n",
       "      <td>...</td>\n",
       "      <td>0</td>\n",
       "      <td>0</td>\n",
       "      <td>0</td>\n",
       "      <td>2474.619764</td>\n",
       "      <td>3250.573384</td>\n",
       "      <td>3965.699528</td>\n",
       "      <td>1</td>\n",
       "      <td>44</td>\n",
       "      <td>NaN</td>\n",
       "      <td>5.8125</td>\n",
       "    </tr>\n",
       "    <tr>\n",
       "      <th>13570</th>\n",
       "      <td>12556</td>\n",
       "      <td>2</td>\n",
       "      <td>NaN</td>\n",
       "      <td>NaN</td>\n",
       "      <td>NaN</td>\n",
       "      <td>NaN</td>\n",
       "      <td>6.0</td>\n",
       "      <td>NaN</td>\n",
       "      <td>1.0</td>\n",
       "      <td>NaN</td>\n",
       "      <td>...</td>\n",
       "      <td>0</td>\n",
       "      <td>0</td>\n",
       "      <td>0</td>\n",
       "      <td>2474.619764</td>\n",
       "      <td>3250.573384</td>\n",
       "      <td>3965.699528</td>\n",
       "      <td>1</td>\n",
       "      <td>44</td>\n",
       "      <td>NaN</td>\n",
       "      <td>6.6875</td>\n",
       "    </tr>\n",
       "    <tr>\n",
       "      <th>13571</th>\n",
       "      <td>12556</td>\n",
       "      <td>3</td>\n",
       "      <td>NaN</td>\n",
       "      <td>NaN</td>\n",
       "      <td>NaN</td>\n",
       "      <td>NaN</td>\n",
       "      <td>6.0</td>\n",
       "      <td>NaN</td>\n",
       "      <td>1.0</td>\n",
       "      <td>NaN</td>\n",
       "      <td>...</td>\n",
       "      <td>0</td>\n",
       "      <td>0</td>\n",
       "      <td>0</td>\n",
       "      <td>2474.619764</td>\n",
       "      <td>3250.573384</td>\n",
       "      <td>3965.699528</td>\n",
       "      <td>1</td>\n",
       "      <td>44</td>\n",
       "      <td>NaN</td>\n",
       "      <td>6.0000</td>\n",
       "    </tr>\n",
       "    <tr>\n",
       "      <th>13572</th>\n",
       "      <td>12556</td>\n",
       "      <td>4</td>\n",
       "      <td>NaN</td>\n",
       "      <td>NaN</td>\n",
       "      <td>NaN</td>\n",
       "      <td>NaN</td>\n",
       "      <td>6.0</td>\n",
       "      <td>NaN</td>\n",
       "      <td>1.0</td>\n",
       "      <td>NaN</td>\n",
       "      <td>...</td>\n",
       "      <td>0</td>\n",
       "      <td>0</td>\n",
       "      <td>0</td>\n",
       "      <td>2474.619764</td>\n",
       "      <td>3250.573384</td>\n",
       "      <td>3965.699528</td>\n",
       "      <td>1</td>\n",
       "      <td>44</td>\n",
       "      <td>NaN</td>\n",
       "      <td>5.8125</td>\n",
       "    </tr>\n",
       "    <tr>\n",
       "      <th>13573</th>\n",
       "      <td>12561</td>\n",
       "      <td>1</td>\n",
       "      <td>NaN</td>\n",
       "      <td>NaN</td>\n",
       "      <td>NaN</td>\n",
       "      <td>NaN</td>\n",
       "      <td>6.0</td>\n",
       "      <td>NaN</td>\n",
       "      <td>1.0</td>\n",
       "      <td>NaN</td>\n",
       "      <td>...</td>\n",
       "      <td>0</td>\n",
       "      <td>0</td>\n",
       "      <td>0</td>\n",
       "      <td>2418.089703</td>\n",
       "      <td>2698.650781</td>\n",
       "      <td>4497.301527</td>\n",
       "      <td>1</td>\n",
       "      <td>10</td>\n",
       "      <td>NaN</td>\n",
       "      <td>6.5625</td>\n",
       "    </tr>\n",
       "    <tr>\n",
       "      <th>13574</th>\n",
       "      <td>12561</td>\n",
       "      <td>2</td>\n",
       "      <td>NaN</td>\n",
       "      <td>NaN</td>\n",
       "      <td>NaN</td>\n",
       "      <td>NaN</td>\n",
       "      <td>6.0</td>\n",
       "      <td>NaN</td>\n",
       "      <td>1.0</td>\n",
       "      <td>NaN</td>\n",
       "      <td>...</td>\n",
       "      <td>0</td>\n",
       "      <td>0</td>\n",
       "      <td>0</td>\n",
       "      <td>2418.089703</td>\n",
       "      <td>2698.650781</td>\n",
       "      <td>4497.301527</td>\n",
       "      <td>1</td>\n",
       "      <td>10</td>\n",
       "      <td>NaN</td>\n",
       "      <td>6.1250</td>\n",
       "    </tr>\n",
       "    <tr>\n",
       "      <th>13575</th>\n",
       "      <td>12564</td>\n",
       "      <td>1</td>\n",
       "      <td>NaN</td>\n",
       "      <td>NaN</td>\n",
       "      <td>NaN</td>\n",
       "      <td>NaN</td>\n",
       "      <td>3.0</td>\n",
       "      <td>NaN</td>\n",
       "      <td>NaN</td>\n",
       "      <td>NaN</td>\n",
       "      <td>...</td>\n",
       "      <td>0</td>\n",
       "      <td>0</td>\n",
       "      <td>0</td>\n",
       "      <td>1820.850938</td>\n",
       "      <td>2129.214067</td>\n",
       "      <td>2768.191208</td>\n",
       "      <td>2</td>\n",
       "      <td>44</td>\n",
       "      <td>NaN</td>\n",
       "      <td>NaN</td>\n",
       "    </tr>\n",
       "    <tr>\n",
       "      <th>13576</th>\n",
       "      <td>12565</td>\n",
       "      <td>1</td>\n",
       "      <td>NaN</td>\n",
       "      <td>NaN</td>\n",
       "      <td>NaN</td>\n",
       "      <td>NaN</td>\n",
       "      <td>6.0</td>\n",
       "      <td>NaN</td>\n",
       "      <td>1.0</td>\n",
       "      <td>NaN</td>\n",
       "      <td>...</td>\n",
       "      <td>0</td>\n",
       "      <td>0</td>\n",
       "      <td>0</td>\n",
       "      <td>3195.641221</td>\n",
       "      <td>3834.241709</td>\n",
       "      <td>6652.409365</td>\n",
       "      <td>1</td>\n",
       "      <td>78</td>\n",
       "      <td>NaN</td>\n",
       "      <td>6.4375</td>\n",
       "    </tr>\n",
       "    <tr>\n",
       "      <th>13577</th>\n",
       "      <td>12565</td>\n",
       "      <td>2</td>\n",
       "      <td>35.0</td>\n",
       "      <td>1.0</td>\n",
       "      <td>8.0</td>\n",
       "      <td>NaN</td>\n",
       "      <td>NaN</td>\n",
       "      <td>NaN</td>\n",
       "      <td>NaN</td>\n",
       "      <td>NaN</td>\n",
       "      <td>...</td>\n",
       "      <td>0</td>\n",
       "      <td>0</td>\n",
       "      <td>0</td>\n",
       "      <td>3195.641221</td>\n",
       "      <td>3834.241709</td>\n",
       "      <td>6652.409365</td>\n",
       "      <td>1</td>\n",
       "      <td>78</td>\n",
       "      <td>NaN</td>\n",
       "      <td>NaN</td>\n",
       "    </tr>\n",
       "    <tr>\n",
       "      <th>13578</th>\n",
       "      <td>12566</td>\n",
       "      <td>1</td>\n",
       "      <td>NaN</td>\n",
       "      <td>NaN</td>\n",
       "      <td>NaN</td>\n",
       "      <td>NaN</td>\n",
       "      <td>6.0</td>\n",
       "      <td>NaN</td>\n",
       "      <td>1.0</td>\n",
       "      <td>NaN</td>\n",
       "      <td>...</td>\n",
       "      <td>0</td>\n",
       "      <td>0</td>\n",
       "      <td>0</td>\n",
       "      <td>2080.317155</td>\n",
       "      <td>2422.820274</td>\n",
       "      <td>2627.548587</td>\n",
       "      <td>2</td>\n",
       "      <td>2</td>\n",
       "      <td>NaN</td>\n",
       "      <td>6.0000</td>\n",
       "    </tr>\n",
       "    <tr>\n",
       "      <th>13579</th>\n",
       "      <td>12566</td>\n",
       "      <td>2</td>\n",
       "      <td>NaN</td>\n",
       "      <td>NaN</td>\n",
       "      <td>NaN</td>\n",
       "      <td>NaN</td>\n",
       "      <td>6.0</td>\n",
       "      <td>NaN</td>\n",
       "      <td>1.0</td>\n",
       "      <td>NaN</td>\n",
       "      <td>...</td>\n",
       "      <td>0</td>\n",
       "      <td>0</td>\n",
       "      <td>0</td>\n",
       "      <td>2080.317155</td>\n",
       "      <td>2422.820274</td>\n",
       "      <td>2627.548587</td>\n",
       "      <td>2</td>\n",
       "      <td>2</td>\n",
       "      <td>NaN</td>\n",
       "      <td>7.0000</td>\n",
       "    </tr>\n",
       "    <tr>\n",
       "      <th>13580</th>\n",
       "      <td>12568</td>\n",
       "      <td>1</td>\n",
       "      <td>NaN</td>\n",
       "      <td>NaN</td>\n",
       "      <td>NaN</td>\n",
       "      <td>NaN</td>\n",
       "      <td>1.0</td>\n",
       "      <td>NaN</td>\n",
       "      <td>NaN</td>\n",
       "      <td>NaN</td>\n",
       "      <td>...</td>\n",
       "      <td>0</td>\n",
       "      <td>0</td>\n",
       "      <td>0</td>\n",
       "      <td>2734.687353</td>\n",
       "      <td>4258.980140</td>\n",
       "      <td>7772.212858</td>\n",
       "      <td>2</td>\n",
       "      <td>28</td>\n",
       "      <td>NaN</td>\n",
       "      <td>NaN</td>\n",
       "    </tr>\n",
       "    <tr>\n",
       "      <th>13581</th>\n",
       "      <td>12568</td>\n",
       "      <td>2</td>\n",
       "      <td>NaN</td>\n",
       "      <td>NaN</td>\n",
       "      <td>NaN</td>\n",
       "      <td>NaN</td>\n",
       "      <td>5.0</td>\n",
       "      <td>NaN</td>\n",
       "      <td>1.0</td>\n",
       "      <td>NaN</td>\n",
       "      <td>...</td>\n",
       "      <td>0</td>\n",
       "      <td>0</td>\n",
       "      <td>0</td>\n",
       "      <td>2734.687353</td>\n",
       "      <td>4258.980140</td>\n",
       "      <td>7772.212858</td>\n",
       "      <td>2</td>\n",
       "      <td>28</td>\n",
       "      <td>NaN</td>\n",
       "      <td>6.3750</td>\n",
       "    </tr>\n",
       "    <tr>\n",
       "      <th>13582</th>\n",
       "      <td>12568</td>\n",
       "      <td>3</td>\n",
       "      <td>NaN</td>\n",
       "      <td>NaN</td>\n",
       "      <td>NaN</td>\n",
       "      <td>NaN</td>\n",
       "      <td>4.0</td>\n",
       "      <td>NaN</td>\n",
       "      <td>NaN</td>\n",
       "      <td>NaN</td>\n",
       "      <td>...</td>\n",
       "      <td>0</td>\n",
       "      <td>0</td>\n",
       "      <td>0</td>\n",
       "      <td>2734.687353</td>\n",
       "      <td>4258.980140</td>\n",
       "      <td>7772.212858</td>\n",
       "      <td>2</td>\n",
       "      <td>28</td>\n",
       "      <td>NaN</td>\n",
       "      <td>NaN</td>\n",
       "    </tr>\n",
       "    <tr>\n",
       "      <th>13583</th>\n",
       "      <td>12569</td>\n",
       "      <td>1</td>\n",
       "      <td>NaN</td>\n",
       "      <td>NaN</td>\n",
       "      <td>NaN</td>\n",
       "      <td>NaN</td>\n",
       "      <td>3.0</td>\n",
       "      <td>NaN</td>\n",
       "      <td>NaN</td>\n",
       "      <td>NaN</td>\n",
       "      <td>...</td>\n",
       "      <td>0</td>\n",
       "      <td>0</td>\n",
       "      <td>0</td>\n",
       "      <td>2580.967613</td>\n",
       "      <td>2925.167116</td>\n",
       "      <td>5075.164946</td>\n",
       "      <td>2</td>\n",
       "      <td>61</td>\n",
       "      <td>NaN</td>\n",
       "      <td>NaN</td>\n",
       "    </tr>\n",
       "    <tr>\n",
       "      <th>13584</th>\n",
       "      <td>12569</td>\n",
       "      <td>2</td>\n",
       "      <td>NaN</td>\n",
       "      <td>NaN</td>\n",
       "      <td>NaN</td>\n",
       "      <td>NaN</td>\n",
       "      <td>6.0</td>\n",
       "      <td>NaN</td>\n",
       "      <td>1.0</td>\n",
       "      <td>NaN</td>\n",
       "      <td>...</td>\n",
       "      <td>0</td>\n",
       "      <td>0</td>\n",
       "      <td>0</td>\n",
       "      <td>2580.967613</td>\n",
       "      <td>2925.167116</td>\n",
       "      <td>5075.164946</td>\n",
       "      <td>2</td>\n",
       "      <td>61</td>\n",
       "      <td>NaN</td>\n",
       "      <td>6.3750</td>\n",
       "    </tr>\n",
       "    <tr>\n",
       "      <th>13585</th>\n",
       "      <td>12570</td>\n",
       "      <td>1</td>\n",
       "      <td>NaN</td>\n",
       "      <td>NaN</td>\n",
       "      <td>NaN</td>\n",
       "      <td>NaN</td>\n",
       "      <td>3.0</td>\n",
       "      <td>NaN</td>\n",
       "      <td>NaN</td>\n",
       "      <td>NaN</td>\n",
       "      <td>...</td>\n",
       "      <td>0</td>\n",
       "      <td>0</td>\n",
       "      <td>0</td>\n",
       "      <td>5181.311509</td>\n",
       "      <td>6205.829154</td>\n",
       "      <td>11325.017623</td>\n",
       "      <td>2</td>\n",
       "      <td>40</td>\n",
       "      <td>NaN</td>\n",
       "      <td>NaN</td>\n",
       "    </tr>\n",
       "    <tr>\n",
       "      <th>13586</th>\n",
       "      <td>12570</td>\n",
       "      <td>2</td>\n",
       "      <td>NaN</td>\n",
       "      <td>NaN</td>\n",
       "      <td>NaN</td>\n",
       "      <td>NaN</td>\n",
       "      <td>3.0</td>\n",
       "      <td>NaN</td>\n",
       "      <td>NaN</td>\n",
       "      <td>NaN</td>\n",
       "      <td>...</td>\n",
       "      <td>0</td>\n",
       "      <td>0</td>\n",
       "      <td>0</td>\n",
       "      <td>5181.311509</td>\n",
       "      <td>6205.829154</td>\n",
       "      <td>11325.017623</td>\n",
       "      <td>2</td>\n",
       "      <td>40</td>\n",
       "      <td>NaN</td>\n",
       "      <td>NaN</td>\n",
       "    </tr>\n",
       "    <tr>\n",
       "      <th>13587</th>\n",
       "      <td>12570</td>\n",
       "      <td>3</td>\n",
       "      <td>NaN</td>\n",
       "      <td>NaN</td>\n",
       "      <td>NaN</td>\n",
       "      <td>NaN</td>\n",
       "      <td>3.0</td>\n",
       "      <td>NaN</td>\n",
       "      <td>NaN</td>\n",
       "      <td>NaN</td>\n",
       "      <td>...</td>\n",
       "      <td>0</td>\n",
       "      <td>0</td>\n",
       "      <td>0</td>\n",
       "      <td>5181.311509</td>\n",
       "      <td>6205.829154</td>\n",
       "      <td>11325.017623</td>\n",
       "      <td>2</td>\n",
       "      <td>40</td>\n",
       "      <td>NaN</td>\n",
       "      <td>NaN</td>\n",
       "    </tr>\n",
       "    <tr>\n",
       "      <th>13588</th>\n",
       "      <td>12571</td>\n",
       "      <td>1</td>\n",
       "      <td>NaN</td>\n",
       "      <td>NaN</td>\n",
       "      <td>NaN</td>\n",
       "      <td>NaN</td>\n",
       "      <td>6.0</td>\n",
       "      <td>NaN</td>\n",
       "      <td>1.0</td>\n",
       "      <td>NaN</td>\n",
       "      <td>...</td>\n",
       "      <td>0</td>\n",
       "      <td>0</td>\n",
       "      <td>0</td>\n",
       "      <td>4670.540953</td>\n",
       "      <td>5795.692880</td>\n",
       "      <td>6269.200989</td>\n",
       "      <td>1</td>\n",
       "      <td>78</td>\n",
       "      <td>NaN</td>\n",
       "      <td>6.1875</td>\n",
       "    </tr>\n",
       "    <tr>\n",
       "      <th>13589</th>\n",
       "      <td>12571</td>\n",
       "      <td>2</td>\n",
       "      <td>NaN</td>\n",
       "      <td>NaN</td>\n",
       "      <td>NaN</td>\n",
       "      <td>NaN</td>\n",
       "      <td>3.0</td>\n",
       "      <td>NaN</td>\n",
       "      <td>NaN</td>\n",
       "      <td>NaN</td>\n",
       "      <td>...</td>\n",
       "      <td>0</td>\n",
       "      <td>0</td>\n",
       "      <td>0</td>\n",
       "      <td>4670.540953</td>\n",
       "      <td>5795.692880</td>\n",
       "      <td>6269.200989</td>\n",
       "      <td>1</td>\n",
       "      <td>78</td>\n",
       "      <td>NaN</td>\n",
       "      <td>NaN</td>\n",
       "    </tr>\n",
       "    <tr>\n",
       "      <th>13590</th>\n",
       "      <td>12571</td>\n",
       "      <td>3</td>\n",
       "      <td>NaN</td>\n",
       "      <td>NaN</td>\n",
       "      <td>NaN</td>\n",
       "      <td>NaN</td>\n",
       "      <td>3.0</td>\n",
       "      <td>NaN</td>\n",
       "      <td>NaN</td>\n",
       "      <td>NaN</td>\n",
       "      <td>...</td>\n",
       "      <td>0</td>\n",
       "      <td>0</td>\n",
       "      <td>0</td>\n",
       "      <td>4670.540953</td>\n",
       "      <td>5795.692880</td>\n",
       "      <td>6269.200989</td>\n",
       "      <td>1</td>\n",
       "      <td>78</td>\n",
       "      <td>NaN</td>\n",
       "      <td>NaN</td>\n",
       "    </tr>\n",
       "    <tr>\n",
       "      <th>13591</th>\n",
       "      <td>12571</td>\n",
       "      <td>4</td>\n",
       "      <td>NaN</td>\n",
       "      <td>NaN</td>\n",
       "      <td>NaN</td>\n",
       "      <td>NaN</td>\n",
       "      <td>6.0</td>\n",
       "      <td>NaN</td>\n",
       "      <td>1.0</td>\n",
       "      <td>NaN</td>\n",
       "      <td>...</td>\n",
       "      <td>0</td>\n",
       "      <td>0</td>\n",
       "      <td>0</td>\n",
       "      <td>4670.540953</td>\n",
       "      <td>5795.692880</td>\n",
       "      <td>6269.200989</td>\n",
       "      <td>1</td>\n",
       "      <td>78</td>\n",
       "      <td>NaN</td>\n",
       "      <td>7.5000</td>\n",
       "    </tr>\n",
       "    <tr>\n",
       "      <th>13592</th>\n",
       "      <td>12571</td>\n",
       "      <td>5</td>\n",
       "      <td>NaN</td>\n",
       "      <td>NaN</td>\n",
       "      <td>NaN</td>\n",
       "      <td>NaN</td>\n",
       "      <td>6.0</td>\n",
       "      <td>NaN</td>\n",
       "      <td>1.0</td>\n",
       "      <td>NaN</td>\n",
       "      <td>...</td>\n",
       "      <td>0</td>\n",
       "      <td>0</td>\n",
       "      <td>0</td>\n",
       "      <td>4670.540953</td>\n",
       "      <td>5795.692880</td>\n",
       "      <td>6269.200989</td>\n",
       "      <td>1</td>\n",
       "      <td>78</td>\n",
       "      <td>NaN</td>\n",
       "      <td>7.5000</td>\n",
       "    </tr>\n",
       "  </tbody>\n",
       "</table>\n",
       "<p>13593 rows × 244 columns</p>\n",
       "</div>"
      ],
      "text/plain": [
       "       caseid  pregordr  howpreg_n  howpreg_p  moscurrp  nowprgdk  pregend1  \\\n",
       "0           1         1        NaN        NaN       NaN       NaN       6.0   \n",
       "1           1         2        NaN        NaN       NaN       NaN       6.0   \n",
       "2           2         1        NaN        NaN       NaN       NaN       5.0   \n",
       "3           2         2        NaN        NaN       NaN       NaN       6.0   \n",
       "4           2         3        NaN        NaN       NaN       NaN       6.0   \n",
       "5           6         1        NaN        NaN       NaN       NaN       6.0   \n",
       "6           6         2        NaN        NaN       NaN       NaN       6.0   \n",
       "7           6         3        NaN        NaN       NaN       NaN       6.0   \n",
       "8           7         1        NaN        NaN       NaN       NaN       5.0   \n",
       "9           7         2        NaN        NaN       NaN       NaN       5.0   \n",
       "10         12         1        NaN        NaN       NaN       NaN       5.0   \n",
       "11         14         1        NaN        NaN       NaN       NaN       6.0   \n",
       "12         14         2        NaN        NaN       NaN       NaN       6.0   \n",
       "13         14         3        NaN        NaN       NaN       NaN       3.0   \n",
       "14         15         1        NaN        NaN       NaN       NaN       1.0   \n",
       "15         15         2        NaN        NaN       NaN       NaN       6.0   \n",
       "16         15         3        NaN        NaN       NaN       NaN       6.0   \n",
       "17         18         1        NaN        NaN       NaN       NaN       5.0   \n",
       "18         18         2        NaN        NaN       NaN       NaN       1.0   \n",
       "19         21         1        NaN        NaN       NaN       NaN       6.0   \n",
       "20         21         2        NaN        NaN       NaN       NaN       6.0   \n",
       "21         23         1        NaN        NaN       NaN       NaN       6.0   \n",
       "22         23         2        NaN        NaN       NaN       NaN       1.0   \n",
       "23         24         1        NaN        NaN       NaN       NaN       6.0   \n",
       "24         24         2        NaN        NaN       NaN       NaN       6.0   \n",
       "25         24         3        NaN        NaN       NaN       NaN       6.0   \n",
       "26         28         1        NaN        NaN       NaN       NaN       6.0   \n",
       "27         31         1        NaN        NaN       NaN       NaN       6.0   \n",
       "28         31         2        NaN        NaN       NaN       NaN       6.0   \n",
       "29         31         3        NaN        NaN       NaN       NaN       6.0   \n",
       "...       ...       ...        ...        ...       ...       ...       ...   \n",
       "13563   12547         2        NaN        NaN       NaN       NaN       6.0   \n",
       "13564   12547         3        NaN        NaN       NaN       NaN       6.0   \n",
       "13565   12550         1        NaN        NaN       NaN       NaN       6.0   \n",
       "13566   12551         1        NaN        NaN       NaN       NaN       5.0   \n",
       "13567   12554         1        NaN        NaN       NaN       NaN       3.0   \n",
       "13568   12554         2        NaN        NaN       NaN       NaN       4.0   \n",
       "13569   12556         1        NaN        NaN       NaN       NaN       6.0   \n",
       "13570   12556         2        NaN        NaN       NaN       NaN       6.0   \n",
       "13571   12556         3        NaN        NaN       NaN       NaN       6.0   \n",
       "13572   12556         4        NaN        NaN       NaN       NaN       6.0   \n",
       "13573   12561         1        NaN        NaN       NaN       NaN       6.0   \n",
       "13574   12561         2        NaN        NaN       NaN       NaN       6.0   \n",
       "13575   12564         1        NaN        NaN       NaN       NaN       3.0   \n",
       "13576   12565         1        NaN        NaN       NaN       NaN       6.0   \n",
       "13577   12565         2       35.0        1.0       8.0       NaN       NaN   \n",
       "13578   12566         1        NaN        NaN       NaN       NaN       6.0   \n",
       "13579   12566         2        NaN        NaN       NaN       NaN       6.0   \n",
       "13580   12568         1        NaN        NaN       NaN       NaN       1.0   \n",
       "13581   12568         2        NaN        NaN       NaN       NaN       5.0   \n",
       "13582   12568         3        NaN        NaN       NaN       NaN       4.0   \n",
       "13583   12569         1        NaN        NaN       NaN       NaN       3.0   \n",
       "13584   12569         2        NaN        NaN       NaN       NaN       6.0   \n",
       "13585   12570         1        NaN        NaN       NaN       NaN       3.0   \n",
       "13586   12570         2        NaN        NaN       NaN       NaN       3.0   \n",
       "13587   12570         3        NaN        NaN       NaN       NaN       3.0   \n",
       "13588   12571         1        NaN        NaN       NaN       NaN       6.0   \n",
       "13589   12571         2        NaN        NaN       NaN       NaN       3.0   \n",
       "13590   12571         3        NaN        NaN       NaN       NaN       3.0   \n",
       "13591   12571         4        NaN        NaN       NaN       NaN       6.0   \n",
       "13592   12571         5        NaN        NaN       NaN       NaN       6.0   \n",
       "\n",
       "       pregend2  nbrnaliv  multbrth     ...       laborfor_i  religion_i  \\\n",
       "0           NaN       1.0       NaN     ...                0           0   \n",
       "1           NaN       1.0       NaN     ...                0           0   \n",
       "2           NaN       3.0       5.0     ...                0           0   \n",
       "3           NaN       1.0       NaN     ...                0           0   \n",
       "4           NaN       1.0       NaN     ...                0           0   \n",
       "5           NaN       1.0       NaN     ...                0           0   \n",
       "6           NaN       1.0       NaN     ...                0           0   \n",
       "7           NaN       1.0       NaN     ...                0           0   \n",
       "8           NaN       1.0       NaN     ...                0           0   \n",
       "9           NaN       1.0       NaN     ...                0           0   \n",
       "10          NaN       1.0       NaN     ...                0           0   \n",
       "11          NaN       1.0       NaN     ...                0           0   \n",
       "12          NaN       1.0       NaN     ...                0           0   \n",
       "13          NaN       NaN       NaN     ...                0           0   \n",
       "14          NaN       NaN       NaN     ...                0           0   \n",
       "15          NaN       1.0       NaN     ...                0           0   \n",
       "16          NaN       1.0       NaN     ...                0           0   \n",
       "17          NaN       1.0       NaN     ...                0           0   \n",
       "18          NaN       NaN       NaN     ...                0           0   \n",
       "19          NaN       1.0       NaN     ...                0           0   \n",
       "20          NaN       1.0       NaN     ...                0           0   \n",
       "21          NaN       1.0       NaN     ...                0           0   \n",
       "22          NaN       NaN       NaN     ...                0           0   \n",
       "23          NaN       1.0       NaN     ...                0           0   \n",
       "24          NaN       1.0       NaN     ...                0           0   \n",
       "25          NaN       1.0       NaN     ...                0           0   \n",
       "26          NaN       1.0       NaN     ...                0           0   \n",
       "27          NaN       1.0       NaN     ...                0           0   \n",
       "28          NaN       1.0       NaN     ...                0           0   \n",
       "29          NaN       1.0       NaN     ...                0           0   \n",
       "...         ...       ...       ...     ...              ...         ...   \n",
       "13563       NaN       1.0       NaN     ...                0           0   \n",
       "13564       NaN       1.0       NaN     ...                0           0   \n",
       "13565       NaN       1.0       NaN     ...                0           0   \n",
       "13566       NaN       1.0       NaN     ...                0           0   \n",
       "13567       NaN       NaN       NaN     ...                0           0   \n",
       "13568       NaN       NaN       NaN     ...                0           0   \n",
       "13569       NaN       1.0       NaN     ...                0           0   \n",
       "13570       NaN       1.0       NaN     ...                0           0   \n",
       "13571       NaN       1.0       NaN     ...                0           0   \n",
       "13572       NaN       1.0       NaN     ...                0           0   \n",
       "13573       NaN       1.0       NaN     ...                0           0   \n",
       "13574       NaN       1.0       NaN     ...                0           0   \n",
       "13575       NaN       NaN       NaN     ...                0           0   \n",
       "13576       NaN       1.0       NaN     ...                0           0   \n",
       "13577       NaN       NaN       NaN     ...                0           0   \n",
       "13578       NaN       1.0       NaN     ...                0           0   \n",
       "13579       NaN       1.0       NaN     ...                0           0   \n",
       "13580       NaN       NaN       NaN     ...                0           0   \n",
       "13581       NaN       1.0       NaN     ...                0           0   \n",
       "13582       NaN       NaN       NaN     ...                0           0   \n",
       "13583       NaN       NaN       NaN     ...                0           0   \n",
       "13584       NaN       1.0       NaN     ...                0           0   \n",
       "13585       NaN       NaN       NaN     ...                0           0   \n",
       "13586       NaN       NaN       NaN     ...                0           0   \n",
       "13587       NaN       NaN       NaN     ...                0           0   \n",
       "13588       NaN       1.0       NaN     ...                0           0   \n",
       "13589       NaN       NaN       NaN     ...                0           0   \n",
       "13590       NaN       NaN       NaN     ...                0           0   \n",
       "13591       NaN       1.0       NaN     ...                0           0   \n",
       "13592       NaN       1.0       NaN     ...                0           0   \n",
       "\n",
       "       metro_i      basewgt  adj_mod_basewgt      finalwgt  secu_p  sest  \\\n",
       "0            0  3410.389399      3869.349602   6448.271112       2     9   \n",
       "1            0  3410.389399      3869.349602   6448.271112       2     9   \n",
       "2            0  7226.301740      8567.549110  12999.542264       2    12   \n",
       "3            0  7226.301740      8567.549110  12999.542264       2    12   \n",
       "4            0  7226.301740      8567.549110  12999.542264       2    12   \n",
       "5            0  4870.926435      5325.196999   8874.440799       1    23   \n",
       "6            0  4870.926435      5325.196999   8874.440799       1    23   \n",
       "7            0  4870.926435      5325.196999   8874.440799       1    23   \n",
       "8            0  3409.579565      3787.539000   6911.879921       2    14   \n",
       "9            0  3409.579565      3787.539000   6911.879921       2    14   \n",
       "10           0  3612.781968      4146.013572   6909.331618       1    31   \n",
       "11           0  2418.069494      2810.302771   3039.904507       2    56   \n",
       "12           0  2418.069494      2810.302771   3039.904507       2    56   \n",
       "13           0  2418.069494      2810.302771   3039.904507       2    56   \n",
       "14           0  1667.816099      3200.862017   5553.495599       1    33   \n",
       "15           0  1667.816099      3200.862017   5553.495599       1    33   \n",
       "16           0  1667.816099      3200.862017   5553.495599       1    33   \n",
       "17           0  2957.257457      3404.403067   4153.371741       2    14   \n",
       "18           0  2957.257457      3404.403067   4153.371741       2    14   \n",
       "19           0  3408.342437      3965.763949   7237.122630       1    48   \n",
       "20           0  3408.342437      3965.763949   7237.122630       1    48   \n",
       "21           0  6210.373020      8120.841310  13533.382043       2    64   \n",
       "22           0  6210.373020      8120.841310  13533.382043       2    64   \n",
       "23           0  3409.573258      4068.628645   7424.840414       1    27   \n",
       "24           0  3409.573258      4068.628645   7424.840414       1    27   \n",
       "25           0  3409.573258      4068.628645   7424.840414       1    27   \n",
       "26           0  3407.794208      3808.343516   6949.846082       2    57   \n",
       "27           0  3405.679025      4272.084519   5211.943113       1     2   \n",
       "28           0  3405.679025      4272.084519   5211.943113       1     2   \n",
       "29           0  3405.679025      4272.084519   5211.943113       1     2   \n",
       "...        ...          ...              ...           ...     ...   ...   \n",
       "13563        0  3453.545517      6628.022524  11499.619080       1    52   \n",
       "13564        0  3453.545517      6628.022524  11499.619080       1    52   \n",
       "13565        0  3080.452699      3745.326058   5268.550165       1    79   \n",
       "13566        0  2418.538866      3653.453268   3951.940400       2    75   \n",
       "13567        0  1914.676604      2177.957240   2764.045534       2    75   \n",
       "13568        0  1914.676604      2177.957240   2764.045534       2    75   \n",
       "13569        0  2474.619764      3250.573384   3965.699528       1    44   \n",
       "13570        0  2474.619764      3250.573384   3965.699528       1    44   \n",
       "13571        0  2474.619764      3250.573384   3965.699528       1    44   \n",
       "13572        0  2474.619764      3250.573384   3965.699528       1    44   \n",
       "13573        0  2418.089703      2698.650781   4497.301527       1    10   \n",
       "13574        0  2418.089703      2698.650781   4497.301527       1    10   \n",
       "13575        0  1820.850938      2129.214067   2768.191208       2    44   \n",
       "13576        0  3195.641221      3834.241709   6652.409365       1    78   \n",
       "13577        0  3195.641221      3834.241709   6652.409365       1    78   \n",
       "13578        0  2080.317155      2422.820274   2627.548587       2     2   \n",
       "13579        0  2080.317155      2422.820274   2627.548587       2     2   \n",
       "13580        0  2734.687353      4258.980140   7772.212858       2    28   \n",
       "13581        0  2734.687353      4258.980140   7772.212858       2    28   \n",
       "13582        0  2734.687353      4258.980140   7772.212858       2    28   \n",
       "13583        0  2580.967613      2925.167116   5075.164946       2    61   \n",
       "13584        0  2580.967613      2925.167116   5075.164946       2    61   \n",
       "13585        0  5181.311509      6205.829154  11325.017623       2    40   \n",
       "13586        0  5181.311509      6205.829154  11325.017623       2    40   \n",
       "13587        0  5181.311509      6205.829154  11325.017623       2    40   \n",
       "13588        0  4670.540953      5795.692880   6269.200989       1    78   \n",
       "13589        0  4670.540953      5795.692880   6269.200989       1    78   \n",
       "13590        0  4670.540953      5795.692880   6269.200989       1    78   \n",
       "13591        0  4670.540953      5795.692880   6269.200989       1    78   \n",
       "13592        0  4670.540953      5795.692880   6269.200989       1    78   \n",
       "\n",
       "       cmintvw  totalwgt_lb  \n",
       "0          NaN       8.8125  \n",
       "1          NaN       7.8750  \n",
       "2          NaN       9.1250  \n",
       "3          NaN       7.0000  \n",
       "4          NaN       6.1875  \n",
       "5          NaN       8.5625  \n",
       "6          NaN       9.5625  \n",
       "7          NaN       8.3750  \n",
       "8          NaN       7.5625  \n",
       "9          NaN       6.6250  \n",
       "10         NaN       7.8125  \n",
       "11         NaN       7.0000  \n",
       "12         NaN       4.0000  \n",
       "13         NaN          NaN  \n",
       "14         NaN          NaN  \n",
       "15         NaN       7.6875  \n",
       "16         NaN       7.5000  \n",
       "17         NaN       6.3125  \n",
       "18         NaN          NaN  \n",
       "19         NaN       8.7500  \n",
       "20         NaN       8.1875  \n",
       "21         NaN       5.5625  \n",
       "22         NaN          NaN  \n",
       "23         NaN       6.7500  \n",
       "24         NaN       7.3750  \n",
       "25         NaN       6.8125  \n",
       "26         NaN       8.1250  \n",
       "27         NaN       7.1250  \n",
       "28         NaN       6.0625  \n",
       "29         NaN       7.4375  \n",
       "...        ...          ...  \n",
       "13563      NaN       7.6875  \n",
       "13564      NaN       7.6250  \n",
       "13565      NaN       8.1250  \n",
       "13566      NaN       7.5000  \n",
       "13567      NaN          NaN  \n",
       "13568      NaN          NaN  \n",
       "13569      NaN       5.8125  \n",
       "13570      NaN       6.6875  \n",
       "13571      NaN       6.0000  \n",
       "13572      NaN       5.8125  \n",
       "13573      NaN       6.5625  \n",
       "13574      NaN       6.1250  \n",
       "13575      NaN          NaN  \n",
       "13576      NaN       6.4375  \n",
       "13577      NaN          NaN  \n",
       "13578      NaN       6.0000  \n",
       "13579      NaN       7.0000  \n",
       "13580      NaN          NaN  \n",
       "13581      NaN       6.3750  \n",
       "13582      NaN          NaN  \n",
       "13583      NaN          NaN  \n",
       "13584      NaN       6.3750  \n",
       "13585      NaN          NaN  \n",
       "13586      NaN          NaN  \n",
       "13587      NaN          NaN  \n",
       "13588      NaN       6.1875  \n",
       "13589      NaN          NaN  \n",
       "13590      NaN          NaN  \n",
       "13591      NaN       7.5000  \n",
       "13592      NaN       7.5000  \n",
       "\n",
       "[13593 rows x 244 columns]"
      ]
     },
     "execution_count": 11,
     "metadata": {},
     "output_type": "execute_result"
    }
   ],
   "source": [
    "import nsfg\n",
    "df = nsfg.ReadFemPreg()\n",
    "df"
   ]
  },
  {
   "cell_type": "markdown",
   "metadata": {
    "slideshow": {
     "slide_type": "slide"
    }
   },
   "source": [
    "The DataFrame is too big to display, so the output is truncated. The last line reports the number of rows and columns.\n",
    "\n",
    "The attribute ```columns``` returns a sequence of column names as strings:"
   ]
  },
  {
   "cell_type": "code",
   "execution_count": 12,
   "metadata": {
    "collapsed": false,
    "slideshow": {
     "slide_type": "fragment"
    }
   },
   "outputs": [
    {
     "data": {
      "text/plain": [
       "Index(['caseid', 'pregordr', 'howpreg_n', 'howpreg_p', 'moscurrp', 'nowprgdk',\n",
       "       'pregend1', 'pregend2', 'nbrnaliv', 'multbrth',\n",
       "       ...\n",
       "       'laborfor_i', 'religion_i', 'metro_i', 'basewgt', 'adj_mod_basewgt',\n",
       "       'finalwgt', 'secu_p', 'sest', 'cmintvw', 'totalwgt_lb'],\n",
       "      dtype='object', length=244)"
      ]
     },
     "execution_count": 12,
     "metadata": {},
     "output_type": "execute_result"
    }
   ],
   "source": [
    "df.columns"
   ]
  },
  {
   "cell_type": "markdown",
   "metadata": {
    "slideshow": {
     "slide_type": "fragment"
    }
   },
   "source": [
    "The result is an Index, which is another pandas data structure. We'll learn more about Index later,but for now we'll treat it like a list:"
   ]
  },
  {
   "cell_type": "code",
   "execution_count": 13,
   "metadata": {
    "collapsed": false,
    "slideshow": {
     "slide_type": "fragment"
    }
   },
   "outputs": [
    {
     "data": {
      "text/plain": [
       "'pregordr'"
      ]
     },
     "execution_count": 13,
     "metadata": {},
     "output_type": "execute_result"
    }
   ],
   "source": [
    "df.columns[1]"
   ]
  },
  {
   "cell_type": "markdown",
   "metadata": {
    "slideshow": {
     "slide_type": "slide"
    }
   },
   "source": [
    "To access a column from a DataFrame, you can use the column name as a key:"
   ]
  },
  {
   "cell_type": "code",
   "execution_count": 14,
   "metadata": {
    "collapsed": false,
    "slideshow": {
     "slide_type": "fragment"
    }
   },
   "outputs": [
    {
     "data": {
      "text/plain": [
       "pandas.core.series.Series"
      ]
     },
     "execution_count": 14,
     "metadata": {},
     "output_type": "execute_result"
    }
   ],
   "source": [
    "pregordr = df['pregordr']\n",
    "type(pregordr)"
   ]
  },
  {
   "cell_type": "markdown",
   "metadata": {
    "slideshow": {
     "slide_type": "fragment"
    }
   },
   "source": [
    "The result is a Series, yet another pandas data structure. A Series is like a Python list with some additional features. When you print a Series, you get the indices and the corresponding values:"
   ]
  },
  {
   "cell_type": "code",
   "execution_count": 15,
   "metadata": {
    "collapsed": false,
    "slideshow": {
     "slide_type": "fragment"
    }
   },
   "outputs": [
    {
     "data": {
      "text/plain": [
       "0        1\n",
       "1        2\n",
       "2        1\n",
       "3        2\n",
       "4        3\n",
       "5        1\n",
       "6        2\n",
       "7        3\n",
       "8        1\n",
       "9        2\n",
       "10       1\n",
       "11       1\n",
       "12       2\n",
       "13       3\n",
       "14       1\n",
       "15       2\n",
       "16       3\n",
       "17       1\n",
       "18       2\n",
       "19       1\n",
       "20       2\n",
       "21       1\n",
       "22       2\n",
       "23       1\n",
       "24       2\n",
       "25       3\n",
       "26       1\n",
       "27       1\n",
       "28       2\n",
       "29       3\n",
       "        ..\n",
       "13563    2\n",
       "13564    3\n",
       "13565    1\n",
       "13566    1\n",
       "13567    1\n",
       "13568    2\n",
       "13569    1\n",
       "13570    2\n",
       "13571    3\n",
       "13572    4\n",
       "13573    1\n",
       "13574    2\n",
       "13575    1\n",
       "13576    1\n",
       "13577    2\n",
       "13578    1\n",
       "13579    2\n",
       "13580    1\n",
       "13581    2\n",
       "13582    3\n",
       "13583    1\n",
       "13584    2\n",
       "13585    1\n",
       "13586    2\n",
       "13587    3\n",
       "13588    1\n",
       "13589    2\n",
       "13590    3\n",
       "13591    4\n",
       "13592    5\n",
       "Name: pregordr, dtype: int64"
      ]
     },
     "execution_count": 15,
     "metadata": {},
     "output_type": "execute_result"
    }
   ],
   "source": [
    "pregordr"
   ]
  },
  {
   "cell_type": "markdown",
   "metadata": {
    "slideshow": {
     "slide_type": "slide"
    }
   },
   "source": [
    "In this example the indices are integers from 0 to 13592, but in general they can be any sortable type. The elements are also integers, but they can be any type.\n",
    "\n",
    "The last line includes the variable name and data type; ```int64``` is one of the types provided by NumPy. If you run this example on a 32-bit machine you might see ```int32```.\n",
    "\n"
   ]
  },
  {
   "cell_type": "markdown",
   "metadata": {
    "slideshow": {
     "slide_type": "fragment"
    }
   },
   "source": [
    "You can access the elements of a Series using integer indices and slices:"
   ]
  },
  {
   "cell_type": "code",
   "execution_count": 16,
   "metadata": {
    "collapsed": false,
    "slideshow": {
     "slide_type": "fragment"
    }
   },
   "outputs": [
    {
     "data": {
      "text/plain": [
       "1"
      ]
     },
     "execution_count": 16,
     "metadata": {},
     "output_type": "execute_result"
    }
   ],
   "source": [
    "pregordr[0]"
   ]
  },
  {
   "cell_type": "code",
   "execution_count": 17,
   "metadata": {
    "collapsed": false,
    "slideshow": {
     "slide_type": "fragment"
    }
   },
   "outputs": [
    {
     "data": {
      "text/plain": [
       "2    1\n",
       "3    2\n",
       "4    3\n",
       "Name: pregordr, dtype: int64"
      ]
     },
     "execution_count": 17,
     "metadata": {},
     "output_type": "execute_result"
    }
   ],
   "source": [
    "pregordr[2:5]"
   ]
  },
  {
   "cell_type": "markdown",
   "metadata": {
    "slideshow": {
     "slide_type": "fragment"
    }
   },
   "source": [
    "The result of the index operator is an ```int64```; the result of the slice is another Series."
   ]
  },
  {
   "cell_type": "markdown",
   "metadata": {
    "slideshow": {
     "slide_type": "slide"
    }
   },
   "source": [
    "You can also access the columns of a DataFrame using dot notation:"
   ]
  },
  {
   "cell_type": "code",
   "execution_count": 18,
   "metadata": {
    "collapsed": true,
    "slideshow": {
     "slide_type": "fragment"
    }
   },
   "outputs": [],
   "source": [
    "pregordr = df.pregordr"
   ]
  },
  {
   "cell_type": "markdown",
   "metadata": {
    "slideshow": {
     "slide_type": "fragment"
    }
   },
   "source": [
    "This notation only works if the column name is a valid Python identifier, so it has to beign with a letter, can't contain spaces, etc."
   ]
  },
  {
   "cell_type": "markdown",
   "metadata": {
    "slideshow": {
     "slide_type": "slide"
    }
   },
   "source": [
    "## <font color='teal'>1.5 Variables</font>\n",
    "\n",
    "We have already seen two variables in the NSFG dataset, ```caseid``` and ```pregordr```, and we have seen that there are 244 variables in total. For the explorations in this book, I use the following variables:\n",
    "\n",
    "* ```caseid``` is the integer ID of the respondent\n",
    "* ```prglngth``` is the integeter duration of the pregnancy in weeks\n",
    "* ```outcome``` is an integer code for the outcome of the pregnancy. The code 1 indicates a live birth\n",
    "* ```pregordr``` is a pregnancy serial number; for example, the code for a respondent's first pregnancy is 1, for the second pregnancy is 2, and so on.\n",
    "* ```birthord``` is a serial number for live births; the code for a respondent's first child is 1, and so on. For outcomes other than live birth, this field is blank.\n",
    "* ```birthwgt_lb``` and ```birthwght_oz``` contain the pounds and ounces parts of the birth weight of the baby.\n",
    "* ```agepreg``` is the mother's age at the end of the pregnancy\n",
    "* ```finalwgt``` is the statistical weight associated with the respondent. It is a floating-point value that indicates the number of people in the U.S. population this resopndent represents."
   ]
  },
  {
   "cell_type": "markdown",
   "metadata": {
    "slideshow": {
     "slide_type": "slide"
    }
   },
   "source": [
    "If you read the codebook carefully, you will see that many of the variabels are **recodes**, which means tha thtey are not part of the **raw data** collected by the survey; they are calculated using the raw data.\n",
    "\n",
    "For example, ```prglngth``` for live births is equal to the raw variable ```wksgest``` (weeks of gestation) if it is available; otherwise it is estimated using ```mosgest * 4.33``` (months of gestation times the average number of weeks in a month).\n",
    "\n",
    "Recodes are often based on logic that checks the consistency and accuracy of the data. In general it is a good idea to use recodes when they are available, unless there is a compelling reason to process the raw data yourself."
   ]
  },
  {
   "cell_type": "markdown",
   "metadata": {
    "slideshow": {
     "slide_type": "slide"
    }
   },
   "source": [
    "## <font color='teal'>1.6 Transformation</font>\n",
    "\n",
    "When you import data like this, you often have to check for errors, deal with special values, convert data into different formats, and perform calculations. These operations are called **data cleaning**.\n",
    "\n",
    "```nsfg.py``` includes ```CleanFemPreg```, a function that cleans the variables I am planning to use:"
   ]
  },
  {
   "cell_type": "code",
   "execution_count": 19,
   "metadata": {
    "collapsed": true,
    "slideshow": {
     "slide_type": "slide"
    }
   },
   "outputs": [],
   "source": [
    "def CleanFemPreg(df):\n",
    "    \"\"\"Recodes variables from the pregnancy frame.\n",
    "\n",
    "    df: DataFrame\n",
    "    \"\"\"\n",
    "    # mother's age is encoded in centiyears; convert to years\n",
    "    df.agepreg /= 100.0\n",
    "\n",
    "    # birthwgt_lb contains at least one bogus value (51 lbs)\n",
    "    # replace with NaN\n",
    "    df.loc[df.birthwgt_lb > 20, 'birthwgt_lb'] = np.nan\n",
    "    \n",
    "    # replace 'not ascertained', 'refused', 'don't know' with NaN\n",
    "    na_vals = [97, 98, 99]\n",
    "    df.birthwgt_lb.replace(na_vals, np.nan, inplace=True)\n",
    "    df.birthwgt_oz.replace(na_vals, np.nan, inplace=True)\n",
    "    df.hpagelb.replace(na_vals, np.nan, inplace=True)\n",
    "\n",
    "    df.babysex.replace([7, 9], np.nan, inplace=True)\n",
    "    df.nbrnaliv.replace([9], np.nan, inplace=True)\n",
    "\n",
    "    # birthweight is stored in two columns, lbs and oz.\n",
    "    # convert to a single column in lb\n",
    "    # NOTE: creating a new column requires dictionary syntax,\n",
    "    # not attribute assignment (like df.totalwgt_lb)\n",
    "    df['totalwgt_lb'] = df.birthwgt_lb + df.birthwgt_oz / 16.0    \n",
    "\n",
    "    # due to a bug in ReadStataDct, the last variable gets clipped;\n",
    "    # so for now set it to NaN\n",
    "    df.cmintvw = np.nan"
   ]
  },
  {
   "cell_type": "markdown",
   "metadata": {
    "slideshow": {
     "slide_type": "slide"
    }
   },
   "source": [
    "```agepreg``` contains the mother's age at the end of the pregnancy. In the data file, ```agepreg```is encoded as an integer number of centiyears. So the first line divides each element of ```agepreg``` by 100, yielding a floating-point value in years.\n",
    "\n",
    "```birthwgt_lb``` and ```birthwgt_oz``` contain the weight of the baby, in pounds and ounces, for pregnancies that end in live birth. In addition it uses several special codes:\n",
    "\n",
    "```\n",
    "97 NOT ASCERTAINED\n",
    "98 REFUSED  \n",
    "99 DON'T KNOW\n",
    "```\n",
    "\n",
    "Special values encoded as numbers are _dangerous_ if they are not handled properly, they can generate bogus results, like a 99-pound baby. The ```replace``` method replaces these values with ```np.nan```, a special floating-point value that represents \"not a number.\" The ```inplace``` flag tells ```replace``` to modify the existing Series rather than create a new one.\n",
    "\n"
   ]
  },
  {
   "cell_type": "markdown",
   "metadata": {
    "slideshow": {
     "slide_type": "slide"
    }
   },
   "source": [
    "As part of the IEEE floating-point standard, all mathematical operations return ```nan``` if either argument is ```nan```:"
   ]
  },
  {
   "cell_type": "code",
   "execution_count": 20,
   "metadata": {
    "collapsed": false,
    "slideshow": {
     "slide_type": "fragment"
    }
   },
   "outputs": [
    {
     "data": {
      "text/plain": [
       "nan"
      ]
     },
     "execution_count": 20,
     "metadata": {},
     "output_type": "execute_result"
    }
   ],
   "source": [
    "import numpy as np\n",
    "np.nan / 100.0"
   ]
  },
  {
   "cell_type": "markdown",
   "metadata": {
    "slideshow": {
     "slide_type": "fragment"
    }
   },
   "source": [
    "So computations with ```nan``` tend to do the right thing, and most pandas functions handle ```nan``` appropriately. But dealing with missing data will be a recurring issue. The last line of ```CleanFemPreg``` creates a new column ```totalwgt_lb``` that combines pounds and ounces into a single quantity, in pounds."
   ]
  },
  {
   "cell_type": "markdown",
   "metadata": {
    "slideshow": {
     "slide_type": "slide"
    }
   },
   "source": [
    "One important note: when you add a new column to a DataFrame, you must use dictionary syntax, like this\n",
    "\n",
    "```\n",
    "# CORRECT\n",
    "df['totalwgt_lb'] = df.birthwgt_lb + df.birthwgt_oz / 16.0\n",
    "```\n",
    "\n",
    "Not dot notation, like this:\n",
    "\n",
    "```\n",
    "# WRONG!\n",
    "df.totalwgt_lb = df.birthwgt_lb + df.birthwgt_oz / 16.0\n",
    "```\n",
    "\n",
    "The version with dot notation adds an attribute to the DataFrame object, but that attribute is not treated as a new column.\n"
   ]
  },
  {
   "cell_type": "markdown",
   "metadata": {
    "slideshow": {
     "slide_type": "slide"
    }
   },
   "source": [
    "## <font color='teal'>1.7 Validation</font>\n",
    "\n",
    "When data is exported from one software environment and imported into another, errors might be introduced. And when you are getting familiar with a new dataset, you might interpret data incorrectly or introduce other misunderstandings. If you take time to validate the data, you can save time later and avoid errors.\n",
    "\n",
    "One way to validate data is to compute basic statistics andcompre them with published results. For example, teh NSFG codebook includes tables that summarize each variable. Here is the table for ```outcome```, which encodes the outcomes of each pregnancy."
   ]
  },
  {
   "cell_type": "code",
   "execution_count": 21,
   "metadata": {
    "collapsed": false,
    "slideshow": {
     "slide_type": "slide"
    }
   },
   "outputs": [
    {
     "data": {
      "text/html": [
       "\n",
       "        <iframe\n",
       "            width=\"700\"\n",
       "            height=\"350\"\n",
       "            src=\"http://www.icpsr.umich.edu/nsfg6/Controller?displayPage=labelDetails&fileCode=FEM&section=R&subSec=7869&srtLabel=606842\"\n",
       "            frameborder=\"0\"\n",
       "            allowfullscreen\n",
       "        ></iframe>\n",
       "        "
      ],
      "text/plain": [
       "<IPython.lib.display.IFrame at 0xab4e4e0>"
      ]
     },
     "execution_count": 21,
     "metadata": {},
     "output_type": "execute_result"
    }
   ],
   "source": [
    "from IPython.display import HTML\n",
    "from IPython.display import IFrame\n",
    "IFrame(\"http://www.icpsr.umich.edu/nsfg6/Controller?displayPage=labelDetails&fileCode=FEM&section=R&subSec=7869&srtLabel=606842\",\n",
    "      width=700, height=350)"
   ]
  },
  {
   "cell_type": "code",
   "execution_count": 22,
   "metadata": {
    "collapsed": false,
    "slideshow": {
     "slide_type": "slide"
    }
   },
   "outputs": [
    {
     "data": {
      "text/html": [
       "\n",
       "        <iframe\n",
       "            width=\"700\"\n",
       "            height=\"350\"\n",
       "            src=\"ftp://ftp.cdc.gov/pub/Health_Statistics/NCHS/Dataset_Documentation/NSFG/Cycle6Codebook-Pregnancy.pdf\"\n",
       "            frameborder=\"0\"\n",
       "            allowfullscreen\n",
       "        ></iframe>\n",
       "        "
      ],
      "text/plain": [
       "<IPython.lib.display.IFrame at 0xab4e780>"
      ]
     },
     "execution_count": 22,
     "metadata": {},
     "output_type": "execute_result"
    }
   ],
   "source": [
    "IFrame(\"ftp://ftp.cdc.gov/pub/Health_Statistics/NCHS/Dataset_Documentation/NSFG/Cycle6Codebook-Pregnancy.pdf\",\n",
    "      width=700, height=350)\n",
    "\n",
    "# goto page 78"
   ]
  },
  {
   "cell_type": "markdown",
   "metadata": {
    "slideshow": {
     "slide_type": "slide"
    }
   },
   "source": [
    "```\n",
    "value label           Total\n",
    "1 LIVE BIRTH              9148\n",
    "2 INDUCED ABORTION        1862\n",
    "3 STILLBIRTH               120\n",
    "4 MISCARRIAGE             1921\n",
    "5 ECTOPIC PREGNANCY        190\n",
    "6 CURRENT PREGNANCY        352\n",
    "```\n",
    "\n",
    "The Series class provides a method, ```value_counts```, that counts the number of times each value appears. If we seelct the ```outcome``` Series form the DataFrame, we can use ```value_counts``` to compare with the published data:"
   ]
  },
  {
   "cell_type": "code",
   "execution_count": 23,
   "metadata": {
    "collapsed": false,
    "slideshow": {
     "slide_type": "fragment"
    }
   },
   "outputs": [
    {
     "data": {
      "text/plain": [
       "1    9148\n",
       "2    1862\n",
       "3     120\n",
       "4    1921\n",
       "5     190\n",
       "6     352\n",
       "Name: outcome, dtype: int64"
      ]
     },
     "execution_count": 23,
     "metadata": {},
     "output_type": "execute_result"
    }
   ],
   "source": [
    "df.outcome.value_counts().sort_index()"
   ]
  },
  {
   "cell_type": "markdown",
   "metadata": {
    "slideshow": {
     "slide_type": "slide"
    }
   },
   "source": [
    "The result of ```value_counts``` is a Series; ```sort_index``` sorts the Series by index, so teh values appear in order.\n",
    "\n",
    "Comparing the results with the published table, it looks like the values in ```outcome``` are correct. Similarly, here is the published table for ```birthwgt_lb```:"
   ]
  },
  {
   "cell_type": "code",
   "execution_count": 24,
   "metadata": {
    "collapsed": false,
    "slideshow": {
     "slide_type": "slide"
    }
   },
   "outputs": [
    {
     "data": {
      "text/html": [
       "\n",
       "        <iframe\n",
       "            width=\"700\"\n",
       "            height=\"350\"\n",
       "            src=\"ftp://ftp.cdc.gov/pub/Health_Statistics/NCHS/Dataset_Documentation/NSFG/Cycle6Codebook-Pregnancy.pdf\"\n",
       "            frameborder=\"0\"\n",
       "            allowfullscreen\n",
       "        ></iframe>\n",
       "        "
      ],
      "text/plain": [
       "<IPython.lib.display.IFrame at 0xab4eda0>"
      ]
     },
     "execution_count": 24,
     "metadata": {},
     "output_type": "execute_result"
    }
   ],
   "source": [
    "IFrame(\"ftp://ftp.cdc.gov/pub/Health_Statistics/NCHS/Dataset_Documentation/NSFG/Cycle6Codebook-Pregnancy.pdf\",\n",
    "      width=700, height=350)\n",
    "\n",
    "# goto page 13"
   ]
  },
  {
   "cell_type": "markdown",
   "metadata": {
    "slideshow": {
     "slide_type": "slide"
    }
   },
   "source": [
    "```\n",
    "value label                  Total\n",
    ". INAPPLICABLE            4449\n",
    "0-5 UNDER 6 POUNDS          1125\n",
    "6 6 POUNDS                2223\n",
    "7 7 POUNDS                3049\n",
    "8 8 POUNDS                1889\n",
    "9-95 9 POUNDS OR MORE         799\n",
    "```\n",
    "\n",
    "And here are the value counts:\n"
   ]
  },
  {
   "cell_type": "code",
   "execution_count": 25,
   "metadata": {
    "collapsed": false,
    "slideshow": {
     "slide_type": "fragment"
    }
   },
   "outputs": [
    {
     "data": {
      "text/plain": [
       "0.0        8\n",
       "1.0       40\n",
       "2.0       53\n",
       "3.0       98\n",
       "4.0      229\n",
       "5.0      697\n",
       "6.0     2223\n",
       "7.0     3049\n",
       "8.0     1889\n",
       "9.0      623\n",
       "10.0     132\n",
       "11.0      26\n",
       "12.0      10\n",
       "13.0       3\n",
       "14.0       3\n",
       "15.0       1\n",
       "Name: birthwgt_lb, dtype: int64"
      ]
     },
     "execution_count": 25,
     "metadata": {},
     "output_type": "execute_result"
    }
   ],
   "source": [
    "df.birthwgt_lb.value_counts().sort_index()"
   ]
  },
  {
   "cell_type": "markdown",
   "metadata": {
    "slideshow": {
     "slide_type": "slide"
    }
   },
   "source": [
    "The counts for 6, 7, and 8 pounds check out. You can add up the counts for 0-5 pounds and 9-95 pounds like this:"
   ]
  },
  {
   "cell_type": "code",
   "execution_count": 26,
   "metadata": {
    "collapsed": false,
    "slideshow": {
     "slide_type": "fragment"
    }
   },
   "outputs": [
    {
     "name": "stdout",
     "output_type": "stream",
     "text": [
      "1125\n"
     ]
    }
   ],
   "source": [
    "filter1 = (0 <= df.birthwgt_lb) & (df.birthwgt_lb <= 5)\n",
    "\n",
    "print(df.birthwgt_lb[filter1].value_counts().sort_index().sum())"
   ]
  },
  {
   "cell_type": "code",
   "execution_count": 27,
   "metadata": {
    "collapsed": false,
    "slideshow": {
     "slide_type": "fragment"
    }
   },
   "outputs": [
    {
     "name": "stdout",
     "output_type": "stream",
     "text": [
      "798\n"
     ]
    }
   ],
   "source": [
    "filter2 = (9 <= df.birthwgt_lb ) & (df.birthwgt_lb <= 95)\n",
    "\n",
    "print(df.birthwgt_lb[filter2].value_counts().sort_index().sum())"
   ]
  },
  {
   "cell_type": "markdown",
   "metadata": {
    "slideshow": {
     "slide_type": "fragment"
    }
   },
   "source": [
    "The count for 9-95 is off by one because in the data is a 51 pound baby, which must be an error. To deal with this error, there is a line in ```CleanFemPreg``` that reads\n",
    "\n",
    "\n",
    "<font color='green'><tt>\n",
    "df.loc[df.birthwgt_lb > 20, 'birthwgt_lb'] = np.nan\n",
    "</tt></font>\n",
    "\n",
    "This statement replaces invalid values with ```np.nan```. The expression ```df.birthwgt_lb > 20``` yields a Seriers of type ```bool```, where True indicates that the condition is True. When a boolean Series is used as an index, it selects only the elemetns that satisfy the condition."
   ]
  },
  {
   "cell_type": "markdown",
   "metadata": {
    "slideshow": {
     "slide_type": "slide"
    }
   },
   "source": [
    "## <font color='teal'>1.8 Interpretation</font>\n",
    "\n",
    "To work with data effectively, you have to think on two levels at the same time: the level of statistics and the level of context.\n",
    "\n",
    "As an exmaple, let's look at the sequence of outcomes for a few respondents. Because of the way the data files are organized, we have to do some processing to collect the pregnancy data for each respondent. Here's a function that does that:\n"
   ]
  },
  {
   "cell_type": "code",
   "execution_count": 28,
   "metadata": {
    "collapsed": true,
    "slideshow": {
     "slide_type": "fragment"
    }
   },
   "outputs": [],
   "source": [
    "def MakePregMap(df):\n",
    "    d = defaultdict(list)\n",
    "    for index, caseid in df.caseid.iteritems():\n",
    "        d[caseid].append(index)\n",
    "    return d"
   ]
  },
  {
   "cell_type": "markdown",
   "metadata": {
    "slideshow": {
     "slide_type": "fragment"
    }
   },
   "source": [
    "```df``` is the DataFrame with pregnancy data. The ```iteritems``` method enumerates the index (row number) and ```caseid``` for each pregnancy.\n",
    "\n",
    "d is a dictionary that maps from each case ID to a list of indices. IF you are not familiar with ```defaultdict```, it is in the Python ```collections``` module. Using d, we look up a respondent and get the indices of that resopndent's pregnancies."
   ]
  },
  {
   "cell_type": "markdown",
   "metadata": {
    "slideshow": {
     "slide_type": "slide"
    }
   },
   "source": [
    "This example looks up one resopndent and prints a list of outcomes for her pregnancies:"
   ]
  },
  {
   "cell_type": "code",
   "execution_count": 29,
   "metadata": {
    "collapsed": false,
    "slideshow": {
     "slide_type": "fragment"
    }
   },
   "outputs": [
    {
     "data": {
      "text/plain": [
       "array([4, 4, 4, 4, 4, 4, 1], dtype=int64)"
      ]
     },
     "execution_count": 29,
     "metadata": {},
     "output_type": "execute_result"
    }
   ],
   "source": [
    "caseid = 10229\n",
    "preg_map = MakePregMap(df)\n",
    "indices = preg_map[caseid]\n",
    "df.outcome[indices].values"
   ]
  },
  {
   "cell_type": "markdown",
   "metadata": {
    "slideshow": {
     "slide_type": "slide"
    }
   },
   "source": [
    "We can also get the same result more directly without having to use the dictionary returned by ```MakePregMap```"
   ]
  },
  {
   "cell_type": "code",
   "execution_count": 30,
   "metadata": {
    "collapsed": false,
    "slideshow": {
     "slide_type": "fragment"
    }
   },
   "outputs": [
    {
     "data": {
      "text/plain": [
       "array([4, 4, 4, 4, 4, 4, 1], dtype=int64)"
      ]
     },
     "execution_count": 30,
     "metadata": {},
     "output_type": "execute_result"
    }
   ],
   "source": [
    "df.outcome[df.caseid == 10229].values"
   ]
  },
  {
   "cell_type": "markdown",
   "metadata": {
    "slideshow": {
     "slide_type": "fragment"
    }
   },
   "source": [
    "Using either the list of indices in the variable indices or those defined by the True values in the boolean Series \n",
    "\n",
    "```\n",
    "(df.caseid == 10229)\n",
    "```  \n",
    " \n",
    "\n",
    "as an index into ```df.coutcome``` selects the indicated row\n",
    "s and yields a Series. Instead of printing the whole Series, I selected the ```values``` attribute, which is a NumPy array.\n",
    "\n",
    "Statistically this respondent is not unusual. Miscarriages are common and there are other resopndents who reported as many or more."
   ]
  },
  {
   "cell_type": "markdown",
   "metadata": {
    "slideshow": {
     "slide_type": "slide"
    }
   },
   "source": [
    "But remembering the context, this data tells the story of a woman who has pregnant six times, each time ending in miscarriage. Her seventh and most recent pregnancy ended in a live birth. If we consider this data with empathy, it is natural to be moved by the story it tells.\n",
    "\n",
    "Each record in the NSFG dataset represents a preson who provided honest answeres to many personal and difficult questions. We can use this data to answer statistical questions about family life, reproduction, and health. At the same time, we have an obligation t oconsider the people represented by the data, and to afford them respect and gratitude."
   ]
  },
  {
   "cell_type": "markdown",
   "metadata": {
    "slideshow": {
     "slide_type": "slide"
    }
   },
   "source": [
    "## <font color='teal'>1.9 Exercises</font>\n",
    "\n",
    "### Exercise 1\n",
    "In the resository you downloaded, you should find a file named chap01ex.ipynb, which is an IPython notebook. Do the exercises in that notebook:"
   ]
  },
  {
   "cell_type": "code",
   "execution_count": 31,
   "metadata": {
    "collapsed": true,
    "slideshow": {
     "slide_type": "fragment"
    }
   },
   "outputs": [],
   "source": [
    "import numpy as np\n",
    "import pandas as pd\n",
    "import matplotlib.pyplot as plt\n",
    "from pandas import Series, DataFrame\n",
    "import pytz\n",
    "from pytz import common_timezones, all_timezones\n",
    "import matplotlib\n",
    "matplotlib.style.use('ggplot')\n",
    "%matplotlib inline\n",
    "from datetime import datetime"
   ]
  },
  {
   "cell_type": "code",
   "execution_count": 32,
   "metadata": {
    "collapsed": false,
    "slideshow": {
     "slide_type": "slide"
    }
   },
   "outputs": [
    {
     "data": {
      "text/html": [
       "<div>\n",
       "<table border=\"1\" class=\"dataframe\">\n",
       "  <thead>\n",
       "    <tr style=\"text-align: right;\">\n",
       "      <th></th>\n",
       "      <th>caseid</th>\n",
       "      <th>pregordr</th>\n",
       "      <th>howpreg_n</th>\n",
       "      <th>howpreg_p</th>\n",
       "      <th>moscurrp</th>\n",
       "      <th>nowprgdk</th>\n",
       "      <th>pregend1</th>\n",
       "      <th>pregend2</th>\n",
       "      <th>nbrnaliv</th>\n",
       "      <th>multbrth</th>\n",
       "      <th>...</th>\n",
       "      <th>laborfor_i</th>\n",
       "      <th>religion_i</th>\n",
       "      <th>metro_i</th>\n",
       "      <th>basewgt</th>\n",
       "      <th>adj_mod_basewgt</th>\n",
       "      <th>finalwgt</th>\n",
       "      <th>secu_p</th>\n",
       "      <th>sest</th>\n",
       "      <th>cmintvw</th>\n",
       "      <th>totalwgt_lb</th>\n",
       "    </tr>\n",
       "  </thead>\n",
       "  <tbody>\n",
       "    <tr>\n",
       "      <th>0</th>\n",
       "      <td>1</td>\n",
       "      <td>1</td>\n",
       "      <td>NaN</td>\n",
       "      <td>NaN</td>\n",
       "      <td>NaN</td>\n",
       "      <td>NaN</td>\n",
       "      <td>6.0</td>\n",
       "      <td>NaN</td>\n",
       "      <td>1.0</td>\n",
       "      <td>NaN</td>\n",
       "      <td>...</td>\n",
       "      <td>0</td>\n",
       "      <td>0</td>\n",
       "      <td>0</td>\n",
       "      <td>3410.389399</td>\n",
       "      <td>3869.349602</td>\n",
       "      <td>6448.271112</td>\n",
       "      <td>2</td>\n",
       "      <td>9</td>\n",
       "      <td>NaN</td>\n",
       "      <td>8.8125</td>\n",
       "    </tr>\n",
       "    <tr>\n",
       "      <th>1</th>\n",
       "      <td>1</td>\n",
       "      <td>2</td>\n",
       "      <td>NaN</td>\n",
       "      <td>NaN</td>\n",
       "      <td>NaN</td>\n",
       "      <td>NaN</td>\n",
       "      <td>6.0</td>\n",
       "      <td>NaN</td>\n",
       "      <td>1.0</td>\n",
       "      <td>NaN</td>\n",
       "      <td>...</td>\n",
       "      <td>0</td>\n",
       "      <td>0</td>\n",
       "      <td>0</td>\n",
       "      <td>3410.389399</td>\n",
       "      <td>3869.349602</td>\n",
       "      <td>6448.271112</td>\n",
       "      <td>2</td>\n",
       "      <td>9</td>\n",
       "      <td>NaN</td>\n",
       "      <td>7.8750</td>\n",
       "    </tr>\n",
       "    <tr>\n",
       "      <th>2</th>\n",
       "      <td>2</td>\n",
       "      <td>1</td>\n",
       "      <td>NaN</td>\n",
       "      <td>NaN</td>\n",
       "      <td>NaN</td>\n",
       "      <td>NaN</td>\n",
       "      <td>5.0</td>\n",
       "      <td>NaN</td>\n",
       "      <td>3.0</td>\n",
       "      <td>5.0</td>\n",
       "      <td>...</td>\n",
       "      <td>0</td>\n",
       "      <td>0</td>\n",
       "      <td>0</td>\n",
       "      <td>7226.301740</td>\n",
       "      <td>8567.549110</td>\n",
       "      <td>12999.542264</td>\n",
       "      <td>2</td>\n",
       "      <td>12</td>\n",
       "      <td>NaN</td>\n",
       "      <td>9.1250</td>\n",
       "    </tr>\n",
       "    <tr>\n",
       "      <th>3</th>\n",
       "      <td>2</td>\n",
       "      <td>2</td>\n",
       "      <td>NaN</td>\n",
       "      <td>NaN</td>\n",
       "      <td>NaN</td>\n",
       "      <td>NaN</td>\n",
       "      <td>6.0</td>\n",
       "      <td>NaN</td>\n",
       "      <td>1.0</td>\n",
       "      <td>NaN</td>\n",
       "      <td>...</td>\n",
       "      <td>0</td>\n",
       "      <td>0</td>\n",
       "      <td>0</td>\n",
       "      <td>7226.301740</td>\n",
       "      <td>8567.549110</td>\n",
       "      <td>12999.542264</td>\n",
       "      <td>2</td>\n",
       "      <td>12</td>\n",
       "      <td>NaN</td>\n",
       "      <td>7.0000</td>\n",
       "    </tr>\n",
       "    <tr>\n",
       "      <th>4</th>\n",
       "      <td>2</td>\n",
       "      <td>3</td>\n",
       "      <td>NaN</td>\n",
       "      <td>NaN</td>\n",
       "      <td>NaN</td>\n",
       "      <td>NaN</td>\n",
       "      <td>6.0</td>\n",
       "      <td>NaN</td>\n",
       "      <td>1.0</td>\n",
       "      <td>NaN</td>\n",
       "      <td>...</td>\n",
       "      <td>0</td>\n",
       "      <td>0</td>\n",
       "      <td>0</td>\n",
       "      <td>7226.301740</td>\n",
       "      <td>8567.549110</td>\n",
       "      <td>12999.542264</td>\n",
       "      <td>2</td>\n",
       "      <td>12</td>\n",
       "      <td>NaN</td>\n",
       "      <td>6.1875</td>\n",
       "    </tr>\n",
       "    <tr>\n",
       "      <th>5</th>\n",
       "      <td>6</td>\n",
       "      <td>1</td>\n",
       "      <td>NaN</td>\n",
       "      <td>NaN</td>\n",
       "      <td>NaN</td>\n",
       "      <td>NaN</td>\n",
       "      <td>6.0</td>\n",
       "      <td>NaN</td>\n",
       "      <td>1.0</td>\n",
       "      <td>NaN</td>\n",
       "      <td>...</td>\n",
       "      <td>0</td>\n",
       "      <td>0</td>\n",
       "      <td>0</td>\n",
       "      <td>4870.926435</td>\n",
       "      <td>5325.196999</td>\n",
       "      <td>8874.440799</td>\n",
       "      <td>1</td>\n",
       "      <td>23</td>\n",
       "      <td>NaN</td>\n",
       "      <td>8.5625</td>\n",
       "    </tr>\n",
       "    <tr>\n",
       "      <th>6</th>\n",
       "      <td>6</td>\n",
       "      <td>2</td>\n",
       "      <td>NaN</td>\n",
       "      <td>NaN</td>\n",
       "      <td>NaN</td>\n",
       "      <td>NaN</td>\n",
       "      <td>6.0</td>\n",
       "      <td>NaN</td>\n",
       "      <td>1.0</td>\n",
       "      <td>NaN</td>\n",
       "      <td>...</td>\n",
       "      <td>0</td>\n",
       "      <td>0</td>\n",
       "      <td>0</td>\n",
       "      <td>4870.926435</td>\n",
       "      <td>5325.196999</td>\n",
       "      <td>8874.440799</td>\n",
       "      <td>1</td>\n",
       "      <td>23</td>\n",
       "      <td>NaN</td>\n",
       "      <td>9.5625</td>\n",
       "    </tr>\n",
       "    <tr>\n",
       "      <th>7</th>\n",
       "      <td>6</td>\n",
       "      <td>3</td>\n",
       "      <td>NaN</td>\n",
       "      <td>NaN</td>\n",
       "      <td>NaN</td>\n",
       "      <td>NaN</td>\n",
       "      <td>6.0</td>\n",
       "      <td>NaN</td>\n",
       "      <td>1.0</td>\n",
       "      <td>NaN</td>\n",
       "      <td>...</td>\n",
       "      <td>0</td>\n",
       "      <td>0</td>\n",
       "      <td>0</td>\n",
       "      <td>4870.926435</td>\n",
       "      <td>5325.196999</td>\n",
       "      <td>8874.440799</td>\n",
       "      <td>1</td>\n",
       "      <td>23</td>\n",
       "      <td>NaN</td>\n",
       "      <td>8.3750</td>\n",
       "    </tr>\n",
       "    <tr>\n",
       "      <th>8</th>\n",
       "      <td>7</td>\n",
       "      <td>1</td>\n",
       "      <td>NaN</td>\n",
       "      <td>NaN</td>\n",
       "      <td>NaN</td>\n",
       "      <td>NaN</td>\n",
       "      <td>5.0</td>\n",
       "      <td>NaN</td>\n",
       "      <td>1.0</td>\n",
       "      <td>NaN</td>\n",
       "      <td>...</td>\n",
       "      <td>0</td>\n",
       "      <td>0</td>\n",
       "      <td>0</td>\n",
       "      <td>3409.579565</td>\n",
       "      <td>3787.539000</td>\n",
       "      <td>6911.879921</td>\n",
       "      <td>2</td>\n",
       "      <td>14</td>\n",
       "      <td>NaN</td>\n",
       "      <td>7.5625</td>\n",
       "    </tr>\n",
       "    <tr>\n",
       "      <th>9</th>\n",
       "      <td>7</td>\n",
       "      <td>2</td>\n",
       "      <td>NaN</td>\n",
       "      <td>NaN</td>\n",
       "      <td>NaN</td>\n",
       "      <td>NaN</td>\n",
       "      <td>5.0</td>\n",
       "      <td>NaN</td>\n",
       "      <td>1.0</td>\n",
       "      <td>NaN</td>\n",
       "      <td>...</td>\n",
       "      <td>0</td>\n",
       "      <td>0</td>\n",
       "      <td>0</td>\n",
       "      <td>3409.579565</td>\n",
       "      <td>3787.539000</td>\n",
       "      <td>6911.879921</td>\n",
       "      <td>2</td>\n",
       "      <td>14</td>\n",
       "      <td>NaN</td>\n",
       "      <td>6.6250</td>\n",
       "    </tr>\n",
       "    <tr>\n",
       "      <th>10</th>\n",
       "      <td>12</td>\n",
       "      <td>1</td>\n",
       "      <td>NaN</td>\n",
       "      <td>NaN</td>\n",
       "      <td>NaN</td>\n",
       "      <td>NaN</td>\n",
       "      <td>5.0</td>\n",
       "      <td>NaN</td>\n",
       "      <td>1.0</td>\n",
       "      <td>NaN</td>\n",
       "      <td>...</td>\n",
       "      <td>0</td>\n",
       "      <td>0</td>\n",
       "      <td>0</td>\n",
       "      <td>3612.781968</td>\n",
       "      <td>4146.013572</td>\n",
       "      <td>6909.331618</td>\n",
       "      <td>1</td>\n",
       "      <td>31</td>\n",
       "      <td>NaN</td>\n",
       "      <td>7.8125</td>\n",
       "    </tr>\n",
       "    <tr>\n",
       "      <th>11</th>\n",
       "      <td>14</td>\n",
       "      <td>1</td>\n",
       "      <td>NaN</td>\n",
       "      <td>NaN</td>\n",
       "      <td>NaN</td>\n",
       "      <td>NaN</td>\n",
       "      <td>6.0</td>\n",
       "      <td>NaN</td>\n",
       "      <td>1.0</td>\n",
       "      <td>NaN</td>\n",
       "      <td>...</td>\n",
       "      <td>0</td>\n",
       "      <td>0</td>\n",
       "      <td>0</td>\n",
       "      <td>2418.069494</td>\n",
       "      <td>2810.302771</td>\n",
       "      <td>3039.904507</td>\n",
       "      <td>2</td>\n",
       "      <td>56</td>\n",
       "      <td>NaN</td>\n",
       "      <td>7.0000</td>\n",
       "    </tr>\n",
       "    <tr>\n",
       "      <th>12</th>\n",
       "      <td>14</td>\n",
       "      <td>2</td>\n",
       "      <td>NaN</td>\n",
       "      <td>NaN</td>\n",
       "      <td>NaN</td>\n",
       "      <td>NaN</td>\n",
       "      <td>6.0</td>\n",
       "      <td>NaN</td>\n",
       "      <td>1.0</td>\n",
       "      <td>NaN</td>\n",
       "      <td>...</td>\n",
       "      <td>0</td>\n",
       "      <td>0</td>\n",
       "      <td>0</td>\n",
       "      <td>2418.069494</td>\n",
       "      <td>2810.302771</td>\n",
       "      <td>3039.904507</td>\n",
       "      <td>2</td>\n",
       "      <td>56</td>\n",
       "      <td>NaN</td>\n",
       "      <td>4.0000</td>\n",
       "    </tr>\n",
       "    <tr>\n",
       "      <th>13</th>\n",
       "      <td>14</td>\n",
       "      <td>3</td>\n",
       "      <td>NaN</td>\n",
       "      <td>NaN</td>\n",
       "      <td>NaN</td>\n",
       "      <td>NaN</td>\n",
       "      <td>3.0</td>\n",
       "      <td>NaN</td>\n",
       "      <td>NaN</td>\n",
       "      <td>NaN</td>\n",
       "      <td>...</td>\n",
       "      <td>0</td>\n",
       "      <td>0</td>\n",
       "      <td>0</td>\n",
       "      <td>2418.069494</td>\n",
       "      <td>2810.302771</td>\n",
       "      <td>3039.904507</td>\n",
       "      <td>2</td>\n",
       "      <td>56</td>\n",
       "      <td>NaN</td>\n",
       "      <td>NaN</td>\n",
       "    </tr>\n",
       "    <tr>\n",
       "      <th>14</th>\n",
       "      <td>15</td>\n",
       "      <td>1</td>\n",
       "      <td>NaN</td>\n",
       "      <td>NaN</td>\n",
       "      <td>NaN</td>\n",
       "      <td>NaN</td>\n",
       "      <td>1.0</td>\n",
       "      <td>NaN</td>\n",
       "      <td>NaN</td>\n",
       "      <td>NaN</td>\n",
       "      <td>...</td>\n",
       "      <td>0</td>\n",
       "      <td>0</td>\n",
       "      <td>0</td>\n",
       "      <td>1667.816099</td>\n",
       "      <td>3200.862017</td>\n",
       "      <td>5553.495599</td>\n",
       "      <td>1</td>\n",
       "      <td>33</td>\n",
       "      <td>NaN</td>\n",
       "      <td>NaN</td>\n",
       "    </tr>\n",
       "    <tr>\n",
       "      <th>15</th>\n",
       "      <td>15</td>\n",
       "      <td>2</td>\n",
       "      <td>NaN</td>\n",
       "      <td>NaN</td>\n",
       "      <td>NaN</td>\n",
       "      <td>NaN</td>\n",
       "      <td>6.0</td>\n",
       "      <td>NaN</td>\n",
       "      <td>1.0</td>\n",
       "      <td>NaN</td>\n",
       "      <td>...</td>\n",
       "      <td>0</td>\n",
       "      <td>0</td>\n",
       "      <td>0</td>\n",
       "      <td>1667.816099</td>\n",
       "      <td>3200.862017</td>\n",
       "      <td>5553.495599</td>\n",
       "      <td>1</td>\n",
       "      <td>33</td>\n",
       "      <td>NaN</td>\n",
       "      <td>7.6875</td>\n",
       "    </tr>\n",
       "    <tr>\n",
       "      <th>16</th>\n",
       "      <td>15</td>\n",
       "      <td>3</td>\n",
       "      <td>NaN</td>\n",
       "      <td>NaN</td>\n",
       "      <td>NaN</td>\n",
       "      <td>NaN</td>\n",
       "      <td>6.0</td>\n",
       "      <td>NaN</td>\n",
       "      <td>1.0</td>\n",
       "      <td>NaN</td>\n",
       "      <td>...</td>\n",
       "      <td>0</td>\n",
       "      <td>0</td>\n",
       "      <td>0</td>\n",
       "      <td>1667.816099</td>\n",
       "      <td>3200.862017</td>\n",
       "      <td>5553.495599</td>\n",
       "      <td>1</td>\n",
       "      <td>33</td>\n",
       "      <td>NaN</td>\n",
       "      <td>7.5000</td>\n",
       "    </tr>\n",
       "    <tr>\n",
       "      <th>17</th>\n",
       "      <td>18</td>\n",
       "      <td>1</td>\n",
       "      <td>NaN</td>\n",
       "      <td>NaN</td>\n",
       "      <td>NaN</td>\n",
       "      <td>NaN</td>\n",
       "      <td>5.0</td>\n",
       "      <td>NaN</td>\n",
       "      <td>1.0</td>\n",
       "      <td>NaN</td>\n",
       "      <td>...</td>\n",
       "      <td>0</td>\n",
       "      <td>0</td>\n",
       "      <td>0</td>\n",
       "      <td>2957.257457</td>\n",
       "      <td>3404.403067</td>\n",
       "      <td>4153.371741</td>\n",
       "      <td>2</td>\n",
       "      <td>14</td>\n",
       "      <td>NaN</td>\n",
       "      <td>6.3125</td>\n",
       "    </tr>\n",
       "    <tr>\n",
       "      <th>18</th>\n",
       "      <td>18</td>\n",
       "      <td>2</td>\n",
       "      <td>NaN</td>\n",
       "      <td>NaN</td>\n",
       "      <td>NaN</td>\n",
       "      <td>NaN</td>\n",
       "      <td>1.0</td>\n",
       "      <td>NaN</td>\n",
       "      <td>NaN</td>\n",
       "      <td>NaN</td>\n",
       "      <td>...</td>\n",
       "      <td>0</td>\n",
       "      <td>0</td>\n",
       "      <td>0</td>\n",
       "      <td>2957.257457</td>\n",
       "      <td>3404.403067</td>\n",
       "      <td>4153.371741</td>\n",
       "      <td>2</td>\n",
       "      <td>14</td>\n",
       "      <td>NaN</td>\n",
       "      <td>NaN</td>\n",
       "    </tr>\n",
       "    <tr>\n",
       "      <th>19</th>\n",
       "      <td>21</td>\n",
       "      <td>1</td>\n",
       "      <td>NaN</td>\n",
       "      <td>NaN</td>\n",
       "      <td>NaN</td>\n",
       "      <td>NaN</td>\n",
       "      <td>6.0</td>\n",
       "      <td>NaN</td>\n",
       "      <td>1.0</td>\n",
       "      <td>NaN</td>\n",
       "      <td>...</td>\n",
       "      <td>0</td>\n",
       "      <td>0</td>\n",
       "      <td>0</td>\n",
       "      <td>3408.342437</td>\n",
       "      <td>3965.763949</td>\n",
       "      <td>7237.122630</td>\n",
       "      <td>1</td>\n",
       "      <td>48</td>\n",
       "      <td>NaN</td>\n",
       "      <td>8.7500</td>\n",
       "    </tr>\n",
       "    <tr>\n",
       "      <th>20</th>\n",
       "      <td>21</td>\n",
       "      <td>2</td>\n",
       "      <td>NaN</td>\n",
       "      <td>NaN</td>\n",
       "      <td>NaN</td>\n",
       "      <td>NaN</td>\n",
       "      <td>6.0</td>\n",
       "      <td>NaN</td>\n",
       "      <td>1.0</td>\n",
       "      <td>NaN</td>\n",
       "      <td>...</td>\n",
       "      <td>0</td>\n",
       "      <td>0</td>\n",
       "      <td>0</td>\n",
       "      <td>3408.342437</td>\n",
       "      <td>3965.763949</td>\n",
       "      <td>7237.122630</td>\n",
       "      <td>1</td>\n",
       "      <td>48</td>\n",
       "      <td>NaN</td>\n",
       "      <td>8.1875</td>\n",
       "    </tr>\n",
       "    <tr>\n",
       "      <th>21</th>\n",
       "      <td>23</td>\n",
       "      <td>1</td>\n",
       "      <td>NaN</td>\n",
       "      <td>NaN</td>\n",
       "      <td>NaN</td>\n",
       "      <td>NaN</td>\n",
       "      <td>6.0</td>\n",
       "      <td>NaN</td>\n",
       "      <td>1.0</td>\n",
       "      <td>NaN</td>\n",
       "      <td>...</td>\n",
       "      <td>0</td>\n",
       "      <td>0</td>\n",
       "      <td>0</td>\n",
       "      <td>6210.373020</td>\n",
       "      <td>8120.841310</td>\n",
       "      <td>13533.382043</td>\n",
       "      <td>2</td>\n",
       "      <td>64</td>\n",
       "      <td>NaN</td>\n",
       "      <td>5.5625</td>\n",
       "    </tr>\n",
       "    <tr>\n",
       "      <th>22</th>\n",
       "      <td>23</td>\n",
       "      <td>2</td>\n",
       "      <td>NaN</td>\n",
       "      <td>NaN</td>\n",
       "      <td>NaN</td>\n",
       "      <td>NaN</td>\n",
       "      <td>1.0</td>\n",
       "      <td>NaN</td>\n",
       "      <td>NaN</td>\n",
       "      <td>NaN</td>\n",
       "      <td>...</td>\n",
       "      <td>0</td>\n",
       "      <td>0</td>\n",
       "      <td>0</td>\n",
       "      <td>6210.373020</td>\n",
       "      <td>8120.841310</td>\n",
       "      <td>13533.382043</td>\n",
       "      <td>2</td>\n",
       "      <td>64</td>\n",
       "      <td>NaN</td>\n",
       "      <td>NaN</td>\n",
       "    </tr>\n",
       "    <tr>\n",
       "      <th>23</th>\n",
       "      <td>24</td>\n",
       "      <td>1</td>\n",
       "      <td>NaN</td>\n",
       "      <td>NaN</td>\n",
       "      <td>NaN</td>\n",
       "      <td>NaN</td>\n",
       "      <td>6.0</td>\n",
       "      <td>NaN</td>\n",
       "      <td>1.0</td>\n",
       "      <td>NaN</td>\n",
       "      <td>...</td>\n",
       "      <td>0</td>\n",
       "      <td>0</td>\n",
       "      <td>0</td>\n",
       "      <td>3409.573258</td>\n",
       "      <td>4068.628645</td>\n",
       "      <td>7424.840414</td>\n",
       "      <td>1</td>\n",
       "      <td>27</td>\n",
       "      <td>NaN</td>\n",
       "      <td>6.7500</td>\n",
       "    </tr>\n",
       "    <tr>\n",
       "      <th>24</th>\n",
       "      <td>24</td>\n",
       "      <td>2</td>\n",
       "      <td>NaN</td>\n",
       "      <td>NaN</td>\n",
       "      <td>NaN</td>\n",
       "      <td>NaN</td>\n",
       "      <td>6.0</td>\n",
       "      <td>NaN</td>\n",
       "      <td>1.0</td>\n",
       "      <td>NaN</td>\n",
       "      <td>...</td>\n",
       "      <td>0</td>\n",
       "      <td>0</td>\n",
       "      <td>0</td>\n",
       "      <td>3409.573258</td>\n",
       "      <td>4068.628645</td>\n",
       "      <td>7424.840414</td>\n",
       "      <td>1</td>\n",
       "      <td>27</td>\n",
       "      <td>NaN</td>\n",
       "      <td>7.3750</td>\n",
       "    </tr>\n",
       "    <tr>\n",
       "      <th>25</th>\n",
       "      <td>24</td>\n",
       "      <td>3</td>\n",
       "      <td>NaN</td>\n",
       "      <td>NaN</td>\n",
       "      <td>NaN</td>\n",
       "      <td>NaN</td>\n",
       "      <td>6.0</td>\n",
       "      <td>NaN</td>\n",
       "      <td>1.0</td>\n",
       "      <td>NaN</td>\n",
       "      <td>...</td>\n",
       "      <td>0</td>\n",
       "      <td>0</td>\n",
       "      <td>0</td>\n",
       "      <td>3409.573258</td>\n",
       "      <td>4068.628645</td>\n",
       "      <td>7424.840414</td>\n",
       "      <td>1</td>\n",
       "      <td>27</td>\n",
       "      <td>NaN</td>\n",
       "      <td>6.8125</td>\n",
       "    </tr>\n",
       "    <tr>\n",
       "      <th>26</th>\n",
       "      <td>28</td>\n",
       "      <td>1</td>\n",
       "      <td>NaN</td>\n",
       "      <td>NaN</td>\n",
       "      <td>NaN</td>\n",
       "      <td>NaN</td>\n",
       "      <td>6.0</td>\n",
       "      <td>NaN</td>\n",
       "      <td>1.0</td>\n",
       "      <td>NaN</td>\n",
       "      <td>...</td>\n",
       "      <td>0</td>\n",
       "      <td>0</td>\n",
       "      <td>0</td>\n",
       "      <td>3407.794208</td>\n",
       "      <td>3808.343516</td>\n",
       "      <td>6949.846082</td>\n",
       "      <td>2</td>\n",
       "      <td>57</td>\n",
       "      <td>NaN</td>\n",
       "      <td>8.1250</td>\n",
       "    </tr>\n",
       "    <tr>\n",
       "      <th>27</th>\n",
       "      <td>31</td>\n",
       "      <td>1</td>\n",
       "      <td>NaN</td>\n",
       "      <td>NaN</td>\n",
       "      <td>NaN</td>\n",
       "      <td>NaN</td>\n",
       "      <td>6.0</td>\n",
       "      <td>NaN</td>\n",
       "      <td>1.0</td>\n",
       "      <td>NaN</td>\n",
       "      <td>...</td>\n",
       "      <td>0</td>\n",
       "      <td>0</td>\n",
       "      <td>0</td>\n",
       "      <td>3405.679025</td>\n",
       "      <td>4272.084519</td>\n",
       "      <td>5211.943113</td>\n",
       "      <td>1</td>\n",
       "      <td>2</td>\n",
       "      <td>NaN</td>\n",
       "      <td>7.1250</td>\n",
       "    </tr>\n",
       "    <tr>\n",
       "      <th>28</th>\n",
       "      <td>31</td>\n",
       "      <td>2</td>\n",
       "      <td>NaN</td>\n",
       "      <td>NaN</td>\n",
       "      <td>NaN</td>\n",
       "      <td>NaN</td>\n",
       "      <td>6.0</td>\n",
       "      <td>NaN</td>\n",
       "      <td>1.0</td>\n",
       "      <td>NaN</td>\n",
       "      <td>...</td>\n",
       "      <td>0</td>\n",
       "      <td>0</td>\n",
       "      <td>0</td>\n",
       "      <td>3405.679025</td>\n",
       "      <td>4272.084519</td>\n",
       "      <td>5211.943113</td>\n",
       "      <td>1</td>\n",
       "      <td>2</td>\n",
       "      <td>NaN</td>\n",
       "      <td>6.0625</td>\n",
       "    </tr>\n",
       "    <tr>\n",
       "      <th>29</th>\n",
       "      <td>31</td>\n",
       "      <td>3</td>\n",
       "      <td>NaN</td>\n",
       "      <td>NaN</td>\n",
       "      <td>NaN</td>\n",
       "      <td>NaN</td>\n",
       "      <td>6.0</td>\n",
       "      <td>NaN</td>\n",
       "      <td>1.0</td>\n",
       "      <td>NaN</td>\n",
       "      <td>...</td>\n",
       "      <td>0</td>\n",
       "      <td>0</td>\n",
       "      <td>0</td>\n",
       "      <td>3405.679025</td>\n",
       "      <td>4272.084519</td>\n",
       "      <td>5211.943113</td>\n",
       "      <td>1</td>\n",
       "      <td>2</td>\n",
       "      <td>NaN</td>\n",
       "      <td>7.4375</td>\n",
       "    </tr>\n",
       "    <tr>\n",
       "      <th>...</th>\n",
       "      <td>...</td>\n",
       "      <td>...</td>\n",
       "      <td>...</td>\n",
       "      <td>...</td>\n",
       "      <td>...</td>\n",
       "      <td>...</td>\n",
       "      <td>...</td>\n",
       "      <td>...</td>\n",
       "      <td>...</td>\n",
       "      <td>...</td>\n",
       "      <td>...</td>\n",
       "      <td>...</td>\n",
       "      <td>...</td>\n",
       "      <td>...</td>\n",
       "      <td>...</td>\n",
       "      <td>...</td>\n",
       "      <td>...</td>\n",
       "      <td>...</td>\n",
       "      <td>...</td>\n",
       "      <td>...</td>\n",
       "      <td>...</td>\n",
       "    </tr>\n",
       "    <tr>\n",
       "      <th>13563</th>\n",
       "      <td>12547</td>\n",
       "      <td>2</td>\n",
       "      <td>NaN</td>\n",
       "      <td>NaN</td>\n",
       "      <td>NaN</td>\n",
       "      <td>NaN</td>\n",
       "      <td>6.0</td>\n",
       "      <td>NaN</td>\n",
       "      <td>1.0</td>\n",
       "      <td>NaN</td>\n",
       "      <td>...</td>\n",
       "      <td>0</td>\n",
       "      <td>0</td>\n",
       "      <td>0</td>\n",
       "      <td>3453.545517</td>\n",
       "      <td>6628.022524</td>\n",
       "      <td>11499.619080</td>\n",
       "      <td>1</td>\n",
       "      <td>52</td>\n",
       "      <td>NaN</td>\n",
       "      <td>7.6875</td>\n",
       "    </tr>\n",
       "    <tr>\n",
       "      <th>13564</th>\n",
       "      <td>12547</td>\n",
       "      <td>3</td>\n",
       "      <td>NaN</td>\n",
       "      <td>NaN</td>\n",
       "      <td>NaN</td>\n",
       "      <td>NaN</td>\n",
       "      <td>6.0</td>\n",
       "      <td>NaN</td>\n",
       "      <td>1.0</td>\n",
       "      <td>NaN</td>\n",
       "      <td>...</td>\n",
       "      <td>0</td>\n",
       "      <td>0</td>\n",
       "      <td>0</td>\n",
       "      <td>3453.545517</td>\n",
       "      <td>6628.022524</td>\n",
       "      <td>11499.619080</td>\n",
       "      <td>1</td>\n",
       "      <td>52</td>\n",
       "      <td>NaN</td>\n",
       "      <td>7.6250</td>\n",
       "    </tr>\n",
       "    <tr>\n",
       "      <th>13565</th>\n",
       "      <td>12550</td>\n",
       "      <td>1</td>\n",
       "      <td>NaN</td>\n",
       "      <td>NaN</td>\n",
       "      <td>NaN</td>\n",
       "      <td>NaN</td>\n",
       "      <td>6.0</td>\n",
       "      <td>NaN</td>\n",
       "      <td>1.0</td>\n",
       "      <td>NaN</td>\n",
       "      <td>...</td>\n",
       "      <td>0</td>\n",
       "      <td>0</td>\n",
       "      <td>0</td>\n",
       "      <td>3080.452699</td>\n",
       "      <td>3745.326058</td>\n",
       "      <td>5268.550165</td>\n",
       "      <td>1</td>\n",
       "      <td>79</td>\n",
       "      <td>NaN</td>\n",
       "      <td>8.1250</td>\n",
       "    </tr>\n",
       "    <tr>\n",
       "      <th>13566</th>\n",
       "      <td>12551</td>\n",
       "      <td>1</td>\n",
       "      <td>NaN</td>\n",
       "      <td>NaN</td>\n",
       "      <td>NaN</td>\n",
       "      <td>NaN</td>\n",
       "      <td>5.0</td>\n",
       "      <td>NaN</td>\n",
       "      <td>1.0</td>\n",
       "      <td>NaN</td>\n",
       "      <td>...</td>\n",
       "      <td>0</td>\n",
       "      <td>0</td>\n",
       "      <td>0</td>\n",
       "      <td>2418.538866</td>\n",
       "      <td>3653.453268</td>\n",
       "      <td>3951.940400</td>\n",
       "      <td>2</td>\n",
       "      <td>75</td>\n",
       "      <td>NaN</td>\n",
       "      <td>7.5000</td>\n",
       "    </tr>\n",
       "    <tr>\n",
       "      <th>13567</th>\n",
       "      <td>12554</td>\n",
       "      <td>1</td>\n",
       "      <td>NaN</td>\n",
       "      <td>NaN</td>\n",
       "      <td>NaN</td>\n",
       "      <td>NaN</td>\n",
       "      <td>3.0</td>\n",
       "      <td>NaN</td>\n",
       "      <td>NaN</td>\n",
       "      <td>NaN</td>\n",
       "      <td>...</td>\n",
       "      <td>0</td>\n",
       "      <td>0</td>\n",
       "      <td>0</td>\n",
       "      <td>1914.676604</td>\n",
       "      <td>2177.957240</td>\n",
       "      <td>2764.045534</td>\n",
       "      <td>2</td>\n",
       "      <td>75</td>\n",
       "      <td>NaN</td>\n",
       "      <td>NaN</td>\n",
       "    </tr>\n",
       "    <tr>\n",
       "      <th>13568</th>\n",
       "      <td>12554</td>\n",
       "      <td>2</td>\n",
       "      <td>NaN</td>\n",
       "      <td>NaN</td>\n",
       "      <td>NaN</td>\n",
       "      <td>NaN</td>\n",
       "      <td>4.0</td>\n",
       "      <td>NaN</td>\n",
       "      <td>NaN</td>\n",
       "      <td>NaN</td>\n",
       "      <td>...</td>\n",
       "      <td>0</td>\n",
       "      <td>0</td>\n",
       "      <td>0</td>\n",
       "      <td>1914.676604</td>\n",
       "      <td>2177.957240</td>\n",
       "      <td>2764.045534</td>\n",
       "      <td>2</td>\n",
       "      <td>75</td>\n",
       "      <td>NaN</td>\n",
       "      <td>NaN</td>\n",
       "    </tr>\n",
       "    <tr>\n",
       "      <th>13569</th>\n",
       "      <td>12556</td>\n",
       "      <td>1</td>\n",
       "      <td>NaN</td>\n",
       "      <td>NaN</td>\n",
       "      <td>NaN</td>\n",
       "      <td>NaN</td>\n",
       "      <td>6.0</td>\n",
       "      <td>NaN</td>\n",
       "      <td>1.0</td>\n",
       "      <td>NaN</td>\n",
       "      <td>...</td>\n",
       "      <td>0</td>\n",
       "      <td>0</td>\n",
       "      <td>0</td>\n",
       "      <td>2474.619764</td>\n",
       "      <td>3250.573384</td>\n",
       "      <td>3965.699528</td>\n",
       "      <td>1</td>\n",
       "      <td>44</td>\n",
       "      <td>NaN</td>\n",
       "      <td>5.8125</td>\n",
       "    </tr>\n",
       "    <tr>\n",
       "      <th>13570</th>\n",
       "      <td>12556</td>\n",
       "      <td>2</td>\n",
       "      <td>NaN</td>\n",
       "      <td>NaN</td>\n",
       "      <td>NaN</td>\n",
       "      <td>NaN</td>\n",
       "      <td>6.0</td>\n",
       "      <td>NaN</td>\n",
       "      <td>1.0</td>\n",
       "      <td>NaN</td>\n",
       "      <td>...</td>\n",
       "      <td>0</td>\n",
       "      <td>0</td>\n",
       "      <td>0</td>\n",
       "      <td>2474.619764</td>\n",
       "      <td>3250.573384</td>\n",
       "      <td>3965.699528</td>\n",
       "      <td>1</td>\n",
       "      <td>44</td>\n",
       "      <td>NaN</td>\n",
       "      <td>6.6875</td>\n",
       "    </tr>\n",
       "    <tr>\n",
       "      <th>13571</th>\n",
       "      <td>12556</td>\n",
       "      <td>3</td>\n",
       "      <td>NaN</td>\n",
       "      <td>NaN</td>\n",
       "      <td>NaN</td>\n",
       "      <td>NaN</td>\n",
       "      <td>6.0</td>\n",
       "      <td>NaN</td>\n",
       "      <td>1.0</td>\n",
       "      <td>NaN</td>\n",
       "      <td>...</td>\n",
       "      <td>0</td>\n",
       "      <td>0</td>\n",
       "      <td>0</td>\n",
       "      <td>2474.619764</td>\n",
       "      <td>3250.573384</td>\n",
       "      <td>3965.699528</td>\n",
       "      <td>1</td>\n",
       "      <td>44</td>\n",
       "      <td>NaN</td>\n",
       "      <td>6.0000</td>\n",
       "    </tr>\n",
       "    <tr>\n",
       "      <th>13572</th>\n",
       "      <td>12556</td>\n",
       "      <td>4</td>\n",
       "      <td>NaN</td>\n",
       "      <td>NaN</td>\n",
       "      <td>NaN</td>\n",
       "      <td>NaN</td>\n",
       "      <td>6.0</td>\n",
       "      <td>NaN</td>\n",
       "      <td>1.0</td>\n",
       "      <td>NaN</td>\n",
       "      <td>...</td>\n",
       "      <td>0</td>\n",
       "      <td>0</td>\n",
       "      <td>0</td>\n",
       "      <td>2474.619764</td>\n",
       "      <td>3250.573384</td>\n",
       "      <td>3965.699528</td>\n",
       "      <td>1</td>\n",
       "      <td>44</td>\n",
       "      <td>NaN</td>\n",
       "      <td>5.8125</td>\n",
       "    </tr>\n",
       "    <tr>\n",
       "      <th>13573</th>\n",
       "      <td>12561</td>\n",
       "      <td>1</td>\n",
       "      <td>NaN</td>\n",
       "      <td>NaN</td>\n",
       "      <td>NaN</td>\n",
       "      <td>NaN</td>\n",
       "      <td>6.0</td>\n",
       "      <td>NaN</td>\n",
       "      <td>1.0</td>\n",
       "      <td>NaN</td>\n",
       "      <td>...</td>\n",
       "      <td>0</td>\n",
       "      <td>0</td>\n",
       "      <td>0</td>\n",
       "      <td>2418.089703</td>\n",
       "      <td>2698.650781</td>\n",
       "      <td>4497.301527</td>\n",
       "      <td>1</td>\n",
       "      <td>10</td>\n",
       "      <td>NaN</td>\n",
       "      <td>6.5625</td>\n",
       "    </tr>\n",
       "    <tr>\n",
       "      <th>13574</th>\n",
       "      <td>12561</td>\n",
       "      <td>2</td>\n",
       "      <td>NaN</td>\n",
       "      <td>NaN</td>\n",
       "      <td>NaN</td>\n",
       "      <td>NaN</td>\n",
       "      <td>6.0</td>\n",
       "      <td>NaN</td>\n",
       "      <td>1.0</td>\n",
       "      <td>NaN</td>\n",
       "      <td>...</td>\n",
       "      <td>0</td>\n",
       "      <td>0</td>\n",
       "      <td>0</td>\n",
       "      <td>2418.089703</td>\n",
       "      <td>2698.650781</td>\n",
       "      <td>4497.301527</td>\n",
       "      <td>1</td>\n",
       "      <td>10</td>\n",
       "      <td>NaN</td>\n",
       "      <td>6.1250</td>\n",
       "    </tr>\n",
       "    <tr>\n",
       "      <th>13575</th>\n",
       "      <td>12564</td>\n",
       "      <td>1</td>\n",
       "      <td>NaN</td>\n",
       "      <td>NaN</td>\n",
       "      <td>NaN</td>\n",
       "      <td>NaN</td>\n",
       "      <td>3.0</td>\n",
       "      <td>NaN</td>\n",
       "      <td>NaN</td>\n",
       "      <td>NaN</td>\n",
       "      <td>...</td>\n",
       "      <td>0</td>\n",
       "      <td>0</td>\n",
       "      <td>0</td>\n",
       "      <td>1820.850938</td>\n",
       "      <td>2129.214067</td>\n",
       "      <td>2768.191208</td>\n",
       "      <td>2</td>\n",
       "      <td>44</td>\n",
       "      <td>NaN</td>\n",
       "      <td>NaN</td>\n",
       "    </tr>\n",
       "    <tr>\n",
       "      <th>13576</th>\n",
       "      <td>12565</td>\n",
       "      <td>1</td>\n",
       "      <td>NaN</td>\n",
       "      <td>NaN</td>\n",
       "      <td>NaN</td>\n",
       "      <td>NaN</td>\n",
       "      <td>6.0</td>\n",
       "      <td>NaN</td>\n",
       "      <td>1.0</td>\n",
       "      <td>NaN</td>\n",
       "      <td>...</td>\n",
       "      <td>0</td>\n",
       "      <td>0</td>\n",
       "      <td>0</td>\n",
       "      <td>3195.641221</td>\n",
       "      <td>3834.241709</td>\n",
       "      <td>6652.409365</td>\n",
       "      <td>1</td>\n",
       "      <td>78</td>\n",
       "      <td>NaN</td>\n",
       "      <td>6.4375</td>\n",
       "    </tr>\n",
       "    <tr>\n",
       "      <th>13577</th>\n",
       "      <td>12565</td>\n",
       "      <td>2</td>\n",
       "      <td>35.0</td>\n",
       "      <td>1.0</td>\n",
       "      <td>8.0</td>\n",
       "      <td>NaN</td>\n",
       "      <td>NaN</td>\n",
       "      <td>NaN</td>\n",
       "      <td>NaN</td>\n",
       "      <td>NaN</td>\n",
       "      <td>...</td>\n",
       "      <td>0</td>\n",
       "      <td>0</td>\n",
       "      <td>0</td>\n",
       "      <td>3195.641221</td>\n",
       "      <td>3834.241709</td>\n",
       "      <td>6652.409365</td>\n",
       "      <td>1</td>\n",
       "      <td>78</td>\n",
       "      <td>NaN</td>\n",
       "      <td>NaN</td>\n",
       "    </tr>\n",
       "    <tr>\n",
       "      <th>13578</th>\n",
       "      <td>12566</td>\n",
       "      <td>1</td>\n",
       "      <td>NaN</td>\n",
       "      <td>NaN</td>\n",
       "      <td>NaN</td>\n",
       "      <td>NaN</td>\n",
       "      <td>6.0</td>\n",
       "      <td>NaN</td>\n",
       "      <td>1.0</td>\n",
       "      <td>NaN</td>\n",
       "      <td>...</td>\n",
       "      <td>0</td>\n",
       "      <td>0</td>\n",
       "      <td>0</td>\n",
       "      <td>2080.317155</td>\n",
       "      <td>2422.820274</td>\n",
       "      <td>2627.548587</td>\n",
       "      <td>2</td>\n",
       "      <td>2</td>\n",
       "      <td>NaN</td>\n",
       "      <td>6.0000</td>\n",
       "    </tr>\n",
       "    <tr>\n",
       "      <th>13579</th>\n",
       "      <td>12566</td>\n",
       "      <td>2</td>\n",
       "      <td>NaN</td>\n",
       "      <td>NaN</td>\n",
       "      <td>NaN</td>\n",
       "      <td>NaN</td>\n",
       "      <td>6.0</td>\n",
       "      <td>NaN</td>\n",
       "      <td>1.0</td>\n",
       "      <td>NaN</td>\n",
       "      <td>...</td>\n",
       "      <td>0</td>\n",
       "      <td>0</td>\n",
       "      <td>0</td>\n",
       "      <td>2080.317155</td>\n",
       "      <td>2422.820274</td>\n",
       "      <td>2627.548587</td>\n",
       "      <td>2</td>\n",
       "      <td>2</td>\n",
       "      <td>NaN</td>\n",
       "      <td>7.0000</td>\n",
       "    </tr>\n",
       "    <tr>\n",
       "      <th>13580</th>\n",
       "      <td>12568</td>\n",
       "      <td>1</td>\n",
       "      <td>NaN</td>\n",
       "      <td>NaN</td>\n",
       "      <td>NaN</td>\n",
       "      <td>NaN</td>\n",
       "      <td>1.0</td>\n",
       "      <td>NaN</td>\n",
       "      <td>NaN</td>\n",
       "      <td>NaN</td>\n",
       "      <td>...</td>\n",
       "      <td>0</td>\n",
       "      <td>0</td>\n",
       "      <td>0</td>\n",
       "      <td>2734.687353</td>\n",
       "      <td>4258.980140</td>\n",
       "      <td>7772.212858</td>\n",
       "      <td>2</td>\n",
       "      <td>28</td>\n",
       "      <td>NaN</td>\n",
       "      <td>NaN</td>\n",
       "    </tr>\n",
       "    <tr>\n",
       "      <th>13581</th>\n",
       "      <td>12568</td>\n",
       "      <td>2</td>\n",
       "      <td>NaN</td>\n",
       "      <td>NaN</td>\n",
       "      <td>NaN</td>\n",
       "      <td>NaN</td>\n",
       "      <td>5.0</td>\n",
       "      <td>NaN</td>\n",
       "      <td>1.0</td>\n",
       "      <td>NaN</td>\n",
       "      <td>...</td>\n",
       "      <td>0</td>\n",
       "      <td>0</td>\n",
       "      <td>0</td>\n",
       "      <td>2734.687353</td>\n",
       "      <td>4258.980140</td>\n",
       "      <td>7772.212858</td>\n",
       "      <td>2</td>\n",
       "      <td>28</td>\n",
       "      <td>NaN</td>\n",
       "      <td>6.3750</td>\n",
       "    </tr>\n",
       "    <tr>\n",
       "      <th>13582</th>\n",
       "      <td>12568</td>\n",
       "      <td>3</td>\n",
       "      <td>NaN</td>\n",
       "      <td>NaN</td>\n",
       "      <td>NaN</td>\n",
       "      <td>NaN</td>\n",
       "      <td>4.0</td>\n",
       "      <td>NaN</td>\n",
       "      <td>NaN</td>\n",
       "      <td>NaN</td>\n",
       "      <td>...</td>\n",
       "      <td>0</td>\n",
       "      <td>0</td>\n",
       "      <td>0</td>\n",
       "      <td>2734.687353</td>\n",
       "      <td>4258.980140</td>\n",
       "      <td>7772.212858</td>\n",
       "      <td>2</td>\n",
       "      <td>28</td>\n",
       "      <td>NaN</td>\n",
       "      <td>NaN</td>\n",
       "    </tr>\n",
       "    <tr>\n",
       "      <th>13583</th>\n",
       "      <td>12569</td>\n",
       "      <td>1</td>\n",
       "      <td>NaN</td>\n",
       "      <td>NaN</td>\n",
       "      <td>NaN</td>\n",
       "      <td>NaN</td>\n",
       "      <td>3.0</td>\n",
       "      <td>NaN</td>\n",
       "      <td>NaN</td>\n",
       "      <td>NaN</td>\n",
       "      <td>...</td>\n",
       "      <td>0</td>\n",
       "      <td>0</td>\n",
       "      <td>0</td>\n",
       "      <td>2580.967613</td>\n",
       "      <td>2925.167116</td>\n",
       "      <td>5075.164946</td>\n",
       "      <td>2</td>\n",
       "      <td>61</td>\n",
       "      <td>NaN</td>\n",
       "      <td>NaN</td>\n",
       "    </tr>\n",
       "    <tr>\n",
       "      <th>13584</th>\n",
       "      <td>12569</td>\n",
       "      <td>2</td>\n",
       "      <td>NaN</td>\n",
       "      <td>NaN</td>\n",
       "      <td>NaN</td>\n",
       "      <td>NaN</td>\n",
       "      <td>6.0</td>\n",
       "      <td>NaN</td>\n",
       "      <td>1.0</td>\n",
       "      <td>NaN</td>\n",
       "      <td>...</td>\n",
       "      <td>0</td>\n",
       "      <td>0</td>\n",
       "      <td>0</td>\n",
       "      <td>2580.967613</td>\n",
       "      <td>2925.167116</td>\n",
       "      <td>5075.164946</td>\n",
       "      <td>2</td>\n",
       "      <td>61</td>\n",
       "      <td>NaN</td>\n",
       "      <td>6.3750</td>\n",
       "    </tr>\n",
       "    <tr>\n",
       "      <th>13585</th>\n",
       "      <td>12570</td>\n",
       "      <td>1</td>\n",
       "      <td>NaN</td>\n",
       "      <td>NaN</td>\n",
       "      <td>NaN</td>\n",
       "      <td>NaN</td>\n",
       "      <td>3.0</td>\n",
       "      <td>NaN</td>\n",
       "      <td>NaN</td>\n",
       "      <td>NaN</td>\n",
       "      <td>...</td>\n",
       "      <td>0</td>\n",
       "      <td>0</td>\n",
       "      <td>0</td>\n",
       "      <td>5181.311509</td>\n",
       "      <td>6205.829154</td>\n",
       "      <td>11325.017623</td>\n",
       "      <td>2</td>\n",
       "      <td>40</td>\n",
       "      <td>NaN</td>\n",
       "      <td>NaN</td>\n",
       "    </tr>\n",
       "    <tr>\n",
       "      <th>13586</th>\n",
       "      <td>12570</td>\n",
       "      <td>2</td>\n",
       "      <td>NaN</td>\n",
       "      <td>NaN</td>\n",
       "      <td>NaN</td>\n",
       "      <td>NaN</td>\n",
       "      <td>3.0</td>\n",
       "      <td>NaN</td>\n",
       "      <td>NaN</td>\n",
       "      <td>NaN</td>\n",
       "      <td>...</td>\n",
       "      <td>0</td>\n",
       "      <td>0</td>\n",
       "      <td>0</td>\n",
       "      <td>5181.311509</td>\n",
       "      <td>6205.829154</td>\n",
       "      <td>11325.017623</td>\n",
       "      <td>2</td>\n",
       "      <td>40</td>\n",
       "      <td>NaN</td>\n",
       "      <td>NaN</td>\n",
       "    </tr>\n",
       "    <tr>\n",
       "      <th>13587</th>\n",
       "      <td>12570</td>\n",
       "      <td>3</td>\n",
       "      <td>NaN</td>\n",
       "      <td>NaN</td>\n",
       "      <td>NaN</td>\n",
       "      <td>NaN</td>\n",
       "      <td>3.0</td>\n",
       "      <td>NaN</td>\n",
       "      <td>NaN</td>\n",
       "      <td>NaN</td>\n",
       "      <td>...</td>\n",
       "      <td>0</td>\n",
       "      <td>0</td>\n",
       "      <td>0</td>\n",
       "      <td>5181.311509</td>\n",
       "      <td>6205.829154</td>\n",
       "      <td>11325.017623</td>\n",
       "      <td>2</td>\n",
       "      <td>40</td>\n",
       "      <td>NaN</td>\n",
       "      <td>NaN</td>\n",
       "    </tr>\n",
       "    <tr>\n",
       "      <th>13588</th>\n",
       "      <td>12571</td>\n",
       "      <td>1</td>\n",
       "      <td>NaN</td>\n",
       "      <td>NaN</td>\n",
       "      <td>NaN</td>\n",
       "      <td>NaN</td>\n",
       "      <td>6.0</td>\n",
       "      <td>NaN</td>\n",
       "      <td>1.0</td>\n",
       "      <td>NaN</td>\n",
       "      <td>...</td>\n",
       "      <td>0</td>\n",
       "      <td>0</td>\n",
       "      <td>0</td>\n",
       "      <td>4670.540953</td>\n",
       "      <td>5795.692880</td>\n",
       "      <td>6269.200989</td>\n",
       "      <td>1</td>\n",
       "      <td>78</td>\n",
       "      <td>NaN</td>\n",
       "      <td>6.1875</td>\n",
       "    </tr>\n",
       "    <tr>\n",
       "      <th>13589</th>\n",
       "      <td>12571</td>\n",
       "      <td>2</td>\n",
       "      <td>NaN</td>\n",
       "      <td>NaN</td>\n",
       "      <td>NaN</td>\n",
       "      <td>NaN</td>\n",
       "      <td>3.0</td>\n",
       "      <td>NaN</td>\n",
       "      <td>NaN</td>\n",
       "      <td>NaN</td>\n",
       "      <td>...</td>\n",
       "      <td>0</td>\n",
       "      <td>0</td>\n",
       "      <td>0</td>\n",
       "      <td>4670.540953</td>\n",
       "      <td>5795.692880</td>\n",
       "      <td>6269.200989</td>\n",
       "      <td>1</td>\n",
       "      <td>78</td>\n",
       "      <td>NaN</td>\n",
       "      <td>NaN</td>\n",
       "    </tr>\n",
       "    <tr>\n",
       "      <th>13590</th>\n",
       "      <td>12571</td>\n",
       "      <td>3</td>\n",
       "      <td>NaN</td>\n",
       "      <td>NaN</td>\n",
       "      <td>NaN</td>\n",
       "      <td>NaN</td>\n",
       "      <td>3.0</td>\n",
       "      <td>NaN</td>\n",
       "      <td>NaN</td>\n",
       "      <td>NaN</td>\n",
       "      <td>...</td>\n",
       "      <td>0</td>\n",
       "      <td>0</td>\n",
       "      <td>0</td>\n",
       "      <td>4670.540953</td>\n",
       "      <td>5795.692880</td>\n",
       "      <td>6269.200989</td>\n",
       "      <td>1</td>\n",
       "      <td>78</td>\n",
       "      <td>NaN</td>\n",
       "      <td>NaN</td>\n",
       "    </tr>\n",
       "    <tr>\n",
       "      <th>13591</th>\n",
       "      <td>12571</td>\n",
       "      <td>4</td>\n",
       "      <td>NaN</td>\n",
       "      <td>NaN</td>\n",
       "      <td>NaN</td>\n",
       "      <td>NaN</td>\n",
       "      <td>6.0</td>\n",
       "      <td>NaN</td>\n",
       "      <td>1.0</td>\n",
       "      <td>NaN</td>\n",
       "      <td>...</td>\n",
       "      <td>0</td>\n",
       "      <td>0</td>\n",
       "      <td>0</td>\n",
       "      <td>4670.540953</td>\n",
       "      <td>5795.692880</td>\n",
       "      <td>6269.200989</td>\n",
       "      <td>1</td>\n",
       "      <td>78</td>\n",
       "      <td>NaN</td>\n",
       "      <td>7.5000</td>\n",
       "    </tr>\n",
       "    <tr>\n",
       "      <th>13592</th>\n",
       "      <td>12571</td>\n",
       "      <td>5</td>\n",
       "      <td>NaN</td>\n",
       "      <td>NaN</td>\n",
       "      <td>NaN</td>\n",
       "      <td>NaN</td>\n",
       "      <td>6.0</td>\n",
       "      <td>NaN</td>\n",
       "      <td>1.0</td>\n",
       "      <td>NaN</td>\n",
       "      <td>...</td>\n",
       "      <td>0</td>\n",
       "      <td>0</td>\n",
       "      <td>0</td>\n",
       "      <td>4670.540953</td>\n",
       "      <td>5795.692880</td>\n",
       "      <td>6269.200989</td>\n",
       "      <td>1</td>\n",
       "      <td>78</td>\n",
       "      <td>NaN</td>\n",
       "      <td>7.5000</td>\n",
       "    </tr>\n",
       "  </tbody>\n",
       "</table>\n",
       "<p>13593 rows × 244 columns</p>\n",
       "</div>"
      ],
      "text/plain": [
       "       caseid  pregordr  howpreg_n  howpreg_p  moscurrp  nowprgdk  pregend1  \\\n",
       "0           1         1        NaN        NaN       NaN       NaN       6.0   \n",
       "1           1         2        NaN        NaN       NaN       NaN       6.0   \n",
       "2           2         1        NaN        NaN       NaN       NaN       5.0   \n",
       "3           2         2        NaN        NaN       NaN       NaN       6.0   \n",
       "4           2         3        NaN        NaN       NaN       NaN       6.0   \n",
       "5           6         1        NaN        NaN       NaN       NaN       6.0   \n",
       "6           6         2        NaN        NaN       NaN       NaN       6.0   \n",
       "7           6         3        NaN        NaN       NaN       NaN       6.0   \n",
       "8           7         1        NaN        NaN       NaN       NaN       5.0   \n",
       "9           7         2        NaN        NaN       NaN       NaN       5.0   \n",
       "10         12         1        NaN        NaN       NaN       NaN       5.0   \n",
       "11         14         1        NaN        NaN       NaN       NaN       6.0   \n",
       "12         14         2        NaN        NaN       NaN       NaN       6.0   \n",
       "13         14         3        NaN        NaN       NaN       NaN       3.0   \n",
       "14         15         1        NaN        NaN       NaN       NaN       1.0   \n",
       "15         15         2        NaN        NaN       NaN       NaN       6.0   \n",
       "16         15         3        NaN        NaN       NaN       NaN       6.0   \n",
       "17         18         1        NaN        NaN       NaN       NaN       5.0   \n",
       "18         18         2        NaN        NaN       NaN       NaN       1.0   \n",
       "19         21         1        NaN        NaN       NaN       NaN       6.0   \n",
       "20         21         2        NaN        NaN       NaN       NaN       6.0   \n",
       "21         23         1        NaN        NaN       NaN       NaN       6.0   \n",
       "22         23         2        NaN        NaN       NaN       NaN       1.0   \n",
       "23         24         1        NaN        NaN       NaN       NaN       6.0   \n",
       "24         24         2        NaN        NaN       NaN       NaN       6.0   \n",
       "25         24         3        NaN        NaN       NaN       NaN       6.0   \n",
       "26         28         1        NaN        NaN       NaN       NaN       6.0   \n",
       "27         31         1        NaN        NaN       NaN       NaN       6.0   \n",
       "28         31         2        NaN        NaN       NaN       NaN       6.0   \n",
       "29         31         3        NaN        NaN       NaN       NaN       6.0   \n",
       "...       ...       ...        ...        ...       ...       ...       ...   \n",
       "13563   12547         2        NaN        NaN       NaN       NaN       6.0   \n",
       "13564   12547         3        NaN        NaN       NaN       NaN       6.0   \n",
       "13565   12550         1        NaN        NaN       NaN       NaN       6.0   \n",
       "13566   12551         1        NaN        NaN       NaN       NaN       5.0   \n",
       "13567   12554         1        NaN        NaN       NaN       NaN       3.0   \n",
       "13568   12554         2        NaN        NaN       NaN       NaN       4.0   \n",
       "13569   12556         1        NaN        NaN       NaN       NaN       6.0   \n",
       "13570   12556         2        NaN        NaN       NaN       NaN       6.0   \n",
       "13571   12556         3        NaN        NaN       NaN       NaN       6.0   \n",
       "13572   12556         4        NaN        NaN       NaN       NaN       6.0   \n",
       "13573   12561         1        NaN        NaN       NaN       NaN       6.0   \n",
       "13574   12561         2        NaN        NaN       NaN       NaN       6.0   \n",
       "13575   12564         1        NaN        NaN       NaN       NaN       3.0   \n",
       "13576   12565         1        NaN        NaN       NaN       NaN       6.0   \n",
       "13577   12565         2       35.0        1.0       8.0       NaN       NaN   \n",
       "13578   12566         1        NaN        NaN       NaN       NaN       6.0   \n",
       "13579   12566         2        NaN        NaN       NaN       NaN       6.0   \n",
       "13580   12568         1        NaN        NaN       NaN       NaN       1.0   \n",
       "13581   12568         2        NaN        NaN       NaN       NaN       5.0   \n",
       "13582   12568         3        NaN        NaN       NaN       NaN       4.0   \n",
       "13583   12569         1        NaN        NaN       NaN       NaN       3.0   \n",
       "13584   12569         2        NaN        NaN       NaN       NaN       6.0   \n",
       "13585   12570         1        NaN        NaN       NaN       NaN       3.0   \n",
       "13586   12570         2        NaN        NaN       NaN       NaN       3.0   \n",
       "13587   12570         3        NaN        NaN       NaN       NaN       3.0   \n",
       "13588   12571         1        NaN        NaN       NaN       NaN       6.0   \n",
       "13589   12571         2        NaN        NaN       NaN       NaN       3.0   \n",
       "13590   12571         3        NaN        NaN       NaN       NaN       3.0   \n",
       "13591   12571         4        NaN        NaN       NaN       NaN       6.0   \n",
       "13592   12571         5        NaN        NaN       NaN       NaN       6.0   \n",
       "\n",
       "       pregend2  nbrnaliv  multbrth     ...       laborfor_i  religion_i  \\\n",
       "0           NaN       1.0       NaN     ...                0           0   \n",
       "1           NaN       1.0       NaN     ...                0           0   \n",
       "2           NaN       3.0       5.0     ...                0           0   \n",
       "3           NaN       1.0       NaN     ...                0           0   \n",
       "4           NaN       1.0       NaN     ...                0           0   \n",
       "5           NaN       1.0       NaN     ...                0           0   \n",
       "6           NaN       1.0       NaN     ...                0           0   \n",
       "7           NaN       1.0       NaN     ...                0           0   \n",
       "8           NaN       1.0       NaN     ...                0           0   \n",
       "9           NaN       1.0       NaN     ...                0           0   \n",
       "10          NaN       1.0       NaN     ...                0           0   \n",
       "11          NaN       1.0       NaN     ...                0           0   \n",
       "12          NaN       1.0       NaN     ...                0           0   \n",
       "13          NaN       NaN       NaN     ...                0           0   \n",
       "14          NaN       NaN       NaN     ...                0           0   \n",
       "15          NaN       1.0       NaN     ...                0           0   \n",
       "16          NaN       1.0       NaN     ...                0           0   \n",
       "17          NaN       1.0       NaN     ...                0           0   \n",
       "18          NaN       NaN       NaN     ...                0           0   \n",
       "19          NaN       1.0       NaN     ...                0           0   \n",
       "20          NaN       1.0       NaN     ...                0           0   \n",
       "21          NaN       1.0       NaN     ...                0           0   \n",
       "22          NaN       NaN       NaN     ...                0           0   \n",
       "23          NaN       1.0       NaN     ...                0           0   \n",
       "24          NaN       1.0       NaN     ...                0           0   \n",
       "25          NaN       1.0       NaN     ...                0           0   \n",
       "26          NaN       1.0       NaN     ...                0           0   \n",
       "27          NaN       1.0       NaN     ...                0           0   \n",
       "28          NaN       1.0       NaN     ...                0           0   \n",
       "29          NaN       1.0       NaN     ...                0           0   \n",
       "...         ...       ...       ...     ...              ...         ...   \n",
       "13563       NaN       1.0       NaN     ...                0           0   \n",
       "13564       NaN       1.0       NaN     ...                0           0   \n",
       "13565       NaN       1.0       NaN     ...                0           0   \n",
       "13566       NaN       1.0       NaN     ...                0           0   \n",
       "13567       NaN       NaN       NaN     ...                0           0   \n",
       "13568       NaN       NaN       NaN     ...                0           0   \n",
       "13569       NaN       1.0       NaN     ...                0           0   \n",
       "13570       NaN       1.0       NaN     ...                0           0   \n",
       "13571       NaN       1.0       NaN     ...                0           0   \n",
       "13572       NaN       1.0       NaN     ...                0           0   \n",
       "13573       NaN       1.0       NaN     ...                0           0   \n",
       "13574       NaN       1.0       NaN     ...                0           0   \n",
       "13575       NaN       NaN       NaN     ...                0           0   \n",
       "13576       NaN       1.0       NaN     ...                0           0   \n",
       "13577       NaN       NaN       NaN     ...                0           0   \n",
       "13578       NaN       1.0       NaN     ...                0           0   \n",
       "13579       NaN       1.0       NaN     ...                0           0   \n",
       "13580       NaN       NaN       NaN     ...                0           0   \n",
       "13581       NaN       1.0       NaN     ...                0           0   \n",
       "13582       NaN       NaN       NaN     ...                0           0   \n",
       "13583       NaN       NaN       NaN     ...                0           0   \n",
       "13584       NaN       1.0       NaN     ...                0           0   \n",
       "13585       NaN       NaN       NaN     ...                0           0   \n",
       "13586       NaN       NaN       NaN     ...                0           0   \n",
       "13587       NaN       NaN       NaN     ...                0           0   \n",
       "13588       NaN       1.0       NaN     ...                0           0   \n",
       "13589       NaN       NaN       NaN     ...                0           0   \n",
       "13590       NaN       NaN       NaN     ...                0           0   \n",
       "13591       NaN       1.0       NaN     ...                0           0   \n",
       "13592       NaN       1.0       NaN     ...                0           0   \n",
       "\n",
       "       metro_i      basewgt  adj_mod_basewgt      finalwgt  secu_p  sest  \\\n",
       "0            0  3410.389399      3869.349602   6448.271112       2     9   \n",
       "1            0  3410.389399      3869.349602   6448.271112       2     9   \n",
       "2            0  7226.301740      8567.549110  12999.542264       2    12   \n",
       "3            0  7226.301740      8567.549110  12999.542264       2    12   \n",
       "4            0  7226.301740      8567.549110  12999.542264       2    12   \n",
       "5            0  4870.926435      5325.196999   8874.440799       1    23   \n",
       "6            0  4870.926435      5325.196999   8874.440799       1    23   \n",
       "7            0  4870.926435      5325.196999   8874.440799       1    23   \n",
       "8            0  3409.579565      3787.539000   6911.879921       2    14   \n",
       "9            0  3409.579565      3787.539000   6911.879921       2    14   \n",
       "10           0  3612.781968      4146.013572   6909.331618       1    31   \n",
       "11           0  2418.069494      2810.302771   3039.904507       2    56   \n",
       "12           0  2418.069494      2810.302771   3039.904507       2    56   \n",
       "13           0  2418.069494      2810.302771   3039.904507       2    56   \n",
       "14           0  1667.816099      3200.862017   5553.495599       1    33   \n",
       "15           0  1667.816099      3200.862017   5553.495599       1    33   \n",
       "16           0  1667.816099      3200.862017   5553.495599       1    33   \n",
       "17           0  2957.257457      3404.403067   4153.371741       2    14   \n",
       "18           0  2957.257457      3404.403067   4153.371741       2    14   \n",
       "19           0  3408.342437      3965.763949   7237.122630       1    48   \n",
       "20           0  3408.342437      3965.763949   7237.122630       1    48   \n",
       "21           0  6210.373020      8120.841310  13533.382043       2    64   \n",
       "22           0  6210.373020      8120.841310  13533.382043       2    64   \n",
       "23           0  3409.573258      4068.628645   7424.840414       1    27   \n",
       "24           0  3409.573258      4068.628645   7424.840414       1    27   \n",
       "25           0  3409.573258      4068.628645   7424.840414       1    27   \n",
       "26           0  3407.794208      3808.343516   6949.846082       2    57   \n",
       "27           0  3405.679025      4272.084519   5211.943113       1     2   \n",
       "28           0  3405.679025      4272.084519   5211.943113       1     2   \n",
       "29           0  3405.679025      4272.084519   5211.943113       1     2   \n",
       "...        ...          ...              ...           ...     ...   ...   \n",
       "13563        0  3453.545517      6628.022524  11499.619080       1    52   \n",
       "13564        0  3453.545517      6628.022524  11499.619080       1    52   \n",
       "13565        0  3080.452699      3745.326058   5268.550165       1    79   \n",
       "13566        0  2418.538866      3653.453268   3951.940400       2    75   \n",
       "13567        0  1914.676604      2177.957240   2764.045534       2    75   \n",
       "13568        0  1914.676604      2177.957240   2764.045534       2    75   \n",
       "13569        0  2474.619764      3250.573384   3965.699528       1    44   \n",
       "13570        0  2474.619764      3250.573384   3965.699528       1    44   \n",
       "13571        0  2474.619764      3250.573384   3965.699528       1    44   \n",
       "13572        0  2474.619764      3250.573384   3965.699528       1    44   \n",
       "13573        0  2418.089703      2698.650781   4497.301527       1    10   \n",
       "13574        0  2418.089703      2698.650781   4497.301527       1    10   \n",
       "13575        0  1820.850938      2129.214067   2768.191208       2    44   \n",
       "13576        0  3195.641221      3834.241709   6652.409365       1    78   \n",
       "13577        0  3195.641221      3834.241709   6652.409365       1    78   \n",
       "13578        0  2080.317155      2422.820274   2627.548587       2     2   \n",
       "13579        0  2080.317155      2422.820274   2627.548587       2     2   \n",
       "13580        0  2734.687353      4258.980140   7772.212858       2    28   \n",
       "13581        0  2734.687353      4258.980140   7772.212858       2    28   \n",
       "13582        0  2734.687353      4258.980140   7772.212858       2    28   \n",
       "13583        0  2580.967613      2925.167116   5075.164946       2    61   \n",
       "13584        0  2580.967613      2925.167116   5075.164946       2    61   \n",
       "13585        0  5181.311509      6205.829154  11325.017623       2    40   \n",
       "13586        0  5181.311509      6205.829154  11325.017623       2    40   \n",
       "13587        0  5181.311509      6205.829154  11325.017623       2    40   \n",
       "13588        0  4670.540953      5795.692880   6269.200989       1    78   \n",
       "13589        0  4670.540953      5795.692880   6269.200989       1    78   \n",
       "13590        0  4670.540953      5795.692880   6269.200989       1    78   \n",
       "13591        0  4670.540953      5795.692880   6269.200989       1    78   \n",
       "13592        0  4670.540953      5795.692880   6269.200989       1    78   \n",
       "\n",
       "       cmintvw  totalwgt_lb  \n",
       "0          NaN       8.8125  \n",
       "1          NaN       7.8750  \n",
       "2          NaN       9.1250  \n",
       "3          NaN       7.0000  \n",
       "4          NaN       6.1875  \n",
       "5          NaN       8.5625  \n",
       "6          NaN       9.5625  \n",
       "7          NaN       8.3750  \n",
       "8          NaN       7.5625  \n",
       "9          NaN       6.6250  \n",
       "10         NaN       7.8125  \n",
       "11         NaN       7.0000  \n",
       "12         NaN       4.0000  \n",
       "13         NaN          NaN  \n",
       "14         NaN          NaN  \n",
       "15         NaN       7.6875  \n",
       "16         NaN       7.5000  \n",
       "17         NaN       6.3125  \n",
       "18         NaN          NaN  \n",
       "19         NaN       8.7500  \n",
       "20         NaN       8.1875  \n",
       "21         NaN       5.5625  \n",
       "22         NaN          NaN  \n",
       "23         NaN       6.7500  \n",
       "24         NaN       7.3750  \n",
       "25         NaN       6.8125  \n",
       "26         NaN       8.1250  \n",
       "27         NaN       7.1250  \n",
       "28         NaN       6.0625  \n",
       "29         NaN       7.4375  \n",
       "...        ...          ...  \n",
       "13563      NaN       7.6875  \n",
       "13564      NaN       7.6250  \n",
       "13565      NaN       8.1250  \n",
       "13566      NaN       7.5000  \n",
       "13567      NaN          NaN  \n",
       "13568      NaN          NaN  \n",
       "13569      NaN       5.8125  \n",
       "13570      NaN       6.6875  \n",
       "13571      NaN       6.0000  \n",
       "13572      NaN       5.8125  \n",
       "13573      NaN       6.5625  \n",
       "13574      NaN       6.1250  \n",
       "13575      NaN          NaN  \n",
       "13576      NaN       6.4375  \n",
       "13577      NaN          NaN  \n",
       "13578      NaN       6.0000  \n",
       "13579      NaN       7.0000  \n",
       "13580      NaN          NaN  \n",
       "13581      NaN       6.3750  \n",
       "13582      NaN          NaN  \n",
       "13583      NaN          NaN  \n",
       "13584      NaN       6.3750  \n",
       "13585      NaN          NaN  \n",
       "13586      NaN          NaN  \n",
       "13587      NaN          NaN  \n",
       "13588      NaN       6.1875  \n",
       "13589      NaN          NaN  \n",
       "13590      NaN          NaN  \n",
       "13591      NaN       7.5000  \n",
       "13592      NaN       7.5000  \n",
       "\n",
       "[13593 rows x 244 columns]"
      ]
     },
     "execution_count": 32,
     "metadata": {},
     "output_type": "execute_result"
    }
   ],
   "source": [
    "import nsfg\n",
    "df = nsfg.ReadFemPreg()\n",
    "df"
   ]
  },
  {
   "cell_type": "markdown",
   "metadata": {
    "slideshow": {
     "slide_type": "slide"
    }
   },
   "source": [
    "Print value counts for birthord and compare to results published in the codebook\n"
   ]
  },
  {
   "cell_type": "code",
   "execution_count": 33,
   "metadata": {
    "collapsed": false,
    "slideshow": {
     "slide_type": "fragment"
    }
   },
   "outputs": [
    {
     "data": {
      "text/html": [
       "\n",
       "        <iframe\n",
       "            width=\"700\"\n",
       "            height=\"350\"\n",
       "            src=\"http://www.icpsr.umich.edu/nsfg6/Controller?displayPage=labelDetails&fileCode=PREG&section=A&subSec=8016&srtLabel=611933\"\n",
       "            frameborder=\"0\"\n",
       "            allowfullscreen\n",
       "        ></iframe>\n",
       "        "
      ],
      "text/plain": [
       "<IPython.lib.display.IFrame at 0xab4a550>"
      ]
     },
     "execution_count": 33,
     "metadata": {},
     "output_type": "execute_result"
    }
   ],
   "source": [
    "IFrame(\"http://www.icpsr.umich.edu/nsfg6/Controller?displayPage=labelDetails&fileCode=PREG&section=A&subSec=8016&srtLabel=611933\",\n",
    "      width=700, height=350)"
   ]
  },
  {
   "cell_type": "code",
   "execution_count": 34,
   "metadata": {
    "collapsed": false,
    "slideshow": {
     "slide_type": "slide"
    }
   },
   "outputs": [
    {
     "data": {
      "text/plain": [
       "1.0     4413\n",
       "2.0     2874\n",
       "3.0     1234\n",
       "4.0      421\n",
       "5.0      126\n",
       "6.0       50\n",
       "7.0       20\n",
       "8.0        7\n",
       "9.0        2\n",
       "10.0       1\n",
       "Name: birthord, dtype: int64"
      ]
     },
     "execution_count": 34,
     "metadata": {},
     "output_type": "execute_result"
    }
   ],
   "source": [
    "df.birthord.value_counts().sort_index()"
   ]
  },
  {
   "cell_type": "markdown",
   "metadata": {
    "slideshow": {
     "slide_type": "slide"
    }
   },
   "source": [
    "Print value counts for <font color='green'><tt>prglngth</tt></font> and compare to results published in the [codebook](http://www.icpsr.umich.edu/nsfg6/Controller?displayPage=labelDetails&fileCode=PREG&section=A&subSec=8016&srtLabel=611931)"
   ]
  },
  {
   "cell_type": "code",
   "execution_count": 35,
   "metadata": {
    "collapsed": false,
    "slideshow": {
     "slide_type": "fragment"
    }
   },
   "outputs": [
    {
     "data": {
      "text/html": [
       "\n",
       "        <iframe\n",
       "            width=\"700\"\n",
       "            height=\"350\"\n",
       "            src=\"http://www.icpsr.umich.edu/nsfg6/Controller?displayPage=labelDetails&fileCode=PREG&section=A&subSec=8016&srtLabel=611931\"\n",
       "            frameborder=\"0\"\n",
       "            allowfullscreen\n",
       "        ></iframe>\n",
       "        "
      ],
      "text/plain": [
       "<IPython.lib.display.IFrame at 0xab7bfd0>"
      ]
     },
     "execution_count": 35,
     "metadata": {},
     "output_type": "execute_result"
    }
   ],
   "source": [
    "IFrame(\"http://www.icpsr.umich.edu/nsfg6/Controller?displayPage=labelDetails&fileCode=PREG&section=A&subSec=8016&srtLabel=611931\",\n",
    "      width=700,height=350)"
   ]
  },
  {
   "cell_type": "code",
   "execution_count": 36,
   "metadata": {
    "collapsed": false,
    "slideshow": {
     "slide_type": "slide"
    }
   },
   "outputs": [
    {
     "name": "stdout",
     "output_type": "stream",
     "text": [
      "0 - 13 weeks: 3522\n",
      "14 - 26 weeks: 793\n",
      "27 weeks or longer: 9278\n"
     ]
    }
   ],
   "source": [
    "filter1 = (df.prglngth >= 0) & (df.prglngth <= 13)\n",
    "filter2 = (df.prglngth >= 14) & (df.prglngth <= 26)\n",
    "filter3 = (df.prglngth >= 27) \n",
    "\n",
    "print(\"0 - 13 weeks: {}\".format(df.prglngth[filter1].value_counts().sum()))\n",
    "print(\"14 - 26 weeks: {}\".format(df.prglngth[filter2].value_counts().sum()))\n",
    "print(\"27 weeks or longer: {}\".format(df.prglngth[filter3].value_counts().sum()))"
   ]
  },
  {
   "cell_type": "markdown",
   "metadata": {
    "slideshow": {
     "slide_type": "slide"
    }
   },
   "source": [
    "Print value counts for <font color='green'><tt>agepreg</tt></font> and compare to results published in the codebook.\n",
    "Looking at this data, please remember my comments in the book about the obligation to approach data with consideration for the context and respect for the respondents."
   ]
  },
  {
   "cell_type": "code",
   "execution_count": 37,
   "metadata": {
    "collapsed": false,
    "slideshow": {
     "slide_type": "fragment"
    }
   },
   "outputs": [
    {
     "data": {
      "text/html": [
       "\n",
       "        <iframe\n",
       "            width=\"700\"\n",
       "            height=\"350\"\n",
       "            src=\"http://www.icpsr.umich.edu/nsfg6/Controller?displayPage=labelDetails&fileCode=PREG&section=A&subSec=8016&srtLabel=611935\"\n",
       "            frameborder=\"0\"\n",
       "            allowfullscreen\n",
       "        ></iframe>\n",
       "        "
      ],
      "text/plain": [
       "<IPython.lib.display.IFrame at 0xab7b780>"
      ]
     },
     "execution_count": 37,
     "metadata": {},
     "output_type": "execute_result"
    }
   ],
   "source": [
    "IFrame(\"http://www.icpsr.umich.edu/nsfg6/Controller?displayPage=labelDetails&fileCode=PREG&section=A&subSec=8016&srtLabel=611935\",\n",
    "      width=700, height=350)"
   ]
  },
  {
   "cell_type": "code",
   "execution_count": 38,
   "metadata": {
    "collapsed": false,
    "slideshow": {
     "slide_type": "slide"
    }
   },
   "outputs": [
    {
     "name": "stdout",
     "output_type": "stream",
     "text": [
      "UNDER 20 YEARS: 3182\n",
      "20 - 24 YEARS: 3528\n",
      "25 - 29 YEARS: 2697\n",
      "30 - 44 YEARS: 2634\n"
     ]
    }
   ],
   "source": [
    "filter1 = (df.agepreg >= 0) & (df.agepreg < 20) & (df.outcome != 6)\n",
    "filter2 = (df.agepreg >= 20) & (df.agepreg <= 24) & (df.outcome != 6)\n",
    "filter3 = (df.agepreg >= 25) & (df.agepreg <= 29) & (df.outcome != 6)\n",
    "filter4 = (df.agepreg >= 30) & (df.agepreg <= 44) & (df.outcome != 6)\n",
    "\n",
    "print(\"UNDER 20 YEARS: {}\".format(df.agepreg[filter1].value_counts().sum()))\n",
    "print(\"20 - 24 YEARS: {}\".format(df.agepreg[filter2].value_counts().sum()))\n",
    "print(\"25 - 29 YEARS: {}\".format(df.agepreg[filter3].value_counts().sum()))\n",
    "print(\"30 - 44 YEARS: {}\".format(df.agepreg[filter4].value_counts().sum()))"
   ]
  },
  {
   "cell_type": "markdown",
   "metadata": {
    "slideshow": {
     "slide_type": "fragment"
    }
   },
   "source": [
    "Now these results do not agree! I think it may have something to do with this code:\n",
    "\n",
    "```\n",
    "def CleanFemPreg(df):\n",
    "    \"\"\"Recodes variables from the pregnancy frame.\n",
    "\n",
    "    df: DataFrame\n",
    "    \"\"\"\n",
    "    # mother's age is encoded in centiyears; convert to years\n",
    "    df.agepreg /= 100.0\n",
    "```"
   ]
  },
  {
   "cell_type": "code",
   "execution_count": 39,
   "metadata": {
    "collapsed": false,
    "slideshow": {
     "slide_type": "slide"
    }
   },
   "outputs": [
    {
     "name": "stdout",
     "output_type": "stream",
     "text": [
      "13241\n",
      "13241\n",
      "(13593, 244)\n"
     ]
    }
   ],
   "source": [
    "print(df.agepreg[df.outcome != 6].value_counts().sum())\n",
    "print(df.agepreg.value_counts().sum())\n",
    "print(df.shape)"
   ]
  },
  {
   "cell_type": "code",
   "execution_count": 40,
   "metadata": {
    "collapsed": false,
    "slideshow": {
     "slide_type": "slide"
    }
   },
   "outputs": [
    {
     "data": {
      "image/png": "[encoded data removed]",
      "text/plain": [
       "<matplotlib.figure.Figure at 0xab7bb00>"
      ]
     },
     "metadata": {},
     "output_type": "display_data"
    }
   ],
   "source": [
    "df.agepreg.value_counts().sort_index().plot();"
   ]
  },
  {
   "cell_type": "markdown",
   "metadata": {
    "slideshow": {
     "slide_type": "slide"
    }
   },
   "source": [
    "Compute the mean birthweight."
   ]
  },
  {
   "cell_type": "code",
   "execution_count": 41,
   "metadata": {
    "collapsed": false,
    "slideshow": {
     "slide_type": "fragment"
    }
   },
   "outputs": [
    {
     "data": {
      "text/plain": [
       "7.265628457623368"
      ]
     },
     "execution_count": 41,
     "metadata": {},
     "output_type": "execute_result"
    }
   ],
   "source": [
    "df.totalwgt_lb.mean()"
   ]
  },
  {
   "cell_type": "markdown",
   "metadata": {
    "slideshow": {
     "slide_type": "slide"
    }
   },
   "source": [
    "Create a new column named totalwgt_kg that contains birth weight in kilograms. Compute its mean. Remember that when you create a new column, you have to use dictionary syntax, not dot notation"
   ]
  },
  {
   "cell_type": "code",
   "execution_count": 42,
   "metadata": {
    "collapsed": false,
    "slideshow": {
     "slide_type": "fragment"
    }
   },
   "outputs": [
    {
     "data": {
      "text/plain": [
       "3.2956309433503437"
      ]
     },
     "execution_count": 42,
     "metadata": {},
     "output_type": "execute_result"
    }
   ],
   "source": [
    "df['totalwgt_kg'] = (0.453592)*df.totalwgt_lb\n",
    "df.totalwgt_kg.mean()"
   ]
  },
  {
   "cell_type": "markdown",
   "metadata": {
    "slideshow": {
     "slide_type": "slide"
    }
   },
   "source": [
    "Use a boolean Series to select the records for the pregnancies that ended in live birth."
   ]
  },
  {
   "cell_type": "code",
   "execution_count": 43,
   "metadata": {
    "collapsed": false,
    "slideshow": {
     "slide_type": "fragment"
    }
   },
   "outputs": [
    {
     "data": {
      "text/plain": [
       "9148"
      ]
     },
     "execution_count": 43,
     "metadata": {},
     "output_type": "execute_result"
    }
   ],
   "source": [
    "live = df[df.outcome == 1]\n",
    "len(live)"
   ]
  },
  {
   "cell_type": "markdown",
   "metadata": {
    "slideshow": {
     "slide_type": "fragment"
    }
   },
   "source": [
    "Count the number of live births with birthwgt_lb between 0 and 5 pounds (including both). The result should be 1125."
   ]
  },
  {
   "cell_type": "code",
   "execution_count": 44,
   "metadata": {
    "collapsed": false,
    "slideshow": {
     "slide_type": "fragment"
    }
   },
   "outputs": [
    {
     "data": {
      "text/plain": [
       "1125"
      ]
     },
     "execution_count": 44,
     "metadata": {},
     "output_type": "execute_result"
    }
   ],
   "source": [
    "len(live[(live.birthwgt_lb >= 0) & (live.birthwgt_lb <= 5)])"
   ]
  },
  {
   "cell_type": "markdown",
   "metadata": {
    "slideshow": {
     "slide_type": "slide"
    }
   },
   "source": [
    "Count the number of live births with birthwgt_lb between 9 and 95 pounds (including both). The result should be 798"
   ]
  },
  {
   "cell_type": "code",
   "execution_count": 45,
   "metadata": {
    "collapsed": false,
    "slideshow": {
     "slide_type": "fragment"
    }
   },
   "outputs": [
    {
     "data": {
      "text/plain": [
       "(798, 245)"
      ]
     },
     "execution_count": 45,
     "metadata": {},
     "output_type": "execute_result"
    }
   ],
   "source": [
    "live[(live.birthwgt_lb <= 95) & \n",
    "    (live.birthwgt_lb >= 9)].shape"
   ]
  },
  {
   "cell_type": "markdown",
   "metadata": {
    "slideshow": {
     "slide_type": "slide"
    }
   },
   "source": [
    "Use ```birthord``` to select the records for first babies and others. How many are there of each?"
   ]
  },
  {
   "cell_type": "code",
   "execution_count": 46,
   "metadata": {
    "collapsed": false,
    "slideshow": {
     "slide_type": "fragment"
    }
   },
   "outputs": [
    {
     "data": {
      "text/plain": [
       "(4413, 4735)"
      ]
     },
     "execution_count": 46,
     "metadata": {},
     "output_type": "execute_result"
    }
   ],
   "source": [
    "firsts = df[df.birthord==1]\n",
    "others = df[df.birthord>1]\n",
    "len(firsts), len(others)"
   ]
  },
  {
   "cell_type": "markdown",
   "metadata": {
    "slideshow": {
     "slide_type": "fragment"
    }
   },
   "source": [
    "Compute the mean weight for first babies and others."
   ]
  },
  {
   "cell_type": "code",
   "execution_count": 47,
   "metadata": {
    "collapsed": false,
    "slideshow": {
     "slide_type": "fragment"
    }
   },
   "outputs": [
    {
     "name": "stdout",
     "output_type": "stream",
     "text": [
      "Mean weight for first babies: 7.201094430437772\n",
      "Mean weight for others babies: 7.325855614973262\n"
     ]
    }
   ],
   "source": [
    "print(\"Mean weight for first babies: {}\".format(firsts.totalwgt_lb.mean()))\n",
    "print(\"Mean weight for others babies: {}\".format(others.totalwgt_lb.mean()))"
   ]
  },
  {
   "cell_type": "markdown",
   "metadata": {
    "slideshow": {
     "slide_type": "slide"
    }
   },
   "source": [
    "Compute the mean prglngth for first babies and others. Compute the difference in means, expressed in hours."
   ]
  },
  {
   "cell_type": "code",
   "execution_count": 48,
   "metadata": {
    "collapsed": false,
    "slideshow": {
     "slide_type": "fragment"
    }
   },
   "outputs": [
    {
     "name": "stdout",
     "output_type": "stream",
     "text": [
      "Mean pregnancy length for first borns: 38.60095173351461\n",
      "Mean pregnancy length for others: 38.52291446673706\n",
      "Difference between mean first and others pregnancy lengths in hrs: 13.11026081862832\n"
     ]
    }
   ],
   "source": [
    "a = firsts.prglngth.mean()\n",
    "b = others.prglngth.mean()\n",
    "\n",
    "c = (a - b)*168.0\n",
    "\n",
    "print(\"Mean pregnancy length for first borns: {}\".format(a))\n",
    "print(\"Mean pregnancy length for others: {}\".format(b))\n",
    "print(\"Difference between mean first and others pregnancy lengths in hrs: {}\".format(c))"
   ]
  },
  {
   "cell_type": "code",
   "execution_count": 49,
   "metadata": {
    "collapsed": true,
    "slideshow": {
     "slide_type": "slide"
    }
   },
   "outputs": [],
   "source": [
    "def get_value(vals):\n",
    "    import random\n",
    "    pval = random.uniform(0,100)\n",
    "    #print(pval)\n",
    "    return np.percentile(vals,pval)\n",
    "\n",
    "\n",
    "def get_group(vals, numberofsubjects):\n",
    "    \"\"\"Returns a pandas series.\"\"\"\n",
    "    import random\n",
    "    a = list()\n",
    "    for i in range(numberofsubjects):\n",
    "        try:\n",
    "            b = get_value(vals)\n",
    "            a.append(b)\n",
    "        except:\n",
    "            pass\n",
    "    c = pd.Series(a)\n",
    "    return c"
   ]
  },
  {
   "cell_type": "markdown",
   "metadata": {
    "slideshow": {
     "slide_type": "slide"
    }
   },
   "source": [
    "First plot the empirical CDFs of prglngth for firsts and others.\n",
    "You can visually see the differnce between the two in the plot."
   ]
  },
  {
   "cell_type": "code",
   "execution_count": 50,
   "metadata": {
    "collapsed": false,
    "slideshow": {
     "slide_type": "fragment"
    }
   },
   "outputs": [
    {
     "data": {
      "text/plain": [
       "<matplotlib.axes._subplots.AxesSubplot at 0xe3944a8>"
      ]
     },
     "execution_count": 50,
     "metadata": {},
     "output_type": "execute_result"
    },
    {
     "data": {
      "image/png": "[encoded data removed]",
      "text/plain": [
       "<matplotlib.figure.Figure at 0xe34a2b0>"
      ]
     },
     "metadata": {},
     "output_type": "display_data"
    }
   ],
   "source": [
    "firsts_data = firsts.prglngth.value_counts(normalize=True).sort_index().cumsum()\n",
    "others_data = others.prglngth.value_counts(normalize=True).sort_index().cumsum()\n",
    "\n",
    "dfdata = pd.DataFrame({'firsts': firsts_data,\n",
    "                     'others': others_data})\n",
    "dfdata = dfdata.fillna(method='ffill')\n",
    "dfdata.plot(figsize=(8,6), title = \"Empirical CDFs of firsts and others \\n\" + \n",
    "           \"prglngth\")"
   ]
  },
  {
   "cell_type": "markdown",
   "metadata": {
    "slideshow": {
     "slide_type": "slide"
    }
   },
   "source": [
    "So the mean pregnancy length is longer for first born babies than others; but how statistically significant is this observation.\n",
    "\n",
    "Let's compute the cumulative distribution functions of pregnancy lengths for both first borns and others. Then we will sample form these empirical distribtions and so how often firsts are born later than others."
   ]
  },
  {
   "cell_type": "code",
   "execution_count": 51,
   "metadata": {
    "collapsed": true,
    "slideshow": {
     "slide_type": "fragment"
    }
   },
   "outputs": [],
   "source": [
    "firsts_prglngth_vals = firsts.prglngth.values\n",
    "others_prglngth_vals = others.prglngth.values\n",
    "\n",
    "firstssamp = get_group(firsts_prglngth_vals, 150000)\n",
    "otherssamp = get_group(others_prglngth_vals, 150000)"
   ]
  },
  {
   "cell_type": "code",
   "execution_count": 52,
   "metadata": {
    "collapsed": false,
    "slideshow": {
     "slide_type": "slide"
    }
   },
   "outputs": [
    {
     "data": {
      "image/png": "[encoded data removed]",
      "text/plain": [
       "<matplotlib.figure.Figure at 0xb077d30>"
      ]
     },
     "metadata": {},
     "output_type": "display_data"
    }
   ],
   "source": [
    "samples = firstssamp.value_counts(normalize=True).sort_index().cumsum()\n",
    "real = firsts.prglngth.value_counts(normalize=True).sort_index().cumsum()\n",
    "dffirsts = pd.DataFrame({'samples': samples,\n",
    "                        'empirical_data': real })\n",
    "dfffirsts = dffirsts.fillna(method='ffill')\n",
    "dffirsts.plot(figsize=(8,6),title=\"Comparison of empirical \" + \\\n",
    "              \"and sampled distribution of \\n prglngth for firsts\");"
   ]
  },
  {
   "cell_type": "code",
   "execution_count": 53,
   "metadata": {
    "collapsed": false,
    "slideshow": {
     "slide_type": "slide"
    }
   },
   "outputs": [
    {
     "data": {
      "image/png": "[encoded data removed]",
      "text/plain": [
       "<matplotlib.figure.Figure at 0xb1546d8>"
      ]
     },
     "metadata": {},
     "output_type": "display_data"
    }
   ],
   "source": [
    "samples = otherssamp.value_counts(normalize=True).sort_index().cumsum()\n",
    "real = others.prglngth.value_counts(normalize=True).sort_index().cumsum()\n",
    "dfothers = pd.DataFrame({'samples': samples,\n",
    "                        'empirical_data': real })\n",
    "dfothers = dfothers.fillna(method='ffill')\n",
    "dfothers.plot(figsize=(8,6),title=\"Comparison of empirical \" + \\\n",
    "                          \" and sampled distribution of \\n prglngth for others\");"
   ]
  },
  {
   "cell_type": "code",
   "execution_count": 54,
   "metadata": {
    "collapsed": false,
    "slideshow": {
     "slide_type": "slide"
    }
   },
   "outputs": [
    {
     "data": {
      "text/plain": [
       "0.37840666666666667"
      ]
     },
     "execution_count": 54,
     "metadata": {},
     "output_type": "execute_result"
    }
   ],
   "source": [
    "(firstssamp > otherssamp).values.mean()"
   ]
  },
  {
   "cell_type": "markdown",
   "metadata": {
    "slideshow": {
     "slide_type": "fragment"
    }
   },
   "source": [
    "So we can see here that there is a 37.5&#37; chance that in any given comparison between a first born and others born baby that the first born child will be born later. Not significant. Both the empiracle distributions and the distributions from sampling have a cross-over; for babies born between 30 and 38 weeks, firsts are acutally more likely to be earlier than others."
   ]
  },
  {
   "cell_type": "code",
   "execution_count": 55,
   "metadata": {
    "collapsed": false,
    "slideshow": {
     "slide_type": "slide"
    }
   },
   "outputs": [
    {
     "data": {
      "image/png": "[encoded data removed]",
      "text/plain": [
       "<matplotlib.figure.Figure at 0xb161128>"
      ]
     },
     "metadata": {},
     "output_type": "display_data"
    }
   ],
   "source": [
    "firstssamp.value_counts(normalize=True).sort_index().cumsum().plot();\n",
    "otherssamp.value_counts(normalize=True).sort_index().cumsum().plot();"
   ]
  },
  {
   "cell_type": "markdown",
   "metadata": {
    "slideshow": {
     "slide_type": "slide"
    }
   },
   "source": [
    "## <font color='teal'>Exercise 2</font>\n",
    "\n",
    "In the repository you downloaded, you should find a file named ```chap01ex.py```; using this file as a starting place, write a function that reads the resondent file, ```2002FemResp.dat.gz```.\n",
    "The variable ```pregnum``` is a recode that indicates how many times each respondent has been pregnant. Print the value counts for this variable and compare them to the published results in the NSFG codebook.\n",
    "\n",
    "You can also cross-validate the respondent and pregnancy files by comparing ```pregnum``` for each respondent with the number of records in the pregnancy file."
   ]
  },
  {
   "cell_type": "code",
   "execution_count": 56,
   "metadata": {
    "collapsed": true,
    "slideshow": {
     "slide_type": "fragment"
    }
   },
   "outputs": [],
   "source": [
    "def ReadFemResp(dct_file='2002FemResp.dct',\n",
    "                dat_file='2002FemResp.dat.gz'):\n",
    "    \"\"\"Reads the NSFG pregnancy data.\n",
    "\n",
    "    dct_file: string file name\n",
    "    dat_file: string file name\n",
    "\n",
    "    returns: DataFrame\n",
    "    \"\"\"\n",
    "    dct = thinkstats2.ReadStataDct(dct_file)\n",
    "    df = dct.ReadFixedWidth(dat_file, compression='gzip')\n",
    "    return df"
   ]
  },
  {
   "cell_type": "code",
   "execution_count": 57,
   "metadata": {
    "collapsed": false,
    "slideshow": {
     "slide_type": "slide"
    }
   },
   "outputs": [],
   "source": [
    "dfresp = ReadFemResp()"
   ]
  },
  {
   "cell_type": "code",
   "execution_count": 58,
   "metadata": {
    "collapsed": false,
    "slideshow": {
     "slide_type": "fragment"
    }
   },
   "outputs": [
    {
     "data": {
      "text/html": [
       "\n",
       "        <iframe\n",
       "            width=\"700\"\n",
       "            height=\"350\"\n",
       "            src=\"http://www.icpsr.umich.edu/nsfg6/Controller?displayPage=labelDetails&fileCode=FEM&section=R&subSec=7869&srtLabel=606835\"\n",
       "            frameborder=\"0\"\n",
       "            allowfullscreen\n",
       "        ></iframe>\n",
       "        "
      ],
      "text/plain": [
       "<IPython.lib.display.IFrame at 0xce31d30>"
      ]
     },
     "execution_count": 58,
     "metadata": {},
     "output_type": "execute_result"
    }
   ],
   "source": [
    "IFrame(\"http://www.icpsr.umich.edu/nsfg6/Controller?displayPage=labelDetails&fileCode=FEM&section=R&subSec=7869&srtLabel=606835\",\n",
    "      width=700,height=350)"
   ]
  },
  {
   "cell_type": "code",
   "execution_count": 59,
   "metadata": {
    "collapsed": false,
    "slideshow": {
     "slide_type": "slide"
    }
   },
   "outputs": [
    {
     "data": {
      "text/plain": [
       "0     2610\n",
       "1     1267\n",
       "2     1432\n",
       "3     1110\n",
       "4      611\n",
       "5      305\n",
       "6      150\n",
       "7       80\n",
       "8       40\n",
       "9       21\n",
       "10       9\n",
       "11       3\n",
       "12       2\n",
       "14       2\n",
       "19       1\n",
       "Name: pregnum, dtype: int64"
      ]
     },
     "execution_count": 59,
     "metadata": {},
     "output_type": "execute_result"
    }
   ],
   "source": [
    "dfresp.pregnum.value_counts().sort_index()"
   ]
  },
  {
   "cell_type": "code",
   "execution_count": 60,
   "metadata": {
    "collapsed": false,
    "slideshow": {
     "slide_type": "fragment"
    }
   },
   "outputs": [
    {
     "data": {
      "text/plain": [
       "158"
      ]
     },
     "execution_count": 60,
     "metadata": {},
     "output_type": "execute_result"
    }
   ],
   "source": [
    "filter1 = (dfresp.pregnum >= 7)\n",
    "dfresp.pregnum[filter1].value_counts().sort_index().sum()"
   ]
  },
  {
   "cell_type": "markdown",
   "metadata": {
    "slideshow": {
     "slide_type": "slide"
    }
   },
   "source": [
    "## <font color='teal'>Chapter 2 Distributions</font>\n",
    "\n",
    "### <font color='teal'>2.1 Histograms</font>\n",
    "\n",
    "One of the best ways to describe a variable is to report the values that appear in the datasetand how many times each value appears. This description is called the **distribution** of the variable.\n",
    "\n",
    "The most common representation of a distribution is a **histogram**, which is a graph that shows the **frequency** of each value. In this context, \"frequency\" means the number of times the value appears.\n",
    "\n"
   ]
  },
  {
   "cell_type": "code",
   "execution_count": 61,
   "metadata": {
    "collapsed": true,
    "slideshow": {
     "slide_type": "fragment"
    }
   },
   "outputs": [],
   "source": [
    "preg = nsfg.ReadFemPreg()\n",
    "live = preg[preg.outcome == 1]"
   ]
  },
  {
   "cell_type": "code",
   "execution_count": 63,
   "metadata": {
    "collapsed": true,
    "slideshow": {
     "slide_type": "slide"
    }
   },
   "outputs": [],
   "source": [
    "matplotlib.style.use('fivethirtyeight')\n",
    "matplotlib.style.use('seaborn-talk')"
   ]
  },
  {
   "cell_type": "code",
   "execution_count": 64,
   "metadata": {
    "collapsed": false,
    "slideshow": {
     "slide_type": "slide"
    }
   },
   "outputs": [
    {
     "data": {
      "image/png": "[encoded data removed]",
      "text/plain": [
       "<matplotlib.figure.Figure at 0xb381358>"
      ]
     },
     "metadata": {},
     "output_type": "display_data"
    }
   ],
   "source": [
    "live.birthwgt_lb.plot(kind='hist',bins=14,title=\"Histogram of the pound \\n\" +\\\n",
    "                   \"part of birth weight for live births\");"
   ]
  },
  {
   "cell_type": "code",
   "execution_count": 65,
   "metadata": {
    "collapsed": false,
    "slideshow": {
     "slide_type": "slide"
    }
   },
   "outputs": [
    {
     "data": {
      "image/png": "[encoded data removed]",
      "text/plain": [
       "<matplotlib.figure.Figure at 0xb0bf128>"
      ]
     },
     "metadata": {},
     "output_type": "display_data"
    }
   ],
   "source": [
    "live.birthwgt_oz.plot(kind='hist',bins=16,title=\"Histogram of the oz \\n\" +\\\n",
    "                   \"part of birth weight for live births\");"
   ]
  },
  {
   "cell_type": "code",
   "execution_count": 66,
   "metadata": {
    "collapsed": false,
    "slideshow": {
     "slide_type": "slide"
    }
   },
   "outputs": [
    {
     "data": {
      "image/png": "[encoded data removed]",
      "text/plain": [
       "<matplotlib.figure.Figure at 0xb1560f0>"
      ]
     },
     "metadata": {},
     "output_type": "display_data"
    }
   ],
   "source": [
    "live.agepreg.plot(kind='hist',bins=40,title=\"Histogram of agepreg \\n\" +\\\n",
    "                   \"for live births\");"
   ]
  },
  {
   "cell_type": "code",
   "execution_count": 70,
   "metadata": {
    "collapsed": false,
    "slideshow": {
     "slide_type": "slide"
    }
   },
   "outputs": [
    {
     "data": {
      "text/plain": [
       "0     1\n",
       "4     1\n",
       "9     1\n",
       "13    1\n",
       "17    2\n",
       "18    1\n",
       "19    1\n",
       "20    1\n",
       "21    2\n",
       "22    7\n",
       "Name: prglngth, dtype: int64"
      ]
     },
     "execution_count": 70,
     "metadata": {},
     "output_type": "execute_result"
    }
   ],
   "source": [
    "live.prglngth.value_counts().sort_index().head(10)"
   ]
  },
  {
   "cell_type": "code",
   "execution_count": 71,
   "metadata": {
    "collapsed": false,
    "slideshow": {
     "slide_type": "slide"
    }
   },
   "outputs": [
    {
     "data": {
      "text/plain": [
       "50       2\n",
       "48       7\n",
       "47       1\n",
       "46       1\n",
       "45      10\n",
       "44      46\n",
       "43     148\n",
       "42     328\n",
       "41     587\n",
       "40    1116\n",
       "Name: prglngth, dtype: int64"
      ]
     },
     "execution_count": 71,
     "metadata": {},
     "output_type": "execute_result"
    }
   ],
   "source": [
    "live.prglngth.value_counts().sort_index(ascending=False).head(10)"
   ]
  },
  {
   "cell_type": "markdown",
   "metadata": {
    "slideshow": {
     "slide_type": "slide"
    }
   },
   "source": [
    "Most doctors recommend induced labor if a pregnancy exceeds 42 weeks, so some of the longer values are suprising. In particular, 50 weeks seems medically unlikely. \n",
    "\n",
    "The best way to handle outliers depends on \"domain knowledge\"; that is, information about where the data come from and what they mean. And it depends on what analysis you are planning to perform.\n",
    "\n",
    "In this example, the motivating question is whether first babies tend to be early (or late). When people ask this question, tbey are usually interested in full-term pregnancies, so for this analysis I will focus on pregnancies longer than 27 weeks."
   ]
  },
  {
   "cell_type": "markdown",
   "metadata": {
    "slideshow": {
     "slide_type": "slide"
    }
   },
   "source": [
    "## <font color='purple'>2.6 First babies</font>\n",
    "\n",
    "Now we can compare the distribution of pregnancy lengths for first babies and others. "
   ]
  },
  {
   "cell_type": "code",
   "execution_count": 72,
   "metadata": {
    "collapsed": false,
    "slideshow": {
     "slide_type": "slide"
    }
   },
   "outputs": [
    {
     "data": {
      "image/png": "[encoded data removed]",
      "text/plain": [
       "<matplotlib.figure.Figure at 0x13b26a90>"
      ]
     },
     "metadata": {},
     "output_type": "display_data"
    }
   ],
   "source": [
    "firsts = live[live.birthord == 1]\n",
    "others = live[live.birthord != 1]\n",
    "f = firsts.prglngth.value_counts().sort_index()\n",
    "o = others.prglngth.value_counts().sort_index()\n",
    "\n",
    "dfcompare = pd.DataFrame({'first': f,\n",
    "                         'other': o})\n",
    "dfcompare.loc[27:].plot(kind='bar',figsize=(8,6))\n",
    "plt.xlabel('weeks');\n"
   ]
  },
  {
   "cell_type": "markdown",
   "metadata": {
    "slideshow": {
     "slide_type": "slide"
    }
   },
   "source": [
    "Histograms are useful becaues the make the most frequent values immediately apparent. But they are not the best choice for comparing two distributions. In this example, there are fewer \"first babies\" than \"other,\" so some of the apparent differences in the histograms are due to sample sizes. In the next chapter we address this problem using probability mass functions."
   ]
  },
  {
   "cell_type": "markdown",
   "metadata": {
    "slideshow": {
     "slide_type": "slide"
    }
   },
   "source": [
    "## <font color='purple'>2.7 Summarizing distributions</font>\n",
    "\n",
    "A histogram is a comlete description of the distribution of a sample; that is, given a histogram, we could reconstruct the values in the sample (although not their order).\n",
    "\n",
    "If the details of the distribution are important, it might be necessary to present a histogram. But often we want to summarize the distribution with a few descriptive statistics."
   ]
  },
  {
   "cell_type": "markdown",
   "metadata": {
    "slideshow": {
     "slide_type": "slide"
    }
   },
   "source": [
    "Some of the characteristics we might want to report are:\n",
    "    \n",
    "* central tendency: Do the values tend to cluster around a particular point?\n",
    "* modes: Is there more than one cluster?\n",
    "* spread: How much variability is there in the values?\n",
    "* tails: How quickly do the probabilities drop off as we move away from the modes?\n",
    "* outliers: Are there "
   ]
  },
  {
   "cell_type": "markdown",
   "metadata": {
    "slideshow": {
     "slide_type": "slide"
    }
   },
   "source": [
    "statistics designed to answer these questions are called **summary statistics**. By far the most common summary statistic is the **mean**, which is meant to describe the central tendency of the distribution.\n",
    "\n",
    "If you have a sample of $n$ values, $x_{i}$, the mean $\\bar{x}$, is the sum of the values divided by the number of values; in other words:\n",
    "\n",
    "$ \n",
    "\\bar{x} = \\frac{1}{n} \\sum_{i} x_{i}\n",
    "$\n",
    "\n",
    "The words \"mean\" and \"average\" are sometimes used interchangeably, but I make this distinction:\n",
    "\n",
    "* The \"mean\" of a sample is the summary statistic computed with the previous formula.\n",
    "* An \"averge\" is one of several summary statistics you might choose to descirbe a central tendency.\n",
    "\n",
    "```\n",
    "Sometimes the mean is a good description of a set of values. For example, apples are all pretty much the same size (at least the ones sold in supermarkets). So if I buy 6 apples and the total weight is 3 pounds, it would be a reasonable summary to say they are about a half pound each.\n",
    "But pumpkins are more diverse. Suppose I grow several varieties in my garden, and one day I harvest three decorative pumpkins that are 1 pound each, two pie pumpkins that are 3 pounds each, and one Atlantic Giant® pumpkin that weighs 591 pounds. The mean of this sample is 100 pounds, but if I told you “The average pumpkin in my garden is 100 pounds,” that would be misleading. In this example, there is no meaningful average because there is no typical pumpkin.\n",
    "```\n",
    "\n",
    "\n",
    "## <font color='steelblue'>Variance</font>\n",
    "\n",
    "If there is no single number that summarizes pumpkin weights, we can do a little better with two numbers: mean and **variance**.\n",
    "\n",
    "Variance is a summary statistic intended to describe the varibility or spread of a distribution. The variance of a set of values is:\n",
    "\n",
    "$\n",
    "S^{2} = \\frac{1}{n} \\sum_{i} (x_{i} - \\bar{x})^{2}\n",
    "$\n",
    "\n",
    "The term $x_{i} -\\bar{x}$ is called the \"deviation from the mean,\" so variance is the mean squared deviation. The square root of variance, S, is the **standard deviation**.\n",
    "\n",
    "If you have prior experience, yhou might have seen a formula for variance with $n-1$ in the denominator, rather than $n$. This statistic is used to estimate the variance in a population using a sample. We will come back to this in Chapter 8."
   ]
  },
  {
   "cell_type": "code",
   "execution_count": 75,
   "metadata": {
    "collapsed": false,
    "slideshow": {
     "slide_type": "slide"
    }
   },
   "outputs": [
    {
     "data": {
      "text/plain": [
       "count    9148.000000\n",
       "mean       38.560560\n",
       "std         2.702344\n",
       "min         0.000000\n",
       "25%        39.000000\n",
       "50%        39.000000\n",
       "75%        39.000000\n",
       "max        50.000000\n",
       "Name: prglngth, dtype: float64"
      ]
     },
     "execution_count": 75,
     "metadata": {},
     "output_type": "execute_result"
    }
   ],
   "source": [
    "live.prglngth.describe()"
   ]
  },
  {
   "cell_type": "markdown",
   "metadata": {
    "slideshow": {
     "slide_type": "slide"
    }
   },
   "source": [
    "## <font color='steelblue'>Effect size</font>\n",
    "\n",
    "An **effect size** is a summary statistic intended to desribe (wait for it) the size of an effect. For example, to describe the difference between two groups, one obvious choice is the difference in the means.\n",
    "\n"
   ]
  },
  {
   "cell_type": "code",
   "execution_count": 76,
   "metadata": {
    "collapsed": false,
    "slideshow": {
     "slide_type": "slide"
    }
   },
   "outputs": [
    {
     "data": {
      "text/plain": [
       "count    4413.000000\n",
       "mean       38.600952\n",
       "std         2.791901\n",
       "min         0.000000\n",
       "25%        39.000000\n",
       "50%        39.000000\n",
       "75%        40.000000\n",
       "max        48.000000\n",
       "Name: prglngth, dtype: float64"
      ]
     },
     "execution_count": 76,
     "metadata": {},
     "output_type": "execute_result"
    }
   ],
   "source": [
    "firsts.prglngth.describe()"
   ]
  },
  {
   "cell_type": "code",
   "execution_count": 77,
   "metadata": {
    "collapsed": false,
    "slideshow": {
     "slide_type": "slide"
    }
   },
   "outputs": [
    {
     "data": {
      "text/plain": [
       "count    4735.000000\n",
       "mean       38.522914\n",
       "std         2.615852\n",
       "min         4.000000\n",
       "25%        39.000000\n",
       "50%        39.000000\n",
       "75%        39.000000\n",
       "max        50.000000\n",
       "Name: prglngth, dtype: float64"
      ]
     },
     "execution_count": 77,
     "metadata": {},
     "output_type": "execute_result"
    }
   ],
   "source": [
    "others.prglngth.describe()"
   ]
  },
  {
   "cell_type": "code",
   "execution_count": 78,
   "metadata": {
    "collapsed": false,
    "slideshow": {
     "slide_type": "skip"
    }
   },
   "outputs": [
    {
     "data": {
      "text/plain": [
       "0.07699999999999818"
      ]
     },
     "execution_count": 78,
     "metadata": {},
     "output_type": "execute_result"
    }
   ],
   "source": [
    "38.6 - 38.523"
   ]
  },
  {
   "cell_type": "code",
   "execution_count": 79,
   "metadata": {
    "collapsed": false,
    "slideshow": {
     "slide_type": "slide"
    }
   },
   "outputs": [
    {
     "data": {
      "text/plain": [
       "12.936"
      ]
     },
     "execution_count": 79,
     "metadata": {},
     "output_type": "execute_result"
    }
   ],
   "source": [
    "0.077*7*24"
   ]
  },
  {
   "cell_type": "markdown",
   "metadata": {
    "slideshow": {
     "slide_type": "slide"
    }
   },
   "source": [
    "Mean pregnancy length for  first babies is 38.60; for other babies it is 38.523. The difference is 0.077 weeks, which works out to 12.936 hours.\n",
    "\n",
    "If we assume this estimate is accurate, such a difference would have no practical consequences. In fact, without observing a large number of pregnancies, it is unlikely that anyone would notice this difference at all.\n",
    "\n",
    "Another way to convey the size of the effect is to compare the difference between groups to the variability within groups. Cohen's d is a statistic intended to do that: it is defined\n",
    "\n",
    "$\n",
    "d = \\frac{\\bar{x_{1}} - \\bar{x_{2}}}{s}\n",
    "$\n",
    "\n",
    "where $\\bar{x_{1}}$ and $\\bar{x_{2}}$ are the means of the groups and $s$ is the \"pooled standard deviation.\""
   ]
  },
  {
   "cell_type": "code",
   "execution_count": 89,
   "metadata": {
    "collapsed": true,
    "slideshow": {
     "slide_type": "slide"
    }
   },
   "outputs": [],
   "source": [
    "def CohenEffectSize(group1, group2):\n",
    "    import math\n",
    "    diff = group1.mean() - group2.mean()\n",
    "\n",
    "    var1 = group1.var()\n",
    "    var2 = group2.var()\n",
    "    n1, n2 = len(group1), len(group2)\n",
    "    print(var1, var2)\n",
    "    print(n1, n2)\n",
    "\n",
    "    pooled_var = (n1 * var1 + n2 * var2) / (n1 + n2)\n",
    "    d = diff / math.sqrt(pooled_var)\n",
    "    return d"
   ]
  },
  {
   "cell_type": "code",
   "execution_count": 83,
   "metadata": {
    "collapsed": false,
    "slideshow": {
     "slide_type": "slide"
    }
   },
   "outputs": [
    {
     "name": "stdout",
     "output_type": "stream",
     "text": [
      "0.0288822092882\n"
     ]
    }
   ],
   "source": [
    "d = CohenEffectSize(firsts.prglngth.values, others.prglngth.values)\n",
    "print(d)"
   ]
  },
  {
   "cell_type": "markdown",
   "metadata": {
    "slideshow": {
     "slide_type": "slide"
    }
   },
   "source": [
    "In this example, the difference in means is 0.029 standard deviations, which is small. To put that in perspective, the difference in height between men and women is about 1.7 standard deviations."
   ]
  },
  {
   "cell_type": "markdown",
   "metadata": {
    "slideshow": {
     "slide_type": "slide"
    }
   },
   "source": [
    "## <font color='steelblue'>Reporting results</font>\n",
    "\n",
    "```\n",
    "We have seen several ways to describe the difference in pregnancy length (if there is one) between first babies and others. How should we report these results?\n",
    "The answer depends on who is asking the question. A scientist might be interested in any (real) effect, no matter how small. A doctor might only care about effects that are clinically significant; that is, differences that affect treatment decisions. A pregnant woman might be interested in results that are relevant to her, like the probability of delivering early or late.\n",
    "\n",
    "How you report results also depends on your goals. If you are trying to demonstrate the importance of an effect, you might choose summary statistics that emphasize differences. If you are trying to reassure a patient, you might choose statistics that put the differences in context.\n",
    "\n",
    "Of course your decisions should also be guided by professional ethics. It’s ok to be persuasive; you should design statistical reports and visualizations that tell a story clearly. But you should also do your best to make your reports honest, and to acknowledge uncertainty and limitations.\n",
    "```"
   ]
  },
  {
   "cell_type": "markdown",
   "metadata": {
    "slideshow": {
     "slide_type": "slide"
    }
   },
   "source": [
    "**Exercise 4** Using the variable ```totalwgt_lb```, investigate whether first babies are lighter or heavier than others. Compute Cohen's d to quantify the difference between the groups. How does it compare to the difference in pregnancy length?"
   ]
  },
  {
   "cell_type": "code",
   "execution_count": 84,
   "metadata": {
    "collapsed": false,
    "slideshow": {
     "slide_type": "slide"
    }
   },
   "outputs": [
    {
     "data": {
      "text/plain": [
       "count    4363.000000\n",
       "mean        7.201094\n",
       "std         1.420573\n",
       "min         0.125000\n",
       "25%         6.437500\n",
       "50%         7.312500\n",
       "75%         8.000000\n",
       "max        15.437500\n",
       "Name: totalwgt_lb, dtype: float64"
      ]
     },
     "execution_count": 84,
     "metadata": {},
     "output_type": "execute_result"
    }
   ],
   "source": [
    "firsts.totalwgt_lb.describe()"
   ]
  },
  {
   "cell_type": "code",
   "execution_count": 85,
   "metadata": {
    "collapsed": false,
    "slideshow": {
     "slide_type": "slide"
    }
   },
   "outputs": [
    {
     "data": {
      "text/plain": [
       "count    4675.000000\n",
       "mean        7.325856\n",
       "std         1.394195\n",
       "min         0.562500\n",
       "25%         6.500000\n",
       "50%         7.375000\n",
       "75%         8.187500\n",
       "max        14.000000\n",
       "Name: totalwgt_lb, dtype: float64"
      ]
     },
     "execution_count": 85,
     "metadata": {},
     "output_type": "execute_result"
    }
   ],
   "source": [
    "others.totalwgt_lb.describe()"
   ]
  },
  {
   "cell_type": "code",
   "execution_count": 92,
   "metadata": {
    "collapsed": false,
    "slideshow": {
     "slide_type": "slide"
    }
   },
   "outputs": [
    {
     "data": {
      "text/plain": [
       "2.0180273009157768"
      ]
     },
     "execution_count": 92,
     "metadata": {},
     "output_type": "execute_result"
    }
   ],
   "source": [
    "firsts.totalwgt_lb.var()"
   ]
  },
  {
   "cell_type": "code",
   "execution_count": 93,
   "metadata": {
    "collapsed": false,
    "slideshow": {
     "slide_type": "slide"
    }
   },
   "outputs": [
    {
     "name": "stdout",
     "output_type": "stream",
     "text": [
      "2.0180273009157768 1.9437810258964572\n",
      "4413 4735\n",
      "-0.088672927072602\n"
     ]
    }
   ],
   "source": [
    "d = CohenEffectSize(firsts.totalwgt_lb, others.totalwgt_lb)\n",
    "print(d)"
   ]
  },
  {
   "cell_type": "markdown",
   "metadata": {
    "slideshow": {
     "slide_type": "slide"
    }
   },
   "source": [
    "So the difference is weight represents more of an effect of something real than the difference in pregnancy lengths."
   ]
  },
  {
   "cell_type": "code",
   "execution_count": null,
   "metadata": {
    "collapsed": true
   },
   "outputs": [],
   "source": []
  }
 ],
 "metadata": {
  "celltoolbar": "Slideshow",
  "kernelspec": {
   "display_name": "Python 3",
   "language": "python",
   "name": "python3"
  },
  "language_info": {
   "codemirror_mode": {
    "name": "ipython",
    "version": 3
   },
   "file_extension": ".py",
   "mimetype": "text/x-python",
   "name": "python",
   "nbconvert_exporter": "python",
   "pygments_lexer": "ipython3",
   "version": "3.5.1"
  },
  "widgets": {
   "state": {},
   "version": "1.1.2"
  }
 },
 "nbformat": 4,
 "nbformat_minor": 0
}
