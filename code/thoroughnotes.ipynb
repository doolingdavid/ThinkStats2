{
 "cells": [
  {
   "cell_type": "code",
   "execution_count": 1,
   "metadata": {
    "collapsed": false,
    "slideshow": {
     "slide_type": "skip"
    }
   },
   "outputs": [
    {
     "data": {
      "text/html": [
       "<script>\n",
       "code_show=true; \n",
       "function code_toggle() {\n",
       " if (code_show){\n",
       " $('div.input').hide();\n",
       " } else {\n",
       " $('div.input').show();\n",
       " }\n",
       " code_show = !code_show\n",
       "} \n",
       "$( document ).ready(code_toggle);\n",
       "</script>\n",
       "<form action=\"javascript:code_toggle()\"><input type=\"submit\" value=\"Click here to toggle on/off the raw code.\"></form>"
      ],
      "text/plain": [
       "<IPython.core.display.HTML object>"
      ]
     },
     "execution_count": 1,
     "metadata": {},
     "output_type": "execute_result"
    }
   ],
   "source": [
    "from IPython.display import HTML\n",
    "\n",
    "HTML('''<script>\n",
    "code_show=true; \n",
    "function code_toggle() {\n",
    " if (code_show){\n",
    " $('div.input').hide();\n",
    " } else {\n",
    " $('div.input').show();\n",
    " }\n",
    " code_show = !code_show\n",
    "} \n",
    "$( document ).ready(code_toggle);\n",
    "</script>\n",
    "<form action=\"javascript:code_toggle()\"><input type=\"submit\" value=\"Click here to toggle on/off the raw code.\"></form>''')  "
   ]
  },
  {
   "cell_type": "code",
   "execution_count": 2,
   "metadata": {
    "collapsed": true,
    "slideshow": {
     "slide_type": "skip"
    }
   },
   "outputs": [],
   "source": [
    "import numpy as np\n",
    "import pandas as pd\n",
    "import matplotlib.pyplot as plt\n",
    "from pandas import Series, DataFrame\n",
    "import pytz\n",
    "from pytz import common_timezones, all_timezones\n",
    "import matplotlib\n",
    "matplotlib.style.use('ggplot')\n",
    "%matplotlib inline\n",
    "from datetime import datetime\n",
    "\n",
    "matplotlib.style.use('fivethirtyeight')\n",
    "matplotlib.style.use('seaborn-talk')"
   ]
  },
  {
   "cell_type": "code",
   "execution_count": 3,
   "metadata": {
    "collapsed": true,
    "slideshow": {
     "slide_type": "skip"
    }
   },
   "outputs": [],
   "source": [
    "import nsfg\n",
    "df = nsfg.ReadFemPreg()\n"
   ]
  },
  {
   "cell_type": "code",
   "execution_count": 4,
   "metadata": {
    "collapsed": false,
    "slideshow": {
     "slide_type": "slide"
    }
   },
   "outputs": [
    {
     "data": {
      "text/plain": [
       "9148"
      ]
     },
     "execution_count": 4,
     "metadata": {},
     "output_type": "execute_result"
    }
   ],
   "source": [
    "live = df[df.outcome == 1]\n",
    "len(live)"
   ]
  },
  {
   "cell_type": "code",
   "execution_count": 5,
   "metadata": {
    "collapsed": false,
    "slideshow": {
     "slide_type": "slide"
    }
   },
   "outputs": [
    {
     "data": {
      "text/plain": [
       "(4413, 4735)"
      ]
     },
     "execution_count": 5,
     "metadata": {},
     "output_type": "execute_result"
    }
   ],
   "source": [
    "firsts = df[df.birthord==1]\n",
    "others = df[df.birthord>1]\n",
    "len(firsts), len(others)"
   ]
  },
  {
   "cell_type": "code",
   "execution_count": 6,
   "metadata": {
    "collapsed": false,
    "slideshow": {
     "slide_type": "slide"
    }
   },
   "outputs": [
    {
     "name": "stdout",
     "output_type": "stream",
     "text": [
      "Mean pregnancy length for first borns: 38.60095173351461\n",
      "Mean pregnancy length for others: 38.52291446673706\n",
      "Difference between mean first and others pregnancy lengths in hrs: 13.11026081862832\n"
     ]
    }
   ],
   "source": [
    "a = firsts.prglngth.mean()\n",
    "b = others.prglngth.mean()\n",
    "\n",
    "c = (a - b)*168.0\n",
    "\n",
    "print(\"Mean pregnancy length for first borns: {}\".format(a))\n",
    "print(\"Mean pregnancy length for others: {}\".format(b))\n",
    "print(\"Difference between mean first and others pregnancy lengths in hrs: {}\".format(c))"
   ]
  },
  {
   "cell_type": "code",
   "execution_count": 7,
   "metadata": {
    "collapsed": true,
    "slideshow": {
     "slide_type": "slide"
    }
   },
   "outputs": [],
   "source": [
    "def get_value(vals):\n",
    "    import random\n",
    "    pval = random.uniform(0,100)\n",
    "    #print(pval)\n",
    "    return np.percentile(vals,pval)\n",
    "\n",
    "\n",
    "def get_group(vals, numberofsubjects):\n",
    "    \"\"\"Returns a pandas series.\"\"\"\n",
    "    import random\n",
    "    a = list()\n",
    "    for i in range(numberofsubjects):\n",
    "        try:\n",
    "            b = get_value(vals)\n",
    "            a.append(b)\n",
    "        except:\n",
    "            pass\n",
    "    c = pd.Series(a)\n",
    "    return c"
   ]
  },
  {
   "cell_type": "code",
   "execution_count": 8,
   "metadata": {
    "collapsed": false,
    "slideshow": {
     "slide_type": "slide"
    }
   },
   "outputs": [
    {
     "data": {
      "image/png": "[encoded data removed]",
      "text/plain": [
       "<matplotlib.figure.Figure at 0xade0518>"
      ]
     },
     "metadata": {},
     "output_type": "display_data"
    }
   ],
   "source": [
    "\n",
    "firsts_data = firsts.prglngth.value_counts(normalize=True).sort_index().cumsum()\n",
    "others_data = others.prglngth.value_counts(normalize=True).sort_index().cumsum()\n",
    "\n",
    "dfdata = pd.DataFrame({'firsts': firsts_data,\n",
    "                     'others': others_data})\n",
    "dfdata = dfdata.fillna(method='ffill')\n",
    "dfdata.plot(figsize=(8,6), title = \"Empirical CDFs of firsts and others \\n\" + \n",
    "           \"prglngth\");"
   ]
  },
  {
   "cell_type": "code",
   "execution_count": 9,
   "metadata": {
    "collapsed": true,
    "slideshow": {
     "slide_type": "slide"
    }
   },
   "outputs": [],
   "source": [
    "firsts_prglngth_vals = firsts.prglngth.values\n",
    "others_prglngth_vals = others.prglngth.values\n",
    "\n",
    "firstssamp = get_group(firsts_prglngth_vals, 150000)\n",
    "otherssamp = get_group(others_prglngth_vals, 150000)"
   ]
  },
  {
   "cell_type": "code",
   "execution_count": 10,
   "metadata": {
    "collapsed": false,
    "slideshow": {
     "slide_type": "slide"
    }
   },
   "outputs": [
    {
     "data": {
      "text/plain": [
       "0.37916"
      ]
     },
     "execution_count": 10,
     "metadata": {},
     "output_type": "execute_result"
    }
   ],
   "source": [
    "(firstssamp > otherssamp).values.mean()\n"
   ]
  },
  {
   "cell_type": "markdown",
   "metadata": {
    "slideshow": {
     "slide_type": "slide"
    }
   },
   "source": [
    "## <font color='steelblue'>The Estimation Game</font>\n",
    "\n",
    "```\n",
    "Let’s play a game. I think of a distribution, and you have to guess what it is. I’ll give you two hints: it’s a normal distribution, and here’s a random sample drawn from it:\n",
    "[-0.441, 1.774, -0.101, -1.138, 2.975, -2.138]\n",
    "\n",
    "What do you think is the mean parameter, µ, of this distribution?\n",
    "\n",
    "One choice is to use the sample mean, x, as an estimate of µ. In this example, x is 0.155, so it would be reasonable to guess µ = 0.155. This process is called estimation, and the statistic we used (the sample mean) is called an estimator.\n",
    "```"
   ]
  },
  {
   "cell_type": "code",
   "execution_count": 11,
   "metadata": {
    "collapsed": false,
    "slideshow": {
     "slide_type": "slide"
    }
   },
   "outputs": [
    {
     "name": "stdout",
     "output_type": "stream",
     "text": [
      "0.15516666666666667 1.8933573795421366\n"
     ]
    }
   ],
   "source": [
    "nums = [-0.441, 1.774, -0.101, -1.138, 2.975, -2.138]\n",
    "\n",
    "numser = pd.Series(nums)\n",
    "print(numser.mean(),numser.std())\n"
   ]
  },
  {
   "cell_type": "code",
   "execution_count": 12,
   "metadata": {
    "collapsed": false,
    "slideshow": {
     "slide_type": "slide"
    }
   },
   "outputs": [
    {
     "data": {
      "text/plain": [
       "(Mean(statistic=0.15516666666666667, minmax=(-1.4023849490394598, 1.7127182823727924)),\n",
       " Variance(statistic=5.9746702777777765, minmax=(1.6190790450036288, 15.647649794494102)),\n",
       " Std_dev(statistic=2.2519897075579607, minmax=(1.2724303694126562, 3.9557110352620684)))"
      ]
     },
     "execution_count": 12,
     "metadata": {},
     "output_type": "execute_result"
    }
   ],
   "source": [
    "import scipy\n",
    "results = scipy.stats.bayes_mvs(numser.as_matrix())\n",
    "results"
   ]
  },
  {
   "cell_type": "markdown",
   "metadata": {
    "slideshow": {
     "slide_type": "slide"
    }
   },
   "source": [
    "If there are no outliers, the sample mean minimizes the **mean squared error** (MSE). That is, if we play the game many times, and each time compute the error $\\bar{x} - \\mu$, the sample mean minimizes:\n",
    "\n",
    "$\n",
    "MSE = \\frac{1}{m} \\sum (\\bar{x} - \\mu)^{2}\n",
    "$\n",
    "\n",
    "where $m$ is the number of times you play the estimation game, not to be confused with $n$, which is the size of the sample used to compute $\\bar{x}$.\n",
    "\n"
   ]
  },
  {
   "cell_type": "code",
   "execution_count": 13,
   "metadata": {
    "collapsed": true,
    "slideshow": {
     "slide_type": "slide"
    }
   },
   "outputs": [],
   "source": [
    "import math\n",
    "\n",
    "def RMSE(estimates, actual):\n",
    "    e2 = [(estimate-actual)**2 for estimate in estimates]\n",
    "    mse = np.mean(e2)\n",
    "    return math.sqrt(mse)"
   ]
  },
  {
   "cell_type": "code",
   "execution_count": 14,
   "metadata": {
    "collapsed": true,
    "slideshow": {
     "slide_type": "slide"
    }
   },
   "outputs": [],
   "source": [
    "def Estimate1(n=7, m=1000):\n",
    "    import random\n",
    "    mu = 0\n",
    "    sigma = 1\n",
    "\n",
    "    means = []\n",
    "    medians = []\n",
    "    for _ in range(m):\n",
    "        xs = [random.gauss(mu, sigma) for i in range(n)]\n",
    "        xbar = np.mean(xs)\n",
    "        median = np.median(xs)\n",
    "        means.append(xbar)\n",
    "        medians.append(median)\n",
    "\n",
    "    print('rmse xbar', RMSE(means, mu))\n",
    "    print('rmse median', RMSE(medians, mu))"
   ]
  },
  {
   "cell_type": "markdown",
   "metadata": {
    "slideshow": {
     "slide_type": "slide"
    }
   },
   "source": [
    "Again, $n$ is the size of the sample, and $m$ is the number of times we play the game. ```means``` is the list of estimates based on $\\bar{x}$. ```medians``` is the list of medians. \n",
    "\n",
    "In the function ```RMSE```, ```estimates``` is the list of estimates, ```actual``` is the actual thing being estimated. In practice, of course, we don't know ```actual```; if we did, we wouldn't have to estimate it. The purpose of the experiment is to compare the performance of the two estimators."
   ]
  },
  {
   "cell_type": "code",
   "execution_count": 15,
   "metadata": {
    "collapsed": false,
    "slideshow": {
     "slide_type": "slide"
    }
   },
   "outputs": [
    {
     "name": "stdout",
     "output_type": "stream",
     "text": [
      "rmse xbar 0.3876598504563357\n",
      "rmse median 0.4638230814072637\n"
     ]
    }
   ],
   "source": [
    "Estimate1()"
   ]
  },
  {
   "cell_type": "markdown",
   "metadata": {
    "slideshow": {
     "slide_type": "slide"
    }
   },
   "source": [
    "When I ran this code, the RMSE of the sample mean was 0.3837, which means that if we $\\bar{x}$ to estimate the mean of this distribution, based on a sample with $n=7$, we should expect to be off by 0.3837 on average. Using the median to estimate the mean yields RMSE of 0.46254, which confirms that $\\bar{x}$ yields lower RMSE, at least for this example.\n",
    "\n",
    "\n",
    "Minimizing MSE is a nice property, but it's not always the best strategy. For example, suppose we are estimating the distribution of wind speeds at a building site. If the estimate is too high, we might overbuild the structure, increasing its cost. But if it's too low, the building might collapse. Because cost as a function of error is not symmetric, minimizing MSE is not the best strategy.\n",
    "\n",
    "AS another exmaple, suppose I roll three six-sided dice and ask you to predict the total. If you get it exactly right, you get a prize; otherwise you get nothing. In this case the value that minimizes the MSE is 10.5"
   ]
  },
  {
   "cell_type": "code",
   "execution_count": 16,
   "metadata": {
    "collapsed": true,
    "slideshow": {
     "slide_type": "slide"
    }
   },
   "outputs": [],
   "source": [
    "def Dice_3_6(trials = 800000, n=3):\n",
    "    import random\n",
    "    totals = []\n",
    "    dicevalues = range(1,7)\n",
    "    for _ in range(trials):\n",
    "        rolls = [random.choice(dicevalues) for i in range(n)]\n",
    "        total = np.sum(rolls)\n",
    "        totals.append(total)\n",
    "\n",
    "    print('average of the total of rolling three dice', np.mean(totals))\n",
    "    totalsser = pd.Series(totals)\n",
    "    print(totalsser.value_counts(normalize=True))"
   ]
  },
  {
   "cell_type": "code",
   "execution_count": 17,
   "metadata": {
    "collapsed": false,
    "slideshow": {
     "slide_type": "slide"
    }
   },
   "outputs": [
    {
     "name": "stdout",
     "output_type": "stream",
     "text": [
      "average of the total of rolling three dice 10.49751375\n",
      "10    0.125311\n",
      "11    0.124831\n",
      "12    0.115764\n",
      "9     0.115575\n",
      "8     0.097180\n",
      "13    0.097177\n",
      "7     0.069500\n",
      "14    0.069455\n",
      "15    0.046598\n",
      "6     0.046364\n",
      "5     0.027703\n",
      "16    0.027610\n",
      "4     0.014037\n",
      "17    0.013702\n",
      "3     0.004645\n",
      "18    0.004548\n",
      "dtype: float64\n"
     ]
    }
   ],
   "source": [
    "Dice_3_6()"
   ]
  },
  {
   "cell_type": "markdown",
   "metadata": {
    "slideshow": {
     "slide_type": "slide"
    }
   },
   "source": [
    "In this case the value that minimizes the MSE is 10.5, but that would be a bad guess, becauase the total of three dice is never 10.5. For this game, you want an estimator tha thas the highest chance of being right, which is a **maximum likelihood estimator** (MLE). If you pick 10 or 11, your chance of winning is 1 in 8, and that's the best you can do.\n",
    "\n",
    "## <font color='steelblue'>Guess the variance</font>\n",
    "\n",
    "\n",
    "I'm thinking of a distribution. It's a normal distribution, and here's a (familiar) sample:\n",
    "\n",
    "[-0.441, 1.774, -0.101, -1.138, 2.975, -2.138]\n",
    "\n",
    "What do you think is the variance,  $\\sigma^{2}$  of my distribution? Again, the obvious choice is to use the sample variance,  $S^{2}$ , as an estimator:\n",
    "\n",
    "$\n",
    "S^{2} = \\frac{1}{n} \\sum (x_{i} - \\bar{x})^{2} \n",
    "$\n",
    "\n",
    "For large samples,  $S^{2}$  is an adequate estimator, but for small samples it tends to be too low. Because of this unforunate property, it is called a biased estimator. An estimator is unibiased if the expected total (or mean) error, after many iterations of the estimation game, is 0.\n",
    "Fortunately, there is another simple statistic that is an ubiased estimator of  $\\sigma^{2}$ :\n",
    "\n",
    "$\n",
    "S^{2}_{n-1} = \\frac{1}{n-1}\\sum (x_{i} - \\bar{x})^{2}\n",
    "$\n",
    "\n",
    "For an explanation of why  $S^{2}$  is biased, and a proof that $S^{2}_{n-1}$  is unbiased, see http://wikipedia.org/wiki/Bias_of_an_estimator\n",
    "The biggest problem with this estimator is that its name and symbol are used inconsistently. The name \"sample variance\" can refer to either  $S^{2}$  or  $S^{2}_{n-1}$ , and the symbol  $S^{2}$  is used for either or both.\n",
    "Here is a function that simulates the estimation game and tests the performance of  $S^{2}$  and  $S^{2}_{n-1}$ :\n"
   ]
  },
  {
   "cell_type": "code",
   "execution_count": 18,
   "metadata": {
    "collapsed": true,
    "slideshow": {
     "slide_type": "slide"
    }
   },
   "outputs": [],
   "source": [
    "def MeanError(estimates, actual):\n",
    "    errors = [estimate-actual for estimate in estimates]\n",
    "    return np.mean(errors)"
   ]
  },
  {
   "cell_type": "code",
   "execution_count": 19,
   "metadata": {
    "collapsed": true,
    "slideshow": {
     "slide_type": "slide"
    }
   },
   "outputs": [],
   "source": [
    "import random\n",
    "def Estimate2(n=7, m=100000):\n",
    "    mu = 0\n",
    "    sigma = 1\n",
    "\n",
    "    estimates1 = []\n",
    "    estimates2 = []\n",
    "    for _ in range(m):\n",
    "        xs = [random.gauss(mu, sigma) for i in range(n)]\n",
    "        biased = np.var(xs)\n",
    "        unbiased = np.var(xs, ddof=1)\n",
    "        estimates1.append(biased)\n",
    "        estimates2.append(unbiased)\n",
    "\n",
    "    print('mean error biased', MeanError(estimates1, sigma**2))\n",
    "    print('mean error unbiased', MeanError(estimates2, sigma**2))"
   ]
  },
  {
   "cell_type": "markdown",
   "metadata": {
    "slideshow": {
     "slide_type": "slide"
    }
   },
   "source": [
    "Again, $n$ is the sample size and $m$ is the number of times we play the game. ```np.var``` computes $S^{2}$ by default and $S^{2}_{n-1}$ if you provide the argument ```ddof=1```, which stands for delta degrees of freedom. I won't explain that term, but you can read about it at http://en.wikipedia.org/wiki/Degrees_of_freedom .\n",
    "```MeanError``` computes the mean difference between the estimate and the actual value."
   ]
  },
  {
   "cell_type": "code",
   "execution_count": 20,
   "metadata": {
    "collapsed": false,
    "slideshow": {
     "slide_type": "slide"
    }
   },
   "outputs": [
    {
     "name": "stdout",
     "output_type": "stream",
     "text": [
      "mean error biased -0.142440379612\n",
      "mean error unbiased 0.000486223786165\n"
     ]
    }
   ],
   "source": [
    "Estimate2()"
   ]
  },
  {
   "cell_type": "markdown",
   "metadata": {
    "slideshow": {
     "slide_type": "slide"
    }
   },
   "source": [
    "When I ran this code, theb mean error for $S^{2}$ was -0.141. As expected, this biased estimator tends to be too low. For $S_{n-1}^{2}$, the mean error was 0.00177, much much smaller. As ```m``` increases, we expect the mean error for $S_{n-1}^{2}$ to approach 0.\n",
    "\n",
    "Properties like MSE and bias are long-term expectations based on many iterations of the estimation game. By running simulations like the ones in this chapter, we can compare estimators and check whether they have the desired properties.\n",
    "\n",
    "But when you apply an estimator to real data, you just get one estimate. It would not be meaningful to say that the estimate is unbiased; being unbiased is a property of the estimator, not the estimate.\n",
    "\n",
    "After you choose an estimator with appropriate properties, and use it to generate an estimate, the next step is to characterize the uncertainty of the estimate, which is the topic of the next section."
   ]
  },
  {
   "cell_type": "markdown",
   "metadata": {
    "slideshow": {
     "slide_type": "slide"
    }
   },
   "source": [
    "## <font color='steelblue'>Sampling distributions</font>\n",
    "\n",
    "Suppose you are a scientist studying gorillas in a wildlife preserve. You want to know the average weight of the adult female gorillas in the preserve. To weigh them, you have to tranquilize them, which is dangerous, expensive, and possibly harmful to the gorillas. But if it is important to obtain this information, it might be acceptable to weigh a sample of 9 gorillas. Let's assume that hte population of the preserve is well known, so we can choose a representative sample of adult females. We could use the sample mean, $\\bar{x}$, to estimate the unknown populatin mean, $\\mu$."
   ]
  },
  {
   "cell_type": "markdown",
   "metadata": {
    "slideshow": {
     "slide_type": "slide"
    }
   },
   "source": [
    "Having weighed 9 female gorillas, you might find $\\bar{x} = 90$ kg and a sample standard deviation $S = 7.5$ kg. The sample mean is an unbiased estimator of $\\mu$ and in the long run it minimizes MSE. So if you report a single estimate that summarizes the results, you would report 90 kg.\n",
    "\n",
    "But how confident should you be in this estimate? If you only weigh $n = 9$ gorillas out of a much bigger population, you might be unlucky and choose the 9 heaviest gorillas (or the 9 lightest ones) just by chance. Variation in the estimate caused by random selection is called **sampling error**."
   ]
  },
  {
   "cell_type": "markdown",
   "metadata": {
    "slideshow": {
     "slide_type": "slide"
    }
   },
   "source": [
    "To quantify sampling error, we can simulate the sampling process with hypothetical values of $\\mu$ and $\\sigma$ and see how much $\\bar{x}$ varies.\n",
    "\n",
    "Since we don't know the actual values of $\\mu$ and $\\sigma$ in the population, we'll use the estimates $\\bar{x}$ and $S$. So the question we answer is: \"If the actual values of $\\mu$ and $\\sigma$ were 90 kg and 7.5 kg, and we ran the same experiment many times, how much would the estimated mean, $\\bar{x}$, vary?\"\n",
    "\n",
    "The following function answers that question:"
   ]
  },
  {
   "cell_type": "code",
   "execution_count": 21,
   "metadata": {
    "collapsed": false,
    "slideshow": {
     "slide_type": "slide"
    }
   },
   "outputs": [
    {
     "name": "stdout",
     "output_type": "stream",
     "text": [
      "0.15516666666666667 1.8933573795421366\n"
     ]
    }
   ],
   "source": [
    "nums = [-0.441, 1.774, -0.101, -1.138, 2.975, -2.138]\n",
    "\n",
    "numser = pd.Series(nums)\n",
    "print(numser.mean(),numser.std())"
   ]
  },
  {
   "cell_type": "code",
   "execution_count": 22,
   "metadata": {
    "collapsed": false,
    "slideshow": {
     "slide_type": "slide"
    }
   },
   "outputs": [
    {
     "data": {
      "text/plain": [
       "(Mean(statistic=0.15516666666666667, minmax=(-1.4023849490394598, 1.7127182823727924)),\n",
       " Variance(statistic=5.9746702777777765, minmax=(1.6190790450036288, 15.647649794494102)),\n",
       " Std_dev(statistic=2.2519897075579607, minmax=(1.2724303694126562, 3.9557110352620684)))"
      ]
     },
     "execution_count": 22,
     "metadata": {},
     "output_type": "execute_result"
    }
   ],
   "source": [
    "import scipy\n",
    "results = scipy.stats.bayes_mvs(numser.as_matrix(),alpha=.9)\n",
    "results"
   ]
  },
  {
   "cell_type": "code",
   "execution_count": 23,
   "metadata": {
    "collapsed": false,
    "slideshow": {
     "slide_type": "slide"
    }
   },
   "outputs": [],
   "source": [
    "from scipy.stats import t\n",
    "\n",
    "def SimulateSample(mu=numser.mean(), sigma=numser.std(), n = numser.shape[0], m=8000):\n",
    "    means = []\n",
    "    for j in range(m):\n",
    "        #xs = np.random.normal(mu, sigma, n)\n",
    "        #xs = np.random.standard_t(df=n-1,size=n)\n",
    "        xs = t.rvs(df=n-1,loc=mu,scale=sigma,size=n)\n",
    "        xbar = np.mean(xs)\n",
    "        means.append(xbar)\n",
    "\n",
    "    meansser = pd.Series(means)\n",
    "    meanscdf = meansser.value_counts(normalize=True).sort_index().cumsum()\n",
    "    ci = meansser.quantile(.05), meansser.quantile(.95)\n",
    "    print(ci)\n",
    "    stderr = RMSE(means, mu)\n",
    "    print(stderr)\n",
    "    return meansser, meanscdf"
   ]
  },
  {
   "cell_type": "code",
   "execution_count": 24,
   "metadata": {
    "collapsed": false,
    "slideshow": {
     "slide_type": "slide"
    }
   },
   "outputs": [
    {
     "name": "stdout",
     "output_type": "stream",
     "text": [
      "(-1.466632437063071, 1.7440391020832515)\n",
      "1.002706594950494\n"
     ]
    }
   ],
   "source": [
    "meansser, meanscdf = SimulateSample()"
   ]
  },
  {
   "cell_type": "markdown",
   "metadata": {
    "slideshow": {
     "slide_type": "slide"
    }
   },
   "source": [
    "In each iteration, we choose $n$ values from a normal distribution with the given parameters, and compute the sample mean, ```xbar```. We run 1000 simulations and then compute the distribution, ```meanscdf``` of the estimates. The result is shown on the next slide: This distribution is called the **sampling distribution** of the estimator. It shows how much the estimates would vary if we ran the experiment over and over."
   ]
  },
  {
   "cell_type": "code",
   "execution_count": 25,
   "metadata": {
    "collapsed": false,
    "slideshow": {
     "slide_type": "slide"
    }
   },
   "outputs": [
    {
     "data": {
      "image/png": "[encoded data removed]",
      "text/plain": [
       "<matplotlib.figure.Figure at 0xae04da0>"
      ]
     },
     "metadata": {},
     "output_type": "display_data"
    }
   ],
   "source": [
    "meanscdf.plot(drawstyle='step',title=\"sampling distribution\");"
   ]
  },
  {
   "cell_type": "markdown",
   "metadata": {
    "slideshow": {
     "slide_type": "slide"
    }
   },
   "source": [
    "The mean of the sampling distribution is pretty close to the hypothetical value of $\\mu$, which means that the experiment yields the right answer, on average. After 1000 tries, the lowest result is -0.2, and the highest is 0.6. This range suggests that the estimate might be off by as much as 4.5.\n",
    "\n",
    "There are two common ways to summarize the sampling distribution:\n",
    "\n",
    "* **Standard error** (SE) is a measure of how far we expect the estimate to be off, on average. For each simulated experiment, we comput the error, $\\bar{X} - \\mu$, and then compute the root mean squared error (RMSE). In this example, it is roughly .14\n",
    "* A **confidence interval** (CI) is a range that includes a given fraction of the sampling distribution. For example, the 90% confidence interval is the range from the 5th to the 95th percentile. In this example, the 90% is (-0.0753, 0.3856)"
   ]
  },
  {
   "cell_type": "markdown",
   "metadata": {
    "slideshow": {
     "slide_type": "slide"
    }
   },
   "source": [
    "standard errors and confidence intervals are the source of much confusion:\n",
    "\n",
    "* People often confuse standard error and standard deviation. Remember that standard deviation describes variability in a measured quantity; in this example, the standard deviation of gorilla weight is 7.5 kg. Standard error describes the variability in an estimate. In this example, the standard error of the mean, based on the sample of 9 measurements, is 2.44 kg. One way to remember the difference is that, as sample size increases, standard error gets smaller; standard deviation does not.\n",
    "* People often think that there is a 90% probability that the actual parameter,  $\\mu$, falls in the 90% confidence interval. Sadly, that is not true. If you want to make a claim like that, you have to use Bayesian methods. The sampling distribution answers a different question: it gives you a sense of how realiable an estimate is by telling you how much it would vary if you ran the experiment again.\n",
    "\n",
    "It is important to remember that confidence intervals and standard errors only quantify sampling error; that is, error due to measuring only part of the population"
   ]
  },
  {
   "cell_type": "markdown",
   "metadata": {
    "slideshow": {
     "slide_type": "slide"
    }
   },
   "source": [
    "## <font color='steelblue'>Exercise</font>\n",
    "\n",
    "Suppose you draw a sample with size $n = 10$ from a guassian distribution with $\\sigma=3$ and $\\mu=15$. Simulate this experiment 1000 times and plot the sampling distributoin of the estimate $\\bar{x}$, compute the standard error of the estimate and the 90% confidence interval.\n",
    "\n",
    "Repeat the experiment with a few different values of $n$ and make a plot of standard error versus $n$."
   ]
  },
  {
   "cell_type": "code",
   "execution_count": 26,
   "metadata": {
    "collapsed": true,
    "slideshow": {
     "slide_type": "slide"
    }
   },
   "outputs": [],
   "source": [
    "def exercise(n=10,m=1000):\n",
    "    sigma = 3\n",
    "    mu = 15\n",
    "    means = []\n",
    "    for _ in range(m):\n",
    "        xs = np.random.normal(mu, sigma, n)\n",
    "        xbar = np.mean(xs)\n",
    "        means.append(xbar)\n",
    "    stderr = RMSE(means, mu)\n",
    "    print(stderr)\n",
    "    meansser = pd.Series(means)\n",
    "    meanscdf = meansser.value_counts(normalize=True).sort_index().cumsum()\n",
    "    ci = meansser.quantile(0.05), meansser.quantile(.95)\n",
    "    print(ci)\n",
    "    meanscdf.plot(drawstyle='steps')"
   ]
  },
  {
   "cell_type": "code",
   "execution_count": 27,
   "metadata": {
    "collapsed": false,
    "slideshow": {
     "slide_type": "slide"
    }
   },
   "outputs": [
    {
     "name": "stdout",
     "output_type": "stream",
     "text": [
      "0.941051200766216\n",
      "(13.419161878990064, 16.488924328898165)\n"
     ]
    },
    {
     "data": {
      "image/png": "[encoded data removed]",
      "text/plain": [
       "<matplotlib.figure.Figure at 0xd48c5c0>"
      ]
     },
     "metadata": {},
     "output_type": "display_data"
    }
   ],
   "source": [
    "exercise()"
   ]
  },
  {
   "cell_type": "code",
   "execution_count": 28,
   "metadata": {
    "collapsed": true,
    "slideshow": {
     "slide_type": "slide"
    }
   },
   "outputs": [],
   "source": [
    "def exercise_again(n=10,m=1000):\n",
    "    sigma = 3\n",
    "    mu = 15\n",
    "    means = []\n",
    "    for _ in range(m):\n",
    "        xs = np.random.normal(mu, sigma, n)\n",
    "        xbar = np.mean(xs)\n",
    "        means.append(xbar)\n",
    "    stderr = RMSE(means, mu)\n",
    "    meansser = pd.Series(means)\n",
    "    meanscdf = meansser.value_counts(normalize=True).sort_index().cumsum()\n",
    "    ci = meansser.quantile(0.05), meansser.quantile(.95)\n",
    "    return n, stderr"
   ]
  },
  {
   "cell_type": "code",
   "execution_count": 29,
   "metadata": {
    "collapsed": true,
    "slideshow": {
     "slide_type": "slide"
    }
   },
   "outputs": [],
   "source": [
    "nlist = []\n",
    "stderrlist = []\n",
    "\n",
    "for k in range(10,1000):\n",
    "    n, stderr = exercise_again(n=k)\n",
    "    nlist.append(n)\n",
    "    stderrlist.append(stderr)\n",
    "    \n",
    "dfst = pd.DataFrame({'standard_error': stderrlist,\n",
    "                    'n': nlist})"
   ]
  },
  {
   "cell_type": "code",
   "execution_count": 30,
   "metadata": {
    "collapsed": false,
    "slideshow": {
     "slide_type": "slide"
    }
   },
   "outputs": [
    {
     "data": {
      "image/png": "[encoded data removed]",
      "text/plain": [
       "<matplotlib.figure.Figure at 0x13adbc18>"
      ]
     },
     "metadata": {},
     "output_type": "display_data"
    }
   ],
   "source": [
    "dfst.plot(x='n',y='standard_error',drawstyle='steps');"
   ]
  },
  {
   "cell_type": "markdown",
   "metadata": {
    "slideshow": {
     "slide_type": "slide"
    }
   },
   "source": [
    "## <font color='steelblue'>Detour: from the Cartoon Guide to Statistics</font>\n",
    "\n",
    "Let's replicate the analytic analysis about \"Senator Astute\", using these computational methods instead.\n",
    "We are trying to estimate the population probability $p$ based on the sample measurement $\\hat{p}$, the percentage of voters that are in favor of Senator Astute.\n",
    " \n",
    "The data is:\n",
    "\n",
    "* n = 1000\n",
    "* x = 550 \n",
    "* $\\hat{p} = .85$\n",
    "\n",
    "This is describing a binomial distribution. Go through the same exercise as above, but this time use a binomial distribution with\n",
    "\n",
    "* n = n\n",
    "* p = $\\hat{p}$\n",
    "\n",
    "Find the 95% confidence interval of our estimate for the poopulation parameter $p$:"
   ]
  },
  {
   "cell_type": "code",
   "execution_count": 31,
   "metadata": {
    "collapsed": true,
    "slideshow": {
     "slide_type": "slide"
    }
   },
   "outputs": [],
   "source": [
    "from scipy.stats import binom\n",
    "from scipy.stats import norm\n",
    "\n",
    "def SenatorAstute(level = .99, p = .55, n = 1000, m=8000):\n",
    "    xs = binom.rvs(n, p, size=m)/n\n",
    "    pser = pd.Series(xs)\n",
    "    low, high  = norm.interval(level)\n",
    "    pcdf = pser.value_counts(normalize=True).sort_index().cumsum()\n",
    "    ci = pser.quantile((1-level)/2), pser.quantile((1+level)/2)\n",
    "    print(\"confidence level: {} is the interval, {} is the ci\".format(level, ci))\n",
    "    stderr = RMSE(xs, p)\n",
    "    print(\"stderr: {}\".format(stderr))\n",
    "    bestestimatelow = p + low*stderr\n",
    "    bestestimatehigh = p + high*stderr\n",
    "    print(\"best estimate: {} to {}\".format(bestestimatelow, bestestimatehigh))\n",
    "    return pser, pcdf\n"
   ]
  },
  {
   "cell_type": "code",
   "execution_count": 32,
   "metadata": {
    "collapsed": false,
    "slideshow": {
     "slide_type": "slide"
    }
   },
   "outputs": [
    {
     "data": {
      "text/plain": [
       "(-2.5758293035489004, 2.5758293035489004)"
      ]
     },
     "execution_count": 32,
     "metadata": {},
     "output_type": "execute_result"
    }
   ],
   "source": [
    "from scipy.stats import norm\n",
    "\n",
    "norm.interval(.99)"
   ]
  },
  {
   "cell_type": "code",
   "execution_count": 33,
   "metadata": {
    "collapsed": false,
    "slideshow": {
     "slide_type": "slide"
    }
   },
   "outputs": [
    {
     "name": "stdout",
     "output_type": "stream",
     "text": [
      "confidence level: 0.99 is the interval, (0.50900000000000001, 0.59099999999999997) is the ci\n",
      "stderr: 0.015939291075828917\n",
      "best estimate: 0.5089431069690844 to 0.5910568930309157\n"
     ]
    }
   ],
   "source": [
    "pser, pcdf = SenatorAstute()"
   ]
  },
  {
   "cell_type": "markdown",
   "metadata": {
    "slideshow": {
     "slide_type": "slide"
    }
   },
   "source": [
    "## <font color='steelblue'>Chapter 9: Hypothesis testing</font>\n",
    "\n",
    "The code for this chapter is in ```hypothesis.py```\n",
    "\n",
    "### <font color='steelblue'>9.1 Classical hypothesis testing</font>\n",
    "\n",
    "Exploring the data from the NSFG, we saw several \"apparent effects,\" including differences between first babies and others. So far we have taken these effects at face value; in this chapter, we put them to the test.\n",
    "\n",
    "The fundamental question we want to address is whether the effects we see in a sample are likely to appear in the larger population. For example, in the NSFG sample we see a difference in mean pregnancy length for first babies and others. We would like to know if that effect reflects a real difference for women in the U.S., or if it might appear in the sample by chance.\n",
    "\n",
    "There are several ways we could formulate this question, including Fisher null hypothesis testing, Neyman-Pearson decision theory, and Bayesian inference. What I present here is a subset of all three that makes up most of what people use in practice, which I will call **classical hypothesis testing**.\n",
    "\n",
    "The goal of calssical hypothesis testing is to amswer the question, \"Given a sample and an apparent effect, what is the probability of seeing such an effect by chance?\""
   ]
  },
  {
   "cell_type": "markdown",
   "metadata": {
    "slideshow": {
     "slide_type": "slide"
    }
   },
   "source": [
    "Here's how we answer that question:\n",
    "\n",
    "* The first step is to quantify the size of the apparent effect by choosing a **test statistic**. In the NSFG example, the apparent effect is a difference in pregnancy length between first babies and others, so a natural choice for the test statistic is the difference in means between the two groups.\n",
    "* The second step is to define a **null hypothesis**, which is a model of the system based on the assumption that the apparent effect is not real. In the NSFG example the null hypothesis is that there is no difference between first babies and others; that is, that pregnancy lengths for both groups have the same distribution\n",
    "* The third step is to compute **p-value**, which is the probability of seeing the apparent effect if the null hypothesis is true. In the NSFG example, we would compute the acutal difference in means, then compute the probabilty of seeing a difference as big, or bigger, under the null hypothesis.\n",
    "* the last step is to interpret the result. If the p-value is low, the effect is said to be **statistically significant**, which means that it is unlikely to have occurred by chance. In that case we infer that the effect is more likely to appear in the larger population.\n"
   ]
  },
  {
   "cell_type": "markdown",
   "metadata": {
    "slideshow": {
     "slide_type": "slide"
    }
   },
   "source": [
    "The logic of this process is similar to a proof by contradiction. To prove a mathematical statement, A, you assume temporarily that A is false. If that assumption leads to a controdiction, you conclude that A must actually be true.\n",
    "\n",
    "\n",
    "Similarly, to test a hypothesis like, \"The effect is real,\" we assume, temporarily, that it is not. That's the null hypothesis. Based on that assumption, we compute the probability of the apparent effect. That's the p-value. If the p-value is low, we conclude that the null hypothesis is unlikely to be true."
   ]
  },
  {
   "cell_type": "markdown",
   "metadata": {
    "slideshow": {
     "slide_type": "slide"
    }
   },
   "source": [
    "A coin is tossed 250 times and we see 140 heads (successes) and 110 tails (fails).\n",
    "\n",
    "Is there enough evidence to state that the coin is not a **fair** coin?\n",
    "\n",
    "Binomial distribution with $p=.5$ is the null hypothesis."
   ]
  },
  {
   "cell_type": "code",
   "execution_count": 34,
   "metadata": {
    "collapsed": false,
    "slideshow": {
     "slide_type": "slide"
    }
   },
   "outputs": [
    {
     "name": "stdout",
     "output_type": "stream",
     "text": [
      "0.975146606105\n",
      "0.0248533938951\n"
     ]
    }
   ],
   "source": [
    "from scipy.stats import binom\n",
    "n, p = 250, .5\n",
    "rv = binom(n, p)\n",
    "\n",
    "print(rv.cdf(140))\n",
    "print(rv.sf(140))"
   ]
  },
  {
   "cell_type": "code",
   "execution_count": 35,
   "metadata": {
    "collapsed": false,
    "slideshow": {
     "slide_type": "slide"
    }
   },
   "outputs": [
    {
     "data": {
      "text/plain": [
       "0.058063969515125088"
      ]
     },
     "execution_count": 35,
     "metadata": {},
     "output_type": "execute_result"
    }
   ],
   "source": [
    "(rv.cdf(250) - rv.cdf(140)) + (rv.cdf(110))"
   ]
  },
  {
   "cell_type": "code",
   "execution_count": 36,
   "metadata": {
    "collapsed": true,
    "slideshow": {
     "slide_type": "slide"
    }
   },
   "outputs": [],
   "source": [
    "def RunModel(n=250, m=10000):\n",
    "    headslist = []\n",
    "    for _ in range(m):\n",
    "        sample = [random.choice([0,1]) for _ in range(n)]\n",
    "        heads = np.sum(sample)\n",
    "        headslist.append(heads)\n",
    "    headser = pd.Series(headslist)\n",
    "    headscdf = headser.value_counts(normalize=True).sort_index().cumsum()\n",
    "    headscdf.plot(drawstyle='steps')\n",
    "    return headscdf"
   ]
  },
  {
   "cell_type": "code",
   "execution_count": 37,
   "metadata": {
    "collapsed": false,
    "slideshow": {
     "slide_type": "slide"
    }
   },
   "outputs": [
    {
     "data": {
      "text/plain": [
       "0.058999999999999914"
      ]
     },
     "execution_count": 37,
     "metadata": {},
     "output_type": "execute_result"
    },
    {
     "data": {
      "image/png": "[encoded data removed]",
      "text/plain": [
       "<matplotlib.figure.Figure at 0xadf3a90>"
      ]
     },
     "metadata": {},
     "output_type": "display_data"
    }
   ],
   "source": [
    "headscdf = RunModel()\n",
    "1. - headscdf.loc[140] + headscdf.loc[110]"
   ]
  },
  {
   "cell_type": "markdown",
   "metadata": {
    "slideshow": {
     "slide_type": "slide"
    }
   },
   "source": [
    "How should we interpret this result? By convention, 5% is the threshold of statistical significance. If the p-value is less than 5%, the effect is considered significant; otherwise it is not.\n",
    "\n",
    "But the choice of 5% is arbitrary, and (as we will see later) the p-value depends on the choice of the test statistics and the model of the null hypothesis. So p-values should not be considered precise measurements.\n",
    "\n",
    "I recommend interpreting p-values according to their order of magnitude: if the p-value is less than 1%, the effect is unlikely to be due to chance; if it is greater than 10%, the effect can plausibly be explained by chance. P-values between 1% and 10% should be considered borderline. So in this example I conclude that the data do not provide strong evidence that the coin is biased or not."
   ]
  },
  {
   "cell_type": "code",
   "execution_count": 38,
   "metadata": {
    "collapsed": false,
    "slideshow": {
     "slide_type": "slide"
    }
   },
   "outputs": [
    {
     "name": "stdout",
     "output_type": "stream",
     "text": [
      "confidence level: 0.99 is the interval, (0.47999999999999998, 0.64000000000000001) is the ci\n",
      "stderr: 0.03130099039966625\n",
      "best estimate: 0.4793739916984369 to 0.6406260083015631\n"
     ]
    }
   ],
   "source": [
    "psercoin, pcdfcoin = SenatorAstute(p=140/250, n = 250)"
   ]
  },
  {
   "cell_type": "code",
   "execution_count": 39,
   "metadata": {
    "collapsed": false,
    "slideshow": {
     "slide_type": "slide"
    }
   },
   "outputs": [
    {
     "name": "stdout",
     "output_type": "stream",
     "text": [
      "confidence level: 0.95 is the interval, (0.5, 0.62) is the ci\n",
      "stderr: 0.03129709251671789\n",
      "best estimate: 0.49865882584641497 to 0.6213411741535851\n"
     ]
    }
   ],
   "source": [
    "psercoin, pcdfcoin = SenatorAstute(level=.95,p=140/250, n = 250)"
   ]
  },
  {
   "cell_type": "markdown",
   "metadata": {
    "slideshow": {
     "slide_type": "slide"
    }
   },
   "source": [
    "## <font color='steelblue'>Testing a difference in means</font>\n",
    "\n",
    "For these examples, the null hypothesis is that the distributions for the two groups are the same. One way to model the null hypothesis is by **permutation**; that is, we can take values for first babies and others and shuffle them, treating the two groups as one big group:"
   ]
  },
  {
   "cell_type": "code",
   "execution_count": 40,
   "metadata": {
    "collapsed": false,
    "slideshow": {
     "slide_type": "slide"
    }
   },
   "outputs": [
    {
     "name": "stdout",
     "output_type": "stream",
     "text": [
      "(4413,) (4735,) (9148,)\n",
      "4413\n"
     ]
    }
   ],
   "source": [
    "firstsbabylengths = firsts.prglngth.dropna().as_matrix()\n",
    "othersbabylengths = others.prglngth.dropna().as_matrix()\n",
    "\n",
    "pooledlengths = np.hstack((firstsbabylengths, othersbabylengths))\n",
    "\n",
    "print(firstsbabylengths.shape, othersbabylengths.shape, pooledlengths.shape)\n",
    "\n",
    "n = firstsbabylengths.shape[0]\n",
    "\n",
    "print(n)"
   ]
  },
  {
   "cell_type": "code",
   "execution_count": 41,
   "metadata": {
    "collapsed": true,
    "slideshow": {
     "slide_type": "slide"
    }
   },
   "outputs": [],
   "source": [
    "def runpool(one, two, m = 1000):\n",
    "    difflist = []\n",
    "    pool = np.hstack((one, two))\n",
    "    n = one.shape[0]\n",
    "    for _ in range(m):\n",
    "        np.random.shuffle(pool)\n",
    "        new_one, new_two = pool[:n], pool[n:]\n",
    "        difference = np.abs(new_one.mean() - new_two.mean())\n",
    "        difflist.append(difference)\n",
    "    diffser = pd.Series(difflist)\n",
    "    diffcdf = diffser.value_counts(normalize=True).sort_index().cumsum()\n",
    "    return diffcdf"
   ]
  },
  {
   "cell_type": "code",
   "execution_count": 42,
   "metadata": {
    "collapsed": false,
    "slideshow": {
     "slide_type": "slide"
    }
   },
   "outputs": [
    {
     "data": {
      "image/png": "[encoded data removed]",
      "text/plain": [
       "<matplotlib.figure.Figure at 0xd1b7518>"
      ]
     },
     "metadata": {},
     "output_type": "display_data"
    }
   ],
   "source": [
    "diffcdf = runpool(firstsbabylengths, othersbabylengths)\n",
    "diffcdf.plot(drawstyle='steps');"
   ]
  },
  {
   "cell_type": "code",
   "execution_count": 43,
   "metadata": {
    "collapsed": false,
    "slideshow": {
     "slide_type": "slide"
    }
   },
   "outputs": [
    {
     "data": {
      "text/plain": [
       "0.078037266777549519"
      ]
     },
     "execution_count": 43,
     "metadata": {},
     "output_type": "execute_result"
    }
   ],
   "source": [
    "firstsbabylengths.mean() - othersbabylengths.mean()"
   ]
  },
  {
   "cell_type": "code",
   "execution_count": 44,
   "metadata": {
    "collapsed": false,
    "slideshow": {
     "slide_type": "fragment"
    }
   },
   "outputs": [
    {
     "data": {
      "text/plain": [
       "0.17699999999999938"
      ]
     },
     "execution_count": 44,
     "metadata": {},
     "output_type": "execute_result"
    }
   ],
   "source": [
    "1.-diffcdf.loc[.0780:].iloc[0]"
   ]
  },
  {
   "cell_type": "markdown",
   "metadata": {
    "slideshow": {
     "slide_type": "fragment"
    }
   },
   "source": [
    "The p-value is about 0.17, which means that we expect to see a difference as big as the observed effect about 17% of the time. So this effect is not statistically significant."
   ]
  },
  {
   "cell_type": "markdown",
   "metadata": {
    "slideshow": {
     "slide_type": "slide"
    }
   },
   "source": [
    "## <font color='steelblue'>Run the same analysis with birthweight</font>"
   ]
  },
  {
   "cell_type": "code",
   "execution_count": 45,
   "metadata": {
    "collapsed": false,
    "slideshow": {
     "slide_type": "fragment"
    }
   },
   "outputs": [
    {
     "name": "stdout",
     "output_type": "stream",
     "text": [
      "-0.124761184535\n"
     ]
    }
   ],
   "source": [
    "firsts_weights = firsts.totalwgt_lb.dropna().as_matrix()\n",
    "others_weights =  others.totalwgt_lb.dropna().as_matrix()\n",
    "\n",
    "print(firsts_weights.mean() - others_weights.mean())"
   ]
  },
  {
   "cell_type": "code",
   "execution_count": 46,
   "metadata": {
    "collapsed": false,
    "slideshow": {
     "slide_type": "slide"
    }
   },
   "outputs": [
    {
     "data": {
      "image/png": "[encoded data removed]",
      "text/plain": [
       "<matplotlib.figure.Figure at 0xad8ec50>"
      ]
     },
     "metadata": {},
     "output_type": "display_data"
    }
   ],
   "source": [
    "diffweightscdf = runpool(firsts_weights, others_weights)\n",
    "diffweightscdf.plot(drawstyle='steps');"
   ]
  },
  {
   "cell_type": "markdown",
   "metadata": {
    "slideshow": {
     "slide_type": "slide"
    }
   },
   "source": [
    "If we run the same analysis with birth weight, the computed p-value is 0; after 1000 attemps, the simulation never yields an effect as big as the observed difference, 0.12 lbs. So we would report $p < 0.001$, and conclude that hte difference in birth weight is statistically significant."
   ]
  },
  {
   "cell_type": "markdown",
   "metadata": {
    "slideshow": {
     "slide_type": "slide"
    }
   },
   "source": [
    "## <font color='steelblue'>Other test statistics</font>\n",
    "\n",
    "Choosing the best test statistic depends on what question you are trying to address. For example, if the relevant quesotion is whether pregnancy lengths are different for first babies, then it makes sense to test the absolute difference in means, as we did in the previous section.\n",
    "\n",
    "If we had reason to think that first babies are likely to be late, then we would not take the absolute value of the difference; instead we would use this test statistic:\n",
    "\n",
    "```\n",
    "test_stat = group1.mean() - group2.mean()\n",
    "```\n",
    "\n",
    "This kind of test is called **one-sided** because it only counts one side of the distribution of differences. The prevous test, using both sides, is **two-sided**."
   ]
  },
  {
   "cell_type": "code",
   "execution_count": 47,
   "metadata": {
    "collapsed": true,
    "slideshow": {
     "slide_type": "slide"
    }
   },
   "outputs": [],
   "source": [
    "def runpool_onesided(one, two, m = 1000):\n",
    "    difflist = []\n",
    "    pool = np.hstack((one, two))\n",
    "    n = one.shape[0]\n",
    "    for _ in range(m):\n",
    "        np.random.shuffle(pool)\n",
    "        new_one, new_two = pool[:n], pool[n:]\n",
    "        difference = new_one.mean() - new_two.mean()\n",
    "        difflist.append(difference)\n",
    "    diffser = pd.Series(difflist)\n",
    "    diffcdf = diffser.value_counts(normalize=True).sort_index().cumsum()\n",
    "    return diffcdf"
   ]
  },
  {
   "cell_type": "code",
   "execution_count": 48,
   "metadata": {
    "collapsed": false,
    "slideshow": {
     "slide_type": "slide"
    }
   },
   "outputs": [
    {
     "data": {
      "image/png": "[encoded data removed]",
      "text/plain": [
       "<matplotlib.figure.Figure at 0x13ad6198>"
      ]
     },
     "metadata": {},
     "output_type": "display_data"
    }
   ],
   "source": [
    "diffcdf = runpool_onesided(firstsbabylengths, othersbabylengths)\n",
    "diffcdf.plot(drawstyle='steps');"
   ]
  },
  {
   "cell_type": "code",
   "execution_count": 49,
   "metadata": {
    "collapsed": false,
    "slideshow": {
     "slide_type": "slide"
    }
   },
   "outputs": [
    {
     "data": {
      "text/plain": [
       "0.080999999999999295"
      ]
     },
     "execution_count": 49,
     "metadata": {},
     "output_type": "execute_result"
    }
   ],
   "source": [
    "1.-diffcdf.loc[.0780:].iloc[0]"
   ]
  },
  {
   "cell_type": "markdown",
   "metadata": {
    "slideshow": {
     "slide_type": "slide"
    }
   },
   "source": [
    "For this version of the test, the p-value is 0.0819. In general the p-value for a one-sided test is about half the p-value for a two-sided test, depending on the shape of the distribution.\n",
    "\n",
    "The one-sided hypothesis, that first babies are born late, is more specific than the two-sided hypothesis, so the p-value is smaller. But even for the stronger hypothesis, the difference is not statistically significant.\n",
    "\n",
    "We can use the same framework to test for a difference in standard deviation. We earlier saw some evidence that first babies are more likely to be early or late, and less likely to be on time. So we might hypothesize that the standard deviation is higher."
   ]
  },
  {
   "cell_type": "code",
   "execution_count": 50,
   "metadata": {
    "collapsed": true,
    "slideshow": {
     "slide_type": "slide"
    }
   },
   "outputs": [],
   "source": [
    "def runpool_onesided_std(one, two, m = 1000):\n",
    "    difflist = []\n",
    "    pool = np.hstack((one, two))\n",
    "    n = one.shape[0]\n",
    "    for _ in range(m):\n",
    "        np.random.shuffle(pool)\n",
    "        new_one, new_two = pool[:n], pool[n:]\n",
    "        difference = new_one.std() - new_two.std()\n",
    "        difflist.append(difference)\n",
    "    diffser = pd.Series(difflist)\n",
    "    diffcdf = diffser.value_counts(normalize=True).sort_index().cumsum()\n",
    "    return diffcdf"
   ]
  },
  {
   "cell_type": "code",
   "execution_count": 51,
   "metadata": {
    "collapsed": false,
    "slideshow": {
     "slide_type": "slide"
    }
   },
   "outputs": [
    {
     "data": {
      "image/png": "[encoded data removed]",
      "text/plain": [
       "<matplotlib.figure.Figure at 0x92bd278>"
      ]
     },
     "metadata": {},
     "output_type": "display_data"
    }
   ],
   "source": [
    "diffcdf = runpool_onesided_std(firstsbabylengths, othersbabylengths)\n",
    "diffcdf.plot(drawstyle='steps');"
   ]
  },
  {
   "cell_type": "code",
   "execution_count": 52,
   "metadata": {
    "collapsed": false,
    "slideshow": {
     "slide_type": "slide"
    }
   },
   "outputs": [
    {
     "data": {
      "text/plain": [
       "0.17600895913991677"
      ]
     },
     "execution_count": 52,
     "metadata": {},
     "output_type": "execute_result"
    }
   ],
   "source": [
    "firstsbabylengths.std() - othersbabylengths.std()"
   ]
  },
  {
   "cell_type": "code",
   "execution_count": 53,
   "metadata": {
    "collapsed": false,
    "slideshow": {
     "slide_type": "fragment"
    }
   },
   "outputs": [
    {
     "data": {
      "text/plain": [
       "0.084999999999999298"
      ]
     },
     "execution_count": 53,
     "metadata": {},
     "output_type": "execute_result"
    }
   ],
   "source": [
    "1.-diffcdf.loc[.176:].iloc[0]"
   ]
  },
  {
   "cell_type": "markdown",
   "metadata": {
    "slideshow": {
     "slide_type": "fragment"
    }
   },
   "source": [
    "This is a one-sided test because the hypothesis is that the standard deviation for first babies is higher, not just different. The p-value is 0.063, which is not statistically significant."
   ]
  },
  {
   "cell_type": "markdown",
   "metadata": {
    "slideshow": {
     "slide_type": "fragment"
    }
   },
   "source": [
    "In general a negative hypothesis test does not imply that there is no difference between the groups; instead it suggests that if there is a difference, it is too small to detect with this sample size."
   ]
  },
  {
   "cell_type": "code",
   "execution_count": 54,
   "metadata": {
    "collapsed": false,
    "slideshow": {
     "slide_type": "slide"
    }
   },
   "outputs": [
    {
     "name": "stdout",
     "output_type": "stream",
     "text": [
      "confidence level: 0.95 is the interval, (0.80987394957983194, 0.8263305322128851) is the ci\n",
      "stderr: 0.004161157614275519\n",
      "best estimate: 0.8099942809420254 to 0.8263057190579747\n"
     ]
    }
   ],
   "source": [
    "psertreatment, pcdftreatment = SenatorAstute(level=.95,p=.81815, n = 8568)"
   ]
  },
  {
   "cell_type": "code",
   "execution_count": 55,
   "metadata": {
    "collapsed": false,
    "slideshow": {
     "slide_type": "slide"
    }
   },
   "outputs": [
    {
     "name": "stdout",
     "output_type": "stream",
     "text": [
      "confidence level: 0.95 is the interval, (0.78851540616246496, 0.80543884220354811) is the ci\n",
      "stderr: 0.004299435548163765\n",
      "best estimate: 0.7885732611717479 to 0.8054267388282522\n"
     ]
    }
   ],
   "source": [
    "psercontrol, pcdfcontrol = SenatorAstute(level=.95,p=.797, n = 8568)"
   ]
  },
  {
   "cell_type": "code",
   "execution_count": 56,
   "metadata": {
    "collapsed": true,
    "slideshow": {
     "slide_type": "slide"
    }
   },
   "outputs": [],
   "source": [
    "transactions = pd.read_csv('mj-clean.csv', parse_dates=[5])"
   ]
  },
  {
   "cell_type": "code",
   "execution_count": 57,
   "metadata": {
    "collapsed": true,
    "slideshow": {
     "slide_type": "slide"
    }
   },
   "outputs": [],
   "source": [
    "preg = nsfg.ReadFemPreg()\n",
    "complete = preg.query('outcome in [1,3,4]').prglngth\n",
    "completecdf = complete.value_counts(normalize=True).sort_index().cumsum()"
   ]
  },
  {
   "cell_type": "code",
   "execution_count": 58,
   "metadata": {
    "collapsed": false,
    "slideshow": {
     "slide_type": "slide"
    }
   },
   "outputs": [
    {
     "data": {
      "image/png": "[encoded data removed]",
      "text/plain": [
       "<matplotlib.figure.Figure at 0xd372cf8>"
      ]
     },
     "metadata": {},
     "output_type": "display_data"
    }
   ],
   "source": [
    "ax = completecdf.plot(drawstyle='steps',label='cdf')\n",
    "surv = 1 - completecdf\n",
    "surv.plot(drawstyle='steps',ax=ax,label='survival')\n",
    "plt.legend();"
   ]
  },
  {
   "cell_type": "code",
   "execution_count": 59,
   "metadata": {
    "collapsed": false,
    "slideshow": {
     "slide_type": "slide"
    }
   },
   "outputs": [
    {
     "name": "stdout",
     "output_type": "stream",
     "text": [
      "0.86021985879\n",
      "0.13978014121\n"
     ]
    }
   ],
   "source": [
    "print(surv[13])\n",
    "print(completecdf[13])"
   ]
  },
  {
   "cell_type": "markdown",
   "metadata": {
    "slideshow": {
     "slide_type": "slide"
    }
   },
   "source": [
    "## <font color='steelblue'>Hazard function</font>\n",
    "\n",
    "From the survival curve we can derive the **hazard function**; for pregnancy lengths, the hazard function maps from a time, t, to the fraction of pregnancies that continue until t and then end at t. To be more precise:\n",
    "\n",
    "$\n",
    "\\lambda(t) = \\frac{S(t) - S(t+1)}{S(t)}\n",
    "$\n",
    "\n",
    "The numerator is the fraction of lifetimes that end at t, which is also PMF(t)."
   ]
  },
  {
   "cell_type": "code",
   "execution_count": 60,
   "metadata": {
    "collapsed": false,
    "slideshow": {
     "slide_type": "slide"
    }
   },
   "outputs": [
    {
     "data": {
      "text/plain": [
       "<matplotlib.text.Text at 0xd4146a0>"
      ]
     },
     "execution_count": 60,
     "metadata": {},
     "output_type": "execute_result"
    },
    {
     "data": {
      "image/png": "[encoded data removed]",
      "text/plain": [
       "<matplotlib.figure.Figure at 0xe5b4198>"
      ]
     },
     "metadata": {},
     "output_type": "display_data"
    }
   ],
   "source": [
    "hazard = surv.diff(-1)/surv\n",
    "hazard.plot();\n",
    "plt.xlabel('t (weeks)')"
   ]
  },
  {
   "cell_type": "code",
   "execution_count": 61,
   "metadata": {
    "collapsed": false,
    "slideshow": {
     "slide_type": "slide"
    }
   },
   "outputs": [
    {
     "data": {
      "text/plain": [
       "0    0.000358\n",
       "1    0.004024\n",
       "2    0.006555\n",
       "3    0.016269\n",
       "4    0.006799\n",
       "Name: prglngth, dtype: float64"
      ]
     },
     "execution_count": 61,
     "metadata": {},
     "output_type": "execute_result"
    }
   ],
   "source": [
    "hazard.head()"
   ]
  },
  {
   "cell_type": "code",
   "execution_count": 62,
   "metadata": {
    "collapsed": false,
    "slideshow": {
     "slide_type": "slide"
    }
   },
   "outputs": [
    {
     "data": {
      "text/plain": [
       "0    0.999732\n",
       "1    0.999374\n",
       "2    0.995353\n",
       "3    0.988828\n",
       "4    0.972741\n",
       "Name: prglngth, dtype: float64"
      ]
     },
     "execution_count": 62,
     "metadata": {},
     "output_type": "execute_result"
    }
   ],
   "source": [
    "surv.head()"
   ]
  },
  {
   "cell_type": "code",
   "execution_count": 63,
   "metadata": {
    "collapsed": false,
    "slideshow": {
     "slide_type": "slide"
    }
   },
   "outputs": [
    {
     "data": {
      "text/plain": [
       "0.49689440993788797"
      ]
     },
     "execution_count": 63,
     "metadata": {},
     "output_type": "execute_result"
    }
   ],
   "source": [
    "hazard[39]"
   ]
  },
  {
   "cell_type": "markdown",
   "metadata": {
    "slideshow": {
     "slide_type": "slide"
    }
   },
   "source": [
    "So of all pregnancies that proceed until week 39, about 50% end in week 39.\n",
    "\n",
    "The hazard function is useful in its own right, but it is also animportant tool for estimating survival curves, as we'll see in the next section."
   ]
  },
  {
   "cell_type": "markdown",
   "metadata": {
    "slideshow": {
     "slide_type": "slide"
    }
   },
   "source": [
    "## <font color='steelblue'>Inferring survival curves</font>\n",
    "\n",
    "If someone gives you the CDF of lifetimes, it is easy to compute the survival and hazard functions. But in many real-world scenarios, we can’t measure the distribution of lifetimes directly. We have to infer it.\n",
    "For example, suppose you are following a group of patients to see how long they survive after diagnosis. Not all patients are diagnosed on the same day, so at any point in time, some patients have survived longer than others. If some patients have died, we know their survival times. For patients who are still alive, we don’t know survival times, but we have a lower bound.\n",
    "\n",
    "If we wait until all patients are dead, we can compute the survival curve, but if we are evaluating the effectiveness of a new treatment, we can’t wait that long! We need a way to estimate survival curves using incomplete information."
   ]
  },
  {
   "cell_type": "markdown",
   "metadata": {
    "slideshow": {
     "slide_type": "slide"
    }
   },
   "source": [
    "As a more cheerful example, I will use NSFG data to quantify how long respondents “survive” until they get married for the first time. The range of respondents’ ages is 14 to 44 years, so the dataset provides a snapshot of women at different stages in their lives.\n",
    "\n",
    "For women who have been married, the dataset includes the date of their first marriage and their age at the time. For women who have not been married, we know their age when interviewed, but have no way of knowing when or if they will get married."
   ]
  },
  {
   "cell_type": "markdown",
   "metadata": {
    "collapsed": true,
    "slideshow": {
     "slide_type": "slide"
    }
   },
   "source": [
    "SciPy also has most of the best-known statistical tests and procedures - t-tests (```ttest_1samp``` for one group of scores, ```ttest_ind``` for two independent samples of scores, or ```ttest_rel``` for two related samples of scores), Kolmogorov-Smirnov tests for goodness of fit (```kstest, ks_2samp```) one-way Chi-square test (```chisquare```) , and many more.\n",
    "\n",
    "Let us illustrate some of the routines of this module with a textbook example, based on Timothy Sturm's studies on control design."
   ]
  },
  {
   "cell_type": "markdown",
   "metadata": {
    "slideshow": {
     "slide_type": "slide"
    }
   },
   "source": [
    "Twenty-five right-handed individuals were asked to use their right hands to turn a knob that moved an indicator by screw action. There were two identical instruments, one with a right-handed thread where the knob turned clockwise, and the other with a left-handed thread where the knob turned counter-clockwise. The following table gives the times in seconds each subject took to move the indicator a fixed distance."
   ]
  },
  {
   "cell_type": "code",
   "execution_count": 67,
   "metadata": {
    "collapsed": true,
    "slideshow": {
     "slide_type": "slide"
    }
   },
   "outputs": [],
   "source": [
    "right_thread = [113, 105, 130, 101, 138, 118, 87, 116, 75, 96, \n",
    "               122, 103, 116, 107, 118, 103, 111, 104, 111, 89, \n",
    "               78, 100, 89, 85, 88]\n",
    "\n",
    "left_thread = [137, 105, 133, 108, 115, 170, 103, 145, 78, 107,\n",
    "              84, 148, 147, 87, 166, 146, 123, 135, 112, 93,\n",
    "              76, 116, 78, 101, 123]\n",
    "\n",
    "dfthread = pd.DataFrame({'right': right_thread,\n",
    "                        'left': left_thread})\n",
    "\n",
    "dfthread['difference'] = dfthread.left - dfthread.right"
   ]
  },
  {
   "cell_type": "code",
   "execution_count": 69,
   "metadata": {
    "collapsed": false,
    "slideshow": {
     "slide_type": "slide"
    }
   },
   "outputs": [
    {
     "data": {
      "text/html": [
       "<div>\n",
       "<table border=\"1\" class=\"dataframe\">\n",
       "  <thead>\n",
       "    <tr style=\"text-align: right;\">\n",
       "      <th></th>\n",
       "      <th>left</th>\n",
       "      <th>right</th>\n",
       "      <th>difference</th>\n",
       "    </tr>\n",
       "  </thead>\n",
       "  <tbody>\n",
       "    <tr>\n",
       "      <th>count</th>\n",
       "      <td>25.000000</td>\n",
       "      <td>25.000000</td>\n",
       "      <td>25.000000</td>\n",
       "    </tr>\n",
       "    <tr>\n",
       "      <th>mean</th>\n",
       "      <td>117.440000</td>\n",
       "      <td>104.120000</td>\n",
       "      <td>13.320000</td>\n",
       "    </tr>\n",
       "    <tr>\n",
       "      <th>std</th>\n",
       "      <td>27.262734</td>\n",
       "      <td>15.796413</td>\n",
       "      <td>22.935998</td>\n",
       "    </tr>\n",
       "    <tr>\n",
       "      <th>min</th>\n",
       "      <td>76.000000</td>\n",
       "      <td>75.000000</td>\n",
       "      <td>-38.000000</td>\n",
       "    </tr>\n",
       "    <tr>\n",
       "      <th>25%</th>\n",
       "      <td>101.000000</td>\n",
       "      <td>89.000000</td>\n",
       "      <td>1.000000</td>\n",
       "    </tr>\n",
       "    <tr>\n",
       "      <th>50%</th>\n",
       "      <td>115.000000</td>\n",
       "      <td>104.000000</td>\n",
       "      <td>12.000000</td>\n",
       "    </tr>\n",
       "    <tr>\n",
       "      <th>75%</th>\n",
       "      <td>137.000000</td>\n",
       "      <td>116.000000</td>\n",
       "      <td>31.000000</td>\n",
       "    </tr>\n",
       "    <tr>\n",
       "      <th>max</th>\n",
       "      <td>170.000000</td>\n",
       "      <td>138.000000</td>\n",
       "      <td>52.000000</td>\n",
       "    </tr>\n",
       "  </tbody>\n",
       "</table>\n",
       "</div>"
      ],
      "text/plain": [
       "             left       right  difference\n",
       "count   25.000000   25.000000   25.000000\n",
       "mean   117.440000  104.120000   13.320000\n",
       "std     27.262734   15.796413   22.935998\n",
       "min     76.000000   75.000000  -38.000000\n",
       "25%    101.000000   89.000000    1.000000\n",
       "50%    115.000000  104.000000   12.000000\n",
       "75%    137.000000  116.000000   31.000000\n",
       "max    170.000000  138.000000   52.000000"
      ]
     },
     "execution_count": 69,
     "metadata": {},
     "output_type": "execute_result"
    }
   ],
   "source": [
    "dfthread.describe()"
   ]
  },
  {
   "cell_type": "code",
   "execution_count": 91,
   "metadata": {
    "collapsed": false,
    "slideshow": {
     "slide_type": "slide"
    }
   },
   "outputs": [
    {
     "data": {
      "text/plain": [
       "(Mean(statistic=13.32, minmax=(3.8524853819570737, 22.787514618042927)),\n",
       " Variance(statistic=573.88363636363636, minmax=(320.73506998442252, 1018.0862080228702)),\n",
       " Std_dev(statistic=23.685276086957323, minmax=(17.909077865273314, 31.907463202562344)))"
      ]
     },
     "execution_count": 91,
     "metadata": {},
     "output_type": "execute_result"
    }
   ],
   "source": [
    "results = stats.bayes_mvs(dfthread.difference.as_matrix(), alpha=.95)\n",
    "results"
   ]
  },
  {
   "cell_type": "markdown",
   "metadata": {
    "slideshow": {
     "slide_type": "slide"
    }
   },
   "source": [
    "So we have $3.852 \\leq \\mu_{d} \\leq 22.78$ with 95% confidence, good evidence that left handed screws are a pain in the ass."
   ]
  },
  {
   "cell_type": "code",
   "execution_count": 92,
   "metadata": {
    "collapsed": false
   },
   "outputs": [
    {
     "data": {
      "text/plain": [
       "Ttest_relResult(statistic=2.903732389120731, pvalue=0.0077915104549380427)"
      ]
     },
     "execution_count": 92,
     "metadata": {},
     "output_type": "execute_result"
    }
   ],
   "source": [
    "stats.ttest_rel(a = dfthread.left.as_matrix(),\n",
    "               b = dfthread.right.as_matrix())"
   ]
  },
  {
   "cell_type": "code",
   "execution_count": 72,
   "metadata": {
    "collapsed": false,
    "slideshow": {
     "slide_type": "slide"
    }
   },
   "outputs": [
    {
     "name": "stdout",
     "output_type": "stream",
     "text": [
      "2.90373238912 0.00779151045494\n"
     ]
    }
   ],
   "source": [
    "from scipy.stats import ttest_1samp\n",
    "t_stat, p_value = ttest_1samp(dfthread.difference.as_matrix(),popmean=0)\n",
    "print(t_stat, p_value)"
   ]
  },
  {
   "cell_type": "code",
   "execution_count": 79,
   "metadata": {
    "collapsed": true,
    "slideshow": {
     "slide_type": "slide"
    }
   },
   "outputs": [],
   "source": [
    "def runpoolagain_paired(one, two, m = 5000):\n",
    "    difflist = []\n",
    "    pool = np.hstack((one, two))\n",
    "    n = one.shape[0]\n",
    "    for _ in range(m):\n",
    "        np.random.shuffle(pool)\n",
    "        new_one, new_two = pool[:n], pool[n:]\n",
    "        difference = new_one - new_two\n",
    "        difflist.append(difference.mean())\n",
    "    diffser = pd.Series(difflist)\n",
    "    diffcdf = diffser.value_counts(normalize=True).sort_index().cumsum()\n",
    "    return diffcdf"
   ]
  },
  {
   "cell_type": "code",
   "execution_count": 80,
   "metadata": {
    "collapsed": false,
    "slideshow": {
     "slide_type": "slide"
    }
   },
   "outputs": [
    {
     "data": {
      "text/plain": [
       "<matplotlib.axes._subplots.AxesSubplot at 0xd4684a8>"
      ]
     },
     "execution_count": 80,
     "metadata": {},
     "output_type": "execute_result"
    },
    {
     "data": {
      "image/png": "[encoded data removed]",
      "text/plain": [
       "<matplotlib.figure.Figure at 0x10dce4a8>"
      ]
     },
     "metadata": {},
     "output_type": "display_data"
    }
   ],
   "source": [
    "diffcdf = runpoolagain(dfthread.left.as_matrix(), dfthread.right.as_matrix(), m=1000)\n",
    "diffcdf.plot(drawstyle='steps')"
   ]
  },
  {
   "cell_type": "code",
   "execution_count": 81,
   "metadata": {
    "collapsed": false,
    "slideshow": {
     "slide_type": "slide"
    }
   },
   "outputs": [
    {
     "data": {
      "text/plain": [
       "0.04199999999999926"
      ]
     },
     "execution_count": 81,
     "metadata": {},
     "output_type": "execute_result"
    }
   ],
   "source": [
    "1.-diffcdf.loc[13.32:].iloc[0]"
   ]
  },
  {
   "cell_type": "code",
   "execution_count": 82,
   "metadata": {
    "collapsed": false,
    "slideshow": {
     "slide_type": "slide"
    }
   },
   "outputs": [
    {
     "data": {
      "text/plain": [
       "Ttest_relResult(statistic=2.903732389120731, pvalue=0.0077915104549380427)"
      ]
     },
     "execution_count": 82,
     "metadata": {},
     "output_type": "execute_result"
    }
   ],
   "source": [
    "import scipy.stats as stats\n",
    "stats.ttest_rel(a = dfthread.left.as_matrix(),\n",
    "               b = dfthread.right.as_matrix())"
   ]
  },
  {
   "cell_type": "markdown",
   "metadata": {
    "slideshow": {
     "slide_type": "slide"
    }
   },
   "source": [
    "## <font color='steelblue'>Paired Comparisons</font>\n",
    "\n",
    "a better way to compare gasolines.\n",
    "\n",
    "Page 174 of a cartoon guide to statistics."
   ]
  },
  {
   "cell_type": "code",
   "execution_count": 86,
   "metadata": {
    "collapsed": false,
    "slideshow": {
     "slide_type": "slide"
    }
   },
   "outputs": [
    {
     "data": {
      "text/html": [
       "<div>\n",
       "<table border=\"1\" class=\"dataframe\">\n",
       "  <thead>\n",
       "    <tr style=\"text-align: right;\">\n",
       "      <th></th>\n",
       "      <th>gasa</th>\n",
       "      <th>gasb</th>\n",
       "      <th>difference</th>\n",
       "    </tr>\n",
       "  </thead>\n",
       "  <tbody>\n",
       "    <tr>\n",
       "      <th>0</th>\n",
       "      <td>27.01</td>\n",
       "      <td>26.95</td>\n",
       "      <td>0.06</td>\n",
       "    </tr>\n",
       "    <tr>\n",
       "      <th>1</th>\n",
       "      <td>20.00</td>\n",
       "      <td>20.44</td>\n",
       "      <td>-0.44</td>\n",
       "    </tr>\n",
       "    <tr>\n",
       "      <th>2</th>\n",
       "      <td>23.41</td>\n",
       "      <td>25.05</td>\n",
       "      <td>-1.64</td>\n",
       "    </tr>\n",
       "    <tr>\n",
       "      <th>3</th>\n",
       "      <td>25.22</td>\n",
       "      <td>26.32</td>\n",
       "      <td>-1.10</td>\n",
       "    </tr>\n",
       "    <tr>\n",
       "      <th>4</th>\n",
       "      <td>30.11</td>\n",
       "      <td>29.56</td>\n",
       "      <td>0.55</td>\n",
       "    </tr>\n",
       "  </tbody>\n",
       "</table>\n",
       "</div>"
      ],
      "text/plain": [
       "    gasa   gasb  difference\n",
       "0  27.01  26.95        0.06\n",
       "1  20.00  20.44       -0.44\n",
       "2  23.41  25.05       -1.64\n",
       "3  25.22  26.32       -1.10\n",
       "4  30.11  29.56        0.55"
      ]
     },
     "execution_count": 86,
     "metadata": {},
     "output_type": "execute_result"
    }
   ],
   "source": [
    "gasa = [27.01, 20, 23.41, 25.22, 30.11, 25.55, 22.23, 19.78, 33.45, 25.22]\n",
    "gasb = [26.95,20.44, 25.05, 26.32, 29.56, 26.60, 22.93, 20.23, 33.95, 26.01]\n",
    "\n",
    "dfgas = pd.DataFrame({'gasa': gasa,\n",
    "                     'gasb': gasb})\n",
    "\n",
    "dfgas['difference'] = dfgas.gasa - dfgas.gasb\n",
    "dfgas.head()"
   ]
  },
  {
   "cell_type": "code",
   "execution_count": 87,
   "metadata": {
    "collapsed": false,
    "slideshow": {
     "slide_type": "slide"
    }
   },
   "outputs": [
    {
     "data": {
      "text/html": [
       "<div>\n",
       "<table border=\"1\" class=\"dataframe\">\n",
       "  <thead>\n",
       "    <tr style=\"text-align: right;\">\n",
       "      <th></th>\n",
       "      <th>gasa</th>\n",
       "      <th>gasb</th>\n",
       "      <th>difference</th>\n",
       "    </tr>\n",
       "  </thead>\n",
       "  <tbody>\n",
       "    <tr>\n",
       "      <th>count</th>\n",
       "      <td>10.000000</td>\n",
       "      <td>10.000000</td>\n",
       "      <td>10.000000</td>\n",
       "    </tr>\n",
       "    <tr>\n",
       "      <th>mean</th>\n",
       "      <td>25.198000</td>\n",
       "      <td>25.804000</td>\n",
       "      <td>-0.606000</td>\n",
       "    </tr>\n",
       "    <tr>\n",
       "      <th>std</th>\n",
       "      <td>4.268897</td>\n",
       "      <td>4.101366</td>\n",
       "      <td>0.614278</td>\n",
       "    </tr>\n",
       "    <tr>\n",
       "      <th>min</th>\n",
       "      <td>19.780000</td>\n",
       "      <td>20.230000</td>\n",
       "      <td>-1.640000</td>\n",
       "    </tr>\n",
       "    <tr>\n",
       "      <th>25%</th>\n",
       "      <td>22.525000</td>\n",
       "      <td>23.460000</td>\n",
       "      <td>-0.985000</td>\n",
       "    </tr>\n",
       "    <tr>\n",
       "      <th>50%</th>\n",
       "      <td>25.220000</td>\n",
       "      <td>26.165000</td>\n",
       "      <td>-0.600000</td>\n",
       "    </tr>\n",
       "    <tr>\n",
       "      <th>75%</th>\n",
       "      <td>26.645000</td>\n",
       "      <td>26.862500</td>\n",
       "      <td>-0.442500</td>\n",
       "    </tr>\n",
       "    <tr>\n",
       "      <th>max</th>\n",
       "      <td>33.450000</td>\n",
       "      <td>33.950000</td>\n",
       "      <td>0.550000</td>\n",
       "    </tr>\n",
       "  </tbody>\n",
       "</table>\n",
       "</div>"
      ],
      "text/plain": [
       "            gasa       gasb  difference\n",
       "count  10.000000  10.000000   10.000000\n",
       "mean   25.198000  25.804000   -0.606000\n",
       "std     4.268897   4.101366    0.614278\n",
       "min    19.780000  20.230000   -1.640000\n",
       "25%    22.525000  23.460000   -0.985000\n",
       "50%    25.220000  26.165000   -0.600000\n",
       "75%    26.645000  26.862500   -0.442500\n",
       "max    33.450000  33.950000    0.550000"
      ]
     },
     "execution_count": 87,
     "metadata": {},
     "output_type": "execute_result"
    }
   ],
   "source": [
    "dfgas.describe()"
   ]
  },
  {
   "cell_type": "markdown",
   "metadata": {
    "slideshow": {
     "slide_type": "slide"
    }
   },
   "source": [
    "Note that the means and standard deviations of gas a and gas b are about the same. That's to be expected, since they have the same source of variability as in the unpaired experiment. But now the **difference** column has a very **small** standard deviation. The difference column, by comparing gas performance within a single car, eliminates variability between taxis."
   ]
  },
  {
   "cell_type": "code",
   "execution_count": 88,
   "metadata": {
    "collapsed": false,
    "slideshow": {
     "slide_type": "slide"
    }
   },
   "outputs": [
    {
     "data": {
      "text/plain": [
       "(Mean(statistic=-0.60600000000000021, minmax=(-1.045428193760972, -0.16657180623902845)),\n",
       " Variance(statistic=0.48514857142857271, minmax=(0.17852501991022104, 1.2576111705458453)),\n",
       " Std_dev(statistic=0.67216887467987918, minmax=(0.42252221232761367, 1.1214326420012239)))"
      ]
     },
     "execution_count": 88,
     "metadata": {},
     "output_type": "execute_result"
    }
   ],
   "source": [
    "results = stats.bayes_mvs(dfgas.difference.as_matrix(), alpha=.95)\n",
    "results"
   ]
  },
  {
   "cell_type": "markdown",
   "metadata": {
    "slideshow": {
     "slide_type": "slide"
    }
   },
   "source": [
    "So we have $-1.04 \\leq \\mu_{d} \\leq -0.166$ with 95% confidence, good evidence that Gas B really is better.\n",
    "\n",
    "The hypothesis-testing p-value can be found using a software package."
   ]
  },
  {
   "cell_type": "code",
   "execution_count": 90,
   "metadata": {
    "collapsed": false,
    "slideshow": {
     "slide_type": "slide"
    }
   },
   "outputs": [
    {
     "data": {
      "text/plain": [
       "Ttest_relResult(statistic=3.1196615512720802, pvalue=0.012325349247526556)"
      ]
     },
     "execution_count": 90,
     "metadata": {},
     "output_type": "execute_result"
    }
   ],
   "source": [
    "stats.ttest_rel(a = dfgas.gasb.as_matrix(),\n",
    "               b = dfgas.gasa.as_matrix())"
   ]
  },
  {
   "cell_type": "code",
   "execution_count": null,
   "metadata": {
    "collapsed": true
   },
   "outputs": [],
   "source": []
  }
 ],
 "metadata": {
  "celltoolbar": "Slideshow",
  "kernelspec": {
   "display_name": "Python 3",
   "language": "python",
   "name": "python3"
  },
  "language_info": {
   "codemirror_mode": {
    "name": "ipython",
    "version": 3
   },
   "file_extension": ".py",
   "mimetype": "text/x-python",
   "name": "python",
   "nbconvert_exporter": "python",
   "pygments_lexer": "ipython3",
   "version": "3.5.1"
  },
  "widgets": {
   "state": {},
   "version": "1.1.2"
  }
 },
 "nbformat": 4,
 "nbformat_minor": 0
}
